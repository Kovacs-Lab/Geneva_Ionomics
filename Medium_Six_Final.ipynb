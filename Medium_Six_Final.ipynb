{
 "cells": [
  {
   "cell_type": "code",
   "execution_count": 1,
   "metadata": {},
   "outputs": [
    {
     "name": "stderr",
     "output_type": "stream",
     "text": [
      "Installing package into 'C:/Users/2198K/Documents/R/win-library/4.0'\n",
      "(as 'lib' is unspecified)\n",
      "\n"
     ]
    },
    {
     "name": "stdout",
     "output_type": "stream",
     "text": [
      "package 'MASS' successfully unpacked and MD5 sums checked\n"
     ]
    },
    {
     "name": "stderr",
     "output_type": "stream",
     "text": [
      "Warning message:\n",
      "\"cannot remove prior installation of package 'MASS'\"\n",
      "Warning message in file.copy(savedcopy, lib, recursive = TRUE):\n",
      "\"problem copying C:\\Users\\2198K\\Documents\\R\\win-library\\4.0\\00LOCK\\MASS\\libs\\x64\\MASS.dll to C:\\Users\\2198K\\Documents\\R\\win-library\\4.0\\MASS\\libs\\x64\\MASS.dll: Permission denied\"\n",
      "Warning message:\n",
      "\"restored 'MASS'\"\n"
     ]
    },
    {
     "name": "stdout",
     "output_type": "stream",
     "text": [
      "\n",
      "The downloaded binary packages are in\n",
      "\tC:\\Users\\2198K\\AppData\\Local\\Temp\\RtmpwjXMk6\\downloaded_packages\n"
     ]
    },
    {
     "name": "stderr",
     "output_type": "stream",
     "text": [
      "Installing package into 'C:/Users/2198K/Documents/R/win-library/4.0'\n",
      "(as 'lib' is unspecified)\n",
      "\n"
     ]
    },
    {
     "name": "stdout",
     "output_type": "stream",
     "text": [
      "package 'missMDA' successfully unpacked and MD5 sums checked\n",
      "\n",
      "The downloaded binary packages are in\n",
      "\tC:\\Users\\2198K\\AppData\\Local\\Temp\\RtmpwjXMk6\\downloaded_packages\n"
     ]
    },
    {
     "name": "stderr",
     "output_type": "stream",
     "text": [
      "Installing package into 'C:/Users/2198K/Documents/R/win-library/4.0'\n",
      "(as 'lib' is unspecified)\n",
      "\n"
     ]
    },
    {
     "name": "stdout",
     "output_type": "stream",
     "text": [
      "package 'tidyverse' successfully unpacked and MD5 sums checked\n",
      "\n",
      "The downloaded binary packages are in\n",
      "\tC:\\Users\\2198K\\AppData\\Local\\Temp\\RtmpwjXMk6\\downloaded_packages\n"
     ]
    },
    {
     "name": "stderr",
     "output_type": "stream",
     "text": [
      "-- \u001b[1mAttaching packages\u001b[22m --------------------------------------- tidyverse 1.3.0 --\n",
      "\n",
      "\u001b[32mv\u001b[39m \u001b[34mggplot2\u001b[39m 3.3.2     \u001b[32mv\u001b[39m \u001b[34mpurrr  \u001b[39m 0.3.4\n",
      "\u001b[32mv\u001b[39m \u001b[34mtibble \u001b[39m 3.0.4     \u001b[32mv\u001b[39m \u001b[34mdplyr  \u001b[39m 1.0.2\n",
      "\u001b[32mv\u001b[39m \u001b[34mtidyr  \u001b[39m 1.1.2     \u001b[32mv\u001b[39m \u001b[34mstringr\u001b[39m 1.4.0\n",
      "\u001b[32mv\u001b[39m \u001b[34mreadr  \u001b[39m 1.4.0     \u001b[32mv\u001b[39m \u001b[34mforcats\u001b[39m 0.5.0\n",
      "\n",
      "-- \u001b[1mConflicts\u001b[22m ------------------------------------------ tidyverse_conflicts() --\n",
      "\u001b[31mx\u001b[39m \u001b[34mdplyr\u001b[39m::\u001b[32mfilter()\u001b[39m masks \u001b[34mstats\u001b[39m::filter()\n",
      "\u001b[31mx\u001b[39m \u001b[34mdplyr\u001b[39m::\u001b[32mlag()\u001b[39m    masks \u001b[34mstats\u001b[39m::lag()\n",
      "\u001b[31mx\u001b[39m \u001b[34mdplyr\u001b[39m::\u001b[32mselect()\u001b[39m masks \u001b[34mMASS\u001b[39m::select()\n",
      "\n",
      "Installing package into 'C:/Users/2198K/Documents/R/win-library/4.0'\n",
      "(as 'lib' is unspecified)\n",
      "\n"
     ]
    },
    {
     "name": "stdout",
     "output_type": "stream",
     "text": [
      "package 'caret' successfully unpacked and MD5 sums checked\n"
     ]
    },
    {
     "name": "stderr",
     "output_type": "stream",
     "text": [
      "Warning message:\n",
      "\"cannot remove prior installation of package 'caret'\"\n",
      "Warning message in file.copy(savedcopy, lib, recursive = TRUE):\n",
      "\"problem copying C:\\Users\\2198K\\Documents\\R\\win-library\\4.0\\00LOCK\\caret\\libs\\x64\\caret.dll to C:\\Users\\2198K\\Documents\\R\\win-library\\4.0\\caret\\libs\\x64\\caret.dll: Permission denied\"\n",
      "Warning message:\n",
      "\"restored 'caret'\"\n"
     ]
    },
    {
     "name": "stdout",
     "output_type": "stream",
     "text": [
      "\n",
      "The downloaded binary packages are in\n",
      "\tC:\\Users\\2198K\\AppData\\Local\\Temp\\RtmpwjXMk6\\downloaded_packages\n"
     ]
    },
    {
     "name": "stderr",
     "output_type": "stream",
     "text": [
      "Loading required package: lattice\n",
      "\n",
      "\n",
      "Attaching package: 'caret'\n",
      "\n",
      "\n",
      "The following object is masked from 'package:purrr':\n",
      "\n",
      "    lift\n",
      "\n",
      "\n",
      "Installing package into 'C:/Users/2198K/Documents/R/win-library/4.0'\n",
      "(as 'lib' is unspecified)\n",
      "\n"
     ]
    },
    {
     "name": "stdout",
     "output_type": "stream",
     "text": [
      "package 'mice' successfully unpacked and MD5 sums checked\n"
     ]
    },
    {
     "name": "stderr",
     "output_type": "stream",
     "text": [
      "Warning message:\n",
      "\"cannot remove prior installation of package 'mice'\"\n",
      "Warning message in file.copy(savedcopy, lib, recursive = TRUE):\n",
      "\"problem copying C:\\Users\\2198K\\Documents\\R\\win-library\\4.0\\00LOCK\\mice\\libs\\x64\\mice.dll to C:\\Users\\2198K\\Documents\\R\\win-library\\4.0\\mice\\libs\\x64\\mice.dll: Permission denied\"\n",
      "Warning message:\n",
      "\"restored 'mice'\"\n"
     ]
    },
    {
     "name": "stdout",
     "output_type": "stream",
     "text": [
      "\n",
      "The downloaded binary packages are in\n",
      "\tC:\\Users\\2198K\\AppData\\Local\\Temp\\RtmpwjXMk6\\downloaded_packages\n"
     ]
    },
    {
     "name": "stderr",
     "output_type": "stream",
     "text": [
      "\n",
      "Attaching package: 'mice'\n",
      "\n",
      "\n",
      "The following objects are masked from 'package:base':\n",
      "\n",
      "    cbind, rbind\n",
      "\n",
      "\n",
      "Installing package into 'C:/Users/2198K/Documents/R/win-library/4.0'\n",
      "(as 'lib' is unspecified)\n",
      "\n"
     ]
    },
    {
     "name": "stdout",
     "output_type": "stream",
     "text": [
      "package 'ggrepel' successfully unpacked and MD5 sums checked\n"
     ]
    },
    {
     "name": "stderr",
     "output_type": "stream",
     "text": [
      "Warning message:\n",
      "\"cannot remove prior installation of package 'ggrepel'\"\n",
      "Warning message in file.copy(savedcopy, lib, recursive = TRUE):\n",
      "\"problem copying C:\\Users\\2198K\\Documents\\R\\win-library\\4.0\\00LOCK\\ggrepel\\libs\\x64\\ggrepel.dll to C:\\Users\\2198K\\Documents\\R\\win-library\\4.0\\ggrepel\\libs\\x64\\ggrepel.dll: Permission denied\"\n",
      "Warning message:\n",
      "\"restored 'ggrepel'\"\n"
     ]
    },
    {
     "name": "stdout",
     "output_type": "stream",
     "text": [
      "\n",
      "The downloaded binary packages are in\n",
      "\tC:\\Users\\2198K\\AppData\\Local\\Temp\\RtmpwjXMk6\\downloaded_packages\n"
     ]
    },
    {
     "name": "stderr",
     "output_type": "stream",
     "text": [
      "Installing package into 'C:/Users/2198K/Documents/R/win-library/4.0'\n",
      "(as 'lib' is unspecified)\n",
      "\n"
     ]
    },
    {
     "name": "stdout",
     "output_type": "stream",
     "text": [
      "package 'pROC' successfully unpacked and MD5 sums checked\n"
     ]
    },
    {
     "name": "stderr",
     "output_type": "stream",
     "text": [
      "Warning message:\n",
      "\"cannot remove prior installation of package 'pROC'\"\n",
      "Warning message in file.copy(savedcopy, lib, recursive = TRUE):\n",
      "\"problem copying C:\\Users\\2198K\\Documents\\R\\win-library\\4.0\\00LOCK\\pROC\\libs\\x64\\pROC.dll to C:\\Users\\2198K\\Documents\\R\\win-library\\4.0\\pROC\\libs\\x64\\pROC.dll: Permission denied\"\n",
      "Warning message:\n",
      "\"restored 'pROC'\"\n"
     ]
    },
    {
     "name": "stdout",
     "output_type": "stream",
     "text": [
      "\n",
      "The downloaded binary packages are in\n",
      "\tC:\\Users\\2198K\\AppData\\Local\\Temp\\RtmpwjXMk6\\downloaded_packages\n"
     ]
    },
    {
     "name": "stderr",
     "output_type": "stream",
     "text": [
      "Type 'citation(\"pROC\")' for a citation.\n",
      "\n",
      "\n",
      "Attaching package: 'pROC'\n",
      "\n",
      "\n",
      "The following objects are masked from 'package:stats':\n",
      "\n",
      "    cov, smooth, var\n",
      "\n",
      "\n"
     ]
    }
   ],
   "source": [
    "#Installing packages and loading them into the enviroment\n",
    "install.packages(\"MASS\")\n",
    "library(\"MASS\")\n",
    "install.packages(\"missMDA\")\n",
    "library(\"missMDA\")\n",
    "install.packages(\"tidyverse\")\n",
    "library(\"tidyverse\")\n",
    "install.packages(\"caret\")\n",
    "library(\"caret\")\n",
    "install.packages(\"mice\")\n",
    "library(\"mice\")\n",
    "install.packages(\"ggrepel\")\n",
    "library(\"ggrepel\")\n",
    "install.packages(\"pROC\")\n",
    "library(\"pROC\")"
   ]
  },
  {
   "cell_type": "code",
   "execution_count": 2,
   "metadata": {},
   "outputs": [],
   "source": [
    "#Loading all needed files,dropping first two coloumns, which are not needed for analysis (ID, species)\n",
    "ionomics <- read.csv('spec_woAestPalm_xyz_concat.csv', colClasses =c(\"NULL\",\"NULL\",NA,NA,NA,NA,NA,NA,NA,NA,NA,NA,NA,NA,NA,\n",
    "                                                                    NA,NA,NA,NA,NA,NA,NA))\n",
    "hybrids <- read.csv('spec_shoot_xyz_concat_unk_only.csv', colClasses = c(\"NULL\",NA,NA,NA,NA,NA,NA,NA,NA,NA,NA,NA,NA,NA,NA,\n",
    "                                                                    NA,NA,NA,NA,NA,NA,NA))\n",
    "\n",
    "#Imputation via missMDA\n",
    "imputeIonomics <- imputePCA(ionomics, method = \"Regularized\")"
   ]
  },
  {
   "cell_type": "code",
   "execution_count": 3,
   "metadata": {},
   "outputs": [
    {
     "name": "stdout",
     "output_type": "stream",
     "text": [
      "\n",
      " iter imp variable\n",
      "  1   1  S34_X\n",
      "  2   1  S34_X\n",
      "  3   1  S34_X\n",
      "  4   1  S34_X\n",
      "  5   1  S34_X\n"
     ]
    }
   ],
   "source": [
    "#Imputation via Mice\n",
    "# TODO add in fit graphics and missing data quantification\n",
    "temp <- mice(ionomics, m = 1, maxit = 5, method = \"norm.boot\", seed = 567)\n",
    "ionomicsComplete <- complete(temp,1)"
   ]
  },
  {
   "cell_type": "code",
   "execution_count": 4,
   "metadata": {},
   "outputs": [
    {
     "data": {
      "text/html": [
       "0.811554394258161"
      ],
      "text/latex": [
       "0.811554394258161"
      ],
      "text/markdown": [
       "0.811554394258161"
      ],
      "text/plain": [
       "Multi-class area under the curve: 0.8116"
      ]
     },
     "metadata": {},
     "output_type": "display_data"
    },
    {
     "data": {
      "text/html": [
       "0.785035035035035"
      ],
      "text/latex": [
       "0.785035035035035"
      ],
      "text/markdown": [
       "0.785035035035035"
      ],
      "text/plain": [
       "[1] 0.785035"
      ]
     },
     "metadata": {},
     "output_type": "display_data"
    }
   ],
   "source": [
    "#data imputed with missMDA regularized method\n",
    "mean.impute <- 0 #Start our average with 0\n",
    "auc <- 0\n",
    "for (x in 1:1000){ # run 1000 permutations\n",
    "    set.seed(x) #cycle through many random generator seeds\n",
    "    training.samples.impute <- imputeIonomics$completeObs[,2] %>%\n",
    "        createDataPartition(p = 0.8, list = FALSE) #split the data into training (80%) and testing (20%)\n",
    "    train.data.impute <- imputeIonomics$completeObs[training.samples.impute, ] #generate training set\n",
    "    test.data.impute <- imputeIonomics$completeObs[-training.samples.impute, ] #generate test set\n",
    "    train.data.impute <- unlist(train.data.impute) #typecast from matrix into dataframe\n",
    "    test.data.impute <- unlist(test.data.impute)\n",
    "    train.data.impute <- as.data.frame(train.data.impute)\n",
    "    test.data.impute <- as.data.frame(test.data.impute)\n",
    "    model.impute <- lda(spec_as_int~., data = train.data.impute) #generate the LDA model\n",
    "    predictions.impute <- model.impute %>% predict(test.data.impute) #predict the species of individuals in our test set based off of this model\n",
    "    mean.impute = mean.impute + mean(predictions.impute$class==test.data.impute$spec_as_int) #measure how often this prediction is correct, then add it to a running total\n",
    "    m.roc <- multiclass.roc(test.data.impute$spec_as_int, as.numeric(predictions.impute$class), direction = \"<\") #measures area under the curve for classifier metric accuracy\n",
    "    auc <- auc + m.roc$auc\n",
    "}\n",
    "mean.impute = mean.impute/999 #divide running total by number of runs to find our average\n",
    "auc <- auc/999\n",
    "auc #print the AUC average to the screen\n",
    "mean.impute #print the LDA model average to the screen"
   ]
  },
  {
   "cell_type": "code",
   "execution_count": 5,
   "metadata": {},
   "outputs": [
    {
     "data": {
      "text/html": [
       "<table>\n",
       "<caption>A matrix: 6 × 11 of type dbl</caption>\n",
       "<thead>\n",
       "\t<tr><th></th><th scope=col>Sensitivity</th><th scope=col>Specificity</th><th scope=col>Pos Pred Value</th><th scope=col>Neg Pred Value</th><th scope=col>Precision</th><th scope=col>Recall</th><th scope=col>F1</th><th scope=col>Prevalence</th><th scope=col>Detection Rate</th><th scope=col>Detection Prevalence</th><th scope=col>Balanced Accuracy</th></tr>\n",
       "</thead>\n",
       "<tbody>\n",
       "\t<tr><th scope=row>Class: 1</th><td>1.0010010</td><td>0.9706676</td><td>0.7507508</td><td>1.0010010</td><td>0.7507508</td><td>1.0010010</td><td>0.8580009</td><td>0.08341675</td><td>0.08341675</td><td>0.11122233</td><td>0.9858343</td></tr>\n",
       "\t<tr><th scope=row>Class: 3</th><td>0.8341675</td><td>1.0010010</td><td>1.0010010</td><td>0.9687106</td><td>1.0010010</td><td>0.8341675</td><td>0.9100009</td><td>0.16683350</td><td>0.13902792</td><td>0.13902792</td><td>0.9175843</td></tr>\n",
       "\t<tr><th scope=row>Class: 4</th><td>1.0010010</td><td>0.9664837</td><td>0.8758759</td><td>1.0010010</td><td>0.8758759</td><td>1.0010010</td><td>0.9342676</td><td>0.19463908</td><td>0.19463908</td><td>0.22244467</td><td>0.9837424</td></tr>\n",
       "\t<tr><th scope=row>Class: 6</th><td>0.9175843</td><td>0.9592926</td><td>0.9175843</td><td>0.9592926</td><td>0.9175843</td><td>0.9175843</td><td>0.9175843</td><td>0.33366700</td><td>0.30586142</td><td>0.33366700</td><td>0.9384384</td></tr>\n",
       "\t<tr><th scope=row>Class: 7</th><td>0.7150007</td><td>1.0010010</td><td>1.0010010</td><td>0.9364203</td><td>1.0010010</td><td>0.7150007</td><td>0.8341675</td><td>0.19463908</td><td>0.13902792</td><td>0.13902792</td><td>0.8580009</td></tr>\n",
       "\t<tr><th scope=row>Class: 8</th><td>1.0010010</td><td>0.9724010</td><td>0.5005005</td><td>1.0010010</td><td>0.5005005</td><td>1.0010010</td><td>0.6673340</td><td>0.02780558</td><td>0.02780558</td><td>0.05561117</td><td>0.9867010</td></tr>\n",
       "</tbody>\n",
       "</table>\n"
      ],
      "text/latex": [
       "A matrix: 6 × 11 of type dbl\n",
       "\\begin{tabular}{r|lllllllllll}\n",
       "  & Sensitivity & Specificity & Pos Pred Value & Neg Pred Value & Precision & Recall & F1 & Prevalence & Detection Rate & Detection Prevalence & Balanced Accuracy\\\\\n",
       "\\hline\n",
       "\tClass: 1 & 1.0010010 & 0.9706676 & 0.7507508 & 1.0010010 & 0.7507508 & 1.0010010 & 0.8580009 & 0.08341675 & 0.08341675 & 0.11122233 & 0.9858343\\\\\n",
       "\tClass: 3 & 0.8341675 & 1.0010010 & 1.0010010 & 0.9687106 & 1.0010010 & 0.8341675 & 0.9100009 & 0.16683350 & 0.13902792 & 0.13902792 & 0.9175843\\\\\n",
       "\tClass: 4 & 1.0010010 & 0.9664837 & 0.8758759 & 1.0010010 & 0.8758759 & 1.0010010 & 0.9342676 & 0.19463908 & 0.19463908 & 0.22244467 & 0.9837424\\\\\n",
       "\tClass: 6 & 0.9175843 & 0.9592926 & 0.9175843 & 0.9592926 & 0.9175843 & 0.9175843 & 0.9175843 & 0.33366700 & 0.30586142 & 0.33366700 & 0.9384384\\\\\n",
       "\tClass: 7 & 0.7150007 & 1.0010010 & 1.0010010 & 0.9364203 & 1.0010010 & 0.7150007 & 0.8341675 & 0.19463908 & 0.13902792 & 0.13902792 & 0.8580009\\\\\n",
       "\tClass: 8 & 1.0010010 & 0.9724010 & 0.5005005 & 1.0010010 & 0.5005005 & 1.0010010 & 0.6673340 & 0.02780558 & 0.02780558 & 0.05561117 & 0.9867010\\\\\n",
       "\\end{tabular}\n"
      ],
      "text/markdown": [
       "\n",
       "A matrix: 6 × 11 of type dbl\n",
       "\n",
       "| <!--/--> | Sensitivity | Specificity | Pos Pred Value | Neg Pred Value | Precision | Recall | F1 | Prevalence | Detection Rate | Detection Prevalence | Balanced Accuracy |\n",
       "|---|---|---|---|---|---|---|---|---|---|---|---|\n",
       "| Class: 1 | 1.0010010 | 0.9706676 | 0.7507508 | 1.0010010 | 0.7507508 | 1.0010010 | 0.8580009 | 0.08341675 | 0.08341675 | 0.11122233 | 0.9858343 |\n",
       "| Class: 3 | 0.8341675 | 1.0010010 | 1.0010010 | 0.9687106 | 1.0010010 | 0.8341675 | 0.9100009 | 0.16683350 | 0.13902792 | 0.13902792 | 0.9175843 |\n",
       "| Class: 4 | 1.0010010 | 0.9664837 | 0.8758759 | 1.0010010 | 0.8758759 | 1.0010010 | 0.9342676 | 0.19463908 | 0.19463908 | 0.22244467 | 0.9837424 |\n",
       "| Class: 6 | 0.9175843 | 0.9592926 | 0.9175843 | 0.9592926 | 0.9175843 | 0.9175843 | 0.9175843 | 0.33366700 | 0.30586142 | 0.33366700 | 0.9384384 |\n",
       "| Class: 7 | 0.7150007 | 1.0010010 | 1.0010010 | 0.9364203 | 1.0010010 | 0.7150007 | 0.8341675 | 0.19463908 | 0.13902792 | 0.13902792 | 0.8580009 |\n",
       "| Class: 8 | 1.0010010 | 0.9724010 | 0.5005005 | 1.0010010 | 0.5005005 | 1.0010010 | 0.6673340 | 0.02780558 | 0.02780558 | 0.05561117 | 0.9867010 |\n",
       "\n"
      ],
      "text/plain": [
       "         Sensitivity Specificity Pos Pred Value Neg Pred Value Precision\n",
       "Class: 1 1.0010010   0.9706676   0.7507508      1.0010010      0.7507508\n",
       "Class: 3 0.8341675   1.0010010   1.0010010      0.9687106      1.0010010\n",
       "Class: 4 1.0010010   0.9664837   0.8758759      1.0010010      0.8758759\n",
       "Class: 6 0.9175843   0.9592926   0.9175843      0.9592926      0.9175843\n",
       "Class: 7 0.7150007   1.0010010   1.0010010      0.9364203      1.0010010\n",
       "Class: 8 1.0010010   0.9724010   0.5005005      1.0010010      0.5005005\n",
       "         Recall    F1        Prevalence Detection Rate Detection Prevalence\n",
       "Class: 1 1.0010010 0.8580009 0.08341675 0.08341675     0.11122233          \n",
       "Class: 3 0.8341675 0.9100009 0.16683350 0.13902792     0.13902792          \n",
       "Class: 4 1.0010010 0.9342676 0.19463908 0.19463908     0.22244467          \n",
       "Class: 6 0.9175843 0.9175843 0.33366700 0.30586142     0.33366700          \n",
       "Class: 7 0.7150007 0.8341675 0.19463908 0.13902792     0.13902792          \n",
       "Class: 8 1.0010010 0.6673340 0.02780558 0.02780558     0.05561117          \n",
       "         Balanced Accuracy\n",
       "Class: 1 0.9858343        \n",
       "Class: 3 0.9175843        \n",
       "Class: 4 0.9837424        \n",
       "Class: 6 0.9384384        \n",
       "Class: 7 0.8580009        \n",
       "Class: 8 0.9867010        "
      ]
     },
     "metadata": {},
     "output_type": "display_data"
    }
   ],
   "source": [
    "#data imputed with missMDA regularized method\n",
    "cm = 0 #start our average with 0\n",
    "for (x in 1:1000){ # run 1000 permutations\n",
    "    set.seed(x) #cycle through many random generator seeds\n",
    "    missMDA.cm <- confusionMatrix(data=as.factor(predictions.impute$class), reference = as.factor(test.data.impute$spec_as_int), dnn = c(\"Prediction\", \"Reference\"), prevalence = NULL, mode=\"everything\") #generate confusion matrix\n",
    "    cm <- missMDA.cm$byClass + cm #add average to classifier metrics\n",
    "}\n",
    "cm = cm/999 #divide running total by number of runs to find our average AUC accuracy\n",
    "cm #print the missMDA imputed classifier metrics average to the screen"
   ]
  },
  {
   "cell_type": "code",
   "execution_count": 6,
   "metadata": {},
   "outputs": [
    {
     "data": {
      "text/html": [
       "0.811671382889283"
      ],
      "text/latex": [
       "0.811671382889283"
      ],
      "text/markdown": [
       "0.811671382889283"
      ],
      "text/plain": [
       "Multi-class area under the curve: 0.8117"
      ]
     },
     "metadata": {},
     "output_type": "display_data"
    },
    {
     "data": {
      "text/html": [
       "0.785007229451674"
      ],
      "text/latex": [
       "0.785007229451674"
      ],
      "text/markdown": [
       "0.785007229451674"
      ],
      "text/plain": [
       "[1] 0.7850072"
      ]
     },
     "metadata": {},
     "output_type": "display_data"
    }
   ],
   "source": [
    "#data imputed with mice, norm.boot method\n",
    "mean.mice = 0 #Start our average with 0\n",
    "auc = 0\n",
    "for (x in 1:1000){ #run 10000 permutations\n",
    "    set.seed(x)  #cycle through many random generator seeds\n",
    "    training.samples.mice <- ionomicsComplete[,2] %>%\n",
    "        createDataPartition(p = 0.8, list = FALSE) #split the data into training (80%) and testing (20%)\n",
    "    train.data.mice <- ionomicsComplete[training.samples.mice, ] #generate training set\n",
    "    test.data.mice <- ionomicsComplete[-training.samples.mice, ] #generate test set\n",
    "    model.mice <- lda(spec_as_int~., data = train.data.mice) #generate the LDA model\n",
    "    predictions.mice <- model.mice %>% predict(test.data.mice) #predict the species of individuals in our test set based off of this model\n",
    "    mean.mice = mean.mice + mean(predictions.mice$class==test.data.mice$spec_as_int) #measure how often this prediction is correct, then add it to a running total\n",
    "    m.roc <- multiclass.roc(test.data.mice$spec_as_int, as.numeric(predictions.mice$class), direction = \"<\") #measures area under the curve for classifier metric accuracy\n",
    "    auc <- auc + m.roc$auc\n",
    "}\n",
    "mean.mice = mean.mice/999 #divide running total by number of runs to find our average LDA model accuracy\n",
    "auc <- auc/999 #divide running total by number of runs to find our average AUC accuracy\n",
    "auc #print the AUC average to the screen\n",
    "mean.mice #print the LDA model average to the screen"
   ]
  },
  {
   "cell_type": "code",
   "execution_count": 7,
   "metadata": {},
   "outputs": [
    {
     "data": {
      "text/html": [
       "<table>\n",
       "<caption>A matrix: 6 × 11 of type dbl</caption>\n",
       "<thead>\n",
       "\t<tr><th></th><th scope=col>Sensitivity</th><th scope=col>Specificity</th><th scope=col>Pos Pred Value</th><th scope=col>Neg Pred Value</th><th scope=col>Precision</th><th scope=col>Recall</th><th scope=col>F1</th><th scope=col>Prevalence</th><th scope=col>Detection Rate</th><th scope=col>Detection Prevalence</th><th scope=col>Balanced Accuracy</th></tr>\n",
       "</thead>\n",
       "<tbody>\n",
       "\t<tr><th scope=row>Class: 1</th><td>1.0010010</td><td>0.9706676</td><td>0.7507508</td><td>1.0010010</td><td>0.7507508</td><td>1.0010010</td><td>0.8580009</td><td>0.08341675</td><td>0.08341675</td><td>0.11122233</td><td>0.9858343</td></tr>\n",
       "\t<tr><th scope=row>Class: 3</th><td>0.8341675</td><td>1.0010010</td><td>1.0010010</td><td>0.9687106</td><td>1.0010010</td><td>0.8341675</td><td>0.9100009</td><td>0.16683350</td><td>0.13902792</td><td>0.13902792</td><td>0.9175843</td></tr>\n",
       "\t<tr><th scope=row>Class: 4</th><td>1.0010010</td><td>0.9664837</td><td>0.8758759</td><td>1.0010010</td><td>0.8758759</td><td>1.0010010</td><td>0.9342676</td><td>0.19463908</td><td>0.19463908</td><td>0.22244467</td><td>0.9837424</td></tr>\n",
       "\t<tr><th scope=row>Class: 6</th><td>0.9175843</td><td>0.9592926</td><td>0.9175843</td><td>0.9592926</td><td>0.9175843</td><td>0.9175843</td><td>0.9175843</td><td>0.33366700</td><td>0.30586142</td><td>0.33366700</td><td>0.9384384</td></tr>\n",
       "\t<tr><th scope=row>Class: 7</th><td>0.7150007</td><td>1.0010010</td><td>1.0010010</td><td>0.9364203</td><td>1.0010010</td><td>0.7150007</td><td>0.8341675</td><td>0.19463908</td><td>0.13902792</td><td>0.13902792</td><td>0.8580009</td></tr>\n",
       "\t<tr><th scope=row>Class: 8</th><td>1.0010010</td><td>0.9724010</td><td>0.5005005</td><td>1.0010010</td><td>0.5005005</td><td>1.0010010</td><td>0.6673340</td><td>0.02780558</td><td>0.02780558</td><td>0.05561117</td><td>0.9867010</td></tr>\n",
       "</tbody>\n",
       "</table>\n"
      ],
      "text/latex": [
       "A matrix: 6 × 11 of type dbl\n",
       "\\begin{tabular}{r|lllllllllll}\n",
       "  & Sensitivity & Specificity & Pos Pred Value & Neg Pred Value & Precision & Recall & F1 & Prevalence & Detection Rate & Detection Prevalence & Balanced Accuracy\\\\\n",
       "\\hline\n",
       "\tClass: 1 & 1.0010010 & 0.9706676 & 0.7507508 & 1.0010010 & 0.7507508 & 1.0010010 & 0.8580009 & 0.08341675 & 0.08341675 & 0.11122233 & 0.9858343\\\\\n",
       "\tClass: 3 & 0.8341675 & 1.0010010 & 1.0010010 & 0.9687106 & 1.0010010 & 0.8341675 & 0.9100009 & 0.16683350 & 0.13902792 & 0.13902792 & 0.9175843\\\\\n",
       "\tClass: 4 & 1.0010010 & 0.9664837 & 0.8758759 & 1.0010010 & 0.8758759 & 1.0010010 & 0.9342676 & 0.19463908 & 0.19463908 & 0.22244467 & 0.9837424\\\\\n",
       "\tClass: 6 & 0.9175843 & 0.9592926 & 0.9175843 & 0.9592926 & 0.9175843 & 0.9175843 & 0.9175843 & 0.33366700 & 0.30586142 & 0.33366700 & 0.9384384\\\\\n",
       "\tClass: 7 & 0.7150007 & 1.0010010 & 1.0010010 & 0.9364203 & 1.0010010 & 0.7150007 & 0.8341675 & 0.19463908 & 0.13902792 & 0.13902792 & 0.8580009\\\\\n",
       "\tClass: 8 & 1.0010010 & 0.9724010 & 0.5005005 & 1.0010010 & 0.5005005 & 1.0010010 & 0.6673340 & 0.02780558 & 0.02780558 & 0.05561117 & 0.9867010\\\\\n",
       "\\end{tabular}\n"
      ],
      "text/markdown": [
       "\n",
       "A matrix: 6 × 11 of type dbl\n",
       "\n",
       "| <!--/--> | Sensitivity | Specificity | Pos Pred Value | Neg Pred Value | Precision | Recall | F1 | Prevalence | Detection Rate | Detection Prevalence | Balanced Accuracy |\n",
       "|---|---|---|---|---|---|---|---|---|---|---|---|\n",
       "| Class: 1 | 1.0010010 | 0.9706676 | 0.7507508 | 1.0010010 | 0.7507508 | 1.0010010 | 0.8580009 | 0.08341675 | 0.08341675 | 0.11122233 | 0.9858343 |\n",
       "| Class: 3 | 0.8341675 | 1.0010010 | 1.0010010 | 0.9687106 | 1.0010010 | 0.8341675 | 0.9100009 | 0.16683350 | 0.13902792 | 0.13902792 | 0.9175843 |\n",
       "| Class: 4 | 1.0010010 | 0.9664837 | 0.8758759 | 1.0010010 | 0.8758759 | 1.0010010 | 0.9342676 | 0.19463908 | 0.19463908 | 0.22244467 | 0.9837424 |\n",
       "| Class: 6 | 0.9175843 | 0.9592926 | 0.9175843 | 0.9592926 | 0.9175843 | 0.9175843 | 0.9175843 | 0.33366700 | 0.30586142 | 0.33366700 | 0.9384384 |\n",
       "| Class: 7 | 0.7150007 | 1.0010010 | 1.0010010 | 0.9364203 | 1.0010010 | 0.7150007 | 0.8341675 | 0.19463908 | 0.13902792 | 0.13902792 | 0.8580009 |\n",
       "| Class: 8 | 1.0010010 | 0.9724010 | 0.5005005 | 1.0010010 | 0.5005005 | 1.0010010 | 0.6673340 | 0.02780558 | 0.02780558 | 0.05561117 | 0.9867010 |\n",
       "\n"
      ],
      "text/plain": [
       "         Sensitivity Specificity Pos Pred Value Neg Pred Value Precision\n",
       "Class: 1 1.0010010   0.9706676   0.7507508      1.0010010      0.7507508\n",
       "Class: 3 0.8341675   1.0010010   1.0010010      0.9687106      1.0010010\n",
       "Class: 4 1.0010010   0.9664837   0.8758759      1.0010010      0.8758759\n",
       "Class: 6 0.9175843   0.9592926   0.9175843      0.9592926      0.9175843\n",
       "Class: 7 0.7150007   1.0010010   1.0010010      0.9364203      1.0010010\n",
       "Class: 8 1.0010010   0.9724010   0.5005005      1.0010010      0.5005005\n",
       "         Recall    F1        Prevalence Detection Rate Detection Prevalence\n",
       "Class: 1 1.0010010 0.8580009 0.08341675 0.08341675     0.11122233          \n",
       "Class: 3 0.8341675 0.9100009 0.16683350 0.13902792     0.13902792          \n",
       "Class: 4 1.0010010 0.9342676 0.19463908 0.19463908     0.22244467          \n",
       "Class: 6 0.9175843 0.9175843 0.33366700 0.30586142     0.33366700          \n",
       "Class: 7 0.7150007 0.8341675 0.19463908 0.13902792     0.13902792          \n",
       "Class: 8 1.0010010 0.6673340 0.02780558 0.02780558     0.05561117          \n",
       "         Balanced Accuracy\n",
       "Class: 1 0.9858343        \n",
       "Class: 3 0.9175843        \n",
       "Class: 4 0.9837424        \n",
       "Class: 6 0.9384384        \n",
       "Class: 7 0.8580009        \n",
       "Class: 8 0.9867010        "
      ]
     },
     "metadata": {},
     "output_type": "display_data"
    }
   ],
   "source": [
    "#data imputed with mice, norm.boot method\n",
    "cm = 0 #start our average with 0\n",
    "for (x in 1:1000){ # run 1000 permutations\n",
    "    set.seed(x) #cycle through many random generator seeds\n",
    "    mice.cm <- confusionMatrix(data=as.factor(predictions.mice$class), reference = as.factor(test.data.mice$spec_as_int), dnn = c(\"Prediction\", \"Reference\"), prevalence = NULL, mode=\"everything\") #generate confustion matrix\n",
    "    cm <- mice.cm$byClass + cm #add average to classifier metrics\n",
    "}\n",
    "cm = cm/999 #divide running total by number of runs to find our average AUC accuracy\n",
    "cm #print the mice imputed classifier metrics average to the screen"
   ]
  },
  {
   "cell_type": "markdown",
   "metadata": {},
   "source": [
    "|species|spec_as_int|\n",
    "|---|---|\n",
    "|acerifolia_x|1|\n",
    "|cinerea_x|3|\n",
    "|labrusca_x|4|\n",
    "|riparia_x|6|\n",
    "|rupestris_x|7|\n",
    "|vulpina_x|8|"
   ]
  },
  {
   "cell_type": "code",
   "execution_count": 8,
   "metadata": {},
   "outputs": [],
   "source": [
    "df.impute <- as.data.frame(unlist(imputeIonomics$completeObs))\n",
    "lda.impute <- lda(spec_as_int~., data = df.impute)\n",
    "pred.impute <- predict(lda.impute)\n",
    "pred.hybrids <- lda.impute %>% predict(hybrids)"
   ]
  },
  {
   "cell_type": "code",
   "execution_count": 9,
   "metadata": {},
   "outputs": [],
   "source": [
    "viz.impute <- data.frame(spec = df.impute[1], lda = pred.impute$x)\n",
    "viz.hybrids <- data.frame(spec = hybrids[2], lda = pred.hybrids$x)\n",
    "viz.impute$spec = as.factor(viz.impute$spec)\n",
    "viz.hybrids$spec = as.factor(viz.hybrids$spec)\n",
    "row.names(viz.hybrids) = unlist(hybrids[1])"
   ]
  },
  {
   "cell_type": "code",
   "execution_count": 10,
   "metadata": {},
   "outputs": [
    {
     "name": "stderr",
     "output_type": "stream",
     "text": [
      "Scale for 'fill' is already present. Adding another scale for 'fill', which\n",
      "will replace the existing scale.\n",
      "\n",
      "Saving 6.67 x 6.67 in image\n",
      "\n"
     ]
    },
    {
     "data": {
      "image/png": "[encoded data removed]",
      "text/plain": [
       "plot without title"
      ]
     },
     "metadata": {
      "image/png": {
       "height": 420,
       "width": 420
      }
     },
     "output_type": "display_data"
    }
   ],
   "source": [
    "p <- ggplot(data = NULL) \n",
    "p <- p + stat_ellipse(data = viz.impute, aes(x = lda.LD1, y = lda.LD2, color = spec, fill = spec),geom = \"polygon\", alpha = .25) \n",
    "p <- p + geom_point(data = viz.hybrids, aes(x = lda.LD1, y = lda.LD2, color = spec))\n",
    "p <- p + scale_color_viridis_d(aesthetics = \"fill\")\n",
    "p <- p + scale_color_viridis_d(aesthetics = \"color\")\n",
    "p <- p + theme_bw()\n",
    "p <- p + xlab(\"LD1\")\n",
    "p <- p + ylab(\"LD2\")\n",
    "p <- p + labs(title = \"Linear Discriminant Analysis Plot 6 Species\")\n",
    "p <- p + theme(plot.title = element_text(hjust = .55), legend.text = element_text(face = \"italic\"))\n",
    "p <- p + scale_fill_discrete(name = \"Species\", labels = c(\"V. acerifolia\",\"V. cinerea\",\"V. labrusca\",\"V. riparia\",\"V. rupestris\",\"V. vulpina\"))\n",
    "p <- p + guides(color = FALSE)\n",
    "p <- p + geom_text_repel(aes(x = viz.hybrids$lda.LD1, y = viz.hybrids$lda.LD2), label = rownames(viz.hybrids), vjust = \"inward\",\n",
    "                 hjust = \"inward\")\n",
    "p\n",
    "ggsave(filename = \"LDA_Six.jpg\", dpi = \"retina\")"
   ]
  },
  {
   "cell_type": "code",
   "execution_count": 11,
   "metadata": {},
   "outputs": [
    {
     "data": {
      "text/plain": [
       "Confusion Matrix and Statistics\n",
       "\n",
       "          Reference\n",
       "Prediction  1  3  4  6  7  8\n",
       "         1  3  0  0  1  0  0\n",
       "         3  0  5  0  0  0  0\n",
       "         4  0  0  7  0  1  0\n",
       "         6  0  0  0 11  1  0\n",
       "         7  0  0  0  0  5  0\n",
       "         8  0  1  0  0  0  1\n",
       "\n",
       "Overall Statistics\n",
       "                                          \n",
       "               Accuracy : 0.8889          \n",
       "                 95% CI : (0.7394, 0.9689)\n",
       "    No Information Rate : 0.3333          \n",
       "    P-Value [Acc > NIR] : 6.677e-12       \n",
       "                                          \n",
       "                  Kappa : 0.8584          \n",
       "                                          \n",
       " Mcnemar's Test P-Value : NA              \n",
       "\n",
       "Statistics by Class:\n",
       "\n",
       "                     Class: 1 Class: 3 Class: 4 Class: 6 Class: 7 Class: 8\n",
       "Sensitivity           1.00000   0.8333   1.0000   0.9167   0.7143  1.00000\n",
       "Specificity           0.96970   1.0000   0.9655   0.9583   1.0000  0.97143\n",
       "Pos Pred Value        0.75000   1.0000   0.8750   0.9167   1.0000  0.50000\n",
       "Neg Pred Value        1.00000   0.9677   1.0000   0.9583   0.9355  1.00000\n",
       "Precision             0.75000   1.0000   0.8750   0.9167   1.0000  0.50000\n",
       "Recall                1.00000   0.8333   1.0000   0.9167   0.7143  1.00000\n",
       "F1                    0.85714   0.9091   0.9333   0.9167   0.8333  0.66667\n",
       "Prevalence            0.08333   0.1667   0.1944   0.3333   0.1944  0.02778\n",
       "Detection Rate        0.08333   0.1389   0.1944   0.3056   0.1389  0.02778\n",
       "Detection Prevalence  0.11111   0.1389   0.2222   0.3333   0.1389  0.05556\n",
       "Balanced Accuracy     0.98485   0.9167   0.9828   0.9375   0.8571  0.98571"
      ]
     },
     "metadata": {},
     "output_type": "display_data"
    }
   ],
   "source": [
    "#mice data\n",
    "confusionMatrix( data=as.factor(predictions.mice$class), reference = as.factor(test.data.mice$spec_as_int), dnn = c(\"Prediction\", \"Reference\"), prevalence = NULL, mode=\"everything\")"
   ]
  },
  {
   "cell_type": "code",
   "execution_count": 12,
   "metadata": {},
   "outputs": [
    {
     "data": {
      "text/plain": [
       "Confusion Matrix and Statistics\n",
       "\n",
       "          Reference\n",
       "Prediction  1  3  4  6  7  8\n",
       "         1  3  0  0  1  0  0\n",
       "         3  0  5  0  0  0  0\n",
       "         4  0  0  7  0  1  0\n",
       "         6  0  0  0 11  1  0\n",
       "         7  0  0  0  0  5  0\n",
       "         8  0  1  0  0  0  1\n",
       "\n",
       "Overall Statistics\n",
       "                                          \n",
       "               Accuracy : 0.8889          \n",
       "                 95% CI : (0.7394, 0.9689)\n",
       "    No Information Rate : 0.3333          \n",
       "    P-Value [Acc > NIR] : 6.677e-12       \n",
       "                                          \n",
       "                  Kappa : 0.8584          \n",
       "                                          \n",
       " Mcnemar's Test P-Value : NA              \n",
       "\n",
       "Statistics by Class:\n",
       "\n",
       "                     Class: 1 Class: 3 Class: 4 Class: 6 Class: 7 Class: 8\n",
       "Sensitivity           1.00000   0.8333   1.0000   0.9167   0.7143  1.00000\n",
       "Specificity           0.96970   1.0000   0.9655   0.9583   1.0000  0.97143\n",
       "Pos Pred Value        0.75000   1.0000   0.8750   0.9167   1.0000  0.50000\n",
       "Neg Pred Value        1.00000   0.9677   1.0000   0.9583   0.9355  1.00000\n",
       "Precision             0.75000   1.0000   0.8750   0.9167   1.0000  0.50000\n",
       "Recall                1.00000   0.8333   1.0000   0.9167   0.7143  1.00000\n",
       "F1                    0.85714   0.9091   0.9333   0.9167   0.8333  0.66667\n",
       "Prevalence            0.08333   0.1667   0.1944   0.3333   0.1944  0.02778\n",
       "Detection Rate        0.08333   0.1389   0.1944   0.3056   0.1389  0.02778\n",
       "Detection Prevalence  0.11111   0.1389   0.2222   0.3333   0.1389  0.05556\n",
       "Balanced Accuracy     0.98485   0.9167   0.9828   0.9375   0.8571  0.98571"
      ]
     },
     "metadata": {},
     "output_type": "display_data"
    }
   ],
   "source": [
    "#missMDA data\n",
    "confusionMatrix( data=as.factor(predictions.impute$class), reference = as.factor(test.data.impute$spec_as_int), dnn = c(\"Prediction\", \"Reference\"), prevalence = NULL, mode=\"everything\")"
   ]
  }
 ],
 "metadata": {
  "kernelspec": {
   "display_name": "R",
   "language": "R",
   "name": "ir"
  },
  "language_info": {
   "codemirror_mode": "r",
   "file_extension": ".r",
   "mimetype": "text/x-r-source",
   "name": "R",
   "pygments_lexer": "r",
   "version": "4.0.3"
  }
 },
 "nbformat": 4,
 "nbformat_minor": 4
}
