{
 "cells": [
  {
   "cell_type": "code",
   "execution_count": 1,
   "id": "44c6e46f-8499-4a8f-9b2c-d7edf69195aa",
   "metadata": {},
   "outputs": [],
   "source": [
    "import pandas as pd"
   ]
  },
  {
   "cell_type": "code",
   "execution_count": 39,
   "id": "7532974a-3a08-4ae7-9ea1-06a66c6e3615",
   "metadata": {},
   "outputs": [],
   "source": [
    "aestivalis = pd.read_excel(io = \"GBIF.xlsx\",sheet_name = \"Aestivalis\",header = 0)\n",
    "acerifolia = pd.read_excel(io = \"GBIF.xlsx\",sheet_name = \"Acerifolia\",header = 0)\n",
    "cinerea = pd.read_excel(io = \"GBIF.xlsx\",sheet_name = \"Cinerea\",header = 0)\n",
    "palmata = pd.read_excel(io = \"GBIF.xlsx\",sheet_name = \"Palmata\",header = 0)\n",
    "riparia = pd.read_excel(io = \"GBIF.xlsx\",sheet_name = \"Riparia\",header = 0)\n",
    "rupestris = pd.read_excel(io = \"GBIF.xlsx\",sheet_name = \"Rupestris\",header = 0)\n",
    "vulpina = pd.read_excel(io = \"GBIF.xlsx\",sheet_name = \"Vulpina\",header = 0)"
   ]
  },
  {
   "cell_type": "code",
   "execution_count": 40,
   "id": "68967efb-d601-4b68-8df8-ef67e1d4c10f",
   "metadata": {},
   "outputs": [],
   "source": [
    "for x in range(len(aestivalis)):\n",
    "    if(aestivalis.loc[x,\"individualCount\"] != 1):\n",
    "        for x in range(aestivalis.loc[x,\"individualCount\"]):\n",
    "            aestivalis = aestivalis.append(aestivalis.iloc[x],ignore_index = True)"
   ]
  },
  {
   "cell_type": "code",
   "execution_count": 41,
   "id": "7d88d07a-6423-4b8b-b1a6-c568e9b11b9a",
   "metadata": {},
   "outputs": [],
   "source": [
    "for x in range(len(acerifolia)):\n",
    "    if(acerifolia.loc[x,\"individualCount\"] != 1):\n",
    "        for x in range(acerifolia.loc[x,\"individualCount\"]):\n",
    "            acerifolia = acerifolia.append(acerifolia.iloc[x],ignore_index = True)"
   ]
  },
  {
   "cell_type": "code",
   "execution_count": 42,
   "id": "128cb087-5df8-4ebf-9fd0-2bc4fd41019d",
   "metadata": {},
   "outputs": [],
   "source": [
    "for x in range(len(cinerea)):\n",
    "    if(cinerea.loc[x,\"individualCount\"] != 1):\n",
    "        for x in range(cinerea.loc[x,\"individualCount\"]):\n",
    "            cinerea = cinerea.append(cinerea.iloc[x],ignore_index = True)"
   ]
  },
  {
   "cell_type": "code",
   "execution_count": 43,
   "id": "2f0d3e4e-a314-4787-945d-21170746decf",
   "metadata": {},
   "outputs": [],
   "source": [
    "for x in range(len(palmata)):\n",
    "    if(palmata.loc[x,\"individualCount\"] != 1):\n",
    "        for x in range(palmata.loc[x,\"individualCount\"]):\n",
    "            palmata = palmata.append(palmata.iloc[x],ignore_index = True)"
   ]
  },
  {
   "cell_type": "code",
   "execution_count": 44,
   "id": "4a6a4713-7dc4-4999-955b-b8171ebc47af",
   "metadata": {},
   "outputs": [],
   "source": [
    "for x in range(len(riparia)):\n",
    "    if(riparia.loc[x,\"individualCount\"] != 1):\n",
    "        for x in range(riparia.loc[x,\"individualCount\"]):\n",
    "            riparia = riparia.append(riparia.iloc[x],ignore_index = True)"
   ]
  },
  {
   "cell_type": "code",
   "execution_count": 45,
   "id": "09cb203d-316a-479b-9324-c0a52340bb70",
   "metadata": {},
   "outputs": [],
   "source": [
    "for x in range(len(rupestris)):\n",
    "    if(rupestris.loc[x,\"individualCount\"] != 1):\n",
    "        for x in range(rupestris.loc[x,\"individualCount\"]):\n",
    "            rupestris = rupestris.append(rupestris.iloc[x],ignore_index = True)"
   ]
  },
  {
   "cell_type": "code",
   "execution_count": 46,
   "id": "d47d8c6f-d1d3-4c36-8702-993ed0a8d74d",
   "metadata": {},
   "outputs": [],
   "source": [
    "for x in range(len(vulpina)):\n",
    "    if(vulpina.loc[x,\"individualCount\"] != 1):\n",
    "        for x in range(vulpina.loc[x,\"individualCount\"]):\n",
    "            vulpina = vulpina.append(vulpina.iloc[x],ignore_index = True)"
   ]
  },
  {
   "cell_type": "code",
   "execution_count": 47,
   "id": "ce5acdcd-6d29-4b15-88b4-d29ed6e382ff",
   "metadata": {},
   "outputs": [],
   "source": [
    "aestivalis = aestivalis.drop(\"individualCount\", axis = 1)\n",
    "acerifolia = acerifolia.drop(\"individualCount\", axis = 1)\n",
    "cinerea = cinerea.drop(\"individualCount\", axis = 1)\n",
    "palmata = palmata.drop(\"individualCount\", axis = 1)\n",
    "riparia = riparia.drop(\"individualCount\", axis = 1)\n",
    "rupestris = rupestris.drop(\"individualCount\", axis = 1)\n",
    "vulpina = vulpina.drop(\"individualCount\", axis = 1)"
   ]
  },
  {
   "cell_type": "code",
   "execution_count": 49,
   "id": "bdda593b-f5f5-4856-815a-51b7b135f6ab",
   "metadata": {},
   "outputs": [],
   "source": [
    "writer = pd.ExcelWriter('GBIF_repeat.xlsx', engine = 'xlsxwriter')\n",
    "aestivalis.to_excel(writer, sheet_name='aestivalis')\n",
    "acerifolia.to_excel(writer, sheet_name='acerifolia')\n",
    "cinerea.to_excel(writer, sheet_name='cinerea')\n",
    "palmata.to_excel(writer, sheet_name='palmata')\n",
    "riparia.to_excel(writer, sheet_name='riparia')\n",
    "rupestris.to_excel(writer, sheet_name='rupestris')\n",
    "vulpina.to_excel(writer, sheet_name='vulpina')\n",
    "writer.save()"
   ]
  }
 ],
 "metadata": {
  "kernelspec": {
   "display_name": "Python 3",
   "language": "python",
   "name": "python3"
  },
  "language_info": {
   "codemirror_mode": {
    "name": "ipython",
    "version": 3
   },
   "file_extension": ".py",
   "mimetype": "text/x-python",
   "name": "python",
   "nbconvert_exporter": "python",
   "pygments_lexer": "ipython3",
   "version": "3.8.8"
  }
 },
 "nbformat": 4,
 "nbformat_minor": 5
}
