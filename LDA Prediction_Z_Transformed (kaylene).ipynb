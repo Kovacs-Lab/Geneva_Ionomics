{
 "cells": [
  {
   "cell_type": "code",
   "execution_count": 1,
   "metadata": {},
   "outputs": [
    {
     "name": "stderr",
     "output_type": "stream",
     "text": [
      "Installing package into 'C:/Users/2198K/Documents/R/win-library/3.6'\n",
      "(as 'lib' is unspecified)\n",
      "\n"
     ]
    },
    {
     "name": "stdout",
     "output_type": "stream",
     "text": [
      "package 'MASS' successfully unpacked and MD5 sums checked\n"
     ]
    },
    {
     "name": "stderr",
     "output_type": "stream",
     "text": [
      "Warning message:\n",
      "\"cannot remove prior installation of package 'MASS'\"\n",
      "Warning message in file.copy(savedcopy, lib, recursive = TRUE):\n",
      "\"problem copying C:\\Users\\2198K\\Documents\\R\\win-library\\3.6\\00LOCK\\MASS\\libs\\x64\\MASS.dll to C:\\Users\\2198K\\Documents\\R\\win-library\\3.6\\MASS\\libs\\x64\\MASS.dll: Permission denied\"\n",
      "Warning message:\n",
      "\"restored 'MASS'\"\n"
     ]
    },
    {
     "name": "stdout",
     "output_type": "stream",
     "text": [
      "\n",
      "The downloaded binary packages are in\n",
      "\tC:\\Users\\2198K\\AppData\\Local\\Temp\\RtmpIZ47JQ\\downloaded_packages\n"
     ]
    },
    {
     "name": "stderr",
     "output_type": "stream",
     "text": [
      "Installing package into 'C:/Users/2198K/Documents/R/win-library/3.6'\n",
      "(as 'lib' is unspecified)\n",
      "\n"
     ]
    },
    {
     "name": "stdout",
     "output_type": "stream",
     "text": [
      "package 'missMDA' successfully unpacked and MD5 sums checked\n",
      "\n",
      "The downloaded binary packages are in\n",
      "\tC:\\Users\\2198K\\AppData\\Local\\Temp\\RtmpIZ47JQ\\downloaded_packages\n"
     ]
    },
    {
     "name": "stderr",
     "output_type": "stream",
     "text": [
      "Installing package into 'C:/Users/2198K/Documents/R/win-library/3.6'\n",
      "(as 'lib' is unspecified)\n",
      "\n"
     ]
    },
    {
     "name": "stdout",
     "output_type": "stream",
     "text": [
      "package 'tidyverse' successfully unpacked and MD5 sums checked\n",
      "\n",
      "The downloaded binary packages are in\n",
      "\tC:\\Users\\2198K\\AppData\\Local\\Temp\\RtmpIZ47JQ\\downloaded_packages\n"
     ]
    },
    {
     "name": "stderr",
     "output_type": "stream",
     "text": [
      "-- \u001b[1mAttaching packages\u001b[22m --------------------------------------- tidyverse 1.3.0 --\n",
      "\n",
      "\u001b[32mv\u001b[39m \u001b[34mggplot2\u001b[39m 3.2.1     \u001b[32mv\u001b[39m \u001b[34mpurrr  \u001b[39m 0.3.3\n",
      "\u001b[32mv\u001b[39m \u001b[34mtibble \u001b[39m 2.1.3     \u001b[32mv\u001b[39m \u001b[34mdplyr  \u001b[39m 0.8.4\n",
      "\u001b[32mv\u001b[39m \u001b[34mtidyr  \u001b[39m 1.0.2     \u001b[32mv\u001b[39m \u001b[34mstringr\u001b[39m 1.4.0\n",
      "\u001b[32mv\u001b[39m \u001b[34mreadr  \u001b[39m 1.3.1     \u001b[32mv\u001b[39m \u001b[34mforcats\u001b[39m 0.4.0\n",
      "\n",
      "-- \u001b[1mConflicts\u001b[22m ------------------------------------------ tidyverse_conflicts() --\n",
      "\u001b[31mx\u001b[39m \u001b[34mdplyr\u001b[39m::\u001b[32mfilter()\u001b[39m masks \u001b[34mstats\u001b[39m::filter()\n",
      "\u001b[31mx\u001b[39m \u001b[34mdplyr\u001b[39m::\u001b[32mlag()\u001b[39m    masks \u001b[34mstats\u001b[39m::lag()\n",
      "\u001b[31mx\u001b[39m \u001b[34mdplyr\u001b[39m::\u001b[32mselect()\u001b[39m masks \u001b[34mMASS\u001b[39m::select()\n",
      "\n",
      "Installing package into 'C:/Users/2198K/Documents/R/win-library/3.6'\n",
      "(as 'lib' is unspecified)\n",
      "\n"
     ]
    },
    {
     "name": "stdout",
     "output_type": "stream",
     "text": [
      "package 'caret' successfully unpacked and MD5 sums checked\n"
     ]
    },
    {
     "name": "stderr",
     "output_type": "stream",
     "text": [
      "Warning message:\n",
      "\"cannot remove prior installation of package 'caret'\"\n",
      "Warning message in file.copy(savedcopy, lib, recursive = TRUE):\n",
      "\"problem copying C:\\Users\\2198K\\Documents\\R\\win-library\\3.6\\00LOCK\\caret\\libs\\x64\\caret.dll to C:\\Users\\2198K\\Documents\\R\\win-library\\3.6\\caret\\libs\\x64\\caret.dll: Permission denied\"\n",
      "Warning message:\n",
      "\"restored 'caret'\"\n"
     ]
    },
    {
     "name": "stdout",
     "output_type": "stream",
     "text": [
      "\n",
      "The downloaded binary packages are in\n",
      "\tC:\\Users\\2198K\\AppData\\Local\\Temp\\RtmpIZ47JQ\\downloaded_packages\n"
     ]
    },
    {
     "name": "stderr",
     "output_type": "stream",
     "text": [
      "Loading required package: lattice\n",
      "\n",
      "\n",
      "Attaching package: 'caret'\n",
      "\n",
      "\n",
      "The following object is masked from 'package:purrr':\n",
      "\n",
      "    lift\n",
      "\n",
      "\n",
      "Installing package into 'C:/Users/2198K/Documents/R/win-library/3.6'\n",
      "(as 'lib' is unspecified)\n",
      "\n"
     ]
    },
    {
     "name": "stdout",
     "output_type": "stream",
     "text": [
      "package 'mltest' successfully unpacked and MD5 sums checked\n",
      "\n",
      "The downloaded binary packages are in\n",
      "\tC:\\Users\\2198K\\AppData\\Local\\Temp\\RtmpIZ47JQ\\downloaded_packages\n"
     ]
    }
   ],
   "source": [
    "install.packages(\"MASS\")\n",
    "library(\"MASS\")\n",
    "install.packages(\"missMDA\")\n",
    "library(\"missMDA\")\n",
    "install.packages(\"tidyverse\")\n",
    "library(\"tidyverse\")\n",
    "install.packages(\"caret\")\n",
    "library(\"caret\")\n",
    "install.packages(\"mltest\")\n",
    "library(\"mltest\")"
   ]
  },
  {
   "cell_type": "code",
   "execution_count": 2,
   "metadata": {},
   "outputs": [],
   "source": [
    "ionomics <- read.csv('geneva_z_transformed.csv',colClasses =c(\"NULL\",\"NULL\",NA,NA,NA,NA,NA,NA,NA,NA,NA,NA,NA,NA,NA,\n",
    "                                                                    NA,NA,NA,NA,NA,NA,NA))\n",
    "ionomics = ionomics[0:201,]\n",
    "ionomics <- imputePCA(ionomics, method = \"Regularized\")"
   ]
  },
  {
   "cell_type": "code",
   "execution_count": 3,
   "metadata": {},
   "outputs": [],
   "source": [
    "# Split the data into training (80%) and test set (20%)\n",
    "set.seed(123)\n",
    "training.samples <- ionomics$completeObs[,2] %>%\n",
    "  createDataPartition(p = 0.8, list = FALSE)\n",
    "train.data <- ionomics$completeObs[training.samples, ]\n",
    "test.data <- ionomics$completeObs[-training.samples, ]\n",
    "train.data <- unlist(test.data)\n",
    "test.data <- unlist(test.data)\n",
    "train.data <- as.data.frame(train.data)\n",
    "test.data <- as.data.frame(test.data)"
   ]
  },
  {
   "cell_type": "code",
   "execution_count": 4,
   "metadata": {},
   "outputs": [
    {
     "data": {
      "text/html": [
       "1"
      ],
      "text/latex": [
       "1"
      ],
      "text/markdown": [
       "1"
      ],
      "text/plain": [
       "[1] 1"
      ]
     },
     "metadata": {},
     "output_type": "display_data"
    },
    {
     "data": {
      "text/plain": [
       "Call:\n",
       "lda(spec_as_int ~ ., data = train.data)\n",
       "\n",
       "Prior probabilities of groups:\n",
       "    1     2     3     4     5     6     7     8 \n",
       "0.075 0.050 0.125 0.125 0.050 0.375 0.175 0.025 \n",
       "\n",
       "Group means:\n",
       "          B11       Na23       Mg26        Al27        P31         S34\n",
       "1 -0.02963195  1.4210515 -0.1939047  0.48643404 -0.3644108 -0.47498382\n",
       "2 -0.46041760 -1.2456772 -0.2894536 -0.58132392 -0.8394436 -0.67817602\n",
       "3 -0.58289360 -0.6557355 -0.6301994  0.04565048  0.3398555  1.52429836\n",
       "4 -0.23455798 -0.1261296  0.9280087  0.66048398 -0.1157965 -0.11791288\n",
       "5 -1.83797800  0.8020282 -0.7398250  0.03113600  2.3569723 -0.30890687\n",
       "6  0.48147190 -0.1992776 -0.1374929  0.09103777  0.1172385  0.09536537\n",
       "7  0.25543022 -0.1821201  0.3672244 -0.49219866 -0.4107839 -1.09989931\n",
       "8 -0.67476076 -0.3869477  0.7801425  0.41923517 -0.6673306  1.37006530\n",
       "          K39        Ca44        Fe54        Mn55       Co59        Ni60\n",
       "1 -0.31106910  0.09822832 -0.67074167  0.58504674  0.1993141 -0.22774030\n",
       "2 -0.74810931 -0.05845700 -0.06385222 -1.47989945 -1.3970757 -0.31677037\n",
       "3 -0.01071042  0.88402967  1.08668363  0.36526999  0.6273460  0.60769645\n",
       "4  0.11819159 -0.38578245  0.07228841  0.10653707  0.4868927  0.04655244\n",
       "5  0.53901856 -0.82977573 -0.62159221  0.94560267  1.6197304  2.05184130\n",
       "6  0.08165693  0.66077566  0.65105848 -0.05153285 -0.1444832 -0.28464195\n",
       "7 -0.69240410 -0.51607101 -0.80093030 -0.92949019 -1.0557910 -0.30422491\n",
       "8 -0.25820324 -0.22167256  1.49107310  0.84851766  1.1137325 -0.16492906\n",
       "         Cu63        Zn66        As75       Rb85       Sr88        Mo98\n",
       "1 -0.69820025  0.09140297 -0.09051607  1.0843693  0.7808697 -0.26622008\n",
       "2 -0.18952355 -1.10924755 -0.23636592 -0.7793187 -0.0503855 -0.36739820\n",
       "3  2.02642590  0.25880004 -0.26473749 -0.5091748  0.5805229  1.32479239\n",
       "4  0.45513948  0.18193504  1.99571735 -0.3149170 -0.2095481 -0.61946196\n",
       "5  0.02091646  0.13452521  0.20053262  1.0317291 -0.7792668 -0.53416096\n",
       "6 -0.43910308 -0.12308406  0.02244085  0.1620888  0.4133773 -0.01581257\n",
       "7 -0.30320197 -0.47677316 -0.83820141 -0.1248773 -0.5905293 -0.41950570\n",
       "8  0.52838980  0.42663196  0.32264660  0.1373346 -0.4321068 -0.66716410\n",
       "        Cd111\n",
       "1 -0.09443032\n",
       "2 -0.01988177\n",
       "3  0.09487164\n",
       "4  0.06095955\n",
       "5  0.21578688\n",
       "6 -0.18725059\n",
       "7 -0.14292093\n",
       "8  0.02481204\n",
       "\n",
       "Coefficients of linear discriminants:\n",
       "             LD1          LD2         LD3         LD4         LD5         LD6\n",
       "B11    1.1042124 -0.306140473  0.35688209 -0.32889422  0.31741355 -0.43842070\n",
       "Na23  -0.8304189  1.062097987  0.09700097  0.51445895 -0.04354944  0.01944906\n",
       "Mg26   0.1067216  0.008451816  0.29121165 -1.36688727  0.28146098 -0.55224217\n",
       "Al27   0.6564800 -0.819723430  0.38715836 -1.12450604 -0.07924933  0.09737394\n",
       "P31    0.7235405 -0.023395022  0.72015693  0.09526901  0.23611756 -0.27874704\n",
       "S34    0.7084479 -1.906528363  0.90357797 -0.35121158  0.10242898 -0.22214330\n",
       "K39    1.2296717 -1.637750325  1.18457442 -0.11468628  0.79352582  0.34630186\n",
       "Ca44   0.7994252  0.750675538 -0.49069435  1.21175031  1.35912883 -0.24625448\n",
       "Fe54   0.7765820 -0.784626348 -0.16348951  0.90726780 -0.13511885 -0.11117130\n",
       "Mn55  -1.4780337 -0.949976703  0.25177323 -1.12015725 -0.44146545 -0.72679301\n",
       "Co59   0.8601141 -0.093329420  0.77146753  0.15904968  0.43415572  0.05837806\n",
       "Ni60  -2.7824468  0.226131949  1.16970539  2.38185774  0.63278564  0.29403058\n",
       "Cu63  -1.2224895 -1.731765308 -1.90704403 -1.67314839 -0.36431203 -0.87288635\n",
       "Zn66   1.1707175  0.627104096  0.34441697  0.77368931 -0.13770291 -0.11294300\n",
       "As75  -0.3513640  0.408069386 -0.45417475 -0.20529279 -0.09518923  0.78696915\n",
       "Rb85   0.7705671  1.012999254 -0.21822807 -0.32209697 -1.02557125 -0.52416146\n",
       "Sr88  -0.3423657 -1.539220141  1.38651499 -0.81785429 -1.97280991  0.55240650\n",
       "Mo98  -0.1131849  3.208107553 -1.93973717  2.09853575 -0.49065799  1.01841855\n",
       "Cd111 -7.9101320  1.090814627  2.41291870 -1.12831374 -0.95534391  0.47163691\n",
       "              LD7\n",
       "B11   -0.43419873\n",
       "Na23  -0.19905125\n",
       "Mg26  -0.34997086\n",
       "Al27  -0.09760110\n",
       "P31   -0.42330546\n",
       "S34    0.84247923\n",
       "K39   -0.61112253\n",
       "Ca44  -0.48282641\n",
       "Fe54   0.40757387\n",
       "Mn55  -0.19418915\n",
       "Co59   0.08337372\n",
       "Ni60   0.36527156\n",
       "Cu63  -0.48660449\n",
       "Zn66  -0.37992965\n",
       "As75  -0.18471914\n",
       "Rb85   0.06400960\n",
       "Sr88   0.47027237\n",
       "Mo98  -1.02526404\n",
       "Cd111  0.15385609\n",
       "\n",
       "Proportion of trace:\n",
       "   LD1    LD2    LD3    LD4    LD5    LD6    LD7 \n",
       "0.3806 0.2488 0.1657 0.1596 0.0261 0.0102 0.0090 "
      ]
     },
     "metadata": {},
     "output_type": "display_data"
    }
   ],
   "source": [
    "# Fit the model\n",
    "model <- lda(spec_as_int~., data = train.data)\n",
    "# Make predictions\n",
    "predictions <- model %>% predict(test.data)\n",
    "# Model accuracy\n",
    "mean(predictions$class==test.data$spec_as_int)\n",
    "model"
   ]
  },
  {
   "cell_type": "code",
   "execution_count": 5,
   "metadata": {},
   "outputs": [
    {
     "data": {
      "image/png": "[encoded data removed]",
      "text/plain": [
       "plot without title"
      ]
     },
     "metadata": {
      "image/png": {
       "height": 420,
       "width": 420
      },
      "text/plain": {
       "height": 420,
       "width": 420
      }
     },
     "output_type": "display_data"
    }
   ],
   "source": [
    "plot(model)"
   ]
  },
  {
   "cell_type": "code",
   "execution_count": 6,
   "metadata": {},
   "outputs": [
    {
     "data": {
      "text/html": [
       "<style>\n",
       ".list-inline {list-style: none; margin:0; padding: 0}\n",
       ".list-inline>li {display: inline-block}\n",
       ".list-inline>li:not(:last-child)::after {content: \"\\00b7\"; padding: 0 .5ex}\n",
       "</style>\n",
       "<ol class=list-inline><li>1</li><li>1</li><li>1</li><li>2</li><li>2</li><li>3</li></ol>\n",
       "\n",
       "<details>\n",
       "\t<summary style=display:list-item;cursor:pointer>\n",
       "\t\t<strong>Levels</strong>:\n",
       "\t</summary>\n",
       "\t<style>\n",
       "\t.list-inline {list-style: none; margin:0; padding: 0}\n",
       "\t.list-inline>li {display: inline-block}\n",
       "\t.list-inline>li:not(:last-child)::after {content: \"\\00b7\"; padding: 0 .5ex}\n",
       "\t</style>\n",
       "\t<ol class=list-inline><li>'1'</li><li>'2'</li><li>'3'</li><li>'4'</li><li>'5'</li><li>'6'</li><li>'7'</li><li>'8'</li></ol>\n",
       "</details>"
      ],
      "text/latex": [
       "\\begin{enumerate*}\n",
       "\\item 1\n",
       "\\item 1\n",
       "\\item 1\n",
       "\\item 2\n",
       "\\item 2\n",
       "\\item 3\n",
       "\\end{enumerate*}\n",
       "\n",
       "\\emph{Levels}: \\begin{enumerate*}\n",
       "\\item '1'\n",
       "\\item '2'\n",
       "\\item '3'\n",
       "\\item '4'\n",
       "\\item '5'\n",
       "\\item '6'\n",
       "\\item '7'\n",
       "\\item '8'\n",
       "\\end{enumerate*}\n"
      ],
      "text/markdown": [
       "1. 1\n",
       "2. 1\n",
       "3. 1\n",
       "4. 2\n",
       "5. 2\n",
       "6. 3\n",
       "\n",
       "\n",
       "\n",
       "**Levels**: 1. '1'\n",
       "2. '2'\n",
       "3. '3'\n",
       "4. '4'\n",
       "5. '5'\n",
       "6. '6'\n",
       "7. '7'\n",
       "8. '8'\n",
       "\n",
       "\n"
      ],
      "text/plain": [
       "[1] 1 1 1 2 2 3\n",
       "Levels: 1 2 3 4 5 6 7 8"
      ]
     },
     "metadata": {},
     "output_type": "display_data"
    },
    {
     "data": {
      "text/html": [
       "<table>\n",
       "<caption>A matrix: 6 × 8 of type dbl</caption>\n",
       "<thead>\n",
       "\t<tr><th></th><th scope=col>1</th><th scope=col>2</th><th scope=col>3</th><th scope=col>4</th><th scope=col>5</th><th scope=col>6</th><th scope=col>7</th><th scope=col>8</th></tr>\n",
       "</thead>\n",
       "<tbody>\n",
       "\t<tr><th scope=row>1</th><td>1.000000e+00</td><td>1.338982e-18</td><td>4.843452e-31</td><td>4.321164e-18</td><td>3.172218e-30</td><td>6.162348e-15</td><td>3.036664e-11</td><td>8.480817e-32</td></tr>\n",
       "\t<tr><th scope=row>7</th><td>9.999480e-01</td><td>6.800381e-09</td><td>6.736337e-17</td><td>2.843780e-07</td><td>1.599616e-23</td><td>2.748107e-06</td><td>4.895827e-05</td><td>8.243722e-19</td></tr>\n",
       "\t<tr><th scope=row>9</th><td>9.999973e-01</td><td>2.190365e-08</td><td>9.883807e-20</td><td>2.100353e-12</td><td>4.371816e-28</td><td>2.365292e-11</td><td>2.666611e-06</td><td>8.472369e-29</td></tr>\n",
       "\t<tr><th scope=row>14</th><td>7.046589e-11</td><td>9.976594e-01</td><td>1.572911e-07</td><td>6.634639e-15</td><td>1.888852e-37</td><td>5.551645e-08</td><td>2.340368e-03</td><td>5.185163e-26</td></tr>\n",
       "\t<tr><th scope=row>15</th><td>2.446757e-12</td><td>9.999771e-01</td><td>2.686833e-11</td><td>1.675556e-11</td><td>1.371800e-28</td><td>1.440505e-18</td><td>2.293559e-05</td><td>2.267500e-28</td></tr>\n",
       "\t<tr><th scope=row>23</th><td>3.690836e-25</td><td>1.227743e-12</td><td>1.000000e+00</td><td>1.698157e-21</td><td>5.035845e-39</td><td>7.306661e-19</td><td>5.717598e-23</td><td>2.805641e-24</td></tr>\n",
       "</tbody>\n",
       "</table>\n"
      ],
      "text/latex": [
       "A matrix: 6 × 8 of type dbl\n",
       "\\begin{tabular}{r|llllllll}\n",
       "  & 1 & 2 & 3 & 4 & 5 & 6 & 7 & 8\\\\\n",
       "\\hline\n",
       "\t1 & 1.000000e+00 & 1.338982e-18 & 4.843452e-31 & 4.321164e-18 & 3.172218e-30 & 6.162348e-15 & 3.036664e-11 & 8.480817e-32\\\\\n",
       "\t7 & 9.999480e-01 & 6.800381e-09 & 6.736337e-17 & 2.843780e-07 & 1.599616e-23 & 2.748107e-06 & 4.895827e-05 & 8.243722e-19\\\\\n",
       "\t9 & 9.999973e-01 & 2.190365e-08 & 9.883807e-20 & 2.100353e-12 & 4.371816e-28 & 2.365292e-11 & 2.666611e-06 & 8.472369e-29\\\\\n",
       "\t14 & 7.046589e-11 & 9.976594e-01 & 1.572911e-07 & 6.634639e-15 & 1.888852e-37 & 5.551645e-08 & 2.340368e-03 & 5.185163e-26\\\\\n",
       "\t15 & 2.446757e-12 & 9.999771e-01 & 2.686833e-11 & 1.675556e-11 & 1.371800e-28 & 1.440505e-18 & 2.293559e-05 & 2.267500e-28\\\\\n",
       "\t23 & 3.690836e-25 & 1.227743e-12 & 1.000000e+00 & 1.698157e-21 & 5.035845e-39 & 7.306661e-19 & 5.717598e-23 & 2.805641e-24\\\\\n",
       "\\end{tabular}\n"
      ],
      "text/markdown": [
       "\n",
       "A matrix: 6 × 8 of type dbl\n",
       "\n",
       "| <!--/--> | 1 | 2 | 3 | 4 | 5 | 6 | 7 | 8 |\n",
       "|---|---|---|---|---|---|---|---|---|\n",
       "| 1 | 1.000000e+00 | 1.338982e-18 | 4.843452e-31 | 4.321164e-18 | 3.172218e-30 | 6.162348e-15 | 3.036664e-11 | 8.480817e-32 |\n",
       "| 7 | 9.999480e-01 | 6.800381e-09 | 6.736337e-17 | 2.843780e-07 | 1.599616e-23 | 2.748107e-06 | 4.895827e-05 | 8.243722e-19 |\n",
       "| 9 | 9.999973e-01 | 2.190365e-08 | 9.883807e-20 | 2.100353e-12 | 4.371816e-28 | 2.365292e-11 | 2.666611e-06 | 8.472369e-29 |\n",
       "| 14 | 7.046589e-11 | 9.976594e-01 | 1.572911e-07 | 6.634639e-15 | 1.888852e-37 | 5.551645e-08 | 2.340368e-03 | 5.185163e-26 |\n",
       "| 15 | 2.446757e-12 | 9.999771e-01 | 2.686833e-11 | 1.675556e-11 | 1.371800e-28 | 1.440505e-18 | 2.293559e-05 | 2.267500e-28 |\n",
       "| 23 | 3.690836e-25 | 1.227743e-12 | 1.000000e+00 | 1.698157e-21 | 5.035845e-39 | 7.306661e-19 | 5.717598e-23 | 2.805641e-24 |\n",
       "\n"
      ],
      "text/plain": [
       "   1            2            3            4            5           \n",
       "1  1.000000e+00 1.338982e-18 4.843452e-31 4.321164e-18 3.172218e-30\n",
       "7  9.999480e-01 6.800381e-09 6.736337e-17 2.843780e-07 1.599616e-23\n",
       "9  9.999973e-01 2.190365e-08 9.883807e-20 2.100353e-12 4.371816e-28\n",
       "14 7.046589e-11 9.976594e-01 1.572911e-07 6.634639e-15 1.888852e-37\n",
       "15 2.446757e-12 9.999771e-01 2.686833e-11 1.675556e-11 1.371800e-28\n",
       "23 3.690836e-25 1.227743e-12 1.000000e+00 1.698157e-21 5.035845e-39\n",
       "   6            7            8           \n",
       "1  6.162348e-15 3.036664e-11 8.480817e-32\n",
       "7  2.748107e-06 4.895827e-05 8.243722e-19\n",
       "9  2.365292e-11 2.666611e-06 8.472369e-29\n",
       "14 5.551645e-08 2.340368e-03 5.185163e-26\n",
       "15 1.440505e-18 2.293559e-05 2.267500e-28\n",
       "23 7.306661e-19 5.717598e-23 2.805641e-24"
      ]
     },
     "metadata": {},
     "output_type": "display_data"
    },
    {
     "data": {
      "text/html": [
       "<table>\n",
       "<caption>A matrix: 3 × 7 of type dbl</caption>\n",
       "<thead>\n",
       "\t<tr><th></th><th scope=col>LD1</th><th scope=col>LD2</th><th scope=col>LD3</th><th scope=col>LD4</th><th scope=col>LD5</th><th scope=col>LD6</th><th scope=col>LD7</th></tr>\n",
       "</thead>\n",
       "<tbody>\n",
       "\t<tr><th scope=row>1</th><td>-0.5061221</td><td>4.290574</td><td>3.418711</td><td>-1.5805436</td><td>-4.2224055</td><td>-1.0561552</td><td> 0.148658909</td></tr>\n",
       "\t<tr><th scope=row>7</th><td>-0.7345662</td><td>1.915952</td><td>2.153905</td><td>-1.1465532</td><td>-0.9204993</td><td>-0.5149736</td><td>-0.051381379</td></tr>\n",
       "\t<tr><th scope=row>9</th><td>-1.2620384</td><td>3.118165</td><td>1.077867</td><td>-0.9433994</td><td>-3.2805671</td><td> 1.6356880</td><td>-0.002604611</td></tr>\n",
       "</tbody>\n",
       "</table>\n"
      ],
      "text/latex": [
       "A matrix: 3 × 7 of type dbl\n",
       "\\begin{tabular}{r|lllllll}\n",
       "  & LD1 & LD2 & LD3 & LD4 & LD5 & LD6 & LD7\\\\\n",
       "\\hline\n",
       "\t1 & -0.5061221 & 4.290574 & 3.418711 & -1.5805436 & -4.2224055 & -1.0561552 &  0.148658909\\\\\n",
       "\t7 & -0.7345662 & 1.915952 & 2.153905 & -1.1465532 & -0.9204993 & -0.5149736 & -0.051381379\\\\\n",
       "\t9 & -1.2620384 & 3.118165 & 1.077867 & -0.9433994 & -3.2805671 &  1.6356880 & -0.002604611\\\\\n",
       "\\end{tabular}\n"
      ],
      "text/markdown": [
       "\n",
       "A matrix: 3 × 7 of type dbl\n",
       "\n",
       "| <!--/--> | LD1 | LD2 | LD3 | LD4 | LD5 | LD6 | LD7 |\n",
       "|---|---|---|---|---|---|---|---|\n",
       "| 1 | -0.5061221 | 4.290574 | 3.418711 | -1.5805436 | -4.2224055 | -1.0561552 |  0.148658909 |\n",
       "| 7 | -0.7345662 | 1.915952 | 2.153905 | -1.1465532 | -0.9204993 | -0.5149736 | -0.051381379 |\n",
       "| 9 | -1.2620384 | 3.118165 | 1.077867 | -0.9433994 | -3.2805671 |  1.6356880 | -0.002604611 |\n",
       "\n"
      ],
      "text/plain": [
       "  LD1        LD2      LD3      LD4        LD5        LD6        LD7         \n",
       "1 -0.5061221 4.290574 3.418711 -1.5805436 -4.2224055 -1.0561552  0.148658909\n",
       "7 -0.7345662 1.915952 2.153905 -1.1465532 -0.9204993 -0.5149736 -0.051381379\n",
       "9 -1.2620384 3.118165 1.077867 -0.9433994 -3.2805671  1.6356880 -0.002604611"
      ]
     },
     "metadata": {},
     "output_type": "display_data"
    }
   ],
   "source": [
    "# Predicted classes\n",
    "head(predictions$class, 6)\n",
    "# Predicted probabilities of class memebership.\n",
    "head(predictions$posterior, 6) \n",
    "# Linear discriminants\n",
    "head(predictions$x, 3) "
   ]
  },
  {
   "cell_type": "code",
   "execution_count": 7,
   "metadata": {},
   "outputs": [
    {
     "ename": "ERROR",
     "evalue": "Error in parse(text = x, srcfile = src): <text>:2:30: unexpected ')'\n1: table <- table(Predicted=predictions$class, Species=test.data$spec_as_int)\n2: print(confusionMatrix(table)))\n                                ^\n",
     "output_type": "error",
     "traceback": [
      "Error in parse(text = x, srcfile = src): <text>:2:30: unexpected ')'\n1: table <- table(Predicted=predictions$class, Species=test.data$spec_as_int)\n2: print(confusionMatrix(table)))\n                                ^\nTraceback:\n"
     ]
    }
   ],
   "source": [
    "table <- table(Predicted=predictions$class, Species=test.data$spec_as_int)\n",
    "print(confusionMatrix(table))))"
   ]
  },
  {
   "cell_type": "code",
   "execution_count": 8,
   "metadata": {},
   "outputs": [],
   "source": [
    "spec.af <- factor(test.data$spec_as_int, levels = c(\"1\",\"2\",\"3\",\"4\",\"5\",\"6\",\"7\",\"8\"))\n",
    "class.af <- factor(predictions$class, levels = c(\"1\",\"2\",\"3\",\"4\",\"5\",\"6\",\"7\",\"8\"))"
   ]
  },
  {
   "cell_type": "code",
   "execution_count": 9,
   "metadata": {},
   "outputs": [],
   "source": [
    "classifier_metrics <- ml_test(class.af, spec.af, output.as.table = TRUE)\n",
    "F1 <- classifier_metrics$F1\n",
    "accuracy <- classifier_metrics$accuracy"
   ]
  },
  {
   "cell_type": "code",
   "execution_count": 10,
   "metadata": {},
   "outputs": [
    {
     "data": {
      "text/html": [
       "<table>\n",
       "<caption>A data.frame: 8 × 21</caption>\n",
       "<thead>\n",
       "\t<tr><th></th><th scope=col>balanced.accuracy</th><th scope=col>DOR</th><th scope=col>F0.5</th><th scope=col>F1</th><th scope=col>F2</th><th scope=col>FDR</th><th scope=col>FNR</th><th scope=col>FOR</th><th scope=col>FPR</th><th scope=col>geometric.mean</th><th scope=col>...</th><th scope=col>L</th><th scope=col>lambda</th><th scope=col>MCC</th><th scope=col>MK</th><th scope=col>NPV</th><th scope=col>OP</th><th scope=col>precision</th><th scope=col>recall</th><th scope=col>specificity</th><th scope=col>Youden</th></tr>\n",
       "\t<tr><th></th><th scope=col>&lt;dbl&gt;</th><th scope=col>&lt;dbl&gt;</th><th scope=col>&lt;dbl&gt;</th><th scope=col>&lt;dbl&gt;</th><th scope=col>&lt;dbl&gt;</th><th scope=col>&lt;dbl&gt;</th><th scope=col>&lt;dbl&gt;</th><th scope=col>&lt;dbl&gt;</th><th scope=col>&lt;dbl&gt;</th><th scope=col>&lt;dbl&gt;</th><th scope=col>...</th><th scope=col>&lt;dbl&gt;</th><th scope=col>&lt;dbl&gt;</th><th scope=col>&lt;dbl&gt;</th><th scope=col>&lt;dbl&gt;</th><th scope=col>&lt;dbl&gt;</th><th scope=col>&lt;dbl&gt;</th><th scope=col>&lt;dbl&gt;</th><th scope=col>&lt;dbl&gt;</th><th scope=col>&lt;dbl&gt;</th><th scope=col>&lt;dbl&gt;</th></tr>\n",
       "</thead>\n",
       "<tbody>\n",
       "\t<tr><th scope=row>1</th><td>1</td><td>Inf</td><td>1</td><td>1</td><td>1</td><td>0</td><td>0</td><td>0</td><td>0</td><td>1</td><td>...</td><td>Inf</td><td>0</td><td>1</td><td>1</td><td>1</td><td>1</td><td>1</td><td>1</td><td>1</td><td>1</td></tr>\n",
       "\t<tr><th scope=row>2</th><td>1</td><td>Inf</td><td>1</td><td>1</td><td>1</td><td>0</td><td>0</td><td>0</td><td>0</td><td>1</td><td>...</td><td>Inf</td><td>0</td><td>1</td><td>1</td><td>1</td><td>1</td><td>1</td><td>1</td><td>1</td><td>1</td></tr>\n",
       "\t<tr><th scope=row>3</th><td>1</td><td>Inf</td><td>1</td><td>1</td><td>1</td><td>0</td><td>0</td><td>0</td><td>0</td><td>1</td><td>...</td><td>Inf</td><td>0</td><td>1</td><td>1</td><td>1</td><td>1</td><td>1</td><td>1</td><td>1</td><td>1</td></tr>\n",
       "\t<tr><th scope=row>4</th><td>1</td><td>Inf</td><td>1</td><td>1</td><td>1</td><td>0</td><td>0</td><td>0</td><td>0</td><td>1</td><td>...</td><td>Inf</td><td>0</td><td>1</td><td>1</td><td>1</td><td>1</td><td>1</td><td>1</td><td>1</td><td>1</td></tr>\n",
       "\t<tr><th scope=row>5</th><td>1</td><td>Inf</td><td>1</td><td>1</td><td>1</td><td>0</td><td>0</td><td>0</td><td>0</td><td>1</td><td>...</td><td>Inf</td><td>0</td><td>1</td><td>1</td><td>1</td><td>1</td><td>1</td><td>1</td><td>1</td><td>1</td></tr>\n",
       "\t<tr><th scope=row>6</th><td>1</td><td>Inf</td><td>1</td><td>1</td><td>1</td><td>0</td><td>0</td><td>0</td><td>0</td><td>1</td><td>...</td><td>Inf</td><td>0</td><td>1</td><td>1</td><td>1</td><td>1</td><td>1</td><td>1</td><td>1</td><td>1</td></tr>\n",
       "\t<tr><th scope=row>7</th><td>1</td><td>Inf</td><td>1</td><td>1</td><td>1</td><td>0</td><td>0</td><td>0</td><td>0</td><td>1</td><td>...</td><td>Inf</td><td>0</td><td>1</td><td>1</td><td>1</td><td>1</td><td>1</td><td>1</td><td>1</td><td>1</td></tr>\n",
       "\t<tr><th scope=row>8</th><td>1</td><td>Inf</td><td>1</td><td>1</td><td>1</td><td>0</td><td>0</td><td>0</td><td>0</td><td>1</td><td>...</td><td>Inf</td><td>0</td><td>1</td><td>1</td><td>1</td><td>1</td><td>1</td><td>1</td><td>1</td><td>1</td></tr>\n",
       "</tbody>\n",
       "</table>\n"
      ],
      "text/latex": [
       "A data.frame: 8 × 21\n",
       "\\begin{tabular}{r|lllllllllllllllllllll}\n",
       "  & balanced.accuracy & DOR & F0.5 & F1 & F2 & FDR & FNR & FOR & FPR & geometric.mean & ... & L & lambda & MCC & MK & NPV & OP & precision & recall & specificity & Youden\\\\\n",
       "  & <dbl> & <dbl> & <dbl> & <dbl> & <dbl> & <dbl> & <dbl> & <dbl> & <dbl> & <dbl> & ... & <dbl> & <dbl> & <dbl> & <dbl> & <dbl> & <dbl> & <dbl> & <dbl> & <dbl> & <dbl>\\\\\n",
       "\\hline\n",
       "\t1 & 1 & Inf & 1 & 1 & 1 & 0 & 0 & 0 & 0 & 1 & ... & Inf & 0 & 1 & 1 & 1 & 1 & 1 & 1 & 1 & 1\\\\\n",
       "\t2 & 1 & Inf & 1 & 1 & 1 & 0 & 0 & 0 & 0 & 1 & ... & Inf & 0 & 1 & 1 & 1 & 1 & 1 & 1 & 1 & 1\\\\\n",
       "\t3 & 1 & Inf & 1 & 1 & 1 & 0 & 0 & 0 & 0 & 1 & ... & Inf & 0 & 1 & 1 & 1 & 1 & 1 & 1 & 1 & 1\\\\\n",
       "\t4 & 1 & Inf & 1 & 1 & 1 & 0 & 0 & 0 & 0 & 1 & ... & Inf & 0 & 1 & 1 & 1 & 1 & 1 & 1 & 1 & 1\\\\\n",
       "\t5 & 1 & Inf & 1 & 1 & 1 & 0 & 0 & 0 & 0 & 1 & ... & Inf & 0 & 1 & 1 & 1 & 1 & 1 & 1 & 1 & 1\\\\\n",
       "\t6 & 1 & Inf & 1 & 1 & 1 & 0 & 0 & 0 & 0 & 1 & ... & Inf & 0 & 1 & 1 & 1 & 1 & 1 & 1 & 1 & 1\\\\\n",
       "\t7 & 1 & Inf & 1 & 1 & 1 & 0 & 0 & 0 & 0 & 1 & ... & Inf & 0 & 1 & 1 & 1 & 1 & 1 & 1 & 1 & 1\\\\\n",
       "\t8 & 1 & Inf & 1 & 1 & 1 & 0 & 0 & 0 & 0 & 1 & ... & Inf & 0 & 1 & 1 & 1 & 1 & 1 & 1 & 1 & 1\\\\\n",
       "\\end{tabular}\n"
      ],
      "text/markdown": [
       "\n",
       "A data.frame: 8 × 21\n",
       "\n",
       "| <!--/--> | balanced.accuracy &lt;dbl&gt; | DOR &lt;dbl&gt; | F0.5 &lt;dbl&gt; | F1 &lt;dbl&gt; | F2 &lt;dbl&gt; | FDR &lt;dbl&gt; | FNR &lt;dbl&gt; | FOR &lt;dbl&gt; | FPR &lt;dbl&gt; | geometric.mean &lt;dbl&gt; | ... ... | L &lt;dbl&gt; | lambda &lt;dbl&gt; | MCC &lt;dbl&gt; | MK &lt;dbl&gt; | NPV &lt;dbl&gt; | OP &lt;dbl&gt; | precision &lt;dbl&gt; | recall &lt;dbl&gt; | specificity &lt;dbl&gt; | Youden &lt;dbl&gt; |\n",
       "|---|---|---|---|---|---|---|---|---|---|---|---|---|---|---|---|---|---|---|---|---|---|\n",
       "| 1 | 1 | Inf | 1 | 1 | 1 | 0 | 0 | 0 | 0 | 1 | ... | Inf | 0 | 1 | 1 | 1 | 1 | 1 | 1 | 1 | 1 |\n",
       "| 2 | 1 | Inf | 1 | 1 | 1 | 0 | 0 | 0 | 0 | 1 | ... | Inf | 0 | 1 | 1 | 1 | 1 | 1 | 1 | 1 | 1 |\n",
       "| 3 | 1 | Inf | 1 | 1 | 1 | 0 | 0 | 0 | 0 | 1 | ... | Inf | 0 | 1 | 1 | 1 | 1 | 1 | 1 | 1 | 1 |\n",
       "| 4 | 1 | Inf | 1 | 1 | 1 | 0 | 0 | 0 | 0 | 1 | ... | Inf | 0 | 1 | 1 | 1 | 1 | 1 | 1 | 1 | 1 |\n",
       "| 5 | 1 | Inf | 1 | 1 | 1 | 0 | 0 | 0 | 0 | 1 | ... | Inf | 0 | 1 | 1 | 1 | 1 | 1 | 1 | 1 | 1 |\n",
       "| 6 | 1 | Inf | 1 | 1 | 1 | 0 | 0 | 0 | 0 | 1 | ... | Inf | 0 | 1 | 1 | 1 | 1 | 1 | 1 | 1 | 1 |\n",
       "| 7 | 1 | Inf | 1 | 1 | 1 | 0 | 0 | 0 | 0 | 1 | ... | Inf | 0 | 1 | 1 | 1 | 1 | 1 | 1 | 1 | 1 |\n",
       "| 8 | 1 | Inf | 1 | 1 | 1 | 0 | 0 | 0 | 0 | 1 | ... | Inf | 0 | 1 | 1 | 1 | 1 | 1 | 1 | 1 | 1 |\n",
       "\n"
      ],
      "text/plain": [
       "  balanced.accuracy DOR F0.5 F1 F2 FDR FNR FOR FPR geometric.mean ... L  \n",
       "1 1                 Inf 1    1  1  0   0   0   0   1              ... Inf\n",
       "2 1                 Inf 1    1  1  0   0   0   0   1              ... Inf\n",
       "3 1                 Inf 1    1  1  0   0   0   0   1              ... Inf\n",
       "4 1                 Inf 1    1  1  0   0   0   0   1              ... Inf\n",
       "5 1                 Inf 1    1  1  0   0   0   0   1              ... Inf\n",
       "6 1                 Inf 1    1  1  0   0   0   0   1              ... Inf\n",
       "7 1                 Inf 1    1  1  0   0   0   0   1              ... Inf\n",
       "8 1                 Inf 1    1  1  0   0   0   0   1              ... Inf\n",
       "  lambda MCC MK NPV OP precision recall specificity Youden\n",
       "1 0      1   1  1   1  1         1      1           1     \n",
       "2 0      1   1  1   1  1         1      1           1     \n",
       "3 0      1   1  1   1  1         1      1           1     \n",
       "4 0      1   1  1   1  1         1      1           1     \n",
       "5 0      1   1  1   1  1         1      1           1     \n",
       "6 0      1   1  1   1  1         1      1           1     \n",
       "7 0      1   1  1   1  1         1      1           1     \n",
       "8 0      1   1  1   1  1         1      1           1     "
      ]
     },
     "metadata": {},
     "output_type": "display_data"
    }
   ],
   "source": [
    "classifier_metrics"
   ]
  }
 ],
 "metadata": {
  "kernelspec": {
   "display_name": "R",
   "language": "R",
   "name": "ir"
  },
  "language_info": {
   "codemirror_mode": "r",
   "file_extension": ".r",
   "mimetype": "text/x-r-source",
   "name": "R",
   "pygments_lexer": "r",
   "version": "3.6.3"
  }
 },
 "nbformat": 4,
 "nbformat_minor": 4
}
