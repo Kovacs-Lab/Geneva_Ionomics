{
 "cells": [
  {
   "cell_type": "code",
   "execution_count": 1,
   "metadata": {},
   "outputs": [
    {
     "name": "stderr",
     "output_type": "stream",
     "text": [
      "Installing package into 'C:/Users/2198K/Documents/R/win-library/3.6'\n",
      "(as 'lib' is unspecified)\n",
      "\n"
     ]
    },
    {
     "name": "stdout",
     "output_type": "stream",
     "text": [
      "package 'MASS' successfully unpacked and MD5 sums checked\n"
     ]
    },
    {
     "name": "stderr",
     "output_type": "stream",
     "text": [
      "Warning message:\n",
      "\"cannot remove prior installation of package 'MASS'\"\n",
      "Warning message in file.copy(savedcopy, lib, recursive = TRUE):\n",
      "\"problem copying C:\\Users\\2198K\\Documents\\R\\win-library\\3.6\\00LOCK\\MASS\\libs\\x64\\MASS.dll to C:\\Users\\2198K\\Documents\\R\\win-library\\3.6\\MASS\\libs\\x64\\MASS.dll: Permission denied\"\n",
      "Warning message:\n",
      "\"restored 'MASS'\"\n"
     ]
    },
    {
     "name": "stdout",
     "output_type": "stream",
     "text": [
      "\n",
      "The downloaded binary packages are in\n",
      "\tC:\\Users\\2198K\\AppData\\Local\\Temp\\RtmpwZ9rx3\\downloaded_packages\n"
     ]
    },
    {
     "name": "stderr",
     "output_type": "stream",
     "text": [
      "Installing package into 'C:/Users/2198K/Documents/R/win-library/3.6'\n",
      "(as 'lib' is unspecified)\n",
      "\n"
     ]
    },
    {
     "name": "stdout",
     "output_type": "stream",
     "text": [
      "\n",
      "  There is a binary version available but the source version is later:\n",
      "        binary source needs_compilation\n",
      "missMDA   1.16   1.17             FALSE\n",
      "\n"
     ]
    },
    {
     "name": "stderr",
     "output_type": "stream",
     "text": [
      "installing the source package 'missMDA'\n",
      "\n",
      "\n",
      "Installing package into 'C:/Users/2198K/Documents/R/win-library/3.6'\n",
      "(as 'lib' is unspecified)\n",
      "\n"
     ]
    },
    {
     "name": "stdout",
     "output_type": "stream",
     "text": [
      "package 'tidyverse' successfully unpacked and MD5 sums checked\n",
      "\n",
      "The downloaded binary packages are in\n",
      "\tC:\\Users\\2198K\\AppData\\Local\\Temp\\RtmpwZ9rx3\\downloaded_packages\n"
     ]
    },
    {
     "name": "stderr",
     "output_type": "stream",
     "text": [
      "-- \u001b[1mAttaching packages\u001b[22m --------------------------------------- tidyverse 1.3.0 --\n",
      "\n",
      "\u001b[32mv\u001b[39m \u001b[34mggplot2\u001b[39m 3.2.1     \u001b[32mv\u001b[39m \u001b[34mpurrr  \u001b[39m 0.3.3\n",
      "\u001b[32mv\u001b[39m \u001b[34mtibble \u001b[39m 2.1.3     \u001b[32mv\u001b[39m \u001b[34mdplyr  \u001b[39m 0.8.4\n",
      "\u001b[32mv\u001b[39m \u001b[34mtidyr  \u001b[39m 1.0.2     \u001b[32mv\u001b[39m \u001b[34mstringr\u001b[39m 1.4.0\n",
      "\u001b[32mv\u001b[39m \u001b[34mreadr  \u001b[39m 1.3.1     \u001b[32mv\u001b[39m \u001b[34mforcats\u001b[39m 0.4.0\n",
      "\n",
      "-- \u001b[1mConflicts\u001b[22m ------------------------------------------ tidyverse_conflicts() --\n",
      "\u001b[31mx\u001b[39m \u001b[34mdplyr\u001b[39m::\u001b[32mfilter()\u001b[39m masks \u001b[34mstats\u001b[39m::filter()\n",
      "\u001b[31mx\u001b[39m \u001b[34mdplyr\u001b[39m::\u001b[32mlag()\u001b[39m    masks \u001b[34mstats\u001b[39m::lag()\n",
      "\u001b[31mx\u001b[39m \u001b[34mdplyr\u001b[39m::\u001b[32mselect()\u001b[39m masks \u001b[34mMASS\u001b[39m::select()\n",
      "\n",
      "Installing package into 'C:/Users/2198K/Documents/R/win-library/3.6'\n",
      "(as 'lib' is unspecified)\n",
      "\n"
     ]
    },
    {
     "name": "stdout",
     "output_type": "stream",
     "text": [
      "package 'caret' successfully unpacked and MD5 sums checked\n"
     ]
    },
    {
     "name": "stderr",
     "output_type": "stream",
     "text": [
      "Warning message:\n",
      "\"cannot remove prior installation of package 'caret'\"\n",
      "Warning message in file.copy(savedcopy, lib, recursive = TRUE):\n",
      "\"problem copying C:\\Users\\2198K\\Documents\\R\\win-library\\3.6\\00LOCK\\caret\\libs\\x64\\caret.dll to C:\\Users\\2198K\\Documents\\R\\win-library\\3.6\\caret\\libs\\x64\\caret.dll: Permission denied\"\n",
      "Warning message:\n",
      "\"restored 'caret'\"\n"
     ]
    },
    {
     "name": "stdout",
     "output_type": "stream",
     "text": [
      "\n",
      "The downloaded binary packages are in\n",
      "\tC:\\Users\\2198K\\AppData\\Local\\Temp\\RtmpwZ9rx3\\downloaded_packages\n"
     ]
    },
    {
     "name": "stderr",
     "output_type": "stream",
     "text": [
      "Loading required package: lattice\n",
      "\n",
      "\n",
      "Attaching package: 'caret'\n",
      "\n",
      "\n",
      "The following object is masked from 'package:purrr':\n",
      "\n",
      "    lift\n",
      "\n",
      "\n"
     ]
    }
   ],
   "source": [
    "install.packages(\"MASS\")\n",
    "library(\"MASS\")\n",
    "install.packages(\"missMDA\")\n",
    "library(\"missMDA\")\n",
    "install.packages(\"tidyverse\")\n",
    "library(\"tidyverse\")\n",
    "install.packages(\"caret\")\n",
    "library(\"caret\")"
   ]
  },
  {
   "cell_type": "code",
   "execution_count": 2,
   "metadata": {},
   "outputs": [],
   "source": [
    "ionomics <- read.csv('geneva_z_transformed.csv',colClasses =c(\"NULL\",\"NULL\",NA,NA,NA,NA,NA,NA,NA,NA,NA,NA,NA,NA,NA,\n",
    "                                                                    NA,NA,NA,NA,NA,NA,NA))\n",
    "ionomics = ionomics[0:200,]\n",
    "ionomics <- imputePCA(ionomics, method = \"Regularized\")"
   ]
  },
  {
   "cell_type": "code",
   "execution_count": 3,
   "metadata": {},
   "outputs": [],
   "source": [
    "# Split the data into training (80%) and test set (20%)\n",
    "set.seed(123)\n",
    "training.samples <- ionomics$completeObs[,2] %>%\n",
    "  createDataPartition(p = 0.8, list = FALSE)\n",
    "train.data <- ionomics$completeObs[training.samples, ]\n",
    "test.data <- ionomics$completeObs[-training.samples, ]\n",
    "train.data <- unlist(test.data)\n",
    "test.data <- unlist(test.data)\n",
    "train.data <- as.data.frame(train.data)\n",
    "test.data <- as.data.frame(test.data)"
   ]
  },
  {
   "cell_type": "code",
   "execution_count": 4,
   "metadata": {},
   "outputs": [
    {
     "data": {
      "text/html": [
       "0.975"
      ],
      "text/latex": [
       "0.975"
      ],
      "text/markdown": [
       "0.975"
      ],
      "text/plain": [
       "[1] 0.975"
      ]
     },
     "metadata": {},
     "output_type": "display_data"
    },
    {
     "data": {
      "text/plain": [
       "Call:\n",
       "lda(spec_as_int ~ ., data = train.data)\n",
       "\n",
       "Prior probabilities of groups:\n",
       "    1     2     3     4     5     6     7     8 \n",
       "0.075 0.050 0.125 0.125 0.050 0.375 0.175 0.025 \n",
       "\n",
       "Group means:\n",
       "          B11       Na23       Mg26        Al27        P31         S34\n",
       "1 -0.02963193  1.4210514 -0.1939046  0.48643403 -0.3644108 -0.47498381\n",
       "2 -0.46041759 -1.2456771 -0.2894536 -0.58132392 -0.8394436 -0.67817602\n",
       "3 -0.58289360 -0.6557355 -0.6301994  0.04565049  0.3398555  1.52429834\n",
       "4 -0.23455798 -0.1261296  0.9280087  0.66048400 -0.1157965 -0.11791288\n",
       "5 -1.47053474  0.2537228 -0.2365535  0.05399644  2.4945889  0.12334844\n",
       "6  0.48724908 -0.1935301 -0.3306018  0.05187806 -0.0432380  0.02897809\n",
       "7  0.25355249 -0.2909705  0.4893211 -0.56309374 -0.1025611 -0.74952031\n",
       "8 -0.67476076 -0.3869477  0.7801425  0.41923517 -0.6673306  1.37006533\n",
       "          K39        Ca44        Fe54       Mn55       Co59        Ni60\n",
       "1 -0.31106910  0.09822832 -0.67074166  0.5850467  0.1993141 -0.22774030\n",
       "2 -0.74810931 -0.05845702 -0.06385222 -1.4798995 -1.3970757 -0.31677037\n",
       "3 -0.01071041  0.88402969  1.08668363  0.3652700  0.6273460  0.60769644\n",
       "4  0.11819159 -0.38578244  0.07228841  0.1065371  0.4868927  0.04655244\n",
       "5  0.35808069 -1.16238184 -0.59254695  0.1212538  0.9885524  1.92352462\n",
       "6  0.05134192  0.46382445  0.53118936 -0.1083786 -0.2070319 -0.29209479\n",
       "7 -0.77907787 -0.21092000 -0.66098379 -0.9356310 -1.1502099 -0.32157717\n",
       "8 -0.25820324 -0.22167256  1.49107313  0.8485177  1.1137325 -0.16492906\n",
       "        Cu63        Zn66        As75        Rb85       Sr88         Mo98\n",
       "1 -0.6982003  0.09140297 -0.09051608  1.08436930  0.7808697 -0.266220073\n",
       "2 -0.1895235 -1.10924756 -0.23636594 -0.77931866 -0.0503855 -0.367398214\n",
       "3  2.0264259  0.25880007 -0.26473748 -0.50917479  0.5805229  1.324792397\n",
       "4  0.4551395  0.18193504  1.99571736 -0.31491705 -0.2095481 -0.619461980\n",
       "5  0.2160289 -0.17991538 -0.02062729  1.35402195 -0.9782520 -0.381398634\n",
       "6 -0.4704528 -0.18932346 -0.04698832  0.09892628  0.2315073 -0.008522304\n",
       "7 -0.3418360 -0.61872050 -0.73519086 -0.29933722 -0.3357246 -0.316447458\n",
       "8  0.5283898  0.42663196  0.32264659  0.13733455 -0.4321068 -0.667164087\n",
       "        Cd111\n",
       "1 -0.09443032\n",
       "2 -0.01988177\n",
       "3  0.09487164\n",
       "4  0.06095955\n",
       "5 -0.01065921\n",
       "6 -0.19157907\n",
       "7 -0.14041097\n",
       "8  0.02481204\n",
       "\n",
       "Coefficients of linear discriminants:\n",
       "              LD1         LD2         LD3         LD4         LD5          LD6\n",
       "B11   -0.61822451  0.03363565  0.13830168  0.07791149 -0.49530039  0.054922276\n",
       "Na23  -0.05972028 -0.14465541 -0.52968863  0.27032439  0.34356667 -0.055058910\n",
       "Mg26   0.36378912 -1.08739591  0.32277195  0.10818962 -0.49406326  0.134453043\n",
       "Al27   0.29978536 -0.48594961  0.82388902 -0.42324100 -0.13104504  0.008667893\n",
       "P31   -0.67462522 -0.24839665 -0.17506417 -0.37771133 -0.26513223 -0.163623799\n",
       "S34    0.18738639  0.20917534  0.80730783 -0.81404075 -0.49921716  0.516510482\n",
       "K39   -0.28929380  0.34006605  1.91871168 -1.10514241 -0.51657883 -0.543076760\n",
       "Ca44  -1.33328506  1.02106366 -0.17954340  1.03937753 -0.87816229 -0.042672570\n",
       "Fe54  -0.56706539  1.05888064  0.15337178 -0.05885291  0.14843971  0.362356863\n",
       "Mn55   1.92096543 -0.69802626  0.05633618  0.66170789  0.27417891  0.211374567\n",
       "Co59  -0.52548045 -0.03532582  0.66770626 -1.33914673 -0.14843697 -0.093281928\n",
       "Ni60  -0.33566571  1.13735271 -1.69463012 -1.15627965 -1.04916010 -0.555443116\n",
       "Cu63   3.38017618  0.26253350 -0.03472644  1.42281855  0.33711582  0.988590660\n",
       "Zn66  -1.13648228  0.20641137 -0.42218537  0.06720813  0.64972096  0.428836747\n",
       "As75   0.01273418 -0.19048455  0.04082896  0.48068157 -0.02643108 -0.663817074\n",
       "Rb85  -0.88733960 -0.62135500 -0.98368783  0.52013563  0.73748725  0.802228514\n",
       "Sr88   1.03079200 -0.86006009  0.51561514 -1.73073584  1.49427130 -0.553100393\n",
       "Mo98  -2.33271137  0.93466843 -1.18058310  0.75840410  0.61236667 -1.314643185\n",
       "Cd111  5.98695846 -2.34241524 -2.83780419 -0.96722706  1.08817357 -2.611869922\n",
       "              LD7\n",
       "B11   -0.37795709\n",
       "Na23  -0.31285623\n",
       "Mg26  -0.46516403\n",
       "Al27   0.05091860\n",
       "P31   -0.44767703\n",
       "S34    0.66061046\n",
       "K39   -0.53286893\n",
       "Ca44  -0.63491243\n",
       "Fe54   0.29959278\n",
       "Mn55  -0.39541254\n",
       "Co59   0.10828753\n",
       "Ni60   0.60105485\n",
       "Cu63  -0.77337077\n",
       "Zn66  -0.53161446\n",
       "As75   0.09869994\n",
       "Rb85  -0.04693159\n",
       "Sr88   0.95008421\n",
       "Mo98  -0.54918637\n",
       "Cd111  1.46166065\n",
       "\n",
       "Proportion of trace:\n",
       "   LD1    LD2    LD3    LD4    LD5    LD6    LD7 \n",
       "0.4748 0.2402 0.1235 0.0848 0.0487 0.0160 0.0120 "
      ]
     },
     "metadata": {},
     "output_type": "display_data"
    }
   ],
   "source": [
    "# Fit the model\n",
    "model <- lda(spec_as_int~., data = train.data)\n",
    "# Make predictions\n",
    "predictions <- model %>% predict(test.data)\n",
    "# Model accuracy\n",
    "mean(predictions$class==test.data$spec_as_int)\n",
    "model"
   ]
  },
  {
   "cell_type": "code",
   "execution_count": 5,
   "metadata": {},
   "outputs": [
    {
     "data": {
      "image/png": "[encoded data removed]",
      "text/plain": [
       "plot without title"
      ]
     },
     "metadata": {
      "image/png": {
       "height": 420,
       "width": 420
      },
      "text/plain": {
       "height": 420,
       "width": 420
      }
     },
     "output_type": "display_data"
    }
   ],
   "source": [
    "plot(model)"
   ]
  },
  {
   "cell_type": "code",
   "execution_count": 6,
   "metadata": {},
   "outputs": [
    {
     "data": {
      "text/html": [
       "<style>\n",
       ".list-inline {list-style: none; margin:0; padding: 0}\n",
       ".list-inline>li {display: inline-block}\n",
       ".list-inline>li:not(:last-child)::after {content: \"\\00b7\"; padding: 0 .5ex}\n",
       "</style>\n",
       "<ol class=list-inline><li>1</li><li>1</li><li>1</li><li>2</li><li>2</li><li>3</li></ol>\n",
       "\n",
       "<details>\n",
       "\t<summary style=display:list-item;cursor:pointer>\n",
       "\t\t<strong>Levels</strong>:\n",
       "\t</summary>\n",
       "\t<style>\n",
       "\t.list-inline {list-style: none; margin:0; padding: 0}\n",
       "\t.list-inline>li {display: inline-block}\n",
       "\t.list-inline>li:not(:last-child)::after {content: \"\\00b7\"; padding: 0 .5ex}\n",
       "\t</style>\n",
       "\t<ol class=list-inline><li>'1'</li><li>'2'</li><li>'3'</li><li>'4'</li><li>'5'</li><li>'6'</li><li>'7'</li><li>'8'</li></ol>\n",
       "</details>"
      ],
      "text/latex": [
       "\\begin{enumerate*}\n",
       "\\item 1\n",
       "\\item 1\n",
       "\\item 1\n",
       "\\item 2\n",
       "\\item 2\n",
       "\\item 3\n",
       "\\end{enumerate*}\n",
       "\n",
       "\\emph{Levels}: \\begin{enumerate*}\n",
       "\\item '1'\n",
       "\\item '2'\n",
       "\\item '3'\n",
       "\\item '4'\n",
       "\\item '5'\n",
       "\\item '6'\n",
       "\\item '7'\n",
       "\\item '8'\n",
       "\\end{enumerate*}\n"
      ],
      "text/markdown": [
       "1. 1\n",
       "2. 1\n",
       "3. 1\n",
       "4. 2\n",
       "5. 2\n",
       "6. 3\n",
       "\n",
       "\n",
       "\n",
       "**Levels**: 1. '1'\n",
       "2. '2'\n",
       "3. '3'\n",
       "4. '4'\n",
       "5. '5'\n",
       "6. '6'\n",
       "7. '7'\n",
       "8. '8'\n",
       "\n",
       "\n"
      ],
      "text/plain": [
       "[1] 1 1 1 2 2 3\n",
       "Levels: 1 2 3 4 5 6 7 8"
      ]
     },
     "metadata": {},
     "output_type": "display_data"
    },
    {
     "data": {
      "text/html": [
       "<table>\n",
       "<caption>A matrix: 6 × 8 of type dbl</caption>\n",
       "<thead>\n",
       "\t<tr><th></th><th scope=col>1</th><th scope=col>2</th><th scope=col>3</th><th scope=col>4</th><th scope=col>5</th><th scope=col>6</th><th scope=col>7</th><th scope=col>8</th></tr>\n",
       "</thead>\n",
       "<tbody>\n",
       "\t<tr><th scope=row>1</th><td>1.000000e+00</td><td>3.991394e-16</td><td>6.314113e-28</td><td>1.906556e-17</td><td>9.723261e-16</td><td>1.365641e-13</td><td>8.007322e-10</td><td>6.341077e-22</td></tr>\n",
       "\t<tr><th scope=row>7</th><td>9.495396e-01</td><td>1.637874e-05</td><td>4.778130e-15</td><td>3.517182e-07</td><td>9.756470e-08</td><td>1.769107e-05</td><td>5.042584e-02</td><td>1.705055e-12</td></tr>\n",
       "\t<tr><th scope=row>9</th><td>9.999960e-01</td><td>7.169719e-08</td><td>1.088967e-18</td><td>6.886957e-11</td><td>3.495499e-11</td><td>1.498067e-07</td><td>3.750912e-06</td><td>3.640119e-18</td></tr>\n",
       "\t<tr><th scope=row>14</th><td>5.933699e-09</td><td>9.798081e-01</td><td>6.731927e-06</td><td>9.053147e-12</td><td>1.266359e-11</td><td>4.389711e-03</td><td>1.579546e-02</td><td>5.128900e-14</td></tr>\n",
       "\t<tr><th scope=row>15</th><td>5.219203e-10</td><td>9.996004e-01</td><td>4.136268e-08</td><td>1.089573e-05</td><td>1.294186e-11</td><td>4.496568e-10</td><td>3.886428e-04</td><td>5.085425e-10</td></tr>\n",
       "\t<tr><th scope=row>23</th><td>3.785773e-22</td><td>6.447997e-09</td><td>1.000000e+00</td><td>1.454780e-19</td><td>2.847101e-19</td><td>6.766990e-16</td><td>8.320509e-16</td><td>2.340645e-18</td></tr>\n",
       "</tbody>\n",
       "</table>\n"
      ],
      "text/latex": [
       "A matrix: 6 × 8 of type dbl\n",
       "\\begin{tabular}{r|llllllll}\n",
       "  & 1 & 2 & 3 & 4 & 5 & 6 & 7 & 8\\\\\n",
       "\\hline\n",
       "\t1 & 1.000000e+00 & 3.991394e-16 & 6.314113e-28 & 1.906556e-17 & 9.723261e-16 & 1.365641e-13 & 8.007322e-10 & 6.341077e-22\\\\\n",
       "\t7 & 9.495396e-01 & 1.637874e-05 & 4.778130e-15 & 3.517182e-07 & 9.756470e-08 & 1.769107e-05 & 5.042584e-02 & 1.705055e-12\\\\\n",
       "\t9 & 9.999960e-01 & 7.169719e-08 & 1.088967e-18 & 6.886957e-11 & 3.495499e-11 & 1.498067e-07 & 3.750912e-06 & 3.640119e-18\\\\\n",
       "\t14 & 5.933699e-09 & 9.798081e-01 & 6.731927e-06 & 9.053147e-12 & 1.266359e-11 & 4.389711e-03 & 1.579546e-02 & 5.128900e-14\\\\\n",
       "\t15 & 5.219203e-10 & 9.996004e-01 & 4.136268e-08 & 1.089573e-05 & 1.294186e-11 & 4.496568e-10 & 3.886428e-04 & 5.085425e-10\\\\\n",
       "\t23 & 3.785773e-22 & 6.447997e-09 & 1.000000e+00 & 1.454780e-19 & 2.847101e-19 & 6.766990e-16 & 8.320509e-16 & 2.340645e-18\\\\\n",
       "\\end{tabular}\n"
      ],
      "text/markdown": [
       "\n",
       "A matrix: 6 × 8 of type dbl\n",
       "\n",
       "| <!--/--> | 1 | 2 | 3 | 4 | 5 | 6 | 7 | 8 |\n",
       "|---|---|---|---|---|---|---|---|---|\n",
       "| 1 | 1.000000e+00 | 3.991394e-16 | 6.314113e-28 | 1.906556e-17 | 9.723261e-16 | 1.365641e-13 | 8.007322e-10 | 6.341077e-22 |\n",
       "| 7 | 9.495396e-01 | 1.637874e-05 | 4.778130e-15 | 3.517182e-07 | 9.756470e-08 | 1.769107e-05 | 5.042584e-02 | 1.705055e-12 |\n",
       "| 9 | 9.999960e-01 | 7.169719e-08 | 1.088967e-18 | 6.886957e-11 | 3.495499e-11 | 1.498067e-07 | 3.750912e-06 | 3.640119e-18 |\n",
       "| 14 | 5.933699e-09 | 9.798081e-01 | 6.731927e-06 | 9.053147e-12 | 1.266359e-11 | 4.389711e-03 | 1.579546e-02 | 5.128900e-14 |\n",
       "| 15 | 5.219203e-10 | 9.996004e-01 | 4.136268e-08 | 1.089573e-05 | 1.294186e-11 | 4.496568e-10 | 3.886428e-04 | 5.085425e-10 |\n",
       "| 23 | 3.785773e-22 | 6.447997e-09 | 1.000000e+00 | 1.454780e-19 | 2.847101e-19 | 6.766990e-16 | 8.320509e-16 | 2.340645e-18 |\n",
       "\n"
      ],
      "text/plain": [
       "   1            2            3            4            5           \n",
       "1  1.000000e+00 3.991394e-16 6.314113e-28 1.906556e-17 9.723261e-16\n",
       "7  9.495396e-01 1.637874e-05 4.778130e-15 3.517182e-07 9.756470e-08\n",
       "9  9.999960e-01 7.169719e-08 1.088967e-18 6.886957e-11 3.495499e-11\n",
       "14 5.933699e-09 9.798081e-01 6.731927e-06 9.053147e-12 1.266359e-11\n",
       "15 5.219203e-10 9.996004e-01 4.136268e-08 1.089573e-05 1.294186e-11\n",
       "23 3.785773e-22 6.447997e-09 1.000000e+00 1.454780e-19 2.847101e-19\n",
       "   6            7            8           \n",
       "1  1.365641e-13 8.007322e-10 6.341077e-22\n",
       "7  1.769107e-05 5.042584e-02 1.705055e-12\n",
       "9  1.498067e-07 3.750912e-06 3.640119e-18\n",
       "14 4.389711e-03 1.579546e-02 5.128900e-14\n",
       "15 4.496568e-10 3.886428e-04 5.085425e-10\n",
       "23 6.766990e-16 8.320509e-16 2.340645e-18"
      ]
     },
     "metadata": {},
     "output_type": "display_data"
    },
    {
     "data": {
      "text/html": [
       "<table>\n",
       "<caption>A matrix: 3 × 7 of type dbl</caption>\n",
       "<thead>\n",
       "\t<tr><th></th><th scope=col>LD1</th><th scope=col>LD2</th><th scope=col>LD3</th><th scope=col>LD4</th><th scope=col>LD5</th><th scope=col>LD6</th><th scope=col>LD7</th></tr>\n",
       "</thead>\n",
       "<tbody>\n",
       "\t<tr><th scope=row>1</th><td>-1.0184819</td><td>-4.897399</td><td>-1.8076510</td><td>-0.8358601</td><td>4.684930</td><td> 1.467282</td><td>-0.2651436</td></tr>\n",
       "\t<tr><th scope=row>7</th><td> 0.0412032</td><td>-2.887429</td><td>-0.9834701</td><td>-0.2965233</td><td>1.153184</td><td> 0.152675</td><td>-0.2974249</td></tr>\n",
       "\t<tr><th scope=row>9</th><td>-0.4735273</td><td>-3.045889</td><td>-0.8173878</td><td>-0.8733949</td><td>3.016341</td><td>-1.630625</td><td> 0.8262442</td></tr>\n",
       "</tbody>\n",
       "</table>\n"
      ],
      "text/latex": [
       "A matrix: 3 × 7 of type dbl\n",
       "\\begin{tabular}{r|lllllll}\n",
       "  & LD1 & LD2 & LD3 & LD4 & LD5 & LD6 & LD7\\\\\n",
       "\\hline\n",
       "\t1 & -1.0184819 & -4.897399 & -1.8076510 & -0.8358601 & 4.684930 &  1.467282 & -0.2651436\\\\\n",
       "\t7 &  0.0412032 & -2.887429 & -0.9834701 & -0.2965233 & 1.153184 &  0.152675 & -0.2974249\\\\\n",
       "\t9 & -0.4735273 & -3.045889 & -0.8173878 & -0.8733949 & 3.016341 & -1.630625 &  0.8262442\\\\\n",
       "\\end{tabular}\n"
      ],
      "text/markdown": [
       "\n",
       "A matrix: 3 × 7 of type dbl\n",
       "\n",
       "| <!--/--> | LD1 | LD2 | LD3 | LD4 | LD5 | LD6 | LD7 |\n",
       "|---|---|---|---|---|---|---|---|\n",
       "| 1 | -1.0184819 | -4.897399 | -1.8076510 | -0.8358601 | 4.684930 |  1.467282 | -0.2651436 |\n",
       "| 7 |  0.0412032 | -2.887429 | -0.9834701 | -0.2965233 | 1.153184 |  0.152675 | -0.2974249 |\n",
       "| 9 | -0.4735273 | -3.045889 | -0.8173878 | -0.8733949 | 3.016341 | -1.630625 |  0.8262442 |\n",
       "\n"
      ],
      "text/plain": [
       "  LD1        LD2       LD3        LD4        LD5      LD6       LD7       \n",
       "1 -1.0184819 -4.897399 -1.8076510 -0.8358601 4.684930  1.467282 -0.2651436\n",
       "7  0.0412032 -2.887429 -0.9834701 -0.2965233 1.153184  0.152675 -0.2974249\n",
       "9 -0.4735273 -3.045889 -0.8173878 -0.8733949 3.016341 -1.630625  0.8262442"
      ]
     },
     "metadata": {},
     "output_type": "display_data"
    }
   ],
   "source": [
    "# Predicted classes\n",
    "head(predictions$class, 6)\n",
    "# Predicted probabilities of class memebership.\n",
    "head(predictions$posterior, 6) \n",
    "# Linear discriminants\n",
    "head(predictions$x, 3) "
   ]
  },
  {
   "cell_type": "code",
   "execution_count": 7,
   "metadata": {},
   "outputs": [
    {
     "name": "stdout",
     "output_type": "stream",
     "text": [
      "Confusion Matrix and Statistics\n",
      "\n",
      "         Species\n",
      "Predicted  1  2  3  4  5  6  7  8\n",
      "        1  3  0  0  0  0  0  0  0\n",
      "        2  0  2  1  0  0  0  0  0\n",
      "        3  0  0  4  0  0  0  0  0\n",
      "        4  0  0  0  5  0  0  0  0\n",
      "        5  0  0  0  0  2  0  0  0\n",
      "        6  0  0  0  0  0 15  0  0\n",
      "        7  0  0  0  0  0  0  7  0\n",
      "        8  0  0  0  0  0  0  0  1\n",
      "\n",
      "Overall Statistics\n",
      "                                          \n",
      "               Accuracy : 0.975           \n",
      "                 95% CI : (0.8684, 0.9994)\n",
      "    No Information Rate : 0.375           \n",
      "    P-Value [Acc > NIR] : 6.189e-16       \n",
      "                                          \n",
      "                  Kappa : 0.9683          \n",
      "                                          \n",
      " Mcnemar's Test P-Value : NA              \n",
      "\n",
      "Statistics by Class:\n",
      "\n",
      "                     Class: 1 Class: 2 Class: 3 Class: 4 Class: 5 Class: 6\n",
      "Sensitivity             1.000   1.0000   0.8000    1.000     1.00    1.000\n",
      "Specificity             1.000   0.9737   1.0000    1.000     1.00    1.000\n",
      "Pos Pred Value          1.000   0.6667   1.0000    1.000     1.00    1.000\n",
      "Neg Pred Value          1.000   1.0000   0.9722    1.000     1.00    1.000\n",
      "Prevalence              0.075   0.0500   0.1250    0.125     0.05    0.375\n",
      "Detection Rate          0.075   0.0500   0.1000    0.125     0.05    0.375\n",
      "Detection Prevalence    0.075   0.0750   0.1000    0.125     0.05    0.375\n",
      "Balanced Accuracy       1.000   0.9868   0.9000    1.000     1.00    1.000\n",
      "                     Class: 7 Class: 8\n",
      "Sensitivity             1.000    1.000\n",
      "Specificity             1.000    1.000\n",
      "Pos Pred Value          1.000    1.000\n",
      "Neg Pred Value          1.000    1.000\n",
      "Prevalence              0.175    0.025\n",
      "Detection Rate          0.175    0.025\n",
      "Detection Prevalence    0.175    0.025\n",
      "Balanced Accuracy       1.000    1.000\n"
     ]
    }
   ],
   "source": [
    "predmodel.test.lda = predict(model, data=test.data)\n",
    "table <- table(Predicted=predmodel.test.lda$class, Species=train.data$spec_as_int)\n",
    "print(confusionMatrix(table))"
   ]
  }
 ],
 "metadata": {
  "kernelspec": {
   "display_name": "R",
   "language": "R",
   "name": "ir"
  },
  "language_info": {
   "codemirror_mode": "r",
   "file_extension": ".r",
   "mimetype": "text/x-r-source",
   "name": "R",
   "pygments_lexer": "r",
   "version": "3.6.3"
  }
 },
 "nbformat": 4,
 "nbformat_minor": 4
}
