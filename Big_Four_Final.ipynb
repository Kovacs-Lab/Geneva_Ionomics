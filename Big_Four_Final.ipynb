{
 "cells": [
  {
   "cell_type": "code",
   "execution_count": null,
   "metadata": {},
   "outputs": [],
   "source": [
    "#Installing packages and loading them into the enviroment\n",
    "install.packages(\"MASS\")\n",
    "library(\"MASS\")\n",
    "install.packages(\"missMDA\")\n",
    "library(\"missMDA\")\n",
    "install.packages(\"tidyverse\")\n",
    "library(\"tidyverse\")\n",
    "install.packages(\"caret\")\n",
    "library(\"caret\")\n",
    "install.packages(\"mice\")\n",
    "library(\"mice\")\n",
    "install.packages(\"viridis\")\n",
    "library(\"viridis\")\n",
    "install.packages(\"ggrepel\")\n",
    "library(\"ggrepel\")\n",
    "install.packages(\"pROC\")\n",
    "library(\"pROC\")"
   ]
  },
  {
   "cell_type": "code",
   "execution_count": 2,
   "metadata": {},
   "outputs": [],
   "source": [
    "#Loading all needed files,dropping first two coloumns, which are not needed for analysis (ID, species)\n",
    "ionomics <- read.csv('spec_woAestAcerPalmVulp_shoot_xyz_concat.csv', colClasses =c(\"NULL\",\"NULL\",NA,NA,NA,NA,NA,NA,NA,NA,NA,NA,NA,NA,NA,\n",
    "                                                                    NA,NA,NA,NA,NA,NA,NA))\n",
    "hybrids <- read.csv('spec_shoot_xyz_concat_unk_only.csv', colClasses = c(\"NULL\",NA,NA,NA,NA,NA,NA,NA,NA,NA,NA,NA,NA,NA,NA,\n",
    "                                                                        NA,NA,NA,NA,NA,NA,NA))\n",
    "#Imputation via missMDA\n",
    "imputeIonomics <- imputePCA(ionomics, method = \"Regularized\")"
   ]
  },
  {
   "cell_type": "code",
   "execution_count": 3,
   "metadata": {},
   "outputs": [
    {
     "name": "stdout",
     "output_type": "stream",
     "text": [
      "\n",
      " iter imp variable\n",
      "  1   1  S34_X\n",
      "  2   1  S34_X\n",
      "  3   1  S34_X\n",
      "  4   1  S34_X\n",
      "  5   1  S34_X\n"
     ]
    }
   ],
   "source": [
    "#Imputation via Mice\n",
    "# TODO add in fit graphics and missing data quantification\n",
    "temp <- mice(ionomics, m = 1, maxit = 5, method = \"norm.boot\", seed = 567)\n",
    "ionomicsComplete <- complete(temp,1)"
   ]
  },
  {
   "cell_type": "code",
   "execution_count": 60,
   "metadata": {},
   "outputs": [
    {
     "data": {
      "text/html": [
       "0.869009986671051"
      ],
      "text/latex": [
       "0.869009986671051"
      ],
      "text/markdown": [
       "0.869009986671051"
      ],
      "text/plain": [
       "Multi-class area under the curve: 0.869"
      ]
     },
     "metadata": {},
     "output_type": "display_data"
    },
    {
     "data": {
      "text/html": [
       "0.855105105105105"
      ],
      "text/latex": [
       "0.855105105105105"
      ],
      "text/markdown": [
       "0.855105105105105"
      ],
      "text/plain": [
       "[1] 0.8551051"
      ]
     },
     "metadata": {},
     "output_type": "display_data"
    }
   ],
   "source": [
    "#data imputed with missMDA regularized method\n",
    "mean.impute = 0 #Start our average with 0\n",
    "auc = 0\n",
    "for (x in 1:1000){ # run 1000 permutations\n",
    "    set.seed(x) #cycle through many random generator seeds\n",
    "    training.samples.impute <- imputeIonomics$completeObs[,2] %>%\n",
    "        createDataPartition(p = 0.8, list = FALSE) #split the data into training (80%) and testing (20%)\n",
    "    train.data.impute <- imputeIonomics$completeObs[training.samples.impute, ] #generate training set\n",
    "    test.data.impute <- imputeIonomics$completeObs[-training.samples.impute, ] #generate test set\n",
    "    train.data.impute <- unlist(train.data.impute) #typecast from matrix into dataframe\n",
    "    test.data.impute <- unlist(test.data.impute)\n",
    "    train.data.impute <- as.data.frame(train.data.impute)\n",
    "    test.data.impute <- as.data.frame(test.data.impute)\n",
    "    model.impute <- lda(spec_as_int~., data = train.data.impute) #generate the LDA model\n",
    "    predictions.impute <- model.impute %>% predict(test.data.impute) #predict the species of individuals in our test set based off of this model\n",
    "    mean.impute = mean.impute + mean(predictions.impute$class==test.data.impute$spec_as_int) #measure how often this prediction is correct, then add it to a running total\n",
    "    m.roc <- multiclass.roc(test.data.impute$spec_as_int, as.numeric(predictions.impute$class), direction = \"<\") #measures area under the curve for classifier metric accuracy\n",
    "    auc <- auc + m.roc$auc\n",
    "}\n",
    "mean.impute = mean.impute/999 #divide running total by number of runs to find our average LDA model accuracy\n",
    "auc = auc/999 #divide running total by number of runs to find our average AUC accuracy\n",
    "auc #print the AUC average to the screen\n",
    "mean.impute #print the LDA model average to the screen"
   ]
  },
  {
   "cell_type": "code",
   "execution_count": 65,
   "metadata": {},
   "outputs": [
    {
     "data": {
      "text/html": [
       "<table>\n",
       "<caption>A matrix: 4 × 11 of type dbl</caption>\n",
       "<thead>\n",
       "\t<tr><th></th><th scope=col>Sensitivity</th><th scope=col>Specificity</th><th scope=col>Pos Pred Value</th><th scope=col>Neg Pred Value</th><th scope=col>Precision</th><th scope=col>Recall</th><th scope=col>F1</th><th scope=col>Prevalence</th><th scope=col>Detection Rate</th><th scope=col>Detection Prevalence</th><th scope=col>Balanced Accuracy</th></tr>\n",
       "</thead>\n",
       "<tbody>\n",
       "\t<tr><th scope=row>Class: 3</th><td>1.0010010</td><td>1.0010010</td><td>1.0010010</td><td>1.0010010</td><td>1.0010010</td><td>1.0010010</td><td>1.0010010</td><td>0.1251251</td><td>0.1251251</td><td>0.1251251</td><td>1.001001</td></tr>\n",
       "\t<tr><th scope=row>Class: 4</th><td>1.0010010</td><td>0.9209209</td><td>0.7785563</td><td>1.0010010</td><td>0.7785563</td><td>1.0010010</td><td>0.8758759</td><td>0.2189690</td><td>0.2189690</td><td>0.2815315</td><td>0.960961</td></tr>\n",
       "\t<tr><th scope=row>Class: 6</th><td>0.9100009</td><td>1.0010010</td><td>1.0010010</td><td>0.9555010</td><td>1.0010010</td><td>0.9100009</td><td>0.9533343</td><td>0.3440941</td><td>0.3128128</td><td>0.3128128</td><td>0.955501</td></tr>\n",
       "\t<tr><th scope=row>Class: 7</th><td>0.9009009</td><td>1.0010010</td><td>1.0010010</td><td>0.9574792</td><td>1.0010010</td><td>0.9009009</td><td>0.9483167</td><td>0.3128128</td><td>0.2815315</td><td>0.2815315</td><td>0.950951</td></tr>\n",
       "</tbody>\n",
       "</table>\n"
      ],
      "text/latex": [
       "A matrix: 4 × 11 of type dbl\n",
       "\\begin{tabular}{r|lllllllllll}\n",
       "  & Sensitivity & Specificity & Pos Pred Value & Neg Pred Value & Precision & Recall & F1 & Prevalence & Detection Rate & Detection Prevalence & Balanced Accuracy\\\\\n",
       "\\hline\n",
       "\tClass: 3 & 1.0010010 & 1.0010010 & 1.0010010 & 1.0010010 & 1.0010010 & 1.0010010 & 1.0010010 & 0.1251251 & 0.1251251 & 0.1251251 & 1.001001\\\\\n",
       "\tClass: 4 & 1.0010010 & 0.9209209 & 0.7785563 & 1.0010010 & 0.7785563 & 1.0010010 & 0.8758759 & 0.2189690 & 0.2189690 & 0.2815315 & 0.960961\\\\\n",
       "\tClass: 6 & 0.9100009 & 1.0010010 & 1.0010010 & 0.9555010 & 1.0010010 & 0.9100009 & 0.9533343 & 0.3440941 & 0.3128128 & 0.3128128 & 0.955501\\\\\n",
       "\tClass: 7 & 0.9009009 & 1.0010010 & 1.0010010 & 0.9574792 & 1.0010010 & 0.9009009 & 0.9483167 & 0.3128128 & 0.2815315 & 0.2815315 & 0.950951\\\\\n",
       "\\end{tabular}\n"
      ],
      "text/markdown": [
       "\n",
       "A matrix: 4 × 11 of type dbl\n",
       "\n",
       "| <!--/--> | Sensitivity | Specificity | Pos Pred Value | Neg Pred Value | Precision | Recall | F1 | Prevalence | Detection Rate | Detection Prevalence | Balanced Accuracy |\n",
       "|---|---|---|---|---|---|---|---|---|---|---|---|\n",
       "| Class: 3 | 1.0010010 | 1.0010010 | 1.0010010 | 1.0010010 | 1.0010010 | 1.0010010 | 1.0010010 | 0.1251251 | 0.1251251 | 0.1251251 | 1.001001 |\n",
       "| Class: 4 | 1.0010010 | 0.9209209 | 0.7785563 | 1.0010010 | 0.7785563 | 1.0010010 | 0.8758759 | 0.2189690 | 0.2189690 | 0.2815315 | 0.960961 |\n",
       "| Class: 6 | 0.9100009 | 1.0010010 | 1.0010010 | 0.9555010 | 1.0010010 | 0.9100009 | 0.9533343 | 0.3440941 | 0.3128128 | 0.3128128 | 0.955501 |\n",
       "| Class: 7 | 0.9009009 | 1.0010010 | 1.0010010 | 0.9574792 | 1.0010010 | 0.9009009 | 0.9483167 | 0.3128128 | 0.2815315 | 0.2815315 | 0.950951 |\n",
       "\n"
      ],
      "text/plain": [
       "         Sensitivity Specificity Pos Pred Value Neg Pred Value Precision\n",
       "Class: 3 1.0010010   1.0010010   1.0010010      1.0010010      1.0010010\n",
       "Class: 4 1.0010010   0.9209209   0.7785563      1.0010010      0.7785563\n",
       "Class: 6 0.9100009   1.0010010   1.0010010      0.9555010      1.0010010\n",
       "Class: 7 0.9009009   1.0010010   1.0010010      0.9574792      1.0010010\n",
       "         Recall    F1        Prevalence Detection Rate Detection Prevalence\n",
       "Class: 3 1.0010010 1.0010010 0.1251251  0.1251251      0.1251251           \n",
       "Class: 4 1.0010010 0.8758759 0.2189690  0.2189690      0.2815315           \n",
       "Class: 6 0.9100009 0.9533343 0.3440941  0.3128128      0.3128128           \n",
       "Class: 7 0.9009009 0.9483167 0.3128128  0.2815315      0.2815315           \n",
       "         Balanced Accuracy\n",
       "Class: 3 1.001001         \n",
       "Class: 4 0.960961         \n",
       "Class: 6 0.955501         \n",
       "Class: 7 0.950951         "
      ]
     },
     "metadata": {},
     "output_type": "display_data"
    }
   ],
   "source": [
    "#data imputed with missMDA regularized method\n",
    "cm = 0 #start our average with 0\n",
    "for (x in 1:1000){ # run 1000 permutations\n",
    "    set.seed(x) #cycle through many random generator seeds\n",
    "    missMDA.cm <- confusionMatrix(data=as.factor(predictions.impute$class), reference = as.factor(test.data.impute$spec_as_int), dnn = c(\"Prediction\", \"Reference\"), prevalence = NULL, mode=\"everything\") #generate confusion matrix\n",
    "    cm <- missMDA.cm$byClass + cm #add average to classifier metrics\n",
    "}\n",
    "cm = cm/999 #divide running total by number of runs to find our average AUC accuracy\n",
    "cm #print the missMDA imputed classifier metrics average to the screen"
   ]
  },
  {
   "cell_type": "code",
   "execution_count": 12,
   "metadata": {},
   "outputs": [
    {
     "data": {
      "text/html": [
       "0.869403845873532"
      ],
      "text/latex": [
       "0.869403845873532"
      ],
      "text/markdown": [
       "0.869403845873532"
      ],
      "text/plain": [
       "Multi-class area under the curve: 0.8694"
      ]
     },
     "metadata": {},
     "output_type": "display_data"
    },
    {
     "data": {
      "text/html": [
       "0.855324074074074"
      ],
      "text/latex": [
       "0.855324074074074"
      ],
      "text/markdown": [
       "0.855324074074074"
      ],
      "text/plain": [
       "[1] 0.8553241"
      ]
     },
     "metadata": {},
     "output_type": "display_data"
    }
   ],
   "source": [
    "#data imputed with mice, norm.boot method\n",
    "mean.mice = 0 #Start our average with 0\n",
    "auc = 0\n",
    "for (x in 1:1000){ #run 10000 permutations\n",
    "    set.seed(x)  #cycle through many random generator seeds\n",
    "    training.samples.mice <- ionomicsComplete[,2] %>%\n",
    "        createDataPartition(p = 0.8, list = FALSE) #split the data into training (80%) and testing (20%)\n",
    "    train.data.mice <- ionomicsComplete[training.samples.mice, ] #generate training set\n",
    "    test.data.mice <- ionomicsComplete[-training.samples.mice, ] #generate test set\n",
    "    model.mice <- lda(spec_as_int~., data = train.data.mice) #generate the LDA model\n",
    "    predictions.mice <- model.mice %>% predict(test.data.mice) #predict the species of individuals in our test set based off of this model\n",
    "    mean.mice = mean.mice + mean(predictions.mice$class==test.data.mice$spec_as_int) #measure how often this prediction is correct, then add it to a running total\n",
    "    m.roc <- multiclass.roc(test.data.mice$spec_as_int, as.numeric(predictions.mice$class), direction = \"<\") #measures area under the curve for classifier metric accuracy\n",
    "    auc <- auc + m.roc$auc\n",
    "}\n",
    "mean.mice = mean.mice/999 #divide running total by number of runs to find our average\n",
    "auc <- auc/999 #divide running total by number of runs to find our average AUC accuracy\n",
    "auc #print the AUC average to the screen\n",
    "mean.mice #print the LDA average to the screen"
   ]
  },
  {
   "cell_type": "code",
   "execution_count": 63,
   "metadata": {},
   "outputs": [
    {
     "data": {
      "text/html": [
       "<table>\n",
       "<caption>A matrix: 4 × 11 of type dbl</caption>\n",
       "<thead>\n",
       "\t<tr><th></th><th scope=col>Sensitivity</th><th scope=col>Specificity</th><th scope=col>Pos Pred Value</th><th scope=col>Neg Pred Value</th><th scope=col>Precision</th><th scope=col>Recall</th><th scope=col>F1</th><th scope=col>Prevalence</th><th scope=col>Detection Rate</th><th scope=col>Detection Prevalence</th><th scope=col>Balanced Accuracy</th></tr>\n",
       "</thead>\n",
       "<tbody>\n",
       "\t<tr><th scope=row>Class: 3</th><td>1.0010010</td><td>1.0010010</td><td>1.0010010</td><td>1.0010010</td><td>1.0010010</td><td>1.0010010</td><td>1.0010010</td><td>0.1251251</td><td>0.1251251</td><td>0.1251251</td><td>1.001001</td></tr>\n",
       "\t<tr><th scope=row>Class: 4</th><td>1.0010010</td><td>0.9209209</td><td>0.7785563</td><td>1.0010010</td><td>0.7785563</td><td>1.0010010</td><td>0.8758759</td><td>0.2189690</td><td>0.2189690</td><td>0.2815315</td><td>0.960961</td></tr>\n",
       "\t<tr><th scope=row>Class: 6</th><td>0.9100009</td><td>1.0010010</td><td>1.0010010</td><td>0.9555010</td><td>1.0010010</td><td>0.9100009</td><td>0.9533343</td><td>0.3440941</td><td>0.3128128</td><td>0.3128128</td><td>0.955501</td></tr>\n",
       "\t<tr><th scope=row>Class: 7</th><td>0.9009009</td><td>1.0010010</td><td>1.0010010</td><td>0.9574792</td><td>1.0010010</td><td>0.9009009</td><td>0.9483167</td><td>0.3128128</td><td>0.2815315</td><td>0.2815315</td><td>0.950951</td></tr>\n",
       "</tbody>\n",
       "</table>\n"
      ],
      "text/latex": [
       "A matrix: 4 × 11 of type dbl\n",
       "\\begin{tabular}{r|lllllllllll}\n",
       "  & Sensitivity & Specificity & Pos Pred Value & Neg Pred Value & Precision & Recall & F1 & Prevalence & Detection Rate & Detection Prevalence & Balanced Accuracy\\\\\n",
       "\\hline\n",
       "\tClass: 3 & 1.0010010 & 1.0010010 & 1.0010010 & 1.0010010 & 1.0010010 & 1.0010010 & 1.0010010 & 0.1251251 & 0.1251251 & 0.1251251 & 1.001001\\\\\n",
       "\tClass: 4 & 1.0010010 & 0.9209209 & 0.7785563 & 1.0010010 & 0.7785563 & 1.0010010 & 0.8758759 & 0.2189690 & 0.2189690 & 0.2815315 & 0.960961\\\\\n",
       "\tClass: 6 & 0.9100009 & 1.0010010 & 1.0010010 & 0.9555010 & 1.0010010 & 0.9100009 & 0.9533343 & 0.3440941 & 0.3128128 & 0.3128128 & 0.955501\\\\\n",
       "\tClass: 7 & 0.9009009 & 1.0010010 & 1.0010010 & 0.9574792 & 1.0010010 & 0.9009009 & 0.9483167 & 0.3128128 & 0.2815315 & 0.2815315 & 0.950951\\\\\n",
       "\\end{tabular}\n"
      ],
      "text/markdown": [
       "\n",
       "A matrix: 4 × 11 of type dbl\n",
       "\n",
       "| <!--/--> | Sensitivity | Specificity | Pos Pred Value | Neg Pred Value | Precision | Recall | F1 | Prevalence | Detection Rate | Detection Prevalence | Balanced Accuracy |\n",
       "|---|---|---|---|---|---|---|---|---|---|---|---|\n",
       "| Class: 3 | 1.0010010 | 1.0010010 | 1.0010010 | 1.0010010 | 1.0010010 | 1.0010010 | 1.0010010 | 0.1251251 | 0.1251251 | 0.1251251 | 1.001001 |\n",
       "| Class: 4 | 1.0010010 | 0.9209209 | 0.7785563 | 1.0010010 | 0.7785563 | 1.0010010 | 0.8758759 | 0.2189690 | 0.2189690 | 0.2815315 | 0.960961 |\n",
       "| Class: 6 | 0.9100009 | 1.0010010 | 1.0010010 | 0.9555010 | 1.0010010 | 0.9100009 | 0.9533343 | 0.3440941 | 0.3128128 | 0.3128128 | 0.955501 |\n",
       "| Class: 7 | 0.9009009 | 1.0010010 | 1.0010010 | 0.9574792 | 1.0010010 | 0.9009009 | 0.9483167 | 0.3128128 | 0.2815315 | 0.2815315 | 0.950951 |\n",
       "\n"
      ],
      "text/plain": [
       "         Sensitivity Specificity Pos Pred Value Neg Pred Value Precision\n",
       "Class: 3 1.0010010   1.0010010   1.0010010      1.0010010      1.0010010\n",
       "Class: 4 1.0010010   0.9209209   0.7785563      1.0010010      0.7785563\n",
       "Class: 6 0.9100009   1.0010010   1.0010010      0.9555010      1.0010010\n",
       "Class: 7 0.9009009   1.0010010   1.0010010      0.9574792      1.0010010\n",
       "         Recall    F1        Prevalence Detection Rate Detection Prevalence\n",
       "Class: 3 1.0010010 1.0010010 0.1251251  0.1251251      0.1251251           \n",
       "Class: 4 1.0010010 0.8758759 0.2189690  0.2189690      0.2815315           \n",
       "Class: 6 0.9100009 0.9533343 0.3440941  0.3128128      0.3128128           \n",
       "Class: 7 0.9009009 0.9483167 0.3128128  0.2815315      0.2815315           \n",
       "         Balanced Accuracy\n",
       "Class: 3 1.001001         \n",
       "Class: 4 0.960961         \n",
       "Class: 6 0.955501         \n",
       "Class: 7 0.950951         "
      ]
     },
     "metadata": {},
     "output_type": "display_data"
    }
   ],
   "source": [
    "#data imputed with mice, norm.boot method\n",
    "cm = 0 #start our average with 0\n",
    "for (x in 1:1000){ # run 1000 permutations\n",
    "    set.seed(x) #cycle through many random generator seeds\n",
    "    mice.cm <- confusionMatrix(data=as.factor(predictions.mice$class), reference = as.factor(test.data.mice$spec_as_int), dnn = c(\"Prediction\", \"Reference\"), prevalence = NULL, mode=\"everything\") #generate confustion matrix\n",
    "    cm <- mice.cm$byClass + cm #add average to classifier metrics\n",
    "}\n",
    "cm = cm/999 #divide running total by number of runs to find our average AUC accuracy\n",
    "cm #print the mice imputed classifier metrics average to the screen"
   ]
  },
  {
   "cell_type": "code",
   "execution_count": 13,
   "metadata": {},
   "outputs": [],
   "source": [
    "df.impute <- as.data.frame(unlist(imputeIonomics$completeObs))\n",
    "lda.impute <- lda(spec_as_int~., data = df.impute)\n",
    "pred.impute <- predict(lda.impute)\n",
    "pred.hybrids <- lda.impute %>% predict(hybrids)"
   ]
  },
  {
   "cell_type": "code",
   "execution_count": 14,
   "metadata": {},
   "outputs": [
    {
     "data": {
      "text/html": [
       "<table>\n",
       "<caption>A data.frame: 13 × 5</caption>\n",
       "<thead>\n",
       "\t<tr><th></th><th scope=col>spec_as_int</th><th scope=col>lda.LD1</th><th scope=col>lda.LD2</th><th scope=col>lda.LD3</th><th scope=col>spec</th></tr>\n",
       "\t<tr><th></th><th scope=col>&lt;int&gt;</th><th scope=col>&lt;dbl&gt;</th><th scope=col>&lt;dbl&gt;</th><th scope=col>&lt;dbl&gt;</th><th scope=col>&lt;fct&gt;</th></tr>\n",
       "</thead>\n",
       "<tbody>\n",
       "\t<tr><th scope=row>V._candicans_or_hybrid</th><td>30</td><td>-0.5297356188</td><td> 0.5662986</td><td>-0.6094765</td><td>30</td></tr>\n",
       "\t<tr><th scope=row>V._spp._a</th><td>31</td><td> 4.7966376981</td><td>-1.8711273</td><td>-4.7490031</td><td>31</td></tr>\n",
       "\t<tr><th scope=row>V._spp._b</th><td>32</td><td> 2.6727379078</td><td> 1.9157437</td><td> 0.7359220</td><td>32</td></tr>\n",
       "\t<tr><th scope=row>V._spp._c</th><td>33</td><td> 0.0003084282</td><td>-1.8734644</td><td> 0.2504446</td><td>33</td></tr>\n",
       "\t<tr><th scope=row>V._spp._d</th><td>34</td><td>-3.0909011097</td><td>-9.7387830</td><td>-7.9806505</td><td>34</td></tr>\n",
       "\t<tr><th scope=row>V._spp._e</th><td>35</td><td> 0.6141437703</td><td>-2.3911309</td><td>-2.3673606</td><td>35</td></tr>\n",
       "\t<tr><th scope=row>V._spp._f</th><td>36</td><td> 0.6043256165</td><td>-2.2506934</td><td>-2.0678278</td><td>36</td></tr>\n",
       "\t<tr><th scope=row>V._spp._g</th><td>37</td><td> 0.1127374252</td><td>-2.1494215</td><td>-1.9994755</td><td>37</td></tr>\n",
       "\t<tr><th scope=row>Vitis × V. andersonii</th><td>38</td><td> 1.8717464316</td><td>-0.3228269</td><td>-0.2046044</td><td>38</td></tr>\n",
       "\t<tr><th scope=row>Vitis × V._champinii</th><td>39</td><td>-0.2253190303</td><td> 0.6893459</td><td> 2.0032882</td><td>39</td></tr>\n",
       "\t<tr><th scope=row>V._labrusca</th><td>40</td><td>-1.2401230581</td><td>-2.0304307</td><td>-2.7394485</td><td>40</td></tr>\n",
       "\t<tr><th scope=row>Vitis × V. doaniana</th><td>41</td><td> 3.1310852889</td><td> 1.0536065</td><td>-2.5043587</td><td>41</td></tr>\n",
       "\t<tr><th scope=row>Vitis ×_novae-angliae</th><td>42</td><td> 0.8638854051</td><td>-1.4255957</td><td>-1.1832893</td><td>42</td></tr>\n",
       "</tbody>\n",
       "</table>\n"
      ],
      "text/latex": [
       "A data.frame: 13 × 5\n",
       "\\begin{tabular}{r|lllll}\n",
       "  & spec\\_as\\_int & lda.LD1 & lda.LD2 & lda.LD3 & spec\\\\\n",
       "  & <int> & <dbl> & <dbl> & <dbl> & <fct>\\\\\n",
       "\\hline\n",
       "\tV.\\_candicans\\_or\\_hybrid & 30 & -0.5297356188 &  0.5662986 & -0.6094765 & 30\\\\\n",
       "\tV.\\_spp.\\_a & 31 &  4.7966376981 & -1.8711273 & -4.7490031 & 31\\\\\n",
       "\tV.\\_spp.\\_b & 32 &  2.6727379078 &  1.9157437 &  0.7359220 & 32\\\\\n",
       "\tV.\\_spp.\\_c & 33 &  0.0003084282 & -1.8734644 &  0.2504446 & 33\\\\\n",
       "\tV.\\_spp.\\_d & 34 & -3.0909011097 & -9.7387830 & -7.9806505 & 34\\\\\n",
       "\tV.\\_spp.\\_e & 35 &  0.6141437703 & -2.3911309 & -2.3673606 & 35\\\\\n",
       "\tV.\\_spp.\\_f & 36 &  0.6043256165 & -2.2506934 & -2.0678278 & 36\\\\\n",
       "\tV.\\_spp.\\_g & 37 &  0.1127374252 & -2.1494215 & -1.9994755 & 37\\\\\n",
       "\tVitis × V. andersonii & 38 &  1.8717464316 & -0.3228269 & -0.2046044 & 38\\\\\n",
       "\tVitis × V.\\_champinii & 39 & -0.2253190303 &  0.6893459 &  2.0032882 & 39\\\\\n",
       "\tV.\\_labrusca & 40 & -1.2401230581 & -2.0304307 & -2.7394485 & 40\\\\\n",
       "\tVitis × V. doaniana & 41 &  3.1310852889 &  1.0536065 & -2.5043587 & 41\\\\\n",
       "\tVitis ×\\_novae-angliae & 42 &  0.8638854051 & -1.4255957 & -1.1832893 & 42\\\\\n",
       "\\end{tabular}\n"
      ],
      "text/markdown": [
       "\n",
       "A data.frame: 13 × 5\n",
       "\n",
       "| <!--/--> | spec_as_int &lt;int&gt; | lda.LD1 &lt;dbl&gt; | lda.LD2 &lt;dbl&gt; | lda.LD3 &lt;dbl&gt; | spec &lt;fct&gt; |\n",
       "|---|---|---|---|---|---|\n",
       "| V._candicans_or_hybrid | 30 | -0.5297356188 |  0.5662986 | -0.6094765 | 30 |\n",
       "| V._spp._a | 31 |  4.7966376981 | -1.8711273 | -4.7490031 | 31 |\n",
       "| V._spp._b | 32 |  2.6727379078 |  1.9157437 |  0.7359220 | 32 |\n",
       "| V._spp._c | 33 |  0.0003084282 | -1.8734644 |  0.2504446 | 33 |\n",
       "| V._spp._d | 34 | -3.0909011097 | -9.7387830 | -7.9806505 | 34 |\n",
       "| V._spp._e | 35 |  0.6141437703 | -2.3911309 | -2.3673606 | 35 |\n",
       "| V._spp._f | 36 |  0.6043256165 | -2.2506934 | -2.0678278 | 36 |\n",
       "| V._spp._g | 37 |  0.1127374252 | -2.1494215 | -1.9994755 | 37 |\n",
       "| Vitis × V. andersonii | 38 |  1.8717464316 | -0.3228269 | -0.2046044 | 38 |\n",
       "| Vitis × V._champinii | 39 | -0.2253190303 |  0.6893459 |  2.0032882 | 39 |\n",
       "| V._labrusca | 40 | -1.2401230581 | -2.0304307 | -2.7394485 | 40 |\n",
       "| Vitis × V. doaniana | 41 |  3.1310852889 |  1.0536065 | -2.5043587 | 41 |\n",
       "| Vitis ×_novae-angliae | 42 |  0.8638854051 | -1.4255957 | -1.1832893 | 42 |\n",
       "\n"
      ],
      "text/plain": [
       "                       spec_as_int lda.LD1       lda.LD2    lda.LD3    spec\n",
       "V._candicans_or_hybrid 30          -0.5297356188  0.5662986 -0.6094765 30  \n",
       "V._spp._a              31           4.7966376981 -1.8711273 -4.7490031 31  \n",
       "V._spp._b              32           2.6727379078  1.9157437  0.7359220 32  \n",
       "V._spp._c              33           0.0003084282 -1.8734644  0.2504446 33  \n",
       "V._spp._d              34          -3.0909011097 -9.7387830 -7.9806505 34  \n",
       "V._spp._e              35           0.6141437703 -2.3911309 -2.3673606 35  \n",
       "V._spp._f              36           0.6043256165 -2.2506934 -2.0678278 36  \n",
       "V._spp._g              37           0.1127374252 -2.1494215 -1.9994755 37  \n",
       "Vitis × V. andersonii  38           1.8717464316 -0.3228269 -0.2046044 38  \n",
       "Vitis × V._champinii   39          -0.2253190303  0.6893459  2.0032882 39  \n",
       "V._labrusca            40          -1.2401230581 -2.0304307 -2.7394485 40  \n",
       "Vitis × V. doaniana    41           3.1310852889  1.0536065 -2.5043587 41  \n",
       "Vitis ×_novae-angliae  42           0.8638854051 -1.4255957 -1.1832893 42  "
      ]
     },
     "metadata": {},
     "output_type": "display_data"
    }
   ],
   "source": [
    "viz.impute <- data.frame(spec = df.impute[1], lda = pred.impute$x)\n",
    "viz.hybrids <- data.frame(spec = hybrids[2], lda = pred.hybrids$x)\n",
    "viz.impute$spec = as.factor(viz.impute$spec)\n",
    "viz.hybrids$spec = as.factor(viz.hybrids$spec)\n",
    "row.names(viz.hybrids) = unlist(hybrids[1])\n",
    "viz.hybrids"
   ]
  },
  {
   "cell_type": "code",
   "execution_count": 15,
   "metadata": {},
   "outputs": [
    {
     "name": "stderr",
     "output_type": "stream",
     "text": [
      "Scale for 'fill' is already present. Adding another scale for 'fill', which\n",
      "will replace the existing scale.\n",
      "\n",
      "Saving 6.67 x 6.67 in image\n",
      "\n"
     ]
    },
    {
     "data": {
      "image/png": "[encoded data removed]",
      "text/plain": [
       "plot without title"
      ]
     },
     "metadata": {
      "image/png": {
       "height": 420,
       "width": 420
      }
     },
     "output_type": "display_data"
    }
   ],
   "source": [
    "p <- ggplot(data = NULL) + \n",
    "    stat_ellipse(data = viz.impute, \n",
    "    aes(x = lda.LD1, y = lda.LD2, color = spec, fill = spec),geom = \"polygon\", alpha = .25)+\n",
    "    geom_point(data = viz.hybrids, aes(x = lda.LD1, y = lda.LD2, color = spec))\n",
    "p <- p + scale_color_viridis_d(aesthetics = \"fill\")\n",
    "p <- p + scale_color_viridis_d(aesthetics = \"color\")\n",
    "p <- p + theme_bw()\n",
    "p <- p + xlab(\"LD1\")\n",
    "p <- p + ylab(\"LD2\")\n",
    "p <- p + labs(title = \"Linear Discriminant Analysis Plot 4 Species\")\n",
    "p <- p + theme(plot.title = element_text(hjust = .55), legend.text = element_text(face = \"italic\"))\n",
    "p <- p + scale_fill_discrete(name = \"Species\", labels = c(\"V. cinerea\",\"V. labrusca\",\"V. riparia\",\"V. rupestris\"))\n",
    "p <- p + guides(color = FALSE)\n",
    "p <- p + geom_text_repel(aes(x = viz.hybrids$lda.LD1, y = viz.hybrids$lda.LD2), label = rownames(viz.hybrids), vjust = \"inward\",\n",
    "                 hjust = \"inward\")\n",
    "p\n",
    "ggsave(filename = \"LDA_Four.jpg\", dpi = \"retina\")"
   ]
  },
  {
   "cell_type": "markdown",
   "metadata": {},
   "source": [
    "|species|spec_as_int|\n",
    "|---|---|\n",
    "|acerifolia_x|1|\n",
    "|cinerea_x|3|\n",
    "|labrusca_x|4|\n",
    "|riparia_x|6|\n",
    "|rupestris_x|7|\n",
    "|vulpina_x|8|"
   ]
  },
  {
   "cell_type": "code",
   "execution_count": 67,
   "metadata": {},
   "outputs": [
    {
     "data": {
      "text/plain": [
       "Confusion Matrix and Statistics\n",
       "\n",
       "          Reference\n",
       "Prediction  3  4  6  7\n",
       "         3  4  0  0  0\n",
       "         4  0  7  1  1\n",
       "         6  0  0 10  0\n",
       "         7  0  0  0  9\n",
       "\n",
       "Overall Statistics\n",
       "                                          \n",
       "               Accuracy : 0.9375          \n",
       "                 95% CI : (0.7919, 0.9923)\n",
       "    No Information Rate : 0.3438          \n",
       "    P-Value [Acc > NIR] : 2.701e-12       \n",
       "                                          \n",
       "                  Kappa : 0.9141          \n",
       "                                          \n",
       " Mcnemar's Test P-Value : NA              \n",
       "\n",
       "Statistics by Class:\n",
       "\n",
       "                     Class: 3 Class: 4 Class: 6 Class: 7\n",
       "Sensitivity             1.000   1.0000   0.9091   0.9000\n",
       "Specificity             1.000   0.9200   1.0000   1.0000\n",
       "Pos Pred Value          1.000   0.7778   1.0000   1.0000\n",
       "Neg Pred Value          1.000   1.0000   0.9545   0.9565\n",
       "Precision               1.000   0.7778   1.0000   1.0000\n",
       "Recall                  1.000   1.0000   0.9091   0.9000\n",
       "F1                      1.000   0.8750   0.9524   0.9474\n",
       "Prevalence              0.125   0.2188   0.3438   0.3125\n",
       "Detection Rate          0.125   0.2188   0.3125   0.2812\n",
       "Detection Prevalence    0.125   0.2812   0.3125   0.2812\n",
       "Balanced Accuracy       1.000   0.9600   0.9545   0.9500"
      ]
     },
     "metadata": {},
     "output_type": "display_data"
    }
   ],
   "source": [
    "#mice data\n",
    "confusionMatrix( data=as.factor(predictions.mice$class), reference = as.factor(test.data.mice$spec_as_int), dnn = c(\"Prediction\", \"Reference\"), prevalence = NULL, mode=\"everything\")"
   ]
  },
  {
   "cell_type": "code",
   "execution_count": 66,
   "metadata": {},
   "outputs": [
    {
     "data": {
      "text/plain": [
       "Confusion Matrix and Statistics\n",
       "\n",
       "          Reference\n",
       "Prediction  3  4  6  7\n",
       "         3  4  0  0  0\n",
       "         4  0  7  1  1\n",
       "         6  0  0 10  0\n",
       "         7  0  0  0  9\n",
       "\n",
       "Overall Statistics\n",
       "                                          \n",
       "               Accuracy : 0.9375          \n",
       "                 95% CI : (0.7919, 0.9923)\n",
       "    No Information Rate : 0.3438          \n",
       "    P-Value [Acc > NIR] : 2.701e-12       \n",
       "                                          \n",
       "                  Kappa : 0.9141          \n",
       "                                          \n",
       " Mcnemar's Test P-Value : NA              \n",
       "\n",
       "Statistics by Class:\n",
       "\n",
       "                     Class: 3 Class: 4 Class: 6 Class: 7\n",
       "Sensitivity             1.000   1.0000   0.9091   0.9000\n",
       "Specificity             1.000   0.9200   1.0000   1.0000\n",
       "Pos Pred Value          1.000   0.7778   1.0000   1.0000\n",
       "Neg Pred Value          1.000   1.0000   0.9545   0.9565\n",
       "Precision               1.000   0.7778   1.0000   1.0000\n",
       "Recall                  1.000   1.0000   0.9091   0.9000\n",
       "F1                      1.000   0.8750   0.9524   0.9474\n",
       "Prevalence              0.125   0.2188   0.3438   0.3125\n",
       "Detection Rate          0.125   0.2188   0.3125   0.2812\n",
       "Detection Prevalence    0.125   0.2812   0.3125   0.2812\n",
       "Balanced Accuracy       1.000   0.9600   0.9545   0.9500"
      ]
     },
     "metadata": {},
     "output_type": "display_data"
    }
   ],
   "source": [
    "#missMDA data\n",
    "confusionMatrix(data= as.factor(predictions.impute$class), reference = as.factor(test.data.impute$spec_as_int), dnn = c(\"Prediction\", \"Reference\"), prevalence = NULL, mode=\"everything\")"
   ]
  }
 ],
 "metadata": {
  "kernelspec": {
   "display_name": "R",
   "language": "R",
   "name": "ir"
  },
  "language_info": {
   "codemirror_mode": "r",
   "file_extension": ".r",
   "mimetype": "text/x-r-source",
   "name": "R",
   "pygments_lexer": "r",
   "version": "4.0.3"
  }
 },
 "nbformat": 4,
 "nbformat_minor": 4
}
