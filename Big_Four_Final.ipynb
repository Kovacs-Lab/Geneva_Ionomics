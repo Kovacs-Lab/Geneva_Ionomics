{
 "cells": [
  {
   "cell_type": "code",
   "execution_count": 2,
   "metadata": {},
   "outputs": [
    {
     "name": "stderr",
     "output_type": "stream",
     "text": [
      "Installing package into 'C:/Users/2198K/Documents/R/win-library/3.6'\n",
      "(as 'lib' is unspecified)\n",
      "\n"
     ]
    },
    {
     "name": "stdout",
     "output_type": "stream",
     "text": [
      "package 'MASS' successfully unpacked and MD5 sums checked\n"
     ]
    },
    {
     "name": "stderr",
     "output_type": "stream",
     "text": [
      "Warning message:\n",
      "\"cannot remove prior installation of package 'MASS'\"\n",
      "Warning message in file.copy(savedcopy, lib, recursive = TRUE):\n",
      "\"problem copying C:\\Users\\2198K\\Documents\\R\\win-library\\3.6\\00LOCK\\MASS\\libs\\x64\\MASS.dll to C:\\Users\\2198K\\Documents\\R\\win-library\\3.6\\MASS\\libs\\x64\\MASS.dll: Permission denied\"\n",
      "Warning message:\n",
      "\"restored 'MASS'\"\n"
     ]
    },
    {
     "name": "stdout",
     "output_type": "stream",
     "text": [
      "\n",
      "The downloaded binary packages are in\n",
      "\tC:\\Users\\2198K\\AppData\\Local\\Temp\\RtmpeuI1lC\\downloaded_packages\n"
     ]
    },
    {
     "name": "stderr",
     "output_type": "stream",
     "text": [
      "Installing package into 'C:/Users/2198K/Documents/R/win-library/3.6'\n",
      "(as 'lib' is unspecified)\n",
      "\n"
     ]
    },
    {
     "name": "stdout",
     "output_type": "stream",
     "text": [
      "package 'missMDA' successfully unpacked and MD5 sums checked\n",
      "\n",
      "The downloaded binary packages are in\n",
      "\tC:\\Users\\2198K\\AppData\\Local\\Temp\\RtmpeuI1lC\\downloaded_packages\n"
     ]
    },
    {
     "name": "stderr",
     "output_type": "stream",
     "text": [
      "Installing package into 'C:/Users/2198K/Documents/R/win-library/3.6'\n",
      "(as 'lib' is unspecified)\n",
      "\n"
     ]
    },
    {
     "name": "stdout",
     "output_type": "stream",
     "text": [
      "package 'tidyverse' successfully unpacked and MD5 sums checked\n",
      "\n",
      "The downloaded binary packages are in\n",
      "\tC:\\Users\\2198K\\AppData\\Local\\Temp\\RtmpeuI1lC\\downloaded_packages\n"
     ]
    },
    {
     "name": "stderr",
     "output_type": "stream",
     "text": [
      "-- \u001b[1mAttaching packages\u001b[22m --------------------------------------- tidyverse 1.3.0 --\n",
      "\n",
      "\u001b[32mv\u001b[39m \u001b[34mggplot2\u001b[39m 3.2.1     \u001b[32mv\u001b[39m \u001b[34mpurrr  \u001b[39m 0.3.3\n",
      "\u001b[32mv\u001b[39m \u001b[34mtibble \u001b[39m 2.1.3     \u001b[32mv\u001b[39m \u001b[34mdplyr  \u001b[39m 0.8.4\n",
      "\u001b[32mv\u001b[39m \u001b[34mtidyr  \u001b[39m 1.0.2     \u001b[32mv\u001b[39m \u001b[34mstringr\u001b[39m 1.4.0\n",
      "\u001b[32mv\u001b[39m \u001b[34mreadr  \u001b[39m 1.3.1     \u001b[32mv\u001b[39m \u001b[34mforcats\u001b[39m 0.4.0\n",
      "\n",
      "-- \u001b[1mConflicts\u001b[22m ------------------------------------------ tidyverse_conflicts() --\n",
      "\u001b[31mx\u001b[39m \u001b[34mdplyr\u001b[39m::\u001b[32mfilter()\u001b[39m masks \u001b[34mstats\u001b[39m::filter()\n",
      "\u001b[31mx\u001b[39m \u001b[34mdplyr\u001b[39m::\u001b[32mlag()\u001b[39m    masks \u001b[34mstats\u001b[39m::lag()\n",
      "\u001b[31mx\u001b[39m \u001b[34mdplyr\u001b[39m::\u001b[32mselect()\u001b[39m masks \u001b[34mMASS\u001b[39m::select()\n",
      "\n",
      "Installing package into 'C:/Users/2198K/Documents/R/win-library/3.6'\n",
      "(as 'lib' is unspecified)\n",
      "\n"
     ]
    },
    {
     "name": "stdout",
     "output_type": "stream",
     "text": [
      "package 'caret' successfully unpacked and MD5 sums checked\n"
     ]
    },
    {
     "name": "stderr",
     "output_type": "stream",
     "text": [
      "Warning message:\n",
      "\"cannot remove prior installation of package 'caret'\"\n",
      "Warning message in file.copy(savedcopy, lib, recursive = TRUE):\n",
      "\"problem copying C:\\Users\\2198K\\Documents\\R\\win-library\\3.6\\00LOCK\\caret\\libs\\x64\\caret.dll to C:\\Users\\2198K\\Documents\\R\\win-library\\3.6\\caret\\libs\\x64\\caret.dll: Permission denied\"\n",
      "Warning message:\n",
      "\"restored 'caret'\"\n"
     ]
    },
    {
     "name": "stdout",
     "output_type": "stream",
     "text": [
      "\n",
      "The downloaded binary packages are in\n",
      "\tC:\\Users\\2198K\\AppData\\Local\\Temp\\RtmpeuI1lC\\downloaded_packages\n"
     ]
    },
    {
     "name": "stderr",
     "output_type": "stream",
     "text": [
      "Loading required package: lattice\n",
      "\n",
      "\n",
      "Attaching package: 'caret'\n",
      "\n",
      "\n",
      "The following object is masked from 'package:purrr':\n",
      "\n",
      "    lift\n",
      "\n",
      "\n",
      "Installing package into 'C:/Users/2198K/Documents/R/win-library/3.6'\n",
      "(as 'lib' is unspecified)\n",
      "\n"
     ]
    },
    {
     "name": "stdout",
     "output_type": "stream",
     "text": [
      "package 'mice' successfully unpacked and MD5 sums checked\n"
     ]
    },
    {
     "name": "stderr",
     "output_type": "stream",
     "text": [
      "Warning message:\n",
      "\"cannot remove prior installation of package 'mice'\"\n",
      "Warning message in file.copy(savedcopy, lib, recursive = TRUE):\n",
      "\"problem copying C:\\Users\\2198K\\Documents\\R\\win-library\\3.6\\00LOCK\\mice\\libs\\x64\\mice.dll to C:\\Users\\2198K\\Documents\\R\\win-library\\3.6\\mice\\libs\\x64\\mice.dll: Permission denied\"\n",
      "Warning message:\n",
      "\"restored 'mice'\"\n"
     ]
    },
    {
     "name": "stdout",
     "output_type": "stream",
     "text": [
      "\n",
      "The downloaded binary packages are in\n",
      "\tC:\\Users\\2198K\\AppData\\Local\\Temp\\RtmpeuI1lC\\downloaded_packages\n"
     ]
    },
    {
     "name": "stderr",
     "output_type": "stream",
     "text": [
      "\n",
      "Attaching package: 'mice'\n",
      "\n",
      "\n",
      "The following objects are masked from 'package:base':\n",
      "\n",
      "    cbind, rbind\n",
      "\n",
      "\n",
      "Installing package into 'C:/Users/2198K/Documents/R/win-library/3.6'\n",
      "(as 'lib' is unspecified)\n",
      "\n"
     ]
    },
    {
     "name": "stdout",
     "output_type": "stream",
     "text": [
      "package 'viridis' successfully unpacked and MD5 sums checked\n",
      "\n",
      "The downloaded binary packages are in\n",
      "\tC:\\Users\\2198K\\AppData\\Local\\Temp\\RtmpeuI1lC\\downloaded_packages\n"
     ]
    },
    {
     "name": "stderr",
     "output_type": "stream",
     "text": [
      "Loading required package: viridisLite\n",
      "\n",
      "Installing package into 'C:/Users/2198K/Documents/R/win-library/3.6'\n",
      "(as 'lib' is unspecified)\n",
      "\n"
     ]
    },
    {
     "name": "stdout",
     "output_type": "stream",
     "text": [
      "package 'cowplot' successfully unpacked and MD5 sums checked\n",
      "\n",
      "The downloaded binary packages are in\n",
      "\tC:\\Users\\2198K\\AppData\\Local\\Temp\\RtmpeuI1lC\\downloaded_packages\n"
     ]
    },
    {
     "name": "stderr",
     "output_type": "stream",
     "text": [
      "\n",
      "********************************************************\n",
      "\n",
      "Note: As of version 1.0.0, cowplot does not change the\n",
      "\n",
      "  default ggplot2 theme anymore. To recover the previous\n",
      "\n",
      "  behavior, execute:\n",
      "  theme_set(theme_cowplot())\n",
      "\n",
      "********************************************************\n",
      "\n",
      "\n",
      "Installing package into 'C:/Users/2198K/Documents/R/win-library/3.6'\n",
      "(as 'lib' is unspecified)\n",
      "\n",
      "Warning message:\n",
      "\"package 'ggplot2' is in use and will not be installed\"\n",
      "Installing package into 'C:/Users/2198K/Documents/R/win-library/3.6'\n",
      "(as 'lib' is unspecified)\n",
      "\n"
     ]
    },
    {
     "name": "stdout",
     "output_type": "stream",
     "text": [
      "package 'ggfortify' successfully unpacked and MD5 sums checked\n",
      "\n",
      "The downloaded binary packages are in\n",
      "\tC:\\Users\\2198K\\AppData\\Local\\Temp\\RtmpeuI1lC\\downloaded_packages\n"
     ]
    },
    {
     "name": "stderr",
     "output_type": "stream",
     "text": [
      "Installing package into 'C:/Users/2198K/Documents/R/win-library/3.6'\n",
      "(as 'lib' is unspecified)\n",
      "\n"
     ]
    },
    {
     "name": "stdout",
     "output_type": "stream",
     "text": [
      "package 'gridExtra' successfully unpacked and MD5 sums checked\n",
      "\n",
      "The downloaded binary packages are in\n",
      "\tC:\\Users\\2198K\\AppData\\Local\\Temp\\RtmpeuI1lC\\downloaded_packages\n"
     ]
    },
    {
     "name": "stderr",
     "output_type": "stream",
     "text": [
      "\n",
      "Attaching package: 'gridExtra'\n",
      "\n",
      "\n",
      "The following object is masked from 'package:dplyr':\n",
      "\n",
      "    combine\n",
      "\n",
      "\n",
      "Installing package into 'C:/Users/2198K/Documents/R/win-library/3.6'\n",
      "(as 'lib' is unspecified)\n",
      "\n",
      "Warning message:\n",
      "\"package 'pubr' is not available (for R version 3.6.3)\"\n"
     ]
    },
    {
     "ename": "ERROR",
     "evalue": "Error in library(\"pubr\"): there is no package called 'pubr'\n",
     "output_type": "error",
     "traceback": [
      "Error in library(\"pubr\"): there is no package called 'pubr'\nTraceback:\n",
      "1. library(\"pubr\")"
     ]
    }
   ],
   "source": [
    "#Installing packages and loading them into the enviroment\n",
    "install.packages(\"MASS\")\n",
    "library(\"MASS\")\n",
    "install.packages(\"missMDA\")\n",
    "library(\"missMDA\")\n",
    "install.packages(\"tidyverse\")\n",
    "library(\"tidyverse\")\n",
    "install.packages(\"caret\")\n",
    "library(\"caret\")\n",
    "install.packages(\"mice\")\n",
    "library(\"mice\")\n",
    "install.packages(\"viridis\")\n",
    "library(\"viridis\")\n",
    "install.packages(\"cowplot\")\n",
    "library(\"cowplot\")\n",
    "install.packages(\"ggplot2\")\n",
    "library(\"ggplot2\")\n",
    "install.packages(\"ggfortify\")\n",
    "library(\"ggfortify\")\n",
    "install.packages(\"gridExtra\")\n",
    "library(\"gridExtra\")\n",
    "install.packages(\"pubr\")\n",
    "library(\"pubr\")\n",
    "install.packages(\"ggarrange\")\n",
    "library(\"ggarrange\")"
   ]
  },
  {
   "cell_type": "code",
   "execution_count": 3,
   "metadata": {},
   "outputs": [],
   "source": [
    "#Loading all needed files,dropping first two coloumns, which are not needed for analysis (ID, species)\n",
    "ionomics <- read.csv('spec_woAestAcerPalmVulp_shoot_xyz_concat.csv', colClasses =c(\"NULL\",\"NULL\",NA,NA,NA,NA,NA,NA,NA,NA,NA,NA,NA,NA,NA,\n",
    "                                                                    NA,NA,NA,NA,NA,NA,NA))\n",
    "hybrids <- read.csv('spec_shoot_xyz_concat_unk_only.csv', colClasses = c(\"NULL\",\"NULL\",NA,NA,NA,NA,NA,NA,NA,NA,NA,NA,NA,NA,NA,\n",
    "                                                                    NA,NA,NA,NA,NA,NA,NA))\n",
    "\n",
    "#Imputation via missMDA\n",
    "imputeIonomics <- imputePCA(ionomics, method = \"Regularized\")"
   ]
  },
  {
   "cell_type": "code",
   "execution_count": 4,
   "metadata": {},
   "outputs": [
    {
     "name": "stdout",
     "output_type": "stream",
     "text": [
      "\n",
      " iter imp variable\n",
      "  1   1  S34_X\n",
      "  2   1  S34_X\n",
      "  3   1  S34_X\n",
      "  4   1  S34_X\n",
      "  5   1  S34_X\n"
     ]
    }
   ],
   "source": [
    "#Imputation via Mice\n",
    "# TODO add in fit graphics and missing data quantification\n",
    "temp <- mice(ionomics, m = 1, maxit = 5, method = \"norm.boot\", seed = 567)\n",
    "ionomicsComplete <- complete(temp,1)"
   ]
  },
  {
   "cell_type": "code",
   "execution_count": 5,
   "metadata": {},
   "outputs": [
    {
     "data": {
      "text/html": [
       "0.855105105105105"
      ],
      "text/latex": [
       "0.855105105105105"
      ],
      "text/markdown": [
       "0.855105105105105"
      ],
      "text/plain": [
       "[1] 0.8551051"
      ]
     },
     "metadata": {},
     "output_type": "display_data"
    }
   ],
   "source": [
    "#data imputed with missMDA regularized method\n",
    "mean.impute <- 0 #Start our average with 0\n",
    "for (x in 1:1000){ # run 1000 permutations\n",
    "    set.seed(x) #cycle through many random generator seeds\n",
    "    training.samples.impute <- imputeIonomics$completeObs[,2] %>%\n",
    "        createDataPartition(p = 0.8, list = FALSE) #split the data into training (80%) and testing (20%)\n",
    "    train.data.impute <- imputeIonomics$completeObs[training.samples.impute, ] #generate training set\n",
    "    test.data.impute <- imputeIonomics$completeObs[-training.samples.impute, ] #generate test set\n",
    "    train.data.impute <- unlist(train.data.impute) #typecast from matrix into dataframe\n",
    "    test.data.impute <- unlist(test.data.impute)\n",
    "    train.data.impute <- as.data.frame(train.data.impute)\n",
    "    test.data.impute <- as.data.frame(test.data.impute)\n",
    "    model.impute <- lda(spec_as_int~., data = train.data.impute) #generate the LDA model\n",
    "    predictions.impute <- model.impute %>% predict(test.data.impute) #predict the species of individuals in our test set based off of this model\n",
    "    mean.impute = mean.impute + mean(predictions.impute$class==test.data.impute$spec_as_int) #measure how often this prediction is correct, then add it to a running total\n",
    "}\n",
    "mean.impute = mean.impute/999 #divide running total by number of runs to find our average\n",
    "mean.impute #print this average to the screen"
   ]
  },
  {
   "cell_type": "code",
   "execution_count": 6,
   "metadata": {},
   "outputs": [
    {
     "data": {
      "text/html": [
       "0.855324074074074"
      ],
      "text/latex": [
       "0.855324074074074"
      ],
      "text/markdown": [
       "0.855324074074074"
      ],
      "text/plain": [
       "[1] 0.8553241"
      ]
     },
     "metadata": {},
     "output_type": "display_data"
    }
   ],
   "source": [
    "#data imputed with mice, norm.boot method\n",
    "mean.mice = 0 #Start our average with 0\n",
    "for (x in 1:1000){ #run 10000 permutations\n",
    "    set.seed(x)  #cycle through many random generator seeds\n",
    "    training.samples.mice <- ionomicsComplete[,2] %>%\n",
    "        createDataPartition(p = 0.8, list = FALSE) #split the data into training (80%) and testing (20%)\n",
    "    train.data.mice <- ionomicsComplete[training.samples.mice, ] #generate training set\n",
    "    test.data.mice <- ionomicsComplete[-training.samples.mice, ] #generate test set\n",
    "    model.mice <- lda(spec_as_int~., data = train.data.mice) #generate the LDA model\n",
    "    predictions.mice <- model.mice %>% predict(test.data.mice) #predict the species of individuals in our test set based off of this model\n",
    "    mean.mice = mean.mice + mean(predictions.mice$class==test.data.mice$spec_as_int) #measure how often this prediction is correct, then add it to a running total\n",
    "}\n",
    "mean.mice = mean.mice/999 #divide running total by number of runs to find our average\n",
    "mean.mice #print this average to the screen"
   ]
  },
  {
   "cell_type": "code",
   "execution_count": 7,
   "metadata": {},
   "outputs": [],
   "source": [
    "df.impute <- as.data.frame(unlist(imputeIonomics$completeObs))\n",
    "lda.impute <- lda(spec_as_int~., data = df.impute)\n",
    "pred.impute <- predict(lda.impute)\n",
    "pred.hybrids <- lda.impute %>% predict(hybrids)"
   ]
  },
  {
   "cell_type": "code",
   "execution_count": 9,
   "metadata": {},
   "outputs": [],
   "source": [
    "viz.impute <- data.frame(spec = df.impute[1], lda = pred.impute$x)\n",
    "viz.hybrids <- data.frame(spec = hybrids[1], lda = pred.hybrids$x)\n",
    "viz.impute$spec = as.factor(viz.impute$spec)\n",
    "viz.hybrids$spec = as.factor(viz.hybrids$spec)"
   ]
  },
  {
   "cell_type": "code",
   "execution_count": 24,
   "metadata": {},
   "outputs": [],
   "source": [
    "#Centers all plot titles\n",
    "theme_update(plot.title = element_text(hjust = 0.5))\n",
    "#Centers all plot subtitles\n",
    "theme_update(plot.subtitle = element_text(hjust = 0.5))"
   ]
  },
  {
   "cell_type": "code",
   "execution_count": 25,
   "metadata": {},
   "outputs": [
    {
     "data": {
      "image/png": "[encoded data removed]",
      "text/plain": [
       "plot without title"
      ]
     },
     "metadata": {
      "image/png": {
       "height": 420,
       "width": 420
      },
      "text/plain": {
       "height": 420,
       "width": 420
      }
     },
     "output_type": "display_data"
    }
   ],
   "source": [
    "p <- ggplot(data = NULL) \n",
    "p <- p + stat_ellipse(data = viz.impute, aes(x = lda.LD1, y = lda.LD2, color = spec, fill = spec),geom = \"polygon\", alpha = .25) +\n",
    "    labs(\n",
    "    title = \"LD1 vs LD2\",\n",
    "    x = \"LD1\",\n",
    "    y = \"LD2\") +\n",
    "    scale_fill_discrete(name = \"Species\", labels=c(\"V. cinerea\", \"V. labrusca\",  \"V. riparia\", \"V. rupestris\"))\n",
    "p <- p + geom_point(data = viz.hybrids, aes(x = lda.LD1, y = lda.LD2, color = spec)) \n",
    "# + labels=c(\"1\",\"2\",\"3\",\"4\",\"5\",\"6\",\"7\",\"8\",\"9\",\"10\",\"11\",\"12\",\"13\") \n",
    "p"
   ]
  },
  {
   "cell_type": "markdown",
   "metadata": {},
   "source": [
    "|species|spec_as_int|\n",
    "|---|---|\n",
    "|acerifolia_x|1|\n",
    "|cinerea_x|3|\n",
    "|labrusca_x|4|\n",
    "|riparia_x|6|\n",
    "|rupestris_x|7|\n",
    "|vulpina_x|8|"
   ]
  },
  {
   "cell_type": "code",
   "execution_count": 26,
   "metadata": {},
   "outputs": [
    {
     "data": {
      "text/plain": [
       "Confusion Matrix and Statistics\n",
       "\n",
       "         Species\n",
       "Predicted  3  4  6  7\n",
       "        3  4  0  0  0\n",
       "        4  0  7  1  1\n",
       "        6  0  0 10  0\n",
       "        7  0  0  0  9\n",
       "\n",
       "Overall Statistics\n",
       "                                          \n",
       "               Accuracy : 0.9375          \n",
       "                 95% CI : (0.7919, 0.9923)\n",
       "    No Information Rate : 0.3438          \n",
       "    P-Value [Acc > NIR] : 2.701e-12       \n",
       "                                          \n",
       "                  Kappa : 0.9141          \n",
       "                                          \n",
       " Mcnemar's Test P-Value : NA              \n",
       "\n",
       "Statistics by Class:\n",
       "\n",
       "                     Class: 3 Class: 4 Class: 6 Class: 7\n",
       "Sensitivity             1.000   1.0000   0.9091   0.9000\n",
       "Specificity             1.000   0.9200   1.0000   1.0000\n",
       "Pos Pred Value          1.000   0.7778   1.0000   1.0000\n",
       "Neg Pred Value          1.000   1.0000   0.9545   0.9565\n",
       "Prevalence              0.125   0.2188   0.3438   0.3125\n",
       "Detection Rate          0.125   0.2188   0.3125   0.2812\n",
       "Detection Prevalence    0.125   0.2812   0.3125   0.2812\n",
       "Balanced Accuracy       1.000   0.9600   0.9545   0.9500"
      ]
     },
     "metadata": {},
     "output_type": "display_data"
    }
   ],
   "source": [
    "#mice data\n",
    "table.mice <- table(Predicted=predictions.mice$class, Species=test.data.mice$spec_as_int)\n",
    "confusionMatrix(table.mice)"
   ]
  },
  {
   "cell_type": "code",
   "execution_count": 27,
   "metadata": {},
   "outputs": [
    {
     "data": {
      "text/plain": [
       "Confusion Matrix and Statistics\n",
       "\n",
       "         Species\n",
       "Predicted  3  4  6  7\n",
       "        3  4  0  0  0\n",
       "        4  0  7  1  1\n",
       "        6  0  0 10  0\n",
       "        7  0  0  0  9\n",
       "\n",
       "Overall Statistics\n",
       "                                          \n",
       "               Accuracy : 0.9375          \n",
       "                 95% CI : (0.7919, 0.9923)\n",
       "    No Information Rate : 0.3438          \n",
       "    P-Value [Acc > NIR] : 2.701e-12       \n",
       "                                          \n",
       "                  Kappa : 0.9141          \n",
       "                                          \n",
       " Mcnemar's Test P-Value : NA              \n",
       "\n",
       "Statistics by Class:\n",
       "\n",
       "                     Class: 3 Class: 4 Class: 6 Class: 7\n",
       "Sensitivity             1.000   1.0000   0.9091   0.9000\n",
       "Specificity             1.000   0.9200   1.0000   1.0000\n",
       "Pos Pred Value          1.000   0.7778   1.0000   1.0000\n",
       "Neg Pred Value          1.000   1.0000   0.9545   0.9565\n",
       "Prevalence              0.125   0.2188   0.3438   0.3125\n",
       "Detection Rate          0.125   0.2188   0.3125   0.2812\n",
       "Detection Prevalence    0.125   0.2812   0.3125   0.2812\n",
       "Balanced Accuracy       1.000   0.9600   0.9545   0.9500"
      ]
     },
     "metadata": {},
     "output_type": "display_data"
    }
   ],
   "source": [
    "#missMDA data\n",
    "table.impute <- table(Predicted=predictions.impute$class, Species=test.data.impute$spec_as_int)\n",
    "confusionMatrix(table.impute)"
   ]
  }
 ],
 "metadata": {
  "kernelspec": {
   "display_name": "R",
   "language": "R",
   "name": "ir"
  },
  "language_info": {
   "codemirror_mode": "r",
   "file_extension": ".r",
   "mimetype": "text/x-r-source",
   "name": "R",
   "pygments_lexer": "r",
   "version": "3.6.3"
  }
 },
 "nbformat": 4,
 "nbformat_minor": 4
}
