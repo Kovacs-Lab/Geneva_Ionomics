{
 "cells": [
  {
   "cell_type": "code",
   "execution_count": 1,
   "metadata": {},
   "outputs": [
    {
     "name": "stderr",
     "output_type": "stream",
     "text": [
      "Installing package into 'C:/Users/2198K/Documents/R/win-library/3.6'\n",
      "(as 'lib' is unspecified)\n",
      "\n"
     ]
    },
    {
     "name": "stdout",
     "output_type": "stream",
     "text": [
      "package 'MASS' successfully unpacked and MD5 sums checked\n",
      "\n",
      "The downloaded binary packages are in\n",
      "\tC:\\Users\\2198K\\AppData\\Local\\Temp\\Rtmp69PfSN\\downloaded_packages\n"
     ]
    },
    {
     "name": "stderr",
     "output_type": "stream",
     "text": [
      "Installing package into 'C:/Users/2198K/Documents/R/win-library/3.6'\n",
      "(as 'lib' is unspecified)\n",
      "\n"
     ]
    },
    {
     "name": "stdout",
     "output_type": "stream",
     "text": [
      "\n",
      "  There is a binary version available but the source version is later:\n",
      "        binary source needs_compilation\n",
      "missMDA   1.16   1.17             FALSE\n",
      "\n"
     ]
    },
    {
     "name": "stderr",
     "output_type": "stream",
     "text": [
      "installing the source package 'missMDA'\n",
      "\n",
      "\n",
      "Installing package into 'C:/Users/2198K/Documents/R/win-library/3.6'\n",
      "(as 'lib' is unspecified)\n",
      "\n"
     ]
    },
    {
     "name": "stdout",
     "output_type": "stream",
     "text": [
      "package 'tidyverse' successfully unpacked and MD5 sums checked\n",
      "\n",
      "The downloaded binary packages are in\n",
      "\tC:\\Users\\2198K\\AppData\\Local\\Temp\\Rtmp69PfSN\\downloaded_packages\n"
     ]
    },
    {
     "name": "stderr",
     "output_type": "stream",
     "text": [
      "-- \u001b[1mAttaching packages\u001b[22m --------------------------------------- tidyverse 1.3.0 --\n",
      "\n",
      "\u001b[32mv\u001b[39m \u001b[34mggplot2\u001b[39m 3.2.1     \u001b[32mv\u001b[39m \u001b[34mpurrr  \u001b[39m 0.3.3\n",
      "\u001b[32mv\u001b[39m \u001b[34mtibble \u001b[39m 2.1.3     \u001b[32mv\u001b[39m \u001b[34mdplyr  \u001b[39m 0.8.4\n",
      "\u001b[32mv\u001b[39m \u001b[34mtidyr  \u001b[39m 1.0.2     \u001b[32mv\u001b[39m \u001b[34mstringr\u001b[39m 1.4.0\n",
      "\u001b[32mv\u001b[39m \u001b[34mreadr  \u001b[39m 1.3.1     \u001b[32mv\u001b[39m \u001b[34mforcats\u001b[39m 0.4.0\n",
      "\n",
      "-- \u001b[1mConflicts\u001b[22m ------------------------------------------ tidyverse_conflicts() --\n",
      "\u001b[31mx\u001b[39m \u001b[34mdplyr\u001b[39m::\u001b[32mfilter()\u001b[39m masks \u001b[34mstats\u001b[39m::filter()\n",
      "\u001b[31mx\u001b[39m \u001b[34mdplyr\u001b[39m::\u001b[32mlag()\u001b[39m    masks \u001b[34mstats\u001b[39m::lag()\n",
      "\u001b[31mx\u001b[39m \u001b[34mdplyr\u001b[39m::\u001b[32mselect()\u001b[39m masks \u001b[34mMASS\u001b[39m::select()\n",
      "\n",
      "Installing package into 'C:/Users/2198K/Documents/R/win-library/3.6'\n",
      "(as 'lib' is unspecified)\n",
      "\n"
     ]
    },
    {
     "name": "stdout",
     "output_type": "stream",
     "text": [
      "package 'caret' successfully unpacked and MD5 sums checked\n",
      "\n",
      "The downloaded binary packages are in\n",
      "\tC:\\Users\\2198K\\AppData\\Local\\Temp\\Rtmp69PfSN\\downloaded_packages\n"
     ]
    },
    {
     "name": "stderr",
     "output_type": "stream",
     "text": [
      "Loading required package: lattice\n",
      "\n",
      "\n",
      "Attaching package: 'caret'\n",
      "\n",
      "\n",
      "The following object is masked from 'package:purrr':\n",
      "\n",
      "    lift\n",
      "\n",
      "\n"
     ]
    }
   ],
   "source": [
    "install.packages(\"MASS\")\n",
    "library(\"MASS\")\n",
    "install.packages(\"missMDA\")\n",
    "library(\"missMDA\")\n",
    "install.packages(\"tidyverse\")\n",
    "library(\"tidyverse\")\n",
    "install.packages(\"caret\")\n",
    "library(\"caret\")"
   ]
  },
  {
   "cell_type": "code",
   "execution_count": 2,
   "metadata": {},
   "outputs": [],
   "source": [
    "ionomics <- read.csv('geneva_y_transformed.csv',colClasses =c(\"NULL\",\"NULL\",NA,NA,NA,NA,NA,NA,NA,NA,NA,NA,NA,NA,NA,\n",
    "                                                                    NA,NA,NA,NA,NA,NA,NA))\n",
    "ionomics = ionomics[0:200,]\n",
    "ionomics <- imputePCA(ionomics, method = \"Regularized\")"
   ]
  },
  {
   "cell_type": "code",
   "execution_count": 3,
   "metadata": {},
   "outputs": [],
   "source": [
    "# Split the data into training (80%) and test set (20%)\n",
    "set.seed(123)\n",
    "training.samples <- ionomics$completeObs[,2] %>%\n",
    "  createDataPartition(p = 0.8, list = FALSE)\n",
    "train.data <- ionomics$completeObs[training.samples, ]\n",
    "test.data <- ionomics$completeObs[-training.samples, ]\n",
    "train.data <- unlist(test.data)\n",
    "test.data <- unlist(test.data)\n",
    "train.data <- as.data.frame(train.data)\n",
    "test.data <- as.data.frame(test.data)"
   ]
  },
  {
   "cell_type": "code",
   "execution_count": 4,
   "metadata": {},
   "outputs": [
    {
     "data": {
      "text/html": [
       "1"
      ],
      "text/latex": [
       "1"
      ],
      "text/markdown": [
       "1"
      ],
      "text/plain": [
       "[1] 1"
      ]
     },
     "metadata": {},
     "output_type": "display_data"
    },
    {
     "data": {
      "text/plain": [
       "Call:\n",
       "lda(spec_as_int ~ ., data = train.data)\n",
       "\n",
       "Prior probabilities of groups:\n",
       "    1     2     3     4     5     6     7     8 \n",
       "0.075 0.025 0.125 0.200 0.025 0.325 0.200 0.025 \n",
       "\n",
       "Group means:\n",
       "          B11         Na23       Mg26       Al27         P31         S34\n",
       "1 -0.79998083 -0.525775240 -0.2328741 -0.2643899  0.03403631 -0.39362243\n",
       "2 -0.68835730 -0.624969360  0.5514168 -0.1694657  0.43062562  0.36149144\n",
       "3  0.57976519  1.217112045  0.7811185  1.0203923  1.97422856  1.16942296\n",
       "4 -0.07598215  0.672635894  0.9068882 -0.1128201 -0.28438760 -0.21498926\n",
       "5 -0.24608454  0.006209335 -0.5725918 -0.1018465  0.02194905 -0.22301923\n",
       "6  0.13772818 -0.485705805 -0.7081632 -0.2166432 -0.43681679  0.02591914\n",
       "7 -0.39140339 -0.797569850 -0.5596728 -0.2851836 -0.27538164 -0.47504114\n",
       "8  0.79079710 -0.532318200 -0.6437645 -0.1211129 -0.09698332 -1.00706480\n",
       "          K39        Ca44       Fe54       Mn55       Co59       Ni60\n",
       "1 -0.78432121  0.27119050 -0.2293878 -0.7173590 -0.8382573 -0.4636936\n",
       "2 -0.67091960  0.52493006 -0.8577204 -1.2373435 -1.0091021 -0.4625867\n",
       "3  2.44137188  0.44757369  1.3735525  1.0964033  1.3351679  1.8616643\n",
       "4 -0.02607797 -0.06026695 -0.6580409  0.2467484  0.1095289 -0.1325220\n",
       "5  0.32941294 -1.49372330 -0.2382602  0.2431926  5.9315300  6.4900475\n",
       "6 -0.17631396  0.05763554  0.2779854 -0.2271183 -0.3018077 -0.5100967\n",
       "7 -0.34530752 -0.55351256 -0.3705304 -0.3955528 -0.4155426 -0.4107685\n",
       "8 -0.62234145 -0.13947542 -0.0843599  0.2602546  0.1346291 -0.4376366\n",
       "        Cu63        Zn66         As75        Rb85        Sr88         Mo98\n",
       "1 -0.6754913 -0.80909682 -0.421404590  0.11547251  0.28582007 -0.140620888\n",
       "2  0.2939609 -0.19677651 -0.289550870 -0.64667550  0.87080920 -0.900502000\n",
       "3  2.2205051  2.03632092  0.937766576  1.25165545  0.12488156  1.132322558\n",
       "4  0.2081594  0.29862824  0.422812116 -0.59106277 -0.07700697 -0.877784422\n",
       "5 -0.1961137 -0.02986898  0.001372666  0.89180946 -1.33406520 -0.731498800\n",
       "6 -0.8019516 -0.03445000 -0.178837175  0.09194414 -0.03035755  0.008975041\n",
       "7  0.1102485 -0.67723170 -0.269182127 -0.20079242 -0.53471560 -0.170645719\n",
       "8 -0.1388345  0.02488059 -0.164397300  0.04294287 -0.65200865 -0.668374660\n",
       "        Cd111\n",
       "1  0.58169246\n",
       "2  0.74281275\n",
       "3  0.78216372\n",
       "4  0.38275741\n",
       "5  0.98413426\n",
       "6 -0.24993939\n",
       "7 -0.02031763\n",
       "8 -0.65279870\n",
       "\n",
       "Coefficients of linear discriminants:\n",
       "              LD1         LD2         LD3         LD4         LD5           LD6\n",
       "B11   -0.01291613  0.10990394 -0.87366236 -0.87511581  0.89204174 -0.5328845893\n",
       "Na23  -0.16396337  0.12414211  0.50509078 -0.11265986 -0.40293786  0.4662229411\n",
       "Mg26  -0.89280404 -0.34147818  0.53953767 -0.26899058  0.01643459  1.0567656768\n",
       "Al27   0.54150712 -1.79943896  0.72847827 -0.47208318 -0.14052490 -1.0047081646\n",
       "P31   -0.07030228 -0.47540564  0.39694619  0.98877299  0.03684116 -1.0679077157\n",
       "S34   -0.18429320  1.70624593 -0.06539539 -0.61171087 -0.91843170 -0.0001387528\n",
       "K39   -0.14011236  0.15795839 -0.23492966 -1.14709844 -0.40300386 -0.1844844826\n",
       "Ca44  -0.26629156  1.08269447 -1.69469430 -0.43769270  1.52966136  0.9801280552\n",
       "Fe54   0.02006326 -0.22891527 -0.76431892 -0.23971293 -0.04504629  0.4489386728\n",
       "Mn55  -2.57227035 -2.56472792 -1.08610446 -0.04565678  0.61940704  0.7049986700\n",
       "Co59   1.78824394  3.70254528  0.77383326 -0.20521822  0.52572128 -0.4922408308\n",
       "Ni60   4.83743456 -1.83056536 -0.49083731  0.01118723 -0.38782552  0.5043713887\n",
       "Cu63  -0.24971218 -2.70722392  0.63125713  0.90260148  1.26877841 -0.0733062738\n",
       "Zn66   0.77851288 -0.20975657  0.37019795 -0.34632101 -0.24796457 -1.1549390717\n",
       "As75  -2.02205887  0.03785946  0.12323812 -0.64765731 -1.09003584  0.6390495933\n",
       "Rb85  -0.94038579 -0.26474541 -0.33132211  1.44667997  0.24981489  0.3111296849\n",
       "Sr88   0.33289844 -0.92360715  1.72721769  0.97713839 -1.60607418 -1.5513185415\n",
       "Mo98   1.05526015 -0.50644962 -2.01442048  0.28543959 -0.45826173  1.5019726993\n",
       "Cd111  0.08060090 -0.45523616  0.35836272  0.47655334 -0.38430891  0.0939778066\n",
       "              LD7\n",
       "B11   -0.10882488\n",
       "Na23   0.09345153\n",
       "Mg26   0.22875234\n",
       "Al27  -0.53364652\n",
       "P31    0.82047776\n",
       "S34   -0.80320525\n",
       "K39   -0.09712281\n",
       "Ca44   1.63978394\n",
       "Fe54  -0.17261778\n",
       "Mn55   1.05340537\n",
       "Co59  -0.63987902\n",
       "Ni60   0.66679504\n",
       "Cu63  -0.68011155\n",
       "Zn66   0.25339971\n",
       "As75  -0.90143488\n",
       "Rb85   0.05599373\n",
       "Sr88  -1.01200481\n",
       "Mo98  -0.13945392\n",
       "Cd111 -0.10718584\n",
       "\n",
       "Proportion of trace:\n",
       "   LD1    LD2    LD3    LD4    LD5    LD6    LD7 \n",
       "0.6677 0.2329 0.0629 0.0215 0.0094 0.0034 0.0021 "
      ]
     },
     "metadata": {},
     "output_type": "display_data"
    }
   ],
   "source": [
    "# Fit the model\n",
    "model <- lda(spec_as_int~., data = train.data)\n",
    "# Make predictions\n",
    "predictions <- model %>% predict(test.data)\n",
    "# Model accuracy\n",
    "mean(predictions$class==test.data$spec_as_int)\n",
    "model"
   ]
  },
  {
   "cell_type": "code",
   "execution_count": 5,
   "metadata": {},
   "outputs": [
    {
     "data": {
      "image/png": "[encoded data removed]",
      "text/plain": [
       "plot without title"
      ]
     },
     "metadata": {
      "image/png": {
       "height": 420,
       "width": 420
      },
      "text/plain": {
       "height": 420,
       "width": 420
      }
     },
     "output_type": "display_data"
    }
   ],
   "source": [
    "plot(model)"
   ]
  },
  {
   "cell_type": "code",
   "execution_count": 6,
   "metadata": {},
   "outputs": [
    {
     "data": {
      "text/html": [
       "<style>\n",
       ".list-inline {list-style: none; margin:0; padding: 0}\n",
       ".list-inline>li {display: inline-block}\n",
       ".list-inline>li:not(:last-child)::after {content: \"\\00b7\"; padding: 0 .5ex}\n",
       "</style>\n",
       "<ol class=list-inline><li>1</li><li>1</li><li>1</li><li>2</li><li>3</li><li>3</li></ol>\n",
       "\n",
       "<details>\n",
       "\t<summary style=display:list-item;cursor:pointer>\n",
       "\t\t<strong>Levels</strong>:\n",
       "\t</summary>\n",
       "\t<style>\n",
       "\t.list-inline {list-style: none; margin:0; padding: 0}\n",
       "\t.list-inline>li {display: inline-block}\n",
       "\t.list-inline>li:not(:last-child)::after {content: \"\\00b7\"; padding: 0 .5ex}\n",
       "\t</style>\n",
       "\t<ol class=list-inline><li>'1'</li><li>'2'</li><li>'3'</li><li>'4'</li><li>'5'</li><li>'6'</li><li>'7'</li><li>'8'</li></ol>\n",
       "</details>"
      ],
      "text/latex": [
       "\\begin{enumerate*}\n",
       "\\item 1\n",
       "\\item 1\n",
       "\\item 1\n",
       "\\item 2\n",
       "\\item 3\n",
       "\\item 3\n",
       "\\end{enumerate*}\n",
       "\n",
       "\\emph{Levels}: \\begin{enumerate*}\n",
       "\\item '1'\n",
       "\\item '2'\n",
       "\\item '3'\n",
       "\\item '4'\n",
       "\\item '5'\n",
       "\\item '6'\n",
       "\\item '7'\n",
       "\\item '8'\n",
       "\\end{enumerate*}\n"
      ],
      "text/markdown": [
       "1. 1\n",
       "2. 1\n",
       "3. 1\n",
       "4. 2\n",
       "5. 3\n",
       "6. 3\n",
       "\n",
       "\n",
       "\n",
       "**Levels**: 1. '1'\n",
       "2. '2'\n",
       "3. '3'\n",
       "4. '4'\n",
       "5. '5'\n",
       "6. '6'\n",
       "7. '7'\n",
       "8. '8'\n",
       "\n",
       "\n"
      ],
      "text/plain": [
       "[1] 1 1 1 2 3 3\n",
       "Levels: 1 2 3 4 5 6 7 8"
      ]
     },
     "metadata": {},
     "output_type": "display_data"
    },
    {
     "data": {
      "text/html": [
       "<table>\n",
       "<caption>A matrix: 6 × 8 of type dbl</caption>\n",
       "<thead>\n",
       "\t<tr><th></th><th scope=col>1</th><th scope=col>2</th><th scope=col>3</th><th scope=col>4</th><th scope=col>5</th><th scope=col>6</th><th scope=col>7</th><th scope=col>8</th></tr>\n",
       "</thead>\n",
       "<tbody>\n",
       "\t<tr><th scope=row>2</th><td>8.901980e-01</td><td>1.102084e-05</td><td>8.313263e-44</td><td>4.570770e-05</td><td> 0.000000e+00</td><td>1.385910e-03</td><td>1.083594e-01</td><td>1.737731e-11</td></tr>\n",
       "\t<tr><th scope=row>3</th><td>9.639812e-01</td><td>6.214358e-08</td><td>2.208434e-33</td><td>1.882806e-05</td><td> 0.000000e+00</td><td>6.078021e-08</td><td>3.599989e-02</td><td>5.953073e-11</td></tr>\n",
       "\t<tr><th scope=row>7</th><td>9.950837e-01</td><td>3.128926e-12</td><td>7.461621e-47</td><td>1.774993e-11</td><td> 0.000000e+00</td><td>1.139857e-05</td><td>4.903869e-03</td><td>9.933203e-07</td></tr>\n",
       "\t<tr><th scope=row>18</th><td>1.223035e-07</td><td>9.999980e-01</td><td>4.259994e-45</td><td>1.899529e-06</td><td> 0.000000e+00</td><td>2.084947e-16</td><td>2.595980e-08</td><td>5.128642e-18</td></tr>\n",
       "\t<tr><th scope=row>19</th><td>2.974869e-47</td><td>1.153675e-52</td><td>1.000000e+00</td><td>1.861759e-49</td><td>3.750909e-312</td><td>7.538118e-56</td><td>6.340621e-40</td><td>6.331798e-51</td></tr>\n",
       "\t<tr><th scope=row>25</th><td>5.458609e-26</td><td>1.981389e-28</td><td>1.000000e+00</td><td>6.462302e-27</td><td> 0.000000e+00</td><td>3.266778e-34</td><td>1.212637e-18</td><td>1.390443e-28</td></tr>\n",
       "</tbody>\n",
       "</table>\n"
      ],
      "text/latex": [
       "A matrix: 6 × 8 of type dbl\n",
       "\\begin{tabular}{r|llllllll}\n",
       "  & 1 & 2 & 3 & 4 & 5 & 6 & 7 & 8\\\\\n",
       "\\hline\n",
       "\t2 & 8.901980e-01 & 1.102084e-05 & 8.313263e-44 & 4.570770e-05 &  0.000000e+00 & 1.385910e-03 & 1.083594e-01 & 1.737731e-11\\\\\n",
       "\t3 & 9.639812e-01 & 6.214358e-08 & 2.208434e-33 & 1.882806e-05 &  0.000000e+00 & 6.078021e-08 & 3.599989e-02 & 5.953073e-11\\\\\n",
       "\t7 & 9.950837e-01 & 3.128926e-12 & 7.461621e-47 & 1.774993e-11 &  0.000000e+00 & 1.139857e-05 & 4.903869e-03 & 9.933203e-07\\\\\n",
       "\t18 & 1.223035e-07 & 9.999980e-01 & 4.259994e-45 & 1.899529e-06 &  0.000000e+00 & 2.084947e-16 & 2.595980e-08 & 5.128642e-18\\\\\n",
       "\t19 & 2.974869e-47 & 1.153675e-52 & 1.000000e+00 & 1.861759e-49 & 3.750909e-312 & 7.538118e-56 & 6.340621e-40 & 6.331798e-51\\\\\n",
       "\t25 & 5.458609e-26 & 1.981389e-28 & 1.000000e+00 & 6.462302e-27 &  0.000000e+00 & 3.266778e-34 & 1.212637e-18 & 1.390443e-28\\\\\n",
       "\\end{tabular}\n"
      ],
      "text/markdown": [
       "\n",
       "A matrix: 6 × 8 of type dbl\n",
       "\n",
       "| <!--/--> | 1 | 2 | 3 | 4 | 5 | 6 | 7 | 8 |\n",
       "|---|---|---|---|---|---|---|---|---|\n",
       "| 2 | 8.901980e-01 | 1.102084e-05 | 8.313263e-44 | 4.570770e-05 |  0.000000e+00 | 1.385910e-03 | 1.083594e-01 | 1.737731e-11 |\n",
       "| 3 | 9.639812e-01 | 6.214358e-08 | 2.208434e-33 | 1.882806e-05 |  0.000000e+00 | 6.078021e-08 | 3.599989e-02 | 5.953073e-11 |\n",
       "| 7 | 9.950837e-01 | 3.128926e-12 | 7.461621e-47 | 1.774993e-11 |  0.000000e+00 | 1.139857e-05 | 4.903869e-03 | 9.933203e-07 |\n",
       "| 18 | 1.223035e-07 | 9.999980e-01 | 4.259994e-45 | 1.899529e-06 |  0.000000e+00 | 2.084947e-16 | 2.595980e-08 | 5.128642e-18 |\n",
       "| 19 | 2.974869e-47 | 1.153675e-52 | 1.000000e+00 | 1.861759e-49 | 3.750909e-312 | 7.538118e-56 | 6.340621e-40 | 6.331798e-51 |\n",
       "| 25 | 5.458609e-26 | 1.981389e-28 | 1.000000e+00 | 6.462302e-27 |  0.000000e+00 | 3.266778e-34 | 1.212637e-18 | 1.390443e-28 |\n",
       "\n"
      ],
      "text/plain": [
       "   1            2            3            4            5            \n",
       "2  8.901980e-01 1.102084e-05 8.313263e-44 4.570770e-05  0.000000e+00\n",
       "3  9.639812e-01 6.214358e-08 2.208434e-33 1.882806e-05  0.000000e+00\n",
       "7  9.950837e-01 3.128926e-12 7.461621e-47 1.774993e-11  0.000000e+00\n",
       "18 1.223035e-07 9.999980e-01 4.259994e-45 1.899529e-06  0.000000e+00\n",
       "19 2.974869e-47 1.153675e-52 1.000000e+00 1.861759e-49 3.750909e-312\n",
       "25 5.458609e-26 1.981389e-28 1.000000e+00 6.462302e-27  0.000000e+00\n",
       "   6            7            8           \n",
       "2  1.385910e-03 1.083594e-01 1.737731e-11\n",
       "3  6.078021e-08 3.599989e-02 5.953073e-11\n",
       "7  1.139857e-05 4.903869e-03 9.933203e-07\n",
       "18 2.084947e-16 2.595980e-08 5.128642e-18\n",
       "19 7.538118e-56 6.340621e-40 6.331798e-51\n",
       "25 3.266778e-34 1.212637e-18 1.390443e-28"
      ]
     },
     "metadata": {},
     "output_type": "display_data"
    },
    {
     "data": {
      "text/html": [
       "<table>\n",
       "<caption>A matrix: 3 × 7 of type dbl</caption>\n",
       "<thead>\n",
       "\t<tr><th></th><th scope=col>LD1</th><th scope=col>LD2</th><th scope=col>LD3</th><th scope=col>LD4</th><th scope=col>LD5</th><th scope=col>LD6</th><th scope=col>LD7</th></tr>\n",
       "</thead>\n",
       "<tbody>\n",
       "\t<tr><th scope=row>2</th><td>-1.561242</td><td> 1.6966305</td><td> 1.1649743</td><td>2.004066</td><td>-1.8812575</td><td>0.35150483</td><td>-1.192840</td></tr>\n",
       "\t<tr><th scope=row>3</th><td>-1.633147</td><td>-0.9836617</td><td> 0.8708281</td><td>2.426501</td><td>-1.5634833</td><td>1.25148980</td><td> 1.440061</td></tr>\n",
       "\t<tr><th scope=row>7</th><td>-2.025401</td><td> 1.5929971</td><td>-0.8612134</td><td>4.311522</td><td> 0.6432914</td><td>0.02624472</td><td> 2.247828</td></tr>\n",
       "</tbody>\n",
       "</table>\n"
      ],
      "text/latex": [
       "A matrix: 3 × 7 of type dbl\n",
       "\\begin{tabular}{r|lllllll}\n",
       "  & LD1 & LD2 & LD3 & LD4 & LD5 & LD6 & LD7\\\\\n",
       "\\hline\n",
       "\t2 & -1.561242 &  1.6966305 &  1.1649743 & 2.004066 & -1.8812575 & 0.35150483 & -1.192840\\\\\n",
       "\t3 & -1.633147 & -0.9836617 &  0.8708281 & 2.426501 & -1.5634833 & 1.25148980 &  1.440061\\\\\n",
       "\t7 & -2.025401 &  1.5929971 & -0.8612134 & 4.311522 &  0.6432914 & 0.02624472 &  2.247828\\\\\n",
       "\\end{tabular}\n"
      ],
      "text/markdown": [
       "\n",
       "A matrix: 3 × 7 of type dbl\n",
       "\n",
       "| <!--/--> | LD1 | LD2 | LD3 | LD4 | LD5 | LD6 | LD7 |\n",
       "|---|---|---|---|---|---|---|---|\n",
       "| 2 | -1.561242 |  1.6966305 |  1.1649743 | 2.004066 | -1.8812575 | 0.35150483 | -1.192840 |\n",
       "| 3 | -1.633147 | -0.9836617 |  0.8708281 | 2.426501 | -1.5634833 | 1.25148980 |  1.440061 |\n",
       "| 7 | -2.025401 |  1.5929971 | -0.8612134 | 4.311522 |  0.6432914 | 0.02624472 |  2.247828 |\n",
       "\n"
      ],
      "text/plain": [
       "  LD1       LD2        LD3        LD4      LD5        LD6        LD7      \n",
       "2 -1.561242  1.6966305  1.1649743 2.004066 -1.8812575 0.35150483 -1.192840\n",
       "3 -1.633147 -0.9836617  0.8708281 2.426501 -1.5634833 1.25148980  1.440061\n",
       "7 -2.025401  1.5929971 -0.8612134 4.311522  0.6432914 0.02624472  2.247828"
      ]
     },
     "metadata": {},
     "output_type": "display_data"
    }
   ],
   "source": [
    "# Predicted classes\n",
    "head(predictions$class, 6)\n",
    "# Predicted probabilities of class memebership.\n",
    "head(predictions$posterior, 6) \n",
    "# Linear discriminants\n",
    "head(predictions$x, 3) "
   ]
  },
  {
   "cell_type": "code",
   "execution_count": 7,
   "metadata": {},
   "outputs": [
    {
     "name": "stdout",
     "output_type": "stream",
     "text": [
      "Confusion Matrix and Statistics\n",
      "\n",
      "         Species\n",
      "Predicted  1  2  3  4  5  6  7  8\n",
      "        1  3  0  0  0  0  0  0  0\n",
      "        2  0  1  0  0  0  0  0  0\n",
      "        3  0  0  5  0  0  0  0  0\n",
      "        4  0  0  0  8  0  0  0  0\n",
      "        5  0  0  0  0  1  0  0  0\n",
      "        6  0  0  0  0  0 13  0  0\n",
      "        7  0  0  0  0  0  0  8  0\n",
      "        8  0  0  0  0  0  0  0  1\n",
      "\n",
      "Overall Statistics\n",
      "                                     \n",
      "               Accuracy : 1          \n",
      "                 95% CI : (0.9119, 1)\n",
      "    No Information Rate : 0.325      \n",
      "    P-Value [Acc > NIR] : < 2.2e-16  \n",
      "                                     \n",
      "                  Kappa : 1          \n",
      "                                     \n",
      " Mcnemar's Test P-Value : NA         \n",
      "\n",
      "Statistics by Class:\n",
      "\n",
      "                     Class: 1 Class: 2 Class: 3 Class: 4 Class: 5 Class: 6\n",
      "Sensitivity             1.000    1.000    1.000      1.0    1.000    1.000\n",
      "Specificity             1.000    1.000    1.000      1.0    1.000    1.000\n",
      "Pos Pred Value          1.000    1.000    1.000      1.0    1.000    1.000\n",
      "Neg Pred Value          1.000    1.000    1.000      1.0    1.000    1.000\n",
      "Prevalence              0.075    0.025    0.125      0.2    0.025    0.325\n",
      "Detection Rate          0.075    0.025    0.125      0.2    0.025    0.325\n",
      "Detection Prevalence    0.075    0.025    0.125      0.2    0.025    0.325\n",
      "Balanced Accuracy       1.000    1.000    1.000      1.0    1.000    1.000\n",
      "                     Class: 7 Class: 8\n",
      "Sensitivity               1.0    1.000\n",
      "Specificity               1.0    1.000\n",
      "Pos Pred Value            1.0    1.000\n",
      "Neg Pred Value            1.0    1.000\n",
      "Prevalence                0.2    0.025\n",
      "Detection Rate            0.2    0.025\n",
      "Detection Prevalence      0.2    0.025\n",
      "Balanced Accuracy         1.0    1.000\n"
     ]
    }
   ],
   "source": [
    "predmodel.test.lda = predict(model, data=test.data)\n",
    "table <- table(Predicted=predmodel.test.lda$class, Species=train.data$spec_as_int)\n",
    "print(confusionMatrix(table))"
   ]
  }
 ],
 "metadata": {
  "kernelspec": {
   "display_name": "R",
   "language": "R",
   "name": "ir"
  },
  "language_info": {
   "codemirror_mode": "r",
   "file_extension": ".r",
   "mimetype": "text/x-r-source",
   "name": "R",
   "pygments_lexer": "r",
   "version": "3.6.3"
  }
 },
 "nbformat": 4,
 "nbformat_minor": 4
}
