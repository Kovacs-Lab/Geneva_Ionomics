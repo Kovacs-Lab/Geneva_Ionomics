{
 "cells": [
  {
   "cell_type": "code",
   "execution_count": 1,
   "metadata": {},
   "outputs": [
    {
     "name": "stderr",
     "output_type": "stream",
     "text": [
      "Installing package into 'C:/Users/2198K/Documents/R/win-library/3.6'\n",
      "(as 'lib' is unspecified)\n",
      "\n"
     ]
    },
    {
     "name": "stdout",
     "output_type": "stream",
     "text": [
      "package 'MASS' successfully unpacked and MD5 sums checked\n"
     ]
    },
    {
     "name": "stderr",
     "output_type": "stream",
     "text": [
      "Warning message:\n",
      "\"cannot remove prior installation of package 'MASS'\"\n",
      "Warning message in file.copy(savedcopy, lib, recursive = TRUE):\n",
      "\"problem copying C:\\Users\\2198K\\Documents\\R\\win-library\\3.6\\00LOCK\\MASS\\libs\\x64\\MASS.dll to C:\\Users\\2198K\\Documents\\R\\win-library\\3.6\\MASS\\libs\\x64\\MASS.dll: Permission denied\"\n",
      "Warning message:\n",
      "\"restored 'MASS'\"\n"
     ]
    },
    {
     "name": "stdout",
     "output_type": "stream",
     "text": [
      "\n",
      "The downloaded binary packages are in\n",
      "\tC:\\Users\\2198K\\AppData\\Local\\Temp\\RtmpOgPIFQ\\downloaded_packages\n"
     ]
    },
    {
     "name": "stderr",
     "output_type": "stream",
     "text": [
      "Installing package into 'C:/Users/2198K/Documents/R/win-library/3.6'\n",
      "(as 'lib' is unspecified)\n",
      "\n"
     ]
    },
    {
     "name": "stdout",
     "output_type": "stream",
     "text": [
      "package 'tidyverse' successfully unpacked and MD5 sums checked\n",
      "\n",
      "The downloaded binary packages are in\n",
      "\tC:\\Users\\2198K\\AppData\\Local\\Temp\\RtmpOgPIFQ\\downloaded_packages\n"
     ]
    },
    {
     "name": "stderr",
     "output_type": "stream",
     "text": [
      "-- \u001b[1mAttaching packages\u001b[22m --------------------------------------- tidyverse 1.3.0 --\n",
      "\n",
      "\u001b[32mv\u001b[39m \u001b[34mggplot2\u001b[39m 3.2.1     \u001b[32mv\u001b[39m \u001b[34mpurrr  \u001b[39m 0.3.3\n",
      "\u001b[32mv\u001b[39m \u001b[34mtibble \u001b[39m 2.1.3     \u001b[32mv\u001b[39m \u001b[34mdplyr  \u001b[39m 0.8.4\n",
      "\u001b[32mv\u001b[39m \u001b[34mtidyr  \u001b[39m 1.0.2     \u001b[32mv\u001b[39m \u001b[34mstringr\u001b[39m 1.4.0\n",
      "\u001b[32mv\u001b[39m \u001b[34mreadr  \u001b[39m 1.3.1     \u001b[32mv\u001b[39m \u001b[34mforcats\u001b[39m 0.4.0\n",
      "\n",
      "-- \u001b[1mConflicts\u001b[22m ------------------------------------------ tidyverse_conflicts() --\n",
      "\u001b[31mx\u001b[39m \u001b[34mdplyr\u001b[39m::\u001b[32mfilter()\u001b[39m masks \u001b[34mstats\u001b[39m::filter()\n",
      "\u001b[31mx\u001b[39m \u001b[34mdplyr\u001b[39m::\u001b[32mlag()\u001b[39m    masks \u001b[34mstats\u001b[39m::lag()\n",
      "\u001b[31mx\u001b[39m \u001b[34mdplyr\u001b[39m::\u001b[32mselect()\u001b[39m masks \u001b[34mMASS\u001b[39m::select()\n",
      "\n",
      "Installing package into 'C:/Users/2198K/Documents/R/win-library/3.6'\n",
      "(as 'lib' is unspecified)\n",
      "\n"
     ]
    },
    {
     "name": "stdout",
     "output_type": "stream",
     "text": [
      "package 'caret' successfully unpacked and MD5 sums checked\n"
     ]
    },
    {
     "name": "stderr",
     "output_type": "stream",
     "text": [
      "Warning message:\n",
      "\"cannot remove prior installation of package 'caret'\"\n",
      "Warning message in file.copy(savedcopy, lib, recursive = TRUE):\n",
      "\"problem copying C:\\Users\\2198K\\Documents\\R\\win-library\\3.6\\00LOCK\\caret\\libs\\x64\\caret.dll to C:\\Users\\2198K\\Documents\\R\\win-library\\3.6\\caret\\libs\\x64\\caret.dll: Permission denied\"\n",
      "Warning message:\n",
      "\"restored 'caret'\"\n"
     ]
    },
    {
     "name": "stdout",
     "output_type": "stream",
     "text": [
      "\n",
      "The downloaded binary packages are in\n",
      "\tC:\\Users\\2198K\\AppData\\Local\\Temp\\RtmpOgPIFQ\\downloaded_packages\n"
     ]
    },
    {
     "name": "stderr",
     "output_type": "stream",
     "text": [
      "Loading required package: lattice\n",
      "\n",
      "\n",
      "Attaching package: 'caret'\n",
      "\n",
      "\n",
      "The following object is masked from 'package:purrr':\n",
      "\n",
      "    lift\n",
      "\n",
      "\n",
      "Installing package into 'C:/Users/2198K/Documents/R/win-library/3.6'\n",
      "(as 'lib' is unspecified)\n",
      "\n"
     ]
    },
    {
     "name": "stdout",
     "output_type": "stream",
     "text": [
      "package 'pROC' successfully unpacked and MD5 sums checked\n"
     ]
    },
    {
     "name": "stderr",
     "output_type": "stream",
     "text": [
      "Warning message:\n",
      "\"cannot remove prior installation of package 'pROC'\"\n",
      "Warning message in file.copy(savedcopy, lib, recursive = TRUE):\n",
      "\"problem copying C:\\Users\\2198K\\Documents\\R\\win-library\\3.6\\00LOCK\\pROC\\libs\\x64\\pROC.dll to C:\\Users\\2198K\\Documents\\R\\win-library\\3.6\\pROC\\libs\\x64\\pROC.dll: Permission denied\"\n",
      "Warning message:\n",
      "\"restored 'pROC'\"\n"
     ]
    },
    {
     "name": "stdout",
     "output_type": "stream",
     "text": [
      "\n",
      "The downloaded binary packages are in\n",
      "\tC:\\Users\\2198K\\AppData\\Local\\Temp\\RtmpOgPIFQ\\downloaded_packages\n"
     ]
    },
    {
     "name": "stderr",
     "output_type": "stream",
     "text": [
      "Type 'citation(\"pROC\")' for a citation.\n",
      "\n",
      "\n",
      "Attaching package: 'pROC'\n",
      "\n",
      "\n",
      "The following objects are masked from 'package:stats':\n",
      "\n",
      "    cov, smooth, var\n",
      "\n",
      "\n"
     ]
    }
   ],
   "source": [
    "install.packages(\"MASS\")\n",
    "library(\"MASS\")\n",
    "install.packages(\"tidyverse\")\n",
    "library(\"tidyverse\")\n",
    "install.packages(\"caret\")\n",
    "library(\"caret\")\n",
    "install.packages(\"pROC\")\n",
    "library(\"pROC\")"
   ]
  },
  {
   "cell_type": "code",
   "execution_count": 2,
   "metadata": {},
   "outputs": [],
   "source": [
    "ionomics <- read.csv('geneva_x_raw_spec_as_int.csv',colClasses =c(\"NULL\",\"NULL\",NA,NA,NA,NA,NA,NA,NA,NA,NA,NA,NA,NA,NA,\n",
    "                                                                    NA,NA,NA,NA,NA,NA,NA))\n",
    "ionomics = ionomics[0:200,]"
   ]
  },
  {
   "cell_type": "code",
   "execution_count": 3,
   "metadata": {},
   "outputs": [],
   "source": [
    "# Split the data into training (80%) and test set (20%)\n",
    "set.seed(123)\n",
    "training.samples <- ionomics[,2] %>%\n",
    "  createDataPartition(p = 0.8, list = FALSE)\n",
    "train.data <- ionomics[training.samples, ]\n",
    "test.data <- ionomics[-training.samples, ]"
   ]
  },
  {
   "cell_type": "code",
   "execution_count": 4,
   "metadata": {},
   "outputs": [
    {
     "data": {
      "text/html": [
       "0.675"
      ],
      "text/latex": [
       "0.675"
      ],
      "text/markdown": [
       "0.675"
      ],
      "text/plain": [
       "[1] 0.675"
      ]
     },
     "metadata": {},
     "output_type": "display_data"
    },
    {
     "data": {
      "text/plain": [
       "Call:\n",
       "lda(spec_as_int ~ ., data = train.data)\n",
       "\n",
       "Prior probabilities of groups:\n",
       "      1       2       3       4       5       6       7       8 \n",
       "0.05625 0.02500 0.14375 0.21250 0.01875 0.35000 0.13125 0.06250 \n",
       "\n",
       "Group means:\n",
       "        B11     Na23     Mg26     Al27      P31      S34      K39     Ca44\n",
       "1  90.94427 133.9067 1391.795 17.89484 5355.609 2130.511 18665.93 4609.872\n",
       "2  65.11287 182.0139 1627.407 20.46892 6065.449 2184.148 16191.51 4913.603\n",
       "3  81.73199 336.8241 1732.418 23.29512 6226.500 2342.957 16355.16 9282.536\n",
       "4 107.21473 276.4449 1714.237 22.28725 5543.940 2171.191 17461.62 5029.485\n",
       "5 208.47778 412.9255 1487.338 30.53035 6871.144 2166.811 14542.06 3244.151\n",
       "6 116.59345 196.5791 1546.119 18.89445 5702.859 2355.311 16480.37 5733.404\n",
       "7 111.09929 168.9252 1633.358 14.25432 6373.155 2254.455 18883.19 3912.653\n",
       "8  87.24701 145.8115 1172.501 21.28435 4948.603 1981.750 14371.40 3506.854\n",
       "      Fe54     Mn55       Co59      Ni60      Cu63     Zn66       As75     Rb85\n",
       "1 42.04223 175.5196 0.08570923 0.4349228  33.98713 197.7283 0.01153078 9.793247\n",
       "2 54.89084 276.1048 0.13137493 0.8644042  83.05222 126.5007 0.01422826 4.606262\n",
       "3 72.60939 441.3791 0.20078325 2.5375029 108.29333 178.1235 0.01869450 5.270359\n",
       "4 48.81476 215.6206 0.09417290 0.9198427  67.51770 114.4544 0.01659087 3.691043\n",
       "5 50.04402 511.4399 0.23701999 5.0582605  55.57166 151.1232 0.07043563 5.450447\n",
       "6 56.41238 255.7750 0.11420231 0.6100542  39.56616 127.9484 0.01346181 6.238997\n",
       "7 49.08605 182.4751 0.08939091 0.4895829  68.12093 111.7321 0.01187562 7.203341\n",
       "8 49.61281 368.0030 0.16649689 0.5761232  61.13610 137.8318 0.02008582 3.765959\n",
       "      Sr88      Mo98      Cd111\n",
       "1 3.717418 0.2505091 0.02367723\n",
       "2 3.252758 0.2187247 0.02288792\n",
       "3 7.425784 0.7632387 0.04878521\n",
       "4 4.364667 0.1888663 0.02947208\n",
       "5 1.229947 0.2678861 0.03201825\n",
       "6 4.344898 0.3162061 0.02066596\n",
       "7 3.175994 0.2798692 0.02884733\n",
       "8 2.280674 0.3075582 0.03551368\n",
       "\n",
       "Coefficients of linear discriminants:\n",
       "                LD1           LD2           LD3           LD4           LD5\n",
       "B11   -2.439198e-03  4.143519e-03 -1.447343e-03 -3.280884e-03 -2.368417e-03\n",
       "Na23   1.645351e-03  1.042421e-03  1.235300e-03  2.956622e-03  1.309729e-03\n",
       "Mg26  -5.296373e-04 -1.685412e-03 -5.583925e-04  1.458371e-03  1.908189e-04\n",
       "Al27   2.001469e-02 -1.059852e-02  9.902411e-03  7.024162e-02 -1.015731e-02\n",
       "P31   -1.934720e-04  2.572734e-04 -8.679738e-04 -1.036547e-03  8.467301e-05\n",
       "S34   -5.662620e-04 -5.088801e-04  5.373234e-05  5.310270e-05  4.430576e-04\n",
       "K39   -6.975196e-05 -2.372855e-05  1.570579e-04  7.388226e-05  1.950064e-04\n",
       "Ca44   3.439570e-05  3.981705e-04  3.243567e-04  1.243774e-04  2.568697e-04\n",
       "Fe54  -2.864250e-02  1.889491e-02  3.846453e-02  7.167077e-03 -1.462509e-03\n",
       "Mn55  -7.926697e-04  2.638474e-03  3.894284e-04 -6.219393e-05 -3.212142e-03\n",
       "Co59   6.988111e+00  4.199678e-01  3.415666e+00 -6.174797e+00 -6.715085e+00\n",
       "Ni60   4.626511e-01  6.779137e-01 -6.173328e-01  1.308736e-01  6.199525e-01\n",
       "Cu63   4.163018e-02 -5.053333e-02 -1.040109e-03 -1.514516e-02 -1.142709e-03\n",
       "Zn66  -5.465302e-04  1.027576e-03  1.531703e-03  1.597882e-03 -6.429539e-04\n",
       "As75   7.976810e+00  7.863165e+00 -4.161262e+01  1.160781e+01  5.483560e+00\n",
       "Rb85  -1.429076e-01  5.614676e-02  6.754879e-02 -1.127586e-01  9.725392e-02\n",
       "Sr88   1.150530e-01 -1.519496e-01 -1.088991e-01 -7.988902e-03 -4.460437e-02\n",
       "Mo98   1.053019e+00  8.979364e-01  8.895320e-01 -7.132430e-01 -2.130580e-01\n",
       "Cd111  6.918165e+00 -8.161378e+00  6.336026e+00 -5.136122e+00 -1.259457e+01\n",
       "                LD6           LD7\n",
       "B11   -1.411088e-03  0.0080828168\n",
       "Na23   1.685048e-03 -0.0001984293\n",
       "Mg26  -1.478387e-03  0.0002969761\n",
       "Al27   1.301521e-02 -0.0317288236\n",
       "P31   -3.750437e-04 -0.0004062547\n",
       "S34   -9.966052e-04 -0.0005203949\n",
       "K39    2.596620e-04  0.0001740894\n",
       "Ca44  -1.571018e-06 -0.0004198369\n",
       "Fe54  -3.140484e-02  0.0266778402\n",
       "Mn55   3.427309e-03  0.0037054613\n",
       "Co59  -2.950935e+00 -4.0175822820\n",
       "Ni60  -6.458549e-03 -0.0571299672\n",
       "Cu63  -3.553272e-04 -0.0114107176\n",
       "Zn66   5.066866e-03 -0.0033527225\n",
       "As75   7.808331e+00  8.4162654919\n",
       "Rb85   1.131141e-01 -0.0307707762\n",
       "Sr88   1.177807e-01  0.3643157681\n",
       "Mo98  -1.507139e-01  1.3705104111\n",
       "Cd111  6.067617e+00 21.5050298444\n",
       "\n",
       "Proportion of trace:\n",
       "   LD1    LD2    LD3    LD4    LD5    LD6    LD7 \n",
       "0.4793 0.2130 0.1382 0.0733 0.0594 0.0313 0.0055 "
      ]
     },
     "metadata": {},
     "output_type": "display_data"
    }
   ],
   "source": [
    "# Fit the model\n",
    "model <- lda(spec_as_int~., data = train.data)\n",
    "# Make predictions\n",
    "predictions <- model %>% predict(test.data)\n",
    "# Model accuracy\n",
    "mean(predictions$class==test.data$spec_as_int)\n",
    "model"
   ]
  },
  {
   "cell_type": "code",
   "execution_count": 5,
   "metadata": {},
   "outputs": [
    {
     "data": {
      "image/png": "[encoded data removed]",
      "text/plain": [
       "plot without title"
      ]
     },
     "metadata": {
      "image/png": {
       "height": 420,
       "width": 420
      },
      "text/plain": {
       "height": 420,
       "width": 420
      }
     },
     "output_type": "display_data"
    }
   ],
   "source": [
    "plot(model)"
   ]
  },
  {
   "cell_type": "code",
   "execution_count": 6,
   "metadata": {},
   "outputs": [
    {
     "data": {
      "text/html": [
       "<style>\n",
       ".list-inline {list-style: none; margin:0; padding: 0}\n",
       ".list-inline>li {display: inline-block}\n",
       ".list-inline>li:not(:last-child)::after {content: \"\\00b7\"; padding: 0 .5ex}\n",
       "</style>\n",
       "<ol class=list-inline><li>6</li><li>6</li><li>4</li><li>4</li><li>4</li><li>6</li></ol>\n",
       "\n",
       "<details>\n",
       "\t<summary style=display:list-item;cursor:pointer>\n",
       "\t\t<strong>Levels</strong>:\n",
       "\t</summary>\n",
       "\t<style>\n",
       "\t.list-inline {list-style: none; margin:0; padding: 0}\n",
       "\t.list-inline>li {display: inline-block}\n",
       "\t.list-inline>li:not(:last-child)::after {content: \"\\00b7\"; padding: 0 .5ex}\n",
       "\t</style>\n",
       "\t<ol class=list-inline><li>'1'</li><li>'2'</li><li>'3'</li><li>'4'</li><li>'5'</li><li>'6'</li><li>'7'</li><li>'8'</li></ol>\n",
       "</details>"
      ],
      "text/latex": [
       "\\begin{enumerate*}\n",
       "\\item 6\n",
       "\\item 6\n",
       "\\item 4\n",
       "\\item 4\n",
       "\\item 4\n",
       "\\item 6\n",
       "\\end{enumerate*}\n",
       "\n",
       "\\emph{Levels}: \\begin{enumerate*}\n",
       "\\item '1'\n",
       "\\item '2'\n",
       "\\item '3'\n",
       "\\item '4'\n",
       "\\item '5'\n",
       "\\item '6'\n",
       "\\item '7'\n",
       "\\item '8'\n",
       "\\end{enumerate*}\n"
      ],
      "text/markdown": [
       "1. 6\n",
       "2. 6\n",
       "3. 4\n",
       "4. 4\n",
       "5. 4\n",
       "6. 6\n",
       "\n",
       "\n",
       "\n",
       "**Levels**: 1. '1'\n",
       "2. '2'\n",
       "3. '3'\n",
       "4. '4'\n",
       "5. '5'\n",
       "6. '6'\n",
       "7. '7'\n",
       "8. '8'\n",
       "\n",
       "\n"
      ],
      "text/plain": [
       "[1] 6 6 4 4 4 6\n",
       "Levels: 1 2 3 4 5 6 7 8"
      ]
     },
     "metadata": {},
     "output_type": "display_data"
    },
    {
     "data": {
      "text/html": [
       "<table>\n",
       "<caption>A matrix: 6 × 8 of type dbl</caption>\n",
       "<thead>\n",
       "\t<tr><th></th><th scope=col>1</th><th scope=col>2</th><th scope=col>3</th><th scope=col>4</th><th scope=col>5</th><th scope=col>6</th><th scope=col>7</th><th scope=col>8</th></tr>\n",
       "</thead>\n",
       "<tbody>\n",
       "\t<tr><th scope=row>2</th><td>0.0869990121</td><td>0.003108882</td><td>3.149865e-06</td><td>0.06588280</td><td>3.870662e-14</td><td>0.54981032</td><td>2.588732e-01</td><td>0.0353225855</td></tr>\n",
       "\t<tr><th scope=row>4</th><td>0.0763338694</td><td>0.003546748</td><td>2.187137e-08</td><td>0.01275913</td><td>1.651140e-23</td><td>0.78436820</td><td>1.225599e-01</td><td>0.0004321644</td></tr>\n",
       "\t<tr><th scope=row>5</th><td>0.0003412062</td><td>0.001500877</td><td>1.431832e-06</td><td>0.93607791</td><td>5.021310e-19</td><td>0.04912686</td><td>8.942227e-05</td><td>0.0128622886</td></tr>\n",
       "\t<tr><th scope=row>15</th><td>0.0005135677</td><td>0.008439631</td><td>3.418062e-04</td><td>0.88198278</td><td>2.147278e-15</td><td>0.07964075</td><td>8.232006e-03</td><td>0.0208494569</td></tr>\n",
       "\t<tr><th scope=row>16</th><td>0.0005156590</td><td>0.061180542</td><td>5.721791e-04</td><td>0.57785368</td><td>8.594526e-17</td><td>0.28735000</td><td>1.265154e-02</td><td>0.0598764001</td></tr>\n",
       "\t<tr><th scope=row>24</th><td>0.0027876869</td><td>0.001056701</td><td>7.290123e-04</td><td>0.04327390</td><td>1.855841e-22</td><td>0.90208432</td><td>4.948513e-02</td><td>0.0005832490</td></tr>\n",
       "</tbody>\n",
       "</table>\n"
      ],
      "text/latex": [
       "A matrix: 6 × 8 of type dbl\n",
       "\\begin{tabular}{r|llllllll}\n",
       "  & 1 & 2 & 3 & 4 & 5 & 6 & 7 & 8\\\\\n",
       "\\hline\n",
       "\t2 & 0.0869990121 & 0.003108882 & 3.149865e-06 & 0.06588280 & 3.870662e-14 & 0.54981032 & 2.588732e-01 & 0.0353225855\\\\\n",
       "\t4 & 0.0763338694 & 0.003546748 & 2.187137e-08 & 0.01275913 & 1.651140e-23 & 0.78436820 & 1.225599e-01 & 0.0004321644\\\\\n",
       "\t5 & 0.0003412062 & 0.001500877 & 1.431832e-06 & 0.93607791 & 5.021310e-19 & 0.04912686 & 8.942227e-05 & 0.0128622886\\\\\n",
       "\t15 & 0.0005135677 & 0.008439631 & 3.418062e-04 & 0.88198278 & 2.147278e-15 & 0.07964075 & 8.232006e-03 & 0.0208494569\\\\\n",
       "\t16 & 0.0005156590 & 0.061180542 & 5.721791e-04 & 0.57785368 & 8.594526e-17 & 0.28735000 & 1.265154e-02 & 0.0598764001\\\\\n",
       "\t24 & 0.0027876869 & 0.001056701 & 7.290123e-04 & 0.04327390 & 1.855841e-22 & 0.90208432 & 4.948513e-02 & 0.0005832490\\\\\n",
       "\\end{tabular}\n"
      ],
      "text/markdown": [
       "\n",
       "A matrix: 6 × 8 of type dbl\n",
       "\n",
       "| <!--/--> | 1 | 2 | 3 | 4 | 5 | 6 | 7 | 8 |\n",
       "|---|---|---|---|---|---|---|---|---|\n",
       "| 2 | 0.0869990121 | 0.003108882 | 3.149865e-06 | 0.06588280 | 3.870662e-14 | 0.54981032 | 2.588732e-01 | 0.0353225855 |\n",
       "| 4 | 0.0763338694 | 0.003546748 | 2.187137e-08 | 0.01275913 | 1.651140e-23 | 0.78436820 | 1.225599e-01 | 0.0004321644 |\n",
       "| 5 | 0.0003412062 | 0.001500877 | 1.431832e-06 | 0.93607791 | 5.021310e-19 | 0.04912686 | 8.942227e-05 | 0.0128622886 |\n",
       "| 15 | 0.0005135677 | 0.008439631 | 3.418062e-04 | 0.88198278 | 2.147278e-15 | 0.07964075 | 8.232006e-03 | 0.0208494569 |\n",
       "| 16 | 0.0005156590 | 0.061180542 | 5.721791e-04 | 0.57785368 | 8.594526e-17 | 0.28735000 | 1.265154e-02 | 0.0598764001 |\n",
       "| 24 | 0.0027876869 | 0.001056701 | 7.290123e-04 | 0.04327390 | 1.855841e-22 | 0.90208432 | 4.948513e-02 | 0.0005832490 |\n",
       "\n"
      ],
      "text/plain": [
       "   1            2           3            4          5            6         \n",
       "2  0.0869990121 0.003108882 3.149865e-06 0.06588280 3.870662e-14 0.54981032\n",
       "4  0.0763338694 0.003546748 2.187137e-08 0.01275913 1.651140e-23 0.78436820\n",
       "5  0.0003412062 0.001500877 1.431832e-06 0.93607791 5.021310e-19 0.04912686\n",
       "15 0.0005135677 0.008439631 3.418062e-04 0.88198278 2.147278e-15 0.07964075\n",
       "16 0.0005156590 0.061180542 5.721791e-04 0.57785368 8.594526e-17 0.28735000\n",
       "24 0.0027876869 0.001056701 7.290123e-04 0.04327390 1.855841e-22 0.90208432\n",
       "   7            8           \n",
       "2  2.588732e-01 0.0353225855\n",
       "4  1.225599e-01 0.0004321644\n",
       "5  8.942227e-05 0.0128622886\n",
       "15 8.232006e-03 0.0208494569\n",
       "16 1.265154e-02 0.0598764001\n",
       "24 4.948513e-02 0.0005832490"
      ]
     },
     "metadata": {},
     "output_type": "display_data"
    },
    {
     "data": {
      "text/html": [
       "<table>\n",
       "<caption>A matrix: 3 × 7 of type dbl</caption>\n",
       "<thead>\n",
       "\t<tr><th></th><th scope=col>LD1</th><th scope=col>LD2</th><th scope=col>LD3</th><th scope=col>LD4</th><th scope=col>LD5</th><th scope=col>LD6</th><th scope=col>LD7</th></tr>\n",
       "</thead>\n",
       "<tbody>\n",
       "\t<tr><th scope=row>2</th><td>-0.9173733</td><td> 0.1007945</td><td>-0.8682352</td><td>-0.7538904</td><td>-0.53949878</td><td> 1.2114838</td><td> 0.2187709</td></tr>\n",
       "\t<tr><th scope=row>4</th><td>-2.1487137</td><td>-0.8586237</td><td> 1.1281338</td><td>-0.4022925</td><td>-0.07724146</td><td>-0.1214462</td><td>-1.3441381</td></tr>\n",
       "\t<tr><th scope=row>5</th><td>-0.2990818</td><td>-0.6537336</td><td> 0.1774879</td><td> 3.1481195</td><td>-1.50671028</td><td> 0.1362236</td><td>-0.7269329</td></tr>\n",
       "</tbody>\n",
       "</table>\n"
      ],
      "text/latex": [
       "A matrix: 3 × 7 of type dbl\n",
       "\\begin{tabular}{r|lllllll}\n",
       "  & LD1 & LD2 & LD3 & LD4 & LD5 & LD6 & LD7\\\\\n",
       "\\hline\n",
       "\t2 & -0.9173733 &  0.1007945 & -0.8682352 & -0.7538904 & -0.53949878 &  1.2114838 &  0.2187709\\\\\n",
       "\t4 & -2.1487137 & -0.8586237 &  1.1281338 & -0.4022925 & -0.07724146 & -0.1214462 & -1.3441381\\\\\n",
       "\t5 & -0.2990818 & -0.6537336 &  0.1774879 &  3.1481195 & -1.50671028 &  0.1362236 & -0.7269329\\\\\n",
       "\\end{tabular}\n"
      ],
      "text/markdown": [
       "\n",
       "A matrix: 3 × 7 of type dbl\n",
       "\n",
       "| <!--/--> | LD1 | LD2 | LD3 | LD4 | LD5 | LD6 | LD7 |\n",
       "|---|---|---|---|---|---|---|---|\n",
       "| 2 | -0.9173733 |  0.1007945 | -0.8682352 | -0.7538904 | -0.53949878 |  1.2114838 |  0.2187709 |\n",
       "| 4 | -2.1487137 | -0.8586237 |  1.1281338 | -0.4022925 | -0.07724146 | -0.1214462 | -1.3441381 |\n",
       "| 5 | -0.2990818 | -0.6537336 |  0.1774879 |  3.1481195 | -1.50671028 |  0.1362236 | -0.7269329 |\n",
       "\n"
      ],
      "text/plain": [
       "  LD1        LD2        LD3        LD4        LD5         LD6        LD7       \n",
       "2 -0.9173733  0.1007945 -0.8682352 -0.7538904 -0.53949878  1.2114838  0.2187709\n",
       "4 -2.1487137 -0.8586237  1.1281338 -0.4022925 -0.07724146 -0.1214462 -1.3441381\n",
       "5 -0.2990818 -0.6537336  0.1774879  3.1481195 -1.50671028  0.1362236 -0.7269329"
      ]
     },
     "metadata": {},
     "output_type": "display_data"
    }
   ],
   "source": [
    "# Predicted classes\n",
    "head(predictions$class, 6)\n",
    "# Predicted probabilities of class memebership.\n",
    "head(predictions$posterior, 6) \n",
    "# Linear discriminants\n",
    "head(predictions$x, 3) "
   ]
  },
  {
   "cell_type": "code",
   "execution_count": 7,
   "metadata": {},
   "outputs": [
    {
     "name": "stdout",
     "output_type": "stream",
     "text": [
      "Confusion Matrix and Statistics\n",
      "\n",
      "         spec_as_int\n",
      "Predicted  1  2  3  4  5  6  7  8\n",
      "        1  0  0  0  0  0  1  0  0\n",
      "        2  0  0  0  0  0  0  0  0\n",
      "        3  0  0  4  0  1  0  0  0\n",
      "        4  1  2  0  5  0  1  3  0\n",
      "        5  0  0  0  0  1  0  0  0\n",
      "        6  2  0  1  1  0 13  0  0\n",
      "        7  0  0  0  0  0  0  3  0\n",
      "        8  0  0  0  0  0  0  0  1\n",
      "\n",
      "Overall Statistics\n",
      "                                          \n",
      "               Accuracy : 0.675           \n",
      "                 95% CI : (0.5087, 0.8143)\n",
      "    No Information Rate : 0.375           \n",
      "    P-Value [Acc > NIR] : 0.0001152       \n",
      "                                          \n",
      "                  Kappa : 0.5752          \n",
      "                                          \n",
      " Mcnemar's Test P-Value : NA              \n",
      "\n",
      "Statistics by Class:\n",
      "\n",
      "                     Class: 1 Class: 2 Class: 3 Class: 4 Class: 5 Class: 6\n",
      "Sensitivity            0.0000     0.00   0.8000   0.8333   0.5000   0.8667\n",
      "Specificity            0.9730     1.00   0.9714   0.7941   1.0000   0.8400\n",
      "Pos Pred Value         0.0000      NaN   0.8000   0.4167   1.0000   0.7647\n",
      "Neg Pred Value         0.9231     0.95   0.9714   0.9643   0.9744   0.9130\n",
      "Prevalence             0.0750     0.05   0.1250   0.1500   0.0500   0.3750\n",
      "Detection Rate         0.0000     0.00   0.1000   0.1250   0.0250   0.3250\n",
      "Detection Prevalence   0.0250     0.00   0.1250   0.3000   0.0250   0.4250\n",
      "Balanced Accuracy      0.4865     0.50   0.8857   0.8137   0.7500   0.8533\n",
      "                     Class: 7 Class: 8\n",
      "Sensitivity            0.5000    1.000\n",
      "Specificity            1.0000    1.000\n",
      "Pos Pred Value         1.0000    1.000\n",
      "Neg Pred Value         0.9189    1.000\n",
      "Prevalence             0.1500    0.025\n",
      "Detection Rate         0.0750    0.025\n",
      "Detection Prevalence   0.0750    0.025\n",
      "Balanced Accuracy      0.7500    1.000\n"
     ]
    }
   ],
   "source": [
    "table <- table(Predicted=predictions$class, spec_as_int=test.data$spec_as_int)\n",
    "print(confusionMatrix(table))"
   ]
  },
  {
   "cell_type": "code",
   "execution_count": 8,
   "metadata": {},
   "outputs": [
    {
     "name": "stdout",
     "output_type": "stream",
     "text": [
      "# weights:  168 (140 variable)\n",
      "initial  value 332.710647 \n",
      "iter  10 value 245.428044\n",
      "iter  20 value 192.200404\n",
      "iter  30 value 165.191731\n",
      "iter  40 value 141.795843\n",
      "iter  50 value 130.586789\n",
      "iter  60 value 124.768542\n",
      "iter  70 value 120.454747\n",
      "iter  80 value 108.874564\n",
      "iter  90 value 83.881801\n",
      "iter 100 value 52.822180\n",
      "final  value 52.822180 \n",
      "stopped after 100 iterations\n",
      "\n",
      "Call:\n",
      "multiclass.roc.default(response = test.data$spec_as_int, predictor = ionomics.predictions,     percent = TRUE)\n",
      "\n",
      "Data: multivariate predictor ionomics.predictions with 8 levels of test.data$spec_as_int: 1, 2, 3, 4, 5, 6, 7, 8.\n",
      "Multi-class area under the curve: 84.28%\n"
     ]
    }
   ],
   "source": [
    "mn.net <- nnet::multinom(spec_as_int ~ ., train.data)\n",
    "ionomics.predictions <- predict(mn.net, newdata=test.data, type=\"prob\")\n",
    "ionomics.predictions <- as.data.frame(ionomics.predictions)\n",
    "auc <- multiclass.roc(test.data$spec_as_int, ionomics.predictions, percent=TRUE)\n",
    "print(auc)"
   ]
  },
  {
   "cell_type": "code",
   "execution_count": 9,
   "metadata": {},
   "outputs": [
    {
     "name": "stderr",
     "output_type": "stream",
     "text": [
      "Installing package into 'C:/Users/2198K/Documents/R/win-library/3.6'\n",
      "(as 'lib' is unspecified)\n",
      "\n"
     ]
    },
    {
     "name": "stdout",
     "output_type": "stream",
     "text": [
      "package 'klaR' successfully unpacked and MD5 sums checked\n",
      "\n",
      "The downloaded binary packages are in\n",
      "\tC:\\Users\\2198K\\AppData\\Local\\Temp\\RtmpOgPIFQ\\downloaded_packages\n"
     ]
    }
   ],
   "source": [
    "install.packages(\"klaR\")\n",
    "library(klaR) # for NaiveBayes"
   ]
  },
  {
   "cell_type": "code",
   "execution_count": 10,
   "metadata": {},
   "outputs": [
    {
     "data": {
      "image/png": "[encoded data removed]",
      "text/plain": [
       "plot without title"
      ]
     },
     "metadata": {
      "image/png": {
       "height": 420,
       "width": 420
      },
      "text/plain": {
       "height": 420,
       "width": 420
      }
     },
     "output_type": "display_data"
    }
   ],
   "source": [
    "plot(x=NA, y=NA, xlim=c(0,1), ylim=c(0,1),\n",
    "     ylab=\"Precision\",\n",
    "     xlab=\"Recall\",\n",
    "     bty='n')\n",
    "colors <- c(\"red\", \"blue\", \"green\")\n",
    "aucs <- rep(NA, length(levels(ionomics$spec_as_int))) # store AUCs\n",
    "for (i in seq_along(levels(ionomics$spec_as_int))) {\n",
    "  cur.class <- levels(ionomics$spec_as_int)[i]\n",
    "  binary.labels <- as.factor(train.data$spec_as_int == cur.class)\n",
    "  # binarize the classifier you are using (NB is arbitrary)\n",
    "  model <- NaiveBayes(binary.labels ~ ., data = train.data)\n",
    "  pred <- predict(model, test.data, type='raw')\n",
    "  score <- pred$posterior[, 'TRUE'] # posterior for  positive class\n",
    "  test.labels <- test.data$spec_as_int == cur.class\n",
    "  pred <- prediction(score, test.labels)\n",
    "  perf <- performance(pred, \"prec\", \"rec\")\n",
    "  roc.x <- unlist(perf@x.values)\n",
    "  roc.y <- unlist(perf@y.values)\n",
    "  lines(roc.y ~ roc.x, col = colors[i], lwd = 2)\n",
    "  # store AUC\n",
    "  auc <- performance(pred, \"auc\")\n",
    "  auc <- unlist(slot(auc, \"y.values\"))\n",
    "  aucs[i] <- auc\n",
    "}\n",
    "lines(x=c(0,1), c(0,1))"
   ]
  }
 ],
 "metadata": {
  "kernelspec": {
   "display_name": "R",
   "language": "R",
   "name": "ir"
  },
  "language_info": {
   "codemirror_mode": "r",
   "file_extension": ".r",
   "mimetype": "text/x-r-source",
   "name": "R",
   "pygments_lexer": "r",
   "version": "3.6.3"
  }
 },
 "nbformat": 4,
 "nbformat_minor": 4
}
