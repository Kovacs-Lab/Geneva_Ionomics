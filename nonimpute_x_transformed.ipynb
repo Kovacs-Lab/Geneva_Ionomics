{
 "cells": [
  {
   "cell_type": "code",
   "execution_count": 1,
   "metadata": {},
   "outputs": [
    {
     "name": "stderr",
     "output_type": "stream",
     "text": [
      "Installing package into 'C:/Users/2198K/Documents/R/win-library/3.6'\n",
      "(as 'lib' is unspecified)\n",
      "\n"
     ]
    },
    {
     "name": "stdout",
     "output_type": "stream",
     "text": [
      "package 'MASS' successfully unpacked and MD5 sums checked\n"
     ]
    },
    {
     "name": "stderr",
     "output_type": "stream",
     "text": [
      "Warning message:\n",
      "\"cannot remove prior installation of package 'MASS'\"\n",
      "Warning message in file.copy(savedcopy, lib, recursive = TRUE):\n",
      "\"problem copying C:\\Users\\2198K\\Documents\\R\\win-library\\3.6\\00LOCK\\MASS\\libs\\x64\\MASS.dll to C:\\Users\\2198K\\Documents\\R\\win-library\\3.6\\MASS\\libs\\x64\\MASS.dll: Permission denied\"\n",
      "Warning message:\n",
      "\"restored 'MASS'\"\n"
     ]
    },
    {
     "name": "stdout",
     "output_type": "stream",
     "text": [
      "\n",
      "The downloaded binary packages are in\n",
      "\tC:\\Users\\2198K\\AppData\\Local\\Temp\\RtmpK4uror\\downloaded_packages\n"
     ]
    },
    {
     "name": "stderr",
     "output_type": "stream",
     "text": [
      "Installing package into 'C:/Users/2198K/Documents/R/win-library/3.6'\n",
      "(as 'lib' is unspecified)\n",
      "\n"
     ]
    },
    {
     "name": "stdout",
     "output_type": "stream",
     "text": [
      "package 'tidyverse' successfully unpacked and MD5 sums checked\n",
      "\n",
      "The downloaded binary packages are in\n",
      "\tC:\\Users\\2198K\\AppData\\Local\\Temp\\RtmpK4uror\\downloaded_packages\n"
     ]
    },
    {
     "name": "stderr",
     "output_type": "stream",
     "text": [
      "-- \u001b[1mAttaching packages\u001b[22m --------------------------------------- tidyverse 1.3.0 --\n",
      "\n",
      "\u001b[32mv\u001b[39m \u001b[34mggplot2\u001b[39m 3.2.1     \u001b[32mv\u001b[39m \u001b[34mpurrr  \u001b[39m 0.3.3\n",
      "\u001b[32mv\u001b[39m \u001b[34mtibble \u001b[39m 2.1.3     \u001b[32mv\u001b[39m \u001b[34mdplyr  \u001b[39m 0.8.4\n",
      "\u001b[32mv\u001b[39m \u001b[34mtidyr  \u001b[39m 1.0.2     \u001b[32mv\u001b[39m \u001b[34mstringr\u001b[39m 1.4.0\n",
      "\u001b[32mv\u001b[39m \u001b[34mreadr  \u001b[39m 1.3.1     \u001b[32mv\u001b[39m \u001b[34mforcats\u001b[39m 0.4.0\n",
      "\n",
      "-- \u001b[1mConflicts\u001b[22m ------------------------------------------ tidyverse_conflicts() --\n",
      "\u001b[31mx\u001b[39m \u001b[34mdplyr\u001b[39m::\u001b[32mfilter()\u001b[39m masks \u001b[34mstats\u001b[39m::filter()\n",
      "\u001b[31mx\u001b[39m \u001b[34mdplyr\u001b[39m::\u001b[32mlag()\u001b[39m    masks \u001b[34mstats\u001b[39m::lag()\n",
      "\u001b[31mx\u001b[39m \u001b[34mdplyr\u001b[39m::\u001b[32mselect()\u001b[39m masks \u001b[34mMASS\u001b[39m::select()\n",
      "\n",
      "Installing package into 'C:/Users/2198K/Documents/R/win-library/3.6'\n",
      "(as 'lib' is unspecified)\n",
      "\n"
     ]
    },
    {
     "name": "stdout",
     "output_type": "stream",
     "text": [
      "package 'caret' successfully unpacked and MD5 sums checked\n"
     ]
    },
    {
     "name": "stderr",
     "output_type": "stream",
     "text": [
      "Warning message:\n",
      "\"cannot remove prior installation of package 'caret'\"\n",
      "Warning message in file.copy(savedcopy, lib, recursive = TRUE):\n",
      "\"problem copying C:\\Users\\2198K\\Documents\\R\\win-library\\3.6\\00LOCK\\caret\\libs\\x64\\caret.dll to C:\\Users\\2198K\\Documents\\R\\win-library\\3.6\\caret\\libs\\x64\\caret.dll: Permission denied\"\n",
      "Warning message:\n",
      "\"restored 'caret'\"\n"
     ]
    },
    {
     "name": "stdout",
     "output_type": "stream",
     "text": [
      "\n",
      "The downloaded binary packages are in\n",
      "\tC:\\Users\\2198K\\AppData\\Local\\Temp\\RtmpK4uror\\downloaded_packages\n"
     ]
    },
    {
     "name": "stderr",
     "output_type": "stream",
     "text": [
      "Loading required package: lattice\n",
      "\n",
      "\n",
      "Attaching package: 'caret'\n",
      "\n",
      "\n",
      "The following object is masked from 'package:purrr':\n",
      "\n",
      "    lift\n",
      "\n",
      "\n",
      "Installing package into 'C:/Users/2198K/Documents/R/win-library/3.6'\n",
      "(as 'lib' is unspecified)\n",
      "\n"
     ]
    },
    {
     "name": "stdout",
     "output_type": "stream",
     "text": [
      "package 'mltest' successfully unpacked and MD5 sums checked\n",
      "\n",
      "The downloaded binary packages are in\n",
      "\tC:\\Users\\2198K\\AppData\\Local\\Temp\\RtmpK4uror\\downloaded_packages\n"
     ]
    }
   ],
   "source": [
    "install.packages(\"MASS\")\n",
    "library(\"MASS\")\n",
    "install.packages(\"tidyverse\")\n",
    "library(\"tidyverse\")\n",
    "install.packages(\"caret\")\n",
    "library(\"caret\")\n",
    "install.packages(\"mltest\")\n",
    "library(\"mltest\")"
   ]
  },
  {
   "cell_type": "code",
   "execution_count": 2,
   "metadata": {},
   "outputs": [],
   "source": [
    "ionomics <- read.csv('geneva_x_transformed.csv',colClasses =c(\"NULL\",\"NULL\",NA,NA,NA,NA,NA,NA,NA,NA,NA,NA,NA,NA,NA,\n",
    "                                                                    NA,NA,NA,NA,NA,NA,NA))\n",
    "ionomics = ionomics[0:200,]"
   ]
  },
  {
   "cell_type": "code",
   "execution_count": 3,
   "metadata": {},
   "outputs": [],
   "source": [
    "# Split the data into training (80%) and test set (20%)\n",
    "set.seed(123)\n",
    "training.samples <- ionomics[,2] %>%\n",
    "  createDataPartition(p = 0.8, list = FALSE)\n",
    "train.data <- ionomics[training.samples, ]\n",
    "test.data <- ionomics[-training.samples, ]"
   ]
  },
  {
   "cell_type": "code",
   "execution_count": 4,
   "metadata": {},
   "outputs": [
    {
     "name": "stderr",
     "output_type": "stream",
     "text": [
      "Warning message in FUN(newX[, i], ...):\n",
      "\"no non-missing arguments to min; returning Inf\"\n"
     ]
    },
    {
     "data": {
      "text/html": [
       "&lt;NA&gt;"
      ],
      "text/latex": [
       "<NA>"
      ],
      "text/markdown": [
       "&lt;NA&gt;"
      ],
      "text/plain": [
       "[1] NA"
      ]
     },
     "metadata": {},
     "output_type": "display_data"
    },
    {
     "data": {
      "text/plain": [
       "Call:\n",
       "lda(spec_as_int ~ ., data = train.data)\n",
       "\n",
       "Prior probabilities of groups:\n",
       "         1          2          3          4          5          6          7 \n",
       "0.05769231 0.02564103 0.14743590 0.21794872 0.01923077 0.33974359 0.12820513 \n",
       "         8 \n",
       "0.06410256 \n",
       "\n",
       "Group means:\n",
       "          B11       Na23       Mg26        Al27        P31         S34\n",
       "1 -0.20413703 -0.6097338 -0.6031628 -0.32026011 -0.5299490 -0.29234505\n",
       "2 -0.56855996 -0.2754358  0.1039312 -0.01880003  0.3240124 -0.17506390\n",
       "3 -0.33410156  0.8003434  0.4190788  0.31218610  0.5177615  0.17218223\n",
       "4  0.02540261  0.3807672  0.3645134  0.19415003 -0.3033800 -0.20339695\n",
       "5  1.45399662  1.3291735 -0.3164298  1.15952835  1.2932896 -0.21297315\n",
       "6  0.18891251 -0.1503568 -0.1196113 -0.18664608 -0.1057261  0.25722385\n",
       "7 -0.01336292 -0.3620363  0.0887498 -0.74547059  0.6451780  0.08094988\n",
       "8 -0.25629713 -0.5270073 -1.2612825  0.07669735 -1.0195904 -0.61762220\n",
       "         K39        Ca44        Fe54        Mn55       Co59        Ni60\n",
       "1  0.7119569 -0.39357313 -0.80133150 -0.70852407 -0.6156308 -0.45957580\n",
       "2 -0.3361280 -0.28479571 -0.02140510  0.02488374  0.1021516 -0.10528134\n",
       "3 -0.2668137  1.27988255  1.05413326  1.22996550  1.1931250  1.27491719\n",
       "4  0.2018489 -0.24329427 -0.39023071 -0.41613121 -0.4825973 -0.05954817\n",
       "5 -1.0347812 -0.88268893 -0.31561277  1.74080740  1.7627014  3.35437953\n",
       "6 -0.1719431  0.02266317  0.04624707 -0.10693286 -0.1535997 -0.30399155\n",
       "7  0.7656831 -0.64183251 -0.38398609 -0.62522660 -0.5267455 -0.40724417\n",
       "8 -1.1070690 -0.78860502 -0.34178775  0.69495097  0.6542053 -0.34309458\n",
       "        Cu63        Zn66        As75        Rb85        Sr88        Mo98\n",
       "1 -0.9457056  0.77968667 -0.24871957  1.22689689 -0.27052177 -0.25685025\n",
       "2  0.7696552 -0.07295347 -0.13226425 -0.33252158 -0.42125532 -0.35410533\n",
       "3  1.6521075  0.54500471  0.06055195 -0.13286687  0.93245541  1.31201870\n",
       "4  0.2265539 -0.21715510 -0.03026570 -0.60767355 -0.06055709 -0.44546717\n",
       "5 -0.1910904  0.22179344  2.29431709 -0.07872512 -1.07744630 -0.20367947\n",
       "6 -0.7472107 -0.04046527 -0.12702380  0.18845770 -0.05292678 -0.06953305\n",
       "7  0.2412004 -0.25421009 -0.20437205  0.37325483 -0.42850259 -0.16395208\n",
       "8  0.0034473  0.06268725  0.12061791 -0.58515062 -0.73659521 -0.08228935\n",
       "         Cd111\n",
       "1 -0.269280309\n",
       "2 -0.304745900\n",
       "3  0.858880381\n",
       "4 -0.008904155\n",
       "5  0.105501437\n",
       "6 -0.403484710\n",
       "7 -0.021562983\n",
       "8  0.262559074\n",
       "\n",
       "Coefficients of linear discriminants:\n",
       "              LD1          LD2         LD3         LD4         LD5          LD6\n",
       "B11   -0.20974144  0.324863701 -0.08272597  0.23208991 -0.12984103 -0.076889564\n",
       "Na23   0.24018908  0.145278429  0.16611564 -0.45887188  0.09787767  0.221930279\n",
       "Mg26  -0.16039488 -0.566816418 -0.20044885 -0.47710690 -0.02267197 -0.485195122\n",
       "Al27   0.16804319 -0.091603400  0.07069569 -0.57867739 -0.19992834  0.107090351\n",
       "P31   -0.16636002  0.226191960 -0.68667920  0.85118170  0.23029968 -0.286724140\n",
       "S34   -0.22252036 -0.267201479 -0.01441400 -0.04330551  0.22782438 -0.499352744\n",
       "K39   -0.19477469 -0.018143001  0.37190189 -0.28404552  0.41025702  0.620163380\n",
       "Ca44   0.03488687  1.158830092  0.91669469 -0.53821851  0.61773308 -0.013590996\n",
       "Fe54  -0.44952087  0.283325821  0.65237468 -0.10566668 -0.08306789 -0.523103196\n",
       "Mn55  -0.14024718  0.396119789  0.08080672  0.04897661 -0.46707674  0.463918143\n",
       "Co59   0.46357361 -0.001983519  0.21115368  0.47534667 -0.31604279 -0.197190067\n",
       "Ni60   0.54628196  0.821795492 -0.74186613 -0.27867009  0.68762418  0.008419546\n",
       "Cu63   1.18786938 -1.409006433 -0.06020363  0.41462799  0.10800531  0.024499474\n",
       "Zn66  -0.04260612  0.079085807  0.12527336 -0.11832566 -0.08483214  0.409501756\n",
       "As75   0.17068703  0.195044896 -0.97690569 -0.28390202  0.10277376  0.167648864\n",
       "Rb85  -0.49215767  0.210609740  0.23682320  0.29366316  0.38531725  0.366033471\n",
       "Sr88   0.38052816 -0.495124060 -0.35262549  0.08206224 -0.11334508  0.371690822\n",
       "Mo98   0.35020002  0.284109597  0.29974712  0.23208105 -0.05128755 -0.052989934\n",
       "Cd111  0.16080806 -0.196467860  0.12595239  0.16627495 -0.24455505  0.135227704\n",
       "              LD7\n",
       "B11   -0.51526399\n",
       "Na23   0.01577159\n",
       "Mg26  -0.09253263\n",
       "Al27   0.28722860\n",
       "P31    0.33471557\n",
       "S34    0.13760662\n",
       "K39   -0.37888880\n",
       "Ca44   1.22783553\n",
       "Fe54  -0.41386517\n",
       "Mn55  -0.45233430\n",
       "Co59   0.22733537\n",
       "Ni60   0.06011835\n",
       "Cu63   0.31227058\n",
       "Zn66   0.26864076\n",
       "As75  -0.22006870\n",
       "Rb85   0.09335075\n",
       "Sr88  -1.15213684\n",
       "Mo98  -0.44973073\n",
       "Cd111 -0.49368152\n",
       "\n",
       "Proportion of trace:\n",
       "   LD1    LD2    LD3    LD4    LD5    LD6    LD7 \n",
       "0.4800 0.2140 0.1395 0.0705 0.0599 0.0307 0.0054 "
      ]
     },
     "metadata": {},
     "output_type": "display_data"
    }
   ],
   "source": [
    "# Fit the model\n",
    "model <- lda(spec_as_int~., data = train.data)\n",
    "# Make predictions\n",
    "predictions <- model %>% predict(test.data)\n",
    "# Model accuracy\n",
    "mean(predictions$class==test.data$spec_as_int)\n",
    "model"
   ]
  },
  {
   "cell_type": "code",
   "execution_count": 5,
   "metadata": {},
   "outputs": [
    {
     "data": {
      "image/png": "[encoded data removed]",
      "text/plain": [
       "plot without title"
      ]
     },
     "metadata": {
      "image/png": {
       "height": 420,
       "width": 420
      },
      "text/plain": {
       "height": 420,
       "width": 420
      }
     },
     "output_type": "display_data"
    }
   ],
   "source": [
    "plot(model)"
   ]
  },
  {
   "cell_type": "code",
   "execution_count": 6,
   "metadata": {},
   "outputs": [
    {
     "data": {
      "text/html": [
       "<style>\n",
       ".list-inline {list-style: none; margin:0; padding: 0}\n",
       ".list-inline>li {display: inline-block}\n",
       ".list-inline>li:not(:last-child)::after {content: \"\\00b7\"; padding: 0 .5ex}\n",
       "</style>\n",
       "<ol class=list-inline><li>6</li><li>6</li><li>4</li><li>4</li><li>4</li><li>6</li></ol>\n",
       "\n",
       "<details>\n",
       "\t<summary style=display:list-item;cursor:pointer>\n",
       "\t\t<strong>Levels</strong>:\n",
       "\t</summary>\n",
       "\t<style>\n",
       "\t.list-inline {list-style: none; margin:0; padding: 0}\n",
       "\t.list-inline>li {display: inline-block}\n",
       "\t.list-inline>li:not(:last-child)::after {content: \"\\00b7\"; padding: 0 .5ex}\n",
       "\t</style>\n",
       "\t<ol class=list-inline><li>'1'</li><li>'2'</li><li>'3'</li><li>'4'</li><li>'5'</li><li>'6'</li><li>'7'</li><li>'8'</li></ol>\n",
       "</details>"
      ],
      "text/latex": [
       "\\begin{enumerate*}\n",
       "\\item 6\n",
       "\\item 6\n",
       "\\item 4\n",
       "\\item 4\n",
       "\\item 4\n",
       "\\item 6\n",
       "\\end{enumerate*}\n",
       "\n",
       "\\emph{Levels}: \\begin{enumerate*}\n",
       "\\item '1'\n",
       "\\item '2'\n",
       "\\item '3'\n",
       "\\item '4'\n",
       "\\item '5'\n",
       "\\item '6'\n",
       "\\item '7'\n",
       "\\item '8'\n",
       "\\end{enumerate*}\n"
      ],
      "text/markdown": [
       "1. 6\n",
       "2. 6\n",
       "3. 4\n",
       "4. 4\n",
       "5. 4\n",
       "6. 6\n",
       "\n",
       "\n",
       "\n",
       "**Levels**: 1. '1'\n",
       "2. '2'\n",
       "3. '3'\n",
       "4. '4'\n",
       "5. '5'\n",
       "6. '6'\n",
       "7. '7'\n",
       "8. '8'\n",
       "\n",
       "\n"
      ],
      "text/plain": [
       "[1] 6 6 4 4 4 6\n",
       "Levels: 1 2 3 4 5 6 7 8"
      ]
     },
     "metadata": {},
     "output_type": "display_data"
    },
    {
     "data": {
      "text/html": [
       "<table>\n",
       "<caption>A matrix: 6 × 8 of type dbl</caption>\n",
       "<thead>\n",
       "\t<tr><th></th><th scope=col>1</th><th scope=col>2</th><th scope=col>3</th><th scope=col>4</th><th scope=col>5</th><th scope=col>6</th><th scope=col>7</th><th scope=col>8</th></tr>\n",
       "</thead>\n",
       "<tbody>\n",
       "\t<tr><th scope=row>2</th><td>0.0942912652</td><td>0.003522771</td><td>3.710866e-06</td><td>0.06635810</td><td>5.632901e-14</td><td>0.51801711</td><td>0.2795999749</td><td>0.0382070706</td></tr>\n",
       "\t<tr><th scope=row>4</th><td>0.0694830079</td><td>0.004039150</td><td>3.482549e-08</td><td>0.01481104</td><td>5.085543e-23</td><td>0.77321331</td><td>0.1379283900</td><td>0.0005250690</td></tr>\n",
       "\t<tr><th scope=row>5</th><td>0.0002428989</td><td>0.001607647</td><td>2.219441e-06</td><td>0.94033686</td><td>1.140371e-18</td><td>0.04462126</td><td>0.0001130557</td><td>0.0130760626</td></tr>\n",
       "\t<tr><th scope=row>15</th><td>0.0004095844</td><td>0.008725529</td><td>3.958299e-04</td><td>0.89154044</td><td>4.174732e-15</td><td>0.06864521</td><td>0.0103739561</td><td>0.0199094459</td></tr>\n",
       "\t<tr><th scope=row>16</th><td>0.0004027620</td><td>0.065516911</td><td>7.492769e-04</td><td>0.61436368</td><td>1.696748e-16</td><td>0.24117171</td><td>0.0164189922</td><td>0.0613766667</td></tr>\n",
       "\t<tr><th scope=row>24</th><td>0.0025253179</td><td>0.001192899</td><td>8.961888e-04</td><td>0.04969571</td><td>6.007663e-22</td><td>0.88779496</td><td>0.0572445964</td><td>0.0006503269</td></tr>\n",
       "</tbody>\n",
       "</table>\n"
      ],
      "text/latex": [
       "A matrix: 6 × 8 of type dbl\n",
       "\\begin{tabular}{r|llllllll}\n",
       "  & 1 & 2 & 3 & 4 & 5 & 6 & 7 & 8\\\\\n",
       "\\hline\n",
       "\t2 & 0.0942912652 & 0.003522771 & 3.710866e-06 & 0.06635810 & 5.632901e-14 & 0.51801711 & 0.2795999749 & 0.0382070706\\\\\n",
       "\t4 & 0.0694830079 & 0.004039150 & 3.482549e-08 & 0.01481104 & 5.085543e-23 & 0.77321331 & 0.1379283900 & 0.0005250690\\\\\n",
       "\t5 & 0.0002428989 & 0.001607647 & 2.219441e-06 & 0.94033686 & 1.140371e-18 & 0.04462126 & 0.0001130557 & 0.0130760626\\\\\n",
       "\t15 & 0.0004095844 & 0.008725529 & 3.958299e-04 & 0.89154044 & 4.174732e-15 & 0.06864521 & 0.0103739561 & 0.0199094459\\\\\n",
       "\t16 & 0.0004027620 & 0.065516911 & 7.492769e-04 & 0.61436368 & 1.696748e-16 & 0.24117171 & 0.0164189922 & 0.0613766667\\\\\n",
       "\t24 & 0.0025253179 & 0.001192899 & 8.961888e-04 & 0.04969571 & 6.007663e-22 & 0.88779496 & 0.0572445964 & 0.0006503269\\\\\n",
       "\\end{tabular}\n"
      ],
      "text/markdown": [
       "\n",
       "A matrix: 6 × 8 of type dbl\n",
       "\n",
       "| <!--/--> | 1 | 2 | 3 | 4 | 5 | 6 | 7 | 8 |\n",
       "|---|---|---|---|---|---|---|---|---|\n",
       "| 2 | 0.0942912652 | 0.003522771 | 3.710866e-06 | 0.06635810 | 5.632901e-14 | 0.51801711 | 0.2795999749 | 0.0382070706 |\n",
       "| 4 | 0.0694830079 | 0.004039150 | 3.482549e-08 | 0.01481104 | 5.085543e-23 | 0.77321331 | 0.1379283900 | 0.0005250690 |\n",
       "| 5 | 0.0002428989 | 0.001607647 | 2.219441e-06 | 0.94033686 | 1.140371e-18 | 0.04462126 | 0.0001130557 | 0.0130760626 |\n",
       "| 15 | 0.0004095844 | 0.008725529 | 3.958299e-04 | 0.89154044 | 4.174732e-15 | 0.06864521 | 0.0103739561 | 0.0199094459 |\n",
       "| 16 | 0.0004027620 | 0.065516911 | 7.492769e-04 | 0.61436368 | 1.696748e-16 | 0.24117171 | 0.0164189922 | 0.0613766667 |\n",
       "| 24 | 0.0025253179 | 0.001192899 | 8.961888e-04 | 0.04969571 | 6.007663e-22 | 0.88779496 | 0.0572445964 | 0.0006503269 |\n",
       "\n"
      ],
      "text/plain": [
       "   1            2           3            4          5            6         \n",
       "2  0.0942912652 0.003522771 3.710866e-06 0.06635810 5.632901e-14 0.51801711\n",
       "4  0.0694830079 0.004039150 3.482549e-08 0.01481104 5.085543e-23 0.77321331\n",
       "5  0.0002428989 0.001607647 2.219441e-06 0.94033686 1.140371e-18 0.04462126\n",
       "15 0.0004095844 0.008725529 3.958299e-04 0.89154044 4.174732e-15 0.06864521\n",
       "16 0.0004027620 0.065516911 7.492769e-04 0.61436368 1.696748e-16 0.24117171\n",
       "24 0.0025253179 0.001192899 8.961888e-04 0.04969571 6.007663e-22 0.88779496\n",
       "   7            8           \n",
       "2  0.2795999749 0.0382070706\n",
       "4  0.1379283900 0.0005250690\n",
       "5  0.0001130557 0.0130760626\n",
       "15 0.0103739561 0.0199094459\n",
       "16 0.0164189922 0.0613766667\n",
       "24 0.0572445964 0.0006503269"
      ]
     },
     "metadata": {},
     "output_type": "display_data"
    },
    {
     "data": {
      "text/html": [
       "<table>\n",
       "<caption>A matrix: 3 × 7 of type dbl</caption>\n",
       "<thead>\n",
       "\t<tr><th></th><th scope=col>LD1</th><th scope=col>LD2</th><th scope=col>LD3</th><th scope=col>LD4</th><th scope=col>LD5</th><th scope=col>LD6</th><th scope=col>LD7</th></tr>\n",
       "</thead>\n",
       "<tbody>\n",
       "\t<tr><th scope=row>2</th><td>-0.9626955</td><td> 0.09366305</td><td>-0.8029674</td><td> 0.9359172</td><td>-0.41255730</td><td> 1.24859350</td><td>-0.189033</td></tr>\n",
       "\t<tr><th scope=row>4</th><td>-2.1271130</td><td>-0.89204206</td><td> 1.1302267</td><td> 0.4689859</td><td> 0.01180944</td><td>-0.20113108</td><td> 1.236746</td></tr>\n",
       "\t<tr><th scope=row>5</th><td>-0.2846056</td><td>-0.70943541</td><td> 0.1282337</td><td>-2.7798183</td><td>-2.06910380</td><td> 0.01766134</td><td> 0.740538</td></tr>\n",
       "</tbody>\n",
       "</table>\n"
      ],
      "text/latex": [
       "A matrix: 3 × 7 of type dbl\n",
       "\\begin{tabular}{r|lllllll}\n",
       "  & LD1 & LD2 & LD3 & LD4 & LD5 & LD6 & LD7\\\\\n",
       "\\hline\n",
       "\t2 & -0.9626955 &  0.09366305 & -0.8029674 &  0.9359172 & -0.41255730 &  1.24859350 & -0.189033\\\\\n",
       "\t4 & -2.1271130 & -0.89204206 &  1.1302267 &  0.4689859 &  0.01180944 & -0.20113108 &  1.236746\\\\\n",
       "\t5 & -0.2846056 & -0.70943541 &  0.1282337 & -2.7798183 & -2.06910380 &  0.01766134 &  0.740538\\\\\n",
       "\\end{tabular}\n"
      ],
      "text/markdown": [
       "\n",
       "A matrix: 3 × 7 of type dbl\n",
       "\n",
       "| <!--/--> | LD1 | LD2 | LD3 | LD4 | LD5 | LD6 | LD7 |\n",
       "|---|---|---|---|---|---|---|---|\n",
       "| 2 | -0.9626955 |  0.09366305 | -0.8029674 |  0.9359172 | -0.41255730 |  1.24859350 | -0.189033 |\n",
       "| 4 | -2.1271130 | -0.89204206 |  1.1302267 |  0.4689859 |  0.01180944 | -0.20113108 |  1.236746 |\n",
       "| 5 | -0.2846056 | -0.70943541 |  0.1282337 | -2.7798183 | -2.06910380 |  0.01766134 |  0.740538 |\n",
       "\n"
      ],
      "text/plain": [
       "  LD1        LD2         LD3        LD4        LD5         LD6        \n",
       "2 -0.9626955  0.09366305 -0.8029674  0.9359172 -0.41255730  1.24859350\n",
       "4 -2.1271130 -0.89204206  1.1302267  0.4689859  0.01180944 -0.20113108\n",
       "5 -0.2846056 -0.70943541  0.1282337 -2.7798183 -2.06910380  0.01766134\n",
       "  LD7      \n",
       "2 -0.189033\n",
       "4  1.236746\n",
       "5  0.740538"
      ]
     },
     "metadata": {},
     "output_type": "display_data"
    }
   ],
   "source": [
    "# Predicted classes\n",
    "head(predictions$class, 6)\n",
    "# Predicted probabilities of class memebership.\n",
    "head(predictions$posterior, 6) \n",
    "# Linear discriminants\n",
    "head(predictions$x, 3) "
   ]
  },
  {
   "cell_type": "code",
   "execution_count": 7,
   "metadata": {},
   "outputs": [
    {
     "name": "stdout",
     "output_type": "stream",
     "text": [
      "Confusion Matrix and Statistics\n",
      "\n",
      "         spec_as_int\n",
      "Predicted  1  2  3  4  5  6  7  8\n",
      "        1  0  0  0  0  0  1  0  0\n",
      "        2  0  0  0  0  0  0  0  0\n",
      "        3  0  0  4  0  1  0  0  0\n",
      "        4  1  2  0  5  0  0  3  0\n",
      "        5  0  0  0  0  1  0  0  0\n",
      "        6  2  0  1  1  0 13  0  0\n",
      "        7  0  0  0  0  0  0  3  0\n",
      "        8  0  0  0  0  0  0  0  1\n",
      "\n",
      "Overall Statistics\n",
      "                                          \n",
      "               Accuracy : 0.6923          \n",
      "                 95% CI : (0.5243, 0.8298)\n",
      "    No Information Rate : 0.359           \n",
      "    P-Value [Acc > NIR] : 2.378e-05       \n",
      "                                          \n",
      "                  Kappa : 0.5993          \n",
      "                                          \n",
      " Mcnemar's Test P-Value : NA              \n",
      "\n",
      "Statistics by Class:\n",
      "\n",
      "                     Class: 1 Class: 2 Class: 3 Class: 4 Class: 5 Class: 6\n",
      "Sensitivity           0.00000  0.00000   0.8000   0.8333  0.50000   0.9286\n",
      "Specificity           0.97222  1.00000   0.9706   0.8182  1.00000   0.8400\n",
      "Pos Pred Value        0.00000      NaN   0.8000   0.4545  1.00000   0.7647\n",
      "Neg Pred Value        0.92105  0.94872   0.9706   0.9643  0.97368   0.9545\n",
      "Prevalence            0.07692  0.05128   0.1282   0.1538  0.05128   0.3590\n",
      "Detection Rate        0.00000  0.00000   0.1026   0.1282  0.02564   0.3333\n",
      "Detection Prevalence  0.02564  0.00000   0.1282   0.2821  0.02564   0.4359\n",
      "Balanced Accuracy     0.48611  0.50000   0.8853   0.8258  0.75000   0.8843\n",
      "                     Class: 7 Class: 8\n",
      "Sensitivity           0.50000  1.00000\n",
      "Specificity           1.00000  1.00000\n",
      "Pos Pred Value        1.00000  1.00000\n",
      "Neg Pred Value        0.91667  1.00000\n",
      "Prevalence            0.15385  0.02564\n",
      "Detection Rate        0.07692  0.02564\n",
      "Detection Prevalence  0.07692  0.02564\n",
      "Balanced Accuracy     0.75000  1.00000\n"
     ]
    }
   ],
   "source": [
    "table <- table(Predicted=predictions$class, spec_as_int=test.data$spec_as_int)\n",
    "print(confusionMatrix(table))"
   ]
  },
  {
   "cell_type": "code",
   "execution_count": 8,
   "metadata": {},
   "outputs": [
    {
     "name": "stdout",
     "output_type": "stream",
     "text": [
      "# weights:  168 (140 variable)\n",
      "initial  value 324.392881 \n",
      "iter  10 value 56.684734\n",
      "iter  20 value 36.013379\n",
      "iter  30 value 19.924572\n",
      "iter  40 value 0.974881\n",
      "iter  50 value 0.008756\n",
      "final  value 0.000062 \n",
      "converged\n"
     ]
    },
    {
     "ename": "ERROR",
     "evalue": "Error in multiclass.roc(test.data$spec_as_int, ionomics.predictions, percent = TRUE): could not find function \"multiclass.roc\"\n",
     "output_type": "error",
     "traceback": [
      "Error in multiclass.roc(test.data$spec_as_int, ionomics.predictions, percent = TRUE): could not find function \"multiclass.roc\"\nTraceback:\n"
     ]
    }
   ],
   "source": [
    "mn.net <- nnet::multinom(spec_as_int ~ ., train.data)\n",
    "ionomics.predictions <- predict(mn.net, newdata=test.data, type=\"prob\")\n",
    "ionomics.predictions <- as.data.frame(ionomics.predictions)\n",
    "auc <- multiclass.roc(test.data$spec_as_int, ionomics.predictions, percent=TRUE)\n",
    "print(auc)"
   ]
  },
  {
   "cell_type": "code",
   "execution_count": 9,
   "metadata": {},
   "outputs": [],
   "source": [
    "spec.af <- factor(test.data$spec_as_int, levels = c(\"1\",\"2\",\"3\",\"4\",\"5\",\"6\",\"7\",\"8\"))\n",
    "class.af <- factor(predictions$class, levels = c(\"1\",\"2\",\"3\",\"4\",\"5\",\"6\",\"7\",\"8\"))"
   ]
  },
  {
   "cell_type": "code",
   "execution_count": 10,
   "metadata": {},
   "outputs": [],
   "source": [
    "classifier_metrics <- ml_test(class.af, spec.af, output.as.table = TRUE)\n",
    "F1 <- classifier_metrics$F1\n",
    "accuracy <- classifier_metrics$accuracy"
   ]
  },
  {
   "cell_type": "code",
   "execution_count": 11,
   "metadata": {},
   "outputs": [
    {
     "data": {
      "text/html": [
       "<table>\n",
       "<caption>A data.frame: 8 × 21</caption>\n",
       "<thead>\n",
       "\t<tr><th></th><th scope=col>balanced.accuracy</th><th scope=col>DOR</th><th scope=col>F0.5</th><th scope=col>F1</th><th scope=col>F2</th><th scope=col>FDR</th><th scope=col>FNR</th><th scope=col>FOR</th><th scope=col>FPR</th><th scope=col>geometric.mean</th><th scope=col>...</th><th scope=col>L</th><th scope=col>lambda</th><th scope=col>MCC</th><th scope=col>MK</th><th scope=col>NPV</th><th scope=col>OP</th><th scope=col>precision</th><th scope=col>recall</th><th scope=col>specificity</th><th scope=col>Youden</th></tr>\n",
       "\t<tr><th></th><th scope=col>&lt;dbl&gt;</th><th scope=col>&lt;dbl&gt;</th><th scope=col>&lt;dbl&gt;</th><th scope=col>&lt;dbl&gt;</th><th scope=col>&lt;dbl&gt;</th><th scope=col>&lt;dbl&gt;</th><th scope=col>&lt;dbl&gt;</th><th scope=col>&lt;dbl&gt;</th><th scope=col>&lt;dbl&gt;</th><th scope=col>&lt;dbl&gt;</th><th scope=col>...</th><th scope=col>&lt;dbl&gt;</th><th scope=col>&lt;dbl&gt;</th><th scope=col>&lt;dbl&gt;</th><th scope=col>&lt;dbl&gt;</th><th scope=col>&lt;dbl&gt;</th><th scope=col>&lt;dbl&gt;</th><th scope=col>&lt;dbl&gt;</th><th scope=col>&lt;dbl&gt;</th><th scope=col>&lt;dbl&gt;</th><th scope=col>&lt;dbl&gt;</th></tr>\n",
       "</thead>\n",
       "<tbody>\n",
       "\t<tr><th scope=row>1</th><td>0.4821429</td><td> 0.00000</td><td>      NaN</td><td>      NaN</td><td>      NaN</td><td>1.0000000</td><td>1.00000000</td><td>0.10000000</td><td>0.03571429</td><td>0.0000000</td><td>...</td><td> 0.000000</td><td>1.03703704</td><td>-0.05976143</td><td>-0.1000000</td><td>0.9000000</td><td>-0.3076923</td><td>0.0000000</td><td>0.0000000</td><td>0.9642857</td><td>-0.03571429</td></tr>\n",
       "\t<tr><th scope=row>2</th><td>0.5000000</td><td>     NaN</td><td>      NaN</td><td>      NaN</td><td>      NaN</td><td>      NaN</td><td>1.00000000</td><td>0.06896552</td><td>0.00000000</td><td>0.0000000</td><td>...</td><td>      NaN</td><td>1.00000000</td><td>        NaN</td><td>       NaN</td><td>0.9310345</td><td>-0.3076923</td><td>      NaN</td><td>0.0000000</td><td>1.0000000</td><td> 0.00000000</td></tr>\n",
       "\t<tr><th scope=row>3</th><td>0.8791667</td><td>92.00000</td><td>0.8000000</td><td>0.8000000</td><td>0.8000000</td><td>0.2000000</td><td>0.20000000</td><td>0.04166667</td><td>0.04166667</td><td>0.8755950</td><td>...</td><td>19.200000</td><td>0.20869565</td><td> 0.75833333</td><td> 0.7583333</td><td>0.9583333</td><td> 0.6022603</td><td>0.8000000</td><td>0.8000000</td><td>0.9583333</td><td> 0.75833333</td></tr>\n",
       "\t<tr><th scope=row>4</th><td>0.8095238</td><td>18.33333</td><td>0.5000000</td><td>0.5882353</td><td>0.7142857</td><td>0.5454545</td><td>0.16666667</td><td>0.04347826</td><td>0.21428571</td><td>0.8091736</td><td>...</td><td> 3.888889</td><td>0.21212121</td><td> 0.50445036</td><td> 0.4110672</td><td>0.9565217</td><td> 0.6628959</td><td>0.4545455</td><td>0.8333333</td><td>0.7857143</td><td> 0.61904762</td></tr>\n",
       "\t<tr><th scope=row>5</th><td>0.7500000</td><td>     Inf</td><td>0.8333333</td><td>0.6666667</td><td>0.5555556</td><td>0.0000000</td><td>0.50000000</td><td>0.03703704</td><td>0.00000000</td><td>0.7071068</td><td>...</td><td>      Inf</td><td>0.50000000</td><td> 0.69388867</td><td> 0.9629630</td><td>0.9629630</td><td> 0.3589744</td><td>1.0000000</td><td>0.5000000</td><td>1.0000000</td><td> 0.50000000</td></tr>\n",
       "\t<tr><th scope=row>6</th><td>0.8531746</td><td>45.50000</td><td>0.7926829</td><td>0.8387097</td><td>0.8904110</td><td>0.2352941</td><td>0.07142857</td><td>0.06666667</td><td>0.22222222</td><td>0.8498366</td><td>...</td><td> 4.178571</td><td>0.09183673</td><td> 0.70218192</td><td> 0.6980392</td><td>0.9333333</td><td> 0.6039356</td><td>0.7647059</td><td>0.9285714</td><td>0.7777778</td><td> 0.70634921</td></tr>\n",
       "\t<tr><th scope=row>7</th><td>0.7500000</td><td>     Inf</td><td>0.8333333</td><td>0.6666667</td><td>0.5555556</td><td>0.0000000</td><td>0.50000000</td><td>0.11111111</td><td>0.00000000</td><td>0.7071068</td><td>...</td><td>      Inf</td><td>0.50000000</td><td> 0.66666667</td><td> 0.8888889</td><td>0.8888889</td><td> 0.3589744</td><td>1.0000000</td><td>0.5000000</td><td>1.0000000</td><td> 0.50000000</td></tr>\n",
       "\t<tr><th scope=row>8</th><td>1.0000000</td><td>     Inf</td><td>1.0000000</td><td>1.0000000</td><td>1.0000000</td><td>0.0000000</td><td>0.00000000</td><td>0.00000000</td><td>0.00000000</td><td>1.0000000</td><td>...</td><td>      Inf</td><td>0.00000000</td><td> 1.00000000</td><td> 1.0000000</td><td>1.0000000</td><td> 0.6923077</td><td>1.0000000</td><td>1.0000000</td><td>1.0000000</td><td> 1.00000000</td></tr>\n",
       "</tbody>\n",
       "</table>\n"
      ],
      "text/latex": [
       "A data.frame: 8 × 21\n",
       "\\begin{tabular}{r|lllllllllllllllllllll}\n",
       "  & balanced.accuracy & DOR & F0.5 & F1 & F2 & FDR & FNR & FOR & FPR & geometric.mean & ... & L & lambda & MCC & MK & NPV & OP & precision & recall & specificity & Youden\\\\\n",
       "  & <dbl> & <dbl> & <dbl> & <dbl> & <dbl> & <dbl> & <dbl> & <dbl> & <dbl> & <dbl> & ... & <dbl> & <dbl> & <dbl> & <dbl> & <dbl> & <dbl> & <dbl> & <dbl> & <dbl> & <dbl>\\\\\n",
       "\\hline\n",
       "\t1 & 0.4821429 &  0.00000 &       NaN &       NaN &       NaN & 1.0000000 & 1.00000000 & 0.10000000 & 0.03571429 & 0.0000000 & ... &  0.000000 & 1.03703704 & -0.05976143 & -0.1000000 & 0.9000000 & -0.3076923 & 0.0000000 & 0.0000000 & 0.9642857 & -0.03571429\\\\\n",
       "\t2 & 0.5000000 &      NaN &       NaN &       NaN &       NaN &       NaN & 1.00000000 & 0.06896552 & 0.00000000 & 0.0000000 & ... &       NaN & 1.00000000 &         NaN &        NaN & 0.9310345 & -0.3076923 &       NaN & 0.0000000 & 1.0000000 &  0.00000000\\\\\n",
       "\t3 & 0.8791667 & 92.00000 & 0.8000000 & 0.8000000 & 0.8000000 & 0.2000000 & 0.20000000 & 0.04166667 & 0.04166667 & 0.8755950 & ... & 19.200000 & 0.20869565 &  0.75833333 &  0.7583333 & 0.9583333 &  0.6022603 & 0.8000000 & 0.8000000 & 0.9583333 &  0.75833333\\\\\n",
       "\t4 & 0.8095238 & 18.33333 & 0.5000000 & 0.5882353 & 0.7142857 & 0.5454545 & 0.16666667 & 0.04347826 & 0.21428571 & 0.8091736 & ... &  3.888889 & 0.21212121 &  0.50445036 &  0.4110672 & 0.9565217 &  0.6628959 & 0.4545455 & 0.8333333 & 0.7857143 &  0.61904762\\\\\n",
       "\t5 & 0.7500000 &      Inf & 0.8333333 & 0.6666667 & 0.5555556 & 0.0000000 & 0.50000000 & 0.03703704 & 0.00000000 & 0.7071068 & ... &       Inf & 0.50000000 &  0.69388867 &  0.9629630 & 0.9629630 &  0.3589744 & 1.0000000 & 0.5000000 & 1.0000000 &  0.50000000\\\\\n",
       "\t6 & 0.8531746 & 45.50000 & 0.7926829 & 0.8387097 & 0.8904110 & 0.2352941 & 0.07142857 & 0.06666667 & 0.22222222 & 0.8498366 & ... &  4.178571 & 0.09183673 &  0.70218192 &  0.6980392 & 0.9333333 &  0.6039356 & 0.7647059 & 0.9285714 & 0.7777778 &  0.70634921\\\\\n",
       "\t7 & 0.7500000 &      Inf & 0.8333333 & 0.6666667 & 0.5555556 & 0.0000000 & 0.50000000 & 0.11111111 & 0.00000000 & 0.7071068 & ... &       Inf & 0.50000000 &  0.66666667 &  0.8888889 & 0.8888889 &  0.3589744 & 1.0000000 & 0.5000000 & 1.0000000 &  0.50000000\\\\\n",
       "\t8 & 1.0000000 &      Inf & 1.0000000 & 1.0000000 & 1.0000000 & 0.0000000 & 0.00000000 & 0.00000000 & 0.00000000 & 1.0000000 & ... &       Inf & 0.00000000 &  1.00000000 &  1.0000000 & 1.0000000 &  0.6923077 & 1.0000000 & 1.0000000 & 1.0000000 &  1.00000000\\\\\n",
       "\\end{tabular}\n"
      ],
      "text/markdown": [
       "\n",
       "A data.frame: 8 × 21\n",
       "\n",
       "| <!--/--> | balanced.accuracy &lt;dbl&gt; | DOR &lt;dbl&gt; | F0.5 &lt;dbl&gt; | F1 &lt;dbl&gt; | F2 &lt;dbl&gt; | FDR &lt;dbl&gt; | FNR &lt;dbl&gt; | FOR &lt;dbl&gt; | FPR &lt;dbl&gt; | geometric.mean &lt;dbl&gt; | ... ... | L &lt;dbl&gt; | lambda &lt;dbl&gt; | MCC &lt;dbl&gt; | MK &lt;dbl&gt; | NPV &lt;dbl&gt; | OP &lt;dbl&gt; | precision &lt;dbl&gt; | recall &lt;dbl&gt; | specificity &lt;dbl&gt; | Youden &lt;dbl&gt; |\n",
       "|---|---|---|---|---|---|---|---|---|---|---|---|---|---|---|---|---|---|---|---|---|---|\n",
       "| 1 | 0.4821429 |  0.00000 |       NaN |       NaN |       NaN | 1.0000000 | 1.00000000 | 0.10000000 | 0.03571429 | 0.0000000 | ... |  0.000000 | 1.03703704 | -0.05976143 | -0.1000000 | 0.9000000 | -0.3076923 | 0.0000000 | 0.0000000 | 0.9642857 | -0.03571429 |\n",
       "| 2 | 0.5000000 |      NaN |       NaN |       NaN |       NaN |       NaN | 1.00000000 | 0.06896552 | 0.00000000 | 0.0000000 | ... |       NaN | 1.00000000 |         NaN |        NaN | 0.9310345 | -0.3076923 |       NaN | 0.0000000 | 1.0000000 |  0.00000000 |\n",
       "| 3 | 0.8791667 | 92.00000 | 0.8000000 | 0.8000000 | 0.8000000 | 0.2000000 | 0.20000000 | 0.04166667 | 0.04166667 | 0.8755950 | ... | 19.200000 | 0.20869565 |  0.75833333 |  0.7583333 | 0.9583333 |  0.6022603 | 0.8000000 | 0.8000000 | 0.9583333 |  0.75833333 |\n",
       "| 4 | 0.8095238 | 18.33333 | 0.5000000 | 0.5882353 | 0.7142857 | 0.5454545 | 0.16666667 | 0.04347826 | 0.21428571 | 0.8091736 | ... |  3.888889 | 0.21212121 |  0.50445036 |  0.4110672 | 0.9565217 |  0.6628959 | 0.4545455 | 0.8333333 | 0.7857143 |  0.61904762 |\n",
       "| 5 | 0.7500000 |      Inf | 0.8333333 | 0.6666667 | 0.5555556 | 0.0000000 | 0.50000000 | 0.03703704 | 0.00000000 | 0.7071068 | ... |       Inf | 0.50000000 |  0.69388867 |  0.9629630 | 0.9629630 |  0.3589744 | 1.0000000 | 0.5000000 | 1.0000000 |  0.50000000 |\n",
       "| 6 | 0.8531746 | 45.50000 | 0.7926829 | 0.8387097 | 0.8904110 | 0.2352941 | 0.07142857 | 0.06666667 | 0.22222222 | 0.8498366 | ... |  4.178571 | 0.09183673 |  0.70218192 |  0.6980392 | 0.9333333 |  0.6039356 | 0.7647059 | 0.9285714 | 0.7777778 |  0.70634921 |\n",
       "| 7 | 0.7500000 |      Inf | 0.8333333 | 0.6666667 | 0.5555556 | 0.0000000 | 0.50000000 | 0.11111111 | 0.00000000 | 0.7071068 | ... |       Inf | 0.50000000 |  0.66666667 |  0.8888889 | 0.8888889 |  0.3589744 | 1.0000000 | 0.5000000 | 1.0000000 |  0.50000000 |\n",
       "| 8 | 1.0000000 |      Inf | 1.0000000 | 1.0000000 | 1.0000000 | 0.0000000 | 0.00000000 | 0.00000000 | 0.00000000 | 1.0000000 | ... |       Inf | 0.00000000 |  1.00000000 |  1.0000000 | 1.0000000 |  0.6923077 | 1.0000000 | 1.0000000 | 1.0000000 |  1.00000000 |\n",
       "\n"
      ],
      "text/plain": [
       "  balanced.accuracy DOR      F0.5      F1        F2        FDR       FNR       \n",
       "1 0.4821429          0.00000       NaN       NaN       NaN 1.0000000 1.00000000\n",
       "2 0.5000000              NaN       NaN       NaN       NaN       NaN 1.00000000\n",
       "3 0.8791667         92.00000 0.8000000 0.8000000 0.8000000 0.2000000 0.20000000\n",
       "4 0.8095238         18.33333 0.5000000 0.5882353 0.7142857 0.5454545 0.16666667\n",
       "5 0.7500000              Inf 0.8333333 0.6666667 0.5555556 0.0000000 0.50000000\n",
       "6 0.8531746         45.50000 0.7926829 0.8387097 0.8904110 0.2352941 0.07142857\n",
       "7 0.7500000              Inf 0.8333333 0.6666667 0.5555556 0.0000000 0.50000000\n",
       "8 1.0000000              Inf 1.0000000 1.0000000 1.0000000 0.0000000 0.00000000\n",
       "  FOR        FPR        geometric.mean ... L         lambda     MCC        \n",
       "1 0.10000000 0.03571429 0.0000000      ...  0.000000 1.03703704 -0.05976143\n",
       "2 0.06896552 0.00000000 0.0000000      ...       NaN 1.00000000         NaN\n",
       "3 0.04166667 0.04166667 0.8755950      ... 19.200000 0.20869565  0.75833333\n",
       "4 0.04347826 0.21428571 0.8091736      ...  3.888889 0.21212121  0.50445036\n",
       "5 0.03703704 0.00000000 0.7071068      ...       Inf 0.50000000  0.69388867\n",
       "6 0.06666667 0.22222222 0.8498366      ...  4.178571 0.09183673  0.70218192\n",
       "7 0.11111111 0.00000000 0.7071068      ...       Inf 0.50000000  0.66666667\n",
       "8 0.00000000 0.00000000 1.0000000      ...       Inf 0.00000000  1.00000000\n",
       "  MK         NPV       OP         precision recall    specificity Youden     \n",
       "1 -0.1000000 0.9000000 -0.3076923 0.0000000 0.0000000 0.9642857   -0.03571429\n",
       "2        NaN 0.9310345 -0.3076923       NaN 0.0000000 1.0000000    0.00000000\n",
       "3  0.7583333 0.9583333  0.6022603 0.8000000 0.8000000 0.9583333    0.75833333\n",
       "4  0.4110672 0.9565217  0.6628959 0.4545455 0.8333333 0.7857143    0.61904762\n",
       "5  0.9629630 0.9629630  0.3589744 1.0000000 0.5000000 1.0000000    0.50000000\n",
       "6  0.6980392 0.9333333  0.6039356 0.7647059 0.9285714 0.7777778    0.70634921\n",
       "7  0.8888889 0.8888889  0.3589744 1.0000000 0.5000000 1.0000000    0.50000000\n",
       "8  1.0000000 1.0000000  0.6923077 1.0000000 1.0000000 1.0000000    1.00000000"
      ]
     },
     "metadata": {},
     "output_type": "display_data"
    }
   ],
   "source": [
    "classifier_metrics"
   ]
  }
 ],
 "metadata": {
  "kernelspec": {
   "display_name": "R",
   "language": "R",
   "name": "ir"
  },
  "language_info": {
   "codemirror_mode": "r",
   "file_extension": ".r",
   "mimetype": "text/x-r-source",
   "name": "R",
   "pygments_lexer": "r",
   "version": "3.6.3"
  }
 },
 "nbformat": 4,
 "nbformat_minor": 4
}
