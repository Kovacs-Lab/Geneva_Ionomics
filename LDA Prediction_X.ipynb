{
 "cells": [
  {
   "cell_type": "code",
   "execution_count": 1,
   "metadata": {},
   "outputs": [
    {
     "name": "stderr",
     "output_type": "stream",
     "text": [
      "Installing package into 'C:/Users/2198K/Documents/R/win-library/3.6'\n",
      "(as 'lib' is unspecified)\n",
      "\n"
     ]
    },
    {
     "name": "stdout",
     "output_type": "stream",
     "text": [
      "package 'MASS' successfully unpacked and MD5 sums checked\n",
      "\n",
      "The downloaded binary packages are in\n",
      "\tC:\\Users\\2198K\\AppData\\Local\\Temp\\Rtmp4iJ3ny\\downloaded_packages\n"
     ]
    },
    {
     "name": "stderr",
     "output_type": "stream",
     "text": [
      "Installing package into 'C:/Users/2198K/Documents/R/win-library/3.6'\n",
      "(as 'lib' is unspecified)\n",
      "\n"
     ]
    },
    {
     "name": "stdout",
     "output_type": "stream",
     "text": [
      "\n",
      "  There is a binary version available but the source version is later:\n",
      "        binary source needs_compilation\n",
      "missMDA   1.16   1.17             FALSE\n",
      "\n"
     ]
    },
    {
     "name": "stderr",
     "output_type": "stream",
     "text": [
      "installing the source package 'missMDA'\n",
      "\n",
      "\n",
      "Installing package into 'C:/Users/2198K/Documents/R/win-library/3.6'\n",
      "(as 'lib' is unspecified)\n",
      "\n"
     ]
    },
    {
     "name": "stdout",
     "output_type": "stream",
     "text": [
      "package 'tidyverse' successfully unpacked and MD5 sums checked\n",
      "\n",
      "The downloaded binary packages are in\n",
      "\tC:\\Users\\2198K\\AppData\\Local\\Temp\\Rtmp4iJ3ny\\downloaded_packages\n"
     ]
    },
    {
     "name": "stderr",
     "output_type": "stream",
     "text": [
      "-- \u001b[1mAttaching packages\u001b[22m --------------------------------------- tidyverse 1.3.0 --\n",
      "\n",
      "\u001b[32mv\u001b[39m \u001b[34mggplot2\u001b[39m 3.2.1     \u001b[32mv\u001b[39m \u001b[34mpurrr  \u001b[39m 0.3.3\n",
      "\u001b[32mv\u001b[39m \u001b[34mtibble \u001b[39m 2.1.3     \u001b[32mv\u001b[39m \u001b[34mdplyr  \u001b[39m 0.8.4\n",
      "\u001b[32mv\u001b[39m \u001b[34mtidyr  \u001b[39m 1.0.2     \u001b[32mv\u001b[39m \u001b[34mstringr\u001b[39m 1.4.0\n",
      "\u001b[32mv\u001b[39m \u001b[34mreadr  \u001b[39m 1.3.1     \u001b[32mv\u001b[39m \u001b[34mforcats\u001b[39m 0.4.0\n",
      "\n",
      "-- \u001b[1mConflicts\u001b[22m ------------------------------------------ tidyverse_conflicts() --\n",
      "\u001b[31mx\u001b[39m \u001b[34mdplyr\u001b[39m::\u001b[32mfilter()\u001b[39m masks \u001b[34mstats\u001b[39m::filter()\n",
      "\u001b[31mx\u001b[39m \u001b[34mdplyr\u001b[39m::\u001b[32mlag()\u001b[39m    masks \u001b[34mstats\u001b[39m::lag()\n",
      "\u001b[31mx\u001b[39m \u001b[34mdplyr\u001b[39m::\u001b[32mselect()\u001b[39m masks \u001b[34mMASS\u001b[39m::select()\n",
      "\n",
      "Installing package into 'C:/Users/2198K/Documents/R/win-library/3.6'\n",
      "(as 'lib' is unspecified)\n",
      "\n"
     ]
    },
    {
     "name": "stdout",
     "output_type": "stream",
     "text": [
      "package 'caret' successfully unpacked and MD5 sums checked\n",
      "\n",
      "The downloaded binary packages are in\n",
      "\tC:\\Users\\2198K\\AppData\\Local\\Temp\\Rtmp4iJ3ny\\downloaded_packages\n"
     ]
    },
    {
     "name": "stderr",
     "output_type": "stream",
     "text": [
      "Loading required package: lattice\n",
      "\n",
      "\n",
      "Attaching package: 'caret'\n",
      "\n",
      "\n",
      "The following object is masked from 'package:purrr':\n",
      "\n",
      "    lift\n",
      "\n",
      "\n"
     ]
    }
   ],
   "source": [
    "install.packages(\"MASS\")\n",
    "library(\"MASS\")\n",
    "install.packages(\"missMDA\")\n",
    "library(\"missMDA\")\n",
    "install.packages(\"tidyverse\")\n",
    "library(\"tidyverse\")\n",
    "install.packages(\"caret\")\n",
    "library(\"caret\")"
   ]
  },
  {
   "cell_type": "code",
   "execution_count": 2,
   "metadata": {},
   "outputs": [],
   "source": [
    "ionomics <- read.csv('geneva_x_raw_spec_as_int.csv',colClasses =c(\"NULL\",\"NULL\",NA,NA,NA,NA,NA,NA,NA,NA,NA,NA,NA,NA,NA,\n",
    "                                                                    NA,NA,NA,NA,NA,NA,NA))\n",
    "ionomics <- imputePCA(ionomics, method = \"Regularized\")"
   ]
  },
  {
   "cell_type": "code",
   "execution_count": 3,
   "metadata": {},
   "outputs": [],
   "source": [
    "# Split the data into training (80%) and test set (20%)\n",
    "set.seed(123)\n",
    "training.samples <- ionomics$completeObs[,2] %>%\n",
    "  createDataPartition(p = 0.8, list = FALSE)\n",
    "train.data <- ionomics$completeObs[training.samples, ]\n",
    "test.data <- ionomics$completeObs[-training.samples, ]\n",
    "train.data <- unlist(test.data)\n",
    "test.data <- unlist(test.data)\n",
    "train.data <- as.data.frame(train.data)\n",
    "test.data <- as.data.frame(test.data)"
   ]
  },
  {
   "cell_type": "code",
   "execution_count": 4,
   "metadata": {},
   "outputs": [
    {
     "data": {
      "text/html": [
       "1"
      ],
      "text/latex": [
       "1"
      ],
      "text/markdown": [
       "1"
      ],
      "text/plain": [
       "[1] 1"
      ]
     },
     "metadata": {},
     "output_type": "display_data"
    },
    {
     "data": {
      "text/plain": [
       "Call:\n",
       "lda(spec_as_int ~ ., data = train.data)\n",
       "\n",
       "Prior probabilities of groups:\n",
       "               1                2                3                4 \n",
       "           0.125            0.025            0.075            0.175 \n",
       "               5 5.07696182993507 5.16461243592947                6 \n",
       "           0.025            0.025            0.025            0.375 \n",
       "               7                8 \n",
       "           0.075            0.075 \n",
       "\n",
       "Group means:\n",
       "                       B11     Na23     Mg26     Al27      P31      S34\n",
       "1                 66.55059 123.3023 1547.899 29.52612 5967.685 2123.559\n",
       "2                 46.67490 118.4319 1548.720 18.62911 5241.988 2480.767\n",
       "3                130.69957 351.2537 1589.180 25.99511 6611.228 2560.071\n",
       "4                 91.38694 236.0704 1625.825 18.76883 5421.638 2223.124\n",
       "5                205.92464 295.5591 2348.847 22.68523 6333.000 1515.482\n",
       "5.07696182993507  24.99672 184.9826 1645.628 19.37257 5091.023 2680.601\n",
       "5.16461243592947  67.74117 304.3141 1569.375 16.67715 6748.686 2350.681\n",
       "6                105.40351 164.7919 1501.167 18.80529 5641.180 2362.975\n",
       "7                148.82274 130.5844 1616.014 17.60102 6829.503 2089.149\n",
       "8                171.26219 208.0649 1376.720 23.79054 4852.274 2257.093\n",
       "                      K39      Ca44     Fe54     Mn55       Co59      Ni60\n",
       "1                17630.54  4168.209 60.78851 203.4260 0.09272454 0.5015316\n",
       "2                15508.26  6313.037 59.66561 342.5803 0.15104506 1.0033087\n",
       "3                17417.50  8623.963 68.36524 432.6783 0.19162110 2.2630775\n",
       "4                17508.98  5375.614 43.95663 224.6114 0.09212599 0.8108168\n",
       "5                13959.37 12686.331 77.54139 691.9512 0.29479795 2.0781660\n",
       "5.07696182993507 16624.43  6515.493 49.12504 167.3349 0.19770325 0.8456797\n",
       "5.16461243592947 20042.69  4278.400 53.81419 143.0352 0.15575739 0.4959897\n",
       "6                17276.93  6536.110 52.18065 237.9989 0.10157651 0.5268464\n",
       "7                18585.50  4093.594 55.44926 230.6932 0.10965303 0.7840379\n",
       "8                14881.05  4436.166 53.77107 376.6078 0.15525571 0.5425156\n",
       "                      Cu63      Zn66        As75      Rb85      Sr88       Mo98\n",
       "1                 49.97992 104.51842 0.019581017 10.076093  3.018002 0.21980340\n",
       "2                 62.08833 136.05868 0.020910821  2.721193  3.814840 0.09902326\n",
       "3                127.24057 168.48448 0.018296945  5.452026  5.352729 1.02230057\n",
       "4                 68.35218 107.97489 0.014000979  3.858744  5.116575 0.26593268\n",
       "5                 58.98193 123.68098 0.013104680  2.346287 13.710783 0.15091853\n",
       "5.07696182993507  54.81452  99.26561 0.013866236 10.762586  4.449023 0.23060452\n",
       "5.16461243592947  40.64240 117.17552 0.003762517  6.422968  3.711751 0.19616687\n",
       "6                 41.45389 153.44353 0.013464710  5.629617  5.267256 0.35829822\n",
       "7                 90.12904 163.08915 0.024801966  9.631509  3.308449 0.23542853\n",
       "8                 57.63790 135.52578 0.018973376  2.584502  3.399369 0.18655039\n",
       "                      Cd111\n",
       "1                0.03266728\n",
       "2                0.04010972\n",
       "3                0.04510637\n",
       "4                0.02769959\n",
       "5                0.04320409\n",
       "5.07696182993507 0.01568334\n",
       "5.16461243592947 0.01655592\n",
       "6                0.01850432\n",
       "7                0.05484966\n",
       "8                0.04137092\n",
       "\n",
       "Coefficients of linear discriminants:\n",
       "                LD1           LD2           LD3           LD4           LD5\n",
       "B11   -2.046962e-02  5.681236e-04 -1.825362e-02 -5.619831e-03 -6.022155e-03\n",
       "Na23   1.317053e-02  4.249824e-04  1.027673e-02  1.148559e-02  2.151133e-03\n",
       "Mg26  -4.599167e-03 -2.172610e-03 -3.042977e-03 -7.124337e-03  1.957696e-03\n",
       "Al27   2.064673e-02 -7.871200e-02  7.031994e-03  5.159168e-02  6.999635e-02\n",
       "P31   -1.159434e-03 -2.679794e-04 -8.875478e-04  1.186544e-03 -1.271241e-03\n",
       "S34   -9.182734e-04 -1.989063e-03 -5.903564e-04 -6.208984e-04  6.946700e-04\n",
       "K39    7.166530e-04  1.587857e-04  3.196288e-04  4.530410e-04  1.681374e-04\n",
       "Ca44   1.627390e-03 -8.406837e-04 -2.179838e-04  5.083999e-04  1.441183e-04\n",
       "Fe54  -2.489563e-02  1.931816e-01  1.214748e-01  1.081806e-01 -7.570858e-02\n",
       "Mn55  -1.509963e-02  3.357772e-02 -2.940532e-02  1.791977e-02  1.028573e-02\n",
       "Co59   4.337312e+01 -9.472295e+01  2.037295e+01 -4.543435e+01 -3.498789e+01\n",
       "Ni60   3.514130e+00  3.920056e-01 -1.950506e+00  6.008121e-01 -2.634907e-01\n",
       "Cu63   2.953071e-02  7.700140e-02  8.729877e-02 -9.774577e-02  3.197060e-02\n",
       "Zn66   1.467906e-02 -8.866337e-03 -1.193588e-02  9.512178e-03  2.386492e-03\n",
       "As75  -8.522197e+01 -3.729936e+01 -3.860535e+01 -8.468444e+01 -9.201610e+00\n",
       "Rb85  -3.586805e-01  2.786130e-01  1.630328e-01 -1.997050e-02 -5.847356e-02\n",
       "Sr88  -5.984803e-01  3.991209e-01  2.936222e-01 -6.064385e-01  7.670612e-02\n",
       "Mo98   2.981448e+00  3.446002e+00  1.418841e+00  1.787818e+00 -1.016816e+00\n",
       "Cd111 -5.047696e+01  4.558618e+01 -1.244831e+01  5.391496e-01 -1.699951e+01\n",
       "                LD6           LD7           LD8           LD9\n",
       "B11   -7.951916e-03  9.107752e-03  5.971044e-04 -0.0100293515\n",
       "Na23  -3.966201e-03 -6.252874e-03 -9.504630e-04  0.0035934117\n",
       "Mg26   4.500014e-03  3.265462e-05  1.241878e-03  0.0006814212\n",
       "Al27  -6.014686e-02  5.841999e-02  6.078509e-02 -0.0265855589\n",
       "P31   -7.543940e-04  1.162959e-03 -8.388513e-04  0.0001675123\n",
       "S34    5.122592e-05  9.263339e-04  2.617866e-04  0.0003958530\n",
       "K39    8.293332e-05 -5.228700e-04 -2.163670e-04  0.0001608580\n",
       "Ca44   8.626668e-04  1.045591e-03  7.908578e-05  0.0002690404\n",
       "Fe54   2.799682e-02 -1.295517e-01  2.145561e-02  0.0099984311\n",
       "Mn55  -2.263336e-03 -4.761148e-03  1.624952e-03  0.0020052473\n",
       "Co59  -1.882001e+01  6.595537e+00 -1.096534e+00 -4.0910352294\n",
       "Ni60   1.266220e+00 -5.986263e-01 -9.332586e-02  0.2964439416\n",
       "Cu63  -2.240475e-02  1.832930e-02  1.094274e-02 -0.0237191078\n",
       "Zn66  -2.417359e-03  7.531621e-03 -2.625013e-03  0.0028581907\n",
       "As75   1.134387e+02  3.102862e+01 -4.148255e+01 36.8695132560\n",
       "Rb85   1.275248e-01 -3.743793e-02  1.013866e-01 -0.1442595576\n",
       "Sr88  -3.621954e-01 -7.835728e-01 -2.620997e-01 -0.3437074075\n",
       "Mo98  -2.723086e-01 -1.744060e+00  9.338117e-02 -1.2661857480\n",
       "Cd111  1.489864e+01 -6.606080e+00 -1.112157e+01 34.1555461961\n",
       "\n",
       "Proportion of trace:\n",
       "   LD1    LD2    LD3    LD4    LD5    LD6    LD7    LD8    LD9 \n",
       "0.4371 0.2359 0.1527 0.0975 0.0343 0.0221 0.0111 0.0071 0.0021 "
      ]
     },
     "metadata": {},
     "output_type": "display_data"
    }
   ],
   "source": [
    "# Fit the model\n",
    "model <- lda(spec_as_int~., data = train.data)\n",
    "# Make predictions\n",
    "predictions <- model %>% predict(test.data)\n",
    "# Model accuracy\n",
    "mean(predictions$class==test.data$spec_as_int)\n",
    "model"
   ]
  },
  {
   "cell_type": "code",
   "execution_count": 5,
   "metadata": {},
   "outputs": [
    {
     "data": {
      "image/png": "[encoded data removed]",
      "text/plain": [
       "plot without title"
      ]
     },
     "metadata": {
      "image/png": {
       "height": 420,
       "width": 420
      },
      "text/plain": {
       "height": 420,
       "width": 420
      }
     },
     "output_type": "display_data"
    }
   ],
   "source": [
    "plot(model)"
   ]
  },
  {
   "cell_type": "code",
   "execution_count": 6,
   "metadata": {},
   "outputs": [
    {
     "data": {
      "text/html": [
       "<style>\n",
       ".list-inline {list-style: none; margin:0; padding: 0}\n",
       ".list-inline>li {display: inline-block}\n",
       ".list-inline>li:not(:last-child)::after {content: \"\\00b7\"; padding: 0 .5ex}\n",
       "</style>\n",
       "<ol class=list-inline><li>1</li><li>1</li><li>1</li><li>1</li><li>1</li><li>2</li></ol>\n",
       "\n",
       "<details>\n",
       "\t<summary style=display:list-item;cursor:pointer>\n",
       "\t\t<strong>Levels</strong>:\n",
       "\t</summary>\n",
       "\t<style>\n",
       "\t.list-inline {list-style: none; margin:0; padding: 0}\n",
       "\t.list-inline>li {display: inline-block}\n",
       "\t.list-inline>li:not(:last-child)::after {content: \"\\00b7\"; padding: 0 .5ex}\n",
       "\t</style>\n",
       "\t<ol class=list-inline><li>'1'</li><li>'2'</li><li>'3'</li><li>'4'</li><li>'5'</li><li>'5.07696182993507'</li><li>'5.16461243592947'</li><li>'6'</li><li>'7'</li><li>'8'</li></ol>\n",
       "</details>"
      ],
      "text/latex": [
       "\\begin{enumerate*}\n",
       "\\item 1\n",
       "\\item 1\n",
       "\\item 1\n",
       "\\item 1\n",
       "\\item 1\n",
       "\\item 2\n",
       "\\end{enumerate*}\n",
       "\n",
       "\\emph{Levels}: \\begin{enumerate*}\n",
       "\\item '1'\n",
       "\\item '2'\n",
       "\\item '3'\n",
       "\\item '4'\n",
       "\\item '5'\n",
       "\\item '5.07696182993507'\n",
       "\\item '5.16461243592947'\n",
       "\\item '6'\n",
       "\\item '7'\n",
       "\\item '8'\n",
       "\\end{enumerate*}\n"
      ],
      "text/markdown": [
       "1. 1\n",
       "2. 1\n",
       "3. 1\n",
       "4. 1\n",
       "5. 1\n",
       "6. 2\n",
       "\n",
       "\n",
       "\n",
       "**Levels**: 1. '1'\n",
       "2. '2'\n",
       "3. '3'\n",
       "4. '4'\n",
       "5. '5'\n",
       "6. '5.07696182993507'\n",
       "7. '5.16461243592947'\n",
       "8. '6'\n",
       "9. '7'\n",
       "10. '8'\n",
       "\n",
       "\n"
      ],
      "text/plain": [
       "[1] 1 1 1 1 1 2\n",
       "Levels: 1 2 3 4 5 5.07696182993507 5.16461243592947 6 7 8"
      ]
     },
     "metadata": {},
     "output_type": "display_data"
    },
    {
     "data": {
      "text/html": [
       "<table>\n",
       "<caption>A matrix: 6 × 10 of type dbl</caption>\n",
       "<thead>\n",
       "\t<tr><th></th><th scope=col>1</th><th scope=col>2</th><th scope=col>3</th><th scope=col>4</th><th scope=col>5</th><th scope=col>5.07696182993507</th><th scope=col>5.16461243592947</th><th scope=col>6</th><th scope=col>7</th><th scope=col>8</th></tr>\n",
       "</thead>\n",
       "<tbody>\n",
       "\t<tr><th scope=row>1</th><td>1.000000e+00</td><td>6.138554e-25</td><td>3.694637e-92</td><td>8.021485e-16</td><td>8.851759e-73</td><td>3.464439e-104</td><td>1.622863e-58</td><td>1.748273e-15</td><td>2.278692e-08</td><td>3.804666e-15</td></tr>\n",
       "\t<tr><th scope=row>2</th><td>9.999999e-01</td><td>3.048185e-26</td><td>1.648183e-94</td><td>3.086696e-18</td><td>9.225085e-89</td><td>1.115800e-100</td><td>1.002628e-51</td><td>4.548065e-16</td><td>7.158635e-08</td><td>1.571116e-17</td></tr>\n",
       "\t<tr><th scope=row>3</th><td>1.000000e+00</td><td>3.412688e-21</td><td>3.501567e-82</td><td>2.555954e-13</td><td>3.911285e-83</td><td> 5.464534e-91</td><td>3.563199e-48</td><td>3.461097e-11</td><td>1.128946e-10</td><td>1.024982e-15</td></tr>\n",
       "\t<tr><th scope=row>4</th><td>1.000000e+00</td><td>7.672430e-25</td><td>2.984077e-87</td><td>4.554282e-16</td><td>2.370361e-88</td><td> 3.977184e-97</td><td>1.222879e-57</td><td>2.468178e-17</td><td>1.053179e-08</td><td>1.597770e-17</td></tr>\n",
       "\t<tr><th scope=row>5</th><td>1.000000e+00</td><td>1.218573e-26</td><td>3.761661e-90</td><td>7.539301e-18</td><td>4.113478e-90</td><td> 1.406876e-97</td><td>8.651595e-52</td><td>8.177891e-17</td><td>3.042464e-13</td><td>1.824576e-17</td></tr>\n",
       "\t<tr><th scope=row>6</th><td>2.254774e-23</td><td>9.999203e-01</td><td>3.118563e-56</td><td>1.705436e-07</td><td>1.595416e-31</td><td> 9.812387e-56</td><td>2.181079e-40</td><td>7.954802e-05</td><td>1.791281e-28</td><td>1.801498e-11</td></tr>\n",
       "</tbody>\n",
       "</table>\n"
      ],
      "text/latex": [
       "A matrix: 6 × 10 of type dbl\n",
       "\\begin{tabular}{r|llllllllll}\n",
       "  & 1 & 2 & 3 & 4 & 5 & 5.07696182993507 & 5.16461243592947 & 6 & 7 & 8\\\\\n",
       "\\hline\n",
       "\t1 & 1.000000e+00 & 6.138554e-25 & 3.694637e-92 & 8.021485e-16 & 8.851759e-73 & 3.464439e-104 & 1.622863e-58 & 1.748273e-15 & 2.278692e-08 & 3.804666e-15\\\\\n",
       "\t2 & 9.999999e-01 & 3.048185e-26 & 1.648183e-94 & 3.086696e-18 & 9.225085e-89 & 1.115800e-100 & 1.002628e-51 & 4.548065e-16 & 7.158635e-08 & 1.571116e-17\\\\\n",
       "\t3 & 1.000000e+00 & 3.412688e-21 & 3.501567e-82 & 2.555954e-13 & 3.911285e-83 &  5.464534e-91 & 3.563199e-48 & 3.461097e-11 & 1.128946e-10 & 1.024982e-15\\\\\n",
       "\t4 & 1.000000e+00 & 7.672430e-25 & 2.984077e-87 & 4.554282e-16 & 2.370361e-88 &  3.977184e-97 & 1.222879e-57 & 2.468178e-17 & 1.053179e-08 & 1.597770e-17\\\\\n",
       "\t5 & 1.000000e+00 & 1.218573e-26 & 3.761661e-90 & 7.539301e-18 & 4.113478e-90 &  1.406876e-97 & 8.651595e-52 & 8.177891e-17 & 3.042464e-13 & 1.824576e-17\\\\\n",
       "\t6 & 2.254774e-23 & 9.999203e-01 & 3.118563e-56 & 1.705436e-07 & 1.595416e-31 &  9.812387e-56 & 2.181079e-40 & 7.954802e-05 & 1.791281e-28 & 1.801498e-11\\\\\n",
       "\\end{tabular}\n"
      ],
      "text/markdown": [
       "\n",
       "A matrix: 6 × 10 of type dbl\n",
       "\n",
       "| <!--/--> | 1 | 2 | 3 | 4 | 5 | 5.07696182993507 | 5.16461243592947 | 6 | 7 | 8 |\n",
       "|---|---|---|---|---|---|---|---|---|---|---|\n",
       "| 1 | 1.000000e+00 | 6.138554e-25 | 3.694637e-92 | 8.021485e-16 | 8.851759e-73 | 3.464439e-104 | 1.622863e-58 | 1.748273e-15 | 2.278692e-08 | 3.804666e-15 |\n",
       "| 2 | 9.999999e-01 | 3.048185e-26 | 1.648183e-94 | 3.086696e-18 | 9.225085e-89 | 1.115800e-100 | 1.002628e-51 | 4.548065e-16 | 7.158635e-08 | 1.571116e-17 |\n",
       "| 3 | 1.000000e+00 | 3.412688e-21 | 3.501567e-82 | 2.555954e-13 | 3.911285e-83 |  5.464534e-91 | 3.563199e-48 | 3.461097e-11 | 1.128946e-10 | 1.024982e-15 |\n",
       "| 4 | 1.000000e+00 | 7.672430e-25 | 2.984077e-87 | 4.554282e-16 | 2.370361e-88 |  3.977184e-97 | 1.222879e-57 | 2.468178e-17 | 1.053179e-08 | 1.597770e-17 |\n",
       "| 5 | 1.000000e+00 | 1.218573e-26 | 3.761661e-90 | 7.539301e-18 | 4.113478e-90 |  1.406876e-97 | 8.651595e-52 | 8.177891e-17 | 3.042464e-13 | 1.824576e-17 |\n",
       "| 6 | 2.254774e-23 | 9.999203e-01 | 3.118563e-56 | 1.705436e-07 | 1.595416e-31 |  9.812387e-56 | 2.181079e-40 | 7.954802e-05 | 1.791281e-28 | 1.801498e-11 |\n",
       "\n"
      ],
      "text/plain": [
       "  1            2            3            4            5           \n",
       "1 1.000000e+00 6.138554e-25 3.694637e-92 8.021485e-16 8.851759e-73\n",
       "2 9.999999e-01 3.048185e-26 1.648183e-94 3.086696e-18 9.225085e-89\n",
       "3 1.000000e+00 3.412688e-21 3.501567e-82 2.555954e-13 3.911285e-83\n",
       "4 1.000000e+00 7.672430e-25 2.984077e-87 4.554282e-16 2.370361e-88\n",
       "5 1.000000e+00 1.218573e-26 3.761661e-90 7.539301e-18 4.113478e-90\n",
       "6 2.254774e-23 9.999203e-01 3.118563e-56 1.705436e-07 1.595416e-31\n",
       "  5.07696182993507 5.16461243592947 6            7            8           \n",
       "1 3.464439e-104    1.622863e-58     1.748273e-15 2.278692e-08 3.804666e-15\n",
       "2 1.115800e-100    1.002628e-51     4.548065e-16 7.158635e-08 1.571116e-17\n",
       "3  5.464534e-91    3.563199e-48     3.461097e-11 1.128946e-10 1.024982e-15\n",
       "4  3.977184e-97    1.222879e-57     2.468178e-17 1.053179e-08 1.597770e-17\n",
       "5  1.406876e-97    8.651595e-52     8.177891e-17 3.042464e-13 1.824576e-17\n",
       "6  9.812387e-56    2.181079e-40     7.954802e-05 1.791281e-28 1.801498e-11"
      ]
     },
     "metadata": {},
     "output_type": "display_data"
    },
    {
     "data": {
      "text/html": [
       "<table>\n",
       "<caption>A matrix: 3 × 9 of type dbl</caption>\n",
       "<thead>\n",
       "\t<tr><th></th><th scope=col>LD1</th><th scope=col>LD2</th><th scope=col>LD3</th><th scope=col>LD4</th><th scope=col>LD5</th><th scope=col>LD6</th><th scope=col>LD7</th><th scope=col>LD8</th><th scope=col>LD9</th></tr>\n",
       "</thead>\n",
       "<tbody>\n",
       "\t<tr><th scope=row>1</th><td>-6.325700</td><td>2.705268</td><td>0.9274617</td><td>0.8574509</td><td>-0.6267760</td><td>1.5114350</td><td>-3.1438052</td><td>-0.2497484</td><td>-1.4942216</td></tr>\n",
       "\t<tr><th scope=row>2</th><td>-6.599384</td><td>2.218501</td><td>2.7671075</td><td>1.6714090</td><td>-1.4511686</td><td>0.4620359</td><td>-0.2834243</td><td>-1.1855307</td><td> 0.8949924</td></tr>\n",
       "\t<tr><th scope=row>3</th><td>-5.027681</td><td>1.886972</td><td>2.6963582</td><td>1.9154319</td><td>-0.3062365</td><td>1.0146847</td><td> 0.2843435</td><td> 0.3571946</td><td>-0.2624680</td></tr>\n",
       "</tbody>\n",
       "</table>\n"
      ],
      "text/latex": [
       "A matrix: 3 × 9 of type dbl\n",
       "\\begin{tabular}{r|lllllllll}\n",
       "  & LD1 & LD2 & LD3 & LD4 & LD5 & LD6 & LD7 & LD8 & LD9\\\\\n",
       "\\hline\n",
       "\t1 & -6.325700 & 2.705268 & 0.9274617 & 0.8574509 & -0.6267760 & 1.5114350 & -3.1438052 & -0.2497484 & -1.4942216\\\\\n",
       "\t2 & -6.599384 & 2.218501 & 2.7671075 & 1.6714090 & -1.4511686 & 0.4620359 & -0.2834243 & -1.1855307 &  0.8949924\\\\\n",
       "\t3 & -5.027681 & 1.886972 & 2.6963582 & 1.9154319 & -0.3062365 & 1.0146847 &  0.2843435 &  0.3571946 & -0.2624680\\\\\n",
       "\\end{tabular}\n"
      ],
      "text/markdown": [
       "\n",
       "A matrix: 3 × 9 of type dbl\n",
       "\n",
       "| <!--/--> | LD1 | LD2 | LD3 | LD4 | LD5 | LD6 | LD7 | LD8 | LD9 |\n",
       "|---|---|---|---|---|---|---|---|---|---|\n",
       "| 1 | -6.325700 | 2.705268 | 0.9274617 | 0.8574509 | -0.6267760 | 1.5114350 | -3.1438052 | -0.2497484 | -1.4942216 |\n",
       "| 2 | -6.599384 | 2.218501 | 2.7671075 | 1.6714090 | -1.4511686 | 0.4620359 | -0.2834243 | -1.1855307 |  0.8949924 |\n",
       "| 3 | -5.027681 | 1.886972 | 2.6963582 | 1.9154319 | -0.3062365 | 1.0146847 |  0.2843435 |  0.3571946 | -0.2624680 |\n",
       "\n"
      ],
      "text/plain": [
       "  LD1       LD2      LD3       LD4       LD5        LD6       LD7       \n",
       "1 -6.325700 2.705268 0.9274617 0.8574509 -0.6267760 1.5114350 -3.1438052\n",
       "2 -6.599384 2.218501 2.7671075 1.6714090 -1.4511686 0.4620359 -0.2834243\n",
       "3 -5.027681 1.886972 2.6963582 1.9154319 -0.3062365 1.0146847  0.2843435\n",
       "  LD8        LD9       \n",
       "1 -0.2497484 -1.4942216\n",
       "2 -1.1855307  0.8949924\n",
       "3  0.3571946 -0.2624680"
      ]
     },
     "metadata": {},
     "output_type": "display_data"
    }
   ],
   "source": [
    "# Predicted classes\n",
    "head(predictions$class, 6)\n",
    "# Predicted probabilities of class memebership.\n",
    "head(predictions$posterior, 6) \n",
    "# Linear discriminants\n",
    "head(predictions$x, 3) "
   ]
  },
  {
   "cell_type": "code",
   "execution_count": 7,
   "metadata": {},
   "outputs": [
    {
     "name": "stdout",
     "output_type": "stream",
     "text": [
      "Confusion Matrix and Statistics\n",
      "\n",
      "                  Species\n",
      "Predicted           1  2  3  4  5 5.07696182993507 5.16461243592947  6  7  8\n",
      "  1                 5  0  0  0  0                0                0  0  0  0\n",
      "  2                 0  1  0  0  0                0                0  0  0  0\n",
      "  3                 0  0  3  0  0                0                0  0  0  0\n",
      "  4                 0  0  0  7  0                0                0  0  0  0\n",
      "  5                 0  0  0  0  1                0                0  0  0  0\n",
      "  5.07696182993507  0  0  0  0  0                1                0  0  0  0\n",
      "  5.16461243592947  0  0  0  0  0                0                1  0  0  0\n",
      "  6                 0  0  0  0  0                0                0 15  0  0\n",
      "  7                 0  0  0  0  0                0                0  0  3  0\n",
      "  8                 0  0  0  0  0                0                0  0  0  3\n",
      "\n",
      "Overall Statistics\n",
      "                                     \n",
      "               Accuracy : 1          \n",
      "                 95% CI : (0.9119, 1)\n",
      "    No Information Rate : 0.375      \n",
      "    P-Value [Acc > NIR] : < 2.2e-16  \n",
      "                                     \n",
      "                  Kappa : 1          \n",
      "                                     \n",
      " Mcnemar's Test P-Value : NA         \n",
      "\n",
      "Statistics by Class:\n",
      "\n",
      "                     Class: 1 Class: 2 Class: 3 Class: 4 Class: 5\n",
      "Sensitivity             1.000    1.000    1.000    1.000    1.000\n",
      "Specificity             1.000    1.000    1.000    1.000    1.000\n",
      "Pos Pred Value          1.000    1.000    1.000    1.000    1.000\n",
      "Neg Pred Value          1.000    1.000    1.000    1.000    1.000\n",
      "Prevalence              0.125    0.025    0.075    0.175    0.025\n",
      "Detection Rate          0.125    0.025    0.075    0.175    0.025\n",
      "Detection Prevalence    0.125    0.025    0.075    0.175    0.025\n",
      "Balanced Accuracy       1.000    1.000    1.000    1.000    1.000\n",
      "                     Class: 5.07696182993507 Class: 5.16461243592947 Class: 6\n",
      "Sensitivity                            1.000                   1.000    1.000\n",
      "Specificity                            1.000                   1.000    1.000\n",
      "Pos Pred Value                         1.000                   1.000    1.000\n",
      "Neg Pred Value                         1.000                   1.000    1.000\n",
      "Prevalence                             0.025                   0.025    0.375\n",
      "Detection Rate                         0.025                   0.025    0.375\n",
      "Detection Prevalence                   0.025                   0.025    0.375\n",
      "Balanced Accuracy                      1.000                   1.000    1.000\n",
      "                     Class: 7 Class: 8\n",
      "Sensitivity             1.000    1.000\n",
      "Specificity             1.000    1.000\n",
      "Pos Pred Value          1.000    1.000\n",
      "Neg Pred Value          1.000    1.000\n",
      "Prevalence              0.075    0.075\n",
      "Detection Rate          0.075    0.075\n",
      "Detection Prevalence    0.075    0.075\n",
      "Balanced Accuracy       1.000    1.000\n"
     ]
    }
   ],
   "source": [
    "table <- table(Predicted=predictions$class, Species=test.data$spec_as_int)\n",
    "print(confusionMatrix(table))"
   ]
  }
 ],
 "metadata": {
  "kernelspec": {
   "display_name": "R",
   "language": "R",
   "name": "ir"
  },
  "language_info": {
   "codemirror_mode": "r",
   "file_extension": ".r",
   "mimetype": "text/x-r-source",
   "name": "R",
   "pygments_lexer": "r",
   "version": "3.6.3"
  }
 },
 "nbformat": 4,
 "nbformat_minor": 4
}
