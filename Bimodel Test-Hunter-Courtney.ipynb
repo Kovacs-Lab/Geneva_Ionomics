{
 "cells": [
  {
   "cell_type": "code",
   "execution_count": 3,
   "metadata": {},
   "outputs": [
    {
     "name": "stderr",
     "output_type": "stream",
     "text": [
      "Installing package into 'C:/Users/2198K/Documents/R/win-library/3.6'\n",
      "(as 'lib' is unspecified)\n",
      "\n"
     ]
    },
    {
     "name": "stdout",
     "output_type": "stream",
     "text": [
      "package 'caret' successfully unpacked and MD5 sums checked\n"
     ]
    },
    {
     "name": "stderr",
     "output_type": "stream",
     "text": [
      "Warning message:\n",
      "\"cannot remove prior installation of package 'caret'\"\n",
      "Warning message in file.copy(savedcopy, lib, recursive = TRUE):\n",
      "\"problem copying C:\\Users\\2198K\\Documents\\R\\win-library\\3.6\\00LOCK\\caret\\libs\\x64\\caret.dll to C:\\Users\\2198K\\Documents\\R\\win-library\\3.6\\caret\\libs\\x64\\caret.dll: Permission denied\"\n",
      "Warning message:\n",
      "\"restored 'caret'\"\n"
     ]
    },
    {
     "name": "stdout",
     "output_type": "stream",
     "text": [
      "\n",
      "The downloaded binary packages are in\n",
      "\tC:\\Users\\2198K\\AppData\\Local\\Temp\\RtmpcHezfh\\downloaded_packages\n"
     ]
    },
    {
     "name": "stderr",
     "output_type": "stream",
     "text": [
      "Loading required package: lattice\n",
      "\n",
      "Loading required package: ggplot2\n",
      "\n",
      "Installing package into 'C:/Users/2198K/Documents/R/win-library/3.6'\n",
      "(as 'lib' is unspecified)\n",
      "\n"
     ]
    },
    {
     "name": "stdout",
     "output_type": "stream",
     "text": [
      "\n",
      "  There is a binary version available but the source version is later:\n",
      "     binary source needs_compilation\n",
      "mice  3.9.0 3.10.0              TRUE\n",
      "\n",
      "  Binaries will be installed\n",
      "package 'mice' successfully unpacked and MD5 sums checked\n"
     ]
    },
    {
     "name": "stderr",
     "output_type": "stream",
     "text": [
      "Warning message:\n",
      "\"cannot remove prior installation of package 'mice'\"\n",
      "Warning message in file.copy(savedcopy, lib, recursive = TRUE):\n",
      "\"problem copying C:\\Users\\2198K\\Documents\\R\\win-library\\3.6\\00LOCK\\mice\\libs\\x64\\mice.dll to C:\\Users\\2198K\\Documents\\R\\win-library\\3.6\\mice\\libs\\x64\\mice.dll: Permission denied\"\n",
      "Warning message:\n",
      "\"restored 'mice'\"\n"
     ]
    },
    {
     "name": "stdout",
     "output_type": "stream",
     "text": [
      "\n",
      "The downloaded binary packages are in\n",
      "\tC:\\Users\\2198K\\AppData\\Local\\Temp\\RtmpcHezfh\\downloaded_packages\n"
     ]
    },
    {
     "name": "stderr",
     "output_type": "stream",
     "text": [
      "\n",
      "Attaching package: 'mice'\n",
      "\n",
      "\n",
      "The following objects are masked from 'package:base':\n",
      "\n",
      "    cbind, rbind\n",
      "\n",
      "\n",
      "Installing package into 'C:/Users/2198K/Documents/R/win-library/3.6'\n",
      "(as 'lib' is unspecified)\n",
      "\n"
     ]
    },
    {
     "name": "stdout",
     "output_type": "stream",
     "text": [
      "package 'MASS' successfully unpacked and MD5 sums checked\n"
     ]
    },
    {
     "name": "stderr",
     "output_type": "stream",
     "text": [
      "Warning message:\n",
      "\"cannot remove prior installation of package 'MASS'\"\n",
      "Warning message in file.copy(savedcopy, lib, recursive = TRUE):\n",
      "\"problem copying C:\\Users\\2198K\\Documents\\R\\win-library\\3.6\\00LOCK\\MASS\\libs\\x64\\MASS.dll to C:\\Users\\2198K\\Documents\\R\\win-library\\3.6\\MASS\\libs\\x64\\MASS.dll: Permission denied\"\n",
      "Warning message:\n",
      "\"restored 'MASS'\"\n"
     ]
    },
    {
     "name": "stdout",
     "output_type": "stream",
     "text": [
      "\n",
      "The downloaded binary packages are in\n",
      "\tC:\\Users\\2198K\\AppData\\Local\\Temp\\RtmpcHezfh\\downloaded_packages\n"
     ]
    },
    {
     "name": "stderr",
     "output_type": "stream",
     "text": [
      "Installing package into 'C:/Users/2198K/Documents/R/win-library/3.6'\n",
      "(as 'lib' is unspecified)\n",
      "\n"
     ]
    },
    {
     "name": "stdout",
     "output_type": "stream",
     "text": [
      "package 'missMDA' successfully unpacked and MD5 sums checked\n",
      "\n",
      "The downloaded binary packages are in\n",
      "\tC:\\Users\\2198K\\AppData\\Local\\Temp\\RtmpcHezfh\\downloaded_packages\n"
     ]
    },
    {
     "name": "stderr",
     "output_type": "stream",
     "text": [
      "Installing package into 'C:/Users/2198K/Documents/R/win-library/3.6'\n",
      "(as 'lib' is unspecified)\n",
      "\n"
     ]
    },
    {
     "name": "stdout",
     "output_type": "stream",
     "text": [
      "package 'tidyverse' successfully unpacked and MD5 sums checked\n",
      "\n",
      "The downloaded binary packages are in\n",
      "\tC:\\Users\\2198K\\AppData\\Local\\Temp\\RtmpcHezfh\\downloaded_packages\n"
     ]
    },
    {
     "name": "stderr",
     "output_type": "stream",
     "text": [
      "-- \u001b[1mAttaching packages\u001b[22m --------------------------------------- tidyverse 1.3.0 --\n",
      "\n",
      "\u001b[32mv\u001b[39m \u001b[34mtibble \u001b[39m 2.1.3     \u001b[32mv\u001b[39m \u001b[34mdplyr  \u001b[39m 0.8.4\n",
      "\u001b[32mv\u001b[39m \u001b[34mtidyr  \u001b[39m 1.0.2     \u001b[32mv\u001b[39m \u001b[34mstringr\u001b[39m 1.4.0\n",
      "\u001b[32mv\u001b[39m \u001b[34mreadr  \u001b[39m 1.3.1     \u001b[32mv\u001b[39m \u001b[34mforcats\u001b[39m 0.4.0\n",
      "\u001b[32mv\u001b[39m \u001b[34mpurrr  \u001b[39m 0.3.3     \n",
      "\n",
      "-- \u001b[1mConflicts\u001b[22m ------------------------------------------ tidyverse_conflicts() --\n",
      "\u001b[31mx\u001b[39m \u001b[34mdplyr\u001b[39m::\u001b[32mfilter()\u001b[39m masks \u001b[34mstats\u001b[39m::filter()\n",
      "\u001b[31mx\u001b[39m \u001b[34mdplyr\u001b[39m::\u001b[32mlag()\u001b[39m    masks \u001b[34mstats\u001b[39m::lag()\n",
      "\u001b[31mx\u001b[39m \u001b[34mpurrr\u001b[39m::\u001b[32mlift()\u001b[39m   masks \u001b[34mcaret\u001b[39m::lift()\n",
      "\u001b[31mx\u001b[39m \u001b[34mdplyr\u001b[39m::\u001b[32mselect()\u001b[39m masks \u001b[34mMASS\u001b[39m::select()\n",
      "\n"
     ]
    }
   ],
   "source": [
    "#Installing packages and loading them into the enviroment\n",
    "install.packages(\"caret\")\n",
    "library(\"caret\")\n",
    "install.packages(\"mice\")\n",
    "library(\"mice\")\n",
    "install.packages(\"MASS\")\n",
    "library(\"MASS\")\n",
    "install.packages(\"missMDA\")\n",
    "library(\"missMDA\")\n",
    "install.packages(\"tidyverse\")\n",
    "library(\"tidyverse\")"
   ]
  },
  {
   "cell_type": "code",
   "execution_count": 4,
   "metadata": {},
   "outputs": [],
   "source": [
    "#Loading all needed files,dropping first two coloumns, which are not needed for analysis (ID, species)\n",
    "ionomics <- read.csv('spec_woAestVulp_shoot_xyz_concat.csv', colClasses =c(\"NULL\",\"NULL\",NA,NA,NA,NA,NA,NA,NA,NA,NA,NA,NA,NA,NA,\n",
    "                                                                    NA,NA,NA,NA,NA,NA,NA,NA,NA,NA,NA,NA,NA,NA,NA,NA,NA,NA,NA,\n",
    "                                                                    NA,NA,NA,NA,NA,NA,NA,NA,NA,NA,NA,NA,NA,NA,NA,NA,NA,NA,NA,\n",
    "                                                                    NA,NA,NA,NA,NA,NA,NA))\n",
    "hybrids <- read.csv('spec_shoot_xyz_concat_unk_only.csv', colClasses = c(\"NULL\",\"NULL\",NA,NA,NA,NA,NA,NA,NA,NA,NA,NA,NA,NA,NA,\n",
    "                                                                    NA,NA,NA,NA,NA,NA,NA,NA,NA,NA,NA,NA,NA,NA,NA,NA,NA,NA,NA,\n",
    "                                                                    NA,NA,NA,NA,NA,NA,NA,NA,NA,NA,NA,NA,NA,NA,NA,NA,NA,NA,NA,\n",
    "                                                                    NA,NA,NA,NA,NA,NA,NA))\n",
    "\n",
    "#Imputation via missMDA\n",
    "imputeIonomics <- imputePCA(ionomics, method = \"Regularized\")"
   ]
  },
  {
   "cell_type": "code",
   "execution_count": 5,
   "metadata": {},
   "outputs": [
    {
     "name": "stdout",
     "output_type": "stream",
     "text": [
      "\n",
      " iter imp variable\n",
      "  1   1  S34_X  As75_X\n",
      "  2   1  S34_X  As75_X\n",
      "  3   1  S34_X  As75_X\n",
      "  4   1  S34_X  As75_X\n",
      "  5   1  S34_X  As75_X\n"
     ]
    }
   ],
   "source": [
    "#Imputation via Mice\n",
    "# TODO add in fit graphics and missing data quantification\n",
    "temp <- mice(ionomics, m = 1, maxit = 5, method = \"norm.boot\", seed = 123)\n",
    "ionomicsComplete <- complete(temp,1)"
   ]
  },
  {
   "cell_type": "code",
   "execution_count": 6,
   "metadata": {},
   "outputs": [
    {
     "data": {
      "text/html": [
       "0.803127534975711"
      ],
      "text/latex": [
       "0.803127534975711"
      ],
      "text/markdown": [
       "0.803127534975711"
      ],
      "text/plain": [
       "[1] 0.8031275"
      ]
     },
     "metadata": {},
     "output_type": "display_data"
    },
    {
     "data": {
      "text/html": [
       "0.802980298029792"
      ],
      "text/latex": [
       "0.802980298029792"
      ],
      "text/markdown": [
       "0.802980298029792"
      ],
      "text/plain": [
       "[1] 0.8029803"
      ]
     },
     "metadata": {},
     "output_type": "display_data"
    }
   ],
   "source": [
    "#data imputed with missMDA regularized method\n",
    "mean.impute <- 0 #Start our average with 0\n",
    "for (x in 1:10000){ # run 10000 permutations\n",
    "    set.seed(x) #cycle through many random generator seeds\n",
    "    training.samples.impute <- imputeIonomics$completeObs[,2] %>%\n",
    "        createDataPartition(p = 0.8, list = FALSE) #split the data into training (80%) and testing (20%)\n",
    "    train.data.impute <- imputeIonomics$completeObs[training.samples.impute, ] #generate training set\n",
    "    test.data.impute <- imputeIonomics$completeObs[-training.samples.impute, ] #generate test set\n",
    "    train.data.impute <- unlist(train.data.impute) #typecast from matrix into dataframe\n",
    "    test.data.impute <- unlist(test.data.impute)\n",
    "    train.data.impute <- as.data.frame(train.data.impute)\n",
    "    test.data.impute <- as.data.frame(test.data.impute)\n",
    "    model.impute <- lda(spec_as_int~., data = train.data.impute) #generate the LDA model\n",
    "    predictions.impute <- model.impute %>% predict(test.data.impute) #predict the species of individuals in our test set based off of this model\n",
    "    mean.impute = mean.impute + mean(predictions.impute$class==test.data.impute$spec_as_int) #measure how often this prediction is correct, then add it to a running total\n",
    "}\n",
    "mean.impute = mean.impute/9999 #divide running total by number of runs to find our average\n",
    "mean.impute #print this average to the screen\n",
    "\n",
    "#data imputed with mice, norm.boot method\n",
    "mean.mice = 0 #Start our average with 0\n",
    "for (x in 1:10000){ #run 10000 permutations\n",
    "    set.seed(x)  #cycle through many random generator seeds\n",
    "    training.samples.mice <- ionomicsComplete[,2] %>%\n",
    "        createDataPartition(p = 0.8, list = FALSE) #split the data into training (80%) and testing (20%)\n",
    "    train.data.mice <- ionomicsComplete[training.samples.mice, ] #generate training set\n",
    "    test.data.mice <- ionomicsComplete[-training.samples.mice, ] #generate test set\n",
    "    model.mice <- lda(spec_as_int~., data = train.data.mice) #generate the LDA model\n",
    "    predictions.mice <- model.mice %>% predict(test.data.mice) #predict the species of individuals in our test set based off of this model\n",
    "    mean.mice = mean.mice + mean(predictions.mice$class==test.data.mice$spec_as_int) #measure how often this prediction is correct, then add it to a running total\n",
    "}\n",
    "mean.mice = mean.mice/9999 #divide running total by number of runs to find our average\n",
    "mean.mice #print this average to the screen"
   ]
  },
  {
   "cell_type": "markdown",
   "metadata": {},
   "source": [
    "|species|spec_as_int|\n",
    "|---|---|\n",
    "|acerifolia_x|1|\n",
    "|cinerea_x|3|\n",
    "|labrusca_x|4|\n",
    "|riparia_x|6|\n",
    "|rupestris_x|7|\n",
    "|vulpina_x|8|"
   ]
  },
  {
   "cell_type": "code",
   "execution_count": 7,
   "metadata": {},
   "outputs": [],
   "source": [
    "df.impute <- as.data.frame(unlist(imputeIonomics$completeObs))\n",
    "lda.impute <- lda(spec_as_int~., data = df.impute)\n",
    "pred.impute <- predict(lda.impute)\n",
    "pred.hybrids <- lda.impute %>% predict(hybrids)"
   ]
  },
  {
   "cell_type": "code",
   "execution_count": 8,
   "metadata": {},
   "outputs": [],
   "source": [
    "viz.impute <- data.frame(spec = df.impute[1], lda = pred.impute$x)\n",
    "viz.hybrids <- data.frame(spec = hybrids[1], lda = pred.hybrids$x)\n",
    "#viz.impute$spec = as.factor(viz.impute$spec)\n",
    "#viz.hybrids$spec = as.factor(viz.hybrids$spec)"
   ]
  },
  {
   "cell_type": "code",
   "execution_count": 9,
   "metadata": {},
   "outputs": [
    {
     "data": {
      "image/png": "[encoded data removed]",
      "text/plain": [
       "plot without title"
      ]
     },
     "metadata": {
      "image/png": {
       "height": 420,
       "width": 420
      },
      "text/plain": {
       "height": 420,
       "width": 420
      }
     },
     "output_type": "display_data"
    },
    {
     "data": {
      "image/png": "[encoded data removed]",
      "text/plain": [
       "plot without title"
      ]
     },
     "metadata": {
      "image/png": {
       "height": 420,
       "width": 420
      },
      "text/plain": {
       "height": 420,
       "width": 420
      }
     },
     "output_type": "display_data"
    }
   ],
   "source": [
    "p <- ggplot(data = NULL) \n",
    "p + geom_point(data = viz.impute, aes(x = lda.LD1, y = lda.LD2, color = spec_as_int)) \n",
    "p + geom_step(data = viz.hybrids, aes(x = lda.LD1, y = lda.LD2, color = spec_as_int))"
   ]
  },
  {
   "cell_type": "code",
   "execution_count": 10,
   "metadata": {},
   "outputs": [],
   "source": [
    "# Split the data into training (80%) and test set (20%)\n",
    "#data set imputed via mice\n",
    "set.seed(321)\n",
    "training.samples <- ionomicsComplete[,2] %>%\n",
    "  createDataPartition(p = 0.8, list = FALSE)\n",
    "train.data <- ionomicsComplete[training.samples, ]\n",
    "test.data <- ionomicsComplete[-training.samples, ]"
   ]
  },
  {
   "cell_type": "code",
   "execution_count": 11,
   "metadata": {},
   "outputs": [],
   "source": [
    "#unimputed\n",
    "training.samples.raw <- ionomics[,2] %>%\n",
    "  createDataPartition(p = 0.8, list = FALSE)\n",
    "train.data.raw <- ionomics[training.samples.raw, ]\n",
    "test.data.raw <- ionomics[-training.samples.raw, ]"
   ]
  },
  {
   "cell_type": "code",
   "execution_count": 12,
   "metadata": {},
   "outputs": [],
   "source": [
    "#data set imputed via missMDA\n",
    "training.samples.impute <- imputeIonomics$completeObs[,2] %>%\n",
    "  createDataPartition(p = 0.8, list = FALSE)\n",
    "train.data.impute <- imputeIonomics$completeObs[training.samples.impute, ]\n",
    "test.data.impute <- imputeIonomics$completeObs[-training.samples.impute, ]\n",
    "#typecasting from matrix to dataframe\n",
    "train.data.impute <- unlist(train.data.impute)\n",
    "test.data.impute <- unlist(test.data.impute)\n",
    "train.data.impute <- as.data.frame(train.data.impute)\n",
    "test.data.impute <- as.data.frame(test.data.impute)"
   ]
  },
  {
   "cell_type": "code",
   "execution_count": 13,
   "metadata": {},
   "outputs": [
    {
     "data": {
      "text/html": [
       "0.777777777777778"
      ],
      "text/latex": [
       "0.777777777777778"
      ],
      "text/markdown": [
       "0.777777777777778"
      ],
      "text/plain": [
       "[1] 0.7777778"
      ]
     },
     "metadata": {},
     "output_type": "display_data"
    },
    {
     "data": {
      "text/plain": [
       "Call:\n",
       "lda(spec_as_int ~ ., data = train.data)\n",
       "\n",
       "Prior probabilities of groups:\n",
       "         1          3          4          5          6          7 \n",
       "0.06896552 0.14482759 0.23448276 0.02758621 0.40000000 0.12413793 \n",
       "\n",
       "Group means:\n",
       "        B11_X       B11_Y      B11_Z      Na23_X     Na23_Y      Na23_Z\n",
       "1 -0.06673392 -0.42511432 -0.1999269 -0.06424222 -0.6070225  0.24616908\n",
       "3  0.14435965  0.07748058 -0.4267488  1.89545233 -0.0814829 -0.42903845\n",
       "4  0.31589644 -0.37707652 -0.3886809  1.01155057 -0.4361707 -0.26025282\n",
       "5  2.24364854 -0.74424253 -1.0127732  2.30756475 -0.4241012  0.03447511\n",
       "6  0.54479771 -0.18406432  0.2052519  0.52083399 -0.6238414 -0.09147639\n",
       "7  0.67049392 -0.18408910  0.1770790  0.38679990 -0.7587624 -0.46774405\n",
       "      Mg26_X      Mg26_Y      Mg26_Z     Al27_X      Al27_Y      Al27_Z\n",
       "1 -0.8156293 -0.70682939 1.108178905  0.1934996 -0.88691245  0.74794683\n",
       "3 -0.5206042 -0.20362254 0.827596073  0.3468838  0.09988577  0.60297091\n",
       "4 -0.5361893 -0.04063933 2.193324024  0.2218165 -0.64563288  0.74018248\n",
       "5 -0.5220835 -0.57108787 0.007890102  0.3506900 -0.57032140  0.31226318\n",
       "6 -0.6430449 -0.67268216 0.580864133  0.0324580 -0.80014559  0.42681577\n",
       "7 -0.5707738 -0.40449486 1.050834802 -0.2676590 -0.12090541 -0.07530138\n",
       "      P31_X      P31_Y      P31_Z      S34_X       S34_Y      S34_Z     K39_X\n",
       "1 0.3792427 -0.5950522 -0.7982186 -0.7663869 -0.60000066 -0.1511987 0.9910735\n",
       "3 0.9562536  0.8873823  0.3286880 -0.2916531  0.81287699  1.7458104 0.7148071\n",
       "4 0.4004005 -0.2159556 -0.7019908 -0.5973968 -0.22291830  0.6201970 0.8777201\n",
       "5 1.1549465  0.4882353  1.2687047 -0.7971905 -0.04622413 -0.0156537 0.1985499\n",
       "6 0.5127786 -0.5076469 -0.4229368 -0.2509240  0.05206137  0.5014277 0.7249785\n",
       "7 1.0735195 -0.1461338 -0.7021508 -0.4721093 -0.46502314 -0.3664787 1.1437161\n",
       "        K39_Y      K39_Z     Ca44_X     Ca44_Y     Ca44_Z      Fe54_X\n",
       "1 -0.55523435 -1.4688896 -1.0162912 -0.4457993  0.8912305 -0.68578264\n",
       "3  0.90240636 -0.5582523 -0.4538755 -0.1925148  1.2227343  0.09245744\n",
       "4  0.24245480 -1.0476229 -0.8991196 -0.4251285  1.1311838 -0.66736952\n",
       "5  0.20677490 -0.2768993 -0.8476162 -0.7219286 -0.1300037 -0.51985849\n",
       "6 -0.03207195 -0.6395944 -0.7983256 -0.2458208  1.3638075 -0.38452898\n",
       "7  0.04772814 -1.3484908 -1.0466679 -0.5762292  0.8305103 -0.64797696\n",
       "      Fe54_Y      Fe54_Z      Mn55_Y      Mn55_X    Mn55_Z     Co59_X\n",
       "1 -0.6333262  0.39866669 -0.96748449 -0.59259297 1.1427561 -0.9689653\n",
       "3  0.2266186  2.31250464 -0.05149569  0.02755433 1.5487291  0.2332235\n",
       "4 -0.8298996  0.55107221 -0.82052526 -0.51599788 1.4695872 -0.8376047\n",
       "5 -0.8071308 -0.19421821  0.08200438 -0.05110172 1.2412593  0.7493643\n",
       "6 -0.1926112  1.02521995 -0.71727518 -0.51390894 1.0766418 -0.6319332\n",
       "7 -0.5018947  0.09495152 -0.91715192 -0.66415094 0.3559345 -0.9468371\n",
       "      Co59_Y    Co59_Z      Ni60_X     Ni60_Y      Ni60_Z     Cu63_X     Cu63_Y\n",
       "1 -0.6912792 0.7760662 -0.36096448 -0.4302506 -0.26111395 -0.3998536 -0.7155780\n",
       "3  0.2802915 1.6928096  1.05582074  0.8140525  1.10759261  1.9673097  1.9563405\n",
       "4 -0.4912323 1.2836185 -0.05328627 -0.1730746  0.12664223  0.4507601  0.2355906\n",
       "5  1.2904222 2.4870130  2.93915167  2.1652399  3.27173128  0.1540986 -0.2420983\n",
       "6 -0.5388745 0.7979134 -0.26642080 -0.3922091  0.04089951 -0.3879335 -0.6233464\n",
       "7 -0.7448731 0.1035968 -0.30879166 -0.3822508 -0.29827712  0.6352366  0.1154928\n",
       "      Cu63_Z      Zn66_X      Zn66_Y      Zn66_Z      As75_X      As75_Y\n",
       "1 -0.8899777  0.94436112 -0.78011476  0.59274765 -0.11438974 -0.52573474\n",
       "3  1.6962681  0.93337238  0.00334695  0.96621760  0.03074661 -0.00973896\n",
       "4 -0.3133493 -0.19058598 -0.60797813  0.81347622 -0.07514691 -0.12080932\n",
       "5 -0.3834463  0.05485844 -0.63943003  0.21969487  0.08938036 -0.40778792\n",
       "6 -0.8344852  0.08334615 -0.73989541  0.43933139 -0.23324684 -0.49925244\n",
       "7 -0.5131933 -0.07410886 -0.88929741 -0.09739317 -0.17309622 -0.09884797\n",
       "       As75_Z    Rb85_X      Rb85_Y     Rb85_Z     Sr88_X     Sr88_Y     Sr88_Z\n",
       "1  0.30989634 1.9347500  0.03631387 -0.6468662 -0.9815569 -0.2859926  1.0297301\n",
       "3  0.28393673 0.6726652  0.19826266 -0.6187250 -0.6891358 -0.1476694  1.1015745\n",
       "4  1.00745972 0.1553160 -0.38651906 -0.8363361 -0.8716195 -0.3308075  1.0848613\n",
       "5  0.21779735 0.4292178  0.05919865 -0.3683205 -0.8651368 -0.6639537 -0.0820607\n",
       "6  0.20976942 1.0049666 -0.16688564 -0.6552114 -0.8490936 -0.2014950  1.1649517\n",
       "7 -0.04389619 1.3981092  0.08171508 -0.7203751 -0.9737702 -0.3715963  0.8208163\n",
       "      Mo98_X      Mo98_Y       Mo98_Z     Cd111_X     Cd111_Y     Cd111_Z\n",
       "1 -0.4367237 -0.25564312 -0.099618853 -0.14631704 -0.16909231  0.06957144\n",
       "3  0.8042613  1.21316549  2.303348478  0.28511481  0.16822149  0.29056694\n",
       "4 -0.5942955 -0.67708913 -0.694358898 -0.09930545 -0.04068424  0.32157725\n",
       "5 -0.5113677 -0.63651382 -0.555188275  0.25555768 -0.06416623  0.30911107\n",
       "6 -0.2036948 -0.07723619  0.172225784 -0.30263103 -0.26484945  0.30258779\n",
       "7 -0.3004656 -0.20630098 -0.004818556 -0.08340325 -0.12290488 -0.05199417\n",
       "\n",
       "Coefficients of linear discriminants:\n",
       "                LD1          LD2          LD3          LD4          LD5\n",
       "B11_X   -0.04143273 -0.045295416  0.170302335  0.280164988 -0.076663405\n",
       "B11_Y    0.43835009 -0.113291310 -1.101256769  0.107717803  0.577259221\n",
       "B11_Z   -0.48040040 -0.605242914 -0.087996713  0.088538611  0.562790882\n",
       "Na23_X   0.33440464 -0.028816170  0.168905510 -0.289659085  0.077655257\n",
       "Na23_Y  -0.75261050  0.035073161  1.156176071 -1.320906014 -0.325722242\n",
       "Na23_Z   0.09536004  0.363167282 -0.391450335  0.503613467 -0.456369129\n",
       "Mg26_X  -1.53763032  1.094310865  0.250138437  0.143862078  0.526783971\n",
       "Mg26_Y   1.26046877  1.628832244 -1.633176300 -0.542103574  2.487258738\n",
       "Mg26_Z  -0.06462143  0.351388217  0.220896462 -0.013605834 -0.636261864\n",
       "Al27_X  -0.36301804 -0.290153495  0.398592160 -0.971732829 -0.989667935\n",
       "Al27_Y   0.46950570 -0.083403284  0.001802325  0.444405016  0.204498647\n",
       "Al27_Z  -0.39615194  0.079988763 -0.054051850 -0.210014056 -0.497684457\n",
       "P31_X   -0.04703217  0.075173022 -0.005466619  1.628735385  0.170883797\n",
       "P31_Y    0.54214334  0.261639856 -0.839706737  0.396740750 -0.870606115\n",
       "P31_Z   -0.16076177  0.004630442  0.769812203 -0.019648630  0.252907469\n",
       "S34_X   -0.35329162  0.232936250 -0.986352712 -0.337668877  0.549561594\n",
       "S34_Y   -0.65008047 -0.720496228  1.240076765 -0.686637397  0.049457702\n",
       "S34_Z    0.12292202  0.588597686 -0.031112922  0.207095303  0.269455940\n",
       "K39_X    0.21314303 -0.013600465  0.245208137 -0.380243409 -0.780001183\n",
       "K39_Y   -0.26977805  0.052904372 -0.065948718  0.054677361  0.179472767\n",
       "K39_Z   -0.44851272 -0.001972850  0.128971931 -0.325778534  0.432399660\n",
       "Ca44_X  -2.31266799 -6.361766418  0.272335697 -5.260994261 -4.411710316\n",
       "Ca44_Y   1.60512158 -1.547316553  1.967772172 -0.233527569 -1.054505412\n",
       "Ca44_Z  -0.32647666  0.898810142 -1.168276279  1.073846457  1.899632290\n",
       "Fe54_X  -0.03210195 -0.044878293  0.043200507  0.006899331  0.176069882\n",
       "Fe54_Y  -0.18926955  0.371443461 -1.236315268  0.448817945 -0.140922205\n",
       "Fe54_Z   0.03608275 -0.503216621  0.016407095 -0.473368897  0.051455238\n",
       "Mn55_Y  -0.93175427  0.280457725  2.942288826  0.657797531 -1.149417499\n",
       "Mn55_X   1.86108976  0.736916572 -3.072827308  0.858194360  0.001159049\n",
       "Mn55_Z   0.32015913  0.212364442 -0.220287146 -0.100649181 -0.120471110\n",
       "Co59_X   1.92507193 -1.313536259 -2.145833708  0.439059987  1.509210212\n",
       "Co59_Y  -1.16294617  0.259313472  2.208457126 -0.422371419 -0.095954133\n",
       "Co59_Z  -0.21726983 -0.292469211  0.705599312 -0.523569545 -0.096419277\n",
       "Ni60_X  -0.47848136 -1.625660917  1.438388740 -1.281342213  1.177257672\n",
       "Ni60_Y   1.14674750  1.983654500 -0.434720073  2.815209541 -2.381129895\n",
       "Ni60_Z   0.05631210  0.119634327 -0.086769739  0.115552125  0.334859911\n",
       "Cu63_X   1.40268897  0.796315196 -0.962226627  0.333319747  0.284679782\n",
       "Cu63_Y   0.36147496  0.002210770  0.417615076  0.010832618  0.192564691\n",
       "Cu63_Z  -0.10299207 -0.196885513 -0.265377619 -0.372030720 -0.297745257\n",
       "Zn66_X  -0.11021101  0.226182714  0.125371376  0.027854282 -0.300229424\n",
       "Zn66_Y   0.29817069 -0.792104272  0.143723218 -0.579232046  0.975855317\n",
       "Zn66_Z  -0.30871607 -0.882853009  0.337424352 -0.472063911 -0.200882800\n",
       "As75_X  -0.48347211 -0.046897817 -0.653009031  0.156630439 -0.424488536\n",
       "As75_Y  -0.41048781  0.278845123  0.187178675 -0.635182998  0.411298556\n",
       "As75_Z  -0.02649199  0.921269781 -0.200101734  0.224603771  0.024633277\n",
       "Rb85_X  -0.69736168  0.405013679 -0.287178733  0.300712844 -0.675619345\n",
       "Rb85_Y   0.37585141  0.423089623 -0.784520317 -0.546593989 -0.445607942\n",
       "Rb85_Z   0.99126619 -4.040462556  1.520863254  0.448014648  1.288386203\n",
       "Sr88_X   2.51147815  7.306029018  0.153354554  6.169016646  5.458565451\n",
       "Sr88_Y  -1.79490073  0.860396734 -0.423291597 -0.469641657 -1.837195944\n",
       "Sr88_Z  -0.07602589 -1.225183014  0.660347694 -1.326474404 -0.933064216\n",
       "Mo98_X  -1.27494430 -0.184024998  0.920343405 -0.720368457  0.399938854\n",
       "Mo98_Y   1.09152412 -0.039412113 -1.463336219  0.763787589  0.662986579\n",
       "Mo98_Z   0.54870401 -0.515731795 -0.213033545  0.039770330 -0.700091162\n",
       "Cd111_X  1.02167517  0.420870231 -0.086544236  0.685249495  0.519005814\n",
       "Cd111_Y -0.29389732  0.689934115  0.394411338 -0.924363704 -1.229800781\n",
       "Cd111_Z -0.01275476 -0.094290634  0.002785053  0.016877639  0.159681966\n",
       "\n",
       "Proportion of trace:\n",
       "   LD1    LD2    LD3    LD4    LD5 \n",
       "0.3854 0.2508 0.1892 0.1191 0.0555 "
      ]
     },
     "metadata": {},
     "output_type": "display_data"
    }
   ],
   "source": [
    "# Fit the model\n",
    "#data set imputed with mice\n",
    "model <- lda(spec_as_int~., data = train.data)\n",
    "# Make predictions\n",
    "predictions <- model %>% predict(test.data)\n",
    "# Model accuracy\n",
    "mean(predictions$class==test.data$spec_as_int)\n",
    "model"
   ]
  },
  {
   "cell_type": "code",
   "execution_count": 14,
   "metadata": {},
   "outputs": [
    {
     "data": {
      "text/html": [
       "0.861111111111111"
      ],
      "text/latex": [
       "0.861111111111111"
      ],
      "text/markdown": [
       "0.861111111111111"
      ],
      "text/plain": [
       "[1] 0.8611111"
      ]
     },
     "metadata": {},
     "output_type": "display_data"
    },
    {
     "data": {
      "text/plain": [
       "Call:\n",
       "lda(spec_as_int ~ ., data = train.data.raw)\n",
       "\n",
       "Prior probabilities of groups:\n",
       "         1          3          4          5          6          7 \n",
       "0.07857143 0.15714286 0.22142857 0.02857143 0.36428571 0.15000000 \n",
       "\n",
       "Group means:\n",
       "       B11_X      B11_Y      B11_Z      Na23_X      Na23_Y      Na23_Z\n",
       "1 -0.1725667 -0.4349772 -0.1933973 -0.01825718 -0.56506175  0.34066876\n",
       "3 -0.0950251 -0.1182435 -0.4542397  1.78871661 -0.09315629 -0.42566282\n",
       "4  0.4966769 -0.3320429 -0.4132735  1.25013734 -0.37667308 -0.24947559\n",
       "5  2.2436485 -0.7442425 -1.0127732  2.30756475 -0.42410121  0.03447511\n",
       "6  0.7666560 -0.1848731  0.2155335  0.67088506 -0.64623458 -0.15816868\n",
       "7  0.3268519 -0.1570784  0.1832274  0.31897314 -0.71856623 -0.40238023\n",
       "      Mg26_X      Mg26_Y      Mg26_Z      Al27_X      Al27_Y      Al27_Z\n",
       "1 -0.8339243 -0.72296622 1.114068359  0.17237727 -0.87184411  0.72733249\n",
       "3 -0.5260498 -0.18222361 0.919015306  0.21147630  0.01367967  0.64053475\n",
       "4 -0.5522742 -0.01634868 2.244298003  0.13864584 -0.64444658  0.84934851\n",
       "5 -0.5220835 -0.57108787 0.007890102  0.35068999 -0.57032140  0.31226318\n",
       "6 -0.6605479 -0.68228934 0.588165040 -0.04009759 -0.80496322  0.41202652\n",
       "7 -0.5766813 -0.38616310 0.875885423 -0.21068823 -0.19789700 -0.09084337\n",
       "      P31_X      P31_Y      P31_Z      S34_X       S34_Y      S34_Z     K39_X\n",
       "1 0.3501206 -0.5745103 -0.6950476 -0.7057205 -0.55763442 -0.1316630 0.9790485\n",
       "3 0.8792834  0.8786695  0.4377281 -0.3814187  0.88628151  1.6877013 0.6720914\n",
       "4 0.4364979 -0.2020728 -0.8176979 -0.5900570 -0.12274485  0.6666268 0.8926085\n",
       "5 1.1549465  0.4882353  1.2687047 -0.7971905 -0.04622413 -0.0156537 0.1985499\n",
       "6 0.5329291 -0.4332682 -0.4632034 -0.2550224  0.14795700  0.4717903 0.6588267\n",
       "7 0.8639308 -0.2443328 -0.9228086 -0.3348568 -0.42022887 -0.4003758 1.1499866\n",
       "        K39_Y      K39_Z     Ca44_X     Ca44_Y     Ca44_Z      Fe54_X\n",
       "1 -0.50350731 -1.5377433 -0.9938710 -0.4518949  0.9553257 -0.69105851\n",
       "3  0.84981368 -0.5409000 -0.4186739 -0.1538051  1.2586548 -0.03599195\n",
       "4  0.23534909 -1.1099379 -0.9140048 -0.3992570  1.1617654 -0.63582775\n",
       "5  0.20677490 -0.2768993 -0.8476162 -0.7219286 -0.1300037 -0.51985849\n",
       "6 -0.02361529 -0.7236082 -0.8003188 -0.2947422  1.2698151 -0.41925506\n",
       "7 -0.06191783 -1.2162401 -1.0166134 -0.5565748  0.5512664 -0.66628106\n",
       "      Fe54_Y       Fe54_Z      Mn55_Y      Mn55_X    Mn55_Z      Co59_X\n",
       "1 -0.5855593  0.415190225 -0.93326360 -0.56155319 1.1837300 -0.94344184\n",
       "3  0.1585641  2.208600323 -0.20448755 -0.07148805 1.4140538  0.05606579\n",
       "4 -0.8093416  0.615230693 -0.83541284 -0.51008357 1.4550999 -0.83488308\n",
       "5 -0.8071308 -0.194218206  0.08200438 -0.05110172 1.2412593  0.74936432\n",
       "6 -0.1861337  1.008975978 -0.71883236 -0.50102510 1.0398520 -0.64691762\n",
       "7 -0.5108970 -0.009393432 -0.89877338 -0.59410654 0.4034976 -0.92060417\n",
       "      Co59_Y    Co59_Z     Ni60_X     Ni60_Y      Ni60_Z     Cu63_X     Cu63_Y\n",
       "1 -0.6577031 0.8420807 -0.3681333 -0.4328641 -0.26363575 -0.4354799 -0.7419922\n",
       "3  0.2085147 1.7262423  0.8556214  0.6954633  1.02589713  1.7935896  1.9478298\n",
       "4 -0.4516993 1.3617926 -0.0300595 -0.1558926  0.14048969  0.5196552  0.3482899\n",
       "5  1.2904222 2.4870130  2.9391517  2.1652399  3.27173128  0.1540986 -0.2420983\n",
       "6 -0.5235208 0.7750386 -0.2701267 -0.3990343  0.07588541 -0.4200125 -0.6375148\n",
       "7 -0.6746369 0.1402013 -0.2805167 -0.3689738 -0.27661698  0.5962845  0.1155708\n",
       "      Cu63_Z      Zn66_X      Zn66_Y      Zn66_Z      As75_X      As75_Y\n",
       "1 -0.9127708  0.78032219 -0.78587915  0.56889447 -0.10605791 -0.51426104\n",
       "3  1.6901984  0.81532807 -0.03933318  0.95404133  0.05627706 -0.04482114\n",
       "4 -0.2819668 -0.16811274 -0.58093427  0.88741922 -0.06875893 -0.07773366\n",
       "5 -0.3834463  0.05485844 -0.63943003  0.21969487  0.08938036 -0.40778792\n",
       "6 -0.8552078  0.03481494 -0.74021527  0.43821144 -0.19139278 -0.51501027\n",
       "7 -0.5811489 -0.10490907 -0.85007760 -0.06326409 -0.31113091 -0.13344705\n",
       "      As75_Z    Rb85_X      Rb85_Y     Rb85_Z     Sr88_X      Sr88_Y     Sr88_Z\n",
       "1  0.3946965 1.9848499  0.10355825 -0.6637040 -0.9513972 -0.27176529  1.1503031\n",
       "3  0.3020070 0.7347356  0.23036069 -0.6096404 -0.6361523 -0.08359358  1.1812469\n",
       "4  1.1364365 0.2202180 -0.36201785 -0.8400462 -0.8815345 -0.28341671  1.1913520\n",
       "5  0.2177973 0.4292178  0.05919865 -0.3683205 -0.8651368 -0.66395373 -0.0820607\n",
       "6  0.1115569 0.9803255 -0.13960450 -0.6711284 -0.8550814 -0.21919055  1.1389714\n",
       "7 -0.2158131 1.4004252  0.03338888 -0.6751598 -0.9573429 -0.36825769  0.5427613\n",
       "      Mo98_X      Mo98_Y      Mo98_Z      Cd111_X     Cd111_Y     Cd111_Z\n",
       "1 -0.4152395 -0.23531972 -0.08093131 -0.168910436 -0.19218665  0.04405799\n",
       "3  1.0696886  1.45132806  2.60847593  0.265854372  0.17536422  0.30088327\n",
       "4 -0.4731807 -0.56960076 -0.54453724 -0.080651557 -0.01916233  0.34537806\n",
       "5 -0.5113677 -0.63651382 -0.55518828  0.255557678 -0.06416623  0.30911107\n",
       "6 -0.2300428 -0.05781495  0.18267350 -0.269806546 -0.27925644  0.35910894\n",
       "7 -0.3048469 -0.20620478 -0.04259338  0.003361079 -0.11391464 -0.06277493\n",
       "\n",
       "Coefficients of linear discriminants:\n",
       "                 LD1          LD2          LD3          LD4         LD5\n",
       "B11_X   -0.166427639 -0.007007027  0.229318723  0.103162612  0.02603590\n",
       "B11_Y   -0.382494761 -0.089804789 -0.440889137 -0.018057366  0.56187545\n",
       "B11_Z   -0.397633758 -0.589728381 -0.325341243  0.164418093  0.95002378\n",
       "Na23_X   0.356781871 -0.080312008  0.035094807 -0.273254426  0.03100955\n",
       "Na23_Y   0.555737557  0.389038959  0.005190868 -1.171165730 -0.42813472\n",
       "Na23_Z  -0.056546060  0.317695655 -0.181553855  0.781943489 -0.59182863\n",
       "Mg26_X  -0.908443275  2.043101986  0.388339253  1.004886677  0.15396989\n",
       "Mg26_Y   2.136375568  1.205666958 -1.325285073 -0.607376739  2.05363141\n",
       "Mg26_Z   0.177604535  0.133882764  0.094409782  0.197992389 -0.49930788\n",
       "Al27_X  -0.287203733  0.013991346  0.009330041 -0.226377199 -1.28814912\n",
       "Al27_Y   0.120551886 -0.005271113  0.513942802  0.217591540  0.43479024\n",
       "Al27_Z  -0.279733702 -0.178510856  0.079204257  0.067049475 -0.26947016\n",
       "P31_X   -0.441142083 -0.165968718  0.555864598  0.382047954  0.16218424\n",
       "P31_Y    0.379638694 -0.208668013 -0.849777046  1.375010982 -0.69217358\n",
       "P31_Z   -0.165885971  0.108494509  0.755223453 -0.337760554  0.19216016\n",
       "S34_X   -0.005998083  0.085480747 -1.281053564 -0.124684829  0.36811448\n",
       "S34_Y   -0.592157505 -0.152399034  0.753953282 -1.222181112  0.02244837\n",
       "S34_Z    0.398193367  0.359498750  0.041896574  0.385071053  0.42008224\n",
       "K39_X   -0.030254949  0.296153971  0.489624937  0.015659241 -0.53878390\n",
       "K39_Y    0.139513569  0.201921695  0.091752789 -0.331677823  0.46180276\n",
       "K39_Z   -0.591082656 -0.026021133  0.187120241 -0.357183837 -0.10492512\n",
       "Ca44_X  -4.441945307 -4.982343544 -2.804478920 -5.540292039 -3.50977210\n",
       "Ca44_Y  -0.145380928  0.400614040  2.469984722 -2.633332876  1.40505477\n",
       "Ca44_Z   0.360946261  0.317921784 -0.715346399  1.193661080  0.51536906\n",
       "Fe54_X  -0.196038113  0.339317904  0.448854170 -0.384029924  0.16117302\n",
       "Fe54_Y  -0.218765784 -0.283561019 -0.870207539  1.703495883 -0.44694493\n",
       "Fe54_Z   0.131391228 -0.263655954 -0.157452571 -0.860447954  0.14667799\n",
       "Mn55_Y  -0.625315848  2.327357018  4.239295943 -3.062100163 -0.81311068\n",
       "Mn55_X   1.042249479 -1.016609374 -2.651378467  4.321032382  0.25723079\n",
       "Mn55_Z   0.747113208  0.021137645  0.081943996  0.343945942  0.01427909\n",
       "Co59_X   0.481176539 -2.818133814 -2.127630552  1.900429531  1.26670836\n",
       "Co59_Y   0.030586513  1.141022369  2.286530266 -1.669237181  0.18391179\n",
       "Co59_Z  -0.606010935  0.254470884  0.145489591 -1.234425674 -0.29460785\n",
       "Ni60_X   0.059661237 -1.372491589  0.946561514 -1.953899180  1.27394744\n",
       "Ni60_Y   0.421853843  1.197624716  0.989045494  4.499192766 -2.43082584\n",
       "Ni60_Z   0.148502720  0.027340168 -0.075483220  0.006472125  0.30144035\n",
       "Cu63_X   1.048715167  0.355554313 -0.693358561  0.694862548  0.19135354\n",
       "Cu63_Y   0.374961384 -0.220058880 -0.055956022  0.104219939  0.75230772\n",
       "Cu63_Z   0.064017685 -0.193089815 -0.059029016 -0.393882778 -0.70846176\n",
       "Zn66_X   0.083335479  0.244563582  0.163128473  0.084162117 -0.28726986\n",
       "Zn66_Y  -0.340956803 -1.075933733 -0.296751741 -1.434012906  0.54907066\n",
       "Zn66_Z  -0.518917136 -0.461265208 -0.098424238 -0.224166888 -0.11896850\n",
       "As75_X  -0.257253010 -0.271214041 -0.854897646  0.578524987 -0.14697714\n",
       "As75_Y  -0.060039367  0.357438527 -0.158442395 -0.790697134  0.07477260\n",
       "As75_Z   0.464056864  0.880241531 -0.079225353  0.281290333 -0.24174436\n",
       "Rb85_X  -0.252634880  0.630847661  0.168233389  0.873582164 -0.44336797\n",
       "Rb85_Y   0.094456718 -0.201463390 -1.061817598 -0.655145857 -0.89632352\n",
       "Rb85_Z  -0.374445724 -2.506142285  0.106987780 -1.423380379  2.33051354\n",
       "Sr88_X   6.312155770  4.014267453  3.817943576  8.403378489  4.57336443\n",
       "Sr88_Y   0.153048655 -0.933316640 -2.568465867  1.978295621 -2.85945897\n",
       "Sr88_Z  -1.100016503 -0.089910501  0.594117611 -2.087536412 -0.45031187\n",
       "Mo98_X   0.288614352  0.315098957  0.464734345 -1.188995474  0.69776176\n",
       "Mo98_Y  -0.002466767 -0.369803263 -0.191926256  0.711849450  0.12913070\n",
       "Mo98_Z  -0.058319299 -0.767225590 -0.703683735  0.538568422 -0.63547054\n",
       "Cd111_X  0.350646839 -0.012549543  0.086629972  0.981212154  0.41495212\n",
       "Cd111_Y  1.270115274  0.362842860 -0.849860056 -0.538375317 -1.06476826\n",
       "Cd111_Z -0.051035134 -0.072054405  0.014488200 -0.137920386  0.16271792\n",
       "\n",
       "Proportion of trace:\n",
       "   LD1    LD2    LD3    LD4    LD5 \n",
       "0.3455 0.2705 0.2032 0.1247 0.0561 "
      ]
     },
     "metadata": {},
     "output_type": "display_data"
    }
   ],
   "source": [
    "#unimputed\n",
    "model.raw <- lda(spec_as_int~., data = train.data.raw)\n",
    "# Make predictions\n",
    "predictions.raw <- model.raw %>% predict(test.data.raw)\n",
    "# Model accuracy\n",
    "mean(predictions.raw$class==test.data.raw$spec_as_int)\n",
    "model.raw"
   ]
  },
  {
   "cell_type": "code",
   "execution_count": 15,
   "metadata": {},
   "outputs": [
    {
     "data": {
      "text/html": [
       "0.805555555555556"
      ],
      "text/latex": [
       "0.805555555555556"
      ],
      "text/markdown": [
       "0.805555555555556"
      ],
      "text/plain": [
       "[1] 0.8055556"
      ]
     },
     "metadata": {},
     "output_type": "display_data"
    },
    {
     "data": {
      "text/plain": [
       "Call:\n",
       "lda(spec_as_int ~ ., data = train.data.impute)\n",
       "\n",
       "Prior probabilities of groups:\n",
       "         1          3          4          5          6          7 \n",
       "0.06206897 0.13793103 0.20689655 0.02758621 0.40689655 0.15862069 \n",
       "\n",
       "Group means:\n",
       "        B11_X      B11_Y      B11_Z     Na23_X     Na23_Y      Na23_Z\n",
       "1  0.03168390 -0.3874852 -0.1766566 0.01053204 -0.5321411  0.32877679\n",
       "3 -0.09409356 -0.1048108 -0.4624473 1.39364740 -0.1606088 -0.41352417\n",
       "4  0.37614722 -0.3747406 -0.3546842 1.11052929 -0.4543561 -0.26758605\n",
       "5  1.41072299 -0.7895389 -0.8568178 2.00122290 -0.4843097 -0.09311516\n",
       "6  0.72447407 -0.2093128  0.1915147 0.47029881 -0.6768956 -0.11663163\n",
       "7  0.32534505 -0.1817851  0.1575830 0.28576371 -0.7417573 -0.40705732\n",
       "      Mg26_X      Mg26_Y    Mg26_Z      Al27_X       Al27_Y      Al27_Z\n",
       "1 -0.8080544 -0.69674144 1.0812998  0.29433964 -0.878525973  0.68436587\n",
       "3 -0.5447499 -0.13691666 0.9303370  0.14696762  0.200641397  0.56844397\n",
       "4 -0.5356960 -0.00467936 2.3001192  0.24391981 -0.626542764  0.79182094\n",
       "5 -0.5784718 -0.62777610 0.3052582  0.35125928  0.001127167  0.08322966\n",
       "6 -0.6687845 -0.68381472 0.5210216  0.04147415 -0.811950685  0.37617645\n",
       "7 -0.5850347 -0.36501920 1.0492586 -0.22075437 -0.864723239 -0.11371789\n",
       "      P31_X      P31_Y      P31_Z      S34_X       S34_Y       S34_Z     K39_X\n",
       "1 0.3253396 -0.5438119 -0.6038239 -0.5490822 -0.51604164 -0.07428829 0.9943292\n",
       "3 0.8540869  0.8083656  0.3639418 -0.1701827  0.91106789  1.74672686 0.7157021\n",
       "4 0.4475573 -0.2332818 -0.7604561 -0.5692340 -0.22974839  0.60597971 0.8897585\n",
       "5 1.2302693  0.4320508  0.9062113 -0.5069008 -0.04850866  0.12125781 0.3224474\n",
       "6 0.4987460 -0.5102747 -0.5094003 -0.2678901 -0.07919470  0.46370135 0.7374171\n",
       "7 0.8845959 -0.2884505 -0.7751090 -0.4370714 -0.44863915 -0.29683840 1.0924954\n",
       "        K39_Y      K39_Z     Ca44_X      Ca44_Y    Ca44_Z     Fe54_X     Fe54_Y\n",
       "1 -0.48693646 -1.4551055 -0.9996934 -0.42090002 1.0230030 -0.5987299 -0.5152605\n",
       "3  0.70550656 -0.6529810 -0.4086756 -0.04397456 1.3734022 -0.0360718  0.1185990\n",
       "4  0.23958497 -1.0882627 -0.8937532 -0.37282924 1.2207951 -0.6650788 -0.8073794\n",
       "5  0.28677453 -0.6298099 -0.8339477 -0.69494990 0.1322582 -0.4720056 -0.7309944\n",
       "6  0.03602433 -0.5829592 -0.8285105 -0.28872257 1.2872160 -0.4837676 -0.3302703\n",
       "7 -0.15922708 -1.2270705 -1.0119489 -0.48563419 0.7842930 -0.6442297 -0.5099278\n",
       "       Fe54_Z     Mn55_Y      Mn55_X    Mn55_Z      Co59_X     Co59_Y    Co59_Z\n",
       "1  0.41501815 -0.8709703 -0.51262182 1.2283165 -0.85969385 -0.6035074 0.8751251\n",
       "3  1.97502522 -0.1531302 -0.05556911 1.4137375  0.03849576  0.1941209 1.7463576\n",
       "4  0.59020779 -0.8185508 -0.51020576 1.5334984 -0.84985366 -0.4818965 1.3173247\n",
       "5 -0.08877464  0.3171057 -0.05470507 0.9236376  0.93011682  1.1350424 2.0538392\n",
       "6  0.82780755 -0.7402448 -0.57293720 1.0582249 -0.69515876 -0.6323163 0.7538108\n",
       "7  0.07117758 -0.8809273 -0.58733377 0.4548934 -0.92790213 -0.6905803 0.1626934\n",
       "      Ni60_X     Ni60_Y      Ni60_Z     Cu63_X      Cu63_Y     Cu63_Z\n",
       "1 -0.3671857 -0.4190273 -0.26619288 -0.3856853 -0.70129769 -0.9353724\n",
       "3  0.7913931  0.7141940  1.03763184  1.8412131  1.96040347  1.7627343\n",
       "4 -0.1319905 -0.2065029  0.08928166  0.4542150  0.23453553 -0.3092474\n",
       "5  2.2007826  1.5462273  2.24296140  0.1143208 -0.31590034 -0.4419508\n",
       "6 -0.2713420 -0.4103629  0.02989018 -0.4303334 -0.67237222 -0.8598980\n",
       "7 -0.3028016 -0.3887651 -0.27679149  0.6229859  0.05194389 -0.5610641\n",
       "       Zn66_X      Zn66_Y      Zn66_Z      As75_X      As75_Y      As75_Z\n",
       "1  1.10934406 -0.74175898  0.60334931 -0.11216073 -0.51350687  0.46173562\n",
       "3  0.77152388 -0.03309958  0.90696575 -0.02682302 -0.02081956  0.25325416\n",
       "4 -0.19041089 -0.56949249  0.97856566 -0.06511035 -0.07876015  1.00244853\n",
       "5  0.29183652 -0.56970654  0.26466518  2.00890131 -0.07131254 -0.05843955\n",
       "6  0.04278157 -0.79419449  0.40347964 -0.22426288 -0.51940350  0.16918567\n",
       "7 -0.20991491 -0.85239418 -0.07328815 -0.24579876 -0.59507530 -0.22098835\n",
       "     Rb85_X      Rb85_Y     Rb85_Z     Sr88_X       Sr88_Y    Sr88_Z     Mo98_X\n",
       "1 1.9668696  0.07363036 -0.6466519 -0.9465111 -0.246182206 1.1861192 -0.3932286\n",
       "3 0.6916439  0.15780896 -0.6166541 -0.6405567 -0.006286094 1.2361173  1.1777562\n",
       "4 0.1392383 -0.40288164 -0.8454512 -0.8679950 -0.289803288 1.1239164 -0.6115650\n",
       "5 0.6311422  0.05001679 -0.5279973 -0.8578427 -0.566929238 0.1449544 -0.4603668\n",
       "6 1.0103904 -0.17784001 -0.6513309 -0.8620077 -0.220032400 1.1340791 -0.2176825\n",
       "7 1.1412249 -0.18161775 -0.7525611 -0.9551060 -0.383928831 0.7471129 -0.2984905\n",
       "       Mo98_Y      Mo98_Z      Cd111_X    Cd111_Y     Cd111_Z\n",
       "1 -0.23841668 -0.10742570 -0.281319993 -0.1632644 -0.03906080\n",
       "3  1.55453067  2.68269661  0.257486465  0.1770736  0.29189328\n",
       "4 -0.69132586 -0.71966552 -0.108937400 -0.0223736  0.37250039\n",
       "5 -0.58664154 -0.51957453  0.159926007 -0.1404550  0.33597304\n",
       "6 -0.07939138  0.16175280 -0.292780336 -0.2920614  0.28858669\n",
       "7 -0.21533692 -0.02261017 -0.005418174 -0.1214274 -0.01670547\n",
       "\n",
       "Coefficients of linear discriminants:\n",
       "                 LD1         LD2          LD3          LD4          LD5\n",
       "B11_X   -0.229834443 -0.29324791  0.146527911 -0.205330954  0.105484118\n",
       "B11_Y    0.572702225  0.05373240 -1.139129035 -0.508863567 -1.041950293\n",
       "B11_Z   -0.259808126 -0.35555383 -0.405632168 -0.044936245 -0.529694264\n",
       "Na23_X   0.299706805  0.26262658 -0.001412646  0.347929814 -0.075855063\n",
       "Na23_Y   0.078016883  0.43788508  0.600543804  1.370245786  0.431020470\n",
       "Na23_Z  -0.058233907  0.07165556 -0.010392388 -0.808417747  0.656267362\n",
       "Mg26_X  -0.745310555  1.21944132  0.344336333 -0.467920493  0.443535236\n",
       "Mg26_Y   1.752334334  0.88792580 -1.167474531 -0.567131095 -1.682706745\n",
       "Mg26_Z   0.265481096  0.36584860  0.347925386  0.298997994  0.417482164\n",
       "Al27_X  -0.345787494  0.61265767 -0.168150323  1.006649769  0.753634465\n",
       "Al27_Y   0.282236615 -0.44526232  0.311170021 -0.188821077 -0.126677790\n",
       "Al27_Z  -0.271026938 -0.02981824  0.230475437  0.442480084  0.122603704\n",
       "P31_X   -0.546845027  0.20523703  0.580866613 -0.567114720 -0.652647369\n",
       "P31_Y    0.416565048 -0.11338743 -0.365640614 -0.249065181  0.925200333\n",
       "P31_Z   -0.424197432 -0.02022311  0.327934002 -0.227412352 -0.284692800\n",
       "S34_X    0.148895714  0.33660966 -0.844596887  0.055696776 -0.132517856\n",
       "S34_Y   -0.738507825 -0.25180104  0.418971101  1.093011229  0.065839576\n",
       "S34_Z    0.326096290  0.18916491  0.244836766 -0.340537280 -0.526151495\n",
       "K39_X    0.077616297 -0.39244227  0.213222511  0.153617124  0.691320050\n",
       "K39_Y   -0.044532840  0.13974468  0.061442385 -0.030833362 -0.788712392\n",
       "K39_Z   -0.348432277 -0.28475677 -0.030709420  0.332950238 -0.202103459\n",
       "Ca44_X  -4.407034794 -0.89159553 -1.903854029  4.565557578  2.482657072\n",
       "Ca44_Y   2.350690780 -2.81465982  1.818642886  3.140501785 -0.167363549\n",
       "Ca44_Z  -0.587465347  0.55417035 -0.855854246 -1.571890152 -1.002431558\n",
       "Fe54_X   0.007020747 -0.74669700 -0.351904669  0.229640283 -0.285605220\n",
       "Fe54_Y   0.010722262  0.67010787 -0.871966075 -0.497754230  0.833730359\n",
       "Fe54_Z   0.011511273 -0.72304471 -0.115264163  0.432582944 -0.335501024\n",
       "Mn55_Y  -0.383496851  0.69655286  3.076612298  1.378683682 -0.188640379\n",
       "Mn55_X   2.721310106  0.03483927 -1.984643867 -3.310387684  1.085625422\n",
       "Mn55_Z   0.183134994 -0.05550752  0.242202110  0.104427182  0.169062117\n",
       "Co59_X   0.637254418 -1.81233507 -2.027172996 -1.259105276 -0.468336500\n",
       "Co59_Y  -1.521988486  0.29904493  1.496615317  1.315435062 -1.224812437\n",
       "Co59_Z  -0.038838005  0.21878028  0.139152776  0.702280914  0.033024680\n",
       "Ni60_X  -1.939782174 -3.78486714  2.737116628  1.758732809 -1.417722531\n",
       "Ni60_Y   2.599541611  2.91744470 -0.744702364 -3.164159476  3.305900914\n",
       "Ni60_Z   0.107041515 -0.01885788 -0.060066573 -0.183080615 -0.220142425\n",
       "Cu63_X   1.412302571  0.87687741 -0.976330971 -0.976189708  0.062793029\n",
       "Cu63_Y  -0.286960081 -0.48569905  0.717672858 -0.339676056 -0.695712264\n",
       "Cu63_Z   0.605309063 -0.41342165 -0.251030526  0.739381585  0.397564382\n",
       "Zn66_X  -0.002450565  0.18484175  0.177152333  0.126927083  0.387736092\n",
       "Zn66_Y  -0.242401177  0.27487047 -0.280585938  0.023559495 -1.061818692\n",
       "Zn66_Z  -0.546396902 -0.33057488 -0.189581751  0.558091745  0.006989689\n",
       "As75_X  -0.162659132 -0.14616375  0.434010769 -0.627123245  0.228833640\n",
       "As75_Y   0.020773675  0.11812261 -0.061360428  1.004394043 -0.419743857\n",
       "As75_Z  -0.135698175  0.74341098 -0.103871699 -0.349424446  0.612336218\n",
       "Rb85_X  -0.062575295  0.03297653  0.413768950 -0.432306809  0.548896420\n",
       "Rb85_Y   0.545321250  0.03480655 -0.774708710  1.206639866  0.533398546\n",
       "Rb85_Z  -1.973348133 -0.93713566 -1.405523797 -1.110112431 -0.848468078\n",
       "Sr88_X   4.394569979 -0.40261222  4.275192758 -6.110611734 -2.988717892\n",
       "Sr88_Y  -2.200934524  2.30319477 -0.520868712 -1.630824156  0.993771798\n",
       "Sr88_Z   0.068602200 -0.62386013  0.050264154  1.950231027  0.858730002\n",
       "Mo98_X  -0.022099382 -0.19816007  0.875258555  1.100475476 -0.853462280\n",
       "Mo98_Y   0.124521754 -1.03799635 -1.045044941 -1.172890610  0.138906224\n",
       "Mo98_Z   0.302359558  0.02268265 -0.459749067  0.089827081  0.726485194\n",
       "Cd111_X  0.395218612  0.01798469 -0.524781104 -1.145248903 -0.436096643\n",
       "Cd111_Y  0.947234312  1.77472698  0.803174161  1.096693914  1.498039371\n",
       "Cd111_Z -0.055229718 -0.18557797  0.026565242 -0.008101414 -0.143861492\n",
       "\n",
       "Proportion of trace:\n",
       "   LD1    LD2    LD3    LD4    LD5 \n",
       "0.3573 0.2941 0.1728 0.1233 0.0525 "
      ]
     },
     "metadata": {},
     "output_type": "display_data"
    }
   ],
   "source": [
    "#data set imputed with missMDA\n",
    "model.impute <- lda(spec_as_int~., data = train.data.impute)\n",
    "# Make predictions\n",
    "predictions.impute <- model.impute %>% predict(test.data.impute)\n",
    "# Model accuracy\n",
    "mean(predictions.impute$class == test.data.impute$spec_as_int)\n",
    "model.impute\n",
    "#TODO format data generated by model"
   ]
  },
  {
   "cell_type": "code",
   "execution_count": 16,
   "metadata": {},
   "outputs": [
    {
     "data": {
      "image/png": "[encoded data removed]",
      "text/plain": [
       "plot without title"
      ]
     },
     "metadata": {
      "image/png": {
       "height": 420,
       "width": 420
      },
      "text/plain": {
       "height": 420,
       "width": 420
      }
     },
     "output_type": "display_data"
    },
    {
     "data": {
      "image/png": "[encoded data removed]",
      "text/plain": [
       "plot without title"
      ]
     },
     "metadata": {
      "image/png": {
       "height": 420,
       "width": 420
      },
      "text/plain": {
       "height": 420,
       "width": 420
      }
     },
     "output_type": "display_data"
    },
    {
     "data": {
      "image/png": "[encoded data removed]",
      "text/plain": [
       "plot without title"
      ]
     },
     "metadata": {
      "image/png": {
       "height": 420,
       "width": 420
      },
      "text/plain": {
       "height": 420,
       "width": 420
      }
     },
     "output_type": "display_data"
    }
   ],
   "source": [
    "plot(model,main = \"Mice imputed\")\n",
    "plot(model.impute, main = \"missMDA imputed\")\n",
    "plot(model.raw, main = \"Raw\")\n",
    "#TODO a better way to do this "
   ]
  },
  {
   "cell_type": "code",
   "execution_count": 17,
   "metadata": {},
   "outputs": [
    {
     "data": {
      "text/html": [
       "<style>\n",
       ".list-inline {list-style: none; margin:0; padding: 0}\n",
       ".list-inline>li {display: inline-block}\n",
       ".list-inline>li:not(:last-child)::after {content: \"\\00b7\"; padding: 0 .5ex}\n",
       "</style>\n",
       "<ol class=list-inline><li>1</li><li>1</li><li>3</li><li>6</li><li>7</li><li>3</li></ol>\n",
       "\n",
       "<details>\n",
       "\t<summary style=display:list-item;cursor:pointer>\n",
       "\t\t<strong>Levels</strong>:\n",
       "\t</summary>\n",
       "\t<style>\n",
       "\t.list-inline {list-style: none; margin:0; padding: 0}\n",
       "\t.list-inline>li {display: inline-block}\n",
       "\t.list-inline>li:not(:last-child)::after {content: \"\\00b7\"; padding: 0 .5ex}\n",
       "\t</style>\n",
       "\t<ol class=list-inline><li>'1'</li><li>'3'</li><li>'4'</li><li>'5'</li><li>'6'</li><li>'7'</li></ol>\n",
       "</details>"
      ],
      "text/latex": [
       "\\begin{enumerate*}\n",
       "\\item 1\n",
       "\\item 1\n",
       "\\item 3\n",
       "\\item 6\n",
       "\\item 7\n",
       "\\item 3\n",
       "\\end{enumerate*}\n",
       "\n",
       "\\emph{Levels}: \\begin{enumerate*}\n",
       "\\item '1'\n",
       "\\item '3'\n",
       "\\item '4'\n",
       "\\item '5'\n",
       "\\item '6'\n",
       "\\item '7'\n",
       "\\end{enumerate*}\n"
      ],
      "text/markdown": [
       "1. 1\n",
       "2. 1\n",
       "3. 3\n",
       "4. 6\n",
       "5. 7\n",
       "6. 3\n",
       "\n",
       "\n",
       "\n",
       "**Levels**: 1. '1'\n",
       "2. '3'\n",
       "3. '4'\n",
       "4. '5'\n",
       "5. '6'\n",
       "6. '7'\n",
       "\n",
       "\n"
      ],
      "text/plain": [
       "[1] 1 1 3 6 7 3\n",
       "Levels: 1 3 4 5 6 7"
      ]
     },
     "metadata": {},
     "output_type": "display_data"
    },
    {
     "data": {
      "text/html": [
       "<table>\n",
       "<caption>A matrix: 6 × 6 of type dbl</caption>\n",
       "<thead>\n",
       "\t<tr><th></th><th scope=col>1</th><th scope=col>3</th><th scope=col>4</th><th scope=col>5</th><th scope=col>6</th><th scope=col>7</th></tr>\n",
       "</thead>\n",
       "<tbody>\n",
       "\t<tr><th scope=row>8</th><td>9.999990e-01</td><td>3.741076e-25</td><td>2.123315e-07</td><td>4.604414e-46</td><td>8.191077e-07</td><td>5.986524e-11</td></tr>\n",
       "\t<tr><th scope=row>11</th><td>9.566107e-01</td><td>1.977336e-16</td><td>3.400334e-10</td><td>2.794012e-49</td><td>4.338929e-02</td><td>5.930293e-12</td></tr>\n",
       "\t<tr><th scope=row>15</th><td>3.948992e-20</td><td>1.000000e+00</td><td>1.629833e-18</td><td>1.078000e-29</td><td>1.046586e-18</td><td>3.132820e-16</td></tr>\n",
       "\t<tr><th scope=row>19</th><td>3.155650e-01</td><td>1.212531e-02</td><td>8.965905e-03</td><td>2.880892e-30</td><td>6.633438e-01</td><td>3.459347e-13</td></tr>\n",
       "\t<tr><th scope=row>24</th><td>1.066655e-08</td><td>5.626851e-10</td><td>1.319737e-03</td><td>2.422990e-42</td><td>3.993896e-03</td><td>9.946864e-01</td></tr>\n",
       "\t<tr><th scope=row>26</th><td>8.709972e-18</td><td>8.228845e-01</td><td>1.756169e-02</td><td>1.785703e-29</td><td>3.895880e-16</td><td>1.595538e-01</td></tr>\n",
       "</tbody>\n",
       "</table>\n"
      ],
      "text/latex": [
       "A matrix: 6 × 6 of type dbl\n",
       "\\begin{tabular}{r|llllll}\n",
       "  & 1 & 3 & 4 & 5 & 6 & 7\\\\\n",
       "\\hline\n",
       "\t8 & 9.999990e-01 & 3.741076e-25 & 2.123315e-07 & 4.604414e-46 & 8.191077e-07 & 5.986524e-11\\\\\n",
       "\t11 & 9.566107e-01 & 1.977336e-16 & 3.400334e-10 & 2.794012e-49 & 4.338929e-02 & 5.930293e-12\\\\\n",
       "\t15 & 3.948992e-20 & 1.000000e+00 & 1.629833e-18 & 1.078000e-29 & 1.046586e-18 & 3.132820e-16\\\\\n",
       "\t19 & 3.155650e-01 & 1.212531e-02 & 8.965905e-03 & 2.880892e-30 & 6.633438e-01 & 3.459347e-13\\\\\n",
       "\t24 & 1.066655e-08 & 5.626851e-10 & 1.319737e-03 & 2.422990e-42 & 3.993896e-03 & 9.946864e-01\\\\\n",
       "\t26 & 8.709972e-18 & 8.228845e-01 & 1.756169e-02 & 1.785703e-29 & 3.895880e-16 & 1.595538e-01\\\\\n",
       "\\end{tabular}\n"
      ],
      "text/markdown": [
       "\n",
       "A matrix: 6 × 6 of type dbl\n",
       "\n",
       "| <!--/--> | 1 | 3 | 4 | 5 | 6 | 7 |\n",
       "|---|---|---|---|---|---|---|\n",
       "| 8 | 9.999990e-01 | 3.741076e-25 | 2.123315e-07 | 4.604414e-46 | 8.191077e-07 | 5.986524e-11 |\n",
       "| 11 | 9.566107e-01 | 1.977336e-16 | 3.400334e-10 | 2.794012e-49 | 4.338929e-02 | 5.930293e-12 |\n",
       "| 15 | 3.948992e-20 | 1.000000e+00 | 1.629833e-18 | 1.078000e-29 | 1.046586e-18 | 3.132820e-16 |\n",
       "| 19 | 3.155650e-01 | 1.212531e-02 | 8.965905e-03 | 2.880892e-30 | 6.633438e-01 | 3.459347e-13 |\n",
       "| 24 | 1.066655e-08 | 5.626851e-10 | 1.319737e-03 | 2.422990e-42 | 3.993896e-03 | 9.946864e-01 |\n",
       "| 26 | 8.709972e-18 | 8.228845e-01 | 1.756169e-02 | 1.785703e-29 | 3.895880e-16 | 1.595538e-01 |\n",
       "\n"
      ],
      "text/plain": [
       "   1            3            4            5            6           \n",
       "8  9.999990e-01 3.741076e-25 2.123315e-07 4.604414e-46 8.191077e-07\n",
       "11 9.566107e-01 1.977336e-16 3.400334e-10 2.794012e-49 4.338929e-02\n",
       "15 3.948992e-20 1.000000e+00 1.629833e-18 1.078000e-29 1.046586e-18\n",
       "19 3.155650e-01 1.212531e-02 8.965905e-03 2.880892e-30 6.633438e-01\n",
       "24 1.066655e-08 5.626851e-10 1.319737e-03 2.422990e-42 3.993896e-03\n",
       "26 8.709972e-18 8.228845e-01 1.756169e-02 1.785703e-29 3.895880e-16\n",
       "   7           \n",
       "8  5.986524e-11\n",
       "11 5.930293e-12\n",
       "15 3.132820e-16\n",
       "19 3.459347e-13\n",
       "24 9.946864e-01\n",
       "26 1.595538e-01"
      ]
     },
     "metadata": {},
     "output_type": "display_data"
    },
    {
     "data": {
      "text/html": [
       "<table>\n",
       "<caption>A matrix: 3 × 5 of type dbl</caption>\n",
       "<thead>\n",
       "\t<tr><th></th><th scope=col>LD1</th><th scope=col>LD2</th><th scope=col>LD3</th><th scope=col>LD4</th><th scope=col>LD5</th></tr>\n",
       "</thead>\n",
       "<tbody>\n",
       "\t<tr><th scope=row>8</th><td>-3.367054</td><td> 1.860722</td><td>-1.1991571</td><td>-0.7408171</td><td>-4.101099</td></tr>\n",
       "\t<tr><th scope=row>11</th><td>-2.517907</td><td>-1.907840</td><td>-2.5733696</td><td>-1.8400625</td><td>-3.369368</td></tr>\n",
       "\t<tr><th scope=row>15</th><td> 6.945168</td><td>-2.377669</td><td>-0.1584794</td><td> 0.9041557</td><td>-1.736342</td></tr>\n",
       "</tbody>\n",
       "</table>\n"
      ],
      "text/latex": [
       "A matrix: 3 × 5 of type dbl\n",
       "\\begin{tabular}{r|lllll}\n",
       "  & LD1 & LD2 & LD3 & LD4 & LD5\\\\\n",
       "\\hline\n",
       "\t8 & -3.367054 &  1.860722 & -1.1991571 & -0.7408171 & -4.101099\\\\\n",
       "\t11 & -2.517907 & -1.907840 & -2.5733696 & -1.8400625 & -3.369368\\\\\n",
       "\t15 &  6.945168 & -2.377669 & -0.1584794 &  0.9041557 & -1.736342\\\\\n",
       "\\end{tabular}\n"
      ],
      "text/markdown": [
       "\n",
       "A matrix: 3 × 5 of type dbl\n",
       "\n",
       "| <!--/--> | LD1 | LD2 | LD3 | LD4 | LD5 |\n",
       "|---|---|---|---|---|---|\n",
       "| 8 | -3.367054 |  1.860722 | -1.1991571 | -0.7408171 | -4.101099 |\n",
       "| 11 | -2.517907 | -1.907840 | -2.5733696 | -1.8400625 | -3.369368 |\n",
       "| 15 |  6.945168 | -2.377669 | -0.1584794 |  0.9041557 | -1.736342 |\n",
       "\n"
      ],
      "text/plain": [
       "   LD1       LD2       LD3        LD4        LD5      \n",
       "8  -3.367054  1.860722 -1.1991571 -0.7408171 -4.101099\n",
       "11 -2.517907 -1.907840 -2.5733696 -1.8400625 -3.369368\n",
       "15  6.945168 -2.377669 -0.1584794  0.9041557 -1.736342"
      ]
     },
     "metadata": {},
     "output_type": "display_data"
    }
   ],
   "source": [
    "#mice imputed data\n",
    "# Predicted classes\n",
    "head(predictions$class, 6)\n",
    "# Predicted probabilities of class memebership.\n",
    "head(predictions$posterior, 6) \n",
    "# Linear discriminants\n",
    "head(predictions$x, 3)"
   ]
  },
  {
   "cell_type": "code",
   "execution_count": 18,
   "metadata": {},
   "outputs": [
    {
     "data": {
      "text/html": [
       "<style>\n",
       ".list-inline {list-style: none; margin:0; padding: 0}\n",
       ".list-inline>li {display: inline-block}\n",
       ".list-inline>li:not(:last-child)::after {content: \"\\00b7\"; padding: 0 .5ex}\n",
       "</style>\n",
       "<ol class=list-inline><li>1</li><li>1</li><li>6</li><li>3</li><li>4</li><li>3</li></ol>\n",
       "\n",
       "<details>\n",
       "\t<summary style=display:list-item;cursor:pointer>\n",
       "\t\t<strong>Levels</strong>:\n",
       "\t</summary>\n",
       "\t<style>\n",
       "\t.list-inline {list-style: none; margin:0; padding: 0}\n",
       "\t.list-inline>li {display: inline-block}\n",
       "\t.list-inline>li:not(:last-child)::after {content: \"\\00b7\"; padding: 0 .5ex}\n",
       "\t</style>\n",
       "\t<ol class=list-inline><li>'1'</li><li>'3'</li><li>'4'</li><li>'5'</li><li>'6'</li><li>'7'</li></ol>\n",
       "</details>"
      ],
      "text/latex": [
       "\\begin{enumerate*}\n",
       "\\item 1\n",
       "\\item 1\n",
       "\\item 6\n",
       "\\item 3\n",
       "\\item 4\n",
       "\\item 3\n",
       "\\end{enumerate*}\n",
       "\n",
       "\\emph{Levels}: \\begin{enumerate*}\n",
       "\\item '1'\n",
       "\\item '3'\n",
       "\\item '4'\n",
       "\\item '5'\n",
       "\\item '6'\n",
       "\\item '7'\n",
       "\\end{enumerate*}\n"
      ],
      "text/markdown": [
       "1. 1\n",
       "2. 1\n",
       "3. 6\n",
       "4. 3\n",
       "5. 4\n",
       "6. 3\n",
       "\n",
       "\n",
       "\n",
       "**Levels**: 1. '1'\n",
       "2. '3'\n",
       "3. '4'\n",
       "4. '5'\n",
       "5. '6'\n",
       "6. '7'\n",
       "\n",
       "\n"
      ],
      "text/plain": [
       "[1] 1 1 6 3 4 3\n",
       "Levels: 1 3 4 5 6 7"
      ]
     },
     "metadata": {},
     "output_type": "display_data"
    },
    {
     "data": {
      "text/html": [
       "<table>\n",
       "<caption>A matrix: 6 × 6 of type dbl</caption>\n",
       "<thead>\n",
       "\t<tr><th></th><th scope=col>1</th><th scope=col>3</th><th scope=col>4</th><th scope=col>5</th><th scope=col>6</th><th scope=col>7</th></tr>\n",
       "</thead>\n",
       "<tbody>\n",
       "\t<tr><th scope=row>1</th><td>9.999906e-01</td><td>4.262419e-16</td><td>6.003727e-06</td><td>1.968093e-33</td><td>3.343119e-06</td><td>5.484114e-09</td></tr>\n",
       "\t<tr><th scope=row>2</th><td>8.872982e-01</td><td>3.330784e-15</td><td>1.216794e-09</td><td>1.690362e-21</td><td>1.127015e-01</td><td>2.993355e-07</td></tr>\n",
       "\t<tr><th scope=row>3</th><td>1.789462e-01</td><td>1.394262e-12</td><td>5.728805e-11</td><td>4.792595e-38</td><td>8.210537e-01</td><td>1.103199e-07</td></tr>\n",
       "\t<tr><th scope=row>4</th><td>8.811188e-05</td><td>8.172274e-01</td><td>5.687068e-05</td><td>1.654784e-24</td><td>1.826277e-01</td><td>1.136879e-13</td></tr>\n",
       "\t<tr><th scope=row>5</th><td>7.019374e-03</td><td>7.391900e-07</td><td>7.653406e-01</td><td>5.047621e-33</td><td>1.977775e-01</td><td>2.986179e-02</td></tr>\n",
       "\t<tr><th scope=row>6</th><td>6.127168e-16</td><td>9.828172e-01</td><td>7.470697e-09</td><td>6.153238e-28</td><td>4.624496e-14</td><td>1.718283e-02</td></tr>\n",
       "</tbody>\n",
       "</table>\n"
      ],
      "text/latex": [
       "A matrix: 6 × 6 of type dbl\n",
       "\\begin{tabular}{r|llllll}\n",
       "  & 1 & 3 & 4 & 5 & 6 & 7\\\\\n",
       "\\hline\n",
       "\t1 & 9.999906e-01 & 4.262419e-16 & 6.003727e-06 & 1.968093e-33 & 3.343119e-06 & 5.484114e-09\\\\\n",
       "\t2 & 8.872982e-01 & 3.330784e-15 & 1.216794e-09 & 1.690362e-21 & 1.127015e-01 & 2.993355e-07\\\\\n",
       "\t3 & 1.789462e-01 & 1.394262e-12 & 5.728805e-11 & 4.792595e-38 & 8.210537e-01 & 1.103199e-07\\\\\n",
       "\t4 & 8.811188e-05 & 8.172274e-01 & 5.687068e-05 & 1.654784e-24 & 1.826277e-01 & 1.136879e-13\\\\\n",
       "\t5 & 7.019374e-03 & 7.391900e-07 & 7.653406e-01 & 5.047621e-33 & 1.977775e-01 & 2.986179e-02\\\\\n",
       "\t6 & 6.127168e-16 & 9.828172e-01 & 7.470697e-09 & 6.153238e-28 & 4.624496e-14 & 1.718283e-02\\\\\n",
       "\\end{tabular}\n"
      ],
      "text/markdown": [
       "\n",
       "A matrix: 6 × 6 of type dbl\n",
       "\n",
       "| <!--/--> | 1 | 3 | 4 | 5 | 6 | 7 |\n",
       "|---|---|---|---|---|---|---|\n",
       "| 1 | 9.999906e-01 | 4.262419e-16 | 6.003727e-06 | 1.968093e-33 | 3.343119e-06 | 5.484114e-09 |\n",
       "| 2 | 8.872982e-01 | 3.330784e-15 | 1.216794e-09 | 1.690362e-21 | 1.127015e-01 | 2.993355e-07 |\n",
       "| 3 | 1.789462e-01 | 1.394262e-12 | 5.728805e-11 | 4.792595e-38 | 8.210537e-01 | 1.103199e-07 |\n",
       "| 4 | 8.811188e-05 | 8.172274e-01 | 5.687068e-05 | 1.654784e-24 | 1.826277e-01 | 1.136879e-13 |\n",
       "| 5 | 7.019374e-03 | 7.391900e-07 | 7.653406e-01 | 5.047621e-33 | 1.977775e-01 | 2.986179e-02 |\n",
       "| 6 | 6.127168e-16 | 9.828172e-01 | 7.470697e-09 | 6.153238e-28 | 4.624496e-14 | 1.718283e-02 |\n",
       "\n"
      ],
      "text/plain": [
       "  1            3            4            5            6            7           \n",
       "1 9.999906e-01 4.262419e-16 6.003727e-06 1.968093e-33 3.343119e-06 5.484114e-09\n",
       "2 8.872982e-01 3.330784e-15 1.216794e-09 1.690362e-21 1.127015e-01 2.993355e-07\n",
       "3 1.789462e-01 1.394262e-12 5.728805e-11 4.792595e-38 8.210537e-01 1.103199e-07\n",
       "4 8.811188e-05 8.172274e-01 5.687068e-05 1.654784e-24 1.826277e-01 1.136879e-13\n",
       "5 7.019374e-03 7.391900e-07 7.653406e-01 5.047621e-33 1.977775e-01 2.986179e-02\n",
       "6 6.127168e-16 9.828172e-01 7.470697e-09 6.153238e-28 4.624496e-14 1.718283e-02"
      ]
     },
     "metadata": {},
     "output_type": "display_data"
    },
    {
     "data": {
      "text/html": [
       "<table>\n",
       "<caption>A matrix: 3 × 5 of type dbl</caption>\n",
       "<thead>\n",
       "\t<tr><th></th><th scope=col>LD1</th><th scope=col>LD2</th><th scope=col>LD3</th><th scope=col>LD4</th><th scope=col>LD5</th></tr>\n",
       "</thead>\n",
       "<tbody>\n",
       "\t<tr><th scope=row>1</th><td>-0.7123019</td><td> 1.591002</td><td> 0.5090403</td><td> 0.9562007</td><td>3.936929</td></tr>\n",
       "\t<tr><th scope=row>2</th><td>-2.5168736</td><td>-0.817113</td><td> 0.8424883</td><td>-1.0451855</td><td>3.185577</td></tr>\n",
       "\t<tr><th scope=row>3</th><td>-2.0357912</td><td>-1.164784</td><td>-2.6359738</td><td> 0.5635707</td><td>3.146898</td></tr>\n",
       "</tbody>\n",
       "</table>\n"
      ],
      "text/latex": [
       "A matrix: 3 × 5 of type dbl\n",
       "\\begin{tabular}{r|lllll}\n",
       "  & LD1 & LD2 & LD3 & LD4 & LD5\\\\\n",
       "\\hline\n",
       "\t1 & -0.7123019 &  1.591002 &  0.5090403 &  0.9562007 & 3.936929\\\\\n",
       "\t2 & -2.5168736 & -0.817113 &  0.8424883 & -1.0451855 & 3.185577\\\\\n",
       "\t3 & -2.0357912 & -1.164784 & -2.6359738 &  0.5635707 & 3.146898\\\\\n",
       "\\end{tabular}\n"
      ],
      "text/markdown": [
       "\n",
       "A matrix: 3 × 5 of type dbl\n",
       "\n",
       "| <!--/--> | LD1 | LD2 | LD3 | LD4 | LD5 |\n",
       "|---|---|---|---|---|---|\n",
       "| 1 | -0.7123019 |  1.591002 |  0.5090403 |  0.9562007 | 3.936929 |\n",
       "| 2 | -2.5168736 | -0.817113 |  0.8424883 | -1.0451855 | 3.185577 |\n",
       "| 3 | -2.0357912 | -1.164784 | -2.6359738 |  0.5635707 | 3.146898 |\n",
       "\n"
      ],
      "text/plain": [
       "  LD1        LD2       LD3        LD4        LD5     \n",
       "1 -0.7123019  1.591002  0.5090403  0.9562007 3.936929\n",
       "2 -2.5168736 -0.817113  0.8424883 -1.0451855 3.185577\n",
       "3 -2.0357912 -1.164784 -2.6359738  0.5635707 3.146898"
      ]
     },
     "metadata": {},
     "output_type": "display_data"
    }
   ],
   "source": [
    "#missMDA imputed data\n",
    "# Predicted classes\n",
    "head(predictions.impute$class, 6)\n",
    "# Predicted probabilities of class memebership.\n",
    "head(predictions.impute$posterior, 6) \n",
    "# Linear discriminants\n",
    "head(predictions.impute$x, 3)"
   ]
  },
  {
   "cell_type": "code",
   "execution_count": 19,
   "metadata": {},
   "outputs": [
    {
     "data": {
      "text/html": [
       "<style>\n",
       ".list-inline {list-style: none; margin:0; padding: 0}\n",
       ".list-inline>li {display: inline-block}\n",
       ".list-inline>li:not(:last-child)::after {content: \"\\00b7\"; padding: 0 .5ex}\n",
       "</style>\n",
       "<ol class=list-inline><li>1</li><li>3</li><li>7</li><li>3</li><li>3</li><li>3</li></ol>\n",
       "\n",
       "<details>\n",
       "\t<summary style=display:list-item;cursor:pointer>\n",
       "\t\t<strong>Levels</strong>:\n",
       "\t</summary>\n",
       "\t<style>\n",
       "\t.list-inline {list-style: none; margin:0; padding: 0}\n",
       "\t.list-inline>li {display: inline-block}\n",
       "\t.list-inline>li:not(:last-child)::after {content: \"\\00b7\"; padding: 0 .5ex}\n",
       "\t</style>\n",
       "\t<ol class=list-inline><li>'1'</li><li>'3'</li><li>'4'</li><li>'5'</li><li>'6'</li><li>'7'</li></ol>\n",
       "</details>"
      ],
      "text/latex": [
       "\\begin{enumerate*}\n",
       "\\item 1\n",
       "\\item 3\n",
       "\\item 7\n",
       "\\item 3\n",
       "\\item 3\n",
       "\\item 3\n",
       "\\end{enumerate*}\n",
       "\n",
       "\\emph{Levels}: \\begin{enumerate*}\n",
       "\\item '1'\n",
       "\\item '3'\n",
       "\\item '4'\n",
       "\\item '5'\n",
       "\\item '6'\n",
       "\\item '7'\n",
       "\\end{enumerate*}\n"
      ],
      "text/markdown": [
       "1. 1\n",
       "2. 3\n",
       "3. 7\n",
       "4. 3\n",
       "5. 3\n",
       "6. 3\n",
       "\n",
       "\n",
       "\n",
       "**Levels**: 1. '1'\n",
       "2. '3'\n",
       "3. '4'\n",
       "4. '5'\n",
       "5. '6'\n",
       "6. '7'\n",
       "\n",
       "\n"
      ],
      "text/plain": [
       "[1] 1 3 7 3 3 3\n",
       "Levels: 1 3 4 5 6 7"
      ]
     },
     "metadata": {},
     "output_type": "display_data"
    },
    {
     "data": {
      "text/html": [
       "<table>\n",
       "<caption>A matrix: 6 × 6 of type dbl</caption>\n",
       "<thead>\n",
       "\t<tr><th></th><th scope=col>1</th><th scope=col>3</th><th scope=col>4</th><th scope=col>5</th><th scope=col>6</th><th scope=col>7</th></tr>\n",
       "</thead>\n",
       "<tbody>\n",
       "\t<tr><th scope=row>11</th><td>8.812150e-01</td><td>1.755868e-13</td><td>4.047951e-11</td><td>6.177069e-48</td><td>1.187452e-01</td><td>3.983565e-05</td></tr>\n",
       "\t<tr><th scope=row>15</th><td>2.746631e-15</td><td>1.000000e+00</td><td>1.913958e-12</td><td>7.705183e-26</td><td>1.130487e-10</td><td>1.068812e-10</td></tr>\n",
       "\t<tr><th scope=row>24</th><td>8.839663e-08</td><td>6.759861e-08</td><td>3.849380e-01</td><td>4.703590e-43</td><td>8.681965e-04</td><td>6.141937e-01</td></tr>\n",
       "\t<tr><th scope=row>26</th><td>2.052747e-17</td><td>6.979154e-01</td><td>4.187949e-05</td><td>2.083197e-34</td><td>3.631306e-20</td><td>3.020427e-01</td></tr>\n",
       "\t<tr><th scope=row>29</th><td>3.113882e-18</td><td>1.000000e+00</td><td>1.245786e-18</td><td>7.868575e-28</td><td>1.719959e-15</td><td>9.218115e-11</td></tr>\n",
       "\t<tr><th scope=row>30</th><td>4.436291e-24</td><td>1.000000e+00</td><td>1.285234e-14</td><td>6.175788e-09</td><td>1.772657e-19</td><td>9.522632e-16</td></tr>\n",
       "</tbody>\n",
       "</table>\n"
      ],
      "text/latex": [
       "A matrix: 6 × 6 of type dbl\n",
       "\\begin{tabular}{r|llllll}\n",
       "  & 1 & 3 & 4 & 5 & 6 & 7\\\\\n",
       "\\hline\n",
       "\t11 & 8.812150e-01 & 1.755868e-13 & 4.047951e-11 & 6.177069e-48 & 1.187452e-01 & 3.983565e-05\\\\\n",
       "\t15 & 2.746631e-15 & 1.000000e+00 & 1.913958e-12 & 7.705183e-26 & 1.130487e-10 & 1.068812e-10\\\\\n",
       "\t24 & 8.839663e-08 & 6.759861e-08 & 3.849380e-01 & 4.703590e-43 & 8.681965e-04 & 6.141937e-01\\\\\n",
       "\t26 & 2.052747e-17 & 6.979154e-01 & 4.187949e-05 & 2.083197e-34 & 3.631306e-20 & 3.020427e-01\\\\\n",
       "\t29 & 3.113882e-18 & 1.000000e+00 & 1.245786e-18 & 7.868575e-28 & 1.719959e-15 & 9.218115e-11\\\\\n",
       "\t30 & 4.436291e-24 & 1.000000e+00 & 1.285234e-14 & 6.175788e-09 & 1.772657e-19 & 9.522632e-16\\\\\n",
       "\\end{tabular}\n"
      ],
      "text/markdown": [
       "\n",
       "A matrix: 6 × 6 of type dbl\n",
       "\n",
       "| <!--/--> | 1 | 3 | 4 | 5 | 6 | 7 |\n",
       "|---|---|---|---|---|---|---|\n",
       "| 11 | 8.812150e-01 | 1.755868e-13 | 4.047951e-11 | 6.177069e-48 | 1.187452e-01 | 3.983565e-05 |\n",
       "| 15 | 2.746631e-15 | 1.000000e+00 | 1.913958e-12 | 7.705183e-26 | 1.130487e-10 | 1.068812e-10 |\n",
       "| 24 | 8.839663e-08 | 6.759861e-08 | 3.849380e-01 | 4.703590e-43 | 8.681965e-04 | 6.141937e-01 |\n",
       "| 26 | 2.052747e-17 | 6.979154e-01 | 4.187949e-05 | 2.083197e-34 | 3.631306e-20 | 3.020427e-01 |\n",
       "| 29 | 3.113882e-18 | 1.000000e+00 | 1.245786e-18 | 7.868575e-28 | 1.719959e-15 | 9.218115e-11 |\n",
       "| 30 | 4.436291e-24 | 1.000000e+00 | 1.285234e-14 | 6.175788e-09 | 1.772657e-19 | 9.522632e-16 |\n",
       "\n"
      ],
      "text/plain": [
       "   1            3            4            5            6           \n",
       "11 8.812150e-01 1.755868e-13 4.047951e-11 6.177069e-48 1.187452e-01\n",
       "15 2.746631e-15 1.000000e+00 1.913958e-12 7.705183e-26 1.130487e-10\n",
       "24 8.839663e-08 6.759861e-08 3.849380e-01 4.703590e-43 8.681965e-04\n",
       "26 2.052747e-17 6.979154e-01 4.187949e-05 2.083197e-34 3.631306e-20\n",
       "29 3.113882e-18 1.000000e+00 1.245786e-18 7.868575e-28 1.719959e-15\n",
       "30 4.436291e-24 1.000000e+00 1.285234e-14 6.175788e-09 1.772657e-19\n",
       "   7           \n",
       "11 3.983565e-05\n",
       "15 1.068812e-10\n",
       "24 6.141937e-01\n",
       "26 3.020427e-01\n",
       "29 9.218115e-11\n",
       "30 9.522632e-16"
      ]
     },
     "metadata": {},
     "output_type": "display_data"
    },
    {
     "data": {
      "text/html": [
       "<table>\n",
       "<caption>A matrix: 3 × 5 of type dbl</caption>\n",
       "<thead>\n",
       "\t<tr><th></th><th scope=col>LD1</th><th scope=col>LD2</th><th scope=col>LD3</th><th scope=col>LD4</th><th scope=col>LD5</th></tr>\n",
       "</thead>\n",
       "<tbody>\n",
       "\t<tr><th scope=row>11</th><td>-2.923936</td><td>-0.261389</td><td>-2.264832</td><td> 0.9503677</td><td>-2.3142340</td></tr>\n",
       "\t<tr><th scope=row>15</th><td> 3.313691</td><td>-4.054841</td><td> 1.458288</td><td> 0.7897849</td><td>-0.1271137</td></tr>\n",
       "\t<tr><th scope=row>24</th><td> 1.030002</td><td> 1.419772</td><td>-2.027640</td><td>-0.1507277</td><td> 1.8464173</td></tr>\n",
       "</tbody>\n",
       "</table>\n"
      ],
      "text/latex": [
       "A matrix: 3 × 5 of type dbl\n",
       "\\begin{tabular}{r|lllll}\n",
       "  & LD1 & LD2 & LD3 & LD4 & LD5\\\\\n",
       "\\hline\n",
       "\t11 & -2.923936 & -0.261389 & -2.264832 &  0.9503677 & -2.3142340\\\\\n",
       "\t15 &  3.313691 & -4.054841 &  1.458288 &  0.7897849 & -0.1271137\\\\\n",
       "\t24 &  1.030002 &  1.419772 & -2.027640 & -0.1507277 &  1.8464173\\\\\n",
       "\\end{tabular}\n"
      ],
      "text/markdown": [
       "\n",
       "A matrix: 3 × 5 of type dbl\n",
       "\n",
       "| <!--/--> | LD1 | LD2 | LD3 | LD4 | LD5 |\n",
       "|---|---|---|---|---|---|\n",
       "| 11 | -2.923936 | -0.261389 | -2.264832 |  0.9503677 | -2.3142340 |\n",
       "| 15 |  3.313691 | -4.054841 |  1.458288 |  0.7897849 | -0.1271137 |\n",
       "| 24 |  1.030002 |  1.419772 | -2.027640 | -0.1507277 |  1.8464173 |\n",
       "\n"
      ],
      "text/plain": [
       "   LD1       LD2       LD3       LD4        LD5       \n",
       "11 -2.923936 -0.261389 -2.264832  0.9503677 -2.3142340\n",
       "15  3.313691 -4.054841  1.458288  0.7897849 -0.1271137\n",
       "24  1.030002  1.419772 -2.027640 -0.1507277  1.8464173"
      ]
     },
     "metadata": {},
     "output_type": "display_data"
    }
   ],
   "source": [
    "#raw data\n",
    "# Predicted classes\n",
    "head(predictions.raw$class, 6)\n",
    "# Predicted probabilities of class memebership.\n",
    "head(predictions.raw$posterior, 6) \n",
    "# Linear discriminants\n",
    "head(predictions.raw$x, 3)"
   ]
  },
  {
   "cell_type": "code",
   "execution_count": 20,
   "metadata": {},
   "outputs": [
    {
     "data": {
      "text/plain": [
       "Confusion Matrix and Statistics\n",
       "\n",
       "         Species\n",
       "Predicted  1  3  4  5  6  7\n",
       "        1  1  0  0  0  0  0\n",
       "        3  0  5  0  0  0  0\n",
       "        4  0  0  9  0  2  0\n",
       "        5  0  0  0  0  0  0\n",
       "        6  0  0  0  1 14  1\n",
       "        7  0  1  0  0  0  2\n",
       "\n",
       "Overall Statistics\n",
       "                                         \n",
       "               Accuracy : 0.8611         \n",
       "                 95% CI : (0.705, 0.9533)\n",
       "    No Information Rate : 0.4444         \n",
       "    P-Value [Acc > NIR] : 2.744e-07      \n",
       "                                         \n",
       "                  Kappa : 0.8002         \n",
       "                                         \n",
       " Mcnemar's Test P-Value : NA             \n",
       "\n",
       "Statistics by Class:\n",
       "\n",
       "                     Class: 1 Class: 3 Class: 4 Class: 5 Class: 6 Class: 7\n",
       "Sensitivity           1.00000   0.8333   1.0000  0.00000   0.8750  0.66667\n",
       "Specificity           1.00000   1.0000   0.9259  1.00000   0.9000  0.96970\n",
       "Pos Pred Value        1.00000   1.0000   0.8182      NaN   0.8750  0.66667\n",
       "Neg Pred Value        1.00000   0.9677   1.0000  0.97222   0.9000  0.96970\n",
       "Prevalence            0.02778   0.1667   0.2500  0.02778   0.4444  0.08333\n",
       "Detection Rate        0.02778   0.1389   0.2500  0.00000   0.3889  0.05556\n",
       "Detection Prevalence  0.02778   0.1389   0.3056  0.00000   0.4444  0.08333\n",
       "Balanced Accuracy     1.00000   0.9167   0.9630  0.50000   0.8875  0.81818"
      ]
     },
     "metadata": {},
     "output_type": "display_data"
    }
   ],
   "source": [
    "#raw data\n",
    "table.raw <- table(Predicted=predictions.raw$class, Species=test.data.raw$spec_as_int)\n",
    "confusionMatrix(table.raw)"
   ]
  },
  {
   "cell_type": "code",
   "execution_count": 21,
   "metadata": {},
   "outputs": [
    {
     "data": {
      "text/html": [
       "<style>\n",
       ".list-inline {list-style: none; margin:0; padding: 0}\n",
       ".list-inline>li {display: inline-block}\n",
       ".list-inline>li:not(:last-child)::after {content: \"\\00b7\"; padding: 0 .5ex}\n",
       "</style>\n",
       "<ol class=list-inline><li>'positive'</li><li>'table'</li><li>'overall'</li><li>'byClass'</li><li>'mode'</li><li>'dots'</li></ol>\n"
      ],
      "text/latex": [
       "\\begin{enumerate*}\n",
       "\\item 'positive'\n",
       "\\item 'table'\n",
       "\\item 'overall'\n",
       "\\item 'byClass'\n",
       "\\item 'mode'\n",
       "\\item 'dots'\n",
       "\\end{enumerate*}\n"
      ],
      "text/markdown": [
       "1. 'positive'\n",
       "2. 'table'\n",
       "3. 'overall'\n",
       "4. 'byClass'\n",
       "5. 'mode'\n",
       "6. 'dots'\n",
       "\n",
       "\n"
      ],
      "text/plain": [
       "[1] \"positive\" \"table\"    \"overall\"  \"byClass\"  \"mode\"     \"dots\"    "
      ]
     },
     "metadata": {},
     "output_type": "display_data"
    },
    {
     "data": {
      "text/html": [
       "<style>\n",
       ".list-inline {list-style: none; margin:0; padding: 0}\n",
       ".list-inline>li {display: inline-block}\n",
       ".list-inline>li:not(:last-child)::after {content: \"\\00b7\"; padding: 0 .5ex}\n",
       "</style>\n",
       "<ol class=list-inline><li>'Accuracy'</li><li>'Kappa'</li><li>'AccuracyLower'</li><li>'AccuracyUpper'</li><li>'AccuracyNull'</li><li>'AccuracyPValue'</li><li>'McnemarPValue'</li></ol>\n"
      ],
      "text/latex": [
       "\\begin{enumerate*}\n",
       "\\item 'Accuracy'\n",
       "\\item 'Kappa'\n",
       "\\item 'AccuracyLower'\n",
       "\\item 'AccuracyUpper'\n",
       "\\item 'AccuracyNull'\n",
       "\\item 'AccuracyPValue'\n",
       "\\item 'McnemarPValue'\n",
       "\\end{enumerate*}\n"
      ],
      "text/markdown": [
       "1. 'Accuracy'\n",
       "2. 'Kappa'\n",
       "3. 'AccuracyLower'\n",
       "4. 'AccuracyUpper'\n",
       "5. 'AccuracyNull'\n",
       "6. 'AccuracyPValue'\n",
       "7. 'McnemarPValue'\n",
       "\n",
       "\n"
      ],
      "text/plain": [
       "[1] \"Accuracy\"       \"Kappa\"          \"AccuracyLower\"  \"AccuracyUpper\" \n",
       "[5] \"AccuracyNull\"   \"AccuracyPValue\" \"McnemarPValue\" "
      ]
     },
     "metadata": {},
     "output_type": "display_data"
    }
   ],
   "source": [
    "#missMDA data\n",
    "table.impute <- table(Predicted=predictions.impute$class, Species=test.data.impute$spec_as_int)\n",
    "con <- confusionMatrix(table.impute)\n",
    "names(con)\n",
    "names(con$overall)"
   ]
  },
  {
   "cell_type": "code",
   "execution_count": 22,
   "metadata": {},
   "outputs": [
    {
     "data": {
      "text/plain": [
       "Confusion Matrix and Statistics\n",
       "\n",
       "         Species\n",
       "Predicted  1  3  4  5  6  7\n",
       "        1  2  0  0  1  0  0\n",
       "        3  0  4  0  0  0  0\n",
       "        4  0  0  6  0  1  0\n",
       "        5  0  0  0  0  0  0\n",
       "        6  0  2  0  0 11  2\n",
       "        7  0  1  0  0  1  5\n",
       "\n",
       "Overall Statistics\n",
       "                                          \n",
       "               Accuracy : 0.7778          \n",
       "                 95% CI : (0.6085, 0.8988)\n",
       "    No Information Rate : 0.3611          \n",
       "    P-Value [Acc > NIR] : 4.071e-07       \n",
       "                                          \n",
       "                  Kappa : 0.7049          \n",
       "                                          \n",
       " Mcnemar's Test P-Value : NA              \n",
       "\n",
       "Statistics by Class:\n",
       "\n",
       "                     Class: 1 Class: 3 Class: 4 Class: 5 Class: 6 Class: 7\n",
       "Sensitivity           1.00000   0.5714   1.0000  0.00000   0.8462   0.7143\n",
       "Specificity           0.97059   1.0000   0.9667  1.00000   0.8261   0.9310\n",
       "Pos Pred Value        0.66667   1.0000   0.8571      NaN   0.7333   0.7143\n",
       "Neg Pred Value        1.00000   0.9062   1.0000  0.97222   0.9048   0.9310\n",
       "Prevalence            0.05556   0.1944   0.1667  0.02778   0.3611   0.1944\n",
       "Detection Rate        0.05556   0.1111   0.1667  0.00000   0.3056   0.1389\n",
       "Detection Prevalence  0.08333   0.1111   0.1944  0.00000   0.4167   0.1944\n",
       "Balanced Accuracy     0.98529   0.7857   0.9833  0.50000   0.8361   0.8227"
      ]
     },
     "metadata": {},
     "output_type": "display_data"
    }
   ],
   "source": [
    "#mice data\n",
    "table <- table(Predicted=predictions$class, Species=test.data$spec_as_int)\n",
    "confusionMatrix(table)"
   ]
  }
 ],
 "metadata": {
  "kernelspec": {
   "display_name": "R",
   "language": "R",
   "name": "ir"
  },
  "language_info": {
   "codemirror_mode": "r",
   "file_extension": ".r",
   "mimetype": "text/x-r-source",
   "name": "R",
   "pygments_lexer": "r",
   "version": "3.6.3"
  }
 },
 "nbformat": 4,
 "nbformat_minor": 4
}
