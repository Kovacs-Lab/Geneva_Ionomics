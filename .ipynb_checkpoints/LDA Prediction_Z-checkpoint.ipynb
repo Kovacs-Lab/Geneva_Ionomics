{
 "cells": [
  {
   "cell_type": "code",
   "execution_count": 1,
   "metadata": {},
   "outputs": [
    {
     "name": "stderr",
     "output_type": "stream",
     "text": [
      "Installing package into 'C:/Users/2198K/Documents/R/win-library/3.6'\n",
      "(as 'lib' is unspecified)\n",
      "\n"
     ]
    },
    {
     "name": "stdout",
     "output_type": "stream",
     "text": [
      "package 'MASS' successfully unpacked and MD5 sums checked\n"
     ]
    },
    {
     "name": "stderr",
     "output_type": "stream",
     "text": [
      "Warning message:\n",
      "\"cannot remove prior installation of package 'MASS'\"\n",
      "Warning message in file.copy(savedcopy, lib, recursive = TRUE):\n",
      "\"problem copying C:\\Users\\2198K\\Documents\\R\\win-library\\3.6\\00LOCK\\MASS\\libs\\x64\\MASS.dll to C:\\Users\\2198K\\Documents\\R\\win-library\\3.6\\MASS\\libs\\x64\\MASS.dll: Permission denied\"\n",
      "Warning message:\n",
      "\"restored 'MASS'\"\n"
     ]
    },
    {
     "name": "stdout",
     "output_type": "stream",
     "text": [
      "\n",
      "The downloaded binary packages are in\n",
      "\tC:\\Users\\2198K\\AppData\\Local\\Temp\\RtmpwvxwZw\\downloaded_packages\n"
     ]
    },
    {
     "name": "stderr",
     "output_type": "stream",
     "text": [
      "Installing package into 'C:/Users/2198K/Documents/R/win-library/3.6'\n",
      "(as 'lib' is unspecified)\n",
      "\n"
     ]
    },
    {
     "name": "stdout",
     "output_type": "stream",
     "text": [
      "package 'missMDA' successfully unpacked and MD5 sums checked\n",
      "\n",
      "The downloaded binary packages are in\n",
      "\tC:\\Users\\2198K\\AppData\\Local\\Temp\\RtmpwvxwZw\\downloaded_packages\n"
     ]
    },
    {
     "name": "stderr",
     "output_type": "stream",
     "text": [
      "Installing package into 'C:/Users/2198K/Documents/R/win-library/3.6'\n",
      "(as 'lib' is unspecified)\n",
      "\n"
     ]
    },
    {
     "name": "stdout",
     "output_type": "stream",
     "text": [
      "package 'tidyverse' successfully unpacked and MD5 sums checked\n",
      "\n",
      "The downloaded binary packages are in\n",
      "\tC:\\Users\\2198K\\AppData\\Local\\Temp\\RtmpwvxwZw\\downloaded_packages\n"
     ]
    },
    {
     "name": "stderr",
     "output_type": "stream",
     "text": [
      "-- \u001b[1mAttaching packages\u001b[22m --------------------------------------- tidyverse 1.3.0 --\n",
      "\n",
      "\u001b[32mv\u001b[39m \u001b[34mggplot2\u001b[39m 3.2.1     \u001b[32mv\u001b[39m \u001b[34mpurrr  \u001b[39m 0.3.3\n",
      "\u001b[32mv\u001b[39m \u001b[34mtibble \u001b[39m 2.1.3     \u001b[32mv\u001b[39m \u001b[34mdplyr  \u001b[39m 0.8.4\n",
      "\u001b[32mv\u001b[39m \u001b[34mtidyr  \u001b[39m 1.0.2     \u001b[32mv\u001b[39m \u001b[34mstringr\u001b[39m 1.4.0\n",
      "\u001b[32mv\u001b[39m \u001b[34mreadr  \u001b[39m 1.3.1     \u001b[32mv\u001b[39m \u001b[34mforcats\u001b[39m 0.4.0\n",
      "\n",
      "-- \u001b[1mConflicts\u001b[22m ------------------------------------------ tidyverse_conflicts() --\n",
      "\u001b[31mx\u001b[39m \u001b[34mdplyr\u001b[39m::\u001b[32mfilter()\u001b[39m masks \u001b[34mstats\u001b[39m::filter()\n",
      "\u001b[31mx\u001b[39m \u001b[34mdplyr\u001b[39m::\u001b[32mlag()\u001b[39m    masks \u001b[34mstats\u001b[39m::lag()\n",
      "\u001b[31mx\u001b[39m \u001b[34mdplyr\u001b[39m::\u001b[32mselect()\u001b[39m masks \u001b[34mMASS\u001b[39m::select()\n",
      "\n",
      "Installing package into 'C:/Users/2198K/Documents/R/win-library/3.6'\n",
      "(as 'lib' is unspecified)\n",
      "\n"
     ]
    },
    {
     "name": "stdout",
     "output_type": "stream",
     "text": [
      "package 'caret' successfully unpacked and MD5 sums checked\n"
     ]
    },
    {
     "name": "stderr",
     "output_type": "stream",
     "text": [
      "Warning message:\n",
      "\"cannot remove prior installation of package 'caret'\"\n",
      "Warning message in file.copy(savedcopy, lib, recursive = TRUE):\n",
      "\"problem copying C:\\Users\\2198K\\Documents\\R\\win-library\\3.6\\00LOCK\\caret\\libs\\x64\\caret.dll to C:\\Users\\2198K\\Documents\\R\\win-library\\3.6\\caret\\libs\\x64\\caret.dll: Permission denied\"\n",
      "Warning message:\n",
      "\"restored 'caret'\"\n"
     ]
    },
    {
     "name": "stdout",
     "output_type": "stream",
     "text": [
      "\n",
      "The downloaded binary packages are in\n",
      "\tC:\\Users\\2198K\\AppData\\Local\\Temp\\RtmpwvxwZw\\downloaded_packages\n"
     ]
    },
    {
     "name": "stderr",
     "output_type": "stream",
     "text": [
      "Loading required package: lattice\n",
      "\n",
      "\n",
      "Attaching package: 'caret'\n",
      "\n",
      "\n",
      "The following object is masked from 'package:purrr':\n",
      "\n",
      "    lift\n",
      "\n",
      "\n",
      "Installing package into 'C:/Users/2198K/Documents/R/win-library/3.6'\n",
      "(as 'lib' is unspecified)\n",
      "\n"
     ]
    },
    {
     "name": "stdout",
     "output_type": "stream",
     "text": [
      "package 'mltest' successfully unpacked and MD5 sums checked\n",
      "\n",
      "The downloaded binary packages are in\n",
      "\tC:\\Users\\2198K\\AppData\\Local\\Temp\\RtmpwvxwZw\\downloaded_packages\n"
     ]
    }
   ],
   "source": [
    "install.packages(\"MASS\")\n",
    "library(\"MASS\")\n",
    "install.packages(\"missMDA\")\n",
    "library(\"missMDA\")\n",
    "install.packages(\"tidyverse\")\n",
    "library(\"tidyverse\")\n",
    "install.packages(\"caret\")\n",
    "library(\"caret\")\n",
    "install.packages(\"mltest\")\n",
    "library(\"mltest\")"
   ]
  },
  {
   "cell_type": "code",
   "execution_count": 2,
   "metadata": {},
   "outputs": [],
   "source": [
    "ionomics <- read.csv('geneva_z_raw_spec_as_int.csv',colClasses =c(\"NULL\",\"NULL\",NA,NA,NA,NA,NA,NA,NA,NA,NA,NA,NA,NA,NA,\n",
    "                                                                    NA,NA,NA,NA,NA,NA,NA))\n",
    "ionomics <- imputePCA(ionomics, method = \"Regularized\")"
   ]
  },
  {
   "cell_type": "code",
   "execution_count": 3,
   "metadata": {},
   "outputs": [],
   "source": [
    "# Split the data into training (80%) and test set (20%)\n",
    "set.seed(123)\n",
    "training.samples <- ionomics$completeObs[,2] %>%\n",
    "  createDataPartition(p = 0.8, list = FALSE)\n",
    "train.data <- ionomics$completeObs[training.samples, ]\n",
    "test.data <- ionomics$completeObs[-training.samples, ]\n",
    "train.data <- unlist(test.data)\n",
    "test.data <- unlist(test.data)\n",
    "train.data <- as.data.frame(train.data)\n",
    "test.data <- as.data.frame(test.data)"
   ]
  },
  {
   "cell_type": "code",
   "execution_count": 4,
   "metadata": {},
   "outputs": [
    {
     "data": {
      "text/html": [
       "1"
      ],
      "text/latex": [
       "1"
      ],
      "text/markdown": [
       "1"
      ],
      "text/plain": [
       "[1] 1"
      ]
     },
     "metadata": {},
     "output_type": "display_data"
    },
    {
     "data": {
      "text/plain": [
       "Call:\n",
       "lda(spec_as_int ~ ., data = train.data)\n",
       "\n",
       "Prior probabilities of groups:\n",
       "               1                2                3                4 \n",
       "           0.100            0.025            0.050            0.200 \n",
       "4.90789655922678                5 5.85548473824783                6 \n",
       "           0.025            0.025            0.025            0.300 \n",
       "               7                8 \n",
       "           0.200            0.050 \n",
       "\n",
       "Group means:\n",
       "                       B11      Na23     Mg26     Al27      P31      S34\n",
       "1                 74.18365 206.75657 3731.266 29.55959 4090.389 2629.371\n",
       "2                 59.49180  34.70580 3283.232 18.63535 2766.994 2498.696\n",
       "3                 63.47636  73.23027 3246.596 28.17874 5386.697 5836.593\n",
       "4                 67.46345  91.90628 5196.753 33.54406 3518.611 3261.400\n",
       "4.90789655922678  96.87711  86.44685 2626.497 61.48693 3484.450 3046.530\n",
       "5                 28.79036 106.78758 1939.143 24.93525 5330.287 2565.462\n",
       "5.85548473824783  68.14979  50.61797 3978.041 13.57275 3208.378 2040.305\n",
       "6                 86.88649  95.66457 3010.758 23.73803 3992.018 2813.282\n",
       "7                109.01171  64.70693 3404.544 15.39128 3823.287 1987.900\n",
       "8                 80.23340  52.40692 2889.985 20.83995 3648.376 1811.120\n",
       "                       K39      Ca44      Fe54      Mn55      Co59      Ni60\n",
       "1                 6871.163 24522.679  86.23596 1028.5922 0.3230638 0.6795332\n",
       "2                 6594.563 17216.645  85.27652  315.3817 0.1255028 0.6927337\n",
       "3                 9154.741 35700.835 126.56609 1053.0634 0.3593945 2.4129973\n",
       "4                 9162.229 23594.607  96.97571  838.0579 0.3013929 1.2990195\n",
       "4.90789655922678 14202.029 17024.105  66.20433  834.4575 0.2878340 0.6287873\n",
       "5                15767.409  4741.776  46.03824  550.7321 0.2916546 3.8184227\n",
       "5.85548473824783  9696.675 26987.911  64.03253  489.5104 0.1861398 0.5074253\n",
       "6                12345.680 24428.630 112.56935  833.7237 0.2797418 0.5928315\n",
       "7                 8835.338 17671.813  62.95253  553.1378 0.1873636 0.5084861\n",
       "8                 9065.741 15525.033  99.77583  426.1116 0.1618765 0.4716098\n",
       "                      Cu63      Zn66        As75      Rb85      Sr88       Mo98\n",
       "1                 21.95513 160.40432 0.026372610 1.7435910 36.844493 0.35617073\n",
       "2                 30.83021 103.21192 0.034358897 0.4205339 20.185110 0.06209028\n",
       "3                129.27539 218.05508 0.019756479 0.5534546 41.763971 2.11582110\n",
       "4                 54.51375 186.05214 0.039501839 0.8670768 29.474774 0.06655054\n",
       "4.90789655922678  58.03672 150.27507 0.028656141 1.5714613 15.964553 0.09903263\n",
       "5                 35.46865 100.93840 0.027616141 1.9936574  5.167913 0.13939198\n",
       "5.85548473824783  25.58887 108.43868 0.007301076 0.7140115 32.160224 0.62191882\n",
       "6                 23.66889 148.36373 0.019016096 1.2773875 28.728380 0.44758410\n",
       "7                 30.21637 108.90944 0.012586688 1.6982663 24.093367 0.45321526\n",
       "8                 43.78237  93.77975 0.015407061 0.8040314 16.354421 0.39272745\n",
       "                      Cd111\n",
       "1                0.03952544\n",
       "2                0.05422547\n",
       "3                0.06776853\n",
       "4                0.05125920\n",
       "4.90789655922678 0.02759997\n",
       "5                0.02293896\n",
       "5.85548473824783 0.02793562\n",
       "6                0.02752028\n",
       "7                0.03509645\n",
       "8                0.03535680\n",
       "\n",
       "Coefficients of linear discriminants:\n",
       "                LD1           LD2           LD3           LD4           LD5\n",
       "B11   -3.837610e-02 -3.840111e-03  1.862337e-02  1.365462e-03  4.261425e-02\n",
       "Na23   4.244569e-03 -3.123262e-04 -2.151221e-03  3.548653e-02 -6.239808e-03\n",
       "Mg26  -3.410589e-04 -9.593961e-04  3.254533e-05  2.925118e-04  2.285895e-04\n",
       "Al27  -1.424975e-02  4.664475e-03  1.995006e-02  3.633769e-02  4.937586e-02\n",
       "P31    1.939471e-04  1.010797e-04 -2.616800e-04  2.394459e-04  3.238222e-04\n",
       "S34    1.889496e-04 -1.238940e-03 -4.726883e-04 -1.464908e-03  1.186900e-04\n",
       "K39    2.516109e-05  1.271855e-04  7.821552e-06 -9.348544e-05 -8.121135e-05\n",
       "Ca44  -7.396319e-05  5.243278e-05  1.216486e-04  1.330130e-05 -1.781775e-04\n",
       "Fe54  -1.428797e-02  3.080836e-02 -5.846152e-03 -1.035042e-02 -1.267868e-02\n",
       "Mn55  -2.760984e-03  1.362483e-03 -9.101793e-04  3.721103e-03 -1.295969e-03\n",
       "Co59   7.835552e+00 -7.359448e+00 -2.484403e+00 -9.844786e+00  6.817057e+00\n",
       "Ni60   4.313454e+00  1.095859e+00 -3.891223e+00  7.500216e-02  7.549527e-01\n",
       "Cu63   4.323428e-02 -7.505456e-02  1.069096e-01  1.650874e-02  2.632306e-02\n",
       "Zn66   1.159184e-02  6.067927e-03  5.686745e-03 -1.037859e-02 -8.738586e-03\n",
       "As75  -3.988442e+01 -2.315418e+01 -1.579784e+01 -1.562373e+01 -6.015951e+01\n",
       "Rb85  -6.123248e-02  8.418602e-02  3.094050e-01  4.441312e-01  2.218078e-01\n",
       "Sr88   7.142692e-02  1.414031e-03 -2.790403e-02 -2.236869e-03  3.167588e-02\n",
       "Mo98   6.666730e+00  5.302747e+00  1.321170e+00  1.751924e+00 -6.656574e-01\n",
       "Cd111  3.223163e+01 -4.356845e+01  4.544380e+00  4.741319e+01 -1.682380e+01\n",
       "                LD6           LD7           LD8           LD9\n",
       "B11    1.101091e-02 -1.206653e-02  0.0219817486 -1.348617e-02\n",
       "Na23  -6.017762e-03  1.777551e-02  0.0123969268 -1.462472e-03\n",
       "Mg26   2.129694e-04 -4.460799e-04  0.0002375473  4.396480e-04\n",
       "Al27  -8.635691e-02  1.587186e-02 -0.0405297491 -1.689532e-02\n",
       "P31   -2.855803e-05 -8.709457e-05  0.0002265642  6.761193e-06\n",
       "S34    2.422088e-04 -1.442309e-04  0.0003072622 -1.188321e-03\n",
       "K39   -5.465680e-05  5.501380e-05  0.0001193725 -4.784024e-05\n",
       "Ca44  -5.111553e-05  7.042142e-05 -0.0001204774 -2.064666e-05\n",
       "Fe54   4.947049e-03  1.116649e-02  0.0340296301  9.443128e-03\n",
       "Mn55  -2.857005e-03  9.602991e-04  0.0022732810  8.060794e-04\n",
       "Co59   6.633700e+00 -1.939737e+01 -7.0093579342  1.094858e+01\n",
       "Ni60   1.734850e-01  7.843408e-02 -0.0875877099 -9.570570e-02\n",
       "Cu63  -3.719789e-02  1.300195e-02  0.0272454591  3.073123e-02\n",
       "Zn66   3.907306e-03 -1.401328e-02 -0.0123523575 -2.970140e-03\n",
       "As75   5.583504e+01  2.959967e+01  8.0566620878 -4.364374e+01\n",
       "Rb85   4.157477e-01 -4.281665e-01  0.1855206528 -4.494893e-01\n",
       "Sr88   2.084237e-02 -4.303440e-02 -0.0028223096 -2.147119e-02\n",
       "Mo98   1.362380e+00  2.018209e-02 -0.9157267494  6.474734e-02\n",
       "Cd111  3.755964e+01  3.193168e+01 18.7258924693 -2.428289e+01\n",
       "\n",
       "Proportion of trace:\n",
       "   LD1    LD2    LD3    LD4    LD5    LD6    LD7    LD8    LD9 \n",
       "0.6130 0.1511 0.1252 0.0497 0.0341 0.0124 0.0081 0.0038 0.0025 "
      ]
     },
     "metadata": {},
     "output_type": "display_data"
    }
   ],
   "source": [
    "# Fit the model\n",
    "model <- lda(spec_as_int~., data = train.data)\n",
    "# Make predictions\n",
    "predictions <- model %>% predict(test.data)\n",
    "# Model accuracy\n",
    "mean(predictions$class==test.data$spec_as_int)\n",
    "model"
   ]
  },
  {
   "cell_type": "code",
   "execution_count": 5,
   "metadata": {},
   "outputs": [
    {
     "data": {
      "image/png": "[encoded data removed]",
      "text/plain": [
       "plot without title"
      ]
     },
     "metadata": {
      "image/png": {
       "height": 420,
       "width": 420
      },
      "text/plain": {
       "height": 420,
       "width": 420
      }
     },
     "output_type": "display_data"
    }
   ],
   "source": [
    "plot(model)"
   ]
  },
  {
   "cell_type": "code",
   "execution_count": 6,
   "metadata": {},
   "outputs": [
    {
     "data": {
      "text/html": [
       "<style>\n",
       ".list-inline {list-style: none; margin:0; padding: 0}\n",
       ".list-inline>li {display: inline-block}\n",
       ".list-inline>li:not(:last-child)::after {content: \"\\00b7\"; padding: 0 .5ex}\n",
       "</style>\n",
       "<ol class=list-inline><li>1</li><li>1</li><li>1</li><li>1</li><li>2</li><li>3</li></ol>\n",
       "\n",
       "<details>\n",
       "\t<summary style=display:list-item;cursor:pointer>\n",
       "\t\t<strong>Levels</strong>:\n",
       "\t</summary>\n",
       "\t<style>\n",
       "\t.list-inline {list-style: none; margin:0; padding: 0}\n",
       "\t.list-inline>li {display: inline-block}\n",
       "\t.list-inline>li:not(:last-child)::after {content: \"\\00b7\"; padding: 0 .5ex}\n",
       "\t</style>\n",
       "\t<ol class=list-inline><li>'1'</li><li>'2'</li><li>'3'</li><li>'4'</li><li>'4.90789655922678'</li><li>'5'</li><li>'5.85548473824783'</li><li>'6'</li><li>'7'</li><li>'8'</li></ol>\n",
       "</details>"
      ],
      "text/latex": [
       "\\begin{enumerate*}\n",
       "\\item 1\n",
       "\\item 1\n",
       "\\item 1\n",
       "\\item 1\n",
       "\\item 2\n",
       "\\item 3\n",
       "\\end{enumerate*}\n",
       "\n",
       "\\emph{Levels}: \\begin{enumerate*}\n",
       "\\item '1'\n",
       "\\item '2'\n",
       "\\item '3'\n",
       "\\item '4'\n",
       "\\item '4.90789655922678'\n",
       "\\item '5'\n",
       "\\item '5.85548473824783'\n",
       "\\item '6'\n",
       "\\item '7'\n",
       "\\item '8'\n",
       "\\end{enumerate*}\n"
      ],
      "text/markdown": [
       "1. 1\n",
       "2. 1\n",
       "3. 1\n",
       "4. 1\n",
       "5. 2\n",
       "6. 3\n",
       "\n",
       "\n",
       "\n",
       "**Levels**: 1. '1'\n",
       "2. '2'\n",
       "3. '3'\n",
       "4. '4'\n",
       "5. '4.90789655922678'\n",
       "6. '5'\n",
       "7. '5.85548473824783'\n",
       "8. '6'\n",
       "9. '7'\n",
       "10. '8'\n",
       "\n",
       "\n"
      ],
      "text/plain": [
       "[1] 1 1 1 1 2 3\n",
       "Levels: 1 2 3 4 4.90789655922678 5 5.85548473824783 6 7 8"
      ]
     },
     "metadata": {},
     "output_type": "display_data"
    },
    {
     "data": {
      "text/html": [
       "<table>\n",
       "<caption>A matrix: 6 × 10 of type dbl</caption>\n",
       "<thead>\n",
       "\t<tr><th></th><th scope=col>1</th><th scope=col>2</th><th scope=col>3</th><th scope=col>4</th><th scope=col>4.90789655922678</th><th scope=col>5</th><th scope=col>5.85548473824783</th><th scope=col>6</th><th scope=col>7</th><th scope=col>8</th></tr>\n",
       "</thead>\n",
       "<tbody>\n",
       "\t<tr><th scope=row>1</th><td> 1.000000e+00</td><td> 1.417229e-23</td><td>9.545597e-160</td><td> 4.289782e-18</td><td> 4.880297e-28</td><td>3.379713e-102</td><td> 1.344975e-14</td><td> 1.516185e-12</td><td> 8.232394e-12</td><td> 3.732887e-16</td></tr>\n",
       "\t<tr><th scope=row>2</th><td> 9.999951e-01</td><td> 3.428017e-14</td><td>4.908604e-159</td><td> 4.427412e-07</td><td> 1.507363e-18</td><td>6.786018e-107</td><td> 2.214693e-12</td><td> 1.887571e-10</td><td> 4.461824e-06</td><td> 1.567339e-08</td></tr>\n",
       "\t<tr><th scope=row>3</th><td> 9.999761e-01</td><td> 1.409951e-15</td><td>7.523395e-150</td><td> 8.706285e-14</td><td> 8.293173e-21</td><td> 1.177920e-87</td><td> 1.205368e-07</td><td> 2.356893e-05</td><td> 1.955065e-07</td><td> 1.107994e-09</td></tr>\n",
       "\t<tr><th scope=row>4</th><td> 1.000000e+00</td><td> 4.913734e-23</td><td>4.066361e-173</td><td> 7.504297e-22</td><td> 1.040468e-33</td><td>2.900775e-102</td><td> 8.006442e-18</td><td> 5.751304e-14</td><td> 9.740535e-15</td><td> 1.613261e-17</td></tr>\n",
       "\t<tr><th scope=row>5</th><td> 6.853269e-18</td><td> 1.000000e+00</td><td>1.296610e-187</td><td> 5.734291e-09</td><td> 1.918020e-20</td><td>5.263137e-120</td><td> 1.794198e-14</td><td> 2.523435e-11</td><td> 1.793493e-11</td><td> 1.513113e-10</td></tr>\n",
       "\t<tr><th scope=row>6</th><td>4.782798e-169</td><td>3.067875e-196</td><td> 1.000000e+00</td><td>3.928893e-156</td><td>1.286969e-201</td><td>1.917367e-125</td><td>1.357643e-152</td><td>3.904416e-174</td><td>6.259293e-176</td><td>5.000016e-175</td></tr>\n",
       "</tbody>\n",
       "</table>\n"
      ],
      "text/latex": [
       "A matrix: 6 × 10 of type dbl\n",
       "\\begin{tabular}{r|llllllllll}\n",
       "  & 1 & 2 & 3 & 4 & 4.90789655922678 & 5 & 5.85548473824783 & 6 & 7 & 8\\\\\n",
       "\\hline\n",
       "\t1 &  1.000000e+00 &  1.417229e-23 & 9.545597e-160 &  4.289782e-18 &  4.880297e-28 & 3.379713e-102 &  1.344975e-14 &  1.516185e-12 &  8.232394e-12 &  3.732887e-16\\\\\n",
       "\t2 &  9.999951e-01 &  3.428017e-14 & 4.908604e-159 &  4.427412e-07 &  1.507363e-18 & 6.786018e-107 &  2.214693e-12 &  1.887571e-10 &  4.461824e-06 &  1.567339e-08\\\\\n",
       "\t3 &  9.999761e-01 &  1.409951e-15 & 7.523395e-150 &  8.706285e-14 &  8.293173e-21 &  1.177920e-87 &  1.205368e-07 &  2.356893e-05 &  1.955065e-07 &  1.107994e-09\\\\\n",
       "\t4 &  1.000000e+00 &  4.913734e-23 & 4.066361e-173 &  7.504297e-22 &  1.040468e-33 & 2.900775e-102 &  8.006442e-18 &  5.751304e-14 &  9.740535e-15 &  1.613261e-17\\\\\n",
       "\t5 &  6.853269e-18 &  1.000000e+00 & 1.296610e-187 &  5.734291e-09 &  1.918020e-20 & 5.263137e-120 &  1.794198e-14 &  2.523435e-11 &  1.793493e-11 &  1.513113e-10\\\\\n",
       "\t6 & 4.782798e-169 & 3.067875e-196 &  1.000000e+00 & 3.928893e-156 & 1.286969e-201 & 1.917367e-125 & 1.357643e-152 & 3.904416e-174 & 6.259293e-176 & 5.000016e-175\\\\\n",
       "\\end{tabular}\n"
      ],
      "text/markdown": [
       "\n",
       "A matrix: 6 × 10 of type dbl\n",
       "\n",
       "| <!--/--> | 1 | 2 | 3 | 4 | 4.90789655922678 | 5 | 5.85548473824783 | 6 | 7 | 8 |\n",
       "|---|---|---|---|---|---|---|---|---|---|---|\n",
       "| 1 |  1.000000e+00 |  1.417229e-23 | 9.545597e-160 |  4.289782e-18 |  4.880297e-28 | 3.379713e-102 |  1.344975e-14 |  1.516185e-12 |  8.232394e-12 |  3.732887e-16 |\n",
       "| 2 |  9.999951e-01 |  3.428017e-14 | 4.908604e-159 |  4.427412e-07 |  1.507363e-18 | 6.786018e-107 |  2.214693e-12 |  1.887571e-10 |  4.461824e-06 |  1.567339e-08 |\n",
       "| 3 |  9.999761e-01 |  1.409951e-15 | 7.523395e-150 |  8.706285e-14 |  8.293173e-21 |  1.177920e-87 |  1.205368e-07 |  2.356893e-05 |  1.955065e-07 |  1.107994e-09 |\n",
       "| 4 |  1.000000e+00 |  4.913734e-23 | 4.066361e-173 |  7.504297e-22 |  1.040468e-33 | 2.900775e-102 |  8.006442e-18 |  5.751304e-14 |  9.740535e-15 |  1.613261e-17 |\n",
       "| 5 |  6.853269e-18 |  1.000000e+00 | 1.296610e-187 |  5.734291e-09 |  1.918020e-20 | 5.263137e-120 |  1.794198e-14 |  2.523435e-11 |  1.793493e-11 |  1.513113e-10 |\n",
       "| 6 | 4.782798e-169 | 3.067875e-196 |  1.000000e+00 | 3.928893e-156 | 1.286969e-201 | 1.917367e-125 | 1.357643e-152 | 3.904416e-174 | 6.259293e-176 | 5.000016e-175 |\n",
       "\n"
      ],
      "text/plain": [
       "  1             2             3             4             4.90789655922678\n",
       "1  1.000000e+00  1.417229e-23 9.545597e-160  4.289782e-18  4.880297e-28   \n",
       "2  9.999951e-01  3.428017e-14 4.908604e-159  4.427412e-07  1.507363e-18   \n",
       "3  9.999761e-01  1.409951e-15 7.523395e-150  8.706285e-14  8.293173e-21   \n",
       "4  1.000000e+00  4.913734e-23 4.066361e-173  7.504297e-22  1.040468e-33   \n",
       "5  6.853269e-18  1.000000e+00 1.296610e-187  5.734291e-09  1.918020e-20   \n",
       "6 4.782798e-169 3.067875e-196  1.000000e+00 3.928893e-156 1.286969e-201   \n",
       "  5             5.85548473824783 6             7             8            \n",
       "1 3.379713e-102  1.344975e-14     1.516185e-12  8.232394e-12  3.732887e-16\n",
       "2 6.786018e-107  2.214693e-12     1.887571e-10  4.461824e-06  1.567339e-08\n",
       "3  1.177920e-87  1.205368e-07     2.356893e-05  1.955065e-07  1.107994e-09\n",
       "4 2.900775e-102  8.006442e-18     5.751304e-14  9.740535e-15  1.613261e-17\n",
       "5 5.263137e-120  1.794198e-14     2.523435e-11  1.793493e-11  1.513113e-10\n",
       "6 1.917367e-125 1.357643e-152    3.904416e-174 6.259293e-176 5.000016e-175"
      ]
     },
     "metadata": {},
     "output_type": "display_data"
    },
    {
     "data": {
      "text/html": [
       "<table>\n",
       "<caption>A matrix: 3 × 9 of type dbl</caption>\n",
       "<thead>\n",
       "\t<tr><th></th><th scope=col>LD1</th><th scope=col>LD2</th><th scope=col>LD3</th><th scope=col>LD4</th><th scope=col>LD5</th><th scope=col>LD6</th><th scope=col>LD7</th><th scope=col>LD8</th><th scope=col>LD9</th></tr>\n",
       "</thead>\n",
       "<tbody>\n",
       "\t<tr><th scope=row>1</th><td>-0.9391016</td><td> 0.5550457</td><td>-1.3359130</td><td>5.892190</td><td>-1.4905347</td><td>-0.3544128</td><td>-0.68713248</td><td>-0.3871725</td><td>-0.4149745</td></tr>\n",
       "\t<tr><th scope=row>2</th><td>-1.3650374</td><td>-2.0172331</td><td>-0.3477565</td><td>4.209508</td><td>-0.7356856</td><td> 0.3714626</td><td>-0.01182016</td><td> 1.0856227</td><td> 1.3095241</td></tr>\n",
       "\t<tr><th scope=row>3</th><td>-0.4694428</td><td> 1.3180290</td><td>-1.7756612</td><td>3.224673</td><td>-0.8745354</td><td>-1.3662456</td><td> 0.56682769</td><td>-0.9370512</td><td>-1.1891349</td></tr>\n",
       "</tbody>\n",
       "</table>\n"
      ],
      "text/latex": [
       "A matrix: 3 × 9 of type dbl\n",
       "\\begin{tabular}{r|lllllllll}\n",
       "  & LD1 & LD2 & LD3 & LD4 & LD5 & LD6 & LD7 & LD8 & LD9\\\\\n",
       "\\hline\n",
       "\t1 & -0.9391016 &  0.5550457 & -1.3359130 & 5.892190 & -1.4905347 & -0.3544128 & -0.68713248 & -0.3871725 & -0.4149745\\\\\n",
       "\t2 & -1.3650374 & -2.0172331 & -0.3477565 & 4.209508 & -0.7356856 &  0.3714626 & -0.01182016 &  1.0856227 &  1.3095241\\\\\n",
       "\t3 & -0.4694428 &  1.3180290 & -1.7756612 & 3.224673 & -0.8745354 & -1.3662456 &  0.56682769 & -0.9370512 & -1.1891349\\\\\n",
       "\\end{tabular}\n"
      ],
      "text/markdown": [
       "\n",
       "A matrix: 3 × 9 of type dbl\n",
       "\n",
       "| <!--/--> | LD1 | LD2 | LD3 | LD4 | LD5 | LD6 | LD7 | LD8 | LD9 |\n",
       "|---|---|---|---|---|---|---|---|---|---|\n",
       "| 1 | -0.9391016 |  0.5550457 | -1.3359130 | 5.892190 | -1.4905347 | -0.3544128 | -0.68713248 | -0.3871725 | -0.4149745 |\n",
       "| 2 | -1.3650374 | -2.0172331 | -0.3477565 | 4.209508 | -0.7356856 |  0.3714626 | -0.01182016 |  1.0856227 |  1.3095241 |\n",
       "| 3 | -0.4694428 |  1.3180290 | -1.7756612 | 3.224673 | -0.8745354 | -1.3662456 |  0.56682769 | -0.9370512 | -1.1891349 |\n",
       "\n"
      ],
      "text/plain": [
       "  LD1        LD2        LD3        LD4      LD5        LD6        LD7        \n",
       "1 -0.9391016  0.5550457 -1.3359130 5.892190 -1.4905347 -0.3544128 -0.68713248\n",
       "2 -1.3650374 -2.0172331 -0.3477565 4.209508 -0.7356856  0.3714626 -0.01182016\n",
       "3 -0.4694428  1.3180290 -1.7756612 3.224673 -0.8745354 -1.3662456  0.56682769\n",
       "  LD8        LD9       \n",
       "1 -0.3871725 -0.4149745\n",
       "2  1.0856227  1.3095241\n",
       "3 -0.9370512 -1.1891349"
      ]
     },
     "metadata": {},
     "output_type": "display_data"
    }
   ],
   "source": [
    "# Predicted classes\n",
    "head(predictions$class, 6)\n",
    "# Predicted probabilities of class memebership.\n",
    "head(predictions$posterior, 6) \n",
    "# Linear discriminants\n",
    "head(predictions$x, 3) "
   ]
  },
  {
   "cell_type": "code",
   "execution_count": 7,
   "metadata": {},
   "outputs": [
    {
     "name": "stdout",
     "output_type": "stream",
     "text": [
      "Confusion Matrix and Statistics\n",
      "\n",
      "                  Species\n",
      "Predicted           1  2  3  4 4.90789655922678  5 5.85548473824783  6  7  8\n",
      "  1                 4  0  0  0                0  0                0  0  0  0\n",
      "  2                 0  1  0  0                0  0                0  0  0  0\n",
      "  3                 0  0  2  0                0  0                0  0  0  0\n",
      "  4                 0  0  0  8                0  0                0  0  0  0\n",
      "  4.90789655922678  0  0  0  0                1  0                0  0  0  0\n",
      "  5                 0  0  0  0                0  1                0  0  0  0\n",
      "  5.85548473824783  0  0  0  0                0  0                1  0  0  0\n",
      "  6                 0  0  0  0                0  0                0 12  0  0\n",
      "  7                 0  0  0  0                0  0                0  0  8  0\n",
      "  8                 0  0  0  0                0  0                0  0  0  2\n",
      "\n",
      "Overall Statistics\n",
      "                                     \n",
      "               Accuracy : 1          \n",
      "                 95% CI : (0.9119, 1)\n",
      "    No Information Rate : 0.3        \n",
      "    P-Value [Acc > NIR] : < 2.2e-16  \n",
      "                                     \n",
      "                  Kappa : 1          \n",
      "                                     \n",
      " Mcnemar's Test P-Value : NA         \n",
      "\n",
      "Statistics by Class:\n",
      "\n",
      "                     Class: 1 Class: 2 Class: 3 Class: 4\n",
      "Sensitivity               1.0    1.000     1.00      1.0\n",
      "Specificity               1.0    1.000     1.00      1.0\n",
      "Pos Pred Value            1.0    1.000     1.00      1.0\n",
      "Neg Pred Value            1.0    1.000     1.00      1.0\n",
      "Prevalence                0.1    0.025     0.05      0.2\n",
      "Detection Rate            0.1    0.025     0.05      0.2\n",
      "Detection Prevalence      0.1    0.025     0.05      0.2\n",
      "Balanced Accuracy         1.0    1.000     1.00      1.0\n",
      "                     Class: 4.90789655922678 Class: 5 Class: 5.85548473824783\n",
      "Sensitivity                            1.000    1.000                   1.000\n",
      "Specificity                            1.000    1.000                   1.000\n",
      "Pos Pred Value                         1.000    1.000                   1.000\n",
      "Neg Pred Value                         1.000    1.000                   1.000\n",
      "Prevalence                             0.025    0.025                   0.025\n",
      "Detection Rate                         0.025    0.025                   0.025\n",
      "Detection Prevalence                   0.025    0.025                   0.025\n",
      "Balanced Accuracy                      1.000    1.000                   1.000\n",
      "                     Class: 6 Class: 7 Class: 8\n",
      "Sensitivity               1.0      1.0     1.00\n",
      "Specificity               1.0      1.0     1.00\n",
      "Pos Pred Value            1.0      1.0     1.00\n",
      "Neg Pred Value            1.0      1.0     1.00\n",
      "Prevalence                0.3      0.2     0.05\n",
      "Detection Rate            0.3      0.2     0.05\n",
      "Detection Prevalence      0.3      0.2     0.05\n",
      "Balanced Accuracy         1.0      1.0     1.00\n"
     ]
    }
   ],
   "source": [
    "table <- table(Predicted=predictions$class, Species=test.data$spec_as_int)\n",
    "print(confusionMatrix(table))"
   ]
  },
  {
   "cell_type": "code",
   "execution_count": 8,
   "metadata": {},
   "outputs": [],
   "source": [
    "spec.af <- factor(test.data$spec_as_int, levels = c(\"1\",\"2\",\"3\",\"4\",\"5\",\"6\",\"7\",\"8\"))\n",
    "class.af <- factor(predictions$class, levels = c(\"1\",\"2\",\"3\",\"4\",\"5\",\"6\",\"7\",\"8\"))"
   ]
  },
  {
   "cell_type": "code",
   "execution_count": 9,
   "metadata": {},
   "outputs": [],
   "source": [
    "classifier_metrics <- ml_test(class.af, spec.af, output.as.table = TRUE)\n",
    "F1 <- classifier_metrics$F1\n",
    "accuracy <- classifier_metrics$accuracy"
   ]
  },
  {
   "cell_type": "code",
   "execution_count": 10,
   "metadata": {},
   "outputs": [
    {
     "data": {
      "text/html": [
       "<table>\n",
       "<caption>A data.frame: 8 × 21</caption>\n",
       "<thead>\n",
       "\t<tr><th></th><th scope=col>balanced.accuracy</th><th scope=col>DOR</th><th scope=col>F0.5</th><th scope=col>F1</th><th scope=col>F2</th><th scope=col>FDR</th><th scope=col>FNR</th><th scope=col>FOR</th><th scope=col>FPR</th><th scope=col>geometric.mean</th><th scope=col>...</th><th scope=col>L</th><th scope=col>lambda</th><th scope=col>MCC</th><th scope=col>MK</th><th scope=col>NPV</th><th scope=col>OP</th><th scope=col>precision</th><th scope=col>recall</th><th scope=col>specificity</th><th scope=col>Youden</th></tr>\n",
       "\t<tr><th></th><th scope=col>&lt;dbl&gt;</th><th scope=col>&lt;dbl&gt;</th><th scope=col>&lt;dbl&gt;</th><th scope=col>&lt;dbl&gt;</th><th scope=col>&lt;dbl&gt;</th><th scope=col>&lt;dbl&gt;</th><th scope=col>&lt;dbl&gt;</th><th scope=col>&lt;dbl&gt;</th><th scope=col>&lt;dbl&gt;</th><th scope=col>&lt;dbl&gt;</th><th scope=col>...</th><th scope=col>&lt;dbl&gt;</th><th scope=col>&lt;dbl&gt;</th><th scope=col>&lt;dbl&gt;</th><th scope=col>&lt;dbl&gt;</th><th scope=col>&lt;dbl&gt;</th><th scope=col>&lt;dbl&gt;</th><th scope=col>&lt;dbl&gt;</th><th scope=col>&lt;dbl&gt;</th><th scope=col>&lt;dbl&gt;</th><th scope=col>&lt;dbl&gt;</th></tr>\n",
       "</thead>\n",
       "<tbody>\n",
       "\t<tr><th scope=row>1</th><td>1</td><td>Inf</td><td>1</td><td>1</td><td>1</td><td>0</td><td>0</td><td>0</td><td>0</td><td>1</td><td>...</td><td>Inf</td><td>0</td><td>1</td><td>1</td><td>1</td><td>1</td><td>1</td><td>1</td><td>1</td><td>1</td></tr>\n",
       "\t<tr><th scope=row>2</th><td>1</td><td>Inf</td><td>1</td><td>1</td><td>1</td><td>0</td><td>0</td><td>0</td><td>0</td><td>1</td><td>...</td><td>Inf</td><td>0</td><td>1</td><td>1</td><td>1</td><td>1</td><td>1</td><td>1</td><td>1</td><td>1</td></tr>\n",
       "\t<tr><th scope=row>3</th><td>1</td><td>Inf</td><td>1</td><td>1</td><td>1</td><td>0</td><td>0</td><td>0</td><td>0</td><td>1</td><td>...</td><td>Inf</td><td>0</td><td>1</td><td>1</td><td>1</td><td>1</td><td>1</td><td>1</td><td>1</td><td>1</td></tr>\n",
       "\t<tr><th scope=row>4</th><td>1</td><td>Inf</td><td>1</td><td>1</td><td>1</td><td>0</td><td>0</td><td>0</td><td>0</td><td>1</td><td>...</td><td>Inf</td><td>0</td><td>1</td><td>1</td><td>1</td><td>1</td><td>1</td><td>1</td><td>1</td><td>1</td></tr>\n",
       "\t<tr><th scope=row>5</th><td>1</td><td>Inf</td><td>1</td><td>1</td><td>1</td><td>0</td><td>0</td><td>0</td><td>0</td><td>1</td><td>...</td><td>Inf</td><td>0</td><td>1</td><td>1</td><td>1</td><td>1</td><td>1</td><td>1</td><td>1</td><td>1</td></tr>\n",
       "\t<tr><th scope=row>6</th><td>1</td><td>Inf</td><td>1</td><td>1</td><td>1</td><td>0</td><td>0</td><td>0</td><td>0</td><td>1</td><td>...</td><td>Inf</td><td>0</td><td>1</td><td>1</td><td>1</td><td>1</td><td>1</td><td>1</td><td>1</td><td>1</td></tr>\n",
       "\t<tr><th scope=row>7</th><td>1</td><td>Inf</td><td>1</td><td>1</td><td>1</td><td>0</td><td>0</td><td>0</td><td>0</td><td>1</td><td>...</td><td>Inf</td><td>0</td><td>1</td><td>1</td><td>1</td><td>1</td><td>1</td><td>1</td><td>1</td><td>1</td></tr>\n",
       "\t<tr><th scope=row>8</th><td>1</td><td>Inf</td><td>1</td><td>1</td><td>1</td><td>0</td><td>0</td><td>0</td><td>0</td><td>1</td><td>...</td><td>Inf</td><td>0</td><td>1</td><td>1</td><td>1</td><td>1</td><td>1</td><td>1</td><td>1</td><td>1</td></tr>\n",
       "</tbody>\n",
       "</table>\n"
      ],
      "text/latex": [
       "A data.frame: 8 × 21\n",
       "\\begin{tabular}{r|lllllllllllllllllllll}\n",
       "  & balanced.accuracy & DOR & F0.5 & F1 & F2 & FDR & FNR & FOR & FPR & geometric.mean & ... & L & lambda & MCC & MK & NPV & OP & precision & recall & specificity & Youden\\\\\n",
       "  & <dbl> & <dbl> & <dbl> & <dbl> & <dbl> & <dbl> & <dbl> & <dbl> & <dbl> & <dbl> & ... & <dbl> & <dbl> & <dbl> & <dbl> & <dbl> & <dbl> & <dbl> & <dbl> & <dbl> & <dbl>\\\\\n",
       "\\hline\n",
       "\t1 & 1 & Inf & 1 & 1 & 1 & 0 & 0 & 0 & 0 & 1 & ... & Inf & 0 & 1 & 1 & 1 & 1 & 1 & 1 & 1 & 1\\\\\n",
       "\t2 & 1 & Inf & 1 & 1 & 1 & 0 & 0 & 0 & 0 & 1 & ... & Inf & 0 & 1 & 1 & 1 & 1 & 1 & 1 & 1 & 1\\\\\n",
       "\t3 & 1 & Inf & 1 & 1 & 1 & 0 & 0 & 0 & 0 & 1 & ... & Inf & 0 & 1 & 1 & 1 & 1 & 1 & 1 & 1 & 1\\\\\n",
       "\t4 & 1 & Inf & 1 & 1 & 1 & 0 & 0 & 0 & 0 & 1 & ... & Inf & 0 & 1 & 1 & 1 & 1 & 1 & 1 & 1 & 1\\\\\n",
       "\t5 & 1 & Inf & 1 & 1 & 1 & 0 & 0 & 0 & 0 & 1 & ... & Inf & 0 & 1 & 1 & 1 & 1 & 1 & 1 & 1 & 1\\\\\n",
       "\t6 & 1 & Inf & 1 & 1 & 1 & 0 & 0 & 0 & 0 & 1 & ... & Inf & 0 & 1 & 1 & 1 & 1 & 1 & 1 & 1 & 1\\\\\n",
       "\t7 & 1 & Inf & 1 & 1 & 1 & 0 & 0 & 0 & 0 & 1 & ... & Inf & 0 & 1 & 1 & 1 & 1 & 1 & 1 & 1 & 1\\\\\n",
       "\t8 & 1 & Inf & 1 & 1 & 1 & 0 & 0 & 0 & 0 & 1 & ... & Inf & 0 & 1 & 1 & 1 & 1 & 1 & 1 & 1 & 1\\\\\n",
       "\\end{tabular}\n"
      ],
      "text/markdown": [
       "\n",
       "A data.frame: 8 × 21\n",
       "\n",
       "| <!--/--> | balanced.accuracy &lt;dbl&gt; | DOR &lt;dbl&gt; | F0.5 &lt;dbl&gt; | F1 &lt;dbl&gt; | F2 &lt;dbl&gt; | FDR &lt;dbl&gt; | FNR &lt;dbl&gt; | FOR &lt;dbl&gt; | FPR &lt;dbl&gt; | geometric.mean &lt;dbl&gt; | ... ... | L &lt;dbl&gt; | lambda &lt;dbl&gt; | MCC &lt;dbl&gt; | MK &lt;dbl&gt; | NPV &lt;dbl&gt; | OP &lt;dbl&gt; | precision &lt;dbl&gt; | recall &lt;dbl&gt; | specificity &lt;dbl&gt; | Youden &lt;dbl&gt; |\n",
       "|---|---|---|---|---|---|---|---|---|---|---|---|---|---|---|---|---|---|---|---|---|---|\n",
       "| 1 | 1 | Inf | 1 | 1 | 1 | 0 | 0 | 0 | 0 | 1 | ... | Inf | 0 | 1 | 1 | 1 | 1 | 1 | 1 | 1 | 1 |\n",
       "| 2 | 1 | Inf | 1 | 1 | 1 | 0 | 0 | 0 | 0 | 1 | ... | Inf | 0 | 1 | 1 | 1 | 1 | 1 | 1 | 1 | 1 |\n",
       "| 3 | 1 | Inf | 1 | 1 | 1 | 0 | 0 | 0 | 0 | 1 | ... | Inf | 0 | 1 | 1 | 1 | 1 | 1 | 1 | 1 | 1 |\n",
       "| 4 | 1 | Inf | 1 | 1 | 1 | 0 | 0 | 0 | 0 | 1 | ... | Inf | 0 | 1 | 1 | 1 | 1 | 1 | 1 | 1 | 1 |\n",
       "| 5 | 1 | Inf | 1 | 1 | 1 | 0 | 0 | 0 | 0 | 1 | ... | Inf | 0 | 1 | 1 | 1 | 1 | 1 | 1 | 1 | 1 |\n",
       "| 6 | 1 | Inf | 1 | 1 | 1 | 0 | 0 | 0 | 0 | 1 | ... | Inf | 0 | 1 | 1 | 1 | 1 | 1 | 1 | 1 | 1 |\n",
       "| 7 | 1 | Inf | 1 | 1 | 1 | 0 | 0 | 0 | 0 | 1 | ... | Inf | 0 | 1 | 1 | 1 | 1 | 1 | 1 | 1 | 1 |\n",
       "| 8 | 1 | Inf | 1 | 1 | 1 | 0 | 0 | 0 | 0 | 1 | ... | Inf | 0 | 1 | 1 | 1 | 1 | 1 | 1 | 1 | 1 |\n",
       "\n"
      ],
      "text/plain": [
       "  balanced.accuracy DOR F0.5 F1 F2 FDR FNR FOR FPR geometric.mean ... L  \n",
       "1 1                 Inf 1    1  1  0   0   0   0   1              ... Inf\n",
       "2 1                 Inf 1    1  1  0   0   0   0   1              ... Inf\n",
       "3 1                 Inf 1    1  1  0   0   0   0   1              ... Inf\n",
       "4 1                 Inf 1    1  1  0   0   0   0   1              ... Inf\n",
       "5 1                 Inf 1    1  1  0   0   0   0   1              ... Inf\n",
       "6 1                 Inf 1    1  1  0   0   0   0   1              ... Inf\n",
       "7 1                 Inf 1    1  1  0   0   0   0   1              ... Inf\n",
       "8 1                 Inf 1    1  1  0   0   0   0   1              ... Inf\n",
       "  lambda MCC MK NPV OP precision recall specificity Youden\n",
       "1 0      1   1  1   1  1         1      1           1     \n",
       "2 0      1   1  1   1  1         1      1           1     \n",
       "3 0      1   1  1   1  1         1      1           1     \n",
       "4 0      1   1  1   1  1         1      1           1     \n",
       "5 0      1   1  1   1  1         1      1           1     \n",
       "6 0      1   1  1   1  1         1      1           1     \n",
       "7 0      1   1  1   1  1         1      1           1     \n",
       "8 0      1   1  1   1  1         1      1           1     "
      ]
     },
     "metadata": {},
     "output_type": "display_data"
    }
   ],
   "source": [
    "classifier_metrics"
   ]
  }
 ],
 "metadata": {
  "kernelspec": {
   "display_name": "R",
   "language": "R",
   "name": "ir"
  },
  "language_info": {
   "codemirror_mode": "r",
   "file_extension": ".r",
   "mimetype": "text/x-r-source",
   "name": "R",
   "pygments_lexer": "r",
   "version": "3.6.3"
  }
 },
 "nbformat": 4,
 "nbformat_minor": 4
}
