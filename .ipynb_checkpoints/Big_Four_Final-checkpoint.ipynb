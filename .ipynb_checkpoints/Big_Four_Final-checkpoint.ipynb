{
 "cells": [
  {
   "cell_type": "code",
   "execution_count": 11,
   "metadata": {},
   "outputs": [
    {
     "name": "stderr",
     "output_type": "stream",
     "text": [
      "Installing package into 'C:/Users/daeda/OneDrive/Documents/R/win-library/3.6'\n",
      "(as 'lib' is unspecified)\n",
      "\n",
      "Warning message:\n",
      "\"package 'MASS' is in use and will not be installed\"\n",
      "Installing package into 'C:/Users/daeda/OneDrive/Documents/R/win-library/3.6'\n",
      "(as 'lib' is unspecified)\n",
      "\n",
      "Warning message:\n",
      "\"package 'missMDA' is in use and will not be installed\"\n",
      "Installing package into 'C:/Users/daeda/OneDrive/Documents/R/win-library/3.6'\n",
      "(as 'lib' is unspecified)\n",
      "\n",
      "Warning message:\n",
      "\"package 'tidyverse' is in use and will not be installed\"\n",
      "Installing package into 'C:/Users/daeda/OneDrive/Documents/R/win-library/3.6'\n",
      "(as 'lib' is unspecified)\n",
      "\n",
      "Warning message:\n",
      "\"package 'caret' is in use and will not be installed\"\n",
      "Installing package into 'C:/Users/daeda/OneDrive/Documents/R/win-library/3.6'\n",
      "(as 'lib' is unspecified)\n",
      "\n",
      "Warning message:\n",
      "\"package 'mice' is in use and will not be installed\"\n",
      "Installing package into 'C:/Users/daeda/OneDrive/Documents/R/win-library/3.6'\n",
      "(as 'lib' is unspecified)\n",
      "\n",
      "Warning message:\n",
      "\"package 'viridis' is in use and will not be installed\"\n",
      "Installing package into 'C:/Users/daeda/OneDrive/Documents/R/win-library/3.6'\n",
      "(as 'lib' is unspecified)\n",
      "\n"
     ]
    },
    {
     "name": "stdout",
     "output_type": "stream",
     "text": [
      "package 'ggrepel' successfully unpacked and MD5 sums checked\n"
     ]
    },
    {
     "name": "stderr",
     "output_type": "stream",
     "text": [
      "Warning message:\n",
      "\"cannot remove prior installation of package 'ggrepel'\"\n",
      "Warning message in file.copy(savedcopy, lib, recursive = TRUE):\n",
      "\"problem copying C:\\Users\\daeda\\OneDrive\\Documents\\R\\win-library\\3.6\\00LOCK\\ggrepel\\libs\\x64\\ggrepel.dll to C:\\Users\\daeda\\OneDrive\\Documents\\R\\win-library\\3.6\\ggrepel\\libs\\x64\\ggrepel.dll: Permission denied\"\n",
      "Warning message:\n",
      "\"restored 'ggrepel'\"\n"
     ]
    },
    {
     "name": "stdout",
     "output_type": "stream",
     "text": [
      "\n",
      "The downloaded binary packages are in\n",
      "\tC:\\Users\\daeda\\AppData\\Local\\Temp\\Rtmp0M8Yam\\downloaded_packages\n"
     ]
    }
   ],
   "source": [
    "#Installing packages and loading them into the enviroment\n",
    "install.packages(\"MASS\")\n",
    "library(\"MASS\")\n",
    "install.packages(\"missMDA\")\n",
    "library(\"missMDA\")\n",
    "install.packages(\"tidyverse\")\n",
    "library(\"tidyverse\")\n",
    "install.packages(\"caret\")\n",
    "library(\"caret\")\n",
    "install.packages(\"mice\")\n",
    "library(\"mice\")\n",
    "install.packages(\"viridis\")\n",
    "library(\"viridis\")\n",
    "install.packages(\"ggrepel\")\n",
    "library(\"ggrepel\")"
   ]
  },
  {
   "cell_type": "code",
   "execution_count": 12,
   "metadata": {},
   "outputs": [],
   "source": [
    "#Loading all needed files,dropping first two coloumns, which are not needed for analysis (ID, species)\n",
    "ionomics <- read.csv('spec_woAestAcerPalmVulp_shoot_xyz_concat.csv', colClasses =c(\"NULL\",\"NULL\",NA,NA,NA,NA,NA,NA,NA,NA,NA,NA,NA,NA,NA,\n",
    "                                                                    NA,NA,NA,NA,NA,NA,NA))\n",
    "hybrids <- read.csv('spec_shoot_xyz_concat_unk_only.csv', colClasses = c(\"NULL\",NA,NA,NA,NA,NA,NA,NA,NA,NA,NA,NA,NA,NA,NA,\n",
    "                                                                        NA,NA,NA,NA,NA,NA,NA))\n",
    "#Imputation via missMDA\n",
    "imputeIonomics <- imputePCA(ionomics, method = \"Regularized\")"
   ]
  },
  {
   "cell_type": "code",
   "execution_count": 13,
   "metadata": {},
   "outputs": [
    {
     "name": "stdout",
     "output_type": "stream",
     "text": [
      "\n",
      " iter imp variable\n",
      "  1   1  S34_X\n",
      "  2   1  S34_X\n",
      "  3   1  S34_X\n",
      "  4   1  S34_X\n",
      "  5   1  S34_X\n"
     ]
    }
   ],
   "source": [
    "#Imputation via Mice\n",
    "# TODO add in fit graphics and missing data quantification\n",
    "temp <- mice(ionomics, m = 1, maxit = 5, method = \"norm.boot\", seed = 567)\n",
    "ionomicsComplete <- complete(temp,1)"
   ]
  },
  {
   "cell_type": "code",
   "execution_count": 14,
   "metadata": {},
   "outputs": [
    {
     "data": {
      "text/html": [
       "0.855105105105105"
      ],
      "text/latex": [
       "0.855105105105105"
      ],
      "text/markdown": [
       "0.855105105105105"
      ],
      "text/plain": [
       "[1] 0.8551051"
      ]
     },
     "metadata": {},
     "output_type": "display_data"
    }
   ],
   "source": [
    "#data imputed with missMDA regularized method\n",
    "mean.impute <- 0 #Start our average with 0\n",
    "for (x in 1:1000){ # run 1000 permutations\n",
    "    set.seed(x) #cycle through many random generator seeds\n",
    "    training.samples.impute <- imputeIonomics$completeObs[,2] %>%\n",
    "        createDataPartition(p = 0.8, list = FALSE) #split the data into training (80%) and testing (20%)\n",
    "    train.data.impute <- imputeIonomics$completeObs[training.samples.impute, ] #generate training set\n",
    "    test.data.impute <- imputeIonomics$completeObs[-training.samples.impute, ] #generate test set\n",
    "    train.data.impute <- unlist(train.data.impute) #typecast from matrix into dataframe\n",
    "    test.data.impute <- unlist(test.data.impute)\n",
    "    train.data.impute <- as.data.frame(train.data.impute)\n",
    "    test.data.impute <- as.data.frame(test.data.impute)\n",
    "    model.impute <- lda(spec_as_int~., data = train.data.impute) #generate the LDA model\n",
    "    predictions.impute <- model.impute %>% predict(test.data.impute) #predict the species of individuals in our test set based off of this model\n",
    "    mean.impute = mean.impute + mean(predictions.impute$class==test.data.impute$spec_as_int) #measure how often this prediction is correct, then add it to a running total\n",
    "}\n",
    "mean.impute = mean.impute/999 #divide running total by number of runs to find our average\n",
    "mean.impute #print this average to the screen"
   ]
  },
  {
   "cell_type": "code",
   "execution_count": 5,
   "metadata": {},
   "outputs": [
    {
     "data": {
      "text/html": [
       "0.855324074074074"
      ],
      "text/latex": [
       "0.855324074074074"
      ],
      "text/markdown": [
       "0.855324074074074"
      ],
      "text/plain": [
       "[1] 0.8553241"
      ]
     },
     "metadata": {},
     "output_type": "display_data"
    }
   ],
   "source": [
    "#data imputed with mice, norm.boot method\n",
    "mean.mice = 0 #Start our average with 0\n",
    "for (x in 1:1000){ #run 10000 permutations\n",
    "    set.seed(x)  #cycle through many random generator seeds\n",
    "    training.samples.mice <- ionomicsComplete[,2] %>%\n",
    "        createDataPartition(p = 0.8, list = FALSE) #split the data into training (80%) and testing (20%)\n",
    "    train.data.mice <- ionomicsComplete[training.samples.mice, ] #generate training set\n",
    "    test.data.mice <- ionomicsComplete[-training.samples.mice, ] #generate test set\n",
    "    model.mice <- lda(spec_as_int~., data = train.data.mice) #generate the LDA model\n",
    "    predictions.mice <- model.mice %>% predict(test.data.mice) #predict the species of individuals in our test set based off of this model\n",
    "    mean.mice = mean.mice + mean(predictions.mice$class==test.data.mice$spec_as_int) #measure how often this prediction is correct, then add it to a running total\n",
    "}\n",
    "mean.mice = mean.mice/999 #divide running total by number of runs to find our average\n",
    "mean.mice #print this average to the screen"
   ]
  },
  {
   "cell_type": "code",
   "execution_count": 6,
   "metadata": {},
   "outputs": [],
   "source": [
    "df.impute <- as.data.frame(unlist(imputeIonomics$completeObs))\n",
    "lda.impute <- lda(spec_as_int~., data = df.impute)\n",
    "pred.impute <- predict(lda.impute)\n",
    "pred.hybrids <- lda.impute %>% predict(hybrids)"
   ]
  },
  {
   "cell_type": "code",
   "execution_count": 7,
   "metadata": {},
   "outputs": [
    {
     "data": {
      "text/html": [
       "<table>\n",
       "<caption>A data.frame: 13 × 5</caption>\n",
       "<thead>\n",
       "\t<tr><th></th><th scope=col>spec_as_int</th><th scope=col>lda.LD1</th><th scope=col>lda.LD2</th><th scope=col>lda.LD3</th><th scope=col>spec</th></tr>\n",
       "\t<tr><th></th><th scope=col>&lt;int&gt;</th><th scope=col>&lt;dbl&gt;</th><th scope=col>&lt;dbl&gt;</th><th scope=col>&lt;dbl&gt;</th><th scope=col>&lt;fct&gt;</th></tr>\n",
       "</thead>\n",
       "<tbody>\n",
       "\t<tr><th scope=row>V._candicans_or_hybrid</th><td>30</td><td>-0.5297356188</td><td> 0.5662986</td><td>-0.6094765</td><td>30</td></tr>\n",
       "\t<tr><th scope=row>V._spp._a</th><td>31</td><td> 4.7966376981</td><td>-1.8711273</td><td>-4.7490031</td><td>31</td></tr>\n",
       "\t<tr><th scope=row>V._spp._b</th><td>32</td><td> 2.6727379078</td><td> 1.9157437</td><td> 0.7359220</td><td>32</td></tr>\n",
       "\t<tr><th scope=row>V._spp._c</th><td>33</td><td> 0.0003084282</td><td>-1.8734644</td><td> 0.2504446</td><td>33</td></tr>\n",
       "\t<tr><th scope=row>V._spp._d</th><td>34</td><td>-3.0909011097</td><td>-9.7387830</td><td>-7.9806505</td><td>34</td></tr>\n",
       "\t<tr><th scope=row>V._spp._e</th><td>35</td><td> 0.6141437703</td><td>-2.3911309</td><td>-2.3673606</td><td>35</td></tr>\n",
       "\t<tr><th scope=row>V._spp._f</th><td>36</td><td> 0.6043256165</td><td>-2.2506934</td><td>-2.0678278</td><td>36</td></tr>\n",
       "\t<tr><th scope=row>V._spp._g</th><td>37</td><td> 0.1127374252</td><td>-2.1494215</td><td>-1.9994755</td><td>37</td></tr>\n",
       "\t<tr><th scope=row>Vitis × V. andersonii</th><td>38</td><td> 1.8717464316</td><td>-0.3228269</td><td>-0.2046044</td><td>38</td></tr>\n",
       "\t<tr><th scope=row>Vitis × V._champinii</th><td>39</td><td>-0.2253190303</td><td> 0.6893459</td><td> 2.0032882</td><td>39</td></tr>\n",
       "\t<tr><th scope=row>V._labrusca</th><td>40</td><td>-1.2401230581</td><td>-2.0304307</td><td>-2.7394485</td><td>40</td></tr>\n",
       "\t<tr><th scope=row>Vitis × V. doaniana</th><td>41</td><td> 3.1310852889</td><td> 1.0536065</td><td>-2.5043587</td><td>41</td></tr>\n",
       "\t<tr><th scope=row>Vitis ×_novae-angliae</th><td>42</td><td> 0.8638854051</td><td>-1.4255957</td><td>-1.1832893</td><td>42</td></tr>\n",
       "</tbody>\n",
       "</table>\n"
      ],
      "text/latex": [
       "A data.frame: 13 × 5\n",
       "\\begin{tabular}{r|lllll}\n",
       "  & spec\\_as\\_int & lda.LD1 & lda.LD2 & lda.LD3 & spec\\\\\n",
       "  & <int> & <dbl> & <dbl> & <dbl> & <fct>\\\\\n",
       "\\hline\n",
       "\tV.\\_candicans\\_or\\_hybrid & 30 & -0.5297356188 &  0.5662986 & -0.6094765 & 30\\\\\n",
       "\tV.\\_spp.\\_a & 31 &  4.7966376981 & -1.8711273 & -4.7490031 & 31\\\\\n",
       "\tV.\\_spp.\\_b & 32 &  2.6727379078 &  1.9157437 &  0.7359220 & 32\\\\\n",
       "\tV.\\_spp.\\_c & 33 &  0.0003084282 & -1.8734644 &  0.2504446 & 33\\\\\n",
       "\tV.\\_spp.\\_d & 34 & -3.0909011097 & -9.7387830 & -7.9806505 & 34\\\\\n",
       "\tV.\\_spp.\\_e & 35 &  0.6141437703 & -2.3911309 & -2.3673606 & 35\\\\\n",
       "\tV.\\_spp.\\_f & 36 &  0.6043256165 & -2.2506934 & -2.0678278 & 36\\\\\n",
       "\tV.\\_spp.\\_g & 37 &  0.1127374252 & -2.1494215 & -1.9994755 & 37\\\\\n",
       "\tVitis × V. andersonii & 38 &  1.8717464316 & -0.3228269 & -0.2046044 & 38\\\\\n",
       "\tVitis × V.\\_champinii & 39 & -0.2253190303 &  0.6893459 &  2.0032882 & 39\\\\\n",
       "\tV.\\_labrusca & 40 & -1.2401230581 & -2.0304307 & -2.7394485 & 40\\\\\n",
       "\tVitis × V. doaniana & 41 &  3.1310852889 &  1.0536065 & -2.5043587 & 41\\\\\n",
       "\tVitis ×\\_novae-angliae & 42 &  0.8638854051 & -1.4255957 & -1.1832893 & 42\\\\\n",
       "\\end{tabular}\n"
      ],
      "text/markdown": [
       "\n",
       "A data.frame: 13 × 5\n",
       "\n",
       "| <!--/--> | spec_as_int &lt;int&gt; | lda.LD1 &lt;dbl&gt; | lda.LD2 &lt;dbl&gt; | lda.LD3 &lt;dbl&gt; | spec &lt;fct&gt; |\n",
       "|---|---|---|---|---|---|\n",
       "| V._candicans_or_hybrid | 30 | -0.5297356188 |  0.5662986 | -0.6094765 | 30 |\n",
       "| V._spp._a | 31 |  4.7966376981 | -1.8711273 | -4.7490031 | 31 |\n",
       "| V._spp._b | 32 |  2.6727379078 |  1.9157437 |  0.7359220 | 32 |\n",
       "| V._spp._c | 33 |  0.0003084282 | -1.8734644 |  0.2504446 | 33 |\n",
       "| V._spp._d | 34 | -3.0909011097 | -9.7387830 | -7.9806505 | 34 |\n",
       "| V._spp._e | 35 |  0.6141437703 | -2.3911309 | -2.3673606 | 35 |\n",
       "| V._spp._f | 36 |  0.6043256165 | -2.2506934 | -2.0678278 | 36 |\n",
       "| V._spp._g | 37 |  0.1127374252 | -2.1494215 | -1.9994755 | 37 |\n",
       "| Vitis × V. andersonii | 38 |  1.8717464316 | -0.3228269 | -0.2046044 | 38 |\n",
       "| Vitis × V._champinii | 39 | -0.2253190303 |  0.6893459 |  2.0032882 | 39 |\n",
       "| V._labrusca | 40 | -1.2401230581 | -2.0304307 | -2.7394485 | 40 |\n",
       "| Vitis × V. doaniana | 41 |  3.1310852889 |  1.0536065 | -2.5043587 | 41 |\n",
       "| Vitis ×_novae-angliae | 42 |  0.8638854051 | -1.4255957 | -1.1832893 | 42 |\n",
       "\n"
      ],
      "text/plain": [
       "                       spec_as_int lda.LD1       lda.LD2    lda.LD3    spec\n",
       "V._candicans_or_hybrid 30          -0.5297356188  0.5662986 -0.6094765 30  \n",
       "V._spp._a              31           4.7966376981 -1.8711273 -4.7490031 31  \n",
       "V._spp._b              32           2.6727379078  1.9157437  0.7359220 32  \n",
       "V._spp._c              33           0.0003084282 -1.8734644  0.2504446 33  \n",
       "V._spp._d              34          -3.0909011097 -9.7387830 -7.9806505 34  \n",
       "V._spp._e              35           0.6141437703 -2.3911309 -2.3673606 35  \n",
       "V._spp._f              36           0.6043256165 -2.2506934 -2.0678278 36  \n",
       "V._spp._g              37           0.1127374252 -2.1494215 -1.9994755 37  \n",
       "Vitis × V. andersonii  38           1.8717464316 -0.3228269 -0.2046044 38  \n",
       "Vitis × V._champinii   39          -0.2253190303  0.6893459  2.0032882 39  \n",
       "V._labrusca            40          -1.2401230581 -2.0304307 -2.7394485 40  \n",
       "Vitis × V. doaniana    41           3.1310852889  1.0536065 -2.5043587 41  \n",
       "Vitis ×_novae-angliae  42           0.8638854051 -1.4255957 -1.1832893 42  "
      ]
     },
     "metadata": {},
     "output_type": "display_data"
    }
   ],
   "source": [
    "viz.impute <- data.frame(spec = df.impute[1], lda = pred.impute$x)\n",
    "viz.hybrids <- data.frame(spec = hybrids[2], lda = pred.hybrids$x)\n",
    "viz.impute$spec = as.factor(viz.impute$spec)\n",
    "viz.hybrids$spec = as.factor(viz.hybrids$spec)\n",
    "row.names(viz.hybrids) = unlist(hybrids[1])\n",
    "viz.hybrids"
   ]
  },
  {
   "cell_type": "code",
   "execution_count": 15,
   "metadata": {},
   "outputs": [
    {
     "name": "stderr",
     "output_type": "stream",
     "text": [
      "Scale for 'fill' is already present. Adding another scale for 'fill', which\n",
      "will replace the existing scale.\n",
      "\n"
     ]
    },
    {
     "data": {
      "image/png": "[encoded data removed]",
      "text/plain": [
       "plot without title"
      ]
     },
     "metadata": {
      "image/png": {
       "height": 420,
       "width": 420
      },
      "text/plain": {
       "height": 420,
       "width": 420
      }
     },
     "output_type": "display_data"
    }
   ],
   "source": [
    "p <- ggplot(data = NULL) + \n",
    "    stat_ellipse(data = viz.impute, \n",
    "    aes(x = lda.LD1, y = lda.LD2, color = spec, fill = spec),geom = \"polygon\", alpha = .25)+\n",
    "    geom_point(data = viz.hybrids, aes(x = lda.LD1, y = lda.LD2, color = spec))\n",
    "p <- p + scale_color_viridis_d(aesthetics = \"fill\")\n",
    "p <- p + scale_color_viridis_d(aesthetics = \"color\")\n",
    "p <- p + theme_bw()\n",
    "p <- p + xlab(\"LD1\")\n",
    "p <- p + ylab(\"LD2\")\n",
    "p <- p + labs(title = \"Linear Discriminant Analysis Plot\")\n",
    "p <- p + theme(plot.title = element_text(hjust = .55), legend.text = element_text(face = \"italic\"))\n",
    "p <- p + scale_fill_discrete(name = \"Species\", labels = c(\"V. cinerea\",\"V. labrusca\",\"V. riparia\",\"V. rupestris\"))\n",
    "p <- p + guides(color = FALSE)\n",
    "p <- p + geom_text_repel(aes(x = viz.hybrids$lda.LD1, y = viz.hybrids$lda.LD2), label = rownames(viz.hybrids), vjust = \"inward\",\n",
    "                 hjust = \"inward\")\n",
    "p"
   ]
  },
  {
   "cell_type": "markdown",
   "metadata": {},
   "source": [
    "|species|spec_as_int|\n",
    "|---|---|\n",
    "|acerifolia_x|1|\n",
    "|cinerea_x|3|\n",
    "|labrusca_x|4|\n",
    "|riparia_x|6|\n",
    "|rupestris_x|7|\n",
    "|vulpina_x|8|"
   ]
  },
  {
   "cell_type": "code",
   "execution_count": null,
   "metadata": {},
   "outputs": [],
   "source": [
    "#mice data\n",
    "table.mice <- table(Predicted=predictions.mice$class, Species=test.data.mice$spec_as_int)\n",
    "confusionMatrix(table.mice)"
   ]
  },
  {
   "cell_type": "code",
   "execution_count": null,
   "metadata": {},
   "outputs": [],
   "source": [
    "#missMDA data\n",
    "table.impute <- table(Predicted=predictions.impute$class, Species=test.data.impute$spec_as_int)\n",
    "confusionMatrix(table.impute)"
   ]
  }
 ],
 "metadata": {
  "kernelspec": {
   "display_name": "R",
   "language": "R",
   "name": "ir"
  },
  "language_info": {
   "codemirror_mode": "r",
   "file_extension": ".r",
   "mimetype": "text/x-r-source",
   "name": "R",
   "pygments_lexer": "r",
   "version": "3.6.3"
  }
 },
 "nbformat": 4,
 "nbformat_minor": 4
}
