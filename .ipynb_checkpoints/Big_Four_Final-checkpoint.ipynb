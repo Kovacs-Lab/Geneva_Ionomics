{
 "cells": [
  {
   "cell_type": "code",
   "execution_count": 1,
   "metadata": {},
   "outputs": [
    {
     "name": "stderr",
     "output_type": "stream",
     "text": [
      "Installing package into 'C:/Users/daeda/OneDrive/Documents/R/win-library/3.6'\n",
      "(as 'lib' is unspecified)\n",
      "\n"
     ]
    },
    {
     "name": "stdout",
     "output_type": "stream",
     "text": [
      "package 'MASS' successfully unpacked and MD5 sums checked\n",
      "\n",
      "The downloaded binary packages are in\n",
      "\tC:\\Users\\daeda\\AppData\\Local\\Temp\\RtmpuQ4Olb\\downloaded_packages\n"
     ]
    },
    {
     "name": "stderr",
     "output_type": "stream",
     "text": [
      "Installing package into 'C:/Users/daeda/OneDrive/Documents/R/win-library/3.6'\n",
      "(as 'lib' is unspecified)\n",
      "\n"
     ]
    },
    {
     "name": "stdout",
     "output_type": "stream",
     "text": [
      "package 'missMDA' successfully unpacked and MD5 sums checked\n",
      "\n",
      "The downloaded binary packages are in\n",
      "\tC:\\Users\\daeda\\AppData\\Local\\Temp\\RtmpuQ4Olb\\downloaded_packages\n"
     ]
    },
    {
     "name": "stderr",
     "output_type": "stream",
     "text": [
      "Installing package into 'C:/Users/daeda/OneDrive/Documents/R/win-library/3.6'\n",
      "(as 'lib' is unspecified)\n",
      "\n"
     ]
    },
    {
     "name": "stdout",
     "output_type": "stream",
     "text": [
      "package 'tidyverse' successfully unpacked and MD5 sums checked\n",
      "\n",
      "The downloaded binary packages are in\n",
      "\tC:\\Users\\daeda\\AppData\\Local\\Temp\\RtmpuQ4Olb\\downloaded_packages\n"
     ]
    },
    {
     "name": "stderr",
     "output_type": "stream",
     "text": [
      "-- \u001b[1mAttaching packages\u001b[22m --------------------------------------- tidyverse 1.3.0 --\n",
      "\n",
      "\u001b[32mv\u001b[39m \u001b[34mggplot2\u001b[39m 3.3.0            \u001b[32mv\u001b[39m \u001b[34mpurrr  \u001b[39m 0.3.3       \n",
      "\u001b[32mv\u001b[39m \u001b[34mtibble \u001b[39m 2.99.99.\u001b[31m9014\u001b[39m     \u001b[32mv\u001b[39m \u001b[34mdplyr  \u001b[39m 0.8.99.\u001b[31m9000\u001b[39m \n",
      "\u001b[32mv\u001b[39m \u001b[34mtidyr  \u001b[39m 1.0.2            \u001b[32mv\u001b[39m \u001b[34mstringr\u001b[39m 1.4.0       \n",
      "\u001b[32mv\u001b[39m \u001b[34mreadr  \u001b[39m 1.3.1            \u001b[32mv\u001b[39m \u001b[34mforcats\u001b[39m 0.4.0       \n",
      "\n",
      "-- \u001b[1mConflicts\u001b[22m ------------------------------------------ tidyverse_conflicts() --\n",
      "\u001b[31mx\u001b[39m \u001b[34mdplyr\u001b[39m::\u001b[32mfilter()\u001b[39m masks \u001b[34mstats\u001b[39m::filter()\n",
      "\u001b[31mx\u001b[39m \u001b[34mdplyr\u001b[39m::\u001b[32mlag()\u001b[39m    masks \u001b[34mstats\u001b[39m::lag()\n",
      "\u001b[31mx\u001b[39m \u001b[34mdplyr\u001b[39m::\u001b[32mselect()\u001b[39m masks \u001b[34mMASS\u001b[39m::select()\n",
      "\n",
      "Installing package into 'C:/Users/daeda/OneDrive/Documents/R/win-library/3.6'\n",
      "(as 'lib' is unspecified)\n",
      "\n"
     ]
    },
    {
     "name": "stdout",
     "output_type": "stream",
     "text": [
      "package 'caret' successfully unpacked and MD5 sums checked\n",
      "\n",
      "The downloaded binary packages are in\n",
      "\tC:\\Users\\daeda\\AppData\\Local\\Temp\\RtmpuQ4Olb\\downloaded_packages\n"
     ]
    },
    {
     "name": "stderr",
     "output_type": "stream",
     "text": [
      "Loading required package: lattice\n",
      "\n",
      "\n",
      "Attaching package: 'caret'\n",
      "\n",
      "\n",
      "The following object is masked from 'package:purrr':\n",
      "\n",
      "    lift\n",
      "\n",
      "\n",
      "Installing package into 'C:/Users/daeda/OneDrive/Documents/R/win-library/3.6'\n",
      "(as 'lib' is unspecified)\n",
      "\n"
     ]
    },
    {
     "name": "stdout",
     "output_type": "stream",
     "text": [
      "package 'mice' successfully unpacked and MD5 sums checked\n"
     ]
    },
    {
     "name": "stderr",
     "output_type": "stream",
     "text": [
      "Warning message:\n",
      "\"cannot remove prior installation of package 'mice'\"\n",
      "Warning message in file.copy(savedcopy, lib, recursive = TRUE):\n",
      "\"problem copying C:\\Users\\daeda\\OneDrive\\Documents\\R\\win-library\\3.6\\00LOCK\\mice\\libs\\x64\\mice.dll to C:\\Users\\daeda\\OneDrive\\Documents\\R\\win-library\\3.6\\mice\\libs\\x64\\mice.dll: Permission denied\"\n",
      "Warning message:\n",
      "\"restored 'mice'\"\n"
     ]
    },
    {
     "name": "stdout",
     "output_type": "stream",
     "text": [
      "\n",
      "The downloaded binary packages are in\n",
      "\tC:\\Users\\daeda\\AppData\\Local\\Temp\\RtmpuQ4Olb\\downloaded_packages\n"
     ]
    },
    {
     "name": "stderr",
     "output_type": "stream",
     "text": [
      "\n",
      "Attaching package: 'mice'\n",
      "\n",
      "\n",
      "The following object is masked from 'package:tidyr':\n",
      "\n",
      "    complete\n",
      "\n",
      "\n",
      "The following objects are masked from 'package:base':\n",
      "\n",
      "    cbind, rbind\n",
      "\n",
      "\n"
     ]
    }
   ],
   "source": [
    "#Installing packages and loading them into the enviroment\n",
    "install.packages(\"MASS\")\n",
    "library(\"MASS\")\n",
    "install.packages(\"missMDA\")\n",
    "library(\"missMDA\")\n",
    "install.packages(\"tidyverse\")\n",
    "library(\"tidyverse\")\n",
    "install.packages(\"caret\")\n",
    "library(\"caret\")\n",
    "install.packages(\"mice\")\n",
    "library(\"mice\")"
   ]
  },
  {
   "cell_type": "code",
   "execution_count": 30,
   "metadata": {},
   "outputs": [],
   "source": [
    "#Loading all needed files,dropping first two coloumns, which are not needed for analysis (ID, species)\n",
    "ionomics <- read.csv('spec_woAestAcerPalmVulp_shoot_xyz_concat.csv', colClasses =c(\"NULL\",\"NULL\",NA,NA,NA,NA,NA,NA,NA,NA,NA,NA,NA,NA,NA,\n",
    "                                                                    NA,NA,NA,NA,NA,NA,NA))\n",
    "hybrids <- read.csv('spec_shoot_xyz_concat_unk_only.csv', colClasses = c(\"NULL\",\"NULL\",NA,NA,NA,NA,NA,NA,NA,NA,NA,NA,NA,NA,NA,\n",
    "                                                                    NA,NA,NA,NA,NA,NA,NA))\n",
    "\n",
    "#Imputation via missMDA\n",
    "imputeIonomics <- imputePCA(ionomics, method = \"Regularized\")"
   ]
  },
  {
   "cell_type": "code",
   "execution_count": 31,
   "metadata": {},
   "outputs": [
    {
     "name": "stdout",
     "output_type": "stream",
     "text": [
      "\n",
      " iter imp variable\n",
      "  1   1  S34_X\n",
      "  2   1  S34_X\n",
      "  3   1  S34_X\n",
      "  4   1  S34_X\n",
      "  5   1  S34_X\n"
     ]
    }
   ],
   "source": [
    "#Imputation via Mice\n",
    "# TODO add in fit graphics and missing data quantification\n",
    "temp <- mice(ionomics, m = 1, maxit = 5, method = \"norm.boot\", seed = 567)\n",
    "ionomicsComplete <- complete(temp,1)"
   ]
  },
  {
   "cell_type": "code",
   "execution_count": 32,
   "metadata": {},
   "outputs": [
    {
     "data": {
      "text/html": [
       "0.855105105105105"
      ],
      "text/latex": [
       "0.855105105105105"
      ],
      "text/markdown": [
       "0.855105105105105"
      ],
      "text/plain": [
       "[1] 0.8551051"
      ]
     },
     "metadata": {},
     "output_type": "display_data"
    },
    {
     "data": {
      "text/html": [
       "0.855324074074074"
      ],
      "text/latex": [
       "0.855324074074074"
      ],
      "text/markdown": [
       "0.855324074074074"
      ],
      "text/plain": [
       "[1] 0.8553241"
      ]
     },
     "metadata": {},
     "output_type": "display_data"
    }
   ],
   "source": [
    "#data imputed with missMDA regularized method\n",
    "mean.impute <- 0 #Start our average with 0\n",
    "for (x in 1:1000){ # run 1000 permutations\n",
    "    set.seed(x) #cycle through many random generator seeds\n",
    "    training.samples.impute <- imputeIonomics$completeObs[,2] %>%\n",
    "        createDataPartition(p = 0.8, list = FALSE) #split the data into training (80%) and testing (20%)\n",
    "    train.data.impute <- imputeIonomics$completeObs[training.samples.impute, ] #generate training set\n",
    "    test.data.impute <- imputeIonomics$completeObs[-training.samples.impute, ] #generate test set\n",
    "    train.data.impute <- unlist(train.data.impute) #typecast from matrix into dataframe\n",
    "    test.data.impute <- unlist(test.data.impute)\n",
    "    train.data.impute <- as.data.frame(train.data.impute)\n",
    "    test.data.impute <- as.data.frame(test.data.impute)\n",
    "    model.impute <- lda(spec_as_int~., data = train.data.impute) #generate the LDA model\n",
    "    predictions.impute <- model.impute %>% predict(test.data.impute) #predict the species of individuals in our test set based off of this model\n",
    "    mean.impute = mean.impute + mean(predictions.impute$class==test.data.impute$spec_as_int) #measure how often this prediction is correct, then add it to a running total\n",
    "}\n",
    "mean.impute = mean.impute/999 #divide running total by number of runs to find our average\n",
    "mean.impute #print this average to the screen\n",
    "\n",
    "#data imputed with mice, norm.boot method\n",
    "mean.mice = 0 #Start our average with 0\n",
    "for (x in 1:1000){ #run 10000 permutations\n",
    "    set.seed(x)  #cycle through many random generator seeds\n",
    "    training.samples.mice <- ionomicsComplete[,2] %>%\n",
    "        createDataPartition(p = 0.8, list = FALSE) #split the data into training (80%) and testing (20%)\n",
    "    train.data.mice <- ionomicsComplete[training.samples.mice, ] #generate training set\n",
    "    test.data.mice <- ionomicsComplete[-training.samples.mice, ] #generate test set\n",
    "    model.mice <- lda(spec_as_int~., data = train.data.mice) #generate the LDA model\n",
    "    predictions.mice <- model.mice %>% predict(test.data.mice) #predict the species of individuals in our test set based off of this model\n",
    "    mean.mice = mean.mice + mean(predictions.mice$class==test.data.mice$spec_as_int) #measure how often this prediction is correct, then add it to a running total\n",
    "}\n",
    "mean.mice = mean.mice/999 #divide running total by number of runs to find our average\n",
    "mean.mice #print this average to the screen"
   ]
  },
  {
   "cell_type": "markdown",
   "metadata": {},
   "source": [
    "|species|spec_as_int|\n",
    "|---|---|\n",
    "|acerifolia_x|1|\n",
    "|cinerea_x|3|\n",
    "|labrusca_x|4|\n",
    "|riparia_x|6|\n",
    "|rupestris_x|7|\n",
    "|vulpina_x|8|"
   ]
  },
  {
   "cell_type": "code",
   "execution_count": 33,
   "metadata": {},
   "outputs": [],
   "source": [
    "df.impute <- as.data.frame(unlist(imputeIonomics$completeObs))\n",
    "lda.impute <- lda(spec_as_int~., data = df.impute)\n",
    "pred.impute <- predict(lda.impute)\n",
    "pred.hybrids <- lda.impute %>% predict(hybrids)"
   ]
  },
  {
   "cell_type": "code",
   "execution_count": 34,
   "metadata": {},
   "outputs": [],
   "source": [
    "viz.impute <- data.frame(spec = df.impute[1], lda = pred.impute$x)\n",
    "viz.hybrids <- data.frame(spec = hybrids[1], lda = pred.hybrids$x)\n",
    "viz.impute$spec = as.factor(viz.impute$spec)\n",
    "viz.hybrids$spec = as.factor(viz.hybrids$spec)"
   ]
  },
  {
   "cell_type": "code",
   "execution_count": 35,
   "metadata": {},
   "outputs": [
    {
     "data": {
      "image/png": "[encoded data removed]",
      "text/plain": [
       "plot without title"
      ]
     },
     "metadata": {
      "image/png": {
       "height": 420,
       "width": 420
      },
      "text/plain": {
       "height": 420,
       "width": 420
      }
     },
     "output_type": "display_data"
    }
   ],
   "source": [
    "p <- ggplot(data = NULL) \n",
    "p <- p + stat_ellipse(data = viz.impute, aes(x = lda.LD1, y = lda.LD2, color = spec, fill = spec),geom = \"polygon\", alpha = .25) \n",
    "p <- p + geom_point(data = viz.hybrids, aes(x = lda.LD1, y = lda.LD2, color = spec))\n",
    "p"
   ]
  },
  {
   "cell_type": "code",
   "execution_count": 36,
   "metadata": {},
   "outputs": [],
   "source": [
    "# Split the data into training (80%) and test set (20%)\n",
    "#data set imputed via mice\n",
    "set.seed(321)\n",
    "training.samples <- ionomicsComplete[,2] %>%\n",
    "  createDataPartition(p = 0.8, list = FALSE)\n",
    "train.data <- ionomicsComplete[training.samples, ]\n",
    "test.data <- ionomicsComplete[-training.samples, ]"
   ]
  },
  {
   "cell_type": "code",
   "execution_count": 37,
   "metadata": {},
   "outputs": [],
   "source": [
    "#unimputed\n",
    "training.samples.raw <- ionomics[,2] %>%\n",
    "  createDataPartition(p = 0.8, list = FALSE)\n",
    "train.data.raw <- ionomics[training.samples.raw, ]\n",
    "test.data.raw <- ionomics[-training.samples.raw, ]"
   ]
  },
  {
   "cell_type": "code",
   "execution_count": 38,
   "metadata": {},
   "outputs": [],
   "source": [
    "#data set imputed via missMDA\n",
    "training.samples.impute <- imputeIonomics$completeObs[,2] %>%\n",
    "  createDataPartition(p = 0.8, list = FALSE)\n",
    "train.data.impute <- imputeIonomics$completeObs[training.samples.impute, ]\n",
    "test.data.impute <- imputeIonomics$completeObs[-training.samples.impute, ]\n",
    "#typecasting from matrix to dataframe\n",
    "train.data.impute <- unlist(train.data.impute)\n",
    "test.data.impute <- unlist(test.data.impute)\n",
    "train.data.impute <- as.data.frame(train.data.impute)\n",
    "test.data.impute <- as.data.frame(test.data.impute)"
   ]
  },
  {
   "cell_type": "code",
   "execution_count": 39,
   "metadata": {},
   "outputs": [
    {
     "data": {
      "text/html": [
       "0.75"
      ],
      "text/latex": [
       "0.75"
      ],
      "text/markdown": [
       "0.75"
      ],
      "text/plain": [
       "[1] 0.75"
      ]
     },
     "metadata": {},
     "output_type": "display_data"
    },
    {
     "data": {
      "text/plain": [
       "Call:\n",
       "lda(spec_as_int ~ ., data = train.data)\n",
       "\n",
       "Prior probabilities of groups:\n",
       "        3         4         6         7 \n",
       "0.1439394 0.2651515 0.4242424 0.1666667 \n",
       "\n",
       "Group means:\n",
       "      B11_X       B11_Y       B11_Z    Na23_X     Na23_Y     Na23_Z     Mg26_X\n",
       "3 0.1596001 -0.03286842 -0.45074490 1.7056842 -0.2003206 -0.3908145 -0.4900806\n",
       "4 0.3200385 -0.38734697 -0.40289115 1.1576472 -0.4654804 -0.2650670 -0.5240613\n",
       "6 0.5364208 -0.22493894  0.21020811 0.5713098 -0.6642225 -0.1736558 -0.6348265\n",
       "7 0.3187612 -0.20452439  0.08412146 0.2811463 -0.7239228 -0.4065743 -0.5998695\n",
       "       Mg26_Y    Mg26_Z      Al27_X     Al27_Y     Al27_Z     P31_X      P31_Y\n",
       "3 -0.06560725 1.1120028  0.23538956 -0.2973422  0.5215388 1.0719500  0.8661984\n",
       "4 -0.02878675 2.2864099  0.23010538 -0.6612371  0.6370122 0.4087901 -0.2483816\n",
       "6 -0.65387116 0.5775167 -0.02441238 -0.8108909  0.4817193 0.5322372 -0.4367998\n",
       "7 -0.36981745 1.0924035 -0.21684336 -0.8635884 -0.1157593 0.8377901 -0.3003894\n",
       "       P31_Z      S34_X       S34_Y      S34_Z     K39_X     Ca44_X      Ca44_Y\n",
       "3  0.4796579 -0.2023026  1.04861151  1.7345102 0.8199508 -0.3155905 -0.01511493\n",
       "4 -0.7420194 -0.6095783 -0.20852991  0.6588898 0.9028909 -0.8933628 -0.42419542\n",
       "6 -0.5015767 -0.3371857  0.07592584  0.4502154 0.7404911 -0.7817559 -0.27811665\n",
       "7 -0.7973637 -0.4046438 -0.41995698 -0.3002631 1.0851136 -1.0134223 -0.47923927\n",
       "    Ca44_Z     Fe54_X     Fe54_Y      Fe54_Z     Mn55_Y      Mn55_X    Mn55_Z\n",
       "3 1.446882  0.1365201  0.3409089  2.45170140 -0.1100491  0.03932813 1.4895591\n",
       "4 1.137963 -0.6576252 -0.8304564  0.55152914 -0.8037590 -0.51405302 1.4858944\n",
       "6 1.322806 -0.4287247 -0.3098050  0.93373158 -0.7379876 -0.53163417 1.0789507\n",
       "7 0.819726 -0.6613844 -0.5529868 -0.01067057 -0.8824473 -0.58200467 0.4572841\n",
       "       Co59_X     Co59_Y    Co59_Z      Ni60_X     Ni60_Y      Ni60_Z\n",
       "3  0.08168239  0.2770140 1.5423952  0.90104034  0.6879314  1.00021936\n",
       "4 -0.82662898 -0.4947671 1.2615833 -0.05572228 -0.1772882  0.12315743\n",
       "6 -0.68972423 -0.5795379 0.8064331 -0.26215764 -0.3884349  0.05750433\n",
       "7 -0.91855740 -0.6773353 0.1700400 -0.30196100 -0.3924823 -0.27645114\n",
       "      Cu63_X      Cu63_Y     Cu63_Z      Zn66_X     Zn66_Y     As75_Y\n",
       "3  1.8574073  1.70407709  1.1556674  0.67990980 -0.1557080 -0.2040615\n",
       "4  0.4328134  0.22635350 -0.3345140 -0.19771003 -0.6283302 -0.1407683\n",
       "6 -0.3757496 -0.60915434 -0.8207339  0.07263431 -0.7604473 -0.5225778\n",
       "7  0.6612196  0.07439739 -0.5581759 -0.27791315 -0.8287696 -0.5728056\n",
       "      As75_Z    Rb85_X      Rb85_Y     Rb85_Z     Sr88_X      Sr88_Y    Sr88_Z\n",
       "3  0.1107666 0.4938957 -0.08273869 -0.7238016 -0.5344154  0.01778866 1.3987547\n",
       "4  0.9839864 0.1321773 -0.42952324 -0.8481837 -0.8590634 -0.31309358 1.1405566\n",
       "6  0.2459001 1.0077792 -0.13046733 -0.6469163 -0.8385540 -0.21799004 1.1582676\n",
       "7 -0.1682120 1.2119381 -0.11771735 -0.7441755 -0.9536536 -0.37876584 0.7841618\n",
       "      Mo98_X      Mo98_Y     Mo98_Z      Cd111_X     Cd111_Y     Cd111_Z\n",
       "3  1.2024006  1.63831253  2.7702282  0.104774461  0.19718575  0.23583733\n",
       "4 -0.5211288 -0.60849569 -0.5762203 -0.104357793 -0.04773659  0.33546660\n",
       "6 -0.2069011 -0.06805294  0.1708880 -0.265787407 -0.24954523  0.31361641\n",
       "7 -0.3056140 -0.23867666 -0.0484800 -0.001979714 -0.17979211 -0.05288931\n",
       "\n",
       "Coefficients of linear discriminants:\n",
       "                LD1          LD2          LD3\n",
       "B11_X    0.08112818  0.065989500 -0.029709081\n",
       "B11_Y   -0.23256483  0.666329694 -0.305017703\n",
       "B11_Z    0.22745714  0.536669317  0.434474474\n",
       "Na23_X  -0.04173488 -0.043854094  0.228021071\n",
       "Na23_Y   0.26270961 -0.698849327  0.583208915\n",
       "Na23_Z  -0.07335537  0.107279836 -0.156042821\n",
       "Mg26_X   2.82060147 -1.024694400  0.650952791\n",
       "Mg26_Y  -1.41539769 -0.456213142 -1.120924472\n",
       "Mg26_Z  -0.12236156 -0.431998406  0.403716721\n",
       "Al27_X   0.42296274 -0.727085856  0.474569469\n",
       "Al27_Y  -0.24195678  0.272986966  0.660153671\n",
       "Al27_Z   0.29414296  0.037308286  0.189588672\n",
       "P31_X    0.23114931  0.019030126 -0.897292029\n",
       "P31_Y    0.04795488  0.470476730  0.302127843\n",
       "P31_Z    0.09238998 -0.116869341  0.060297161\n",
       "S34_X    0.03921845 -0.227943679 -0.350159893\n",
       "S34_Y    0.28180021  0.057136905  0.339256510\n",
       "S34_Z   -0.10616863 -0.360341934  0.010464469\n",
       "K39_X   -0.22833391  0.265884107  0.021775142\n",
       "Ca44_X   0.81867720  2.317698735  3.443673427\n",
       "Ca44_Y   0.40876699 -0.375810535 -2.829701972\n",
       "Ca44_Z  -0.55294726  0.507982262  0.073548655\n",
       "Fe54_X  -0.24556765  0.536516179  0.661276504\n",
       "Fe54_Y   0.27103951  0.423469982 -0.719039203\n",
       "Fe54_Z   0.01605783  0.430414433  0.545286498\n",
       "Mn55_Y   1.99168818 -0.171766757  0.883419487\n",
       "Mn55_X  -1.97185085  1.634788537 -1.560319783\n",
       "Mn55_Z  -0.45726623 -0.919143394  0.032184234\n",
       "Co59_X  -1.88876142  1.037382072 -1.440541481\n",
       "Co59_Y   0.38948361 -1.342687557  1.208506654\n",
       "Co59_Z   0.71480368  1.042997192  0.489273509\n",
       "Ni60_X  -0.46737668  1.562273492  1.155608914\n",
       "Ni60_Y   0.45917505 -2.100758947 -0.537776769\n",
       "Ni60_Z  -0.12044239 -0.005372783 -0.001249464\n",
       "Cu63_X  -2.55664079 -0.502269819 -1.555253847\n",
       "Cu63_Y   0.37395751 -0.238039763  0.082706844\n",
       "Cu63_Z   0.24664900  0.006463378  0.614053335\n",
       "Zn66_X   0.50331549  0.224246611  0.246696884\n",
       "Zn66_Y   0.20162494 -0.070548420  0.123679749\n",
       "As75_Y   0.20094044 -0.561709008  0.641351795\n",
       "As75_Z   0.12270575 -0.937988583 -0.246121023\n",
       "Rb85_X   0.18428815  0.165005403 -0.374015047\n",
       "Rb85_Y  -1.21627216 -0.561634329 -0.776226374\n",
       "Rb85_Z   3.06587851  1.986579661  1.924836600\n",
       "Sr88_X  -4.22712535 -0.898240753 -3.441779394\n",
       "Sr88_Y  -0.17145259 -0.653817451  4.013186222\n",
       "Sr88_Z   1.27600787  0.041036025  0.008543556\n",
       "Mo98_X   0.77541715 -0.298707499  0.891884866\n",
       "Mo98_Y  -0.74868299  1.287900102 -0.595503112\n",
       "Mo98_Z  -0.80424436 -0.099868606 -0.353321283\n",
       "Cd111_X -0.38542204 -1.016598092 -0.726131528\n",
       "Cd111_Y  1.11140652 -0.715852397  1.439332905\n",
       "Cd111_Z  0.00449734  0.157539829 -0.008761982\n",
       "\n",
       "Proportion of trace:\n",
       "   LD1    LD2    LD3 \n",
       "0.4580 0.3753 0.1667 "
      ]
     },
     "metadata": {},
     "output_type": "display_data"
    }
   ],
   "source": [
    "# Fit the model\n",
    "#data set imputed with mice\n",
    "model <- lda(spec_as_int~., data = train.data)\n",
    "# Make predictions\n",
    "predictions <- model %>% predict(test.data)\n",
    "# Model accuracy\n",
    "mean(predictions$class==test.data$spec_as_int)\n",
    "model"
   ]
  },
  {
   "cell_type": "code",
   "execution_count": 40,
   "metadata": {},
   "outputs": [
    {
     "name": "stderr",
     "output_type": "stream",
     "text": [
      "Warning message in FUN(newX[, i], ...):\n",
      "\"no non-missing arguments to min; returning Inf\"\n"
     ]
    },
    {
     "data": {
      "text/html": [
       "&lt;NA&gt;"
      ],
      "text/latex": [
       "<NA>"
      ],
      "text/markdown": [
       "&lt;NA&gt;"
      ],
      "text/plain": [
       "[1] NA"
      ]
     },
     "metadata": {},
     "output_type": "display_data"
    },
    {
     "data": {
      "text/plain": [
       "Call:\n",
       "lda(spec_as_int ~ ., data = train.data.raw)\n",
       "\n",
       "Prior probabilities of groups:\n",
       "        3         4         6         7 \n",
       "0.1893939 0.2196970 0.4545455 0.1363636 \n",
       "\n",
       "Group means:\n",
       "        B11_X       B11_Y      B11_Z    Na23_X     Na23_Y     Na23_Z     Mg26_X\n",
       "3 -0.08787075 -0.09708746 -0.4678053 1.6245792 -0.1443066 -0.4412137 -0.5544357\n",
       "4  0.41493062 -0.32425061 -0.3890389 1.1361079 -0.4695941 -0.2557617 -0.5373524\n",
       "6  0.63442590 -0.18947911  0.2188763 0.5353250 -0.6619585 -0.1106296 -0.6623894\n",
       "7  0.33679318 -0.17999266 -0.0200056 0.2881081 -0.7219917 -0.4095090 -0.6221689\n",
       "        Mg26_Y    Mg26_Z       Al27_X      Al27_Y      Al27_Z     P31_X\n",
       "3 -0.157947695 0.9454878  0.259016148  0.09692343  0.55398857 0.8463965\n",
       "4 -0.009918613 2.3769693  0.299374444 -0.65199041  0.68414836 0.4572378\n",
       "6 -0.670414933 0.6283719 -0.006483441 -0.80498942  0.40913565 0.5169459\n",
       "7 -0.348258161 1.0546372 -0.191208720 -0.85921863 -0.04446282 0.7851430\n",
       "       P31_Y      P31_Z      S34_X       S34_Y       S34_Z     K39_X     Ca44_X\n",
       "3  0.8338493  0.3963004 -0.4127002  0.72773551  1.32111104 0.6922352 -0.4298812\n",
       "4 -0.2952439 -0.8722577 -0.5399891 -0.21301871  0.73751787 0.8890787 -0.8790443\n",
       "6 -0.4730468 -0.4681678 -0.2800345  0.04894526  0.50592354 0.7144692 -0.8019292\n",
       "7 -0.3034685 -0.7704057 -0.4420454 -0.33106546 -0.09885959 1.0599901 -1.0005718\n",
       "      Ca44_Y    Ca44_Z      Fe54_X     Fe54_Y     Fe54_Z     Mn55_Y      Mn55_X\n",
       "3 -0.1402386 1.2790243 -0.01425103  0.1645307 2.20363474 -0.2049110 -0.06788917\n",
       "4 -0.3636661 1.2568877 -0.63801498 -0.8068553 0.58097481 -0.7881593 -0.52805492\n",
       "6 -0.2153479 1.3697086 -0.38987524 -0.1568986 1.04974156 -0.7012565 -0.51049249\n",
       "7 -0.4294220 0.8376788 -0.63523635 -0.4814146 0.08970215 -0.8838018 -0.57542355\n",
       "     Mn55_Z      Co59_X     Co59_Y    Co59_Z       Ni60_X     Ni60_Y\n",
       "3 1.3470812  0.01969317  0.1598679 1.5096298  0.850721493  0.6580647\n",
       "4 1.5927663 -0.81559584 -0.5173980 1.3222554 -0.005910374 -0.1557408\n",
       "6 1.1521235 -0.62519444 -0.5488452 0.8397462 -0.283390624 -0.3967019\n",
       "7 0.5664654 -0.94012119 -0.6817868 0.2700341 -0.297960707 -0.3826528\n",
       "       Ni60_Z     Cu63_X      Cu63_Y     Cu63_Z       Zn66_X     Zn66_Y\n",
       "3  1.03447129  1.7527232  1.81511516  1.4740358  0.670546138 -0.1490767\n",
       "4  0.17193892  0.4709394  0.26579515 -0.2874840 -0.207130894 -0.6293709\n",
       "6  0.03022832 -0.4093168 -0.65152342 -0.8430088 -0.004581313 -0.7295086\n",
       "7 -0.25588851  0.5832425  0.03902556 -0.5315296 -0.194518858 -0.8132527\n",
       "      As75_Y      As75_Z     Rb85_X      Rb85_Y     Rb85_Z     Sr88_X\n",
       "3 -0.1855450  0.18606300 0.56118351  0.01346482 -0.6957403 -0.6540163\n",
       "4 -0.1122273  1.06032039 0.09486984 -0.46862429 -0.8596502 -0.8535309\n",
       "6 -0.5175237  0.15486196 1.01246039 -0.15238424 -0.6508786 -0.8430394\n",
       "7 -0.6021877 -0.08241437 0.94161368 -0.22100254 -0.7659370 -0.9634158\n",
       "       Sr88_Y    Sr88_Z     Mo98_X      Mo98_Y      Mo98_Z     Cd111_X\n",
       "3 -0.08913564 1.1857852  1.0061615  1.27168152  2.42830803  0.22327812\n",
       "4 -0.26205269 1.2289150 -0.5065718 -0.60306262 -0.57444070 -0.08919833\n",
       "6 -0.16192985 1.2082297 -0.2489794 -0.07441816  0.15686715 -0.26228068\n",
       "7 -0.38521174 0.6456667 -0.3191084 -0.23754603 -0.06438739 -0.10895310\n",
       "      Cd111_Y     Cd111_Z\n",
       "3  0.15228250  0.25729832\n",
       "4 -0.04144554  0.32793436\n",
       "6 -0.25091760  0.29646592\n",
       "7 -0.19172962 -0.02240088\n",
       "\n",
       "Coefficients of linear discriminants:\n",
       "                LD1         LD2          LD3\n",
       "B11_X    0.17353437 -0.12118434  0.108255835\n",
       "B11_Y    0.11188631 -0.13013429  0.399858570\n",
       "B11_Z    0.32691200  0.41369158 -0.282841706\n",
       "Na23_X  -0.09386880  0.23703987 -0.196827999\n",
       "Na23_Y  -0.08954948 -0.49148919 -0.245156216\n",
       "Na23_Z  -0.15435624 -0.19877734 -0.009078198\n",
       "Mg26_X   0.91370946 -2.21459966 -0.064643584\n",
       "Mg26_Y  -2.31342451 -0.24462931  0.623431979\n",
       "Mg26_Z  -0.14708536 -0.04413256 -0.266244912\n",
       "Al27_X  -0.59683421 -0.45482272 -0.857102396\n",
       "Al27_Y   0.16801564  0.32140706 -0.042301621\n",
       "Al27_Z   0.25952476  0.08790537  0.033433079\n",
       "P31_X    0.14476309 -0.01530724  0.386869587\n",
       "P31_Y    0.24992054  0.40627837 -0.150724109\n",
       "P31_Z    0.03296082 -0.21954776  0.267652363\n",
       "S34_X    0.01858556  0.40769762 -0.180161246\n",
       "S34_Y    0.44416493 -0.34660022 -0.446751910\n",
       "S34_Z   -0.50901065 -0.30337285  0.322212890\n",
       "K39_X    0.14602209 -0.26320320  0.325159151\n",
       "Ca44_X   1.77118406  2.59788501 -5.578750950\n",
       "Ca44_Y   0.21804323  0.50424398 -2.346998620\n",
       "Ca44_Z   0.26821425 -0.07978305  1.748920881\n",
       "Fe54_X   0.25651624 -0.03278751 -0.182060143\n",
       "Fe54_Y   0.28780629  0.10777676  1.269992420\n",
       "Fe54_Z  -0.08591529  0.26802203 -0.866346853\n",
       "Mn55_Y   1.01240159 -2.57844512 -1.714652896\n",
       "Mn55_X  -1.12290586  1.64684786  3.846970772\n",
       "Mn55_Z  -0.52823939  0.11011214 -0.467795760\n",
       "Co59_X  -0.06328213  2.62979770  1.123877067\n",
       "Co59_Y   0.11304768 -0.95238994 -1.654632878\n",
       "Co59_Z   0.87389364 -0.23876548 -0.265883113\n",
       "Ni60_X   0.52357730  0.65129752 -1.116993620\n",
       "Ni60_Y  -0.66827545 -0.65957052  1.165786767\n",
       "Ni60_Z  -0.08443912  0.05022291 -0.028769474\n",
       "Cu63_X  -1.28741819  0.27137753  1.308403635\n",
       "Cu63_Y  -0.72282266 -0.11702566 -0.121925271\n",
       "Cu63_Z   0.22652251  0.41934959 -0.328230750\n",
       "Zn66_X   0.35081643 -0.14507864  0.170105301\n",
       "Zn66_Y   0.58680472  0.48410124 -1.158410944\n",
       "As75_Y  -0.07614440 -0.37803104 -0.204757308\n",
       "As75_Z  -0.81516851 -0.69392604  0.085069140\n",
       "Rb85_X   0.30466650 -0.18838778  0.540149290\n",
       "Rb85_Y  -1.42425990  0.31981716  1.028527109\n",
       "Rb85_Z   4.13577882  0.85894297 -3.845091976\n",
       "Sr88_X  -3.03737968 -1.46386491  7.112838996\n",
       "Sr88_Y  -1.15720155 -0.72309813  1.556143582\n",
       "Sr88_Z   0.66522384 -0.07145845 -2.242891519\n",
       "Mo98_X  -0.87669302 -1.21954128 -0.807529067\n",
       "Mo98_Y   1.33086942  2.16462860  0.695689747\n",
       "Mo98_Z  -0.31746553  0.21899443  0.135369938\n",
       "Cd111_X -0.69053602  0.42562361  1.107445722\n",
       "Cd111_Y -0.55356847 -0.68327165 -1.055484427\n",
       "Cd111_Z  0.10839704  0.08035762 -0.032317575\n",
       "\n",
       "Proportion of trace:\n",
       "   LD1    LD2    LD3 \n",
       "0.5177 0.3650 0.1173 "
      ]
     },
     "metadata": {},
     "output_type": "display_data"
    }
   ],
   "source": [
    "#unimputed\n",
    "model.raw <- lda(spec_as_int~., data = train.data.raw)\n",
    "# Make predictions\n",
    "predictions.raw <- model.raw %>% predict(test.data.raw)\n",
    "# Model accuracy\n",
    "mean(predictions.raw$class==test.data.raw$spec_as_int)\n",
    "model.raw"
   ]
  },
  {
   "cell_type": "code",
   "execution_count": 41,
   "metadata": {},
   "outputs": [
    {
     "data": {
      "text/html": [
       "0.65625"
      ],
      "text/latex": [
       "0.65625"
      ],
      "text/markdown": [
       "0.65625"
      ],
      "text/plain": [
       "[1] 0.65625"
      ]
     },
     "metadata": {},
     "output_type": "display_data"
    },
    {
     "data": {
      "text/plain": [
       "Call:\n",
       "lda(spec_as_int ~ ., data = train.data.impute)\n",
       "\n",
       "Prior probabilities of groups:\n",
       "        3         4         6         7 \n",
       "0.1590909 0.2727273 0.4469697 0.1212121 \n",
       "\n",
       "Group means:\n",
       "       B11_X       B11_Y       B11_Z    Na23_X      Na23_Y     Na23_Z\n",
       "3 0.05952693 -0.01924595 -0.42391817 1.6588451 -0.03995466 -0.4014307\n",
       "4 0.26318990 -0.36528829 -0.40592087 1.1831362 -0.40973186 -0.2309590\n",
       "6 0.55124856 -0.18139327  0.17985396 0.4394881 -0.65561060 -0.1110604\n",
       "7 0.77533174 -0.19695092  0.05983833 0.4505580 -0.72856401 -0.4918693\n",
       "      Mg26_X      Mg26_Y    Mg26_Z      Al27_X        Al27_Y      Al27_Z\n",
       "3 -0.5062548 -0.10720046 0.9642402  0.31213949 -0.1613363506  0.65786057\n",
       "4 -0.5220738 -0.05323268 2.2091186  0.22131748 -0.6522662944  0.76135971\n",
       "6 -0.6784331 -0.71418583 0.4747078  0.02718776 -0.8132582203  0.39615406\n",
       "7 -0.5268272 -0.29671206 1.1022980 -0.24478772 -0.0005321062 -0.04606863\n",
       "      P31_X        P31_Y      P31_Z      S34_X       S34_Y      S34_Z     K39_X\n",
       "3 0.9043025  0.923709682  0.3349108 -0.2038621  1.02233035  1.7741886 0.7185656\n",
       "4 0.4034798 -0.165714591 -0.6856502 -0.6319125 -0.17882945  0.7625272 0.9073130\n",
       "6 0.5370580 -0.509640648 -0.4814119 -0.2562613  0.03042262  0.5599609 0.6985015\n",
       "7 1.0967340 -0.003677141 -0.5238978 -0.4560655 -0.41991430 -0.4008238 1.2675741\n",
       "      Ca44_X      Ca44_Y    Ca44_Z      Fe54_X     Fe54_Y    Fe54_Z      Mn55_Y\n",
       "3 -0.3490476 -0.04588794 1.3850935  0.02778132  0.1953278 2.2048724 -0.07706632\n",
       "4 -0.9234263 -0.45527417 1.1273534 -0.67605794 -0.8338170 0.5705388 -0.84112452\n",
       "6 -0.8045878 -0.24246767 1.3547620 -0.42104636 -0.2250984 0.9503082 -0.70930280\n",
       "7 -1.0154096 -0.53870722 0.7521073 -0.61173089 -0.4315672 0.2297787 -0.93167219\n",
       "      Mn55_X    Mn55_Z     Co59_X     Co59_Y   Co59_Z      Ni60_X     Ni60_Y\n",
       "3  0.0910199 1.6437918  0.1770873  0.3700099 1.850836  1.07815700  0.8700206\n",
       "4 -0.5318867 1.5918862 -0.8635415 -0.5089547 1.325218 -0.04830827 -0.1688004\n",
       "6 -0.5362674 1.1055167 -0.6411581 -0.5933760 0.792626 -0.29577210 -0.4127424\n",
       "7 -0.6433378 0.3628789 -0.9461025 -0.7220658 0.130732 -0.30130182 -0.3733176\n",
       "       Ni60_Z     Cu63_X     Cu63_Y     Cu63_Z      Zn66_X      Zn66_Y\n",
       "3  1.20469321  1.7971564  1.9177747  1.5740121  0.80883141  0.02375293\n",
       "4  0.13623245  0.4585584  0.3111568 -0.2592886 -0.17475730 -0.61832033\n",
       "6  0.02808839 -0.4362097 -0.6656590 -0.8423506  0.04691723 -0.76572084\n",
       "7 -0.28372345  0.6412584  0.1556224 -0.4928203 -0.04775761 -0.83070228\n",
       "       As75_Y      As75_Z    Rb85_X     Rb85_Y     Rb85_Z     Sr88_X\n",
       "3 -0.03074941  0.28411242 0.7282723  0.2055989 -0.6120379 -0.6039734\n",
       "4 -0.09993950  1.01280832 0.1428863 -0.3642275 -0.8458069 -0.8878819\n",
       "6 -0.53542095  0.09601298 1.0495630 -0.1600007 -0.6439250 -0.8504894\n",
       "7 -0.02892923 -0.12235443 1.4896398  0.1808739 -0.6673709 -0.9529411\n",
       "       Sr88_Y    Sr88_Z     Mo98_X      Mo98_Y      Mo98_Z     Cd111_X\n",
       "3 -0.06341075 1.2456871  0.9435268  1.38746658  2.45347320  0.27426695\n",
       "4 -0.35030478 1.1207339 -0.5683177 -0.63346341 -0.58880492 -0.10760622\n",
       "6 -0.19434795 1.1636525 -0.2198905 -0.06360089  0.19071777 -0.28521994\n",
       "7 -0.34702229 0.7062799 -0.3720918 -0.27543461 -0.07648191 -0.07045879\n",
       "      Cd111_Y    Cd111_Z\n",
       "3  0.15052785  0.3177210\n",
       "4 -0.03170441  0.3577694\n",
       "6 -0.28022374 -0.1114399\n",
       "7 -0.10347110 -0.0226391\n",
       "\n",
       "Coefficients of linear discriminants:\n",
       "                 LD1         LD2         LD3\n",
       "B11_X    0.037158836 -0.18133881 -0.07068343\n",
       "B11_Y   -0.289783809  0.25753505  0.03664624\n",
       "B11_Z    0.608226998  0.48256657 -0.01172772\n",
       "Na23_X  -0.072707949  0.28420964 -0.07770377\n",
       "Na23_Y  -0.404896821 -0.18289358 -0.85483949\n",
       "Na23_Z   0.043821631 -0.01191833  0.42703222\n",
       "Mg26_X   0.149530141 -0.91294985 -0.63336969\n",
       "Mg26_Y  -2.571712087 -0.58162155  0.73492485\n",
       "Mg26_Z   0.033237163  0.22738250  0.21200049\n",
       "Al27_X  -0.049174976 -0.01823181 -0.71393791\n",
       "Al27_Y  -0.120446900  0.47304864  0.04635959\n",
       "Al27_Z   0.277758235 -0.04968200 -0.22464787\n",
       "P31_X    0.926783257 -0.12745544  1.16671666\n",
       "P31_Y   -0.538932127  0.46672266  0.25343867\n",
       "P31_Z    0.018109712 -0.29212657 -0.10591637\n",
       "S34_X   -0.154465662  0.53775639  0.10272386\n",
       "S34_Y    0.322496604 -0.41728818 -1.34174246\n",
       "S34_Z   -0.607941803 -0.48901141  0.28566230\n",
       "K39_X    0.008648017 -0.22197313  0.17531013\n",
       "Ca44_X   2.707490848  3.93456358 -4.59569131\n",
       "Ca44_Y  -0.531979205  1.47195949 -2.50789408\n",
       "Ca44_Z   0.130398061 -0.55322080  1.44637777\n",
       "Fe54_X  -0.207941897 -1.10776345 -0.57872967\n",
       "Fe54_Y   1.433408073  0.40825107  1.72292128\n",
       "Fe54_Z  -0.314745143  0.47535859 -0.70147081\n",
       "Mn55_Y   0.106200237 -0.59790119 -3.60737678\n",
       "Mn55_X  -0.816274945  1.01704107  5.65711562\n",
       "Mn55_Z  -0.966115903 -0.15536449 -0.54533682\n",
       "Co59_X   0.493363759  0.93527980  2.71816472\n",
       "Co59_Y   0.028386663 -0.57171682 -2.96540445\n",
       "Co59_Z   1.123057334  0.51174029 -0.25434512\n",
       "Ni60_X   1.298012073  0.36770591 -1.30617098\n",
       "Ni60_Y  -2.813769099  1.02678463  1.67765717\n",
       "Ni60_Z  -0.017389860  0.02604340  0.05410686\n",
       "Cu63_X  -1.338327888 -0.35968665  1.00293904\n",
       "Cu63_Y   0.341703334 -0.11998281  0.12347825\n",
       "Cu63_Z  -0.453329869  0.60298174 -0.10270647\n",
       "Zn66_X   0.650026372 -0.12657476 -0.05458135\n",
       "Zn66_Y   0.717825811  0.07423447 -1.03563908\n",
       "As75_Y  -0.003822874 -0.66365329 -0.29075855\n",
       "As75_Z  -0.790187371 -0.82808140  0.34522327\n",
       "Rb85_X  -0.265062309  0.18500906  0.22092837\n",
       "Rb85_Y  -1.524034944 -0.36375551  1.00385217\n",
       "Rb85_Z   5.450537787  1.80679236 -2.88991743\n",
       "Sr88_X  -4.797998059 -3.66443098  6.08637912\n",
       "Sr88_Y  -0.678914343 -1.19347974  1.41573765\n",
       "Sr88_Z   0.935305224  0.62817847 -1.91861644\n",
       "Mo98_X  -1.038309212  0.25810479 -1.37322092\n",
       "Mo98_Y   0.756969311  1.00061637  1.11950377\n",
       "Mo98_Z   0.202259312  0.35142414  0.45227340\n",
       "Cd111_X -0.565418307 -0.06770489  0.62974971\n",
       "Cd111_Y -0.206916551 -0.60113853 -0.43805744\n",
       "Cd111_Z -2.397897576 -0.82630299 -1.24974701\n",
       "\n",
       "Proportion of trace:\n",
       "   LD1    LD2    LD3 \n",
       "0.5707 0.3280 0.1013 "
      ]
     },
     "metadata": {},
     "output_type": "display_data"
    }
   ],
   "source": [
    "#data set imputed with missMDA\n",
    "model.impute <- lda(spec_as_int~., data = train.data.impute)\n",
    "# Make predictions\n",
    "predictions.impute <- model.impute %>% predict(test.data.impute)\n",
    "# Model accuracy\n",
    "mean(predictions.impute$class == test.data.impute$spec_as_int)\n",
    "model.impute\n",
    "#TODO format data generated by model"
   ]
  },
  {
   "cell_type": "code",
   "execution_count": 42,
   "metadata": {},
   "outputs": [
    {
     "data": {
      "image/png": "[encoded data removed]",
      "text/plain": [
       "plot without title"
      ]
     },
     "metadata": {
      "image/png": {
       "height": 420,
       "width": 420
      },
      "text/plain": {
       "height": 420,
       "width": 420
      }
     },
     "output_type": "display_data"
    },
    {
     "data": {
      "image/png": "[encoded data removed]",
      "text/plain": [
       "plot without title"
      ]
     },
     "metadata": {
      "image/png": {
       "height": 420,
       "width": 420
      },
      "text/plain": {
       "height": 420,
       "width": 420
      }
     },
     "output_type": "display_data"
    },
    {
     "data": {
      "image/png": "[encoded data removed]",
      "text/plain": [
       "plot without title"
      ]
     },
     "metadata": {
      "image/png": {
       "height": 420,
       "width": 420
      },
      "text/plain": {
       "height": 420,
       "width": 420
      }
     },
     "output_type": "display_data"
    }
   ],
   "source": [
    "plot(model,main = \"Mice imputed\")\n",
    "plot(model.impute, main = \"missMDA imputed\")\n",
    "plot(model.raw, main = \"Raw\")\n",
    "#TODO a better way to do this "
   ]
  },
  {
   "cell_type": "code",
   "execution_count": 43,
   "metadata": {},
   "outputs": [
    {
     "data": {
      "text/html": [
       "<style>\n",
       ".list-inline {list-style: none; margin:0; padding: 0}\n",
       ".list-inline>li {display: inline-block}\n",
       ".list-inline>li:not(:last-child)::after {content: \"\\00b7\"; padding: 0 .5ex}\n",
       "</style>\n",
       "<ol class=list-inline><li>3</li><li>3</li><li>3</li><li>6</li><li>4</li><li>7</li></ol>\n",
       "\n",
       "<details>\n",
       "\t<summary style=display:list-item;cursor:pointer>\n",
       "\t\t<strong>Levels</strong>:\n",
       "\t</summary>\n",
       "\t<style>\n",
       "\t.list-inline {list-style: none; margin:0; padding: 0}\n",
       "\t.list-inline>li {display: inline-block}\n",
       "\t.list-inline>li:not(:last-child)::after {content: \"\\00b7\"; padding: 0 .5ex}\n",
       "\t</style>\n",
       "\t<ol class=list-inline><li>'3'</li><li>'4'</li><li>'6'</li><li>'7'</li></ol>\n",
       "</details>"
      ],
      "text/latex": [
       "\\begin{enumerate*}\n",
       "\\item 3\n",
       "\\item 3\n",
       "\\item 3\n",
       "\\item 6\n",
       "\\item 4\n",
       "\\item 7\n",
       "\\end{enumerate*}\n",
       "\n",
       "\\emph{Levels}: \\begin{enumerate*}\n",
       "\\item '3'\n",
       "\\item '4'\n",
       "\\item '6'\n",
       "\\item '7'\n",
       "\\end{enumerate*}\n"
      ],
      "text/markdown": [
       "1. 3\n",
       "2. 3\n",
       "3. 3\n",
       "4. 6\n",
       "5. 4\n",
       "6. 7\n",
       "\n",
       "\n",
       "\n",
       "**Levels**: 1. '3'\n",
       "2. '4'\n",
       "3. '6'\n",
       "4. '7'\n",
       "\n",
       "\n"
      ],
      "text/plain": [
       "[1] 3 3 3 6 4 7\n",
       "Levels: 3 4 6 7"
      ]
     },
     "metadata": {},
     "output_type": "display_data"
    },
    {
     "data": {
      "text/html": [
       "<table>\n",
       "<caption>A matrix: 6 × 4 of type dbl</caption>\n",
       "<thead>\n",
       "\t<tr><th></th><th scope=col>3</th><th scope=col>4</th><th scope=col>6</th><th scope=col>7</th></tr>\n",
       "</thead>\n",
       "<tbody>\n",
       "\t<tr><th scope=row>2</th><td>0.999993663</td><td>3.506205e-06</td><td>6.964212e-12</td><td>2.830584e-06</td></tr>\n",
       "\t<tr><th scope=row>8</th><td>0.998475083</td><td>1.524435e-03</td><td>4.509938e-07</td><td>3.065701e-08</td></tr>\n",
       "\t<tr><th scope=row>9</th><td>1.000000000</td><td>1.142537e-17</td><td>1.716897e-19</td><td>9.306689e-35</td></tr>\n",
       "\t<tr><th scope=row>10</th><td>0.012520808</td><td>4.201256e-01</td><td>5.319876e-01</td><td>3.536592e-02</td></tr>\n",
       "\t<tr><th scope=row>19</th><td>0.090149074</td><td>8.481696e-01</td><td>6.168131e-02</td><td>2.662976e-10</td></tr>\n",
       "\t<tr><th scope=row>23</th><td>0.003311488</td><td>1.497722e-02</td><td>1.885905e-04</td><td>9.815227e-01</td></tr>\n",
       "</tbody>\n",
       "</table>\n"
      ],
      "text/latex": [
       "A matrix: 6 × 4 of type dbl\n",
       "\\begin{tabular}{r|llll}\n",
       "  & 3 & 4 & 6 & 7\\\\\n",
       "\\hline\n",
       "\t2 & 0.999993663 & 3.506205e-06 & 6.964212e-12 & 2.830584e-06\\\\\n",
       "\t8 & 0.998475083 & 1.524435e-03 & 4.509938e-07 & 3.065701e-08\\\\\n",
       "\t9 & 1.000000000 & 1.142537e-17 & 1.716897e-19 & 9.306689e-35\\\\\n",
       "\t10 & 0.012520808 & 4.201256e-01 & 5.319876e-01 & 3.536592e-02\\\\\n",
       "\t19 & 0.090149074 & 8.481696e-01 & 6.168131e-02 & 2.662976e-10\\\\\n",
       "\t23 & 0.003311488 & 1.497722e-02 & 1.885905e-04 & 9.815227e-01\\\\\n",
       "\\end{tabular}\n"
      ],
      "text/markdown": [
       "\n",
       "A matrix: 6 × 4 of type dbl\n",
       "\n",
       "| <!--/--> | 3 | 4 | 6 | 7 |\n",
       "|---|---|---|---|---|\n",
       "| 2 | 0.999993663 | 3.506205e-06 | 6.964212e-12 | 2.830584e-06 |\n",
       "| 8 | 0.998475083 | 1.524435e-03 | 4.509938e-07 | 3.065701e-08 |\n",
       "| 9 | 1.000000000 | 1.142537e-17 | 1.716897e-19 | 9.306689e-35 |\n",
       "| 10 | 0.012520808 | 4.201256e-01 | 5.319876e-01 | 3.536592e-02 |\n",
       "| 19 | 0.090149074 | 8.481696e-01 | 6.168131e-02 | 2.662976e-10 |\n",
       "| 23 | 0.003311488 | 1.497722e-02 | 1.885905e-04 | 9.815227e-01 |\n",
       "\n"
      ],
      "text/plain": [
       "   3           4            6            7           \n",
       "2  0.999993663 3.506205e-06 6.964212e-12 2.830584e-06\n",
       "8  0.998475083 1.524435e-03 4.509938e-07 3.065701e-08\n",
       "9  1.000000000 1.142537e-17 1.716897e-19 9.306689e-35\n",
       "10 0.012520808 4.201256e-01 5.319876e-01 3.536592e-02\n",
       "19 0.090149074 8.481696e-01 6.168131e-02 2.662976e-10\n",
       "23 0.003311488 1.497722e-02 1.885905e-04 9.815227e-01"
      ]
     },
     "metadata": {},
     "output_type": "display_data"
    },
    {
     "data": {
      "text/html": [
       "<table>\n",
       "<caption>A matrix: 3 × 3 of type dbl</caption>\n",
       "<thead>\n",
       "\t<tr><th></th><th scope=col>LD1</th><th scope=col>LD2</th><th scope=col>LD3</th></tr>\n",
       "</thead>\n",
       "<tbody>\n",
       "\t<tr><th scope=row>2</th><td>-5.150104</td><td>-1.2280643</td><td> 0.9226758</td></tr>\n",
       "\t<tr><th scope=row>8</th><td>-3.451045</td><td>-0.6346537</td><td> 3.2136065</td></tr>\n",
       "\t<tr><th scope=row>9</th><td>-6.018965</td><td> 1.9072604</td><td>12.4855538</td></tr>\n",
       "</tbody>\n",
       "</table>\n"
      ],
      "text/latex": [
       "A matrix: 3 × 3 of type dbl\n",
       "\\begin{tabular}{r|lll}\n",
       "  & LD1 & LD2 & LD3\\\\\n",
       "\\hline\n",
       "\t2 & -5.150104 & -1.2280643 &  0.9226758\\\\\n",
       "\t8 & -3.451045 & -0.6346537 &  3.2136065\\\\\n",
       "\t9 & -6.018965 &  1.9072604 & 12.4855538\\\\\n",
       "\\end{tabular}\n"
      ],
      "text/markdown": [
       "\n",
       "A matrix: 3 × 3 of type dbl\n",
       "\n",
       "| <!--/--> | LD1 | LD2 | LD3 |\n",
       "|---|---|---|---|\n",
       "| 2 | -5.150104 | -1.2280643 |  0.9226758 |\n",
       "| 8 | -3.451045 | -0.6346537 |  3.2136065 |\n",
       "| 9 | -6.018965 |  1.9072604 | 12.4855538 |\n",
       "\n"
      ],
      "text/plain": [
       "  LD1       LD2        LD3       \n",
       "2 -5.150104 -1.2280643  0.9226758\n",
       "8 -3.451045 -0.6346537  3.2136065\n",
       "9 -6.018965  1.9072604 12.4855538"
      ]
     },
     "metadata": {},
     "output_type": "display_data"
    }
   ],
   "source": [
    "#mice imputed data\n",
    "# Predicted classes\n",
    "head(predictions$class, 6)\n",
    "# Predicted probabilities of class memebership.\n",
    "head(predictions$posterior, 6) \n",
    "# Linear discriminants\n",
    "head(predictions$x, 3)"
   ]
  },
  {
   "cell_type": "code",
   "execution_count": 44,
   "metadata": {},
   "outputs": [
    {
     "data": {
      "text/html": [
       "<style>\n",
       ".list-inline {list-style: none; margin:0; padding: 0}\n",
       ".list-inline>li {display: inline-block}\n",
       ".list-inline>li:not(:last-child)::after {content: \"\\00b7\"; padding: 0 .5ex}\n",
       "</style>\n",
       "<ol class=list-inline><li>6</li><li>3</li><li>7</li><li>3</li><li>7</li><li>3</li></ol>\n",
       "\n",
       "<details>\n",
       "\t<summary style=display:list-item;cursor:pointer>\n",
       "\t\t<strong>Levels</strong>:\n",
       "\t</summary>\n",
       "\t<style>\n",
       "\t.list-inline {list-style: none; margin:0; padding: 0}\n",
       "\t.list-inline>li {display: inline-block}\n",
       "\t.list-inline>li:not(:last-child)::after {content: \"\\00b7\"; padding: 0 .5ex}\n",
       "\t</style>\n",
       "\t<ol class=list-inline><li>'3'</li><li>'4'</li><li>'6'</li><li>'7'</li></ol>\n",
       "</details>"
      ],
      "text/latex": [
       "\\begin{enumerate*}\n",
       "\\item 6\n",
       "\\item 3\n",
       "\\item 7\n",
       "\\item 3\n",
       "\\item 7\n",
       "\\item 3\n",
       "\\end{enumerate*}\n",
       "\n",
       "\\emph{Levels}: \\begin{enumerate*}\n",
       "\\item '3'\n",
       "\\item '4'\n",
       "\\item '6'\n",
       "\\item '7'\n",
       "\\end{enumerate*}\n"
      ],
      "text/markdown": [
       "1. 6\n",
       "2. 3\n",
       "3. 7\n",
       "4. 3\n",
       "5. 7\n",
       "6. 3\n",
       "\n",
       "\n",
       "\n",
       "**Levels**: 1. '3'\n",
       "2. '4'\n",
       "3. '6'\n",
       "4. '7'\n",
       "\n",
       "\n"
      ],
      "text/plain": [
       "[1] 6 3 7 3 7 3\n",
       "Levels: 3 4 6 7"
      ]
     },
     "metadata": {},
     "output_type": "display_data"
    },
    {
     "data": {
      "text/html": [
       "<table>\n",
       "<caption>A matrix: 6 × 4 of type dbl</caption>\n",
       "<thead>\n",
       "\t<tr><th></th><th scope=col>3</th><th scope=col>4</th><th scope=col>6</th><th scope=col>7</th></tr>\n",
       "</thead>\n",
       "<tbody>\n",
       "\t<tr><th scope=row>1</th><td>4.605267e-17</td><td>1.322829e-03</td><td>9.960001e-01</td><td>2.677053e-03</td></tr>\n",
       "\t<tr><th scope=row>2</th><td>1.000000e+00</td><td>1.459177e-27</td><td>3.667796e-41</td><td>3.643026e-36</td></tr>\n",
       "\t<tr><th scope=row>3</th><td>9.518003e-12</td><td>1.529103e-08</td><td>5.776397e-02</td><td>9.422360e-01</td></tr>\n",
       "\t<tr><th scope=row>4</th><td>9.999982e-01</td><td>1.591250e-06</td><td>3.073207e-24</td><td>1.604899e-07</td></tr>\n",
       "\t<tr><th scope=row>5</th><td>4.606219e-06</td><td>5.087456e-09</td><td>1.949602e-10</td><td>9.999954e-01</td></tr>\n",
       "\t<tr><th scope=row>6</th><td>1.000000e+00</td><td>2.837271e-32</td><td>1.615014e-24</td><td>1.810218e-24</td></tr>\n",
       "</tbody>\n",
       "</table>\n"
      ],
      "text/latex": [
       "A matrix: 6 × 4 of type dbl\n",
       "\\begin{tabular}{r|llll}\n",
       "  & 3 & 4 & 6 & 7\\\\\n",
       "\\hline\n",
       "\t1 & 4.605267e-17 & 1.322829e-03 & 9.960001e-01 & 2.677053e-03\\\\\n",
       "\t2 & 1.000000e+00 & 1.459177e-27 & 3.667796e-41 & 3.643026e-36\\\\\n",
       "\t3 & 9.518003e-12 & 1.529103e-08 & 5.776397e-02 & 9.422360e-01\\\\\n",
       "\t4 & 9.999982e-01 & 1.591250e-06 & 3.073207e-24 & 1.604899e-07\\\\\n",
       "\t5 & 4.606219e-06 & 5.087456e-09 & 1.949602e-10 & 9.999954e-01\\\\\n",
       "\t6 & 1.000000e+00 & 2.837271e-32 & 1.615014e-24 & 1.810218e-24\\\\\n",
       "\\end{tabular}\n"
      ],
      "text/markdown": [
       "\n",
       "A matrix: 6 × 4 of type dbl\n",
       "\n",
       "| <!--/--> | 3 | 4 | 6 | 7 |\n",
       "|---|---|---|---|---|\n",
       "| 1 | 4.605267e-17 | 1.322829e-03 | 9.960001e-01 | 2.677053e-03 |\n",
       "| 2 | 1.000000e+00 | 1.459177e-27 | 3.667796e-41 | 3.643026e-36 |\n",
       "| 3 | 9.518003e-12 | 1.529103e-08 | 5.776397e-02 | 9.422360e-01 |\n",
       "| 4 | 9.999982e-01 | 1.591250e-06 | 3.073207e-24 | 1.604899e-07 |\n",
       "| 5 | 4.606219e-06 | 5.087456e-09 | 1.949602e-10 | 9.999954e-01 |\n",
       "| 6 | 1.000000e+00 | 2.837271e-32 | 1.615014e-24 | 1.810218e-24 |\n",
       "\n"
      ],
      "text/plain": [
       "  3            4            6            7           \n",
       "1 4.605267e-17 1.322829e-03 9.960001e-01 2.677053e-03\n",
       "2 1.000000e+00 1.459177e-27 3.667796e-41 3.643026e-36\n",
       "3 9.518003e-12 1.529103e-08 5.776397e-02 9.422360e-01\n",
       "4 9.999982e-01 1.591250e-06 3.073207e-24 1.604899e-07\n",
       "5 4.606219e-06 5.087456e-09 1.949602e-10 9.999954e-01\n",
       "6 1.000000e+00 2.837271e-32 1.615014e-24 1.810218e-24"
      ]
     },
     "metadata": {},
     "output_type": "display_data"
    },
    {
     "data": {
      "text/html": [
       "<table>\n",
       "<caption>A matrix: 3 × 3 of type dbl</caption>\n",
       "<thead>\n",
       "\t<tr><th></th><th scope=col>LD1</th><th scope=col>LD2</th><th scope=col>LD3</th></tr>\n",
       "</thead>\n",
       "<tbody>\n",
       "\t<tr><th scope=row>1</th><td> 1.165365</td><td>-2.1371303</td><td>-0.4790309</td></tr>\n",
       "\t<tr><th scope=row>2</th><td>-8.631945</td><td> 8.2752602</td><td>-0.7020291</td></tr>\n",
       "\t<tr><th scope=row>3</th><td> 1.059246</td><td> 0.3800684</td><td> 2.2311068</td></tr>\n",
       "</tbody>\n",
       "</table>\n"
      ],
      "text/latex": [
       "A matrix: 3 × 3 of type dbl\n",
       "\\begin{tabular}{r|lll}\n",
       "  & LD1 & LD2 & LD3\\\\\n",
       "\\hline\n",
       "\t1 &  1.165365 & -2.1371303 & -0.4790309\\\\\n",
       "\t2 & -8.631945 &  8.2752602 & -0.7020291\\\\\n",
       "\t3 &  1.059246 &  0.3800684 &  2.2311068\\\\\n",
       "\\end{tabular}\n"
      ],
      "text/markdown": [
       "\n",
       "A matrix: 3 × 3 of type dbl\n",
       "\n",
       "| <!--/--> | LD1 | LD2 | LD3 |\n",
       "|---|---|---|---|\n",
       "| 1 |  1.165365 | -2.1371303 | -0.4790309 |\n",
       "| 2 | -8.631945 |  8.2752602 | -0.7020291 |\n",
       "| 3 |  1.059246 |  0.3800684 |  2.2311068 |\n",
       "\n"
      ],
      "text/plain": [
       "  LD1       LD2        LD3       \n",
       "1  1.165365 -2.1371303 -0.4790309\n",
       "2 -8.631945  8.2752602 -0.7020291\n",
       "3  1.059246  0.3800684  2.2311068"
      ]
     },
     "metadata": {},
     "output_type": "display_data"
    }
   ],
   "source": [
    "#missMDA imputed data\n",
    "# Predicted classes\n",
    "head(predictions.impute$class, 6)\n",
    "# Predicted probabilities of class memebership.\n",
    "head(predictions.impute$posterior, 6) \n",
    "# Linear discriminants\n",
    "head(predictions.impute$x, 3)"
   ]
  },
  {
   "cell_type": "code",
   "execution_count": 45,
   "metadata": {},
   "outputs": [
    {
     "data": {
      "text/html": [
       "<style>\n",
       ".list-inline {list-style: none; margin:0; padding: 0}\n",
       ".list-inline>li {display: inline-block}\n",
       ".list-inline>li:not(:last-child)::after {content: \"\\00b7\"; padding: 0 .5ex}\n",
       "</style>\n",
       "<ol class=list-inline><li>3</li><li>3</li><li>3</li><li>7</li><li>4</li><li>4</li></ol>\n",
       "\n",
       "<details>\n",
       "\t<summary style=display:list-item;cursor:pointer>\n",
       "\t\t<strong>Levels</strong>:\n",
       "\t</summary>\n",
       "\t<style>\n",
       "\t.list-inline {list-style: none; margin:0; padding: 0}\n",
       "\t.list-inline>li {display: inline-block}\n",
       "\t.list-inline>li:not(:last-child)::after {content: \"\\00b7\"; padding: 0 .5ex}\n",
       "\t</style>\n",
       "\t<ol class=list-inline><li>'3'</li><li>'4'</li><li>'6'</li><li>'7'</li></ol>\n",
       "</details>"
      ],
      "text/latex": [
       "\\begin{enumerate*}\n",
       "\\item 3\n",
       "\\item 3\n",
       "\\item 3\n",
       "\\item 7\n",
       "\\item 4\n",
       "\\item 4\n",
       "\\end{enumerate*}\n",
       "\n",
       "\\emph{Levels}: \\begin{enumerate*}\n",
       "\\item '3'\n",
       "\\item '4'\n",
       "\\item '6'\n",
       "\\item '7'\n",
       "\\end{enumerate*}\n"
      ],
      "text/markdown": [
       "1. 3\n",
       "2. 3\n",
       "3. 3\n",
       "4. 7\n",
       "5. 4\n",
       "6. 4\n",
       "\n",
       "\n",
       "\n",
       "**Levels**: 1. '3'\n",
       "2. '4'\n",
       "3. '6'\n",
       "4. '7'\n",
       "\n",
       "\n"
      ],
      "text/plain": [
       "[1] 3 3 3 7 4 4\n",
       "Levels: 3 4 6 7"
      ]
     },
     "metadata": {},
     "output_type": "display_data"
    },
    {
     "data": {
      "text/html": [
       "<table>\n",
       "<caption>A matrix: 6 × 4 of type dbl</caption>\n",
       "<thead>\n",
       "\t<tr><th></th><th scope=col>3</th><th scope=col>4</th><th scope=col>6</th><th scope=col>7</th></tr>\n",
       "</thead>\n",
       "<tbody>\n",
       "\t<tr><th scope=row>8</th><td>9.930489e-01</td><td>8.730867e-08</td><td>6.939227e-03</td><td>1.174150e-05</td></tr>\n",
       "\t<tr><th scope=row>14</th><td>6.050700e-01</td><td>6.217189e-04</td><td>1.017246e-13</td><td>3.943082e-01</td></tr>\n",
       "\t<tr><th scope=row>15</th><td>1.000000e+00</td><td>7.789490e-28</td><td>1.572787e-13</td><td>1.214108e-17</td></tr>\n",
       "\t<tr><th scope=row>29</th><td>7.552610e-12</td><td>4.792598e-01</td><td>2.864338e-02</td><td>4.920968e-01</td></tr>\n",
       "\t<tr><th scope=row>36</th><td>1.302390e-12</td><td>1.000000e+00</td><td>2.301868e-09</td><td>1.392649e-08</td></tr>\n",
       "\t<tr><th scope=row>37</th><td>3.211328e-07</td><td>9.931451e-01</td><td>4.657375e-09</td><td>6.854533e-03</td></tr>\n",
       "</tbody>\n",
       "</table>\n"
      ],
      "text/latex": [
       "A matrix: 6 × 4 of type dbl\n",
       "\\begin{tabular}{r|llll}\n",
       "  & 3 & 4 & 6 & 7\\\\\n",
       "\\hline\n",
       "\t8 & 9.930489e-01 & 8.730867e-08 & 6.939227e-03 & 1.174150e-05\\\\\n",
       "\t14 & 6.050700e-01 & 6.217189e-04 & 1.017246e-13 & 3.943082e-01\\\\\n",
       "\t15 & 1.000000e+00 & 7.789490e-28 & 1.572787e-13 & 1.214108e-17\\\\\n",
       "\t29 & 7.552610e-12 & 4.792598e-01 & 2.864338e-02 & 4.920968e-01\\\\\n",
       "\t36 & 1.302390e-12 & 1.000000e+00 & 2.301868e-09 & 1.392649e-08\\\\\n",
       "\t37 & 3.211328e-07 & 9.931451e-01 & 4.657375e-09 & 6.854533e-03\\\\\n",
       "\\end{tabular}\n"
      ],
      "text/markdown": [
       "\n",
       "A matrix: 6 × 4 of type dbl\n",
       "\n",
       "| <!--/--> | 3 | 4 | 6 | 7 |\n",
       "|---|---|---|---|---|\n",
       "| 8 | 9.930489e-01 | 8.730867e-08 | 6.939227e-03 | 1.174150e-05 |\n",
       "| 14 | 6.050700e-01 | 6.217189e-04 | 1.017246e-13 | 3.943082e-01 |\n",
       "| 15 | 1.000000e+00 | 7.789490e-28 | 1.572787e-13 | 1.214108e-17 |\n",
       "| 29 | 7.552610e-12 | 4.792598e-01 | 2.864338e-02 | 4.920968e-01 |\n",
       "| 36 | 1.302390e-12 | 1.000000e+00 | 2.301868e-09 | 1.392649e-08 |\n",
       "| 37 | 3.211328e-07 | 9.931451e-01 | 4.657375e-09 | 6.854533e-03 |\n",
       "\n"
      ],
      "text/plain": [
       "   3            4            6            7           \n",
       "8  9.930489e-01 8.730867e-08 6.939227e-03 1.174150e-05\n",
       "14 6.050700e-01 6.217189e-04 1.017246e-13 3.943082e-01\n",
       "15 1.000000e+00 7.789490e-28 1.572787e-13 1.214108e-17\n",
       "29 7.552610e-12 4.792598e-01 2.864338e-02 4.920968e-01\n",
       "36 1.302390e-12 1.000000e+00 2.301868e-09 1.392649e-08\n",
       "37 3.211328e-07 9.931451e-01 4.657375e-09 6.854533e-03"
      ]
     },
     "metadata": {},
     "output_type": "display_data"
    },
    {
     "data": {
      "text/html": [
       "<table>\n",
       "<caption>A matrix: 3 × 3 of type dbl</caption>\n",
       "<thead>\n",
       "\t<tr><th></th><th scope=col>LD1</th><th scope=col>LD2</th><th scope=col>LD3</th></tr>\n",
       "</thead>\n",
       "<tbody>\n",
       "\t<tr><th scope=row>8</th><td>-0.43804943</td><td>2.725079</td><td>-1.0062417</td></tr>\n",
       "\t<tr><th scope=row>14</th><td>-5.79830198</td><td>1.458846</td><td> 3.3812624</td></tr>\n",
       "\t<tr><th scope=row>15</th><td>-0.03965959</td><td>9.201859</td><td>-0.3689606</td></tr>\n",
       "</tbody>\n",
       "</table>\n"
      ],
      "text/latex": [
       "A matrix: 3 × 3 of type dbl\n",
       "\\begin{tabular}{r|lll}\n",
       "  & LD1 & LD2 & LD3\\\\\n",
       "\\hline\n",
       "\t8 & -0.43804943 & 2.725079 & -1.0062417\\\\\n",
       "\t14 & -5.79830198 & 1.458846 &  3.3812624\\\\\n",
       "\t15 & -0.03965959 & 9.201859 & -0.3689606\\\\\n",
       "\\end{tabular}\n"
      ],
      "text/markdown": [
       "\n",
       "A matrix: 3 × 3 of type dbl\n",
       "\n",
       "| <!--/--> | LD1 | LD2 | LD3 |\n",
       "|---|---|---|---|\n",
       "| 8 | -0.43804943 | 2.725079 | -1.0062417 |\n",
       "| 14 | -5.79830198 | 1.458846 |  3.3812624 |\n",
       "| 15 | -0.03965959 | 9.201859 | -0.3689606 |\n",
       "\n"
      ],
      "text/plain": [
       "   LD1         LD2      LD3       \n",
       "8  -0.43804943 2.725079 -1.0062417\n",
       "14 -5.79830198 1.458846  3.3812624\n",
       "15 -0.03965959 9.201859 -0.3689606"
      ]
     },
     "metadata": {},
     "output_type": "display_data"
    }
   ],
   "source": [
    "#raw data\n",
    "# Predicted classes\n",
    "head(predictions.raw$class, 6)\n",
    "# Predicted probabilities of class memebership.\n",
    "head(predictions.raw$posterior, 6) \n",
    "# Linear discriminants\n",
    "head(predictions.raw$x, 3)"
   ]
  },
  {
   "cell_type": "code",
   "execution_count": 46,
   "metadata": {},
   "outputs": [
    {
     "data": {
      "text/plain": [
       "Confusion Matrix and Statistics\n",
       "\n",
       "         Species\n",
       "Predicted 3 4 6 7\n",
       "        3 3 0 0 0\n",
       "        4 0 9 1 0\n",
       "        6 0 0 8 0\n",
       "        7 0 2 1 7\n",
       "\n",
       "Overall Statistics\n",
       "                                          \n",
       "               Accuracy : 0.871           \n",
       "                 95% CI : (0.7017, 0.9637)\n",
       "    No Information Rate : 0.3548          \n",
       "    P-Value [Acc > NIR] : 4.188e-09       \n",
       "                                          \n",
       "                  Kappa : 0.8208          \n",
       "                                          \n",
       " Mcnemar's Test P-Value : NA              \n",
       "\n",
       "Statistics by Class:\n",
       "\n",
       "                     Class: 3 Class: 4 Class: 6 Class: 7\n",
       "Sensitivity           1.00000   0.8182   0.8000   1.0000\n",
       "Specificity           1.00000   0.9500   1.0000   0.8750\n",
       "Pos Pred Value        1.00000   0.9000   1.0000   0.7000\n",
       "Neg Pred Value        1.00000   0.9048   0.9130   1.0000\n",
       "Prevalence            0.09677   0.3548   0.3226   0.2258\n",
       "Detection Rate        0.09677   0.2903   0.2581   0.2258\n",
       "Detection Prevalence  0.09677   0.3226   0.2581   0.3226\n",
       "Balanced Accuracy     1.00000   0.8841   0.9000   0.9375"
      ]
     },
     "metadata": {},
     "output_type": "display_data"
    }
   ],
   "source": [
    "#raw data\n",
    "table.raw <- table(Predicted=predictions.raw$class, Species=test.data.raw$spec_as_int)\n",
    "confusionMatrix(table.raw)"
   ]
  },
  {
   "cell_type": "code",
   "execution_count": 47,
   "metadata": {},
   "outputs": [
    {
     "data": {
      "text/html": [
       "<style>\n",
       ".list-inline {list-style: none; margin:0; padding: 0}\n",
       ".list-inline>li {display: inline-block}\n",
       ".list-inline>li:not(:last-child)::after {content: \"\\00b7\"; padding: 0 .5ex}\n",
       "</style>\n",
       "<ol class=list-inline><li>'positive'</li><li>'table'</li><li>'overall'</li><li>'byClass'</li><li>'mode'</li><li>'dots'</li></ol>\n"
      ],
      "text/latex": [
       "\\begin{enumerate*}\n",
       "\\item 'positive'\n",
       "\\item 'table'\n",
       "\\item 'overall'\n",
       "\\item 'byClass'\n",
       "\\item 'mode'\n",
       "\\item 'dots'\n",
       "\\end{enumerate*}\n"
      ],
      "text/markdown": [
       "1. 'positive'\n",
       "2. 'table'\n",
       "3. 'overall'\n",
       "4. 'byClass'\n",
       "5. 'mode'\n",
       "6. 'dots'\n",
       "\n",
       "\n"
      ],
      "text/plain": [
       "[1] \"positive\" \"table\"    \"overall\"  \"byClass\"  \"mode\"     \"dots\"    "
      ]
     },
     "metadata": {},
     "output_type": "display_data"
    },
    {
     "data": {
      "text/html": [
       "<style>\n",
       ".list-inline {list-style: none; margin:0; padding: 0}\n",
       ".list-inline>li {display: inline-block}\n",
       ".list-inline>li:not(:last-child)::after {content: \"\\00b7\"; padding: 0 .5ex}\n",
       "</style>\n",
       "<ol class=list-inline><li>'Accuracy'</li><li>'Kappa'</li><li>'AccuracyLower'</li><li>'AccuracyUpper'</li><li>'AccuracyNull'</li><li>'AccuracyPValue'</li><li>'McnemarPValue'</li></ol>\n"
      ],
      "text/latex": [
       "\\begin{enumerate*}\n",
       "\\item 'Accuracy'\n",
       "\\item 'Kappa'\n",
       "\\item 'AccuracyLower'\n",
       "\\item 'AccuracyUpper'\n",
       "\\item 'AccuracyNull'\n",
       "\\item 'AccuracyPValue'\n",
       "\\item 'McnemarPValue'\n",
       "\\end{enumerate*}\n"
      ],
      "text/markdown": [
       "1. 'Accuracy'\n",
       "2. 'Kappa'\n",
       "3. 'AccuracyLower'\n",
       "4. 'AccuracyUpper'\n",
       "5. 'AccuracyNull'\n",
       "6. 'AccuracyPValue'\n",
       "7. 'McnemarPValue'\n",
       "\n",
       "\n"
      ],
      "text/plain": [
       "[1] \"Accuracy\"       \"Kappa\"          \"AccuracyLower\"  \"AccuracyUpper\" \n",
       "[5] \"AccuracyNull\"   \"AccuracyPValue\" \"McnemarPValue\" "
      ]
     },
     "metadata": {},
     "output_type": "display_data"
    }
   ],
   "source": [
    "#missMDA data\n",
    "table.impute <- table(Predicted=predictions.impute$class, Species=test.data.impute$spec_as_int)\n",
    "con <- confusionMatrix(table.impute)\n",
    "names(con)\n",
    "names(con$overall)"
   ]
  },
  {
   "cell_type": "code",
   "execution_count": 48,
   "metadata": {},
   "outputs": [
    {
     "data": {
      "text/plain": [
       "Confusion Matrix and Statistics\n",
       "\n",
       "         Species\n",
       "Predicted  3  4  6  7\n",
       "        3  4  0  0  0\n",
       "        4  2  5  0  1\n",
       "        6  2  0 14  1\n",
       "        7  1  0  1  1\n",
       "\n",
       "Overall Statistics\n",
       "                                         \n",
       "               Accuracy : 0.75           \n",
       "                 95% CI : (0.566, 0.8854)\n",
       "    No Information Rate : 0.4688         \n",
       "    P-Value [Acc > NIR] : 0.001154       \n",
       "                                         \n",
       "                  Kappa : 0.6257         \n",
       "                                         \n",
       " Mcnemar's Test P-Value : NA             \n",
       "\n",
       "Statistics by Class:\n",
       "\n",
       "                     Class: 3 Class: 4 Class: 6 Class: 7\n",
       "Sensitivity            0.4444   1.0000   0.9333  0.33333\n",
       "Specificity            1.0000   0.8889   0.8235  0.93103\n",
       "Pos Pred Value         1.0000   0.6250   0.8235  0.33333\n",
       "Neg Pred Value         0.8214   1.0000   0.9333  0.93103\n",
       "Prevalence             0.2812   0.1562   0.4688  0.09375\n",
       "Detection Rate         0.1250   0.1562   0.4375  0.03125\n",
       "Detection Prevalence   0.1250   0.2500   0.5312  0.09375\n",
       "Balanced Accuracy      0.7222   0.9444   0.8784  0.63218"
      ]
     },
     "metadata": {},
     "output_type": "display_data"
    }
   ],
   "source": [
    "#mice data\n",
    "table <- table(Predicted=predictions$class, Species=test.data$spec_as_int)\n",
    "confusionMatrix(table)"
   ]
  }
 ],
 "metadata": {
  "kernelspec": {
   "display_name": "R",
   "language": "R",
   "name": "ir"
  },
  "language_info": {
   "codemirror_mode": "r",
   "file_extension": ".r",
   "mimetype": "text/x-r-source",
   "name": "R",
   "pygments_lexer": "r",
   "version": "3.6.3"
  }
 },
 "nbformat": 4,
 "nbformat_minor": 4
}
