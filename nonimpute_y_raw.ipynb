{
 "cells": [
  {
   "cell_type": "code",
   "execution_count": 1,
   "metadata": {},
   "outputs": [
    {
     "name": "stderr",
     "output_type": "stream",
     "text": [
      "Installing package into 'C:/Users/2198K/Documents/R/win-library/3.6'\n",
      "(as 'lib' is unspecified)\n",
      "\n"
     ]
    },
    {
     "name": "stdout",
     "output_type": "stream",
     "text": [
      "package 'MASS' successfully unpacked and MD5 sums checked\n"
     ]
    },
    {
     "name": "stderr",
     "output_type": "stream",
     "text": [
      "Warning message:\n",
      "\"cannot remove prior installation of package 'MASS'\"\n",
      "Warning message in file.copy(savedcopy, lib, recursive = TRUE):\n",
      "\"problem copying C:\\Users\\2198K\\Documents\\R\\win-library\\3.6\\00LOCK\\MASS\\libs\\x64\\MASS.dll to C:\\Users\\2198K\\Documents\\R\\win-library\\3.6\\MASS\\libs\\x64\\MASS.dll: Permission denied\"\n",
      "Warning message:\n",
      "\"restored 'MASS'\"\n"
     ]
    },
    {
     "name": "stdout",
     "output_type": "stream",
     "text": [
      "\n",
      "The downloaded binary packages are in\n",
      "\tC:\\Users\\2198K\\AppData\\Local\\Temp\\RtmpCYPb0P\\downloaded_packages\n"
     ]
    },
    {
     "name": "stderr",
     "output_type": "stream",
     "text": [
      "Installing package into 'C:/Users/2198K/Documents/R/win-library/3.6'\n",
      "(as 'lib' is unspecified)\n",
      "\n"
     ]
    },
    {
     "name": "stdout",
     "output_type": "stream",
     "text": [
      "package 'tidyverse' successfully unpacked and MD5 sums checked\n",
      "\n",
      "The downloaded binary packages are in\n",
      "\tC:\\Users\\2198K\\AppData\\Local\\Temp\\RtmpCYPb0P\\downloaded_packages\n"
     ]
    },
    {
     "name": "stderr",
     "output_type": "stream",
     "text": [
      "-- \u001b[1mAttaching packages\u001b[22m --------------------------------------- tidyverse 1.3.0 --\n",
      "\n",
      "\u001b[32mv\u001b[39m \u001b[34mggplot2\u001b[39m 3.2.1     \u001b[32mv\u001b[39m \u001b[34mpurrr  \u001b[39m 0.3.3\n",
      "\u001b[32mv\u001b[39m \u001b[34mtibble \u001b[39m 2.1.3     \u001b[32mv\u001b[39m \u001b[34mdplyr  \u001b[39m 0.8.4\n",
      "\u001b[32mv\u001b[39m \u001b[34mtidyr  \u001b[39m 1.0.2     \u001b[32mv\u001b[39m \u001b[34mstringr\u001b[39m 1.4.0\n",
      "\u001b[32mv\u001b[39m \u001b[34mreadr  \u001b[39m 1.3.1     \u001b[32mv\u001b[39m \u001b[34mforcats\u001b[39m 0.4.0\n",
      "\n",
      "-- \u001b[1mConflicts\u001b[22m ------------------------------------------ tidyverse_conflicts() --\n",
      "\u001b[31mx\u001b[39m \u001b[34mdplyr\u001b[39m::\u001b[32mfilter()\u001b[39m masks \u001b[34mstats\u001b[39m::filter()\n",
      "\u001b[31mx\u001b[39m \u001b[34mdplyr\u001b[39m::\u001b[32mlag()\u001b[39m    masks \u001b[34mstats\u001b[39m::lag()\n",
      "\u001b[31mx\u001b[39m \u001b[34mdplyr\u001b[39m::\u001b[32mselect()\u001b[39m masks \u001b[34mMASS\u001b[39m::select()\n",
      "\n",
      "Installing package into 'C:/Users/2198K/Documents/R/win-library/3.6'\n",
      "(as 'lib' is unspecified)\n",
      "\n"
     ]
    },
    {
     "name": "stdout",
     "output_type": "stream",
     "text": [
      "package 'caret' successfully unpacked and MD5 sums checked\n"
     ]
    },
    {
     "name": "stderr",
     "output_type": "stream",
     "text": [
      "Warning message:\n",
      "\"cannot remove prior installation of package 'caret'\"\n",
      "Warning message in file.copy(savedcopy, lib, recursive = TRUE):\n",
      "\"problem copying C:\\Users\\2198K\\Documents\\R\\win-library\\3.6\\00LOCK\\caret\\libs\\x64\\caret.dll to C:\\Users\\2198K\\Documents\\R\\win-library\\3.6\\caret\\libs\\x64\\caret.dll: Permission denied\"\n",
      "Warning message:\n",
      "\"restored 'caret'\"\n"
     ]
    },
    {
     "name": "stdout",
     "output_type": "stream",
     "text": [
      "\n",
      "The downloaded binary packages are in\n",
      "\tC:\\Users\\2198K\\AppData\\Local\\Temp\\RtmpCYPb0P\\downloaded_packages\n"
     ]
    },
    {
     "name": "stderr",
     "output_type": "stream",
     "text": [
      "Loading required package: lattice\n",
      "\n",
      "\n",
      "Attaching package: 'caret'\n",
      "\n",
      "\n",
      "The following object is masked from 'package:purrr':\n",
      "\n",
      "    lift\n",
      "\n",
      "\n",
      "Installing package into 'C:/Users/2198K/Documents/R/win-library/3.6'\n",
      "(as 'lib' is unspecified)\n",
      "\n"
     ]
    },
    {
     "name": "stdout",
     "output_type": "stream",
     "text": [
      "package 'mltest' successfully unpacked and MD5 sums checked\n",
      "\n",
      "The downloaded binary packages are in\n",
      "\tC:\\Users\\2198K\\AppData\\Local\\Temp\\RtmpCYPb0P\\downloaded_packages\n"
     ]
    }
   ],
   "source": [
    "install.packages(\"MASS\")\n",
    "library(\"MASS\")\n",
    "install.packages(\"tidyverse\")\n",
    "library(\"tidyverse\")\n",
    "install.packages(\"caret\")\n",
    "library(\"caret\")\n",
    "install.packages(\"mltest\")\n",
    "library(\"mltest\")"
   ]
  },
  {
   "cell_type": "code",
   "execution_count": 10,
   "metadata": {},
   "outputs": [],
   "source": [
    "ionomics <- read.csv('geneva_y_raw_spec_as_int.csv',colClasses =c(\"NULL\",\"NULL\",NA,NA,NA,NA,NA,NA,NA,NA,NA,NA,NA,NA,NA,\n",
    "                                                                    NA,NA,NA,NA,NA,NA,NA))\n",
    "ionomics = ionomics[0:200,]"
   ]
  },
  {
   "cell_type": "code",
   "execution_count": 11,
   "metadata": {},
   "outputs": [],
   "source": [
    "# Split the data into training (80%) and test set (20%)\n",
    "set.seed(123)\n",
    "training.samples <- ionomics[,2] %>%\n",
    "  createDataPartition(p = 0.8, list = FALSE)\n",
    "train.data <- ionomics[training.samples, ]\n",
    "test.data <- ionomics[-training.samples, ]"
   ]
  },
  {
   "cell_type": "code",
   "execution_count": 12,
   "metadata": {},
   "outputs": [
    {
     "data": {
      "text/html": [
       "0.6"
      ],
      "text/latex": [
       "0.6"
      ],
      "text/markdown": [
       "0.6"
      ],
      "text/plain": [
       "[1] 0.6"
      ]
     },
     "metadata": {},
     "output_type": "display_data"
    },
    {
     "data": {
      "text/plain": [
       "Call:\n",
       "lda(spec_as_int ~ ., data = train.data)\n",
       "\n",
       "Prior probabilities of groups:\n",
       "      1       2       3       4       5       6       7       8 \n",
       "0.05625 0.03125 0.15000 0.20000 0.02500 0.36250 0.11250 0.06250 \n",
       "\n",
       "Group means:\n",
       "       B11      Na23     Mg26      Al27      P31      S34      K39      Ca44\n",
       "1 72.11339  74.35893 1382.970  6.738372 3681.906 2186.687 11010.92  8298.215\n",
       "2 68.84750  73.01340 1767.475  8.544639 4659.557 2610.133 13063.98 10359.823\n",
       "3 83.11139 114.60682 2210.137 18.345501 6138.352 3217.857 15982.22 12177.212\n",
       "4 70.07269  78.31178 2262.089 10.092397 4671.786 2480.695 14844.20  9053.353\n",
       "5 46.59096  81.36729 1619.238 21.004157 6014.788 2599.490 14672.10  6666.849\n",
       "6 78.49168  58.76809 1548.382  7.585533 4178.446 2608.028 13520.13 11073.649\n",
       "7 84.77534  54.18606 2015.249 18.085314 4609.254 2287.535 13172.75  8704.387\n",
       "8 80.46978  58.81165 1599.386  9.422062 4489.586 2261.334 13049.56  8395.261\n",
       "      Fe54     Mn55      Co59      Ni60      Cu63      Zn66        As75\n",
       "1 52.09596 324.9498 0.1290565 0.3260460  27.18233  76.87655 0.008979017\n",
       "2 54.55928 355.0634 0.1448650 0.6967723  63.18125  88.70268 0.014203758\n",
       "3 77.81715 488.5758 0.2111587 2.0932569 106.11244 116.92439 0.014559027\n",
       "4 42.74747 306.9973 0.1290094 0.7564055  62.20945  82.40712 0.015218805\n",
       "5 41.95617 463.3165 0.2347810 3.0502213  42.13937  85.83843 0.016358472\n",
       "6 63.81264 311.3512 0.1232020 0.3942611  31.81032  70.84022 0.008086235\n",
       "7 54.48208 289.7225 0.1103521 0.4138506  54.77204  69.99246 0.016434957\n",
       "8 60.91595 368.6191 0.1523617 0.5581446  52.20430  89.27700 0.013010446\n",
       "      Rb85      Sr88      Mo98      Cd111\n",
       "1 3.911317 10.711540 0.3096866 0.01902121\n",
       "2 2.304055 12.219841 0.1970144 0.04572886\n",
       "3 3.306033 14.743383 1.0542315 0.04333417\n",
       "4 2.182771 10.829366 0.1590954 0.03259329\n",
       "5 3.403473  7.483722 0.1679669 0.02549776\n",
       "6 2.636306 12.857482 0.3686544 0.01982015\n",
       "7 3.517014 11.271260 0.3053362 0.02811010\n",
       "8 2.070215  9.127121 0.4198029 0.03460276\n",
       "\n",
       "Coefficients of linear discriminants:\n",
       "                LD1           LD2           LD3           LD4           LD5\n",
       "B11   -8.039099e-03 -5.398193e-03 -1.747568e-02 -5.996594e-03  1.611679e-02\n",
       "Na23   3.756218e-03  4.505925e-03  1.522207e-03  5.184789e-03 -4.695188e-03\n",
       "Mg26   6.420863e-04  1.694294e-03 -4.430731e-04 -1.612410e-04  1.533632e-03\n",
       "Al27   3.367877e-02 -1.988032e-02  9.742381e-04  1.909344e-02  3.435987e-02\n",
       "P31    1.972428e-04 -2.882574e-04  2.616977e-04 -3.964465e-04  2.291587e-04\n",
       "S34   -4.301915e-04  2.181657e-04  5.656504e-04  1.444064e-03  1.768050e-04\n",
       "K39   -8.100083e-06  2.094539e-05 -2.096353e-05  3.028106e-04 -1.289755e-05\n",
       "Ca44   7.565753e-06 -8.154015e-05 -8.515217e-06  2.076068e-04  1.799621e-04\n",
       "Fe54  -2.968670e-03 -2.515679e-02 -2.804338e-02  1.627043e-03 -1.979860e-03\n",
       "Mn55   1.935946e-03 -2.307124e-03 -7.464612e-03 -8.355474e-03  4.943690e-03\n",
       "Co59   3.646641e+00  2.501294e+00  1.989331e+01  1.213209e+01 -1.514117e+01\n",
       "Ni60   7.367396e-01 -5.827770e-01  1.206587e+00 -3.086424e-01  6.077406e-01\n",
       "Cu63   2.395646e-02  1.492804e-02 -2.644207e-02 -1.615737e-03 -8.439465e-03\n",
       "Zn66  -7.665197e-03  3.759284e-03  5.832982e-04  2.583364e-05 -2.602338e-02\n",
       "As75  -3.412776e+01  3.767290e+01  6.733423e+00 -2.933222e+00 -2.101220e+01\n",
       "Rb85  -1.571436e-01 -2.430298e-01 -1.512029e-01 -5.085561e-01  2.101742e-01\n",
       "Sr88  -3.050689e-03 -8.845608e-03  3.890005e-02 -7.399342e-02 -1.308720e-01\n",
       "Mo98   1.159956e+00 -1.698863e+00 -1.184346e+00 -1.097105e-01  1.381667e-01\n",
       "Cd111  2.340635e+01  2.600365e+01 -1.940159e+01 -8.737279e+00 -2.483803e+01\n",
       "                LD6           LD7\n",
       "B11   -1.811548e-02  4.178841e-03\n",
       "Na23   1.619542e-02  3.511602e-04\n",
       "Mg26   4.534429e-04  8.409059e-04\n",
       "Al27  -3.433789e-02  5.152909e-04\n",
       "P31   -5.563428e-04 -1.621737e-04\n",
       "S34    6.174829e-04 -7.625630e-04\n",
       "K39   -8.711637e-05  9.423170e-05\n",
       "Ca44  -4.361458e-05 -1.118624e-04\n",
       "Fe54  -1.380823e-02 -2.803668e-03\n",
       "Mn55   1.486673e-04 -1.805236e-03\n",
       "Co59  -7.174093e+00  1.304278e+01\n",
       "Ni60   1.992604e-01 -3.888641e-01\n",
       "Cu63   3.227893e-03 -5.823319e-03\n",
       "Zn66   6.323359e-03  1.582445e-02\n",
       "As75   1.120450e+01  1.299549e+01\n",
       "Rb85   3.796960e-01 -2.873536e-01\n",
       "Sr88   8.228597e-02 -1.297579e-02\n",
       "Mo98   4.846568e-01  1.644593e+00\n",
       "Cd111 -2.005848e+01 -5.572290e+01\n",
       "\n",
       "Proportion of trace:\n",
       "   LD1    LD2    LD3    LD4    LD5    LD6    LD7 \n",
       "0.4884 0.2417 0.1400 0.0662 0.0315 0.0226 0.0095 "
      ]
     },
     "metadata": {},
     "output_type": "display_data"
    }
   ],
   "source": [
    "# Fit the model\n",
    "model <- lda(spec_as_int~., data = train.data)\n",
    "# Make predictions\n",
    "predictions <- model %>% predict(test.data)\n",
    "# Model accuracy\n",
    "mean(predictions$class==test.data$spec_as_int)\n",
    "model"
   ]
  },
  {
   "cell_type": "code",
   "execution_count": 13,
   "metadata": {},
   "outputs": [
    {
     "data": {
      "image/png": "[encoded data removed]",
      "text/plain": [
       "plot without title"
      ]
     },
     "metadata": {
      "image/png": {
       "height": 420,
       "width": 420
      },
      "text/plain": {
       "height": 420,
       "width": 420
      }
     },
     "output_type": "display_data"
    }
   ],
   "source": [
    "plot(model)"
   ]
  },
  {
   "cell_type": "code",
   "execution_count": 14,
   "metadata": {},
   "outputs": [
    {
     "data": {
      "text/html": [
       "<style>\n",
       ".list-inline {list-style: none; margin:0; padding: 0}\n",
       ".list-inline>li {display: inline-block}\n",
       ".list-inline>li:not(:last-child)::after {content: \"\\00b7\"; padding: 0 .5ex}\n",
       "</style>\n",
       "<ol class=list-inline><li>1</li><li>2</li><li>6</li><li>4</li><li>5</li><li>8</li></ol>\n",
       "\n",
       "<details>\n",
       "\t<summary style=display:list-item;cursor:pointer>\n",
       "\t\t<strong>Levels</strong>:\n",
       "\t</summary>\n",
       "\t<style>\n",
       "\t.list-inline {list-style: none; margin:0; padding: 0}\n",
       "\t.list-inline>li {display: inline-block}\n",
       "\t.list-inline>li:not(:last-child)::after {content: \"\\00b7\"; padding: 0 .5ex}\n",
       "\t</style>\n",
       "\t<ol class=list-inline><li>'1'</li><li>'2'</li><li>'3'</li><li>'4'</li><li>'5'</li><li>'6'</li><li>'7'</li><li>'8'</li></ol>\n",
       "</details>"
      ],
      "text/latex": [
       "\\begin{enumerate*}\n",
       "\\item 1\n",
       "\\item 2\n",
       "\\item 6\n",
       "\\item 4\n",
       "\\item 5\n",
       "\\item 8\n",
       "\\end{enumerate*}\n",
       "\n",
       "\\emph{Levels}: \\begin{enumerate*}\n",
       "\\item '1'\n",
       "\\item '2'\n",
       "\\item '3'\n",
       "\\item '4'\n",
       "\\item '5'\n",
       "\\item '6'\n",
       "\\item '7'\n",
       "\\item '8'\n",
       "\\end{enumerate*}\n"
      ],
      "text/markdown": [
       "1. 1\n",
       "2. 2\n",
       "3. 6\n",
       "4. 4\n",
       "5. 5\n",
       "6. 8\n",
       "\n",
       "\n",
       "\n",
       "**Levels**: 1. '1'\n",
       "2. '2'\n",
       "3. '3'\n",
       "4. '4'\n",
       "5. '5'\n",
       "6. '6'\n",
       "7. '7'\n",
       "8. '8'\n",
       "\n",
       "\n"
      ],
      "text/plain": [
       "[1] 1 2 6 4 5 8\n",
       "Levels: 1 2 3 4 5 6 7 8"
      ]
     },
     "metadata": {},
     "output_type": "display_data"
    },
    {
     "data": {
      "text/html": [
       "<table>\n",
       "<caption>A matrix: 6 × 8 of type dbl</caption>\n",
       "<thead>\n",
       "\t<tr><th></th><th scope=col>1</th><th scope=col>2</th><th scope=col>3</th><th scope=col>4</th><th scope=col>5</th><th scope=col>6</th><th scope=col>7</th><th scope=col>8</th></tr>\n",
       "</thead>\n",
       "<tbody>\n",
       "\t<tr><th scope=row>2</th><td>6.548263e-01</td><td>2.048900e-03</td><td>1.156106e-08</td><td>1.812172e-03</td><td>2.637321e-11</td><td>2.944289e-01</td><td>3.639311e-02</td><td>1.049059e-02</td></tr>\n",
       "\t<tr><th scope=row>3</th><td>1.440075e-05</td><td>5.475552e-01</td><td>4.175053e-04</td><td>1.313885e-01</td><td>5.358183e-12</td><td>7.006979e-03</td><td>3.051960e-01</td><td>8.421409e-03</td></tr>\n",
       "\t<tr><th scope=row>7</th><td>1.473860e-01</td><td>4.963049e-03</td><td>7.206547e-07</td><td>1.172905e-04</td><td>1.108886e-09</td><td>7.041868e-01</td><td>1.357824e-01</td><td>7.563735e-03</td></tr>\n",
       "\t<tr><th scope=row>18</th><td>2.033867e-05</td><td>3.423053e-01</td><td>2.778079e-07</td><td>6.464779e-01</td><td>1.240562e-11</td><td>3.012882e-03</td><td>6.501603e-03</td><td>1.681717e-03</td></tr>\n",
       "\t<tr><th scope=row>19</th><td>7.869685e-07</td><td>6.144230e-12</td><td>3.568654e-06</td><td>6.908012e-11</td><td>9.999956e-01</td><td>8.185079e-12</td><td>3.655511e-10</td><td>5.933529e-12</td></tr>\n",
       "\t<tr><th scope=row>25</th><td>2.083258e-06</td><td>1.458043e-01</td><td>3.741627e-01</td><td>4.845020e-02</td><td>1.248637e-12</td><td>1.568518e-03</td><td>2.626828e-02</td><td>4.037440e-01</td></tr>\n",
       "</tbody>\n",
       "</table>\n"
      ],
      "text/latex": [
       "A matrix: 6 × 8 of type dbl\n",
       "\\begin{tabular}{r|llllllll}\n",
       "  & 1 & 2 & 3 & 4 & 5 & 6 & 7 & 8\\\\\n",
       "\\hline\n",
       "\t2 & 6.548263e-01 & 2.048900e-03 & 1.156106e-08 & 1.812172e-03 & 2.637321e-11 & 2.944289e-01 & 3.639311e-02 & 1.049059e-02\\\\\n",
       "\t3 & 1.440075e-05 & 5.475552e-01 & 4.175053e-04 & 1.313885e-01 & 5.358183e-12 & 7.006979e-03 & 3.051960e-01 & 8.421409e-03\\\\\n",
       "\t7 & 1.473860e-01 & 4.963049e-03 & 7.206547e-07 & 1.172905e-04 & 1.108886e-09 & 7.041868e-01 & 1.357824e-01 & 7.563735e-03\\\\\n",
       "\t18 & 2.033867e-05 & 3.423053e-01 & 2.778079e-07 & 6.464779e-01 & 1.240562e-11 & 3.012882e-03 & 6.501603e-03 & 1.681717e-03\\\\\n",
       "\t19 & 7.869685e-07 & 6.144230e-12 & 3.568654e-06 & 6.908012e-11 & 9.999956e-01 & 8.185079e-12 & 3.655511e-10 & 5.933529e-12\\\\\n",
       "\t25 & 2.083258e-06 & 1.458043e-01 & 3.741627e-01 & 4.845020e-02 & 1.248637e-12 & 1.568518e-03 & 2.626828e-02 & 4.037440e-01\\\\\n",
       "\\end{tabular}\n"
      ],
      "text/markdown": [
       "\n",
       "A matrix: 6 × 8 of type dbl\n",
       "\n",
       "| <!--/--> | 1 | 2 | 3 | 4 | 5 | 6 | 7 | 8 |\n",
       "|---|---|---|---|---|---|---|---|---|\n",
       "| 2 | 6.548263e-01 | 2.048900e-03 | 1.156106e-08 | 1.812172e-03 | 2.637321e-11 | 2.944289e-01 | 3.639311e-02 | 1.049059e-02 |\n",
       "| 3 | 1.440075e-05 | 5.475552e-01 | 4.175053e-04 | 1.313885e-01 | 5.358183e-12 | 7.006979e-03 | 3.051960e-01 | 8.421409e-03 |\n",
       "| 7 | 1.473860e-01 | 4.963049e-03 | 7.206547e-07 | 1.172905e-04 | 1.108886e-09 | 7.041868e-01 | 1.357824e-01 | 7.563735e-03 |\n",
       "| 18 | 2.033867e-05 | 3.423053e-01 | 2.778079e-07 | 6.464779e-01 | 1.240562e-11 | 3.012882e-03 | 6.501603e-03 | 1.681717e-03 |\n",
       "| 19 | 7.869685e-07 | 6.144230e-12 | 3.568654e-06 | 6.908012e-11 | 9.999956e-01 | 8.185079e-12 | 3.655511e-10 | 5.933529e-12 |\n",
       "| 25 | 2.083258e-06 | 1.458043e-01 | 3.741627e-01 | 4.845020e-02 | 1.248637e-12 | 1.568518e-03 | 2.626828e-02 | 4.037440e-01 |\n",
       "\n"
      ],
      "text/plain": [
       "   1            2            3            4            5           \n",
       "2  6.548263e-01 2.048900e-03 1.156106e-08 1.812172e-03 2.637321e-11\n",
       "3  1.440075e-05 5.475552e-01 4.175053e-04 1.313885e-01 5.358183e-12\n",
       "7  1.473860e-01 4.963049e-03 7.206547e-07 1.172905e-04 1.108886e-09\n",
       "18 2.033867e-05 3.423053e-01 2.778079e-07 6.464779e-01 1.240562e-11\n",
       "19 7.869685e-07 6.144230e-12 3.568654e-06 6.908012e-11 9.999956e-01\n",
       "25 2.083258e-06 1.458043e-01 3.741627e-01 4.845020e-02 1.248637e-12\n",
       "   6            7            8           \n",
       "2  2.944289e-01 3.639311e-02 1.049059e-02\n",
       "3  7.006979e-03 3.051960e-01 8.421409e-03\n",
       "7  7.041868e-01 1.357824e-01 7.563735e-03\n",
       "18 3.012882e-03 6.501603e-03 1.681717e-03\n",
       "19 8.185079e-12 3.655511e-10 5.933529e-12\n",
       "25 1.568518e-03 2.626828e-02 4.037440e-01"
      ]
     },
     "metadata": {},
     "output_type": "display_data"
    },
    {
     "data": {
      "text/html": [
       "<table>\n",
       "<caption>A matrix: 3 × 7 of type dbl</caption>\n",
       "<thead>\n",
       "\t<tr><th></th><th scope=col>LD1</th><th scope=col>LD2</th><th scope=col>LD3</th><th scope=col>LD4</th><th scope=col>LD5</th><th scope=col>LD6</th><th scope=col>LD7</th></tr>\n",
       "</thead>\n",
       "<tbody>\n",
       "\t<tr><th scope=row>2</th><td>-1.849213</td><td>-0.2156998</td><td> 0.3529770</td><td>-1.4418603</td><td>-0.5209704</td><td> 0.9349079</td><td>-0.3121711</td></tr>\n",
       "\t<tr><th scope=row>3</th><td> 0.873355</td><td> 1.2752618</td><td>-0.8282290</td><td>-0.1685723</td><td> 0.7164109</td><td>-0.8275122</td><td>-3.1215868</td></tr>\n",
       "\t<tr><th scope=row>7</th><td>-1.222756</td><td>-1.4629464</td><td> 0.1957618</td><td>-1.6183887</td><td> 0.4765757</td><td>-0.1289866</td><td>-2.4994249</td></tr>\n",
       "</tbody>\n",
       "</table>\n"
      ],
      "text/latex": [
       "A matrix: 3 × 7 of type dbl\n",
       "\\begin{tabular}{r|lllllll}\n",
       "  & LD1 & LD2 & LD3 & LD4 & LD5 & LD6 & LD7\\\\\n",
       "\\hline\n",
       "\t2 & -1.849213 & -0.2156998 &  0.3529770 & -1.4418603 & -0.5209704 &  0.9349079 & -0.3121711\\\\\n",
       "\t3 &  0.873355 &  1.2752618 & -0.8282290 & -0.1685723 &  0.7164109 & -0.8275122 & -3.1215868\\\\\n",
       "\t7 & -1.222756 & -1.4629464 &  0.1957618 & -1.6183887 &  0.4765757 & -0.1289866 & -2.4994249\\\\\n",
       "\\end{tabular}\n"
      ],
      "text/markdown": [
       "\n",
       "A matrix: 3 × 7 of type dbl\n",
       "\n",
       "| <!--/--> | LD1 | LD2 | LD3 | LD4 | LD5 | LD6 | LD7 |\n",
       "|---|---|---|---|---|---|---|---|\n",
       "| 2 | -1.849213 | -0.2156998 |  0.3529770 | -1.4418603 | -0.5209704 |  0.9349079 | -0.3121711 |\n",
       "| 3 |  0.873355 |  1.2752618 | -0.8282290 | -0.1685723 |  0.7164109 | -0.8275122 | -3.1215868 |\n",
       "| 7 | -1.222756 | -1.4629464 |  0.1957618 | -1.6183887 |  0.4765757 | -0.1289866 | -2.4994249 |\n",
       "\n"
      ],
      "text/plain": [
       "  LD1       LD2        LD3        LD4        LD5        LD6        LD7       \n",
       "2 -1.849213 -0.2156998  0.3529770 -1.4418603 -0.5209704  0.9349079 -0.3121711\n",
       "3  0.873355  1.2752618 -0.8282290 -0.1685723  0.7164109 -0.8275122 -3.1215868\n",
       "7 -1.222756 -1.4629464  0.1957618 -1.6183887  0.4765757 -0.1289866 -2.4994249"
      ]
     },
     "metadata": {},
     "output_type": "display_data"
    }
   ],
   "source": [
    "# Predicted classes\n",
    "head(predictions$class, 6)\n",
    "# Predicted probabilities of class memebership.\n",
    "head(predictions$posterior, 6) \n",
    "# Linear discriminants\n",
    "head(predictions$x, 3) "
   ]
  },
  {
   "cell_type": "code",
   "execution_count": 15,
   "metadata": {},
   "outputs": [
    {
     "name": "stdout",
     "output_type": "stream",
     "text": [
      "Confusion Matrix and Statistics\n",
      "\n",
      "         spec_as_int\n",
      "Predicted  1  2  3  4  5  6  7  8\n",
      "        1  1  0  0  1  0  1  0  0\n",
      "        2  1  0  0  0  0  1  1  0\n",
      "        3  0  0  3  0  0  0  0  0\n",
      "        4  0  1  0  7  0  0  0  0\n",
      "        5  0  0  1  0  1  0  0  0\n",
      "        6  1  0  0  0  0 10  4  1\n",
      "        7  0  0  0  0  0  0  2  0\n",
      "        8  0  0  1  0  0  1  1  0\n",
      "\n",
      "Overall Statistics\n",
      "                                          \n",
      "               Accuracy : 0.6             \n",
      "                 95% CI : (0.4333, 0.7514)\n",
      "    No Information Rate : 0.325           \n",
      "    P-Value [Acc > NIR] : 0.0003199       \n",
      "                                          \n",
      "                  Kappa : 0.5             \n",
      "                                          \n",
      " Mcnemar's Test P-Value : NA              \n",
      "\n",
      "Statistics by Class:\n",
      "\n",
      "                     Class: 1 Class: 2 Class: 3 Class: 4 Class: 5 Class: 6\n",
      "Sensitivity            0.3333   0.0000   0.6000   0.8750   1.0000   0.7692\n",
      "Specificity            0.9459   0.9231   1.0000   0.9688   0.9744   0.7778\n",
      "Pos Pred Value         0.3333   0.0000   1.0000   0.8750   0.5000   0.6250\n",
      "Neg Pred Value         0.9459   0.9730   0.9459   0.9688   1.0000   0.8750\n",
      "Prevalence             0.0750   0.0250   0.1250   0.2000   0.0250   0.3250\n",
      "Detection Rate         0.0250   0.0000   0.0750   0.1750   0.0250   0.2500\n",
      "Detection Prevalence   0.0750   0.0750   0.0750   0.2000   0.0500   0.4000\n",
      "Balanced Accuracy      0.6396   0.4615   0.8000   0.9219   0.9872   0.7735\n",
      "                     Class: 7 Class: 8\n",
      "Sensitivity            0.2500   0.0000\n",
      "Specificity            1.0000   0.9231\n",
      "Pos Pred Value         1.0000   0.0000\n",
      "Neg Pred Value         0.8421   0.9730\n",
      "Prevalence             0.2000   0.0250\n",
      "Detection Rate         0.0500   0.0000\n",
      "Detection Prevalence   0.0500   0.0750\n",
      "Balanced Accuracy      0.6250   0.4615\n"
     ]
    }
   ],
   "source": [
    "table <- table(Predicted=predictions$class, spec_as_int=test.data$spec_as_int)\n",
    "print(confusionMatrix(table))"
   ]
  },
  {
   "cell_type": "code",
   "execution_count": 16,
   "metadata": {},
   "outputs": [
    {
     "name": "stdout",
     "output_type": "stream",
     "text": [
      "# weights:  168 (140 variable)\n",
      "initial  value 332.710647 \n",
      "iter  10 value 244.191520\n",
      "iter  20 value 214.844156\n",
      "iter  30 value 186.369549\n",
      "iter  40 value 160.816925\n",
      "iter  50 value 149.771066\n",
      "iter  60 value 137.502753\n",
      "iter  70 value 129.985055\n",
      "iter  80 value 121.805830\n",
      "iter  90 value 101.350733\n",
      "iter 100 value 76.878574\n",
      "final  value 76.878574 \n",
      "stopped after 100 iterations\n"
     ]
    },
    {
     "ename": "ERROR",
     "evalue": "Error in multiclass.roc(test.data$spec_as_int, ionomics.predictions, percent = TRUE): could not find function \"multiclass.roc\"\n",
     "output_type": "error",
     "traceback": [
      "Error in multiclass.roc(test.data$spec_as_int, ionomics.predictions, percent = TRUE): could not find function \"multiclass.roc\"\nTraceback:\n"
     ]
    }
   ],
   "source": [
    "mn.net <- nnet::multinom(spec_as_int ~ ., train.data)\n",
    "ionomics.predictions <- predict(mn.net, newdata=test.data, type=\"prob\")\n",
    "ionomics.predictions <- as.data.frame(ionomics.predictions)\n",
    "auc <- multiclass.roc(test.data$spec_as_int, ionomics.predictions, percent=TRUE)\n",
    "print(auc)"
   ]
  },
  {
   "cell_type": "code",
   "execution_count": 17,
   "metadata": {},
   "outputs": [],
   "source": [
    "spec.af <- factor(test.data$spec_as_int, levels = c(\"1\",\"2\",\"3\",\"4\",\"5\",\"6\",\"7\",\"8\"))\n",
    "class.af <- factor(predictions$class, levels = c(\"1\",\"2\",\"3\",\"4\",\"5\",\"6\",\"7\",\"8\"))"
   ]
  },
  {
   "cell_type": "code",
   "execution_count": 18,
   "metadata": {},
   "outputs": [],
   "source": [
    "classifier_metrics <- ml_test(class.af, spec.af, output.as.table = TRUE)\n",
    "F1 <- classifier_metrics$F1\n",
    "accuracy <- classifier_metrics$accuracy"
   ]
  },
  {
   "cell_type": "code",
   "execution_count": 19,
   "metadata": {},
   "outputs": [
    {
     "data": {
      "text/html": [
       "<table>\n",
       "<caption>A data.frame: 8 × 21</caption>\n",
       "<thead>\n",
       "\t<tr><th></th><th scope=col>balanced.accuracy</th><th scope=col>DOR</th><th scope=col>F0.5</th><th scope=col>F1</th><th scope=col>F2</th><th scope=col>FDR</th><th scope=col>FNR</th><th scope=col>FOR</th><th scope=col>FPR</th><th scope=col>geometric.mean</th><th scope=col>...</th><th scope=col>L</th><th scope=col>lambda</th><th scope=col>MCC</th><th scope=col>MK</th><th scope=col>NPV</th><th scope=col>OP</th><th scope=col>precision</th><th scope=col>recall</th><th scope=col>specificity</th><th scope=col>Youden</th></tr>\n",
       "\t<tr><th></th><th scope=col>&lt;dbl&gt;</th><th scope=col>&lt;dbl&gt;</th><th scope=col>&lt;dbl&gt;</th><th scope=col>&lt;dbl&gt;</th><th scope=col>&lt;dbl&gt;</th><th scope=col>&lt;dbl&gt;</th><th scope=col>&lt;dbl&gt;</th><th scope=col>&lt;dbl&gt;</th><th scope=col>&lt;dbl&gt;</th><th scope=col>&lt;dbl&gt;</th><th scope=col>...</th><th scope=col>&lt;dbl&gt;</th><th scope=col>&lt;dbl&gt;</th><th scope=col>&lt;dbl&gt;</th><th scope=col>&lt;dbl&gt;</th><th scope=col>&lt;dbl&gt;</th><th scope=col>&lt;dbl&gt;</th><th scope=col>&lt;dbl&gt;</th><th scope=col>&lt;dbl&gt;</th><th scope=col>&lt;dbl&gt;</th><th scope=col>&lt;dbl&gt;</th></tr>\n",
       "</thead>\n",
       "<tbody>\n",
       "\t<tr><th scope=row>1</th><td>0.6266667</td><td>  5.750000</td><td>0.3333333</td><td>0.3333333</td><td>0.3333333</td><td>0.6666667</td><td>0.6666667</td><td>0.08000000</td><td>0.08000000</td><td>0.5537749</td><td>...</td><td> 4.166667</td><td>0.7246377</td><td> 0.25333333</td><td> 0.2533333</td><td>0.9200000</td><td> 0.1319149</td><td>0.3333333</td><td>0.3333333</td><td>0.9200000</td><td> 0.2533333</td></tr>\n",
       "\t<tr><th scope=row>2</th><td>0.4444444</td><td>  0.000000</td><td>      NaN</td><td>      NaN</td><td>      NaN</td><td>1.0000000</td><td>1.0000000</td><td>0.04000000</td><td>0.11111111</td><td>0.0000000</td><td>...</td><td> 0.000000</td><td>1.1250000</td><td>-0.06666667</td><td>-0.0400000</td><td>0.9600000</td><td>-0.4000000</td><td>0.0000000</td><td>0.0000000</td><td>0.8888889</td><td>-0.1111111</td></tr>\n",
       "\t<tr><th scope=row>3</th><td>0.8000000</td><td>       Inf</td><td>0.8823529</td><td>0.7500000</td><td>0.6521739</td><td>0.0000000</td><td>0.4000000</td><td>0.08695652</td><td>0.00000000</td><td>0.7745967</td><td>...</td><td>      Inf</td><td>0.4000000</td><td> 0.74015275</td><td> 0.9130435</td><td>0.9130435</td><td> 0.3500000</td><td>1.0000000</td><td>0.6000000</td><td>1.0000000</td><td> 0.6000000</td></tr>\n",
       "\t<tr><th scope=row>4</th><td>0.9097222</td><td>119.000000</td><td>0.8750000</td><td>0.8750000</td><td>0.8750000</td><td>0.1250000</td><td>0.1250000</td><td>0.05555556</td><td>0.05555556</td><td>0.9090593</td><td>...</td><td>15.750000</td><td>0.1323529</td><td> 0.81944444</td><td> 0.8194444</td><td>0.9444444</td><td> 0.5618321</td><td>0.8750000</td><td>0.8750000</td><td>0.9444444</td><td> 0.8194444</td></tr>\n",
       "\t<tr><th scope=row>5</th><td>0.9791667</td><td>       Inf</td><td>0.5555556</td><td>0.6666667</td><td>0.8333333</td><td>0.5000000</td><td>0.0000000</td><td>0.00000000</td><td>0.04166667</td><td>0.9789450</td><td>...</td><td>24.000000</td><td>0.0000000</td><td> 0.69221866</td><td> 0.5000000</td><td>1.0000000</td><td> 0.5787234</td><td>0.5000000</td><td>1.0000000</td><td>0.9583333</td><td> 0.9583333</td></tr>\n",
       "\t<tr><th scope=row>6</th><td>0.7346154</td><td>  7.777778</td><td>0.6493506</td><td>0.6896552</td><td>0.7352941</td><td>0.3750000</td><td>0.2307692</td><td>0.17647059</td><td>0.30000000</td><td>0.7337994</td><td>...</td><td> 2.564103</td><td>0.3296703</td><td> 0.45876334</td><td> 0.4485294</td><td>0.8235294</td><td> 0.5528796</td><td>0.6250000</td><td>0.7692308</td><td>0.7000000</td><td> 0.4692308</td></tr>\n",
       "\t<tr><th scope=row>7</th><td>0.6250000</td><td>       Inf</td><td>0.6250000</td><td>0.4000000</td><td>0.2941176</td><td>0.0000000</td><td>0.7500000</td><td>0.21428571</td><td>0.00000000</td><td>0.5000000</td><td>...</td><td>      Inf</td><td>0.7500000</td><td> 0.44320263</td><td> 0.7857143</td><td>0.7857143</td><td> 0.0000000</td><td>1.0000000</td><td>0.2500000</td><td>1.0000000</td><td> 0.2500000</td></tr>\n",
       "\t<tr><th scope=row>8</th><td>0.4444444</td><td>  0.000000</td><td>      NaN</td><td>      NaN</td><td>      NaN</td><td>1.0000000</td><td>1.0000000</td><td>0.04000000</td><td>0.11111111</td><td>0.0000000</td><td>...</td><td> 0.000000</td><td>1.1250000</td><td>-0.06666667</td><td>-0.0400000</td><td>0.9600000</td><td>-0.4000000</td><td>0.0000000</td><td>0.0000000</td><td>0.8888889</td><td>-0.1111111</td></tr>\n",
       "</tbody>\n",
       "</table>\n"
      ],
      "text/latex": [
       "A data.frame: 8 × 21\n",
       "\\begin{tabular}{r|lllllllllllllllllllll}\n",
       "  & balanced.accuracy & DOR & F0.5 & F1 & F2 & FDR & FNR & FOR & FPR & geometric.mean & ... & L & lambda & MCC & MK & NPV & OP & precision & recall & specificity & Youden\\\\\n",
       "  & <dbl> & <dbl> & <dbl> & <dbl> & <dbl> & <dbl> & <dbl> & <dbl> & <dbl> & <dbl> & ... & <dbl> & <dbl> & <dbl> & <dbl> & <dbl> & <dbl> & <dbl> & <dbl> & <dbl> & <dbl>\\\\\n",
       "\\hline\n",
       "\t1 & 0.6266667 &   5.750000 & 0.3333333 & 0.3333333 & 0.3333333 & 0.6666667 & 0.6666667 & 0.08000000 & 0.08000000 & 0.5537749 & ... &  4.166667 & 0.7246377 &  0.25333333 &  0.2533333 & 0.9200000 &  0.1319149 & 0.3333333 & 0.3333333 & 0.9200000 &  0.2533333\\\\\n",
       "\t2 & 0.4444444 &   0.000000 &       NaN &       NaN &       NaN & 1.0000000 & 1.0000000 & 0.04000000 & 0.11111111 & 0.0000000 & ... &  0.000000 & 1.1250000 & -0.06666667 & -0.0400000 & 0.9600000 & -0.4000000 & 0.0000000 & 0.0000000 & 0.8888889 & -0.1111111\\\\\n",
       "\t3 & 0.8000000 &        Inf & 0.8823529 & 0.7500000 & 0.6521739 & 0.0000000 & 0.4000000 & 0.08695652 & 0.00000000 & 0.7745967 & ... &       Inf & 0.4000000 &  0.74015275 &  0.9130435 & 0.9130435 &  0.3500000 & 1.0000000 & 0.6000000 & 1.0000000 &  0.6000000\\\\\n",
       "\t4 & 0.9097222 & 119.000000 & 0.8750000 & 0.8750000 & 0.8750000 & 0.1250000 & 0.1250000 & 0.05555556 & 0.05555556 & 0.9090593 & ... & 15.750000 & 0.1323529 &  0.81944444 &  0.8194444 & 0.9444444 &  0.5618321 & 0.8750000 & 0.8750000 & 0.9444444 &  0.8194444\\\\\n",
       "\t5 & 0.9791667 &        Inf & 0.5555556 & 0.6666667 & 0.8333333 & 0.5000000 & 0.0000000 & 0.00000000 & 0.04166667 & 0.9789450 & ... & 24.000000 & 0.0000000 &  0.69221866 &  0.5000000 & 1.0000000 &  0.5787234 & 0.5000000 & 1.0000000 & 0.9583333 &  0.9583333\\\\\n",
       "\t6 & 0.7346154 &   7.777778 & 0.6493506 & 0.6896552 & 0.7352941 & 0.3750000 & 0.2307692 & 0.17647059 & 0.30000000 & 0.7337994 & ... &  2.564103 & 0.3296703 &  0.45876334 &  0.4485294 & 0.8235294 &  0.5528796 & 0.6250000 & 0.7692308 & 0.7000000 &  0.4692308\\\\\n",
       "\t7 & 0.6250000 &        Inf & 0.6250000 & 0.4000000 & 0.2941176 & 0.0000000 & 0.7500000 & 0.21428571 & 0.00000000 & 0.5000000 & ... &       Inf & 0.7500000 &  0.44320263 &  0.7857143 & 0.7857143 &  0.0000000 & 1.0000000 & 0.2500000 & 1.0000000 &  0.2500000\\\\\n",
       "\t8 & 0.4444444 &   0.000000 &       NaN &       NaN &       NaN & 1.0000000 & 1.0000000 & 0.04000000 & 0.11111111 & 0.0000000 & ... &  0.000000 & 1.1250000 & -0.06666667 & -0.0400000 & 0.9600000 & -0.4000000 & 0.0000000 & 0.0000000 & 0.8888889 & -0.1111111\\\\\n",
       "\\end{tabular}\n"
      ],
      "text/markdown": [
       "\n",
       "A data.frame: 8 × 21\n",
       "\n",
       "| <!--/--> | balanced.accuracy &lt;dbl&gt; | DOR &lt;dbl&gt; | F0.5 &lt;dbl&gt; | F1 &lt;dbl&gt; | F2 &lt;dbl&gt; | FDR &lt;dbl&gt; | FNR &lt;dbl&gt; | FOR &lt;dbl&gt; | FPR &lt;dbl&gt; | geometric.mean &lt;dbl&gt; | ... ... | L &lt;dbl&gt; | lambda &lt;dbl&gt; | MCC &lt;dbl&gt; | MK &lt;dbl&gt; | NPV &lt;dbl&gt; | OP &lt;dbl&gt; | precision &lt;dbl&gt; | recall &lt;dbl&gt; | specificity &lt;dbl&gt; | Youden &lt;dbl&gt; |\n",
       "|---|---|---|---|---|---|---|---|---|---|---|---|---|---|---|---|---|---|---|---|---|---|\n",
       "| 1 | 0.6266667 |   5.750000 | 0.3333333 | 0.3333333 | 0.3333333 | 0.6666667 | 0.6666667 | 0.08000000 | 0.08000000 | 0.5537749 | ... |  4.166667 | 0.7246377 |  0.25333333 |  0.2533333 | 0.9200000 |  0.1319149 | 0.3333333 | 0.3333333 | 0.9200000 |  0.2533333 |\n",
       "| 2 | 0.4444444 |   0.000000 |       NaN |       NaN |       NaN | 1.0000000 | 1.0000000 | 0.04000000 | 0.11111111 | 0.0000000 | ... |  0.000000 | 1.1250000 | -0.06666667 | -0.0400000 | 0.9600000 | -0.4000000 | 0.0000000 | 0.0000000 | 0.8888889 | -0.1111111 |\n",
       "| 3 | 0.8000000 |        Inf | 0.8823529 | 0.7500000 | 0.6521739 | 0.0000000 | 0.4000000 | 0.08695652 | 0.00000000 | 0.7745967 | ... |       Inf | 0.4000000 |  0.74015275 |  0.9130435 | 0.9130435 |  0.3500000 | 1.0000000 | 0.6000000 | 1.0000000 |  0.6000000 |\n",
       "| 4 | 0.9097222 | 119.000000 | 0.8750000 | 0.8750000 | 0.8750000 | 0.1250000 | 0.1250000 | 0.05555556 | 0.05555556 | 0.9090593 | ... | 15.750000 | 0.1323529 |  0.81944444 |  0.8194444 | 0.9444444 |  0.5618321 | 0.8750000 | 0.8750000 | 0.9444444 |  0.8194444 |\n",
       "| 5 | 0.9791667 |        Inf | 0.5555556 | 0.6666667 | 0.8333333 | 0.5000000 | 0.0000000 | 0.00000000 | 0.04166667 | 0.9789450 | ... | 24.000000 | 0.0000000 |  0.69221866 |  0.5000000 | 1.0000000 |  0.5787234 | 0.5000000 | 1.0000000 | 0.9583333 |  0.9583333 |\n",
       "| 6 | 0.7346154 |   7.777778 | 0.6493506 | 0.6896552 | 0.7352941 | 0.3750000 | 0.2307692 | 0.17647059 | 0.30000000 | 0.7337994 | ... |  2.564103 | 0.3296703 |  0.45876334 |  0.4485294 | 0.8235294 |  0.5528796 | 0.6250000 | 0.7692308 | 0.7000000 |  0.4692308 |\n",
       "| 7 | 0.6250000 |        Inf | 0.6250000 | 0.4000000 | 0.2941176 | 0.0000000 | 0.7500000 | 0.21428571 | 0.00000000 | 0.5000000 | ... |       Inf | 0.7500000 |  0.44320263 |  0.7857143 | 0.7857143 |  0.0000000 | 1.0000000 | 0.2500000 | 1.0000000 |  0.2500000 |\n",
       "| 8 | 0.4444444 |   0.000000 |       NaN |       NaN |       NaN | 1.0000000 | 1.0000000 | 0.04000000 | 0.11111111 | 0.0000000 | ... |  0.000000 | 1.1250000 | -0.06666667 | -0.0400000 | 0.9600000 | -0.4000000 | 0.0000000 | 0.0000000 | 0.8888889 | -0.1111111 |\n",
       "\n"
      ],
      "text/plain": [
       "  balanced.accuracy DOR        F0.5      F1        F2        FDR      \n",
       "1 0.6266667           5.750000 0.3333333 0.3333333 0.3333333 0.6666667\n",
       "2 0.4444444           0.000000       NaN       NaN       NaN 1.0000000\n",
       "3 0.8000000                Inf 0.8823529 0.7500000 0.6521739 0.0000000\n",
       "4 0.9097222         119.000000 0.8750000 0.8750000 0.8750000 0.1250000\n",
       "5 0.9791667                Inf 0.5555556 0.6666667 0.8333333 0.5000000\n",
       "6 0.7346154           7.777778 0.6493506 0.6896552 0.7352941 0.3750000\n",
       "7 0.6250000                Inf 0.6250000 0.4000000 0.2941176 0.0000000\n",
       "8 0.4444444           0.000000       NaN       NaN       NaN 1.0000000\n",
       "  FNR       FOR        FPR        geometric.mean ... L         lambda   \n",
       "1 0.6666667 0.08000000 0.08000000 0.5537749      ...  4.166667 0.7246377\n",
       "2 1.0000000 0.04000000 0.11111111 0.0000000      ...  0.000000 1.1250000\n",
       "3 0.4000000 0.08695652 0.00000000 0.7745967      ...       Inf 0.4000000\n",
       "4 0.1250000 0.05555556 0.05555556 0.9090593      ... 15.750000 0.1323529\n",
       "5 0.0000000 0.00000000 0.04166667 0.9789450      ... 24.000000 0.0000000\n",
       "6 0.2307692 0.17647059 0.30000000 0.7337994      ...  2.564103 0.3296703\n",
       "7 0.7500000 0.21428571 0.00000000 0.5000000      ...       Inf 0.7500000\n",
       "8 1.0000000 0.04000000 0.11111111 0.0000000      ...  0.000000 1.1250000\n",
       "  MCC         MK         NPV       OP         precision recall    specificity\n",
       "1  0.25333333  0.2533333 0.9200000  0.1319149 0.3333333 0.3333333 0.9200000  \n",
       "2 -0.06666667 -0.0400000 0.9600000 -0.4000000 0.0000000 0.0000000 0.8888889  \n",
       "3  0.74015275  0.9130435 0.9130435  0.3500000 1.0000000 0.6000000 1.0000000  \n",
       "4  0.81944444  0.8194444 0.9444444  0.5618321 0.8750000 0.8750000 0.9444444  \n",
       "5  0.69221866  0.5000000 1.0000000  0.5787234 0.5000000 1.0000000 0.9583333  \n",
       "6  0.45876334  0.4485294 0.8235294  0.5528796 0.6250000 0.7692308 0.7000000  \n",
       "7  0.44320263  0.7857143 0.7857143  0.0000000 1.0000000 0.2500000 1.0000000  \n",
       "8 -0.06666667 -0.0400000 0.9600000 -0.4000000 0.0000000 0.0000000 0.8888889  \n",
       "  Youden    \n",
       "1  0.2533333\n",
       "2 -0.1111111\n",
       "3  0.6000000\n",
       "4  0.8194444\n",
       "5  0.9583333\n",
       "6  0.4692308\n",
       "7  0.2500000\n",
       "8 -0.1111111"
      ]
     },
     "metadata": {},
     "output_type": "display_data"
    }
   ],
   "source": [
    "classifier_metrics"
   ]
  }
 ],
 "metadata": {
  "kernelspec": {
   "display_name": "R",
   "language": "R",
   "name": "ir"
  },
  "language_info": {
   "codemirror_mode": "r",
   "file_extension": ".r",
   "mimetype": "text/x-r-source",
   "name": "R",
   "pygments_lexer": "r",
   "version": "3.6.3"
  }
 },
 "nbformat": 4,
 "nbformat_minor": 4
}
