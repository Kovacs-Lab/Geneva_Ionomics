{
 "cells": [
  {
   "cell_type": "code",
   "execution_count": 29,
   "metadata": {},
   "outputs": [
    {
     "name": "stderr",
     "output_type": "stream",
     "text": [
      "Installing package into 'C:/Users/daeda/OneDrive/Documents/R/win-library/3.6'\n",
      "(as 'lib' is unspecified)\n",
      "\n",
      "Warning message:\n",
      "\"package 'MASS' is in use and will not be installed\"\n",
      "Installing package into 'C:/Users/daeda/OneDrive/Documents/R/win-library/3.6'\n",
      "(as 'lib' is unspecified)\n",
      "\n",
      "Warning message:\n",
      "\"package 'missMDA' is in use and will not be installed\"\n",
      "Installing package into 'C:/Users/daeda/OneDrive/Documents/R/win-library/3.6'\n",
      "(as 'lib' is unspecified)\n",
      "\n",
      "Warning message:\n",
      "\"package 'tidyverse' is in use and will not be installed\"\n",
      "Installing package into 'C:/Users/daeda/OneDrive/Documents/R/win-library/3.6'\n",
      "(as 'lib' is unspecified)\n",
      "\n",
      "Warning message:\n",
      "\"package 'caret' is in use and will not be installed\"\n",
      "Installing package into 'C:/Users/daeda/OneDrive/Documents/R/win-library/3.6'\n",
      "(as 'lib' is unspecified)\n",
      "\n",
      "Warning message:\n",
      "\"package 'mice' is in use and will not be installed\"\n"
     ]
    }
   ],
   "source": [
    "#Installing packages and loading them into the enviroment\n",
    "install.packages(\"MASS\")\n",
    "library(\"MASS\")\n",
    "install.packages(\"missMDA\")\n",
    "library(\"missMDA\")\n",
    "install.packages(\"tidyverse\")\n",
    "library(\"tidyverse\")\n",
    "install.packages(\"caret\")\n",
    "library(\"caret\")\n",
    "install.packages(\"mice\")\n",
    "library(\"mice\")"
   ]
  },
  {
   "cell_type": "code",
   "execution_count": 37,
   "metadata": {},
   "outputs": [],
   "source": [
    "#Loading all needed files,dropping first two coloumns, which are not needed for analysis (ID, species)\n",
    "ionomics <- read.csv('spec_shoot_xyz_trainingB.csv', colClasses =c(\"NULL\",\"NULL\",NA,NA,NA,NA,NA,NA,NA,NA,NA,NA,NA,NA,NA,\n",
    "                                                                    NA,NA,NA,NA,NA,NA,NA))\n",
    "#Imputation via missMDA\n",
    "imputeIonomics <- imputePCA(ionomics, method = \"Regularized\")"
   ]
  },
  {
   "cell_type": "code",
   "execution_count": 35,
   "metadata": {},
   "outputs": [
    {
     "name": "stdout",
     "output_type": "stream",
     "text": [
      "\n",
      " iter imp variable\n",
      "  1   1  S34  As75\n",
      "  2   1  S34  As75\n",
      "  3   1  S34  As75\n",
      "  4   1  S34  As75\n",
      "  5   1  S34  As75\n"
     ]
    }
   ],
   "source": [
    "#Imputation via Mice\n",
    "# TODO add in fit graphics and missing data quantification\n",
    "temp <- mice(ionomics, m = 1, maxit = 5, method = \"norm.boot\", seed = 567)\n",
    "ionomicsComplete <- complete(temp,1)"
   ]
  },
  {
   "cell_type": "code",
   "execution_count": 38,
   "metadata": {},
   "outputs": [],
   "source": [
    "# Split the data into training (80%) and test set (20%)\n",
    "#data set imputed via mice\n",
    "set.seed(123)\n",
    "training.samples <- ionomicsComplete[,2] %>%\n",
    "  createDataPartition(p = 0.8, list = FALSE)\n",
    "train.data <- ionomicsComplete[training.samples, ]\n",
    "test.data <- ionomicsComplete[-training.samples, ]\n",
    "\n",
    "#unimputed\n",
    "training.samples.raw <- ionomics[,2] %>%\n",
    "  createDataPartition(p = 0.8, list = FALSE)\n",
    "train.data.raw <- ionomics[training.samples.raw, ]\n",
    "test.data.raw <- ionomics[-training.samples.raw, ]\n",
    "\n",
    "#data set imputed via missMDA\n",
    "training.samples.impute <- imputeIonomics$completeObs[,2] %>%\n",
    "  createDataPartition(p = 0.8, list = FALSE)\n",
    "train.data.impute <- imputeIonomics$completeObs[training.samples.impute, ]\n",
    "test.data.impute <- imputeIonomics$completeObs[-training.samples.impute, ]\n",
    "#typecasting from matrix to dataframe\n",
    "train.data.impute <- unlist(train.data.impute)\n",
    "test.data.impute <- unlist(test.data.impute)\n",
    "train.data.impute <- as.data.frame(train.data.impute)\n",
    "test.data.impute <- as.data.frame(test.data.impute)"
   ]
  },
  {
   "cell_type": "code",
   "execution_count": 39,
   "metadata": {},
   "outputs": [
    {
     "data": {
      "text/html": [
       "0.669642857142857"
      ],
      "text/latex": [
       "0.669642857142857"
      ],
      "text/markdown": [
       "0.669642857142857"
      ],
      "text/plain": [
       "[1] 0.6696429"
      ]
     },
     "metadata": {},
     "output_type": "display_data"
    },
    {
     "data": {
      "text/html": [
       "0.714285714285714"
      ],
      "text/latex": [
       "0.714285714285714"
      ],
      "text/markdown": [
       "0.714285714285714"
      ],
      "text/plain": [
       "[1] 0.7142857"
      ]
     },
     "metadata": {},
     "output_type": "display_data"
    },
    {
     "data": {
      "text/html": [
       "0.598214285714286"
      ],
      "text/latex": [
       "0.598214285714286"
      ],
      "text/markdown": [
       "0.598214285714286"
      ],
      "text/plain": [
       "[1] 0.5982143"
      ]
     },
     "metadata": {},
     "output_type": "display_data"
    }
   ],
   "source": [
    "# Fit the model\n",
    "#data set imputed with mice\n",
    "model <- lda(spec_as_int~., data = train.data)\n",
    "# Make predictions\n",
    "predictions <- model %>% predict(test.data)\n",
    "# Model accuracy\n",
    "mean(predictions$class==test.data$spec_as_int)\n",
    "#model\n",
    "\n",
    "#unimputed\n",
    "model.raw <- lda(spec_as_int~., data = train.data.raw)\n",
    "# Make predictions\n",
    "predictions.raw <- model %>% predict(test.data.raw)\n",
    "# Model accuracy\n",
    "mean(predictions.raw$class==test.data.raw$spec_as_int)\n",
    "#model\n",
    "\n",
    "#data set imputed with missMDA\n",
    "model.impute <- lda(spec_as_int~., data = train.data.impute)\n",
    "# Make predictions\n",
    "predictions.impute <- model.impute %>% predict(test.data.impute)\n",
    "# Model accuracy\n",
    "mean(predictions.impute$class == test.data.impute$spec_as_int)\n",
    "#model.impute\n",
    "#TODO format data generated by model"
   ]
  },
  {
   "cell_type": "code",
   "execution_count": 26,
   "metadata": {},
   "outputs": [
    {
     "data": {
      "image/png": "[encoded data removed]",
      "text/plain": [
       "plot without title"
      ]
     },
     "metadata": {
      "image/png": {
       "height": 420,
       "width": 420
      },
      "text/plain": {
       "height": 420,
       "width": 420
      }
     },
     "output_type": "display_data"
    },
    {
     "data": {
      "image/png": "[encoded data removed]",
      "text/plain": [
       "plot without title"
      ]
     },
     "metadata": {
      "image/png": {
       "height": 420,
       "width": 420
      },
      "text/plain": {
       "height": 420,
       "width": 420
      }
     },
     "output_type": "display_data"
    }
   ],
   "source": [
    "plot(model)\n",
    "plot(model.impute)\n",
    "#TODO a better way to do this "
   ]
  },
  {
   "cell_type": "code",
   "execution_count": 27,
   "metadata": {},
   "outputs": [
    {
     "data": {
      "text/html": [
       "<style>\n",
       ".list-inline {list-style: none; margin:0; padding: 0}\n",
       ".list-inline>li {display: inline-block}\n",
       ".list-inline>li:not(:last-child)::after {content: \"\\00b7\"; padding: 0 .5ex}\n",
       "</style>\n",
       "<ol class=list-inline><li>4</li><li>4</li><li>4</li><li>4</li><li>4</li><li>2</li></ol>\n",
       "\n",
       "<details>\n",
       "\t<summary style=display:list-item;cursor:pointer>\n",
       "\t\t<strong>Levels</strong>:\n",
       "\t</summary>\n",
       "\t<style>\n",
       "\t.list-inline {list-style: none; margin:0; padding: 0}\n",
       "\t.list-inline>li {display: inline-block}\n",
       "\t.list-inline>li:not(:last-child)::after {content: \"\\00b7\"; padding: 0 .5ex}\n",
       "\t</style>\n",
       "\t<ol class=list-inline><li>'1'</li><li>'2'</li><li>'3'</li><li>'4'</li><li>'5'</li><li>'6'</li><li>'7'</li><li>'8'</li><li>'9'</li><li>'10'</li><li>'11'</li><li>'12'</li><li>'13'</li><li>'14'</li><li>'15'</li><li>'16'</li><li>'17'</li><li>'18'</li></ol>\n",
       "</details>"
      ],
      "text/latex": [
       "\\begin{enumerate*}\n",
       "\\item 4\n",
       "\\item 4\n",
       "\\item 4\n",
       "\\item 4\n",
       "\\item 4\n",
       "\\item 2\n",
       "\\end{enumerate*}\n",
       "\n",
       "\\emph{Levels}: \\begin{enumerate*}\n",
       "\\item '1'\n",
       "\\item '2'\n",
       "\\item '3'\n",
       "\\item '4'\n",
       "\\item '5'\n",
       "\\item '6'\n",
       "\\item '7'\n",
       "\\item '8'\n",
       "\\item '9'\n",
       "\\item '10'\n",
       "\\item '11'\n",
       "\\item '12'\n",
       "\\item '13'\n",
       "\\item '14'\n",
       "\\item '15'\n",
       "\\item '16'\n",
       "\\item '17'\n",
       "\\item '18'\n",
       "\\end{enumerate*}\n"
      ],
      "text/markdown": [
       "1. 4\n",
       "2. 4\n",
       "3. 4\n",
       "4. 4\n",
       "5. 4\n",
       "6. 2\n",
       "\n",
       "\n",
       "\n",
       "**Levels**: 1. '1'\n",
       "2. '2'\n",
       "3. '3'\n",
       "4. '4'\n",
       "5. '5'\n",
       "6. '6'\n",
       "7. '7'\n",
       "8. '8'\n",
       "9. '9'\n",
       "10. '10'\n",
       "11. '11'\n",
       "12. '12'\n",
       "13. '13'\n",
       "14. '14'\n",
       "15. '15'\n",
       "16. '16'\n",
       "17. '17'\n",
       "18. '18'\n",
       "\n",
       "\n"
      ],
      "text/plain": [
       "[1] 4 4 4 4 4 2\n",
       "Levels: 1 2 3 4 5 6 7 8 9 10 11 12 13 14 15 16 17 18"
      ]
     },
     "metadata": {},
     "output_type": "display_data"
    },
    {
     "data": {
      "text/html": [
       "<table>\n",
       "<caption>A matrix: 6 × 18 of type dbl</caption>\n",
       "<thead>\n",
       "\t<tr><th></th><th scope=col>1</th><th scope=col>2</th><th scope=col>3</th><th scope=col>4</th><th scope=col>5</th><th scope=col>6</th><th scope=col>7</th><th scope=col>8</th><th scope=col>9</th><th scope=col>10</th><th scope=col>11</th><th scope=col>12</th><th scope=col>13</th><th scope=col>14</th><th scope=col>15</th><th scope=col>16</th><th scope=col>17</th><th scope=col>18</th></tr>\n",
       "</thead>\n",
       "<tbody>\n",
       "\t<tr><th scope=row>1</th><td>2.563184e-02</td><td>3.046434e-09</td><td>4.747030e-06</td><td>0.8446985369</td><td>1.296532e-01</td><td>3.346078e-07</td><td>8.383928e-06</td><td>1.784713e-11</td><td>8.059870e-10</td><td>2.792167e-06</td><td>1.350486e-07</td><td>1.603604e-09</td><td>6.892004e-18</td><td>4.931659e-25</td><td>2.383540e-25</td><td>2.339349e-15</td><td>2.842412e-14</td><td>6.291500e-16</td></tr>\n",
       "\t<tr><th scope=row>2</th><td>1.193942e-02</td><td>3.618329e-06</td><td>6.125351e-02</td><td>0.7124133177</td><td>1.709968e-01</td><td>3.412209e-02</td><td>5.375846e-03</td><td>5.831589e-08</td><td>2.613443e-04</td><td>2.735588e-03</td><td>6.373262e-04</td><td>2.610751e-04</td><td>7.720292e-12</td><td>6.244206e-20</td><td>2.547086e-18</td><td>5.594913e-11</td><td>1.645947e-09</td><td>7.543473e-10</td></tr>\n",
       "\t<tr><th scope=row>3</th><td>9.128892e-05</td><td>1.438350e-07</td><td>5.671084e-03</td><td>0.5393427889</td><td>4.542103e-01</td><td>5.188867e-06</td><td>1.199240e-05</td><td>8.081306e-06</td><td>1.967299e-05</td><td>3.591175e-04</td><td>2.749470e-04</td><td>5.420358e-06</td><td>9.638890e-16</td><td>1.619376e-18</td><td>2.078199e-19</td><td>6.917875e-12</td><td>1.307099e-10</td><td>1.631176e-11</td></tr>\n",
       "\t<tr><th scope=row>4</th><td>7.233061e-02</td><td>6.337573e-07</td><td>1.261607e-03</td><td>0.6048384088</td><td>3.192843e-01</td><td>4.156118e-04</td><td>7.900136e-04</td><td>1.659487e-07</td><td>1.121931e-05</td><td>8.320438e-04</td><td>2.302671e-04</td><td>5.121130e-06</td><td>1.692362e-14</td><td>1.366326e-19</td><td>1.244060e-19</td><td>1.349526e-12</td><td>6.481827e-11</td><td>4.442257e-11</td></tr>\n",
       "\t<tr><th scope=row>8</th><td>7.429319e-02</td><td>3.689294e-09</td><td>5.094410e-04</td><td>0.8141200803</td><td>1.106352e-01</td><td>3.347817e-05</td><td>1.177762e-04</td><td>1.964951e-10</td><td>1.632507e-06</td><td>2.823458e-04</td><td>6.483005e-06</td><td>4.013694e-07</td><td>7.256261e-17</td><td>1.512210e-24</td><td>2.561380e-22</td><td>1.347298e-13</td><td>6.225115e-13</td><td>1.298836e-13</td></tr>\n",
       "\t<tr><th scope=row>16</th><td>8.239857e-07</td><td>9.466350e-01</td><td>1.635925e-02</td><td>0.0002192756</td><td>1.342181e-05</td><td>3.677175e-02</td><td>7.593725e-08</td><td>1.298468e-07</td><td>7.929837e-08</td><td>1.169474e-08</td><td>1.420459e-08</td><td>1.270434e-07</td><td>1.465359e-09</td><td>1.815684e-15</td><td>2.036016e-17</td><td>1.376359e-11</td><td>1.851263e-10</td><td>1.409005e-10</td></tr>\n",
       "</tbody>\n",
       "</table>\n"
      ],
      "text/latex": [
       "A matrix: 6 × 18 of type dbl\n",
       "\\begin{tabular}{r|llllllllllllllllll}\n",
       "  & 1 & 2 & 3 & 4 & 5 & 6 & 7 & 8 & 9 & 10 & 11 & 12 & 13 & 14 & 15 & 16 & 17 & 18\\\\\n",
       "\\hline\n",
       "\t1 & 2.563184e-02 & 3.046434e-09 & 4.747030e-06 & 0.8446985369 & 1.296532e-01 & 3.346078e-07 & 8.383928e-06 & 1.784713e-11 & 8.059870e-10 & 2.792167e-06 & 1.350486e-07 & 1.603604e-09 & 6.892004e-18 & 4.931659e-25 & 2.383540e-25 & 2.339349e-15 & 2.842412e-14 & 6.291500e-16\\\\\n",
       "\t2 & 1.193942e-02 & 3.618329e-06 & 6.125351e-02 & 0.7124133177 & 1.709968e-01 & 3.412209e-02 & 5.375846e-03 & 5.831589e-08 & 2.613443e-04 & 2.735588e-03 & 6.373262e-04 & 2.610751e-04 & 7.720292e-12 & 6.244206e-20 & 2.547086e-18 & 5.594913e-11 & 1.645947e-09 & 7.543473e-10\\\\\n",
       "\t3 & 9.128892e-05 & 1.438350e-07 & 5.671084e-03 & 0.5393427889 & 4.542103e-01 & 5.188867e-06 & 1.199240e-05 & 8.081306e-06 & 1.967299e-05 & 3.591175e-04 & 2.749470e-04 & 5.420358e-06 & 9.638890e-16 & 1.619376e-18 & 2.078199e-19 & 6.917875e-12 & 1.307099e-10 & 1.631176e-11\\\\\n",
       "\t4 & 7.233061e-02 & 6.337573e-07 & 1.261607e-03 & 0.6048384088 & 3.192843e-01 & 4.156118e-04 & 7.900136e-04 & 1.659487e-07 & 1.121931e-05 & 8.320438e-04 & 2.302671e-04 & 5.121130e-06 & 1.692362e-14 & 1.366326e-19 & 1.244060e-19 & 1.349526e-12 & 6.481827e-11 & 4.442257e-11\\\\\n",
       "\t8 & 7.429319e-02 & 3.689294e-09 & 5.094410e-04 & 0.8141200803 & 1.106352e-01 & 3.347817e-05 & 1.177762e-04 & 1.964951e-10 & 1.632507e-06 & 2.823458e-04 & 6.483005e-06 & 4.013694e-07 & 7.256261e-17 & 1.512210e-24 & 2.561380e-22 & 1.347298e-13 & 6.225115e-13 & 1.298836e-13\\\\\n",
       "\t16 & 8.239857e-07 & 9.466350e-01 & 1.635925e-02 & 0.0002192756 & 1.342181e-05 & 3.677175e-02 & 7.593725e-08 & 1.298468e-07 & 7.929837e-08 & 1.169474e-08 & 1.420459e-08 & 1.270434e-07 & 1.465359e-09 & 1.815684e-15 & 2.036016e-17 & 1.376359e-11 & 1.851263e-10 & 1.409005e-10\\\\\n",
       "\\end{tabular}\n"
      ],
      "text/markdown": [
       "\n",
       "A matrix: 6 × 18 of type dbl\n",
       "\n",
       "| <!--/--> | 1 | 2 | 3 | 4 | 5 | 6 | 7 | 8 | 9 | 10 | 11 | 12 | 13 | 14 | 15 | 16 | 17 | 18 |\n",
       "|---|---|---|---|---|---|---|---|---|---|---|---|---|---|---|---|---|---|---|\n",
       "| 1 | 2.563184e-02 | 3.046434e-09 | 4.747030e-06 | 0.8446985369 | 1.296532e-01 | 3.346078e-07 | 8.383928e-06 | 1.784713e-11 | 8.059870e-10 | 2.792167e-06 | 1.350486e-07 | 1.603604e-09 | 6.892004e-18 | 4.931659e-25 | 2.383540e-25 | 2.339349e-15 | 2.842412e-14 | 6.291500e-16 |\n",
       "| 2 | 1.193942e-02 | 3.618329e-06 | 6.125351e-02 | 0.7124133177 | 1.709968e-01 | 3.412209e-02 | 5.375846e-03 | 5.831589e-08 | 2.613443e-04 | 2.735588e-03 | 6.373262e-04 | 2.610751e-04 | 7.720292e-12 | 6.244206e-20 | 2.547086e-18 | 5.594913e-11 | 1.645947e-09 | 7.543473e-10 |\n",
       "| 3 | 9.128892e-05 | 1.438350e-07 | 5.671084e-03 | 0.5393427889 | 4.542103e-01 | 5.188867e-06 | 1.199240e-05 | 8.081306e-06 | 1.967299e-05 | 3.591175e-04 | 2.749470e-04 | 5.420358e-06 | 9.638890e-16 | 1.619376e-18 | 2.078199e-19 | 6.917875e-12 | 1.307099e-10 | 1.631176e-11 |\n",
       "| 4 | 7.233061e-02 | 6.337573e-07 | 1.261607e-03 | 0.6048384088 | 3.192843e-01 | 4.156118e-04 | 7.900136e-04 | 1.659487e-07 | 1.121931e-05 | 8.320438e-04 | 2.302671e-04 | 5.121130e-06 | 1.692362e-14 | 1.366326e-19 | 1.244060e-19 | 1.349526e-12 | 6.481827e-11 | 4.442257e-11 |\n",
       "| 8 | 7.429319e-02 | 3.689294e-09 | 5.094410e-04 | 0.8141200803 | 1.106352e-01 | 3.347817e-05 | 1.177762e-04 | 1.964951e-10 | 1.632507e-06 | 2.823458e-04 | 6.483005e-06 | 4.013694e-07 | 7.256261e-17 | 1.512210e-24 | 2.561380e-22 | 1.347298e-13 | 6.225115e-13 | 1.298836e-13 |\n",
       "| 16 | 8.239857e-07 | 9.466350e-01 | 1.635925e-02 | 0.0002192756 | 1.342181e-05 | 3.677175e-02 | 7.593725e-08 | 1.298468e-07 | 7.929837e-08 | 1.169474e-08 | 1.420459e-08 | 1.270434e-07 | 1.465359e-09 | 1.815684e-15 | 2.036016e-17 | 1.376359e-11 | 1.851263e-10 | 1.409005e-10 |\n",
       "\n"
      ],
      "text/plain": [
       "   1            2            3            4            5           \n",
       "1  2.563184e-02 3.046434e-09 4.747030e-06 0.8446985369 1.296532e-01\n",
       "2  1.193942e-02 3.618329e-06 6.125351e-02 0.7124133177 1.709968e-01\n",
       "3  9.128892e-05 1.438350e-07 5.671084e-03 0.5393427889 4.542103e-01\n",
       "4  7.233061e-02 6.337573e-07 1.261607e-03 0.6048384088 3.192843e-01\n",
       "8  7.429319e-02 3.689294e-09 5.094410e-04 0.8141200803 1.106352e-01\n",
       "16 8.239857e-07 9.466350e-01 1.635925e-02 0.0002192756 1.342181e-05\n",
       "   6            7            8            9            10          \n",
       "1  3.346078e-07 8.383928e-06 1.784713e-11 8.059870e-10 2.792167e-06\n",
       "2  3.412209e-02 5.375846e-03 5.831589e-08 2.613443e-04 2.735588e-03\n",
       "3  5.188867e-06 1.199240e-05 8.081306e-06 1.967299e-05 3.591175e-04\n",
       "4  4.156118e-04 7.900136e-04 1.659487e-07 1.121931e-05 8.320438e-04\n",
       "8  3.347817e-05 1.177762e-04 1.964951e-10 1.632507e-06 2.823458e-04\n",
       "16 3.677175e-02 7.593725e-08 1.298468e-07 7.929837e-08 1.169474e-08\n",
       "   11           12           13           14           15          \n",
       "1  1.350486e-07 1.603604e-09 6.892004e-18 4.931659e-25 2.383540e-25\n",
       "2  6.373262e-04 2.610751e-04 7.720292e-12 6.244206e-20 2.547086e-18\n",
       "3  2.749470e-04 5.420358e-06 9.638890e-16 1.619376e-18 2.078199e-19\n",
       "4  2.302671e-04 5.121130e-06 1.692362e-14 1.366326e-19 1.244060e-19\n",
       "8  6.483005e-06 4.013694e-07 7.256261e-17 1.512210e-24 2.561380e-22\n",
       "16 1.420459e-08 1.270434e-07 1.465359e-09 1.815684e-15 2.036016e-17\n",
       "   16           17           18          \n",
       "1  2.339349e-15 2.842412e-14 6.291500e-16\n",
       "2  5.594913e-11 1.645947e-09 7.543473e-10\n",
       "3  6.917875e-12 1.307099e-10 1.631176e-11\n",
       "4  1.349526e-12 6.481827e-11 4.442257e-11\n",
       "8  1.347298e-13 6.225115e-13 1.298836e-13\n",
       "16 1.376359e-11 1.851263e-10 1.409005e-10"
      ]
     },
     "metadata": {},
     "output_type": "display_data"
    },
    {
     "data": {
      "text/html": [
       "<table>\n",
       "<caption>A matrix: 3 × 17 of type dbl</caption>\n",
       "<thead>\n",
       "\t<tr><th></th><th scope=col>LD1</th><th scope=col>LD2</th><th scope=col>LD3</th><th scope=col>LD4</th><th scope=col>LD5</th><th scope=col>LD6</th><th scope=col>LD7</th><th scope=col>LD8</th><th scope=col>LD9</th><th scope=col>LD10</th><th scope=col>LD11</th><th scope=col>LD12</th><th scope=col>LD13</th><th scope=col>LD14</th><th scope=col>LD15</th><th scope=col>LD16</th><th scope=col>LD17</th></tr>\n",
       "</thead>\n",
       "<tbody>\n",
       "\t<tr><th scope=row>1</th><td>4.686563</td><td>-1.17743380</td><td>1.7437685</td><td>-2.2156647</td><td>-2.4284954</td><td> 2.2978716</td><td> 1.5086349</td><td>-1.4741362</td><td>-0.5732509</td><td>-1.7751051</td><td> 2.0279829</td><td> 0.64772216</td><td> 0.2152745</td><td> 0.3108886</td><td>-0.2989961</td><td>-0.4007057</td><td> 0.18403035</td></tr>\n",
       "\t<tr><th scope=row>2</th><td>3.419036</td><td>-0.95288124</td><td>0.1479340</td><td>-1.1557849</td><td> 0.6578425</td><td> 0.8825273</td><td>-0.3369798</td><td>-0.2812531</td><td> 0.5498022</td><td>-0.8242719</td><td> 0.7559910</td><td>-0.29208782</td><td>-0.1137635</td><td> 0.9944283</td><td>-1.0204930</td><td>-0.2687408</td><td>-1.46959833</td></tr>\n",
       "\t<tr><th scope=row>3</th><td>3.468989</td><td>-0.08094256</td><td>0.4482848</td><td>-0.6838793</td><td>-2.5411074</td><td>-0.2565207</td><td> 1.8788868</td><td> 0.3122796</td><td> 0.8272792</td><td> 0.5821056</td><td>-0.4470183</td><td>-0.03542746</td><td> 0.4822181</td><td>-0.4152568</td><td>-0.4031551</td><td> 0.3609195</td><td>-0.07576924</td></tr>\n",
       "</tbody>\n",
       "</table>\n"
      ],
      "text/latex": [
       "A matrix: 3 × 17 of type dbl\n",
       "\\begin{tabular}{r|lllllllllllllllll}\n",
       "  & LD1 & LD2 & LD3 & LD4 & LD5 & LD6 & LD7 & LD8 & LD9 & LD10 & LD11 & LD12 & LD13 & LD14 & LD15 & LD16 & LD17\\\\\n",
       "\\hline\n",
       "\t1 & 4.686563 & -1.17743380 & 1.7437685 & -2.2156647 & -2.4284954 &  2.2978716 &  1.5086349 & -1.4741362 & -0.5732509 & -1.7751051 &  2.0279829 &  0.64772216 &  0.2152745 &  0.3108886 & -0.2989961 & -0.4007057 &  0.18403035\\\\\n",
       "\t2 & 3.419036 & -0.95288124 & 0.1479340 & -1.1557849 &  0.6578425 &  0.8825273 & -0.3369798 & -0.2812531 &  0.5498022 & -0.8242719 &  0.7559910 & -0.29208782 & -0.1137635 &  0.9944283 & -1.0204930 & -0.2687408 & -1.46959833\\\\\n",
       "\t3 & 3.468989 & -0.08094256 & 0.4482848 & -0.6838793 & -2.5411074 & -0.2565207 &  1.8788868 &  0.3122796 &  0.8272792 &  0.5821056 & -0.4470183 & -0.03542746 &  0.4822181 & -0.4152568 & -0.4031551 &  0.3609195 & -0.07576924\\\\\n",
       "\\end{tabular}\n"
      ],
      "text/markdown": [
       "\n",
       "A matrix: 3 × 17 of type dbl\n",
       "\n",
       "| <!--/--> | LD1 | LD2 | LD3 | LD4 | LD5 | LD6 | LD7 | LD8 | LD9 | LD10 | LD11 | LD12 | LD13 | LD14 | LD15 | LD16 | LD17 |\n",
       "|---|---|---|---|---|---|---|---|---|---|---|---|---|---|---|---|---|---|\n",
       "| 1 | 4.686563 | -1.17743380 | 1.7437685 | -2.2156647 | -2.4284954 |  2.2978716 |  1.5086349 | -1.4741362 | -0.5732509 | -1.7751051 |  2.0279829 |  0.64772216 |  0.2152745 |  0.3108886 | -0.2989961 | -0.4007057 |  0.18403035 |\n",
       "| 2 | 3.419036 | -0.95288124 | 0.1479340 | -1.1557849 |  0.6578425 |  0.8825273 | -0.3369798 | -0.2812531 |  0.5498022 | -0.8242719 |  0.7559910 | -0.29208782 | -0.1137635 |  0.9944283 | -1.0204930 | -0.2687408 | -1.46959833 |\n",
       "| 3 | 3.468989 | -0.08094256 | 0.4482848 | -0.6838793 | -2.5411074 | -0.2565207 |  1.8788868 |  0.3122796 |  0.8272792 |  0.5821056 | -0.4470183 | -0.03542746 |  0.4822181 | -0.4152568 | -0.4031551 |  0.3609195 | -0.07576924 |\n",
       "\n"
      ],
      "text/plain": [
       "  LD1      LD2         LD3       LD4        LD5        LD6        LD7       \n",
       "1 4.686563 -1.17743380 1.7437685 -2.2156647 -2.4284954  2.2978716  1.5086349\n",
       "2 3.419036 -0.95288124 0.1479340 -1.1557849  0.6578425  0.8825273 -0.3369798\n",
       "3 3.468989 -0.08094256 0.4482848 -0.6838793 -2.5411074 -0.2565207  1.8788868\n",
       "  LD8        LD9        LD10       LD11       LD12        LD13       LD14      \n",
       "1 -1.4741362 -0.5732509 -1.7751051  2.0279829  0.64772216  0.2152745  0.3108886\n",
       "2 -0.2812531  0.5498022 -0.8242719  0.7559910 -0.29208782 -0.1137635  0.9944283\n",
       "3  0.3122796  0.8272792  0.5821056 -0.4470183 -0.03542746  0.4822181 -0.4152568\n",
       "  LD15       LD16       LD17       \n",
       "1 -0.2989961 -0.4007057  0.18403035\n",
       "2 -1.0204930 -0.2687408 -1.46959833\n",
       "3 -0.4031551  0.3609195 -0.07576924"
      ]
     },
     "metadata": {},
     "output_type": "display_data"
    }
   ],
   "source": [
    "# Predicted classes\n",
    "head(predictions$class, 6)\n",
    "# Predicted probabilities of class memebership.\n",
    "head(predictions$posterior, 6) \n",
    "# Linear discriminants\n",
    "head(predictions$x, 3) "
   ]
  },
  {
   "cell_type": "markdown",
   "metadata": {},
   "source": [
    "|species|spec_as_int|\n",
    "|---|---|\n",
    "|acerifolia_x|1|\n",
    "|aestivalis_x|2|\n",
    "|cinerea_x|3|\n",
    "|labrusca_x|4|\n",
    "|palmata_x|5|\n",
    "|riparia_x|6|\n",
    "|rupestris_x|7|\n",
    "|vulpina_x|8|\n",
    "|acerifolia_y|9|\n",
    "|aestivalis_y|10|\n",
    "|cinerea_y|11|\n",
    "|labrusca_y|12|\n",
    "|palmata_y|13|\n",
    "|riparia_y|14|\n",
    "|rupestris_y|15|\n",
    "|vulpina_y|16|\n",
    "acerifolia_z|17|\n",
    "|aestivalis_z|18|\n",
    "|cinerea_z|19|\n",
    "|labrusca_z|20|\n",
    "|palmata_z|21|\n",
    "|riparia_z|22|\n",
    "|rupestris_z|23|\n",
    "|vulpina_z|24|"
   ]
  },
  {
   "cell_type": "code",
   "execution_count": 28,
   "metadata": {},
   "outputs": [
    {
     "data": {
      "text/plain": [
       "Confusion Matrix and Statistics\n",
       "\n",
       "         Species\n",
       "Predicted  1  2  3  4  5  6  7  8  9 10 11 12 13 14 15 16 17 18\n",
       "       1   0  0  0  1  1  0  0  0  0  0  1  0  0  0  0  0  0  0\n",
       "       2   0  5  1  0  0  0  0  0  0  0  0  0  0  0  0  0  0  0\n",
       "       3   0  0  3  1  1  0  0  0  0  0  0  0  0  0  0  0  0  0\n",
       "       4   5  0  0 12  0  0  0  0  0  0  0  0  0  0  0  0  0  0\n",
       "       5   0  0  1  0  2  0  0  0  0  0  0  0  0  0  0  0  0  0\n",
       "       6   0  0  0  1  0  2  0  0  0  0  0  0  0  0  0  0  0  0\n",
       "       7   0  0  0  0  0  0  0  0  0  0  0  0  0  0  0  0  0  0\n",
       "       8   0  0  0  0  0  1  0  6  0  0  0  0  0  1  0  0  0  0\n",
       "       9   0  0  1  0  0  0  0  0  3  1  0  1  0  0  0  0  0  0\n",
       "       10  0  0  0  1  0  0  2  0  0 10  2  0  0  0  0  0  0  0\n",
       "       11  0  0  0  0  0  0  0  0  0  0  3  1  0  0  0  0  0  0\n",
       "       12  0  1  0  0  0  1  0  0  0  0  0  0  0  0  0  0  0  1\n",
       "       13  0  0  0  0  0  0  0  0  0  0  0  0  1  0  2  1  0  0\n",
       "       14  0  0  0  0  0  0  0  0  0  0  0  0  0  5  0  0  0  0\n",
       "       15  0  0  0  0  0  0  0  0  0  0  0  0  1  0 11  0  0  1\n",
       "       16  0  0  0  0  0  0  0  0  0  0  0  0  0  1  0 10  1  1\n",
       "       17  0  0  0  0  0  0  0  0  0  0  0  0  0  0  0  1  2  0\n",
       "       18  0  0  0  0  0  0  0  0  0  0  0  0  0  0  1  0  0  0\n",
       "\n",
       "Overall Statistics\n",
       "                                          \n",
       "               Accuracy : 0.6696          \n",
       "                 95% CI : (0.5744, 0.7556)\n",
       "    No Information Rate : 0.1429          \n",
       "    P-Value [Acc > NIR] : < 2.2e-16       \n",
       "                                          \n",
       "                  Kappa : 0.6401          \n",
       "                                          \n",
       " Mcnemar's Test P-Value : NA              \n",
       "\n",
       "Statistics by Class:\n",
       "\n",
       "                     Class: 1 Class: 2 Class: 3 Class: 4 Class: 5 Class: 6\n",
       "Sensitivity           0.00000  0.83333  0.50000   0.7500  0.50000  0.50000\n",
       "Specificity           0.97196  0.99057  0.98113   0.9479  0.99074  0.99074\n",
       "Pos Pred Value        0.00000  0.83333  0.60000   0.7059  0.66667  0.66667\n",
       "Neg Pred Value        0.95413  0.99057  0.97196   0.9579  0.98165  0.98165\n",
       "Prevalence            0.04464  0.05357  0.05357   0.1429  0.03571  0.03571\n",
       "Detection Rate        0.00000  0.04464  0.02679   0.1071  0.01786  0.01786\n",
       "Detection Prevalence  0.02679  0.05357  0.04464   0.1518  0.02679  0.02679\n",
       "Balanced Accuracy     0.48598  0.91195  0.74057   0.8490  0.74537  0.74537\n",
       "                     Class: 7 Class: 8 Class: 9 Class: 10 Class: 11 Class: 12\n",
       "Sensitivity           0.00000  1.00000  1.00000   0.90909   0.50000   0.00000\n",
       "Specificity           1.00000  0.98113  0.97248   0.95050   0.99057   0.97273\n",
       "Pos Pred Value            NaN  0.75000  0.50000   0.66667   0.75000   0.00000\n",
       "Neg Pred Value        0.98214  1.00000  1.00000   0.98969   0.97222   0.98165\n",
       "Prevalence            0.01786  0.05357  0.02679   0.09821   0.05357   0.01786\n",
       "Detection Rate        0.00000  0.05357  0.02679   0.08929   0.02679   0.00000\n",
       "Detection Prevalence  0.00000  0.07143  0.05357   0.13393   0.03571   0.02679\n",
       "Balanced Accuracy     0.50000  0.99057  0.98624   0.92979   0.74528   0.48636\n",
       "                     Class: 13 Class: 14 Class: 15 Class: 16 Class: 17\n",
       "Sensitivity           0.500000   0.71429   0.78571   0.83333   0.66667\n",
       "Specificity           0.972727   1.00000   0.97959   0.97000   0.99083\n",
       "Pos Pred Value        0.250000   1.00000   0.84615   0.76923   0.66667\n",
       "Neg Pred Value        0.990741   0.98131   0.96970   0.97980   0.99083\n",
       "Prevalence            0.017857   0.06250   0.12500   0.10714   0.02679\n",
       "Detection Rate        0.008929   0.04464   0.09821   0.08929   0.01786\n",
       "Detection Prevalence  0.035714   0.04464   0.11607   0.11607   0.02679\n",
       "Balanced Accuracy     0.736364   0.85714   0.88265   0.90167   0.82875\n",
       "                     Class: 18\n",
       "Sensitivity           0.000000\n",
       "Specificity           0.990826\n",
       "Pos Pred Value        0.000000\n",
       "Neg Pred Value        0.972973\n",
       "Prevalence            0.026786\n",
       "Detection Rate        0.000000\n",
       "Detection Prevalence  0.008929\n",
       "Balanced Accuracy     0.495413"
      ]
     },
     "metadata": {},
     "output_type": "display_data"
    }
   ],
   "source": [
    "table <- table(Predicted=predictions$class, Species=test.data$spec_as_int)\n",
    "confusionMatrix(table)"
   ]
  }
 ],
 "metadata": {
  "kernelspec": {
   "display_name": "R",
   "language": "R",
   "name": "ir"
  },
  "language_info": {
   "codemirror_mode": "r",
   "file_extension": ".r",
   "mimetype": "text/x-r-source",
   "name": "R",
   "pygments_lexer": "r",
   "version": "3.6.3"
  }
 },
 "nbformat": 4,
 "nbformat_minor": 4
}
