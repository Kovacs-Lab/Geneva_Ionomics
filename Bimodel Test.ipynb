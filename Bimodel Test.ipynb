{
 "cells": [
  {
   "cell_type": "code",
   "execution_count": 1,
   "metadata": {},
   "outputs": [
    {
     "name": "stderr",
     "output_type": "stream",
     "text": [
      "Installing package into 'C:/Users/daeda/OneDrive/Documents/R/win-library/3.6'\n",
      "(as 'lib' is unspecified)\n",
      "\n"
     ]
    },
    {
     "name": "stdout",
     "output_type": "stream",
     "text": [
      "package 'MASS' successfully unpacked and MD5 sums checked\n"
     ]
    },
    {
     "name": "stderr",
     "output_type": "stream",
     "text": [
      "Warning message:\n",
      "\"cannot remove prior installation of package 'MASS'\"\n",
      "Warning message in file.copy(savedcopy, lib, recursive = TRUE):\n",
      "\"problem copying C:\\Users\\daeda\\OneDrive\\Documents\\R\\win-library\\3.6\\00LOCK\\MASS\\libs\\x64\\MASS.dll to C:\\Users\\daeda\\OneDrive\\Documents\\R\\win-library\\3.6\\MASS\\libs\\x64\\MASS.dll: Permission denied\"\n",
      "Warning message:\n",
      "\"restored 'MASS'\"\n"
     ]
    },
    {
     "name": "stdout",
     "output_type": "stream",
     "text": [
      "\n",
      "The downloaded binary packages are in\n",
      "\tC:\\Users\\daeda\\AppData\\Local\\Temp\\RtmpCYfxeC\\downloaded_packages\n"
     ]
    },
    {
     "name": "stderr",
     "output_type": "stream",
     "text": [
      "Installing package into 'C:/Users/daeda/OneDrive/Documents/R/win-library/3.6'\n",
      "(as 'lib' is unspecified)\n",
      "\n"
     ]
    },
    {
     "name": "stdout",
     "output_type": "stream",
     "text": [
      "package 'missMDA' successfully unpacked and MD5 sums checked\n",
      "\n",
      "The downloaded binary packages are in\n",
      "\tC:\\Users\\daeda\\AppData\\Local\\Temp\\RtmpCYfxeC\\downloaded_packages\n"
     ]
    },
    {
     "name": "stderr",
     "output_type": "stream",
     "text": [
      "Installing package into 'C:/Users/daeda/OneDrive/Documents/R/win-library/3.6'\n",
      "(as 'lib' is unspecified)\n",
      "\n"
     ]
    },
    {
     "name": "stdout",
     "output_type": "stream",
     "text": [
      "package 'tidyverse' successfully unpacked and MD5 sums checked\n",
      "\n",
      "The downloaded binary packages are in\n",
      "\tC:\\Users\\daeda\\AppData\\Local\\Temp\\RtmpCYfxeC\\downloaded_packages\n"
     ]
    },
    {
     "name": "stderr",
     "output_type": "stream",
     "text": [
      "-- \u001b[1mAttaching packages\u001b[22m --------------------------------------- tidyverse 1.3.0 --\n",
      "\n",
      "\u001b[32mv\u001b[39m \u001b[34mggplot2\u001b[39m 3.3.0            \u001b[32mv\u001b[39m \u001b[34mpurrr  \u001b[39m 0.3.3       \n",
      "\u001b[32mv\u001b[39m \u001b[34mtibble \u001b[39m 2.99.99.\u001b[31m9014\u001b[39m     \u001b[32mv\u001b[39m \u001b[34mdplyr  \u001b[39m 0.8.99.\u001b[31m9000\u001b[39m \n",
      "\u001b[32mv\u001b[39m \u001b[34mtidyr  \u001b[39m 1.0.2            \u001b[32mv\u001b[39m \u001b[34mstringr\u001b[39m 1.4.0       \n",
      "\u001b[32mv\u001b[39m \u001b[34mreadr  \u001b[39m 1.3.1            \u001b[32mv\u001b[39m \u001b[34mforcats\u001b[39m 0.4.0       \n",
      "\n",
      "-- \u001b[1mConflicts\u001b[22m ------------------------------------------ tidyverse_conflicts() --\n",
      "\u001b[31mx\u001b[39m \u001b[34mdplyr\u001b[39m::\u001b[32mfilter()\u001b[39m masks \u001b[34mstats\u001b[39m::filter()\n",
      "\u001b[31mx\u001b[39m \u001b[34mdplyr\u001b[39m::\u001b[32mlag()\u001b[39m    masks \u001b[34mstats\u001b[39m::lag()\n",
      "\u001b[31mx\u001b[39m \u001b[34mdplyr\u001b[39m::\u001b[32mselect()\u001b[39m masks \u001b[34mMASS\u001b[39m::select()\n",
      "\n",
      "Installing package into 'C:/Users/daeda/OneDrive/Documents/R/win-library/3.6'\n",
      "(as 'lib' is unspecified)\n",
      "\n"
     ]
    },
    {
     "name": "stdout",
     "output_type": "stream",
     "text": [
      "package 'caret' successfully unpacked and MD5 sums checked\n"
     ]
    },
    {
     "name": "stderr",
     "output_type": "stream",
     "text": [
      "Warning message:\n",
      "\"cannot remove prior installation of package 'caret'\"\n",
      "Warning message in file.copy(savedcopy, lib, recursive = TRUE):\n",
      "\"problem copying C:\\Users\\daeda\\OneDrive\\Documents\\R\\win-library\\3.6\\00LOCK\\caret\\libs\\x64\\caret.dll to C:\\Users\\daeda\\OneDrive\\Documents\\R\\win-library\\3.6\\caret\\libs\\x64\\caret.dll: Permission denied\"\n",
      "Warning message:\n",
      "\"restored 'caret'\"\n"
     ]
    },
    {
     "name": "stdout",
     "output_type": "stream",
     "text": [
      "\n",
      "The downloaded binary packages are in\n",
      "\tC:\\Users\\daeda\\AppData\\Local\\Temp\\RtmpCYfxeC\\downloaded_packages\n"
     ]
    },
    {
     "name": "stderr",
     "output_type": "stream",
     "text": [
      "Loading required package: lattice\n",
      "\n",
      "\n",
      "Attaching package: 'caret'\n",
      "\n",
      "\n",
      "The following object is masked from 'package:purrr':\n",
      "\n",
      "    lift\n",
      "\n",
      "\n",
      "Installing package into 'C:/Users/daeda/OneDrive/Documents/R/win-library/3.6'\n",
      "(as 'lib' is unspecified)\n",
      "\n"
     ]
    },
    {
     "name": "stdout",
     "output_type": "stream",
     "text": [
      "package 'mice' successfully unpacked and MD5 sums checked\n"
     ]
    },
    {
     "name": "stderr",
     "output_type": "stream",
     "text": [
      "Warning message:\n",
      "\"cannot remove prior installation of package 'mice'\"\n",
      "Warning message in file.copy(savedcopy, lib, recursive = TRUE):\n",
      "\"problem copying C:\\Users\\daeda\\OneDrive\\Documents\\R\\win-library\\3.6\\00LOCK\\mice\\libs\\x64\\mice.dll to C:\\Users\\daeda\\OneDrive\\Documents\\R\\win-library\\3.6\\mice\\libs\\x64\\mice.dll: Permission denied\"\n",
      "Warning message:\n",
      "\"restored 'mice'\"\n"
     ]
    },
    {
     "name": "stdout",
     "output_type": "stream",
     "text": [
      "\n",
      "The downloaded binary packages are in\n",
      "\tC:\\Users\\daeda\\AppData\\Local\\Temp\\RtmpCYfxeC\\downloaded_packages\n"
     ]
    },
    {
     "name": "stderr",
     "output_type": "stream",
     "text": [
      "\n",
      "Attaching package: 'mice'\n",
      "\n",
      "\n",
      "The following object is masked from 'package:tidyr':\n",
      "\n",
      "    complete\n",
      "\n",
      "\n",
      "The following objects are masked from 'package:base':\n",
      "\n",
      "    cbind, rbind\n",
      "\n",
      "\n"
     ]
    }
   ],
   "source": [
    "#Installing packages and loading them into the enviroment\n",
    "install.packages(\"MASS\")\n",
    "library(\"MASS\")\n",
    "install.packages(\"missMDA\")\n",
    "library(\"missMDA\")\n",
    "install.packages(\"tidyverse\")\n",
    "library(\"tidyverse\")\n",
    "install.packages(\"caret\")\n",
    "library(\"caret\")\n",
    "install.packages(\"mice\")\n",
    "library(\"mice\")"
   ]
  },
  {
   "cell_type": "code",
   "execution_count": 2,
   "metadata": {},
   "outputs": [],
   "source": [
    "#Loading all needed files,dropping first two coloumns, which are not needed for analysis (ID, species)\n",
    "ionomics <- read.csv('spec_shoot_xyz_trainingB.csv', colClasses =c(\"NULL\",\"NULL\",NA,NA,NA,NA,NA,NA,NA,NA,NA,NA,NA,NA,NA,\n",
    "                                                                    NA,NA,NA,NA,NA,NA,NA))\n",
    "#Imputation via missMDA\n",
    "imputeIonomics <- imputePCA(ionomics, method = \"Regularized\")"
   ]
  },
  {
   "cell_type": "code",
   "execution_count": 3,
   "metadata": {},
   "outputs": [
    {
     "name": "stdout",
     "output_type": "stream",
     "text": [
      "\n",
      " iter imp variable\n",
      "  1   1  S34  As75\n",
      "  2   1  S34  As75\n",
      "  3   1  S34  As75\n",
      "  4   1  S34  As75\n",
      "  5   1  S34  As75\n"
     ]
    }
   ],
   "source": [
    "#Imputation via Mice\n",
    "# TODO add in fit graphics and missing data quantification\n",
    "temp <- mice(ionomics, m = 1, maxit = 5, method = \"norm.boot\", seed = 567)\n",
    "ionomics <- complete(temp,1)"
   ]
  },
  {
   "cell_type": "code",
   "execution_count": 4,
   "metadata": {},
   "outputs": [],
   "source": [
    "# Split the data into training (80%) and test set (20%)\n",
    "#data set imputed via mice\n",
    "set.seed(123)\n",
    "training.samples <- ionomics[,2] %>%\n",
    "  createDataPartition(p = 0.8, list = FALSE)\n",
    "train.data <- ionomics[training.samples, ]\n",
    "test.data <- ionomics[-training.samples, ]\n",
    "\n",
    "#data set imputed via missMDA\n",
    "training.samples.impute <- imputeIonomics$completeObs[,2] %>%\n",
    "  createDataPartition(p = 0.8, list = FALSE)\n",
    "train.data.impute <- imputeIonomics$completeObs[training.samples.impute, ]\n",
    "test.data.impute <- imputeIonomics$completeObs[-training.samples.impute, ]\n",
    "#typecasting from matrix to dataframe\n",
    "train.data.impute <- unlist(train.data.impute)\n",
    "test.data.impute <- unlist(test.data.impute)\n",
    "train.data.impute <- as.data.frame(train.data.impute)\n",
    "test.data.impute <- as.data.frame(test.data.impute)"
   ]
  },
  {
   "cell_type": "code",
   "execution_count": 6,
   "metadata": {},
   "outputs": [
    {
     "data": {
      "text/html": [
       "0.669642857142857"
      ],
      "text/latex": [
       "0.669642857142857"
      ],
      "text/markdown": [
       "0.669642857142857"
      ],
      "text/plain": [
       "[1] 0.6696429"
      ]
     },
     "metadata": {},
     "output_type": "display_data"
    },
    {
     "data": {
      "text/html": [
       "0.642857142857143"
      ],
      "text/latex": [
       "0.642857142857143"
      ],
      "text/markdown": [
       "0.642857142857143"
      ],
      "text/plain": [
       "[1] 0.6428571"
      ]
     },
     "metadata": {},
     "output_type": "display_data"
    }
   ],
   "source": [
    "# Fit the model\n",
    "#data set imputed with mice\n",
    "model <- lda(spec_as_int~., data = train.data)\n",
    "# Make predictions\n",
    "predictions <- model %>% predict(test.data)\n",
    "# Model accuracy\n",
    "mean(predictions$class==test.data$spec_as_int)\n",
    "#model\n",
    "\n",
    "#data set imputed with missMDA\n",
    "model.impute <- lda(spec_as_int~., data = train.data.impute)\n",
    "# Make predictions\n",
    "predictions.impute <- model.impute %>% predict(test.data.impute)\n",
    "# Model accuracy\n",
    "mean(predictions.impute$class == test.data.impute$spec_as_int)\n",
    "#model.impute\n",
    "#TODO format data generated by model"
   ]
  },
  {
   "cell_type": "code",
   "execution_count": 7,
   "metadata": {},
   "outputs": [
    {
     "data": {
      "image/png": "[encoded data removed]",
      "text/plain": [
       "plot without title"
      ]
     },
     "metadata": {
      "image/png": {
       "height": 420,
       "width": 420
      },
      "text/plain": {
       "height": 420,
       "width": 420
      }
     },
     "output_type": "display_data"
    },
    {
     "data": {
      "image/png": "[encoded data removed]",
      "text/plain": [
       "plot without title"
      ]
     },
     "metadata": {
      "image/png": {
       "height": 420,
       "width": 420
      },
      "text/plain": {
       "height": 420,
       "width": 420
      }
     },
     "output_type": "display_data"
    }
   ],
   "source": [
    "plot(model)\n",
    "plot(model.impute)\n",
    "#TODO a better way to do this "
   ]
  },
  {
   "cell_type": "code",
   "execution_count": 9,
   "metadata": {},
   "outputs": [
    {
     "data": {
      "text/html": [
       "<style>\n",
       ".list-inline {list-style: none; margin:0; padding: 0}\n",
       ".list-inline>li {display: inline-block}\n",
       ".list-inline>li:not(:last-child)::after {content: \"\\00b7\"; padding: 0 .5ex}\n",
       "</style>\n",
       "<ol class=list-inline><li>6</li><li>6</li><li>6</li><li>6</li><li>6</li><li>3</li></ol>\n",
       "\n",
       "<details>\n",
       "\t<summary style=display:list-item;cursor:pointer>\n",
       "\t\t<strong>Levels</strong>:\n",
       "\t</summary>\n",
       "\t<style>\n",
       "\t.list-inline {list-style: none; margin:0; padding: 0}\n",
       "\t.list-inline>li {display: inline-block}\n",
       "\t.list-inline>li:not(:last-child)::after {content: \"\\00b7\"; padding: 0 .5ex}\n",
       "\t</style>\n",
       "\t<ol class=list-inline><li>'1'</li><li>'3'</li><li>'4'</li><li>'6'</li><li>'7'</li><li>'8'</li><li>'9'</li><li>'11'</li><li>'12'</li><li>'14'</li><li>'15'</li><li>'16'</li><li>'17'</li><li>'19'</li><li>'20'</li><li>'22'</li><li>'23'</li><li>'24'</li></ol>\n",
       "</details>"
      ],
      "text/latex": [
       "\\begin{enumerate*}\n",
       "\\item 6\n",
       "\\item 6\n",
       "\\item 6\n",
       "\\item 6\n",
       "\\item 6\n",
       "\\item 3\n",
       "\\end{enumerate*}\n",
       "\n",
       "\\emph{Levels}: \\begin{enumerate*}\n",
       "\\item '1'\n",
       "\\item '3'\n",
       "\\item '4'\n",
       "\\item '6'\n",
       "\\item '7'\n",
       "\\item '8'\n",
       "\\item '9'\n",
       "\\item '11'\n",
       "\\item '12'\n",
       "\\item '14'\n",
       "\\item '15'\n",
       "\\item '16'\n",
       "\\item '17'\n",
       "\\item '19'\n",
       "\\item '20'\n",
       "\\item '22'\n",
       "\\item '23'\n",
       "\\item '24'\n",
       "\\end{enumerate*}\n"
      ],
      "text/markdown": [
       "1. 6\n",
       "2. 6\n",
       "3. 6\n",
       "4. 6\n",
       "5. 6\n",
       "6. 3\n",
       "\n",
       "\n",
       "\n",
       "**Levels**: 1. '1'\n",
       "2. '3'\n",
       "3. '4'\n",
       "4. '6'\n",
       "5. '7'\n",
       "6. '8'\n",
       "7. '9'\n",
       "8. '11'\n",
       "9. '12'\n",
       "10. '14'\n",
       "11. '15'\n",
       "12. '16'\n",
       "13. '17'\n",
       "14. '19'\n",
       "15. '20'\n",
       "16. '22'\n",
       "17. '23'\n",
       "18. '24'\n",
       "\n",
       "\n"
      ],
      "text/plain": [
       "[1] 6 6 6 6 6 3\n",
       "Levels: 1 3 4 6 7 8 9 11 12 14 15 16 17 19 20 22 23 24"
      ]
     },
     "metadata": {},
     "output_type": "display_data"
    },
    {
     "data": {
      "text/html": [
       "<table>\n",
       "<caption>A matrix: 6 × 18 of type dbl</caption>\n",
       "<thead>\n",
       "\t<tr><th></th><th scope=col>1</th><th scope=col>3</th><th scope=col>4</th><th scope=col>6</th><th scope=col>7</th><th scope=col>8</th><th scope=col>9</th><th scope=col>11</th><th scope=col>12</th><th scope=col>14</th><th scope=col>15</th><th scope=col>16</th><th scope=col>17</th><th scope=col>19</th><th scope=col>20</th><th scope=col>22</th><th scope=col>23</th><th scope=col>24</th></tr>\n",
       "</thead>\n",
       "<tbody>\n",
       "\t<tr><th scope=row>1</th><td>2.562822e-02</td><td>3.050500e-09</td><td>4.747224e-06</td><td>0.8446989165</td><td>1.296565e-01</td><td>3.348412e-07</td><td>8.384194e-06</td><td>1.785289e-11</td><td>8.058032e-10</td><td>2.791463e-06</td><td>1.350562e-07</td><td>1.604400e-09</td><td>6.909928e-18</td><td>4.941183e-25</td><td>2.384829e-25</td><td>2.342333e-15</td><td>2.846025e-14</td><td>6.298523e-16</td></tr>\n",
       "\t<tr><th scope=row>2</th><td>1.193350e-02</td><td>3.616267e-06</td><td>6.120838e-02</td><td>0.7125528992</td><td>1.709338e-01</td><td>3.409929e-02</td><td>5.374153e-03</td><td>5.827315e-08</td><td>2.612052e-04</td><td>2.735141e-03</td><td>6.370709e-04</td><td>2.609142e-04</td><td>7.719255e-12</td><td>6.241992e-20</td><td>2.544256e-18</td><td>5.591472e-11</td><td>1.644953e-09</td><td>7.538626e-10</td></tr>\n",
       "\t<tr><th scope=row>3</th><td>9.129611e-05</td><td>1.439177e-07</td><td>5.672299e-03</td><td>0.5393136700</td><td>4.542381e-01</td><td>5.190860e-06</td><td>1.199236e-05</td><td>8.084012e-06</td><td>1.967491e-05</td><td>3.591499e-04</td><td>2.749565e-04</td><td>5.421243e-06</td><td>9.658140e-16</td><td>1.621676e-18</td><td>2.079879e-19</td><td>6.924373e-12</td><td>1.308132e-10</td><td>1.632435e-11</td></tr>\n",
       "\t<tr><th scope=row>4</th><td>7.234730e-02</td><td>6.344880e-07</td><td>1.262214e-03</td><td>0.6047742937</td><td>3.193306e-01</td><td>4.159598e-04</td><td>7.900995e-04</td><td>1.660574e-07</td><td>1.122183e-05</td><td>8.321053e-04</td><td>2.303039e-04</td><td>5.123671e-06</td><td>1.697264e-14</td><td>1.369252e-19</td><td>1.245831e-19</td><td>1.351627e-12</td><td>6.490730e-11</td><td>4.448220e-11</td></tr>\n",
       "\t<tr><th scope=row>8</th><td>7.429533e-02</td><td>3.693334e-09</td><td>5.095379e-04</td><td>0.8141166368</td><td>1.106364e-01</td><td>3.349948e-05</td><td>1.177828e-04</td><td>1.965767e-10</td><td>1.632461e-06</td><td>2.823302e-04</td><td>6.483457e-06</td><td>4.015251e-07</td><td>7.274493e-17</td><td>1.515061e-24</td><td>2.563560e-22</td><td>1.349004e-13</td><td>6.232277e-13</td><td>1.300245e-13</td></tr>\n",
       "\t<tr><th scope=row>16</th><td>8.250936e-07</td><td>9.466097e-01</td><td>1.637082e-02</td><td>0.0002198699</td><td>1.344396e-05</td><td>3.678488e-02</td><td>7.606167e-08</td><td>1.299010e-07</td><td>7.940620e-08</td><td>1.171912e-08</td><td>1.422539e-08</td><td>1.271313e-07</td><td>1.464595e-09</td><td>1.814939e-15</td><td>2.034581e-17</td><td>1.376050e-11</td><td>1.851120e-10</td><td>1.408880e-10</td></tr>\n",
       "</tbody>\n",
       "</table>\n"
      ],
      "text/latex": [
       "A matrix: 6 × 18 of type dbl\n",
       "\\begin{tabular}{r|llllllllllllllllll}\n",
       "  & 1 & 3 & 4 & 6 & 7 & 8 & 9 & 11 & 12 & 14 & 15 & 16 & 17 & 19 & 20 & 22 & 23 & 24\\\\\n",
       "\\hline\n",
       "\t1 & 2.562822e-02 & 3.050500e-09 & 4.747224e-06 & 0.8446989165 & 1.296565e-01 & 3.348412e-07 & 8.384194e-06 & 1.785289e-11 & 8.058032e-10 & 2.791463e-06 & 1.350562e-07 & 1.604400e-09 & 6.909928e-18 & 4.941183e-25 & 2.384829e-25 & 2.342333e-15 & 2.846025e-14 & 6.298523e-16\\\\\n",
       "\t2 & 1.193350e-02 & 3.616267e-06 & 6.120838e-02 & 0.7125528992 & 1.709338e-01 & 3.409929e-02 & 5.374153e-03 & 5.827315e-08 & 2.612052e-04 & 2.735141e-03 & 6.370709e-04 & 2.609142e-04 & 7.719255e-12 & 6.241992e-20 & 2.544256e-18 & 5.591472e-11 & 1.644953e-09 & 7.538626e-10\\\\\n",
       "\t3 & 9.129611e-05 & 1.439177e-07 & 5.672299e-03 & 0.5393136700 & 4.542381e-01 & 5.190860e-06 & 1.199236e-05 & 8.084012e-06 & 1.967491e-05 & 3.591499e-04 & 2.749565e-04 & 5.421243e-06 & 9.658140e-16 & 1.621676e-18 & 2.079879e-19 & 6.924373e-12 & 1.308132e-10 & 1.632435e-11\\\\\n",
       "\t4 & 7.234730e-02 & 6.344880e-07 & 1.262214e-03 & 0.6047742937 & 3.193306e-01 & 4.159598e-04 & 7.900995e-04 & 1.660574e-07 & 1.122183e-05 & 8.321053e-04 & 2.303039e-04 & 5.123671e-06 & 1.697264e-14 & 1.369252e-19 & 1.245831e-19 & 1.351627e-12 & 6.490730e-11 & 4.448220e-11\\\\\n",
       "\t8 & 7.429533e-02 & 3.693334e-09 & 5.095379e-04 & 0.8141166368 & 1.106364e-01 & 3.349948e-05 & 1.177828e-04 & 1.965767e-10 & 1.632461e-06 & 2.823302e-04 & 6.483457e-06 & 4.015251e-07 & 7.274493e-17 & 1.515061e-24 & 2.563560e-22 & 1.349004e-13 & 6.232277e-13 & 1.300245e-13\\\\\n",
       "\t16 & 8.250936e-07 & 9.466097e-01 & 1.637082e-02 & 0.0002198699 & 1.344396e-05 & 3.678488e-02 & 7.606167e-08 & 1.299010e-07 & 7.940620e-08 & 1.171912e-08 & 1.422539e-08 & 1.271313e-07 & 1.464595e-09 & 1.814939e-15 & 2.034581e-17 & 1.376050e-11 & 1.851120e-10 & 1.408880e-10\\\\\n",
       "\\end{tabular}\n"
      ],
      "text/markdown": [
       "\n",
       "A matrix: 6 × 18 of type dbl\n",
       "\n",
       "| <!--/--> | 1 | 3 | 4 | 6 | 7 | 8 | 9 | 11 | 12 | 14 | 15 | 16 | 17 | 19 | 20 | 22 | 23 | 24 |\n",
       "|---|---|---|---|---|---|---|---|---|---|---|---|---|---|---|---|---|---|---|\n",
       "| 1 | 2.562822e-02 | 3.050500e-09 | 4.747224e-06 | 0.8446989165 | 1.296565e-01 | 3.348412e-07 | 8.384194e-06 | 1.785289e-11 | 8.058032e-10 | 2.791463e-06 | 1.350562e-07 | 1.604400e-09 | 6.909928e-18 | 4.941183e-25 | 2.384829e-25 | 2.342333e-15 | 2.846025e-14 | 6.298523e-16 |\n",
       "| 2 | 1.193350e-02 | 3.616267e-06 | 6.120838e-02 | 0.7125528992 | 1.709338e-01 | 3.409929e-02 | 5.374153e-03 | 5.827315e-08 | 2.612052e-04 | 2.735141e-03 | 6.370709e-04 | 2.609142e-04 | 7.719255e-12 | 6.241992e-20 | 2.544256e-18 | 5.591472e-11 | 1.644953e-09 | 7.538626e-10 |\n",
       "| 3 | 9.129611e-05 | 1.439177e-07 | 5.672299e-03 | 0.5393136700 | 4.542381e-01 | 5.190860e-06 | 1.199236e-05 | 8.084012e-06 | 1.967491e-05 | 3.591499e-04 | 2.749565e-04 | 5.421243e-06 | 9.658140e-16 | 1.621676e-18 | 2.079879e-19 | 6.924373e-12 | 1.308132e-10 | 1.632435e-11 |\n",
       "| 4 | 7.234730e-02 | 6.344880e-07 | 1.262214e-03 | 0.6047742937 | 3.193306e-01 | 4.159598e-04 | 7.900995e-04 | 1.660574e-07 | 1.122183e-05 | 8.321053e-04 | 2.303039e-04 | 5.123671e-06 | 1.697264e-14 | 1.369252e-19 | 1.245831e-19 | 1.351627e-12 | 6.490730e-11 | 4.448220e-11 |\n",
       "| 8 | 7.429533e-02 | 3.693334e-09 | 5.095379e-04 | 0.8141166368 | 1.106364e-01 | 3.349948e-05 | 1.177828e-04 | 1.965767e-10 | 1.632461e-06 | 2.823302e-04 | 6.483457e-06 | 4.015251e-07 | 7.274493e-17 | 1.515061e-24 | 2.563560e-22 | 1.349004e-13 | 6.232277e-13 | 1.300245e-13 |\n",
       "| 16 | 8.250936e-07 | 9.466097e-01 | 1.637082e-02 | 0.0002198699 | 1.344396e-05 | 3.678488e-02 | 7.606167e-08 | 1.299010e-07 | 7.940620e-08 | 1.171912e-08 | 1.422539e-08 | 1.271313e-07 | 1.464595e-09 | 1.814939e-15 | 2.034581e-17 | 1.376050e-11 | 1.851120e-10 | 1.408880e-10 |\n",
       "\n"
      ],
      "text/plain": [
       "   1            3            4            6            7           \n",
       "1  2.562822e-02 3.050500e-09 4.747224e-06 0.8446989165 1.296565e-01\n",
       "2  1.193350e-02 3.616267e-06 6.120838e-02 0.7125528992 1.709338e-01\n",
       "3  9.129611e-05 1.439177e-07 5.672299e-03 0.5393136700 4.542381e-01\n",
       "4  7.234730e-02 6.344880e-07 1.262214e-03 0.6047742937 3.193306e-01\n",
       "8  7.429533e-02 3.693334e-09 5.095379e-04 0.8141166368 1.106364e-01\n",
       "16 8.250936e-07 9.466097e-01 1.637082e-02 0.0002198699 1.344396e-05\n",
       "   8            9            11           12           14          \n",
       "1  3.348412e-07 8.384194e-06 1.785289e-11 8.058032e-10 2.791463e-06\n",
       "2  3.409929e-02 5.374153e-03 5.827315e-08 2.612052e-04 2.735141e-03\n",
       "3  5.190860e-06 1.199236e-05 8.084012e-06 1.967491e-05 3.591499e-04\n",
       "4  4.159598e-04 7.900995e-04 1.660574e-07 1.122183e-05 8.321053e-04\n",
       "8  3.349948e-05 1.177828e-04 1.965767e-10 1.632461e-06 2.823302e-04\n",
       "16 3.678488e-02 7.606167e-08 1.299010e-07 7.940620e-08 1.171912e-08\n",
       "   15           16           17           19           20          \n",
       "1  1.350562e-07 1.604400e-09 6.909928e-18 4.941183e-25 2.384829e-25\n",
       "2  6.370709e-04 2.609142e-04 7.719255e-12 6.241992e-20 2.544256e-18\n",
       "3  2.749565e-04 5.421243e-06 9.658140e-16 1.621676e-18 2.079879e-19\n",
       "4  2.303039e-04 5.123671e-06 1.697264e-14 1.369252e-19 1.245831e-19\n",
       "8  6.483457e-06 4.015251e-07 7.274493e-17 1.515061e-24 2.563560e-22\n",
       "16 1.422539e-08 1.271313e-07 1.464595e-09 1.814939e-15 2.034581e-17\n",
       "   22           23           24          \n",
       "1  2.342333e-15 2.846025e-14 6.298523e-16\n",
       "2  5.591472e-11 1.644953e-09 7.538626e-10\n",
       "3  6.924373e-12 1.308132e-10 1.632435e-11\n",
       "4  1.351627e-12 6.490730e-11 4.448220e-11\n",
       "8  1.349004e-13 6.232277e-13 1.300245e-13\n",
       "16 1.376050e-11 1.851120e-10 1.408880e-10"
      ]
     },
     "metadata": {},
     "output_type": "display_data"
    },
    {
     "data": {
      "text/html": [
       "<table>\n",
       "<caption>A matrix: 3 × 17 of type dbl</caption>\n",
       "<thead>\n",
       "\t<tr><th></th><th scope=col>LD1</th><th scope=col>LD2</th><th scope=col>LD3</th><th scope=col>LD4</th><th scope=col>LD5</th><th scope=col>LD6</th><th scope=col>LD7</th><th scope=col>LD8</th><th scope=col>LD9</th><th scope=col>LD10</th><th scope=col>LD11</th><th scope=col>LD12</th><th scope=col>LD13</th><th scope=col>LD14</th><th scope=col>LD15</th><th scope=col>LD16</th><th scope=col>LD17</th></tr>\n",
       "</thead>\n",
       "<tbody>\n",
       "\t<tr><th scope=row>1</th><td>4.686481</td><td>-1.17752922</td><td>1.7438868</td><td>-2.2156236</td><td>-2.428611</td><td> 2.2978870</td><td> 1.5084330</td><td>-1.4741329</td><td>-0.5730762</td><td>-1.7750241</td><td> 2.0281627</td><td> 0.64775103</td><td> 0.2155134</td><td> 0.3109771</td><td>-0.2990766</td><td>-0.4003967</td><td> 0.18449294</td></tr>\n",
       "\t<tr><th scope=row>2</th><td>3.419192</td><td>-0.95315305</td><td>0.1480328</td><td>-1.1555228</td><td> 0.657484</td><td> 0.8824885</td><td>-0.3370814</td><td>-0.2810920</td><td> 0.5496740</td><td>-0.8242746</td><td> 0.7559235</td><td>-0.29204075</td><td>-0.1136716</td><td> 0.9945369</td><td>-1.0205258</td><td>-0.2686381</td><td>-1.46922890</td></tr>\n",
       "\t<tr><th scope=row>3</th><td>3.468931</td><td>-0.08103361</td><td>0.4482485</td><td>-0.6838543</td><td>-2.541336</td><td>-0.2566212</td><td> 1.8787698</td><td> 0.3126143</td><td> 0.8268332</td><td> 0.5821338</td><td>-0.4468955</td><td>-0.03546636</td><td> 0.4824412</td><td>-0.4152906</td><td>-0.4031922</td><td> 0.3609406</td><td>-0.07568488</td></tr>\n",
       "</tbody>\n",
       "</table>\n"
      ],
      "text/latex": [
       "A matrix: 3 × 17 of type dbl\n",
       "\\begin{tabular}{r|lllllllllllllllll}\n",
       "  & LD1 & LD2 & LD3 & LD4 & LD5 & LD6 & LD7 & LD8 & LD9 & LD10 & LD11 & LD12 & LD13 & LD14 & LD15 & LD16 & LD17\\\\\n",
       "\\hline\n",
       "\t1 & 4.686481 & -1.17752922 & 1.7438868 & -2.2156236 & -2.428611 &  2.2978870 &  1.5084330 & -1.4741329 & -0.5730762 & -1.7750241 &  2.0281627 &  0.64775103 &  0.2155134 &  0.3109771 & -0.2990766 & -0.4003967 &  0.18449294\\\\\n",
       "\t2 & 3.419192 & -0.95315305 & 0.1480328 & -1.1555228 &  0.657484 &  0.8824885 & -0.3370814 & -0.2810920 &  0.5496740 & -0.8242746 &  0.7559235 & -0.29204075 & -0.1136716 &  0.9945369 & -1.0205258 & -0.2686381 & -1.46922890\\\\\n",
       "\t3 & 3.468931 & -0.08103361 & 0.4482485 & -0.6838543 & -2.541336 & -0.2566212 &  1.8787698 &  0.3126143 &  0.8268332 &  0.5821338 & -0.4468955 & -0.03546636 &  0.4824412 & -0.4152906 & -0.4031922 &  0.3609406 & -0.07568488\\\\\n",
       "\\end{tabular}\n"
      ],
      "text/markdown": [
       "\n",
       "A matrix: 3 × 17 of type dbl\n",
       "\n",
       "| <!--/--> | LD1 | LD2 | LD3 | LD4 | LD5 | LD6 | LD7 | LD8 | LD9 | LD10 | LD11 | LD12 | LD13 | LD14 | LD15 | LD16 | LD17 |\n",
       "|---|---|---|---|---|---|---|---|---|---|---|---|---|---|---|---|---|---|\n",
       "| 1 | 4.686481 | -1.17752922 | 1.7438868 | -2.2156236 | -2.428611 |  2.2978870 |  1.5084330 | -1.4741329 | -0.5730762 | -1.7750241 |  2.0281627 |  0.64775103 |  0.2155134 |  0.3109771 | -0.2990766 | -0.4003967 |  0.18449294 |\n",
       "| 2 | 3.419192 | -0.95315305 | 0.1480328 | -1.1555228 |  0.657484 |  0.8824885 | -0.3370814 | -0.2810920 |  0.5496740 | -0.8242746 |  0.7559235 | -0.29204075 | -0.1136716 |  0.9945369 | -1.0205258 | -0.2686381 | -1.46922890 |\n",
       "| 3 | 3.468931 | -0.08103361 | 0.4482485 | -0.6838543 | -2.541336 | -0.2566212 |  1.8787698 |  0.3126143 |  0.8268332 |  0.5821338 | -0.4468955 | -0.03546636 |  0.4824412 | -0.4152906 | -0.4031922 |  0.3609406 | -0.07568488 |\n",
       "\n"
      ],
      "text/plain": [
       "  LD1      LD2         LD3       LD4        LD5       LD6        LD7       \n",
       "1 4.686481 -1.17752922 1.7438868 -2.2156236 -2.428611  2.2978870  1.5084330\n",
       "2 3.419192 -0.95315305 0.1480328 -1.1555228  0.657484  0.8824885 -0.3370814\n",
       "3 3.468931 -0.08103361 0.4482485 -0.6838543 -2.541336 -0.2566212  1.8787698\n",
       "  LD8        LD9        LD10       LD11       LD12        LD13       LD14      \n",
       "1 -1.4741329 -0.5730762 -1.7750241  2.0281627  0.64775103  0.2155134  0.3109771\n",
       "2 -0.2810920  0.5496740 -0.8242746  0.7559235 -0.29204075 -0.1136716  0.9945369\n",
       "3  0.3126143  0.8268332  0.5821338 -0.4468955 -0.03546636  0.4824412 -0.4152906\n",
       "  LD15       LD16       LD17       \n",
       "1 -0.2990766 -0.4003967  0.18449294\n",
       "2 -1.0205258 -0.2686381 -1.46922890\n",
       "3 -0.4031922  0.3609406 -0.07568488"
      ]
     },
     "metadata": {},
     "output_type": "display_data"
    }
   ],
   "source": [
    "# Predicted classes\n",
    "head(predictions$class, 6)\n",
    "# Predicted probabilities of class memebership.\n",
    "head(predictions$posterior, 6) \n",
    "# Linear discriminants\n",
    "head(predictions$x, 3) "
   ]
  },
  {
   "cell_type": "markdown",
   "metadata": {},
   "source": [
    "|species|spec_as_int|\n",
    "|---|---|\n",
    "|acerifolia_x|1|\n",
    "|aestivalis_x|2|\n",
    "|cinerea_x|3|\n",
    "|labrusca_x|4|\n",
    "|palmata_x|5|\n",
    "|riparia_x|6|\n",
    "|rupestris_x|7|\n",
    "|vulpina_x|8|\n",
    "|acerifolia_y|9|\n",
    "|aestivalis_y|10|\n",
    "|cinerea_y|11|\n",
    "|labrusca_y|12|\n",
    "|palmata_y|13|\n",
    "|riparia_y|14|\n",
    "|rupestris_y|15|\n",
    "|vulpina_y|16|\n",
    "acerifolia_z|17|\n",
    "|aestivalis_z|18|\n",
    "|cinerea_z|19|\n",
    "|labrusca_z|20|\n",
    "|palmata_z|21|\n",
    "|riparia_z|22|\n",
    "|rupestris_z|23|\n",
    "|vulpina_z|24|"
   ]
  },
  {
   "cell_type": "code",
   "execution_count": 11,
   "metadata": {},
   "outputs": [
    {
     "data": {
      "text/plain": [
       "Confusion Matrix and Statistics\n",
       "\n",
       "         Species\n",
       "Predicted  1  3  4  6  7  8  9 11 12 14 15 16 17 19 20 22 23 24\n",
       "       1   0  0  0  1  1  0  0  0  0  0  1  0  0  0  0  0  0  0\n",
       "       3   0  5  1  0  0  0  0  0  0  0  0  0  0  0  0  0  0  0\n",
       "       4   0  0  3  1  1  0  0  0  0  0  0  0  0  0  0  0  0  0\n",
       "       6   5  0  0 12  0  0  0  0  0  0  0  0  0  0  0  0  0  0\n",
       "       7   0  0  1  0  2  0  0  0  0  0  0  0  0  0  0  0  0  0\n",
       "       8   0  0  0  1  0  2  0  0  0  0  0  0  0  0  0  0  0  0\n",
       "       9   0  0  0  0  0  0  0  0  0  0  0  0  0  0  0  0  0  0\n",
       "       11  0  0  0  0  0  1  0  6  0  0  0  0  0  1  0  0  0  0\n",
       "       12  0  0  1  0  0  0  0  0  3  1  0  1  0  0  0  0  0  0\n",
       "       14  0  0  0  1  0  0  2  0  0 10  2  0  0  0  0  0  0  0\n",
       "       15  0  0  0  0  0  0  0  0  0  0  3  1  0  0  0  0  0  0\n",
       "       16  0  1  0  0  0  1  0  0  0  0  0  0  0  0  0  0  0  1\n",
       "       17  0  0  0  0  0  0  0  0  0  0  0  0  1  0  2  1  0  0\n",
       "       19  0  0  0  0  0  0  0  0  0  0  0  0  0  5  0  0  0  0\n",
       "       20  0  0  0  0  0  0  0  0  0  0  0  0  1  0 11  0  0  1\n",
       "       22  0  0  0  0  0  0  0  0  0  0  0  0  0  1  0 10  1  1\n",
       "       23  0  0  0  0  0  0  0  0  0  0  0  0  0  0  0  1  2  0\n",
       "       24  0  0  0  0  0  0  0  0  0  0  0  0  0  0  1  0  0  0\n",
       "\n",
       "Overall Statistics\n",
       "                                          \n",
       "               Accuracy : 0.6696          \n",
       "                 95% CI : (0.5744, 0.7556)\n",
       "    No Information Rate : 0.1429          \n",
       "    P-Value [Acc > NIR] : < 2.2e-16       \n",
       "                                          \n",
       "                  Kappa : 0.6401          \n",
       "                                          \n",
       " Mcnemar's Test P-Value : NA              \n",
       "\n",
       "Statistics by Class:\n",
       "\n",
       "                     Class: 1 Class: 3 Class: 4 Class: 6 Class: 7 Class: 8\n",
       "Sensitivity           0.00000  0.83333  0.50000   0.7500  0.50000  0.50000\n",
       "Specificity           0.97196  0.99057  0.98113   0.9479  0.99074  0.99074\n",
       "Pos Pred Value        0.00000  0.83333  0.60000   0.7059  0.66667  0.66667\n",
       "Neg Pred Value        0.95413  0.99057  0.97196   0.9579  0.98165  0.98165\n",
       "Prevalence            0.04464  0.05357  0.05357   0.1429  0.03571  0.03571\n",
       "Detection Rate        0.00000  0.04464  0.02679   0.1071  0.01786  0.01786\n",
       "Detection Prevalence  0.02679  0.05357  0.04464   0.1518  0.02679  0.02679\n",
       "Balanced Accuracy     0.48598  0.91195  0.74057   0.8490  0.74537  0.74537\n",
       "                     Class: 9 Class: 11 Class: 12 Class: 14 Class: 15 Class: 16\n",
       "Sensitivity           0.00000   1.00000   1.00000   0.90909   0.50000   0.00000\n",
       "Specificity           1.00000   0.98113   0.97248   0.95050   0.99057   0.97273\n",
       "Pos Pred Value            NaN   0.75000   0.50000   0.66667   0.75000   0.00000\n",
       "Neg Pred Value        0.98214   1.00000   1.00000   0.98969   0.97222   0.98165\n",
       "Prevalence            0.01786   0.05357   0.02679   0.09821   0.05357   0.01786\n",
       "Detection Rate        0.00000   0.05357   0.02679   0.08929   0.02679   0.00000\n",
       "Detection Prevalence  0.00000   0.07143   0.05357   0.13393   0.03571   0.02679\n",
       "Balanced Accuracy     0.50000   0.99057   0.98624   0.92979   0.74528   0.48636\n",
       "                     Class: 17 Class: 19 Class: 20 Class: 22 Class: 23\n",
       "Sensitivity           0.500000   0.71429   0.78571   0.83333   0.66667\n",
       "Specificity           0.972727   1.00000   0.97959   0.97000   0.99083\n",
       "Pos Pred Value        0.250000   1.00000   0.84615   0.76923   0.66667\n",
       "Neg Pred Value        0.990741   0.98131   0.96970   0.97980   0.99083\n",
       "Prevalence            0.017857   0.06250   0.12500   0.10714   0.02679\n",
       "Detection Rate        0.008929   0.04464   0.09821   0.08929   0.01786\n",
       "Detection Prevalence  0.035714   0.04464   0.11607   0.11607   0.02679\n",
       "Balanced Accuracy     0.736364   0.85714   0.88265   0.90167   0.82875\n",
       "                     Class: 24\n",
       "Sensitivity           0.000000\n",
       "Specificity           0.990826\n",
       "Pos Pred Value        0.000000\n",
       "Neg Pred Value        0.972973\n",
       "Prevalence            0.026786\n",
       "Detection Rate        0.000000\n",
       "Detection Prevalence  0.008929\n",
       "Balanced Accuracy     0.495413"
      ]
     },
     "metadata": {},
     "output_type": "display_data"
    }
   ],
   "source": [
    "table <- table(Predicted=predictions$class, Species=test.data$spec_as_int)\n",
    "confusionMatrix(table)"
   ]
  },
  {
   "cell_type": "code",
   "execution_count": null,
   "metadata": {},
   "outputs": [],
   "source": []
  }
 ],
 "metadata": {
  "kernelspec": {
   "display_name": "R",
   "language": "R",
   "name": "ir"
  },
  "language_info": {
   "codemirror_mode": "r",
   "file_extension": ".r",
   "mimetype": "text/x-r-source",
   "name": "R",
   "pygments_lexer": "r",
   "version": "3.6.3"
  }
 },
 "nbformat": 4,
 "nbformat_minor": 4
}
