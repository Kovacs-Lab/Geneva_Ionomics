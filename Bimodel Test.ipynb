{
 "cells": [
  {
   "cell_type": "code",
   "execution_count": 114,
   "metadata": {},
   "outputs": [
    {
     "name": "stderr",
     "output_type": "stream",
     "text": [
      "Installing package into 'C:/Users/daeda/OneDrive/Documents/R/win-library/3.6'\n",
      "(as 'lib' is unspecified)\n",
      "\n",
      "Warning message:\n",
      "\"package 'MASS' is in use and will not be installed\"\n",
      "Installing package into 'C:/Users/daeda/OneDrive/Documents/R/win-library/3.6'\n",
      "(as 'lib' is unspecified)\n",
      "\n",
      "Warning message:\n",
      "\"package 'missMDA' is in use and will not be installed\"\n",
      "Installing package into 'C:/Users/daeda/OneDrive/Documents/R/win-library/3.6'\n",
      "(as 'lib' is unspecified)\n",
      "\n",
      "Warning message:\n",
      "\"package 'tidyverse' is in use and will not be installed\"\n",
      "Installing package into 'C:/Users/daeda/OneDrive/Documents/R/win-library/3.6'\n",
      "(as 'lib' is unspecified)\n",
      "\n",
      "Warning message:\n",
      "\"package 'caret' is in use and will not be installed\"\n",
      "Installing package into 'C:/Users/daeda/OneDrive/Documents/R/win-library/3.6'\n",
      "(as 'lib' is unspecified)\n",
      "\n",
      "Warning message:\n",
      "\"package 'mice' is in use and will not be installed\"\n"
     ]
    }
   ],
   "source": [
    "#Installing packages and loading them into the enviroment\n",
    "install.packages(\"MASS\")\n",
    "library(\"MASS\")\n",
    "install.packages(\"missMDA\")\n",
    "library(\"missMDA\")\n",
    "install.packages(\"tidyverse\")\n",
    "library(\"tidyverse\")\n",
    "install.packages(\"caret\")\n",
    "library(\"caret\")\n",
    "install.packages(\"mice\")\n",
    "library(\"mice\")"
   ]
  },
  {
   "cell_type": "code",
   "execution_count": 229,
   "metadata": {},
   "outputs": [],
   "source": [
    "#Loading all needed files,dropping first two coloumns, which are not needed for analysis (ID, species)\n",
    "ionomics <- read.csv('spec_shoot_xyz_combined.csv', colClasses =c(\"NULL\",\"NULL\",NA,NA,NA,NA,NA,NA,NA,NA,NA,NA,NA,NA,NA,\n",
    "                                                                    NA,NA,NA,NA,NA,NA,NA))\n",
    "#Imputation via missMDA\n",
    "imputeIonomics <- imputePCA(ionomics, method = \"Regularized\")"
   ]
  },
  {
   "cell_type": "code",
   "execution_count": 230,
   "metadata": {},
   "outputs": [
    {
     "name": "stdout",
     "output_type": "stream",
     "text": [
      "\n",
      " iter imp variable\n",
      "  1   1  spec_as_int  S34  As75\n",
      "  1   2  spec_as_int  S34  As75\n",
      "  1   3  spec_as_int  S34  As75\n",
      "  1   4  spec_as_int  S34  As75\n",
      "  1   5  spec_as_int  S34  As75\n",
      "  2   1  spec_as_int  S34  As75\n",
      "  2   2  spec_as_int  S34  As75\n",
      "  2   3  spec_as_int  S34  As75\n",
      "  2   4  spec_as_int  S34  As75\n",
      "  2   5  spec_as_int  S34  As75\n",
      "  3   1  spec_as_int  S34  As75\n",
      "  3   2  spec_as_int  S34  As75\n",
      "  3   3  spec_as_int  S34  As75\n",
      "  3   4  spec_as_int  S34  As75\n",
      "  3   5  spec_as_int  S34  As75\n",
      "  4   1  spec_as_int  S34  As75\n",
      "  4   2  spec_as_int  S34  As75\n",
      "  4   3  spec_as_int  S34  As75\n",
      "  4   4  spec_as_int  S34  As75\n",
      "  4   5  spec_as_int  S34  As75\n",
      "  5   1  spec_as_int  S34  As75\n",
      "  5   2  spec_as_int  S34  As75\n",
      "  5   3  spec_as_int  S34  As75\n",
      "  5   4  spec_as_int  S34  As75\n",
      "  5   5  spec_as_int  S34  As75\n"
     ]
    }
   ],
   "source": [
    "#Imputation via Mice\n",
    "temp <- mice(ionomics, m = 5, maxit = 5, method = \"norm.boot\", seed = 123)\n",
    "ionomics <- complete(temp,1)"
   ]
  },
  {
   "cell_type": "code",
   "execution_count": 231,
   "metadata": {},
   "outputs": [],
   "source": [
    "# Split the data into training (80%) and test set (20%)\n",
    "set.seed(123)\n",
    "training.samples <- ionomics[,2] %>%\n",
    "  createDataPartition(p = 0.8, list = FALSE)\n",
    "train.data <- ionomics[training.samples, ]\n",
    "test.data <- ionomics[-training.samples, ]\n",
    "\n",
    "training.samples1 <- imputeIonomics$completeObs[,2] %>%\n",
    "  createDataPartition(p = 0.8, list = FALSE)\n",
    "train.data1 <- imputeIonomics$completeObs[training.samples1, ]\n",
    "test.data1 <- imputeIonomics$completeObs[-training.samples1, ]\n",
    "train.data1 <- unlist(train.data1)\n",
    "test.data1 <- unlist(test.data1)\n",
    "train.data1 <- as.data.frame(train.data1)\n",
    "test.data1 <- as.data.frame(test.data1)"
   ]
  },
  {
   "cell_type": "code",
   "execution_count": 233,
   "metadata": {},
   "outputs": [
    {
     "data": {
      "text/html": [
       "0.629032258064516"
      ],
      "text/latex": [
       "0.629032258064516"
      ],
      "text/markdown": [
       "0.629032258064516"
      ],
      "text/plain": [
       "[1] 0.6290323"
      ]
     },
     "metadata": {},
     "output_type": "display_data"
    },
    {
     "data": {
      "text/html": [
       "0.508064516129032"
      ],
      "text/latex": [
       "0.508064516129032"
      ],
      "text/markdown": [
       "0.508064516129032"
      ],
      "text/plain": [
       "[1] 0.5080645"
      ]
     },
     "metadata": {},
     "output_type": "display_data"
    }
   ],
   "source": [
    "# Fit the model\n",
    "model <- lda(spec_as_int~., data = train.data)\n",
    "# Make predictions\n",
    "predictions <- model %>% predict(test.data)\n",
    "# Model accuracy\n",
    "mean(predictions$class==test.data$spec_as_int)\n",
    "#model\n",
    "\n",
    "model1 <- lda(spec_as_int~., data = train.data1)\n",
    "# Make predictions\n",
    "predictions1 <- model1 %>% predict(test.data1)\n",
    "# Model accuracy\n",
    "mean(predictions1$class == test.data1$spec_as_int)\n",
    "#model1"
   ]
  },
  {
   "cell_type": "code",
   "execution_count": 90,
   "metadata": {},
   "outputs": [
    {
     "data": {
      "text/html": [
       "<style>\n",
       ".list-inline {list-style: none; margin:0; padding: 0}\n",
       ".list-inline>li {display: inline-block}\n",
       ".list-inline>li:not(:last-child)::after {content: \"\\00b7\"; padding: 0 .5ex}\n",
       "</style>\n",
       "<ol class=list-inline><li>1</li><li>6</li><li>6</li><li>6</li><li>3</li><li>3</li></ol>\n",
       "\n",
       "<details>\n",
       "\t<summary style=display:list-item;cursor:pointer>\n",
       "\t\t<strong>Levels</strong>:\n",
       "\t</summary>\n",
       "\t<style>\n",
       "\t.list-inline {list-style: none; margin:0; padding: 0}\n",
       "\t.list-inline>li {display: inline-block}\n",
       "\t.list-inline>li:not(:last-child)::after {content: \"\\00b7\"; padding: 0 .5ex}\n",
       "\t</style>\n",
       "\t<ol class=list-inline><li>'1'</li><li>'2'</li><li>'3'</li><li>'4'</li><li>'5'</li><li>'6'</li><li>'7'</li><li>'8'</li><li>'9'</li><li>'10'</li><li>'11'</li><li>'12'</li><li>'13'</li><li>'14'</li><li>'15'</li><li>'16'</li><li>'17'</li><li>'18'</li><li>'19'</li><li>'20'</li><li>'21'</li><li>'22'</li><li>'23'</li><li>'24'</li></ol>\n",
       "</details>"
      ],
      "text/latex": [
       "\\begin{enumerate*}\n",
       "\\item 1\n",
       "\\item 6\n",
       "\\item 6\n",
       "\\item 6\n",
       "\\item 3\n",
       "\\item 3\n",
       "\\end{enumerate*}\n",
       "\n",
       "\\emph{Levels}: \\begin{enumerate*}\n",
       "\\item '1'\n",
       "\\item '2'\n",
       "\\item '3'\n",
       "\\item '4'\n",
       "\\item '5'\n",
       "\\item '6'\n",
       "\\item '7'\n",
       "\\item '8'\n",
       "\\item '9'\n",
       "\\item '10'\n",
       "\\item '11'\n",
       "\\item '12'\n",
       "\\item '13'\n",
       "\\item '14'\n",
       "\\item '15'\n",
       "\\item '16'\n",
       "\\item '17'\n",
       "\\item '18'\n",
       "\\item '19'\n",
       "\\item '20'\n",
       "\\item '21'\n",
       "\\item '22'\n",
       "\\item '23'\n",
       "\\item '24'\n",
       "\\end{enumerate*}\n"
      ],
      "text/markdown": [
       "1. 1\n",
       "2. 6\n",
       "3. 6\n",
       "4. 6\n",
       "5. 3\n",
       "6. 3\n",
       "\n",
       "\n",
       "\n",
       "**Levels**: 1. '1'\n",
       "2. '2'\n",
       "3. '3'\n",
       "4. '4'\n",
       "5. '5'\n",
       "6. '6'\n",
       "7. '7'\n",
       "8. '8'\n",
       "9. '9'\n",
       "10. '10'\n",
       "11. '11'\n",
       "12. '12'\n",
       "13. '13'\n",
       "14. '14'\n",
       "15. '15'\n",
       "16. '16'\n",
       "17. '17'\n",
       "18. '18'\n",
       "19. '19'\n",
       "20. '20'\n",
       "21. '21'\n",
       "22. '22'\n",
       "23. '23'\n",
       "24. '24'\n",
       "\n",
       "\n"
      ],
      "text/plain": [
       "[1] 1 6 6 6 3 3\n",
       "Levels: 1 2 3 4 5 6 7 8 9 10 11 12 13 14 15 16 17 18 19 20 21 22 23 24"
      ]
     },
     "metadata": {},
     "output_type": "display_data"
    },
    {
     "data": {
      "text/html": [
       "<table>\n",
       "<caption>A matrix: 6 × 24 of type dbl</caption>\n",
       "<thead>\n",
       "\t<tr><th></th><th scope=col>1</th><th scope=col>2</th><th scope=col>3</th><th scope=col>4</th><th scope=col>5</th><th scope=col>6</th><th scope=col>7</th><th scope=col>8</th><th scope=col>9</th><th scope=col>10</th><th scope=col>...</th><th scope=col>15</th><th scope=col>16</th><th scope=col>17</th><th scope=col>18</th><th scope=col>19</th><th scope=col>20</th><th scope=col>21</th><th scope=col>22</th><th scope=col>23</th><th scope=col>24</th></tr>\n",
       "</thead>\n",
       "<tbody>\n",
       "\t<tr><th scope=row>1</th><td>6.614597e-01</td><td>5.801399e-07</td><td>3.852542e-09</td><td>2.118628e-06</td><td>1.297464e-12</td><td>0.1801926728</td><td>1.583364e-01</td><td>2.899551e-08</td><td>5.425522e-06</td><td>1.531494e-10</td><td>...</td><td>4.453775e-07</td><td>1.501502e-09</td><td>3.180918e-17</td><td>6.537837e-18</td><td>1.039128e-25</td><td>1.362617e-24</td><td>2.603666e-20</td><td>4.671049e-15</td><td>7.015303e-14</td><td>5.286361e-16</td></tr>\n",
       "\t<tr><th scope=row>2</th><td>3.905931e-02</td><td>1.064673e-01</td><td>3.707088e-04</td><td>1.593896e-01</td><td>8.105357e-08</td><td>0.3845877689</td><td>1.766937e-01</td><td>6.663725e-02</td><td>3.168168e-02</td><td>1.805296e-03</td><td>...</td><td>1.971091e-02</td><td>3.652453e-03</td><td>7.020411e-11</td><td>8.903824e-10</td><td>2.289822e-19</td><td>4.577419e-16</td><td>3.236151e-12</td><td>7.846109e-11</td><td>2.080221e-08</td><td>2.664764e-08</td></tr>\n",
       "\t<tr><th scope=row>4</th><td>3.871845e-01</td><td>3.203659e-03</td><td>3.015328e-06</td><td>9.510502e-04</td><td>1.029806e-13</td><td>0.4546613897</td><td>1.480601e-01</td><td>2.220851e-04</td><td>1.901027e-03</td><td>2.221856e-05</td><td>...</td><td>2.288946e-03</td><td>1.303084e-05</td><td>4.367616e-14</td><td>3.291772e-12</td><td>8.679938e-20</td><td>1.518806e-18</td><td>1.350047e-16</td><td>2.095681e-12</td><td>2.041565e-10</td><td>1.455299e-10</td></tr>\n",
       "\t<tr><th scope=row>5</th><td>1.625143e-03</td><td>1.881582e-01</td><td>2.041216e-04</td><td>2.235196e-01</td><td>8.627883e-09</td><td>0.3127684167</td><td>1.068556e-02</td><td>2.140431e-01</td><td>7.037698e-04</td><td>4.184055e-05</td><td>...</td><td>4.125475e-02</td><td>7.794320e-04</td><td>6.815265e-10</td><td>4.740077e-08</td><td>2.963817e-14</td><td>1.180236e-12</td><td>1.819868e-13</td><td>2.397883e-08</td><td>7.679657e-08</td><td>1.088796e-06</td></tr>\n",
       "\t<tr><th scope=row>22</th><td>2.079059e-07</td><td>2.623519e-02</td><td>8.798524e-01</td><td>8.361407e-02</td><td>4.253858e-07</td><td>0.0001123531</td><td>3.131363e-05</td><td>1.015382e-02</td><td>3.145013e-08</td><td>4.867313e-10</td><td>...</td><td>2.389217e-08</td><td>1.878987e-08</td><td>2.331418e-10</td><td>2.444050e-12</td><td>8.567523e-18</td><td>2.769098e-16</td><td>1.521252e-11</td><td>4.300126e-12</td><td>1.268776e-10</td><td>8.345624e-11</td></tr>\n",
       "\t<tr><th scope=row>25</th><td>6.979195e-08</td><td>1.676750e-01</td><td>4.399476e-01</td><td>3.627216e-01</td><td>3.952898e-09</td><td>0.0001475751</td><td>1.516285e-03</td><td>1.321077e-02</td><td>1.490595e-06</td><td>4.975061e-06</td><td>...</td><td>2.170871e-04</td><td>7.291984e-05</td><td>2.586530e-12</td><td>1.235864e-11</td><td>1.897457e-12</td><td>2.816463e-15</td><td>1.546992e-11</td><td>6.507968e-11</td><td>3.374646e-09</td><td>3.504048e-09</td></tr>\n",
       "</tbody>\n",
       "</table>\n"
      ],
      "text/latex": [
       "A matrix: 6 × 24 of type dbl\n",
       "\\begin{tabular}{r|lllllllllllllllllllll}\n",
       "  & 1 & 2 & 3 & 4 & 5 & 6 & 7 & 8 & 9 & 10 & ... & 15 & 16 & 17 & 18 & 19 & 20 & 21 & 22 & 23 & 24\\\\\n",
       "\\hline\n",
       "\t1 & 6.614597e-01 & 5.801399e-07 & 3.852542e-09 & 2.118628e-06 & 1.297464e-12 & 0.1801926728 & 1.583364e-01 & 2.899551e-08 & 5.425522e-06 & 1.531494e-10 & ... & 4.453775e-07 & 1.501502e-09 & 3.180918e-17 & 6.537837e-18 & 1.039128e-25 & 1.362617e-24 & 2.603666e-20 & 4.671049e-15 & 7.015303e-14 & 5.286361e-16\\\\\n",
       "\t2 & 3.905931e-02 & 1.064673e-01 & 3.707088e-04 & 1.593896e-01 & 8.105357e-08 & 0.3845877689 & 1.766937e-01 & 6.663725e-02 & 3.168168e-02 & 1.805296e-03 & ... & 1.971091e-02 & 3.652453e-03 & 7.020411e-11 & 8.903824e-10 & 2.289822e-19 & 4.577419e-16 & 3.236151e-12 & 7.846109e-11 & 2.080221e-08 & 2.664764e-08\\\\\n",
       "\t4 & 3.871845e-01 & 3.203659e-03 & 3.015328e-06 & 9.510502e-04 & 1.029806e-13 & 0.4546613897 & 1.480601e-01 & 2.220851e-04 & 1.901027e-03 & 2.221856e-05 & ... & 2.288946e-03 & 1.303084e-05 & 4.367616e-14 & 3.291772e-12 & 8.679938e-20 & 1.518806e-18 & 1.350047e-16 & 2.095681e-12 & 2.041565e-10 & 1.455299e-10\\\\\n",
       "\t5 & 1.625143e-03 & 1.881582e-01 & 2.041216e-04 & 2.235196e-01 & 8.627883e-09 & 0.3127684167 & 1.068556e-02 & 2.140431e-01 & 7.037698e-04 & 4.184055e-05 & ... & 4.125475e-02 & 7.794320e-04 & 6.815265e-10 & 4.740077e-08 & 2.963817e-14 & 1.180236e-12 & 1.819868e-13 & 2.397883e-08 & 7.679657e-08 & 1.088796e-06\\\\\n",
       "\t22 & 2.079059e-07 & 2.623519e-02 & 8.798524e-01 & 8.361407e-02 & 4.253858e-07 & 0.0001123531 & 3.131363e-05 & 1.015382e-02 & 3.145013e-08 & 4.867313e-10 & ... & 2.389217e-08 & 1.878987e-08 & 2.331418e-10 & 2.444050e-12 & 8.567523e-18 & 2.769098e-16 & 1.521252e-11 & 4.300126e-12 & 1.268776e-10 & 8.345624e-11\\\\\n",
       "\t25 & 6.979195e-08 & 1.676750e-01 & 4.399476e-01 & 3.627216e-01 & 3.952898e-09 & 0.0001475751 & 1.516285e-03 & 1.321077e-02 & 1.490595e-06 & 4.975061e-06 & ... & 2.170871e-04 & 7.291984e-05 & 2.586530e-12 & 1.235864e-11 & 1.897457e-12 & 2.816463e-15 & 1.546992e-11 & 6.507968e-11 & 3.374646e-09 & 3.504048e-09\\\\\n",
       "\\end{tabular}\n"
      ],
      "text/markdown": [
       "\n",
       "A matrix: 6 × 24 of type dbl\n",
       "\n",
       "| <!--/--> | 1 | 2 | 3 | 4 | 5 | 6 | 7 | 8 | 9 | 10 | ... | 15 | 16 | 17 | 18 | 19 | 20 | 21 | 22 | 23 | 24 |\n",
       "|---|---|---|---|---|---|---|---|---|---|---|---|---|---|---|---|---|---|---|---|---|---|\n",
       "| 1 | 6.614597e-01 | 5.801399e-07 | 3.852542e-09 | 2.118628e-06 | 1.297464e-12 | 0.1801926728 | 1.583364e-01 | 2.899551e-08 | 5.425522e-06 | 1.531494e-10 | ... | 4.453775e-07 | 1.501502e-09 | 3.180918e-17 | 6.537837e-18 | 1.039128e-25 | 1.362617e-24 | 2.603666e-20 | 4.671049e-15 | 7.015303e-14 | 5.286361e-16 |\n",
       "| 2 | 3.905931e-02 | 1.064673e-01 | 3.707088e-04 | 1.593896e-01 | 8.105357e-08 | 0.3845877689 | 1.766937e-01 | 6.663725e-02 | 3.168168e-02 | 1.805296e-03 | ... | 1.971091e-02 | 3.652453e-03 | 7.020411e-11 | 8.903824e-10 | 2.289822e-19 | 4.577419e-16 | 3.236151e-12 | 7.846109e-11 | 2.080221e-08 | 2.664764e-08 |\n",
       "| 4 | 3.871845e-01 | 3.203659e-03 | 3.015328e-06 | 9.510502e-04 | 1.029806e-13 | 0.4546613897 | 1.480601e-01 | 2.220851e-04 | 1.901027e-03 | 2.221856e-05 | ... | 2.288946e-03 | 1.303084e-05 | 4.367616e-14 | 3.291772e-12 | 8.679938e-20 | 1.518806e-18 | 1.350047e-16 | 2.095681e-12 | 2.041565e-10 | 1.455299e-10 |\n",
       "| 5 | 1.625143e-03 | 1.881582e-01 | 2.041216e-04 | 2.235196e-01 | 8.627883e-09 | 0.3127684167 | 1.068556e-02 | 2.140431e-01 | 7.037698e-04 | 4.184055e-05 | ... | 4.125475e-02 | 7.794320e-04 | 6.815265e-10 | 4.740077e-08 | 2.963817e-14 | 1.180236e-12 | 1.819868e-13 | 2.397883e-08 | 7.679657e-08 | 1.088796e-06 |\n",
       "| 22 | 2.079059e-07 | 2.623519e-02 | 8.798524e-01 | 8.361407e-02 | 4.253858e-07 | 0.0001123531 | 3.131363e-05 | 1.015382e-02 | 3.145013e-08 | 4.867313e-10 | ... | 2.389217e-08 | 1.878987e-08 | 2.331418e-10 | 2.444050e-12 | 8.567523e-18 | 2.769098e-16 | 1.521252e-11 | 4.300126e-12 | 1.268776e-10 | 8.345624e-11 |\n",
       "| 25 | 6.979195e-08 | 1.676750e-01 | 4.399476e-01 | 3.627216e-01 | 3.952898e-09 | 0.0001475751 | 1.516285e-03 | 1.321077e-02 | 1.490595e-06 | 4.975061e-06 | ... | 2.170871e-04 | 7.291984e-05 | 2.586530e-12 | 1.235864e-11 | 1.897457e-12 | 2.816463e-15 | 1.546992e-11 | 6.507968e-11 | 3.374646e-09 | 3.504048e-09 |\n",
       "\n"
      ],
      "text/plain": [
       "   1            2            3            4            5           \n",
       "1  6.614597e-01 5.801399e-07 3.852542e-09 2.118628e-06 1.297464e-12\n",
       "2  3.905931e-02 1.064673e-01 3.707088e-04 1.593896e-01 8.105357e-08\n",
       "4  3.871845e-01 3.203659e-03 3.015328e-06 9.510502e-04 1.029806e-13\n",
       "5  1.625143e-03 1.881582e-01 2.041216e-04 2.235196e-01 8.627883e-09\n",
       "22 2.079059e-07 2.623519e-02 8.798524e-01 8.361407e-02 4.253858e-07\n",
       "25 6.979195e-08 1.676750e-01 4.399476e-01 3.627216e-01 3.952898e-09\n",
       "   6            7            8            9            10           ...\n",
       "1  0.1801926728 1.583364e-01 2.899551e-08 5.425522e-06 1.531494e-10 ...\n",
       "2  0.3845877689 1.766937e-01 6.663725e-02 3.168168e-02 1.805296e-03 ...\n",
       "4  0.4546613897 1.480601e-01 2.220851e-04 1.901027e-03 2.221856e-05 ...\n",
       "5  0.3127684167 1.068556e-02 2.140431e-01 7.037698e-04 4.184055e-05 ...\n",
       "22 0.0001123531 3.131363e-05 1.015382e-02 3.145013e-08 4.867313e-10 ...\n",
       "25 0.0001475751 1.516285e-03 1.321077e-02 1.490595e-06 4.975061e-06 ...\n",
       "   15           16           17           18           19          \n",
       "1  4.453775e-07 1.501502e-09 3.180918e-17 6.537837e-18 1.039128e-25\n",
       "2  1.971091e-02 3.652453e-03 7.020411e-11 8.903824e-10 2.289822e-19\n",
       "4  2.288946e-03 1.303084e-05 4.367616e-14 3.291772e-12 8.679938e-20\n",
       "5  4.125475e-02 7.794320e-04 6.815265e-10 4.740077e-08 2.963817e-14\n",
       "22 2.389217e-08 1.878987e-08 2.331418e-10 2.444050e-12 8.567523e-18\n",
       "25 2.170871e-04 7.291984e-05 2.586530e-12 1.235864e-11 1.897457e-12\n",
       "   20           21           22           23           24          \n",
       "1  1.362617e-24 2.603666e-20 4.671049e-15 7.015303e-14 5.286361e-16\n",
       "2  4.577419e-16 3.236151e-12 7.846109e-11 2.080221e-08 2.664764e-08\n",
       "4  1.518806e-18 1.350047e-16 2.095681e-12 2.041565e-10 1.455299e-10\n",
       "5  1.180236e-12 1.819868e-13 2.397883e-08 7.679657e-08 1.088796e-06\n",
       "22 2.769098e-16 1.521252e-11 4.300126e-12 1.268776e-10 8.345624e-11\n",
       "25 2.816463e-15 1.546992e-11 6.507968e-11 3.374646e-09 3.504048e-09"
      ]
     },
     "metadata": {},
     "output_type": "display_data"
    },
    {
     "data": {
      "text/html": [
       "<table>\n",
       "<caption>A matrix: 3 × 19 of type dbl</caption>\n",
       "<thead>\n",
       "\t<tr><th></th><th scope=col>LD1</th><th scope=col>LD2</th><th scope=col>LD3</th><th scope=col>LD4</th><th scope=col>LD5</th><th scope=col>LD6</th><th scope=col>LD7</th><th scope=col>LD8</th><th scope=col>LD9</th><th scope=col>LD10</th><th scope=col>LD11</th><th scope=col>LD12</th><th scope=col>LD13</th><th scope=col>LD14</th><th scope=col>LD15</th><th scope=col>LD16</th><th scope=col>LD17</th><th scope=col>LD18</th><th scope=col>LD19</th></tr>\n",
       "</thead>\n",
       "<tbody>\n",
       "\t<tr><th scope=row>1</th><td>-4.745348</td><td>1.3913653</td><td> 1.0987070</td><td>2.0128129</td><td> 0.83022331</td><td> 2.9211019</td><td>-1.234070</td><td> 0.4146289</td><td>1.6865190</td><td> 0.95196188</td><td>-1.0382461</td><td>-1.4030587</td><td>1.370534</td><td>-0.8454875</td><td>-2.1036005</td><td> 0.1588884</td><td> 1.1114109</td><td>1.430900</td><td>-0.1118352</td></tr>\n",
       "\t<tr><th scope=row>2</th><td>-3.341123</td><td>0.3905007</td><td>-0.9326754</td><td>0.4359576</td><td>-0.04149446</td><td>-0.3126965</td><td>-2.039649</td><td>-0.6376718</td><td>0.9997919</td><td>-0.02968626</td><td> 0.2340459</td><td>-0.7529169</td><td>1.089833</td><td>-0.3655601</td><td>-0.2698029</td><td>-0.1502862</td><td>-0.1574731</td><td>2.093894</td><td>-1.3982138</td></tr>\n",
       "\t<tr><th scope=row>4</th><td>-3.707217</td><td>0.4528865</td><td> 0.1883600</td><td>0.1090248</td><td> 1.28614956</td><td> 1.9330317</td><td>-1.058791</td><td>-1.5646021</td><td>1.2759444</td><td>-0.22550831</td><td> 0.2058524</td><td>-0.3646431</td><td>1.252327</td><td>-1.1456762</td><td>-1.8633902</td><td> 0.2359874</td><td>-0.1598891</td><td>1.190433</td><td> 0.1972949</td></tr>\n",
       "</tbody>\n",
       "</table>\n"
      ],
      "text/latex": [
       "A matrix: 3 × 19 of type dbl\n",
       "\\begin{tabular}{r|lllllllllllllllllll}\n",
       "  & LD1 & LD2 & LD3 & LD4 & LD5 & LD6 & LD7 & LD8 & LD9 & LD10 & LD11 & LD12 & LD13 & LD14 & LD15 & LD16 & LD17 & LD18 & LD19\\\\\n",
       "\\hline\n",
       "\t1 & -4.745348 & 1.3913653 &  1.0987070 & 2.0128129 &  0.83022331 &  2.9211019 & -1.234070 &  0.4146289 & 1.6865190 &  0.95196188 & -1.0382461 & -1.4030587 & 1.370534 & -0.8454875 & -2.1036005 &  0.1588884 &  1.1114109 & 1.430900 & -0.1118352\\\\\n",
       "\t2 & -3.341123 & 0.3905007 & -0.9326754 & 0.4359576 & -0.04149446 & -0.3126965 & -2.039649 & -0.6376718 & 0.9997919 & -0.02968626 &  0.2340459 & -0.7529169 & 1.089833 & -0.3655601 & -0.2698029 & -0.1502862 & -0.1574731 & 2.093894 & -1.3982138\\\\\n",
       "\t4 & -3.707217 & 0.4528865 &  0.1883600 & 0.1090248 &  1.28614956 &  1.9330317 & -1.058791 & -1.5646021 & 1.2759444 & -0.22550831 &  0.2058524 & -0.3646431 & 1.252327 & -1.1456762 & -1.8633902 &  0.2359874 & -0.1598891 & 1.190433 &  0.1972949\\\\\n",
       "\\end{tabular}\n"
      ],
      "text/markdown": [
       "\n",
       "A matrix: 3 × 19 of type dbl\n",
       "\n",
       "| <!--/--> | LD1 | LD2 | LD3 | LD4 | LD5 | LD6 | LD7 | LD8 | LD9 | LD10 | LD11 | LD12 | LD13 | LD14 | LD15 | LD16 | LD17 | LD18 | LD19 |\n",
       "|---|---|---|---|---|---|---|---|---|---|---|---|---|---|---|---|---|---|---|---|\n",
       "| 1 | -4.745348 | 1.3913653 |  1.0987070 | 2.0128129 |  0.83022331 |  2.9211019 | -1.234070 |  0.4146289 | 1.6865190 |  0.95196188 | -1.0382461 | -1.4030587 | 1.370534 | -0.8454875 | -2.1036005 |  0.1588884 |  1.1114109 | 1.430900 | -0.1118352 |\n",
       "| 2 | -3.341123 | 0.3905007 | -0.9326754 | 0.4359576 | -0.04149446 | -0.3126965 | -2.039649 | -0.6376718 | 0.9997919 | -0.02968626 |  0.2340459 | -0.7529169 | 1.089833 | -0.3655601 | -0.2698029 | -0.1502862 | -0.1574731 | 2.093894 | -1.3982138 |\n",
       "| 4 | -3.707217 | 0.4528865 |  0.1883600 | 0.1090248 |  1.28614956 |  1.9330317 | -1.058791 | -1.5646021 | 1.2759444 | -0.22550831 |  0.2058524 | -0.3646431 | 1.252327 | -1.1456762 | -1.8633902 |  0.2359874 | -0.1598891 | 1.190433 |  0.1972949 |\n",
       "\n"
      ],
      "text/plain": [
       "  LD1       LD2       LD3        LD4       LD5         LD6        LD7      \n",
       "1 -4.745348 1.3913653  1.0987070 2.0128129  0.83022331  2.9211019 -1.234070\n",
       "2 -3.341123 0.3905007 -0.9326754 0.4359576 -0.04149446 -0.3126965 -2.039649\n",
       "4 -3.707217 0.4528865  0.1883600 0.1090248  1.28614956  1.9330317 -1.058791\n",
       "  LD8        LD9       LD10        LD11       LD12       LD13     LD14      \n",
       "1  0.4146289 1.6865190  0.95196188 -1.0382461 -1.4030587 1.370534 -0.8454875\n",
       "2 -0.6376718 0.9997919 -0.02968626  0.2340459 -0.7529169 1.089833 -0.3655601\n",
       "4 -1.5646021 1.2759444 -0.22550831  0.2058524 -0.3646431 1.252327 -1.1456762\n",
       "  LD15       LD16       LD17       LD18     LD19      \n",
       "1 -2.1036005  0.1588884  1.1114109 1.430900 -0.1118352\n",
       "2 -0.2698029 -0.1502862 -0.1574731 2.093894 -1.3982138\n",
       "4 -1.8633902  0.2359874 -0.1598891 1.190433  0.1972949"
      ]
     },
     "metadata": {},
     "output_type": "display_data"
    }
   ],
   "source": [
    "# Predicted classes\n",
    "head(predictions$class, 6)\n",
    "# Predicted probabilities of class memebership.\n",
    "head(predictions$posterior, 6) \n",
    "# Linear discriminants\n",
    "head(predictions$x, 3) "
   ]
  },
  {
   "cell_type": "markdown",
   "metadata": {},
   "source": [
    "|species|spec_as_int|\n",
    "|---|---|\n",
    "|acerifolia_x|1|\n",
    "|aestivalis_x|2|\n",
    "|cinerea_x|3|\n",
    "|labrusca_x|4|\n",
    "|palmata_x|5|\n",
    "|riparia_x|6|\n",
    "|rupestris_x|7|\n",
    "|vulpina_x|8|\n",
    "|acerifolia_y|9|\n",
    "|aestivalis_y|10|\n",
    "|cinerea_y|11|\n",
    "|labrusca_y|12|\n",
    "|palmata_y|13|\n",
    "|riparia_y|14|\n",
    "|rupestris_y|15|\n",
    "|vulpina_y|16|\n",
    "acerifolia_z|17|\n",
    "|aestivalis_z|18|\n",
    "|cinerea_z|19|\n",
    "|labrusca_z|20|\n",
    "|palmata_z|21|\n",
    "|riparia_z|22|\n",
    "|rupestris_z|23|\n",
    "|vulpina_z|24|"
   ]
  },
  {
   "cell_type": "code",
   "execution_count": 123,
   "metadata": {},
   "outputs": [
    {
     "ename": "ERROR",
     "evalue": "Error in !all.equal(nrow(data), ncol(data)): invalid argument type\n",
     "output_type": "error",
     "traceback": [
      "Error in !all.equal(nrow(data), ncol(data)): invalid argument type\nTraceback:\n",
      "1. print(confusionMatrix(table))",
      "2. confusionMatrix(table)",
      "3. confusionMatrix.table(table)"
     ]
    }
   ],
   "source": [
    "table <- table(Predicted=predictions$class, Species=test.data$spec_as_int)\n",
    "print(confusionMatrix(table))"
   ]
  }
 ],
 "metadata": {
  "kernelspec": {
   "display_name": "R",
   "language": "R",
   "name": "ir"
  },
  "language_info": {
   "codemirror_mode": "r",
   "file_extension": ".r",
   "mimetype": "text/x-r-source",
   "name": "R",
   "pygments_lexer": "r",
   "version": "3.6.3"
  }
 },
 "nbformat": 4,
 "nbformat_minor": 4
}
