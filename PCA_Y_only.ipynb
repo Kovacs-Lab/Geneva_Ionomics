{
 "cells": [
  {
   "cell_type": "code",
   "execution_count": 1,
   "metadata": {},
   "outputs": [
    {
     "name": "stderr",
     "output_type": "stream",
     "text": [
      "Installing package into 'C:/Users/Courtney/Documents/R/win-library/3.6'\n",
      "(as 'lib' is unspecified)\n",
      "\n"
     ]
    },
    {
     "name": "stdout",
     "output_type": "stream",
     "text": [
      "package 'viridis' successfully unpacked and MD5 sums checked\n",
      "\n",
      "The downloaded binary packages are in\n",
      "\tC:\\Users\\Courtney\\AppData\\Local\\Temp\\RtmpCYoa5M\\downloaded_packages\n"
     ]
    },
    {
     "name": "stderr",
     "output_type": "stream",
     "text": [
      "Loading required package: viridisLite\n",
      "\n",
      "Installing package into 'C:/Users/Courtney/Documents/R/win-library/3.6'\n",
      "(as 'lib' is unspecified)\n",
      "\n"
     ]
    },
    {
     "name": "stdout",
     "output_type": "stream",
     "text": [
      "package 'missMDA' successfully unpacked and MD5 sums checked\n",
      "\n",
      "The downloaded binary packages are in\n",
      "\tC:\\Users\\Courtney\\AppData\\Local\\Temp\\RtmpCYoa5M\\downloaded_packages\n"
     ]
    },
    {
     "name": "stderr",
     "output_type": "stream",
     "text": [
      "Installing package into 'C:/Users/Courtney/Documents/R/win-library/3.6'\n",
      "(as 'lib' is unspecified)\n",
      "\n"
     ]
    },
    {
     "name": "stdout",
     "output_type": "stream",
     "text": [
      "package 'factoextra' successfully unpacked and MD5 sums checked\n",
      "\n",
      "The downloaded binary packages are in\n",
      "\tC:\\Users\\Courtney\\AppData\\Local\\Temp\\RtmpCYoa5M\\downloaded_packages\n"
     ]
    },
    {
     "name": "stderr",
     "output_type": "stream",
     "text": [
      "Loading required package: ggplot2\n",
      "\n",
      "Welcome! Want to learn more? See two factoextra-related books at https://goo.gl/ve3WBa\n",
      "\n",
      "Installing package into 'C:/Users/Courtney/Documents/R/win-library/3.6'\n",
      "(as 'lib' is unspecified)\n",
      "\n"
     ]
    },
    {
     "name": "stdout",
     "output_type": "stream",
     "text": [
      "package 'MASS' successfully unpacked and MD5 sums checked\n"
     ]
    },
    {
     "name": "stderr",
     "output_type": "stream",
     "text": [
      "Warning message:\n",
      "\"cannot remove prior installation of package 'MASS'\"\n",
      "Warning message in file.copy(savedcopy, lib, recursive = TRUE):\n",
      "\"problem copying C:\\Users\\Courtney\\Documents\\R\\win-library\\3.6\\00LOCK\\MASS\\libs\\x64\\MASS.dll to C:\\Users\\Courtney\\Documents\\R\\win-library\\3.6\\MASS\\libs\\x64\\MASS.dll: Permission denied\"\n",
      "Warning message:\n",
      "\"restored 'MASS'\"\n"
     ]
    },
    {
     "name": "stdout",
     "output_type": "stream",
     "text": [
      "\n",
      "The downloaded binary packages are in\n",
      "\tC:\\Users\\Courtney\\AppData\\Local\\Temp\\RtmpCYoa5M\\downloaded_packages\n"
     ]
    },
    {
     "name": "stderr",
     "output_type": "stream",
     "text": [
      "Installing package into 'C:/Users/Courtney/Documents/R/win-library/3.6'\n",
      "(as 'lib' is unspecified)\n",
      "\n",
      "Warning message:\n",
      "\"package 'ggplot2' is in use and will not be installed\"\n",
      "Installing package into 'C:/Users/Courtney/Documents/R/win-library/3.6'\n",
      "(as 'lib' is unspecified)\n",
      "\n"
     ]
    },
    {
     "name": "stdout",
     "output_type": "stream",
     "text": [
      "package 'ggfortify' successfully unpacked and MD5 sums checked\n",
      "\n",
      "The downloaded binary packages are in\n",
      "\tC:\\Users\\Courtney\\AppData\\Local\\Temp\\RtmpCYoa5M\\downloaded_packages\n"
     ]
    }
   ],
   "source": [
    "install.packages(\"viridis\")\n",
    "library(\"viridis\")\n",
    "install.packages(\"missMDA\")\n",
    "library(\"missMDA\")\n",
    "install.packages(\"factoextra\")\n",
    "library(\"factoextra\")\n",
    "install.packages(\"MASS\")\n",
    "library(\"MASS\")\n",
    "install.packages(\"ggplot2\")\n",
    "library(\"ggplot2\")\n",
    "install.packages(\"ggfortify\")\n",
    "library(\"ggfortify\")"
   ]
  },
  {
   "cell_type": "code",
   "execution_count": 6,
   "metadata": {},
   "outputs": [],
   "source": [
    "Species <- read.csv(\"geneva_Y_transformed_forPCA.csv\",header = TRUE,colClasses =c(NA,\"NULL\",NA,\"NULL\",\"NULL\",\"NULL\",\n",
    "                                                                                        \"NULL\",\"NULL\",\"NULL\",\"NULL\",\"NULL\",\"NULL\",\n",
    "                                                                                        \"NULL\",\"NULL\",\"NULL\",\"NULL\",\"NULL\",\"NULL\",\n",
    "                                                                                        \"NULL\",\"NULL\",\"NULL\",\"NULL\") )\n",
    "\n",
    "ionomics <- read.csv(\"geneva_Y_transformed_forPCA.csv\",header = TRUE,colClasses =c(\"NULL\",\"NULL\",\"NULL\",NA,NA,NA,NA,NA,NA,NA,NA,NA,NA,NA,NA,NA,\n",
    "                                                                    NA,NA,NA,NA,NA,NA) )\n",
    "ionomics <- imputePCA(ionomics)"
   ]
  },
  {
   "cell_type": "code",
   "execution_count": 7,
   "metadata": {},
   "outputs": [],
   "source": [
    "Species <- cbind(Species, ionomics)"
   ]
  },
  {
   "cell_type": "code",
   "execution_count": 8,
   "metadata": {},
   "outputs": [],
   "source": [
    "ionsPCA <- prcomp(ionomics,scale = FALSE)\n",
    "ionsPCAvar <- princomp(ionomics, cor = FALSE,score = TRUE)"
   ]
  },
  {
   "cell_type": "code",
   "execution_count": 9,
   "metadata": {},
   "outputs": [
    {
     "data": {
      "text/html": [
       "<table>\n",
       "<caption>A data.frame: 19 × 3</caption>\n",
       "<thead>\n",
       "\t<tr><th></th><th scope=col>eigenvalue</th><th scope=col>variance.percent</th><th scope=col>cumulative.variance.percent</th></tr>\n",
       "\t<tr><th></th><th scope=col>&lt;dbl&gt;</th><th scope=col>&lt;dbl&gt;</th><th scope=col>&lt;dbl&gt;</th></tr>\n",
       "</thead>\n",
       "<tbody>\n",
       "\t<tr><th scope=row>Dim.1</th><td>2.99925539</td><td>34.3114696</td><td> 34.31147</td></tr>\n",
       "\t<tr><th scope=row>Dim.2</th><td>1.60232759</td><td>18.3306212</td><td> 52.64209</td></tr>\n",
       "\t<tr><th scope=row>Dim.3</th><td>0.81778891</td><td> 9.3555019</td><td> 61.99759</td></tr>\n",
       "\t<tr><th scope=row>Dim.4</th><td>0.58176701</td><td> 6.6554122</td><td> 68.65300</td></tr>\n",
       "\t<tr><th scope=row>Dim.5</th><td>0.49751653</td><td> 5.6915871</td><td> 74.34459</td></tr>\n",
       "\t<tr><th scope=row>Dim.6</th><td>0.40886872</td><td> 4.6774565</td><td> 79.02205</td></tr>\n",
       "\t<tr><th scope=row>Dim.7</th><td>0.31154167</td><td> 3.5640354</td><td> 82.58608</td></tr>\n",
       "\t<tr><th scope=row>Dim.8</th><td>0.25418708</td><td> 2.9078991</td><td> 85.49398</td></tr>\n",
       "\t<tr><th scope=row>Dim.9</th><td>0.23900198</td><td> 2.7341817</td><td> 88.22816</td></tr>\n",
       "\t<tr><th scope=row>Dim.10</th><td>0.21326758</td><td> 2.4397803</td><td> 90.66795</td></tr>\n",
       "\t<tr><th scope=row>Dim.11</th><td>0.17273979</td><td> 1.9761425</td><td> 92.64409</td></tr>\n",
       "\t<tr><th scope=row>Dim.12</th><td>0.15708778</td><td> 1.7970835</td><td> 94.44117</td></tr>\n",
       "\t<tr><th scope=row>Dim.13</th><td>0.12158793</td><td> 1.3909654</td><td> 95.83214</td></tr>\n",
       "\t<tr><th scope=row>Dim.14</th><td>0.09999679</td><td> 1.1439628</td><td> 96.97610</td></tr>\n",
       "\t<tr><th scope=row>Dim.15</th><td>0.08370515</td><td> 0.9575866</td><td> 97.93369</td></tr>\n",
       "\t<tr><th scope=row>Dim.16</th><td>0.07580008</td><td> 0.8671526</td><td> 98.80084</td></tr>\n",
       "\t<tr><th scope=row>Dim.17</th><td>0.06680618</td><td> 0.7642624</td><td> 99.56510</td></tr>\n",
       "\t<tr><th scope=row>Dim.18</th><td>0.02077613</td><td> 0.2376788</td><td> 99.80278</td></tr>\n",
       "\t<tr><th scope=row>Dim.19</th><td>0.01723954</td><td> 0.1972202</td><td>100.00000</td></tr>\n",
       "</tbody>\n",
       "</table>\n"
      ],
      "text/latex": [
       "A data.frame: 19 × 3\n",
       "\\begin{tabular}{r|lll}\n",
       "  & eigenvalue & variance.percent & cumulative.variance.percent\\\\\n",
       "  & <dbl> & <dbl> & <dbl>\\\\\n",
       "\\hline\n",
       "\tDim.1 & 2.99925539 & 34.3114696 &  34.31147\\\\\n",
       "\tDim.2 & 1.60232759 & 18.3306212 &  52.64209\\\\\n",
       "\tDim.3 & 0.81778891 &  9.3555019 &  61.99759\\\\\n",
       "\tDim.4 & 0.58176701 &  6.6554122 &  68.65300\\\\\n",
       "\tDim.5 & 0.49751653 &  5.6915871 &  74.34459\\\\\n",
       "\tDim.6 & 0.40886872 &  4.6774565 &  79.02205\\\\\n",
       "\tDim.7 & 0.31154167 &  3.5640354 &  82.58608\\\\\n",
       "\tDim.8 & 0.25418708 &  2.9078991 &  85.49398\\\\\n",
       "\tDim.9 & 0.23900198 &  2.7341817 &  88.22816\\\\\n",
       "\tDim.10 & 0.21326758 &  2.4397803 &  90.66795\\\\\n",
       "\tDim.11 & 0.17273979 &  1.9761425 &  92.64409\\\\\n",
       "\tDim.12 & 0.15708778 &  1.7970835 &  94.44117\\\\\n",
       "\tDim.13 & 0.12158793 &  1.3909654 &  95.83214\\\\\n",
       "\tDim.14 & 0.09999679 &  1.1439628 &  96.97610\\\\\n",
       "\tDim.15 & 0.08370515 &  0.9575866 &  97.93369\\\\\n",
       "\tDim.16 & 0.07580008 &  0.8671526 &  98.80084\\\\\n",
       "\tDim.17 & 0.06680618 &  0.7642624 &  99.56510\\\\\n",
       "\tDim.18 & 0.02077613 &  0.2376788 &  99.80278\\\\\n",
       "\tDim.19 & 0.01723954 &  0.1972202 & 100.00000\\\\\n",
       "\\end{tabular}\n"
      ],
      "text/markdown": [
       "\n",
       "A data.frame: 19 × 3\n",
       "\n",
       "| <!--/--> | eigenvalue &lt;dbl&gt; | variance.percent &lt;dbl&gt; | cumulative.variance.percent &lt;dbl&gt; |\n",
       "|---|---|---|---|\n",
       "| Dim.1 | 2.99925539 | 34.3114696 |  34.31147 |\n",
       "| Dim.2 | 1.60232759 | 18.3306212 |  52.64209 |\n",
       "| Dim.3 | 0.81778891 |  9.3555019 |  61.99759 |\n",
       "| Dim.4 | 0.58176701 |  6.6554122 |  68.65300 |\n",
       "| Dim.5 | 0.49751653 |  5.6915871 |  74.34459 |\n",
       "| Dim.6 | 0.40886872 |  4.6774565 |  79.02205 |\n",
       "| Dim.7 | 0.31154167 |  3.5640354 |  82.58608 |\n",
       "| Dim.8 | 0.25418708 |  2.9078991 |  85.49398 |\n",
       "| Dim.9 | 0.23900198 |  2.7341817 |  88.22816 |\n",
       "| Dim.10 | 0.21326758 |  2.4397803 |  90.66795 |\n",
       "| Dim.11 | 0.17273979 |  1.9761425 |  92.64409 |\n",
       "| Dim.12 | 0.15708778 |  1.7970835 |  94.44117 |\n",
       "| Dim.13 | 0.12158793 |  1.3909654 |  95.83214 |\n",
       "| Dim.14 | 0.09999679 |  1.1439628 |  96.97610 |\n",
       "| Dim.15 | 0.08370515 |  0.9575866 |  97.93369 |\n",
       "| Dim.16 | 0.07580008 |  0.8671526 |  98.80084 |\n",
       "| Dim.17 | 0.06680618 |  0.7642624 |  99.56510 |\n",
       "| Dim.18 | 0.02077613 |  0.2376788 |  99.80278 |\n",
       "| Dim.19 | 0.01723954 |  0.1972202 | 100.00000 |\n",
       "\n"
      ],
      "text/plain": [
       "       eigenvalue variance.percent cumulative.variance.percent\n",
       "Dim.1  2.99925539 34.3114696        34.31147                  \n",
       "Dim.2  1.60232759 18.3306212        52.64209                  \n",
       "Dim.3  0.81778891  9.3555019        61.99759                  \n",
       "Dim.4  0.58176701  6.6554122        68.65300                  \n",
       "Dim.5  0.49751653  5.6915871        74.34459                  \n",
       "Dim.6  0.40886872  4.6774565        79.02205                  \n",
       "Dim.7  0.31154167  3.5640354        82.58608                  \n",
       "Dim.8  0.25418708  2.9078991        85.49398                  \n",
       "Dim.9  0.23900198  2.7341817        88.22816                  \n",
       "Dim.10 0.21326758  2.4397803        90.66795                  \n",
       "Dim.11 0.17273979  1.9761425        92.64409                  \n",
       "Dim.12 0.15708778  1.7970835        94.44117                  \n",
       "Dim.13 0.12158793  1.3909654        95.83214                  \n",
       "Dim.14 0.09999679  1.1439628        96.97610                  \n",
       "Dim.15 0.08370515  0.9575866        97.93369                  \n",
       "Dim.16 0.07580008  0.8671526        98.80084                  \n",
       "Dim.17 0.06680618  0.7642624        99.56510                  \n",
       "Dim.18 0.02077613  0.2376788        99.80278                  \n",
       "Dim.19 0.01723954  0.1972202       100.00000                  "
      ]
     },
     "metadata": {},
     "output_type": "display_data"
    }
   ],
   "source": [
    "eig.val <- get_eigenvalue(ionsPCA)\n",
    "eig.val"
   ]
  },
  {
   "cell_type": "code",
   "execution_count": 10,
   "metadata": {},
   "outputs": [
    {
     "data": {
      "image/png": "[encoded data removed]",
      "text/plain": [
       "Plot with title \"ionsPCA\""
      ]
     },
     "metadata": {
      "image/png": {
       "height": 420,
       "width": 420
      },
      "text/plain": {
       "height": 420,
       "width": 420
      }
     },
     "output_type": "display_data"
    }
   ],
   "source": [
    "plot(ionsPCA)"
   ]
  },
  {
   "cell_type": "code",
   "execution_count": 11,
   "metadata": {},
   "outputs": [
    {
     "data": {
      "text/plain": [
       "Importance of components:\n",
       "                          Comp.1    Comp.2     Comp.3     Comp.4     Comp.5\n",
       "Standard deviation     1.7277271 1.2628276 0.90217134 0.76092695 0.70367509\n",
       "Proportion of Variance 0.3431147 0.1833062 0.09355502 0.06655412 0.05691587\n",
       "Cumulative Proportion  0.3431147 0.5264209 0.61997593 0.68653005 0.74344592\n",
       "                           Comp.6     Comp.7     Comp.8     Comp.9   Comp.10\n",
       "Standard deviation     0.63791140 0.55683495 0.50297356 0.48771843 0.4607134\n",
       "Proportion of Variance 0.04677456 0.03564035 0.02907899 0.02734182 0.0243978\n",
       "Cumulative Proportion  0.79022049 0.82586084 0.85493983 0.88228165 0.9066795\n",
       "                          Comp.11    Comp.12    Comp.13    Comp.14     Comp.15\n",
       "Standard deviation     0.41463372 0.39540269 0.34786733 0.31547245 0.288632019\n",
       "Proportion of Variance 0.01976143 0.01797084 0.01390965 0.01143963 0.009575866\n",
       "Cumulative Proportion  0.92644088 0.94441171 0.95832137 0.96976099 0.979336860\n",
       "                           Comp.16     Comp.17     Comp.18     Comp.19\n",
       "Standard deviation     0.274664957 0.257855694 0.143797290 0.130987916\n",
       "Proportion of Variance 0.008671526 0.007642624 0.002376788 0.001972202\n",
       "Cumulative Proportion  0.988008386 0.995651010 0.998027798 1.000000000"
      ]
     },
     "metadata": {},
     "output_type": "display_data"
    }
   ],
   "source": [
    "summary(ionsPCAvar)"
   ]
  },
  {
   "cell_type": "code",
   "execution_count": 12,
   "metadata": {},
   "outputs": [
    {
     "data": {
      "image/png": "[encoded data removed]",
      "text/plain": [
       "plot without title"
      ]
     },
     "metadata": {
      "image/png": {
       "height": 420,
       "width": 420
      },
      "text/plain": {
       "height": 420,
       "width": 420
      }
     },
     "output_type": "display_data"
    }
   ],
   "source": [
    "biplot(ionsPCA)"
   ]
  },
  {
   "cell_type": "markdown",
   "metadata": {},
   "source": [
    "* Positively correlated variables are grouped together\n",
    "* Negatively correlated variables are positioned on opposite sides of the plot origin (opposed quadrants).\n",
    "* The distance between variables and the origin measures the quality of the variables on the factor map. Variables that are away from the origin are well represented on the factor map.\n",
    "\n",
    "From [here](http://www.sthda.com/english/articles/31-principal-component-methods-in-r-practical-guide/112-pca-principal-component-analysis-essentials/)"
   ]
  },
  {
   "cell_type": "code",
   "execution_count": 13,
   "metadata": {},
   "outputs": [],
   "source": [
    "for (val in 1:nrow(Species)){\n",
    "    if(Species[,2][val]==1){\n",
    "        Species[,2][val]<-\"V. acerifolia\"\n",
    "    }\n",
    "    else if(Species[,2][val]==2){\n",
    "        Species[,2][val]<-\"V. aestivalis\"\n",
    "    }\n",
    "    else if(Species[,2][val]==3){\n",
    "        Species[,2][val]<-\"V. cinerea\"\n",
    "    }\n",
    "    else if(Species[,2][val]==4){\n",
    "        Species[,2][val]<-\"V. labrusca\"\n",
    "    }\n",
    "    else if(Species[,2][val]==5){\n",
    "        Species[,2][val]<-\"V. palmata\"\n",
    "    }\n",
    "    else if(Species[,2][val]==6){\n",
    "        Species[,2][val]<-\"V. riparia\"\n",
    "    }\n",
    "    else if(Species[,2][val]==7){\n",
    "        Species[,2][val]<-\"V. rupestris\"\n",
    "    }    \n",
    "    else if(Species[,2][val]==8){\n",
    "        Species[,2][val]<-\"V. vulpina\"\n",
    "    }\n",
    "    else if(Species[,2][val]==0){\n",
    "        Species[,2][val]<-\"Hybrids and Unkowns\"\n",
    "    }\n",
    "}"
   ]
  },
  {
   "cell_type": "code",
   "execution_count": 14,
   "metadata": {},
   "outputs": [
    {
     "name": "stderr",
     "output_type": "stream",
     "text": [
      "Saving 6.67 x 6.67 in image\n",
      "\n"
     ]
    },
    {
     "data": {
      "image/png": "[encoded data removed]",
      "text/plain": [
       "plot without title"
      ]
     },
     "metadata": {
      "image/png": {
       "height": 420,
       "width": 420
      },
      "text/plain": {
       "height": 420,
       "width": 420
      }
     },
     "output_type": "display_data"
    }
   ],
   "source": [
    "p <- autoplot(ionsPCA, data = Species, colour = 'spec_as_int', frame = TRUE, frame.type = 'norm') + scale_color_viridis_d(\"Species\")\n",
    "p <- p + labs(title = \"Principal Component Analysis\", caption = expression(paste(bold(\"Figure 1: \"),\"Lorem ipsum dolor est\")))\n",
    "p <- p + theme(plot.title = element_text(hjust = .55), legend.text = element_text(face = \"italic\"), plot.caption = element_text(hjust = 0))\n",
    "p <- p + scale_fill_discrete(name = \"Species \")\n",
    "p\n",
    "ggsave(filename = \"PCA_Y_only.jpg\", dpi = \"retina\")"
   ]
  },
  {
   "cell_type": "code",
   "execution_count": 15,
   "metadata": {},
   "outputs": [
    {
     "data": {
      "text/html": [
       "<dl class=dl-horizontal>\n",
       "\t<dt>B11</dt>\n",
       "\t\t<dd>0.404792167532049</dd>\n",
       "\t<dt>Na23</dt>\n",
       "\t\t<dd>1.44675876527256</dd>\n",
       "\t<dt>Mg26</dt>\n",
       "\t\t<dd>0.994701039596483</dd>\n",
       "\t<dt>Al27</dt>\n",
       "\t\t<dd>18.3860158871408</dd>\n",
       "\t<dt>P31</dt>\n",
       "\t\t<dd>10.6545418307056</dd>\n",
       "\t<dt>S34</dt>\n",
       "\t\t<dd>8.13682520314907</dd>\n",
       "\t<dt>K39</dt>\n",
       "\t\t<dd>6.12048044069236</dd>\n",
       "\t<dt>Ca44</dt>\n",
       "\t\t<dd>0.0300307679968661</dd>\n",
       "\t<dt>Fe54</dt>\n",
       "\t\t<dd>1.43307619225703</dd>\n",
       "\t<dt>Mn55</dt>\n",
       "\t\t<dd>1.42068195655163</dd>\n",
       "\t<dt>Co59</dt>\n",
       "\t\t<dd>4.18223491009021</dd>\n",
       "\t<dt>Ni60</dt>\n",
       "\t\t<dd>5.31346646664204</dd>\n",
       "\t<dt>Cu63</dt>\n",
       "\t\t<dd>20.848797395877</dd>\n",
       "\t<dt>Zn66</dt>\n",
       "\t\t<dd>2.93378935771281</dd>\n",
       "\t<dt>As75</dt>\n",
       "\t\t<dd>7.72407237053856</dd>\n",
       "\t<dt>Rb85</dt>\n",
       "\t\t<dd>4.18114130345154</dd>\n",
       "\t<dt>Sr88</dt>\n",
       "\t\t<dd>0.144667099749536</dd>\n",
       "\t<dt>Mo98</dt>\n",
       "\t\t<dd>5.20948957954789</dd>\n",
       "\t<dt>Cd111</dt>\n",
       "\t\t<dd>0.434437265496029</dd>\n",
       "</dl>\n"
      ],
      "text/latex": [
       "\\begin{description*}\n",
       "\\item[B11] 0.404792167532049\n",
       "\\item[Na23] 1.44675876527256\n",
       "\\item[Mg26] 0.994701039596483\n",
       "\\item[Al27] 18.3860158871408\n",
       "\\item[P31] 10.6545418307056\n",
       "\\item[S34] 8.13682520314907\n",
       "\\item[K39] 6.12048044069236\n",
       "\\item[Ca44] 0.0300307679968661\n",
       "\\item[Fe54] 1.43307619225703\n",
       "\\item[Mn55] 1.42068195655163\n",
       "\\item[Co59] 4.18223491009021\n",
       "\\item[Ni60] 5.31346646664204\n",
       "\\item[Cu63] 20.848797395877\n",
       "\\item[Zn66] 2.93378935771281\n",
       "\\item[As75] 7.72407237053856\n",
       "\\item[Rb85] 4.18114130345154\n",
       "\\item[Sr88] 0.144667099749536\n",
       "\\item[Mo98] 5.20948957954789\n",
       "\\item[Cd111] 0.434437265496029\n",
       "\\end{description*}\n"
      ],
      "text/markdown": [
       "B11\n",
       ":   0.404792167532049Na23\n",
       ":   1.44675876527256Mg26\n",
       ":   0.994701039596483Al27\n",
       ":   18.3860158871408P31\n",
       ":   10.6545418307056S34\n",
       ":   8.13682520314907K39\n",
       ":   6.12048044069236Ca44\n",
       ":   0.0300307679968661Fe54\n",
       ":   1.43307619225703Mn55\n",
       ":   1.42068195655163Co59\n",
       ":   4.18223491009021Ni60\n",
       ":   5.31346646664204Cu63\n",
       ":   20.848797395877Zn66\n",
       ":   2.93378935771281As75\n",
       ":   7.72407237053856Rb85\n",
       ":   4.18114130345154Sr88\n",
       ":   0.144667099749536Mo98\n",
       ":   5.20948957954789Cd111\n",
       ":   0.434437265496029\n",
       "\n"
      ],
      "text/plain": [
       "        B11        Na23        Mg26        Al27         P31         S34 \n",
       " 0.40479217  1.44675877  0.99470104 18.38601589 10.65454183  8.13682520 \n",
       "        K39        Ca44        Fe54        Mn55        Co59        Ni60 \n",
       " 6.12048044  0.03003077  1.43307619  1.42068196  4.18223491  5.31346647 \n",
       "       Cu63        Zn66        As75        Rb85        Sr88        Mo98 \n",
       "20.84879740  2.93378936  7.72407237  4.18114130  0.14466710  5.20948958 \n",
       "      Cd111 \n",
       " 0.43443727 "
      ]
     },
     "metadata": {},
     "output_type": "display_data"
    },
    {
     "data": {
      "text/html": [
       "<dl class=dl-horizontal>\n",
       "\t<dt>B11</dt>\n",
       "\t\t<dd>0.0671691125775633</dd>\n",
       "\t<dt>Na23</dt>\n",
       "\t\t<dd>0.037530190589164</dd>\n",
       "\t<dt>Mg26</dt>\n",
       "\t\t<dd>0.311184800972392</dd>\n",
       "\t<dt>Al27</dt>\n",
       "\t\t<dd>50.17506121444</dd>\n",
       "\t<dt>P31</dt>\n",
       "\t\t<dd>4.02308052488388</dd>\n",
       "\t<dt>S34</dt>\n",
       "\t\t<dd>6.80283561182911</dd>\n",
       "\t<dt>K39</dt>\n",
       "\t\t<dd>0.394617858484109</dd>\n",
       "\t<dt>Ca44</dt>\n",
       "\t\t<dd>0.879217831583631</dd>\n",
       "\t<dt>Fe54</dt>\n",
       "\t\t<dd>1.27116174658384</dd>\n",
       "\t<dt>Mn55</dt>\n",
       "\t\t<dd>0.688531364487002</dd>\n",
       "\t<dt>Co59</dt>\n",
       "\t\t<dd>1.22280152386483</dd>\n",
       "\t<dt>Ni60</dt>\n",
       "\t\t<dd>1.05758971968976</dd>\n",
       "\t<dt>Cu63</dt>\n",
       "\t\t<dd>7.62757580433823</dd>\n",
       "\t<dt>Zn66</dt>\n",
       "\t\t<dd>0.55340468171618</dd>\n",
       "\t<dt>As75</dt>\n",
       "\t\t<dd>14.3659994844205</dd>\n",
       "\t<dt>Rb85</dt>\n",
       "\t\t<dd>2.22316370968259</dd>\n",
       "\t<dt>Sr88</dt>\n",
       "\t\t<dd>0.00730607362734953</dd>\n",
       "\t<dt>Mo98</dt>\n",
       "\t\t<dd>8.19383132980744</dd>\n",
       "\t<dt>Cd111</dt>\n",
       "\t\t<dd>0.0979374164223714</dd>\n",
       "</dl>\n"
      ],
      "text/latex": [
       "\\begin{description*}\n",
       "\\item[B11] 0.0671691125775633\n",
       "\\item[Na23] 0.037530190589164\n",
       "\\item[Mg26] 0.311184800972392\n",
       "\\item[Al27] 50.17506121444\n",
       "\\item[P31] 4.02308052488388\n",
       "\\item[S34] 6.80283561182911\n",
       "\\item[K39] 0.394617858484109\n",
       "\\item[Ca44] 0.879217831583631\n",
       "\\item[Fe54] 1.27116174658384\n",
       "\\item[Mn55] 0.688531364487002\n",
       "\\item[Co59] 1.22280152386483\n",
       "\\item[Ni60] 1.05758971968976\n",
       "\\item[Cu63] 7.62757580433823\n",
       "\\item[Zn66] 0.55340468171618\n",
       "\\item[As75] 14.3659994844205\n",
       "\\item[Rb85] 2.22316370968259\n",
       "\\item[Sr88] 0.00730607362734953\n",
       "\\item[Mo98] 8.19383132980744\n",
       "\\item[Cd111] 0.0979374164223714\n",
       "\\end{description*}\n"
      ],
      "text/markdown": [
       "B11\n",
       ":   0.0671691125775633Na23\n",
       ":   0.037530190589164Mg26\n",
       ":   0.311184800972392Al27\n",
       ":   50.17506121444P31\n",
       ":   4.02308052488388S34\n",
       ":   6.80283561182911K39\n",
       ":   0.394617858484109Ca44\n",
       ":   0.879217831583631Fe54\n",
       ":   1.27116174658384Mn55\n",
       ":   0.688531364487002Co59\n",
       ":   1.22280152386483Ni60\n",
       ":   1.05758971968976Cu63\n",
       ":   7.62757580433823Zn66\n",
       ":   0.55340468171618As75\n",
       ":   14.3659994844205Rb85\n",
       ":   2.22316370968259Sr88\n",
       ":   0.00730607362734953Mo98\n",
       ":   8.19383132980744Cd111\n",
       ":   0.0979374164223714\n",
       "\n"
      ],
      "text/plain": [
       "         B11         Na23         Mg26         Al27          P31          S34 \n",
       " 0.067169113  0.037530191  0.311184801 50.175061214  4.023080525  6.802835612 \n",
       "         K39         Ca44         Fe54         Mn55         Co59         Ni60 \n",
       " 0.394617858  0.879217832  1.271161747  0.688531364  1.222801524  1.057589720 \n",
       "        Cu63         Zn66         As75         Rb85         Sr88         Mo98 \n",
       " 7.627575804  0.553404682 14.365999484  2.223163710  0.007306074  8.193831330 \n",
       "       Cd111 \n",
       " 0.097937416 "
      ]
     },
     "metadata": {},
     "output_type": "display_data"
    }
   ],
   "source": [
    "pcaVars <- get_pca_var(ionsPCA)\n",
    "pcaVars$contrib[,1]\n",
    "pcaVars$contrib[,2]"
   ]
  },
  {
   "cell_type": "code",
   "execution_count": 16,
   "metadata": {},
   "outputs": [
    {
     "ename": "ERROR",
     "evalue": "Error in is.data.frame(x): argument \"x\" is missing, with no default\n",
     "output_type": "error",
     "traceback": [
      "Error in is.data.frame(x): argument \"x\" is missing, with no default\nTraceback:\n",
      "1. cor()",
      "2. is.data.frame(x)"
     ]
    }
   ],
   "source": [
    "cor()"
   ]
  },
  {
   "cell_type": "code",
   "execution_count": 17,
   "metadata": {},
   "outputs": [
    {
     "ename": "ERROR",
     "evalue": "Error in cov(Species): is.numeric(x) || is.logical(x) is not TRUE\n",
     "output_type": "error",
     "traceback": [
      "Error in cov(Species): is.numeric(x) || is.logical(x) is not TRUE\nTraceback:\n",
      "1. cov(Species)",
      "2. stopifnot(is.numeric(x) || is.logical(x), is.atomic(x))"
     ]
    }
   ],
   "source": [
    "cov(Species)"
   ]
  },
  {
   "cell_type": "code",
   "execution_count": null,
   "metadata": {},
   "outputs": [],
   "source": []
  }
 ],
 "metadata": {
  "kernelspec": {
   "display_name": "R",
   "language": "R",
   "name": "ir"
  },
  "language_info": {
   "codemirror_mode": "r",
   "file_extension": ".r",
   "mimetype": "text/x-r-source",
   "name": "R",
   "pygments_lexer": "r",
   "version": "3.6.3"
  }
 },
 "nbformat": 4,
 "nbformat_minor": 4
}
