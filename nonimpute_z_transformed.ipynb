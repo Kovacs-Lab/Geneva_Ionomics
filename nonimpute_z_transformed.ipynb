{
 "cells": [
  {
   "cell_type": "code",
   "execution_count": 1,
   "metadata": {},
   "outputs": [
    {
     "name": "stderr",
     "output_type": "stream",
     "text": [
      "Installing package into 'C:/Users/2198K/Documents/R/win-library/3.6'\n",
      "(as 'lib' is unspecified)\n",
      "\n"
     ]
    },
    {
     "name": "stdout",
     "output_type": "stream",
     "text": [
      "package 'MASS' successfully unpacked and MD5 sums checked\n"
     ]
    },
    {
     "name": "stderr",
     "output_type": "stream",
     "text": [
      "Warning message:\n",
      "\"cannot remove prior installation of package 'MASS'\"\n",
      "Warning message in file.copy(savedcopy, lib, recursive = TRUE):\n",
      "\"problem copying C:\\Users\\2198K\\Documents\\R\\win-library\\3.6\\00LOCK\\MASS\\libs\\x64\\MASS.dll to C:\\Users\\2198K\\Documents\\R\\win-library\\3.6\\MASS\\libs\\x64\\MASS.dll: Permission denied\"\n",
      "Warning message:\n",
      "\"restored 'MASS'\"\n"
     ]
    },
    {
     "name": "stdout",
     "output_type": "stream",
     "text": [
      "\n",
      "The downloaded binary packages are in\n",
      "\tC:\\Users\\2198K\\AppData\\Local\\Temp\\RtmpGGR2vG\\downloaded_packages\n"
     ]
    },
    {
     "name": "stderr",
     "output_type": "stream",
     "text": [
      "Installing package into 'C:/Users/2198K/Documents/R/win-library/3.6'\n",
      "(as 'lib' is unspecified)\n",
      "\n"
     ]
    },
    {
     "name": "stdout",
     "output_type": "stream",
     "text": [
      "package 'tidyverse' successfully unpacked and MD5 sums checked\n",
      "\n",
      "The downloaded binary packages are in\n",
      "\tC:\\Users\\2198K\\AppData\\Local\\Temp\\RtmpGGR2vG\\downloaded_packages\n"
     ]
    },
    {
     "name": "stderr",
     "output_type": "stream",
     "text": [
      "-- \u001b[1mAttaching packages\u001b[22m --------------------------------------- tidyverse 1.3.0 --\n",
      "\n",
      "\u001b[32mv\u001b[39m \u001b[34mggplot2\u001b[39m 3.2.1     \u001b[32mv\u001b[39m \u001b[34mpurrr  \u001b[39m 0.3.3\n",
      "\u001b[32mv\u001b[39m \u001b[34mtibble \u001b[39m 2.1.3     \u001b[32mv\u001b[39m \u001b[34mdplyr  \u001b[39m 0.8.4\n",
      "\u001b[32mv\u001b[39m \u001b[34mtidyr  \u001b[39m 1.0.2     \u001b[32mv\u001b[39m \u001b[34mstringr\u001b[39m 1.4.0\n",
      "\u001b[32mv\u001b[39m \u001b[34mreadr  \u001b[39m 1.3.1     \u001b[32mv\u001b[39m \u001b[34mforcats\u001b[39m 0.4.0\n",
      "\n",
      "-- \u001b[1mConflicts\u001b[22m ------------------------------------------ tidyverse_conflicts() --\n",
      "\u001b[31mx\u001b[39m \u001b[34mdplyr\u001b[39m::\u001b[32mfilter()\u001b[39m masks \u001b[34mstats\u001b[39m::filter()\n",
      "\u001b[31mx\u001b[39m \u001b[34mdplyr\u001b[39m::\u001b[32mlag()\u001b[39m    masks \u001b[34mstats\u001b[39m::lag()\n",
      "\u001b[31mx\u001b[39m \u001b[34mdplyr\u001b[39m::\u001b[32mselect()\u001b[39m masks \u001b[34mMASS\u001b[39m::select()\n",
      "\n",
      "Installing package into 'C:/Users/2198K/Documents/R/win-library/3.6'\n",
      "(as 'lib' is unspecified)\n",
      "\n"
     ]
    },
    {
     "name": "stdout",
     "output_type": "stream",
     "text": [
      "package 'caret' successfully unpacked and MD5 sums checked\n"
     ]
    },
    {
     "name": "stderr",
     "output_type": "stream",
     "text": [
      "Warning message:\n",
      "\"cannot remove prior installation of package 'caret'\"\n",
      "Warning message in file.copy(savedcopy, lib, recursive = TRUE):\n",
      "\"problem copying C:\\Users\\2198K\\Documents\\R\\win-library\\3.6\\00LOCK\\caret\\libs\\x64\\caret.dll to C:\\Users\\2198K\\Documents\\R\\win-library\\3.6\\caret\\libs\\x64\\caret.dll: Permission denied\"\n",
      "Warning message:\n",
      "\"restored 'caret'\"\n"
     ]
    },
    {
     "name": "stdout",
     "output_type": "stream",
     "text": [
      "\n",
      "The downloaded binary packages are in\n",
      "\tC:\\Users\\2198K\\AppData\\Local\\Temp\\RtmpGGR2vG\\downloaded_packages\n"
     ]
    },
    {
     "name": "stderr",
     "output_type": "stream",
     "text": [
      "Loading required package: lattice\n",
      "\n",
      "\n",
      "Attaching package: 'caret'\n",
      "\n",
      "\n",
      "The following object is masked from 'package:purrr':\n",
      "\n",
      "    lift\n",
      "\n",
      "\n",
      "Installing package into 'C:/Users/2198K/Documents/R/win-library/3.6'\n",
      "(as 'lib' is unspecified)\n",
      "\n"
     ]
    },
    {
     "name": "stdout",
     "output_type": "stream",
     "text": [
      "package 'pROC' successfully unpacked and MD5 sums checked\n"
     ]
    },
    {
     "name": "stderr",
     "output_type": "stream",
     "text": [
      "Warning message:\n",
      "\"cannot remove prior installation of package 'pROC'\"\n",
      "Warning message in file.copy(savedcopy, lib, recursive = TRUE):\n",
      "\"problem copying C:\\Users\\2198K\\Documents\\R\\win-library\\3.6\\00LOCK\\pROC\\libs\\x64\\pROC.dll to C:\\Users\\2198K\\Documents\\R\\win-library\\3.6\\pROC\\libs\\x64\\pROC.dll: Permission denied\"\n",
      "Warning message:\n",
      "\"restored 'pROC'\"\n"
     ]
    },
    {
     "name": "stdout",
     "output_type": "stream",
     "text": [
      "\n",
      "The downloaded binary packages are in\n",
      "\tC:\\Users\\2198K\\AppData\\Local\\Temp\\RtmpGGR2vG\\downloaded_packages\n"
     ]
    },
    {
     "name": "stderr",
     "output_type": "stream",
     "text": [
      "Type 'citation(\"pROC\")' for a citation.\n",
      "\n",
      "\n",
      "Attaching package: 'pROC'\n",
      "\n",
      "\n",
      "The following objects are masked from 'package:stats':\n",
      "\n",
      "    cov, smooth, var\n",
      "\n",
      "\n"
     ]
    }
   ],
   "source": [
    "install.packages(\"MASS\")\n",
    "library(\"MASS\")\n",
    "install.packages(\"tidyverse\")\n",
    "library(\"tidyverse\")\n",
    "install.packages(\"caret\")\n",
    "library(\"caret\")\n",
    "install.packages(\"pROC\")\n",
    "library(\"pROC\")"
   ]
  },
  {
   "cell_type": "code",
   "execution_count": 2,
   "metadata": {},
   "outputs": [],
   "source": [
    "ionomics <- read.csv('geneva_z_transformed.csv',colClasses =c(\"NULL\",\"NULL\",NA,NA,NA,NA,NA,NA,NA,NA,NA,NA,NA,NA,NA,\n",
    "                                                                    NA,NA,NA,NA,NA,NA,NA))\n",
    "ionomics = ionomics[0:200,]"
   ]
  },
  {
   "cell_type": "code",
   "execution_count": 3,
   "metadata": {},
   "outputs": [],
   "source": [
    "# Split the data into training (80%) and test set (20%)\n",
    "set.seed(123)\n",
    "training.samples <- ionomics[,2] %>%\n",
    "  createDataPartition(p = 0.8, list = FALSE)\n",
    "train.data <- ionomics[training.samples, ]\n",
    "test.data <- ionomics[-training.samples, ]"
   ]
  },
  {
   "cell_type": "code",
   "execution_count": 4,
   "metadata": {},
   "outputs": [
    {
     "data": {
      "text/html": [
       "0.7"
      ],
      "text/latex": [
       "0.7"
      ],
      "text/markdown": [
       "0.7"
      ],
      "text/plain": [
       "[1] 0.7"
      ]
     },
     "metadata": {},
     "output_type": "display_data"
    },
    {
     "data": {
      "text/plain": [
       "Call:\n",
       "lda(spec_as_int ~ ., data = train.data)\n",
       "\n",
       "Prior probabilities of groups:\n",
       "         1          2          3          4          5          6          7 \n",
       "0.05660377 0.02515723 0.15094340 0.22012579 0.01886792 0.35220126 0.11949686 \n",
       "         8 \n",
       "0.05660377 \n",
       "\n",
       "Group means:\n",
       "          B11         Na23        Mg26       Al27         P31        S34\n",
       "1 -0.07457830  1.096685904  0.08024358  0.4241580 -0.26530028 -0.4425054\n",
       "2 -0.07281952 -0.674009943 -0.49009831  0.3103029 -0.74683384 -0.5745285\n",
       "3 -0.61561082 -0.250845646  0.06800760  0.1525811  0.81158671  0.7484194\n",
       "4 -0.51483558  0.002619882  1.17842663  0.4455115 -0.26554258  0.2616863\n",
       "5 -1.36763570  0.503713441 -1.06472621 -0.4760359  0.75620306 -0.5234676\n",
       "6  0.51782933  0.330860427 -0.50153453 -0.1266648 -0.07640705 -0.0253093\n",
       "7  0.49950951 -0.382245573 -0.14073305 -0.8018896 -0.34919261 -0.7036626\n",
       "8 -0.02202672 -0.768659997 -0.63591817 -0.4474591 -0.29235776 -0.4641288\n",
       "          K39        Ca44        Fe54        Mn55       Co59        Ni60\n",
       "1 -0.92017976 -0.40347911 -0.05008468 -0.09742626 -0.1762000 -0.31078388\n",
       "2 -0.39677976 -0.39538871 -0.61105683 -0.68671540 -0.4243404 -0.18361497\n",
       "3  0.47141386  0.00700685  1.22212395  0.34918339  0.7449436  0.65394138\n",
       "4 -0.26438777  0.05667605 -0.24530330  0.52463174  0.3785161 -0.02277590\n",
       "5  0.55057082 -1.58579328 -0.93546634 -0.06203359  1.5387142  1.82885467\n",
       "6  0.35514087  0.20844779  0.01806519  0.01368136 -0.1723184 -0.07501931\n",
       "7 -0.23861086 -0.57077739 -0.72488193 -0.65734685 -0.7312345 -0.29517996\n",
       "8 -0.07483386 -0.31763762 -0.54245350 -0.53533982 -0.5859655 -0.29582520\n",
       "         Cu63         Zn66       As75        Rb85        Sr88        Mo98\n",
       "1 -0.56901469  0.009319023  0.2175174 -0.03518038 -0.24099944 -0.21966261\n",
       "2 -0.17602818 -0.129291297  0.2326903 -0.44789215 -0.29569878 -0.75229062\n",
       "3  1.72648355  0.445362162 -0.1079197  0.37977494  0.04612887  1.83453959\n",
       "4  0.01413288  0.511261448  0.8145499 -0.50334417  0.12111020 -0.64129376\n",
       "5 -0.18913451 -0.394035283 -0.4667792  0.81227176 -1.27831088 -0.66481164\n",
       "6 -0.54833040 -0.075926989 -0.2857246  0.18094337  0.05165504 -0.08467969\n",
       "7 -0.20885826 -0.729001327 -0.6750576  0.18176414 -0.42067125 -0.17269006\n",
       "8 -0.18945341 -0.159435564 -0.1794638 -0.37113854 -0.33062902 -0.01543034\n",
       "        Cd111\n",
       "1 -0.09723468\n",
       "2  0.07723360\n",
       "3  0.01541734\n",
       "4  0.08771953\n",
       "5  0.10601704\n",
       "6  0.06884361\n",
       "7 -0.12801555\n",
       "8 -0.01567012\n",
       "\n",
       "Coefficients of linear discriminants:\n",
       "              LD1          LD2          LD3         LD4          LD5\n",
       "B11   -0.33483021 -0.487933364  0.412385532 -0.17607393  0.164600501\n",
       "Na23  -0.04923519 -0.001888962 -0.013862357  0.15232432 -0.932646788\n",
       "Mg26   0.15550481  0.994399886  0.345365923 -0.31239559 -0.416232257\n",
       "Al27   0.02611149  0.062030581  0.327497124  0.17894512 -0.096498727\n",
       "P31   -0.08120762  0.059761584 -0.554550404 -0.00904873 -0.206015718\n",
       "S34   -0.42669068  0.228711891 -0.096779920  0.36662040  0.372340856\n",
       "K39   -0.06821495  0.056862208 -0.364223442  0.42507976  0.510712572\n",
       "Ca44  -0.05378717 -0.506821144  0.048731356  0.68255110  0.131835977\n",
       "Fe54   0.46756882 -0.367130974  0.203015183  0.43111342 -0.303720167\n",
       "Mn55   0.07494347  0.203794172  0.701276960 -0.05304772 -0.271571752\n",
       "Co59   0.43045219 -0.049145699 -1.534143119 -0.10697684  0.277323099\n",
       "Ni60   0.02493791 -0.046987227 -0.253614726 -0.07726296 -0.049847851\n",
       "Cu63   0.84375388  0.343531356  0.472859749 -0.25141425  0.114179156\n",
       "Zn66  -0.14061427 -0.133494252  0.238729663  0.23947903  0.384913270\n",
       "As75  -0.18850774  0.611273388 -0.011015779  0.22916398  0.009686092\n",
       "Rb85   0.04760692 -0.460873648  0.239457138 -0.09747624 -0.604800329\n",
       "Sr88  -0.03000019  0.053249386  0.003394096 -0.03548852  0.041363769\n",
       "Mo98   0.94574248 -0.388895506  0.423380505 -0.27204175 -0.155447231\n",
       "Cd111  0.00378107 -0.097585424 -0.156647306  0.16570620  0.016353693\n",
       "              LD6          LD7\n",
       "B11   -0.50804267 -0.397967166\n",
       "Na23  -0.09981827  0.070434953\n",
       "Mg26  -0.84347828  0.004544550\n",
       "Al27   0.40593675 -0.750974320\n",
       "P31    0.02939298  0.321651790\n",
       "S34   -0.33548736 -0.302661358\n",
       "K39   -0.33919640  0.093492946\n",
       "Ca44  -0.27656774  0.248991120\n",
       "Fe54   0.01664851 -0.252220588\n",
       "Mn55  -0.39714468  0.713633893\n",
       "Co59   0.10217482 -0.625592534\n",
       "Ni60  -0.46798860 -0.016429329\n",
       "Cu63  -0.13122262 -0.511622242\n",
       "Zn66   0.58787441  0.294957495\n",
       "As75   0.34064490  0.676725462\n",
       "Rb85  -0.09143732 -0.002428943\n",
       "Sr88   0.41283243 -0.541070735\n",
       "Mo98   0.19685970  0.682385256\n",
       "Cd111 -0.02116840 -0.027937167\n",
       "\n",
       "Proportion of trace:\n",
       "   LD1    LD2    LD3    LD4    LD5    LD6    LD7 \n",
       "0.4425 0.3341 0.0886 0.0620 0.0452 0.0237 0.0038 "
      ]
     },
     "metadata": {},
     "output_type": "display_data"
    }
   ],
   "source": [
    "# Fit the model\n",
    "model <- lda(spec_as_int~., data = train.data)\n",
    "# Make predictions\n",
    "predictions <- model %>% predict(test.data)\n",
    "# Model accuracy\n",
    "mean(predictions$class==test.data$spec_as_int)\n",
    "model"
   ]
  },
  {
   "cell_type": "code",
   "execution_count": 5,
   "metadata": {},
   "outputs": [
    {
     "data": {
      "image/png": "[encoded data removed]",
      "text/plain": [
       "plot without title"
      ]
     },
     "metadata": {
      "image/png": {
       "height": 420,
       "width": 420
      },
      "text/plain": {
       "height": 420,
       "width": 420
      }
     },
     "output_type": "display_data"
    }
   ],
   "source": [
    "plot(model)"
   ]
  },
  {
   "cell_type": "code",
   "execution_count": 6,
   "metadata": {},
   "outputs": [
    {
     "data": {
      "text/html": [
       "<style>\n",
       ".list-inline {list-style: none; margin:0; padding: 0}\n",
       ".list-inline>li {display: inline-block}\n",
       ".list-inline>li:not(:last-child)::after {content: \"\\00b7\"; padding: 0 .5ex}\n",
       "</style>\n",
       "<ol class=list-inline><li>1</li><li>6</li><li>1</li><li>6</li><li>4</li><li>3</li></ol>\n",
       "\n",
       "<details>\n",
       "\t<summary style=display:list-item;cursor:pointer>\n",
       "\t\t<strong>Levels</strong>:\n",
       "\t</summary>\n",
       "\t<style>\n",
       "\t.list-inline {list-style: none; margin:0; padding: 0}\n",
       "\t.list-inline>li {display: inline-block}\n",
       "\t.list-inline>li:not(:last-child)::after {content: \"\\00b7\"; padding: 0 .5ex}\n",
       "\t</style>\n",
       "\t<ol class=list-inline><li>'1'</li><li>'2'</li><li>'3'</li><li>'4'</li><li>'5'</li><li>'6'</li><li>'7'</li><li>'8'</li></ol>\n",
       "</details>"
      ],
      "text/latex": [
       "\\begin{enumerate*}\n",
       "\\item 1\n",
       "\\item 6\n",
       "\\item 1\n",
       "\\item 6\n",
       "\\item 4\n",
       "\\item 3\n",
       "\\end{enumerate*}\n",
       "\n",
       "\\emph{Levels}: \\begin{enumerate*}\n",
       "\\item '1'\n",
       "\\item '2'\n",
       "\\item '3'\n",
       "\\item '4'\n",
       "\\item '5'\n",
       "\\item '6'\n",
       "\\item '7'\n",
       "\\item '8'\n",
       "\\end{enumerate*}\n"
      ],
      "text/markdown": [
       "1. 1\n",
       "2. 6\n",
       "3. 1\n",
       "4. 6\n",
       "5. 4\n",
       "6. 3\n",
       "\n",
       "\n",
       "\n",
       "**Levels**: 1. '1'\n",
       "2. '2'\n",
       "3. '3'\n",
       "4. '4'\n",
       "5. '5'\n",
       "6. '6'\n",
       "7. '7'\n",
       "8. '8'\n",
       "\n",
       "\n"
      ],
      "text/plain": [
       "[1] 1 6 1 6 4 3\n",
       "Levels: 1 2 3 4 5 6 7 8"
      ]
     },
     "metadata": {},
     "output_type": "display_data"
    },
    {
     "data": {
      "text/html": [
       "<table>\n",
       "<caption>A matrix: 6 × 8 of type dbl</caption>\n",
       "<thead>\n",
       "\t<tr><th></th><th scope=col>1</th><th scope=col>2</th><th scope=col>3</th><th scope=col>4</th><th scope=col>5</th><th scope=col>6</th><th scope=col>7</th><th scope=col>8</th></tr>\n",
       "</thead>\n",
       "<tbody>\n",
       "\t<tr><th scope=row>1</th><td>6.531628e-01</td><td>2.860441e-05</td><td>2.355660e-06</td><td>6.165282e-05</td><td>5.855987e-09</td><td>3.191977e-01</td><td>2.740278e-02</td><td>1.440420e-04</td></tr>\n",
       "\t<tr><th scope=row>7</th><td>1.304173e-01</td><td>3.734028e-03</td><td>4.503842e-06</td><td>1.764127e-03</td><td>1.923838e-06</td><td>8.118578e-01</td><td>1.996784e-02</td><td>3.225241e-02</td></tr>\n",
       "\t<tr><th scope=row>9</th><td>8.004200e-01</td><td>1.171637e-02</td><td>7.930533e-07</td><td>1.295248e-02</td><td>3.060880e-11</td><td>6.909516e-02</td><td>9.836253e-02</td><td>7.452683e-03</td></tr>\n",
       "\t<tr><th scope=row>14</th><td>4.140850e-03</td><td>2.725779e-02</td><td>7.335899e-04</td><td>2.094436e-04</td><td>5.348062e-11</td><td>5.722625e-01</td><td>2.631784e-01</td><td>1.322174e-01</td></tr>\n",
       "\t<tr><th scope=row>15</th><td>1.392423e-02</td><td>2.197624e-01</td><td>2.473454e-07</td><td>4.498293e-01</td><td>5.752140e-09</td><td>4.134806e-02</td><td>6.032748e-02</td><td>2.148084e-01</td></tr>\n",
       "\t<tr><th scope=row>23</th><td>9.875920e-09</td><td>1.234544e-07</td><td>9.999885e-01</td><td>3.374325e-07</td><td>2.937303e-15</td><td>8.036124e-06</td><td>7.985209e-08</td><td>2.869615e-06</td></tr>\n",
       "</tbody>\n",
       "</table>\n"
      ],
      "text/latex": [
       "A matrix: 6 × 8 of type dbl\n",
       "\\begin{tabular}{r|llllllll}\n",
       "  & 1 & 2 & 3 & 4 & 5 & 6 & 7 & 8\\\\\n",
       "\\hline\n",
       "\t1 & 6.531628e-01 & 2.860441e-05 & 2.355660e-06 & 6.165282e-05 & 5.855987e-09 & 3.191977e-01 & 2.740278e-02 & 1.440420e-04\\\\\n",
       "\t7 & 1.304173e-01 & 3.734028e-03 & 4.503842e-06 & 1.764127e-03 & 1.923838e-06 & 8.118578e-01 & 1.996784e-02 & 3.225241e-02\\\\\n",
       "\t9 & 8.004200e-01 & 1.171637e-02 & 7.930533e-07 & 1.295248e-02 & 3.060880e-11 & 6.909516e-02 & 9.836253e-02 & 7.452683e-03\\\\\n",
       "\t14 & 4.140850e-03 & 2.725779e-02 & 7.335899e-04 & 2.094436e-04 & 5.348062e-11 & 5.722625e-01 & 2.631784e-01 & 1.322174e-01\\\\\n",
       "\t15 & 1.392423e-02 & 2.197624e-01 & 2.473454e-07 & 4.498293e-01 & 5.752140e-09 & 4.134806e-02 & 6.032748e-02 & 2.148084e-01\\\\\n",
       "\t23 & 9.875920e-09 & 1.234544e-07 & 9.999885e-01 & 3.374325e-07 & 2.937303e-15 & 8.036124e-06 & 7.985209e-08 & 2.869615e-06\\\\\n",
       "\\end{tabular}\n"
      ],
      "text/markdown": [
       "\n",
       "A matrix: 6 × 8 of type dbl\n",
       "\n",
       "| <!--/--> | 1 | 2 | 3 | 4 | 5 | 6 | 7 | 8 |\n",
       "|---|---|---|---|---|---|---|---|---|\n",
       "| 1 | 6.531628e-01 | 2.860441e-05 | 2.355660e-06 | 6.165282e-05 | 5.855987e-09 | 3.191977e-01 | 2.740278e-02 | 1.440420e-04 |\n",
       "| 7 | 1.304173e-01 | 3.734028e-03 | 4.503842e-06 | 1.764127e-03 | 1.923838e-06 | 8.118578e-01 | 1.996784e-02 | 3.225241e-02 |\n",
       "| 9 | 8.004200e-01 | 1.171637e-02 | 7.930533e-07 | 1.295248e-02 | 3.060880e-11 | 6.909516e-02 | 9.836253e-02 | 7.452683e-03 |\n",
       "| 14 | 4.140850e-03 | 2.725779e-02 | 7.335899e-04 | 2.094436e-04 | 5.348062e-11 | 5.722625e-01 | 2.631784e-01 | 1.322174e-01 |\n",
       "| 15 | 1.392423e-02 | 2.197624e-01 | 2.473454e-07 | 4.498293e-01 | 5.752140e-09 | 4.134806e-02 | 6.032748e-02 | 2.148084e-01 |\n",
       "| 23 | 9.875920e-09 | 1.234544e-07 | 9.999885e-01 | 3.374325e-07 | 2.937303e-15 | 8.036124e-06 | 7.985209e-08 | 2.869615e-06 |\n",
       "\n"
      ],
      "text/plain": [
       "   1            2            3            4            5           \n",
       "1  6.531628e-01 2.860441e-05 2.355660e-06 6.165282e-05 5.855987e-09\n",
       "7  1.304173e-01 3.734028e-03 4.503842e-06 1.764127e-03 1.923838e-06\n",
       "9  8.004200e-01 1.171637e-02 7.930533e-07 1.295248e-02 3.060880e-11\n",
       "14 4.140850e-03 2.725779e-02 7.335899e-04 2.094436e-04 5.348062e-11\n",
       "15 1.392423e-02 2.197624e-01 2.473454e-07 4.498293e-01 5.752140e-09\n",
       "23 9.875920e-09 1.234544e-07 9.999885e-01 3.374325e-07 2.937303e-15\n",
       "   6            7            8           \n",
       "1  3.191977e-01 2.740278e-02 1.440420e-04\n",
       "7  8.118578e-01 1.996784e-02 3.225241e-02\n",
       "9  6.909516e-02 9.836253e-02 7.452683e-03\n",
       "14 5.722625e-01 2.631784e-01 1.322174e-01\n",
       "15 4.134806e-02 6.032748e-02 2.148084e-01\n",
       "23 8.036124e-06 7.985209e-08 2.869615e-06"
      ]
     },
     "metadata": {},
     "output_type": "display_data"
    },
    {
     "data": {
      "text/html": [
       "<table>\n",
       "<caption>A matrix: 3 × 7 of type dbl</caption>\n",
       "<thead>\n",
       "\t<tr><th></th><th scope=col>LD1</th><th scope=col>LD2</th><th scope=col>LD3</th><th scope=col>LD4</th><th scope=col>LD5</th><th scope=col>LD6</th><th scope=col>LD7</th></tr>\n",
       "</thead>\n",
       "<tbody>\n",
       "\t<tr><th scope=row>1</th><td>-0.6622487</td><td>-1.4358501</td><td> 0.2594505</td><td> 0.09175066</td><td>-3.456246</td><td>-0.2248985</td><td>-0.5073764</td></tr>\n",
       "\t<tr><th scope=row>7</th><td>-0.8436805</td><td>-0.7899398</td><td>-0.8206613</td><td> 0.37331670</td><td>-1.141337</td><td> 1.1602583</td><td> 0.9421341</td></tr>\n",
       "\t<tr><th scope=row>9</th><td>-1.0967739</td><td> 0.3016987</td><td> 1.4762746</td><td>-0.64426454</td><td>-1.539720</td><td> 1.1185976</td><td>-0.8082491</td></tr>\n",
       "</tbody>\n",
       "</table>\n"
      ],
      "text/latex": [
       "A matrix: 3 × 7 of type dbl\n",
       "\\begin{tabular}{r|lllllll}\n",
       "  & LD1 & LD2 & LD3 & LD4 & LD5 & LD6 & LD7\\\\\n",
       "\\hline\n",
       "\t1 & -0.6622487 & -1.4358501 &  0.2594505 &  0.09175066 & -3.456246 & -0.2248985 & -0.5073764\\\\\n",
       "\t7 & -0.8436805 & -0.7899398 & -0.8206613 &  0.37331670 & -1.141337 &  1.1602583 &  0.9421341\\\\\n",
       "\t9 & -1.0967739 &  0.3016987 &  1.4762746 & -0.64426454 & -1.539720 &  1.1185976 & -0.8082491\\\\\n",
       "\\end{tabular}\n"
      ],
      "text/markdown": [
       "\n",
       "A matrix: 3 × 7 of type dbl\n",
       "\n",
       "| <!--/--> | LD1 | LD2 | LD3 | LD4 | LD5 | LD6 | LD7 |\n",
       "|---|---|---|---|---|---|---|---|\n",
       "| 1 | -0.6622487 | -1.4358501 |  0.2594505 |  0.09175066 | -3.456246 | -0.2248985 | -0.5073764 |\n",
       "| 7 | -0.8436805 | -0.7899398 | -0.8206613 |  0.37331670 | -1.141337 |  1.1602583 |  0.9421341 |\n",
       "| 9 | -1.0967739 |  0.3016987 |  1.4762746 | -0.64426454 | -1.539720 |  1.1185976 | -0.8082491 |\n",
       "\n"
      ],
      "text/plain": [
       "  LD1        LD2        LD3        LD4         LD5       LD6        LD7       \n",
       "1 -0.6622487 -1.4358501  0.2594505  0.09175066 -3.456246 -0.2248985 -0.5073764\n",
       "7 -0.8436805 -0.7899398 -0.8206613  0.37331670 -1.141337  1.1602583  0.9421341\n",
       "9 -1.0967739  0.3016987  1.4762746 -0.64426454 -1.539720  1.1185976 -0.8082491"
      ]
     },
     "metadata": {},
     "output_type": "display_data"
    }
   ],
   "source": [
    "# Predicted classes\n",
    "head(predictions$class, 6)\n",
    "# Predicted probabilities of class memebership.\n",
    "head(predictions$posterior, 6) \n",
    "# Linear discriminants\n",
    "head(predictions$x, 3) "
   ]
  },
  {
   "cell_type": "code",
   "execution_count": 7,
   "metadata": {},
   "outputs": [
    {
     "name": "stdout",
     "output_type": "stream",
     "text": [
      "Confusion Matrix and Statistics\n",
      "\n",
      "         spec_as_int\n",
      "Predicted  1  2  3  4  5  6  7  8\n",
      "        1  2  0  0  0  0  0  0  0\n",
      "        2  0  0  0  0  0  0  0  0\n",
      "        3  0  0  4  0  0  0  0  0\n",
      "        4  0  1  0  5  1  2  2  1\n",
      "        5  0  0  0  0  1  0  0  0\n",
      "        6  1  1  1  0  0 12  0  0\n",
      "        7  0  0  0  0  0  0  4  0\n",
      "        8  0  0  0  0  0  1  1  0\n",
      "\n",
      "Overall Statistics\n",
      "                                          \n",
      "               Accuracy : 0.7             \n",
      "                 95% CI : (0.5347, 0.8344)\n",
      "    No Information Rate : 0.375           \n",
      "    P-Value [Acc > NIR] : 3.088e-05       \n",
      "                                          \n",
      "                  Kappa : 0.6181          \n",
      "                                          \n",
      " Mcnemar's Test P-Value : NA              \n",
      "\n",
      "Statistics by Class:\n",
      "\n",
      "                     Class: 1 Class: 2 Class: 3 Class: 4 Class: 5 Class: 6\n",
      "Sensitivity            0.6667     0.00   0.8000   1.0000   0.5000    0.800\n",
      "Specificity            1.0000     1.00   1.0000   0.8000   1.0000    0.880\n",
      "Pos Pred Value         1.0000      NaN   1.0000   0.4167   1.0000    0.800\n",
      "Neg Pred Value         0.9737     0.95   0.9722   1.0000   0.9744    0.880\n",
      "Prevalence             0.0750     0.05   0.1250   0.1250   0.0500    0.375\n",
      "Detection Rate         0.0500     0.00   0.1000   0.1250   0.0250    0.300\n",
      "Detection Prevalence   0.0500     0.00   0.1000   0.3000   0.0250    0.375\n",
      "Balanced Accuracy      0.8333     0.50   0.9000   0.9000   0.7500    0.840\n",
      "                     Class: 7 Class: 8\n",
      "Sensitivity            0.5714   0.0000\n",
      "Specificity            1.0000   0.9487\n",
      "Pos Pred Value         1.0000   0.0000\n",
      "Neg Pred Value         0.9167   0.9737\n",
      "Prevalence             0.1750   0.0250\n",
      "Detection Rate         0.1000   0.0000\n",
      "Detection Prevalence   0.1000   0.0500\n",
      "Balanced Accuracy      0.7857   0.4744\n"
     ]
    }
   ],
   "source": [
    "table <- table(Predicted=predictions$class, spec_as_int=test.data$spec_as_int)\n",
    "print(confusionMatrix(table))"
   ]
  },
  {
   "cell_type": "code",
   "execution_count": 8,
   "metadata": {},
   "outputs": [
    {
     "name": "stdout",
     "output_type": "stream",
     "text": [
      "# weights:  168 (140 variable)\n",
      "initial  value 330.631205 \n",
      "iter  10 value 63.280422\n",
      "iter  20 value 37.735934\n",
      "iter  30 value 17.792910\n",
      "iter  40 value 1.081613\n",
      "iter  50 value 0.005179\n",
      "final  value 0.000066 \n",
      "converged\n",
      "\n",
      "Call:\n",
      "multiclass.roc.default(response = test.data$spec_as_int, predictor = ionomics.predictions,     percent = TRUE)\n",
      "\n",
      "Data: multivariate predictor ionomics.predictions with 8 levels of test.data$spec_as_int: 1, 2, 3, 4, 5, 6, 7, 8.\n",
      "Multi-class area under the curve: 76.58%\n"
     ]
    }
   ],
   "source": [
    "mn.net <- nnet::multinom(spec_as_int ~ ., train.data)\n",
    "ionomics.predictions <- predict(mn.net, newdata=test.data, type=\"prob\")\n",
    "ionomics.predictions <- as.data.frame(ionomics.predictions)\n",
    "auc <- multiclass.roc(test.data$spec_as_int, ionomics.predictions, percent=TRUE)\n",
    "print(auc)"
   ]
  },
  {
   "cell_type": "code",
   "execution_count": 9,
   "metadata": {},
   "outputs": [
    {
     "name": "stderr",
     "output_type": "stream",
     "text": [
      "Installing package into 'C:/Users/2198K/Documents/R/win-library/3.6'\n",
      "(as 'lib' is unspecified)\n",
      "\n"
     ]
    },
    {
     "name": "stdout",
     "output_type": "stream",
     "text": [
      "package 'klaR' successfully unpacked and MD5 sums checked\n",
      "\n",
      "The downloaded binary packages are in\n",
      "\tC:\\Users\\2198K\\AppData\\Local\\Temp\\RtmpGGR2vG\\downloaded_packages\n"
     ]
    }
   ],
   "source": [
    "install.packages(\"klaR\")\n",
    "library(klaR) # for NaiveBayes"
   ]
  },
  {
   "cell_type": "code",
   "execution_count": 11,
   "metadata": {},
   "outputs": [
    {
     "data": {
      "image/png": "[encoded data removed]",
      "text/plain": [
       "plot without title"
      ]
     },
     "metadata": {
      "image/png": {
       "height": 420,
       "width": 420
      },
      "text/plain": {
       "height": 420,
       "width": 420
      }
     },
     "output_type": "display_data"
    }
   ],
   "source": [
    "plot(x=NA, y=NA, xlim=c(0,1), ylim=c(0,1),\n",
    "     ylab=\"Precision\",\n",
    "     xlab=\"Recall\",\n",
    "     bty='n')\n",
    "colors <- c(\"red\", \"blue\", \"green\")\n",
    "aucs <- rep(NA, length(levels(ionomics$spec_as_int))) # store AUCs\n",
    "for (i in seq_along(levels(ionomics$spec_as_int))) {\n",
    "  cur.class <- levels(ionomics$spec_as_int)[i]\n",
    "  binary.labels <- as.factor(train.data$spec_as_int == cur.class)\n",
    "  # binarize the classifier you are using (NB is arbitrary)\n",
    "  model <- NaiveBayes(binary.labels ~ ., data = train.data)\n",
    "  pred <- predict(model, test.data, type='raw')\n",
    "  score <- pred$posterior[, 'TRUE'] # posterior for  positive class\n",
    "  test.labels <- test.data$spec_as_int == cur.class\n",
    "  pred <- prediction(score, test.labels)\n",
    "  perf <- performance(pred, \"prec\", \"rec\")\n",
    "  roc.x <- unlist(perf@x.values)\n",
    "  roc.y <- unlist(perf@y.values)\n",
    "  lines(roc.y ~ roc.x, col = colors[i], lwd = 2)\n",
    "  # store AUC\n",
    "  auc <- performance(pred, \"auc\")\n",
    "  auc <- unlist(slot(auc, \"y.values\"))\n",
    "  aucs[i] <- auc\n",
    "}\n",
    "lines(x=c(0,1), c(0,1))"
   ]
  }
 ],
 "metadata": {
  "kernelspec": {
   "display_name": "R",
   "language": "R",
   "name": "ir"
  },
  "language_info": {
   "codemirror_mode": "r",
   "file_extension": ".r",
   "mimetype": "text/x-r-source",
   "name": "R",
   "pygments_lexer": "r",
   "version": "3.6.3"
  }
 },
 "nbformat": 4,
 "nbformat_minor": 4
}
