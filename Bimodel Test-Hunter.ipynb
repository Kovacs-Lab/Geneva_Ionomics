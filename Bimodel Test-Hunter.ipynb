{
 "cells": [
  {
   "cell_type": "code",
   "execution_count": 1,
   "metadata": {},
   "outputs": [
    {
     "name": "stderr",
     "output_type": "stream",
     "text": [
      "Installing package into 'C:/Users/daeda/OneDrive/Documents/R/win-library/3.6'\n",
      "(as 'lib' is unspecified)\n",
      "\n"
     ]
    },
    {
     "name": "stdout",
     "output_type": "stream",
     "text": [
      "package 'MASS' successfully unpacked and MD5 sums checked\n",
      "\n",
      "The downloaded binary packages are in\n",
      "\tC:\\Users\\daeda\\AppData\\Local\\Temp\\RtmpuQ4Olb\\downloaded_packages\n"
     ]
    },
    {
     "name": "stderr",
     "output_type": "stream",
     "text": [
      "Installing package into 'C:/Users/daeda/OneDrive/Documents/R/win-library/3.6'\n",
      "(as 'lib' is unspecified)\n",
      "\n"
     ]
    },
    {
     "name": "stdout",
     "output_type": "stream",
     "text": [
      "package 'missMDA' successfully unpacked and MD5 sums checked\n",
      "\n",
      "The downloaded binary packages are in\n",
      "\tC:\\Users\\daeda\\AppData\\Local\\Temp\\RtmpuQ4Olb\\downloaded_packages\n"
     ]
    },
    {
     "name": "stderr",
     "output_type": "stream",
     "text": [
      "Installing package into 'C:/Users/daeda/OneDrive/Documents/R/win-library/3.6'\n",
      "(as 'lib' is unspecified)\n",
      "\n"
     ]
    },
    {
     "name": "stdout",
     "output_type": "stream",
     "text": [
      "package 'tidyverse' successfully unpacked and MD5 sums checked\n",
      "\n",
      "The downloaded binary packages are in\n",
      "\tC:\\Users\\daeda\\AppData\\Local\\Temp\\RtmpuQ4Olb\\downloaded_packages\n"
     ]
    },
    {
     "name": "stderr",
     "output_type": "stream",
     "text": [
      "-- \u001b[1mAttaching packages\u001b[22m --------------------------------------- tidyverse 1.3.0 --\n",
      "\n",
      "\u001b[32mv\u001b[39m \u001b[34mggplot2\u001b[39m 3.3.0            \u001b[32mv\u001b[39m \u001b[34mpurrr  \u001b[39m 0.3.3       \n",
      "\u001b[32mv\u001b[39m \u001b[34mtibble \u001b[39m 2.99.99.\u001b[31m9014\u001b[39m     \u001b[32mv\u001b[39m \u001b[34mdplyr  \u001b[39m 0.8.99.\u001b[31m9000\u001b[39m \n",
      "\u001b[32mv\u001b[39m \u001b[34mtidyr  \u001b[39m 1.0.2            \u001b[32mv\u001b[39m \u001b[34mstringr\u001b[39m 1.4.0       \n",
      "\u001b[32mv\u001b[39m \u001b[34mreadr  \u001b[39m 1.3.1            \u001b[32mv\u001b[39m \u001b[34mforcats\u001b[39m 0.4.0       \n",
      "\n",
      "-- \u001b[1mConflicts\u001b[22m ------------------------------------------ tidyverse_conflicts() --\n",
      "\u001b[31mx\u001b[39m \u001b[34mdplyr\u001b[39m::\u001b[32mfilter()\u001b[39m masks \u001b[34mstats\u001b[39m::filter()\n",
      "\u001b[31mx\u001b[39m \u001b[34mdplyr\u001b[39m::\u001b[32mlag()\u001b[39m    masks \u001b[34mstats\u001b[39m::lag()\n",
      "\u001b[31mx\u001b[39m \u001b[34mdplyr\u001b[39m::\u001b[32mselect()\u001b[39m masks \u001b[34mMASS\u001b[39m::select()\n",
      "\n",
      "Installing package into 'C:/Users/daeda/OneDrive/Documents/R/win-library/3.6'\n",
      "(as 'lib' is unspecified)\n",
      "\n"
     ]
    },
    {
     "name": "stdout",
     "output_type": "stream",
     "text": [
      "package 'caret' successfully unpacked and MD5 sums checked\n",
      "\n",
      "The downloaded binary packages are in\n",
      "\tC:\\Users\\daeda\\AppData\\Local\\Temp\\RtmpuQ4Olb\\downloaded_packages\n"
     ]
    },
    {
     "name": "stderr",
     "output_type": "stream",
     "text": [
      "Loading required package: lattice\n",
      "\n",
      "\n",
      "Attaching package: 'caret'\n",
      "\n",
      "\n",
      "The following object is masked from 'package:purrr':\n",
      "\n",
      "    lift\n",
      "\n",
      "\n",
      "Installing package into 'C:/Users/daeda/OneDrive/Documents/R/win-library/3.6'\n",
      "(as 'lib' is unspecified)\n",
      "\n"
     ]
    },
    {
     "name": "stdout",
     "output_type": "stream",
     "text": [
      "package 'mice' successfully unpacked and MD5 sums checked\n"
     ]
    },
    {
     "name": "stderr",
     "output_type": "stream",
     "text": [
      "Warning message:\n",
      "\"cannot remove prior installation of package 'mice'\"\n",
      "Warning message in file.copy(savedcopy, lib, recursive = TRUE):\n",
      "\"problem copying C:\\Users\\daeda\\OneDrive\\Documents\\R\\win-library\\3.6\\00LOCK\\mice\\libs\\x64\\mice.dll to C:\\Users\\daeda\\OneDrive\\Documents\\R\\win-library\\3.6\\mice\\libs\\x64\\mice.dll: Permission denied\"\n",
      "Warning message:\n",
      "\"restored 'mice'\"\n"
     ]
    },
    {
     "name": "stdout",
     "output_type": "stream",
     "text": [
      "\n",
      "The downloaded binary packages are in\n",
      "\tC:\\Users\\daeda\\AppData\\Local\\Temp\\RtmpuQ4Olb\\downloaded_packages\n"
     ]
    },
    {
     "name": "stderr",
     "output_type": "stream",
     "text": [
      "\n",
      "Attaching package: 'mice'\n",
      "\n",
      "\n",
      "The following object is masked from 'package:tidyr':\n",
      "\n",
      "    complete\n",
      "\n",
      "\n",
      "The following objects are masked from 'package:base':\n",
      "\n",
      "    cbind, rbind\n",
      "\n",
      "\n"
     ]
    }
   ],
   "source": [
    "#Installing packages and loading them into the enviroment\n",
    "install.packages(\"MASS\")\n",
    "library(\"MASS\")\n",
    "install.packages(\"missMDA\")\n",
    "library(\"missMDA\")\n",
    "install.packages(\"tidyverse\")\n",
    "library(\"tidyverse\")\n",
    "install.packages(\"caret\")\n",
    "library(\"caret\")\n",
    "install.packages(\"mice\")\n",
    "library(\"mice\")"
   ]
  },
  {
   "cell_type": "code",
   "execution_count": 2,
   "metadata": {},
   "outputs": [],
   "source": [
    "#Loading all needed files,dropping first two coloumns, which are not needed for analysis (ID, species)\n",
    "ionomics <- read.csv('spec_shoot_xyz_concat.csv', colClasses =c(\"NULL\",\"NULL\",NA,NA,NA,NA,NA,NA,NA,NA,NA,NA,NA,NA,NA,\n",
    "                                                                    NA,NA,NA,NA,NA,NA,NA))\n",
    "hybrids <- read.csv('spec_shoot_xyz_concat_unk_only.csv', colClasses = c(\"NULL\",\"NULL\",NA,NA,NA,NA,NA,NA,NA,NA,NA,NA,NA,NA,NA,\n",
    "                                                                    NA,NA,NA,NA,NA,NA,NA))\n",
    "\n",
    "#Imputation via missMDA\n",
    "imputeIonomics <- imputePCA(ionomics, method = \"Regularized\")"
   ]
  },
  {
   "cell_type": "code",
   "execution_count": 3,
   "metadata": {},
   "outputs": [
    {
     "name": "stdout",
     "output_type": "stream",
     "text": [
      "\n",
      " iter imp variable\n",
      "  1   1  S34_X\n",
      "  2   1  S34_X\n",
      "  3   1  S34_X\n",
      "  4   1  S34_X\n",
      "  5   1  S34_X\n"
     ]
    }
   ],
   "source": [
    "#Imputation via Mice\n",
    "# TODO add in fit graphics and missing data quantification\n",
    "temp <- mice(ionomics, m = 1, maxit = 5, method = \"norm.boot\", seed = 567)\n",
    "ionomicsComplete <- complete(temp,1)"
   ]
  },
  {
   "cell_type": "code",
   "execution_count": 4,
   "metadata": {},
   "outputs": [
    {
     "data": {
      "text/html": [
       "0.810342145325635"
      ],
      "text/latex": [
       "0.810342145325635"
      ],
      "text/markdown": [
       "0.810342145325635"
      ],
      "text/plain": [
       "[1] 0.8103421"
      ]
     },
     "metadata": {},
     "output_type": "display_data"
    },
    {
     "data": {
      "text/html": [
       "0.810322698936552"
      ],
      "text/latex": [
       "0.810322698936552"
      ],
      "text/markdown": [
       "0.810322698936552"
      ],
      "text/plain": [
       "[1] 0.8103227"
      ]
     },
     "metadata": {},
     "output_type": "display_data"
    }
   ],
   "source": [
    "#data imputed with missMDA regularized method\n",
    "mean.impute <- 0 #Start our average with 0\n",
    "for (x in 1:10000){ # run 10000 permutations\n",
    "    set.seed(x) #cycle through many random generator seeds\n",
    "    training.samples.impute <- imputeIonomics$completeObs[,2] %>%\n",
    "        createDataPartition(p = 0.8, list = FALSE) #split the data into training (80%) and testing (20%)\n",
    "    train.data.impute <- imputeIonomics$completeObs[training.samples.impute, ] #generate training set\n",
    "    test.data.impute <- imputeIonomics$completeObs[-training.samples.impute, ] #generate test set\n",
    "    train.data.impute <- unlist(train.data.impute) #typecast from matrix into dataframe\n",
    "    test.data.impute <- unlist(test.data.impute)\n",
    "    train.data.impute <- as.data.frame(train.data.impute)\n",
    "    test.data.impute <- as.data.frame(test.data.impute)\n",
    "    model.impute <- lda(spec_as_int~., data = train.data.impute) #generate the LDA model\n",
    "    predictions.impute <- model.impute %>% predict(test.data.impute) #predict the species of individuals in our test set based off of this model\n",
    "    mean.impute = mean.impute + mean(predictions.impute$class==test.data.impute$spec_as_int) #measure how often this prediction is correct, then add it to a running total\n",
    "}\n",
    "mean.impute = mean.impute/9999 #divide running total by number of runs to find our average\n",
    "mean.impute #print this average to the screen\n",
    "\n",
    "#data imputed with mice, norm.boot method\n",
    "mean.mice = 0 #Start our average with 0\n",
    "for (x in 1:10000){ #run 10000 permutations\n",
    "    set.seed(x)  #cycle through many random generator seeds\n",
    "    training.samples.mice <- ionomicsComplete[,2] %>%\n",
    "        createDataPartition(p = 0.8, list = FALSE) #split the data into training (80%) and testing (20%)\n",
    "    train.data.mice <- ionomicsComplete[training.samples.mice, ] #generate training set\n",
    "    test.data.mice <- ionomicsComplete[-training.samples.mice, ] #generate test set\n",
    "    model.mice <- lda(spec_as_int~., data = train.data.mice) #generate the LDA model\n",
    "    predictions.mice <- model.mice %>% predict(test.data.mice) #predict the species of individuals in our test set based off of this model\n",
    "    mean.mice = mean.mice + mean(predictions.mice$class==test.data.mice$spec_as_int) #measure how often this prediction is correct, then add it to a running total\n",
    "}\n",
    "mean.mice = mean.mice/9999 #divide running total by number of runs to find our average\n",
    "mean.mice #print this average to the screen"
   ]
  },
  {
   "cell_type": "markdown",
   "metadata": {},
   "source": [
    "|species|spec_as_int|\n",
    "|---|---|\n",
    "|acerifolia_x|1|\n",
    "|cinerea_x|3|\n",
    "|labrusca_x|4|\n",
    "|riparia_x|6|\n",
    "|rupestris_x|7|\n",
    "|vulpina_x|8|"
   ]
  },
  {
   "cell_type": "code",
   "execution_count": 5,
   "metadata": {},
   "outputs": [],
   "source": [
    "df.impute <- as.data.frame(unlist(imputeIonomics$completeObs))\n",
    "lda.impute <- lda(spec_as_int~., data = df.impute)\n",
    "pred.impute <- predict(lda.impute)\n",
    "pred.hybrids <- lda.impute %>% predict(hybrids)"
   ]
  },
  {
   "cell_type": "code",
   "execution_count": 6,
   "metadata": {},
   "outputs": [],
   "source": [
    "viz.impute <- data.frame(spec = df.impute[1], lda = pred.impute$x)\n",
    "viz.hybrids <- data.frame(spec = hybrids[1], lda = pred.hybrids$x)\n",
    "viz.impute$spec = as.factor(viz.impute$spec)\n",
    "viz.hybrids$spec = as.factor(viz.hybrids$spec)"
   ]
  },
  {
   "cell_type": "code",
   "execution_count": 23,
   "metadata": {},
   "outputs": [
    {
     "data": {
      "image/png": "[encoded data removed]",
      "text/plain": [
       "plot without title"
      ]
     },
     "metadata": {
      "image/png": {
       "height": 420,
       "width": 420
      },
      "text/plain": {
       "height": 420,
       "width": 420
      }
     },
     "output_type": "display_data"
    }
   ],
   "source": [
    "p <- ggplot(data = NULL) \n",
    "p <- p + stat_ellipse(data = viz.impute, aes(x = lda.LD1, y = lda.LD2, color = spec, fill = spec),geom = \"polygon\", alpha = .25) \n",
    "p <- p + geom_point(data = viz.hybrids, aes(x = lda.LD1, y = lda.LD2, color = spec))\n",
    "p"
   ]
  },
  {
   "cell_type": "code",
   "execution_count": null,
   "metadata": {},
   "outputs": [],
   "source": [
    "# Split the data into training (80%) and test set (20%)\n",
    "#data set imputed via mice\n",
    "set.seed(321)\n",
    "training.samples <- ionomicsComplete[,2] %>%\n",
    "  createDataPartition(p = 0.8, list = FALSE)\n",
    "train.data <- ionomicsComplete[training.samples, ]\n",
    "test.data <- ionomicsComplete[-training.samples, ]"
   ]
  },
  {
   "cell_type": "code",
   "execution_count": null,
   "metadata": {},
   "outputs": [],
   "source": [
    "#unimputed\n",
    "training.samples.raw <- ionomics[,2] %>%\n",
    "  createDataPartition(p = 0.8, list = FALSE)\n",
    "train.data.raw <- ionomics[training.samples.raw, ]\n",
    "test.data.raw <- ionomics[-training.samples.raw, ]"
   ]
  },
  {
   "cell_type": "code",
   "execution_count": null,
   "metadata": {},
   "outputs": [],
   "source": [
    "#data set imputed via missMDA\n",
    "training.samples.impute <- imputeIonomics$completeObs[,2] %>%\n",
    "  createDataPartition(p = 0.8, list = FALSE)\n",
    "train.data.impute <- imputeIonomics$completeObs[training.samples.impute, ]\n",
    "test.data.impute <- imputeIonomics$completeObs[-training.samples.impute, ]\n",
    "#typecasting from matrix to dataframe\n",
    "train.data.impute <- unlist(train.data.impute)\n",
    "test.data.impute <- unlist(test.data.impute)\n",
    "train.data.impute <- as.data.frame(train.data.impute)\n",
    "test.data.impute <- as.data.frame(test.data.impute)"
   ]
  },
  {
   "cell_type": "code",
   "execution_count": null,
   "metadata": {},
   "outputs": [],
   "source": [
    "# Fit the model\n",
    "#data set imputed with mice\n",
    "model <- lda(spec_as_int~., data = train.data)\n",
    "# Make predictions\n",
    "predictions <- model %>% predict(test.data)\n",
    "# Model accuracy\n",
    "mean(predictions$class==test.data$spec_as_int)\n",
    "model"
   ]
  },
  {
   "cell_type": "code",
   "execution_count": null,
   "metadata": {},
   "outputs": [],
   "source": [
    "#unimputed\n",
    "model.raw <- lda(spec_as_int~., data = train.data.raw)\n",
    "# Make predictions\n",
    "predictions.raw <- model.raw %>% predict(test.data.raw)\n",
    "# Model accuracy\n",
    "mean(predictions.raw$class==test.data.raw$spec_as_int)\n",
    "model.raw"
   ]
  },
  {
   "cell_type": "code",
   "execution_count": null,
   "metadata": {},
   "outputs": [],
   "source": [
    "#data set imputed with missMDA\n",
    "model.impute <- lda(spec_as_int~., data = train.data.impute)\n",
    "# Make predictions\n",
    "predictions.impute <- model.impute %>% predict(test.data.impute)\n",
    "# Model accuracy\n",
    "mean(predictions.impute$class == test.data.impute$spec_as_int)\n",
    "model.impute\n",
    "#TODO format data generated by model"
   ]
  },
  {
   "cell_type": "code",
   "execution_count": null,
   "metadata": {},
   "outputs": [],
   "source": [
    "plot(model,main = \"Mice imputed\")\n",
    "plot(model.impute, main = \"missMDA imputed\")\n",
    "plot(model.raw, main = \"Raw\")\n",
    "#TODO a better way to do this "
   ]
  },
  {
   "cell_type": "code",
   "execution_count": null,
   "metadata": {},
   "outputs": [],
   "source": [
    "#mice imputed data\n",
    "# Predicted classes\n",
    "head(predictions$class, 6)\n",
    "# Predicted probabilities of class memebership.\n",
    "head(predictions$posterior, 6) \n",
    "# Linear discriminants\n",
    "head(predictions$x, 3)"
   ]
  },
  {
   "cell_type": "code",
   "execution_count": null,
   "metadata": {},
   "outputs": [],
   "source": [
    "#missMDA imputed data\n",
    "# Predicted classes\n",
    "head(predictions.impute$class, 6)\n",
    "# Predicted probabilities of class memebership.\n",
    "head(predictions.impute$posterior, 6) \n",
    "# Linear discriminants\n",
    "head(predictions.impute$x, 3)"
   ]
  },
  {
   "cell_type": "code",
   "execution_count": null,
   "metadata": {},
   "outputs": [],
   "source": [
    "#raw data\n",
    "# Predicted classes\n",
    "head(predictions.raw$class, 6)\n",
    "# Predicted probabilities of class memebership.\n",
    "head(predictions.raw$posterior, 6) \n",
    "# Linear discriminants\n",
    "head(predictions.raw$x, 3)"
   ]
  },
  {
   "cell_type": "code",
   "execution_count": null,
   "metadata": {},
   "outputs": [],
   "source": [
    "#raw data\n",
    "table.raw <- table(Predicted=predictions.raw$class, Species=test.data.raw$spec_as_int)\n",
    "confusionMatrix(table.raw)"
   ]
  },
  {
   "cell_type": "code",
   "execution_count": null,
   "metadata": {},
   "outputs": [],
   "source": [
    "#missMDA data\n",
    "table.impute <- table(Predicted=predictions.impute$class, Species=test.data.impute$spec_as_int)\n",
    "con <- confusionMatrix(table.impute)\n",
    "names(con)\n",
    "names(con$overall)"
   ]
  },
  {
   "cell_type": "code",
   "execution_count": null,
   "metadata": {},
   "outputs": [],
   "source": [
    "#mice data\n",
    "table <- table(Predicted=predictions$class, Species=test.data$spec_as_int)\n",
    "confusionMatrix(table)"
   ]
  }
 ],
 "metadata": {
  "kernelspec": {
   "display_name": "R",
   "language": "R",
   "name": "ir"
  },
  "language_info": {
   "codemirror_mode": "r",
   "file_extension": ".r",
   "mimetype": "text/x-r-source",
   "name": "R",
   "pygments_lexer": "r",
   "version": "3.6.3"
  }
 },
 "nbformat": 4,
 "nbformat_minor": 4
}
